{
 "cells": [
  {
   "cell_type": "code",
   "execution_count": 13,
   "metadata": {},
   "outputs": [],
   "source": [
    "import pickle\n",
    "with open('../resource/openstack_test_no_its.pkl', 'rb') as f:\n",
    "    load = pickle.load(f)"
   ]
  },
  {
   "cell_type": "code",
   "execution_count": 14,
   "metadata": {},
   "outputs": [],
   "source": [
    "metrics = [record.drop('strata') for record in load[4]]"
   ]
  },
  {
   "cell_type": "code",
   "execution_count": 15,
   "metadata": {},
   "outputs": [],
   "source": [
    "new_list = [load[0],load[1], load[2], load[3], metrics, load[5]]"
   ]
  },
  {
   "cell_type": "code",
   "execution_count": 16,
   "metadata": {},
   "outputs": [],
   "source": [
    "with open('../resource/openstack_test_no_its2.pkl', 'wb') as f:\n",
    "    pickle.dump(new_list, f)"
   ]
  },
  {
   "cell_type": "code",
   "execution_count": 17,
   "metadata": {},
   "outputs": [],
   "source": [
    "import pickle\n",
    "with open('../resource/qt_test_no_its2.pkl', 'rb') as f:\n",
    "    test = pickle.load(f)"
   ]
  },
  {
   "cell_type": "code",
   "execution_count": 19,
   "metadata": {},
   "outputs": [
    {
     "data": {
      "text/plain": [
       "la              6\n",
       "ld              0\n",
       "nf              1\n",
       "nd              1\n",
       "ns              1\n",
       "ent           0.0\n",
       "revd         True\n",
       "nrev          1.0\n",
       "rtime    234477.0\n",
       "hcmt          2.0\n",
       "self        False\n",
       "ndev           17\n",
       "age        8315.0\n",
       "nuc            59\n",
       "app           1.0\n",
       "aexp          487\n",
       "rexp       3978.0\n",
       "oexp       4242.0\n",
       "arexp         369\n",
       "rrexp      2849.0\n",
       "orexp      3044.0\n",
       "asexp         447\n",
       "rsexp      3164.0\n",
       "osexp      3408.0\n",
       "asawr    0.022407\n",
       "rsawr    0.158297\n",
       "osawr    0.170501\n",
       "churn           6\n",
       "fix         False\n",
       "Name: 003a52cc4d37836f87712379a6819f8bf31bbce5, dtype: object"
      ]
     },
     "execution_count": 19,
     "metadata": {},
     "output_type": "execute_result"
    }
   ],
   "source": [
    "test[4][0]\n",
    "# list(set(test[1]))"
   ]
  },
  {
   "cell_type": "code",
   "execution_count": 1,
   "metadata": {},
   "outputs": [],
   "source": [
    "import pickle\n",
    "with open('../resource/openstack_test_no_its2.pkl', 'rb') as f:\n",
    "    test = pickle.load(f)"
   ]
  },
  {
   "cell_type": "code",
   "execution_count": 2,
   "metadata": {},
   "outputs": [
    {
     "data": {
      "text/plain": [
       "['revert',\n",
       " 'initialize_connect',\n",
       " 'chang',\n",
       " 'a',\n",
       " 'chang',\n",
       " 'wa',\n",
       " 'merg',\n",
       " 'that',\n",
       " 'reusult',\n",
       " 'in',\n",
       " 'interitt',\n",
       " 'gate',\n",
       " 'failur',\n",
       " '.',\n",
       " 'it',\n",
       " 'seem',\n",
       " 'that',\n",
       " 'in',\n",
       " 'certain',\n",
       " 'case',\n",
       " 'the',\n",
       " 'intiti',\n",
       " 'is',\n",
       " 'do',\n",
       " 'an',\n",
       " 'updat',\n",
       " 'target',\n",
       " 'and',\n",
       " 'is',\n",
       " 'delet',\n",
       " 'the',\n",
       " 'exist',\n",
       " 'target',\n",
       " 'and',\n",
       " 'not',\n",
       " 'recreat',\n",
       " 'them',\n",
       " '.',\n",
       " 'the',\n",
       " 'idea',\n",
       " 'of',\n",
       " 'thi',\n",
       " 'patch',\n",
       " 'wa',\n",
       " 'to',\n",
       " 'fix',\n",
       " 'up',\n",
       " 'the',\n",
       " 'isci',\n",
       " 'target',\n",
       " 'for',\n",
       " 'case',\n",
       " 'where',\n",
       " 'volum',\n",
       " 'are',\n",
       " 'extend',\n",
       " '.',\n",
       " 'a',\n",
       " 'better',\n",
       " 'solut',\n",
       " 'is',\n",
       " 'in',\n",
       " 'progress',\n",
       " 'that',\n",
       " 'will',\n",
       " 'remov',\n",
       " 'the',\n",
       " 'target',\n",
       " 'creation',\n",
       " 'from',\n",
       " 'the',\n",
       " 'create_volum',\n",
       " 'process',\n",
       " 'altogeth',\n",
       " '.',\n",
       " 'current',\n",
       " 'we',\n",
       " 'seem',\n",
       " 'to',\n",
       " 'have',\n",
       " 'create_export',\n",
       " ',',\n",
       " 'ensure_export',\n",
       " 'and',\n",
       " 'now',\n",
       " 'initi',\n",
       " 'that',\n",
       " 'all',\n",
       " 'are',\n",
       " 'design',\n",
       " 'to',\n",
       " 'do',\n",
       " 'veri',\n",
       " 'similar',\n",
       " 'thing',\n",
       " '.',\n",
       " 'a',\n",
       " 'bug',\n",
       " 'ha',\n",
       " 'been',\n",
       " 'file',\n",
       " 'to',\n",
       " 'address',\n",
       " 'thi',\n",
       " 'and',\n",
       " 'will',\n",
       " 'attempt',\n",
       " 'to',\n",
       " 'collaps',\n",
       " 'these',\n",
       " 'function',\n",
       " 'to',\n",
       " 'be',\n",
       " 'done',\n",
       " 'at',\n",
       " 'attach',\n",
       " 'time',\n",
       " '.',\n",
       " 'thi',\n",
       " 'particular',\n",
       " 'patch',\n",
       " 'in',\n",
       " 'essenc',\n",
       " 'revert',\n",
       " 'two',\n",
       " 'patch',\n",
       " ':',\n",
       " 'commit',\n",
       " ':',\n",
       " '18f8f5be94aae3b1747b143479ea1b188872f000',\n",
       " 'commit',\n",
       " ':',\n",
       " 'a9267644ee09591e2d642d6c1204d94a9fdd8c82',\n",
       " 'change-id',\n",
       " ':',\n",
       " 'ib615847f3cbeb74b1e4416d51730162ad1d07a40',\n",
       " 'closes-bug',\n",
       " ':',\n",
       " '1270608']"
      ]
     },
     "execution_count": 2,
     "metadata": {},
     "output_type": "execute_result"
    }
   ],
   "source": [
    "test[2][0]"
   ]
  },
  {
   "cell_type": "code",
   "execution_count": 6,
   "metadata": {},
   "outputs": [],
   "source": [
    "import pickle\n",
    "with open('../resource/openstack_test2.pkl', 'rb') as f:\n",
    "    test = pickle.load(f)"
   ]
  },
  {
   "cell_type": "code",
   "execution_count": 16,
   "metadata": {},
   "outputs": [],
   "source": [
    "tmp_list = []\n",
    "for i in range(3):\n",
    "    tmp_list2 = []\n",
    "    for j in range(3):\n",
    "        tmp_list2.append(int(i))\n",
    "    tmp_list.append(tmp_list2)"
   ]
  },
  {
   "cell_type": "code",
   "execution_count": 17,
   "metadata": {},
   "outputs": [
    {
     "data": {
      "text/plain": [
       "[[0, 0, 0], [1, 1, 1], [2, 2, 2]]"
      ]
     },
     "execution_count": 17,
     "metadata": {},
     "output_type": "execute_result"
    }
   ],
   "source": [
    "tmp_list"
   ]
  },
  {
   "cell_type": "code",
   "execution_count": 18,
   "metadata": {},
   "outputs": [],
   "source": [
    "import torch\n",
    "test_list = [tmp_list, [1,1,1]]"
   ]
  },
  {
   "cell_type": "code",
   "execution_count": 19,
   "metadata": {},
   "outputs": [
    {
     "data": {
      "text/plain": [
       "[[0, 0, 0], [1, 1, 1], [2, 2, 2]]"
      ]
     },
     "execution_count": 19,
     "metadata": {},
     "output_type": "execute_result"
    }
   ],
   "source": [
    "test_list[0]"
   ]
  },
  {
   "cell_type": "code",
   "execution_count": 20,
   "metadata": {},
   "outputs": [],
   "source": [
    "test_list2 = [torch.LongTensor(data) for data in test_list]"
   ]
  },
  {
   "cell_type": "code",
   "execution_count": 22,
   "metadata": {},
   "outputs": [
    {
     "data": {
      "text/plain": [
       "tensor([[0, 0, 0],\n",
       "        [1, 1, 1],\n",
       "        [2, 2, 2]])"
      ]
     },
     "execution_count": 22,
     "metadata": {},
     "output_type": "execute_result"
    }
   ],
   "source": [
    "test_list2[0]"
   ]
  },
  {
   "cell_type": "code",
   "execution_count": 23,
   "metadata": {},
   "outputs": [
    {
     "data": {
      "text/plain": [
       "[[[0, 0, 0], [1, 1, 1], [2, 2, 2]]]"
      ]
     },
     "execution_count": 23,
     "metadata": {},
     "output_type": "execute_result"
    }
   ],
   "source": [
    "test_list[:-1]"
   ]
  }
 ],
 "metadata": {
  "kernelspec": {
   "display_name": "test",
   "language": "python",
   "name": "python3"
  },
  "language_info": {
   "codemirror_mode": {
    "name": "ipython",
    "version": 3
   },
   "file_extension": ".py",
   "mimetype": "text/x-python",
   "name": "python",
   "nbconvert_exporter": "python",
   "pygments_lexer": "ipython3",
   "version": "3.9.16"
  }
 },
 "nbformat": 4,
 "nbformat_minor": 2
}
