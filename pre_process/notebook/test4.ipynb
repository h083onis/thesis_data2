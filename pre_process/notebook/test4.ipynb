{
 "cells": [
  {
   "cell_type": "code",
   "execution_count": 1,
   "metadata": {},
   "outputs": [],
   "source": [
    "import json\n",
    "import re"
   ]
  },
  {
   "cell_type": "code",
   "execution_count": 10,
   "metadata": {},
   "outputs": [],
   "source": [
    "# json_open = open('../resource/pre_process_data/qt.json', 'r')\n",
    "# json_load = json.load(json_open)"
   ]
  },
  {
   "cell_type": "code",
   "execution_count": 39,
   "metadata": {},
   "outputs": [],
   "source": [
    "# its_list = []\n",
    "# pattern = r'QTBUG-\\d+'\n",
    "# repatter = re.compile(pattern)\n",
    "# for commit in json_load:\n",
    "#     commit_dict = {}\n",
    "#     commit_dict['commit_id'] = commit['commit_id']\n",
    "#     result = repatter.findall(commit['msg'])\n",
    "#     if result == []:\n",
    "#         continue\n",
    "#     commit_dict['issue_id'] = result\n",
    "#     its_list.append(commit_dict)\n",
    "\n",
    "# with open('qt_its.json', 'w') as f:\n",
    "#     json.dump(its_list, f, indent=2)\n",
    "    "
   ]
  },
  {
   "cell_type": "code",
   "execution_count": 40,
   "metadata": {},
   "outputs": [],
   "source": [
    "json_open = open('../resource/pre_process_data/openstack.json', 'r')\n",
    "json_load2 = json.load(json_open)"
   ]
  },
  {
   "cell_type": "code",
   "execution_count": 55,
   "metadata": {},
   "outputs": [
    {
     "name": "stdout",
     "output_type": "stream",
     "text": [
      "Add LUN# to provider_location in Nexenta driver.\n",
      "\n",
      "Fixes bug 1088411. Lets Nexenta driver work with any iscsi_helper.\n",
      "\n",
      "Change-Id: Ib70ed94fa472c7281de077f0f36575216741678f\n",
      "\n"
     ]
    }
   ],
   "source": [
    "text = json_load2[0]['msg']\n",
    "print(text)"
   ]
  },
  {
   "cell_type": "code",
   "execution_count": 76,
   "metadata": {},
   "outputs": [
    {
     "name": "stdout",
     "output_type": "stream",
     "text": [
      "['1088411']\n"
     ]
    }
   ],
   "source": [
    "pattern = r'\\bbug.*\\b(\\d{2,})\\b'\n",
    "repatter = re.compile(pattern,re.IGNORECASE)\n",
    "result = repatter.findall(text)\n",
    "print(result)"
   ]
  },
  {
   "cell_type": "code",
   "execution_count": 78,
   "metadata": {},
   "outputs": [],
   "source": [
    "its_list = []\n",
    "#()を使うとその部分だけ抽出できる\n",
    "pattern = r'bug.*\\b(\\d{6,})'\n",
    "repatter = re.compile(pattern,re.IGNORECASE)\n",
    "for commit in json_load2:\n",
    "    commit_dict = {}\n",
    "    commit_dict['commit_id'] = commit['commit_id']\n",
    "    result = repatter.findall(commit['msg'])\n",
    "    if result == []:\n",
    "        continue\n",
    "    commit_dict['issue_id'] = result\n",
    "    its_list.append(commit_dict)\n",
    "\n",
    "with open('openstack_its2.json', 'w') as f:\n",
    "    json.dump(its_list, f, indent=2)"
   ]
  }
 ],
 "metadata": {
  "kernelspec": {
   "display_name": "test",
   "language": "python",
   "name": "python3"
  },
  "language_info": {
   "codemirror_mode": {
    "name": "ipython",
    "version": 3
   },
   "file_extension": ".py",
   "mimetype": "text/x-python",
   "name": "python",
   "nbconvert_exporter": "python",
   "pygments_lexer": "ipython3",
   "version": "3.9.16"
  }
 },
 "nbformat": 4,
 "nbformat_minor": 2
}
