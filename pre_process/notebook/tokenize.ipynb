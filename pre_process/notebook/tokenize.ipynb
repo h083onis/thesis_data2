{
 "cells": [
  {
   "cell_type": "code",
   "execution_count": 9,
   "metadata": {},
   "outputs": [],
   "source": [
    "from pygments import lex\n",
    "from pygments.lexers import PythonLexer\n",
    "from pygments.lexers import CLexer"
   ]
  },
  {
   "cell_type": "code",
   "execution_count": 2,
   "metadata": {},
   "outputs": [
    {
     "name": "stdout",
     "output_type": "stream",
     "text": [
      "(Token.Keyword, 'def')\n",
      "(Token.Text, ' ')\n",
      "(Token.Name.Function, 'get_version_from_pkg_info')\n",
      "(Token.Punctuation, '(')\n",
      "(Token.Name, 'package_name')\n",
      "(Token.Punctuation, ')')\n",
      "(Token.Punctuation, ':')\n",
      "(Token.Text.Whitespace, '\\n')\n"
     ]
    }
   ],
   "source": [
    "code = 'def get_version_from_pkg_info(package_name):'\n",
    "tokens = list(lex(code, PythonLexer()))\n",
    "\n",
    "for token in tokens:\n",
    "    print(token)\n",
    "#(Token.Keyword, 'def')\n",
    "#(Token.Text, ' ')\n",
    "#(Token.Name.Function, 'get_version_from_pkg_info')\n",
    "#(Token.Punctuation, '(')\n",
    "#(Token.Name, 'package_name')\n",
    "#(Token.Punctuation, ')')\n",
    "#(Token.Punctuation, ':')\n",
    "#(Token.Text.Whitespace, '\\n')"
   ]
  },
  {
   "cell_type": "code",
   "execution_count": 28,
   "metadata": {},
   "outputs": [
    {
     "name": "stdout",
     "output_type": "stream",
     "text": [
      "#\n",
      "include\n",
      " \n",
      "<\n",
      "qbytearray\n",
      "h\n",
      ">\n"
     ]
    }
   ],
   "source": [
    "import nltk\n",
    "from pygments.token import Token\n",
    "from spiral import ronin\n",
    "from pygments import lex\n",
    "from pygments.lexers import CLexer\n",
    "# code = 'src/corelib/tools/qbytearray.h'\n",
    "# tokens = list(lex(code, CLexer()))\n",
    "# for token in tokens:\n",
    "#     print(token)\n",
    "#     if token[0] in Token.Comment:\n",
    "#         token_list = nltk.word_tokenize(token[1])\n",
    "#         token_list = [ronin.split(tmp) for tmp in token_list]\n",
    "#         print(token_list)\n",
    "\n",
    "    \n",
    "code = '#include <qbytearray.h>'\n",
    "tokens = list(lex(code, CLexer()))\n",
    "for token in tokens:\n",
    "    if token[0] in Token.Comment:\n",
    "        token_list = [tmp for tmp2 in nltk.word_tokenize(token[1]) for tmp in ronin.split(tmp2)]\n",
    "        for tmp in token_list:\n",
    "            print(tmp)\n",
    "    else:\n",
    "        print(token[1])"
   ]
  },
  {
   "cell_type": "code",
   "execution_count": 3,
   "metadata": {},
   "outputs": [
    {
     "name": "stdout",
     "output_type": "stream",
     "text": [
      "['Convert', 'To', 'A', 'UTF8', 'String']\n"
     ]
    }
   ],
   "source": [
    "from spiral import ronin\n",
    "identifiers = 'ConvertToAUTF8String'\n",
    "print(ronin.split(identifiers))\n",
    "# ['Convert', 'To', 'A', 'UTF8', 'String']"
   ]
  },
  {
   "cell_type": "code",
   "execution_count": 23,
   "metadata": {},
   "outputs": [
    {
     "name": "stdout",
     "output_type": "stream",
     "text": [
      "2fd9735e7aee9f6c6c014c3e4d33b420f7ef5375\n",
      "['src/corelib/text/qanystringview.h', 'src/corelib/text/qbytearray.h', 'src/corelib/text/qbytearrayview.h', 'src/corelib/text/qlatin1stringview.h', 'src/corelib/text/qstring.h', 'src/corelib/text/qstringview.h', 'src/corelib/text/qutf8stringview.h', 'src/corelib/tools/qlist.h']\n"
     ]
    }
   ],
   "source": [
    "from git import Repo\n",
    "repo = Repo('../resource/repo/qt/qtbase')\n",
    "commit = repo.commit(rev='HEAD')\n",
    "files = commit.stats.files\n",
    "print(commit.hexsha)\n",
    "print([file for file in files])"
   ]
  },
  {
   "cell_type": "code",
   "execution_count": 26,
   "metadata": {},
   "outputs": [
    {
     "data": {
      "text/plain": [
       "'12'"
      ]
     },
     "execution_count": 26,
     "metadata": {},
     "output_type": "execute_result"
    }
   ],
   "source": [
    "from nltk import stem\n",
    "w = '12'\n",
    "stemmer = stem.PorterStemmer()\n",
    "stemmer.stem(w)"
   ]
  },
  {
   "cell_type": "code",
   "execution_count": null,
   "metadata": {},
   "outputs": [],
   "source": []
  }
 ],
 "metadata": {
  "kernelspec": {
   "display_name": "test",
   "language": "python",
   "name": "python3"
  },
  "language_info": {
   "codemirror_mode": {
    "name": "ipython",
    "version": 3
   },
   "file_extension": ".py",
   "mimetype": "text/x-python",
   "name": "python",
   "nbconvert_exporter": "python",
   "pygments_lexer": "ipython3",
   "version": "3.9.16"
  }
 },
 "nbformat": 4,
 "nbformat_minor": 2
}
