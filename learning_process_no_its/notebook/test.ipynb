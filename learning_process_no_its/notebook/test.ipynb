{
 "cells": [
  {
   "cell_type": "code",
   "execution_count": 3,
   "metadata": {},
   "outputs": [
    {
     "name": "stdout",
     "output_type": "stream",
     "text": [
      "(tensor([ 0.4804,  2.0605, -1.2786,  1.2366,  1.9014,  0.0617, -0.7193,  0.2368,\n",
      "         0.5586, -0.2334]), tensor([-1.6933, -1.6290,  1.1134, -1.0186,  0.7134, -0.1536,  0.6368,  0.7000,\n",
      "        -0.1847, -0.6507]), tensor([-0.2124,  1.3236, -1.8000, -0.1101, -0.2059,  0.3580, -0.4133,  0.6722,\n",
      "        -0.6634, -0.1120]), tensor([ 1.0803, -1.5710, -0.0137, -0.5969,  0.8252,  0.4748,  0.4253,  0.8859,\n",
      "         1.1500, -0.1496]))\n",
      "Subset Features: tensor([[ 0.4804,  2.0605, -1.2786,  1.2366,  1.9014,  0.0617, -0.7193,  0.2368,\n",
      "          0.5586, -0.2334],\n",
      "        [-1.6933, -1.6290,  1.1134, -1.0186,  0.7134, -0.1536,  0.6368,  0.7000,\n",
      "         -0.1847, -0.6507],\n",
      "        [-0.2124,  1.3236, -1.8000, -0.1101, -0.2059,  0.3580, -0.4133,  0.6722,\n",
      "         -0.6634, -0.1120],\n",
      "        [ 1.0803, -1.5710, -0.0137, -0.5969,  0.8252,  0.4748,  0.4253,  0.8859,\n",
      "          1.1500, -0.1496]])\n",
      "Subset Labels: tensor([1, 0, 0, 1])\n"
     ]
    }
   ],
   "source": [
    "import torch\n",
    "from torch.utils.data.dataset import Subset\n",
    "\n",
    "# 仮想のデータセットを作成\n",
    "# 例として、特徴量とラベルを持つテンソルを作成\n",
    "features = torch.randn(100, 10)  # 100サンプル、10次元の特徴量\n",
    "labels = torch.randint(0, 2, (100,))  # 0または1のラベル\n",
    "\n",
    "# データセットを作成\n",
    "dataset = list(zip(features, labels))\n",
    "\n",
    "# Subsetを作成\n",
    "indices = [0, 1, 2, 3]  # Subsetに含めるデータのインデックス\n",
    "my_subset = Subset(dataset, indices)\n",
    "\n",
    "# Subsetから特徴量とラベルを取り出す\n",
    "subset_features, subset_labels = zip(*my_subset)\n",
    "print(subset_features)\n",
    "\n",
    "# 特徴量とラベルをテンソルに変換\n",
    "subset_features = torch.stack(subset_features)\n",
    "subset_labels = torch.tensor(subset_labels)\n",
    "\n",
    "# 特徴量とラベルのテンソルを表示\n",
    "print(\"Subset Features:\", subset_features)\n",
    "print(\"Subset Labels:\", subset_labels)\n"
   ]
  },
  {
   "cell_type": "code",
   "execution_count": 2,
   "metadata": {},
   "outputs": [
    {
     "ename": "ValueError",
     "evalue": "too many values to unpack (expected 2)",
     "output_type": "error",
     "traceback": [
      "\u001b[1;31m---------------------------------------------------------------------------\u001b[0m",
      "\u001b[1;31mValueError\u001b[0m                                Traceback (most recent call last)",
      "\u001b[1;32mc:\\Users\\masak\\workspace\\lab\\thesis_data2\\learning_process\\notebook\\test.ipynb Cell 2\u001b[0m line \u001b[0;36m2\n\u001b[0;32m     <a href='vscode-notebook-cell:/c%3A/Users/masak/workspace/lab/thesis_data2/learning_process/notebook/test.ipynb#X10sZmlsZQ%3D%3D?line=13'>14</a>\u001b[0m my_subset \u001b[39m=\u001b[39m Subset(dataset, indices)\n\u001b[0;32m     <a href='vscode-notebook-cell:/c%3A/Users/masak/workspace/lab/thesis_data2/learning_process/notebook/test.ipynb#X10sZmlsZQ%3D%3D?line=15'>16</a>\u001b[0m \u001b[39m# Subsetから特徴量とラベルを取り出す\u001b[39;00m\n\u001b[0;32m     <a href='vscode-notebook-cell:/c%3A/Users/masak/workspace/lab/thesis_data2/learning_process/notebook/test.ipynb#X10sZmlsZQ%3D%3D?line=16'>17</a>\u001b[0m \u001b[39m# subset_features_labels = [(feat, label) for feat, label, _ in my_subset]\u001b[39;00m\n\u001b[0;32m     <a href='vscode-notebook-cell:/c%3A/Users/masak/workspace/lab/thesis_data2/learning_process/notebook/test.ipynb#X10sZmlsZQ%3D%3D?line=17'>18</a>\u001b[0m \n\u001b[0;32m     <a href='vscode-notebook-cell:/c%3A/Users/masak/workspace/lab/thesis_data2/learning_process/notebook/test.ipynb#X10sZmlsZQ%3D%3D?line=18'>19</a>\u001b[0m \u001b[39m# 特徴量とラベルをテンソルに変換\u001b[39;00m\n\u001b[1;32m---> <a href='vscode-notebook-cell:/c%3A/Users/masak/workspace/lab/thesis_data2/learning_process/notebook/test.ipynb#X10sZmlsZQ%3D%3D?line=19'>20</a>\u001b[0m subset_features, subset_labels \u001b[39m=\u001b[39m \u001b[39mzip\u001b[39m(\u001b[39m*\u001b[39mmy_subset)\n\u001b[0;32m     <a href='vscode-notebook-cell:/c%3A/Users/masak/workspace/lab/thesis_data2/learning_process/notebook/test.ipynb#X10sZmlsZQ%3D%3D?line=20'>21</a>\u001b[0m subset_features \u001b[39m=\u001b[39m torch\u001b[39m.\u001b[39mstack(subset_features)\n\u001b[0;32m     <a href='vscode-notebook-cell:/c%3A/Users/masak/workspace/lab/thesis_data2/learning_process/notebook/test.ipynb#X10sZmlsZQ%3D%3D?line=21'>22</a>\u001b[0m subset_labels \u001b[39m=\u001b[39m torch\u001b[39m.\u001b[39mtensor(subset_labels)\n",
      "\u001b[1;31mValueError\u001b[0m: too many values to unpack (expected 2)"
     ]
    }
   ],
   "source": [
    "from torch.utils.data.dataset import Subset\n",
    "\n",
    "# 仮想のデータセットを作成\n",
    "# 例として、特徴量、ラベル、重みを持つテンソルを作成\n",
    "features = torch.randn(100, 10)  # 100サンプル、10次元の特徴量\n",
    "labels = torch.randint(0, 2, (100,))  # 0または1のラベル\n",
    "weights = torch.rand(100)  # 重み\n",
    "\n",
    "# データセットを作成\n",
    "dataset = list(zip(features, labels, weights))\n",
    "\n",
    "# Subsetを作成\n",
    "indices = [0, 1, 2, 3]  # Subsetに含めるデータのインデックス\n",
    "my_subset = Subset(dataset, indices)\n",
    "\n",
    "# Subsetから特徴量とラベルを取り出す\n",
    "# subset_features_labels = [(feat, label) for feat, label, _ in my_subset]\n",
    "\n",
    "# 特徴量とラベルをテンソルに変換\n",
    "subset_features, subset_labels = zip(*my_subset)\n",
    "subset_features = torch.stack(subset_features)\n",
    "subset_labels = torch.tensor(subset_labels)\n",
    "\n",
    "# 特徴量とラベルのテンソルを表示\n",
    "print(\"Subset Features:\", subset_features)\n",
    "print(\"Subset Labels:\", subset_labels)\n"
   ]
  },
  {
   "cell_type": "code",
   "execution_count": 1,
   "metadata": {},
   "outputs": [
    {
     "name": "stdout",
     "output_type": "stream",
     "text": [
      "tensor([[ 0.1541, -0.1982, -0.5346],\n",
      "        [-1.2787, -1.1147,  1.4617],\n",
      "        [-1.4033, -0.1882, -0.9098]])\n",
      "tensor([[-1.0031, -0.7041, -0.3289],\n",
      "        [-0.0409,  1.2207, -0.0297],\n",
      "        [-0.9992, -0.9276,  1.2402]])\n",
      "tensor([[ 1.8214, -0.3050, -2.2307],\n",
      "        [-0.3143,  0.1313, -1.2995],\n",
      "        [-1.2527,  1.9964,  0.8039]])\n",
      "tensor([[-0.7993,  1.9684,  2.2722],\n",
      "        [-0.4063, -0.3110, -0.1858],\n",
      "        [-1.0147,  0.3165, -0.7351]])\n",
      "tensor([[-0.6099, -1.3116,  0.1800],\n",
      "        [ 0.0155, -0.0152,  0.0637],\n",
      "        [ 1.4703,  0.1804, -1.3540]])\n"
     ]
    }
   ],
   "source": [
    "import torch\n",
    "\n",
    "# テンソル型が入ったリストを作成\n",
    "tensor_list = [torch.randn(3, 3) for _ in range(5)]\n",
    "\n",
    "# リストの内容を表示\n",
    "for tensor in tensor_list:\n",
    "    print(tensor)\n"
   ]
  }
 ],
 "metadata": {
  "kernelspec": {
   "display_name": "test",
   "language": "python",
   "name": "python3"
  },
  "language_info": {
   "codemirror_mode": {
    "name": "ipython",
    "version": 3
   },
   "file_extension": ".py",
   "mimetype": "text/x-python",
   "name": "python",
   "nbconvert_exporter": "python",
   "pygments_lexer": "ipython3",
   "version": "3.9.16"
  }
 },
 "nbformat": 4,
 "nbformat_minor": 2
}
