{
 "cells": [
  {
   "cell_type": "code",
   "execution_count": 7,
   "metadata": {},
   "outputs": [],
   "source": [
    "import pickle\n",
    "import pandas as pd\n",
    "import numpy as np"
   ]
  },
  {
   "cell_type": "code",
   "execution_count": 5,
   "metadata": {},
   "outputs": [],
   "source": [
    "df = pd.read_csv('../resource/openstack.csv', index_col=0, header=0)\n",
    "with open('../resource/openstack_train.pkl', 'rb') as f_train, open('../resource/openstack_test.pkl', 'rb') as f_test:\n",
    "        train_data = pickle.load(f_train)\n",
    "        test_data = pickle.load(f_test)\n",
    "commit_id = train_data[0] + test_data[0]\n",
    "df = df[df['commit_id'].isin(commit_id)]"
   ]
  },
  {
   "cell_type": "code",
   "execution_count": 11,
   "metadata": {},
   "outputs": [],
   "source": [
    "data = df.drop(['commit_id', 'author_date', 'bugcount', 'fixcount','buggy', 'bugdens'], axis=1)\n",
    "label = df['buggy'].astype(int)\n",
    "list = [np.array(data['strata']), np.array(data), np.array(label)]"
   ]
  },
  {
   "cell_type": "code",
   "execution_count": null,
   "metadata": {},
   "outputs": [],
   "source": []
  }
 ],
 "metadata": {
  "kernelspec": {
   "display_name": "test",
   "language": "python",
   "name": "python3"
  },
  "language_info": {
   "codemirror_mode": {
    "name": "ipython",
    "version": 3
   },
   "file_extension": ".py",
   "mimetype": "text/x-python",
   "name": "python",
   "nbconvert_exporter": "python",
   "pygments_lexer": "ipython3",
   "version": "3.9.16"
  }
 },
 "nbformat": 4,
 "nbformat_minor": 2
}
