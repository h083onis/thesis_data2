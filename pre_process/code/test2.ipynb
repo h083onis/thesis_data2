{
 "cells": [
  {
   "cell_type": "code",
   "execution_count": 1,
   "metadata": {},
   "outputs": [],
   "source": [
    "import ast\n",
    "import astor"
   ]
  },
  {
   "cell_type": "code",
   "execution_count": 2,
   "metadata": {},
   "outputs": [],
   "source": [
    "with open('test.py', 'r', encoding='utf-8') as f:\n",
    "    text = f.read()"
   ]
  },
  {
   "cell_type": "code",
   "execution_count": 6,
   "metadata": {},
   "outputs": [
    {
     "name": "stdout",
     "output_type": "stream",
     "text": [
      "Module(\n",
      "  body=[\n",
      "    Expr(\n",
      "      value=Constant(value='\\ntest\\n\\\\')),\n",
      "    Expr(\n",
      "      value=Constant(value='\\ntest')),\n",
      "    Assign(\n",
      "      targets=[\n",
      "        Name(id='a', ctx=Store())],\n",
      "      value=Constant(value=1)),\n",
      "    Expr(\n",
      "      value=Constant(value=' \\ntest')),\n",
      "    Expr(\n",
      "      value=Call(\n",
      "        func=Name(id='print', ctx=Load()),\n",
      "        args=[\n",
      "          Name(id='a', ctx=Load())],\n",
      "        keywords=[])),\n",
      "    Assign(\n",
      "      targets=[\n",
      "        Name(id='a', ctx=Store())],\n",
      "      value=Constant(value='1')),\n",
      "    Assign(\n",
      "      targets=[\n",
      "        Name(id='a', ctx=Store())],\n",
      "      value=Constant(value='1')),\n",
      "    Assign(\n",
      "      targets=[\n",
      "        Name(id='a', ctx=Store())],\n",
      "      value=Constant(value='1')),\n",
      "    Assign(\n",
      "      targets=[\n",
      "        Name(id='a', ctx=Store())],\n",
      "      value=Constant(value='1')),\n",
      "    Expr(\n",
      "      value=Call(\n",
      "        func=Name(id='print', ctx=Load()),\n",
      "        args=[\n",
      "          Constant(value='1')],\n",
      "        keywords=[])),\n",
      "    Expr(\n",
      "      value=Call(\n",
      "        func=Name(id='print', ctx=Load()),\n",
      "        args=[\n",
      "          Constant(value='1')],\n",
      "        keywords=[])),\n",
      "    Expr(\n",
      "      value=Call(\n",
      "        func=Name(id='print', ctx=Load()),\n",
      "        args=[\n",
      "          Constant(value='2')],\n",
      "        keywords=[])),\n",
      "    Expr(\n",
      "      value=Call(\n",
      "        func=Name(id='print', ctx=Load()),\n",
      "        args=[\n",
      "          Constant(value='1')],\n",
      "        keywords=[])),\n",
      "    FunctionDef(\n",
      "      name='test',\n",
      "      args=arguments(\n",
      "        posonlyargs=[],\n",
      "        args=[],\n",
      "        kwonlyargs=[],\n",
      "        kw_defaults=[],\n",
      "        defaults=[]),\n",
      "      body=[\n",
      "        Expr(\n",
      "          value=Constant(value='\\n    test\\n    ')),\n",
      "        Expr(\n",
      "          value=Call(\n",
      "            func=Name(id='print', ctx=Load()),\n",
      "            args=[\n",
      "              Constant(value='ok')],\n",
      "            keywords=[]))],\n",
      "      decorator_list=[]),\n",
      "    Assign(\n",
      "      targets=[\n",
      "        Name(id='a', ctx=Store())],\n",
      "      value=Constant(value='\\'\"')),\n",
      "    If(\n",
      "      test=Compare(\n",
      "        left=Name(id='a', ctx=Load()),\n",
      "        ops=[\n",
      "          Eq()],\n",
      "        comparators=[\n",
      "          Constant(value='\\'\"')]),\n",
      "      body=[\n",
      "        Expr(\n",
      "          value=Call(\n",
      "            func=Name(id='print', ctx=Load()),\n",
      "            args=[\n",
      "              Constant(value='ok')],\n",
      "            keywords=[]))],\n",
      "      orelse=[])],\n",
      "  type_ignores=[])\n"
     ]
    }
   ],
   "source": [
    "parsed_code = ast.parse(text)\n",
    "print(ast.dump(parsed_code, indent=2))"
   ]
  },
  {
   "cell_type": "code",
   "execution_count": 7,
   "metadata": {},
   "outputs": [
    {
     "name": "stdout",
     "output_type": "stream",
     "text": [
      "\"\"\"\n",
      "test\n",
      "\\\\\"\"\"\n",
      "\"\"\"\n",
      "test\"\"\"\n",
      "a = 1\n",
      "\"\"\" \n",
      "test\"\"\"\n",
      "print(a)\n",
      "a = '1'\n",
      "a = '1'\n",
      "a = '1'\n",
      "a = '1'\n",
      "print('1')\n",
      "print('1')\n",
      "print('2')\n",
      "print('1')\n",
      "\n",
      "\n",
      "def test():\n",
      "    \"\"\"\n",
      "    test\n",
      "    \"\"\"\n",
      "    print('ok')\n",
      "\n",
      "\n",
      "a = '\\'\"'\n",
      "if a == '\\'\"':\n",
      "    print('ok')\n"
     ]
    }
   ],
   "source": [
    "\n",
    "rebuilt_source_code = \"\\n\".join(astor.to_source(parsed_code).splitlines())\n",
    "print(rebuilt_source_code)"
   ]
  }
 ],
 "metadata": {
  "kernelspec": {
   "display_name": "test",
   "language": "python",
   "name": "python3"
  },
  "language_info": {
   "codemirror_mode": {
    "name": "ipython",
    "version": 3
   },
   "file_extension": ".py",
   "mimetype": "text/x-python",
   "name": "python",
   "nbconvert_exporter": "python",
   "pygments_lexer": "ipython3",
   "version": "3.9.16"
  }
 },
 "nbformat": 4,
 "nbformat_minor": 2
}
