{
 "cells": [
  {
   "cell_type": "code",
   "execution_count": 6,
   "metadata": {},
   "outputs": [],
   "source": [
    "import pandas as pd"
   ]
  },
  {
   "cell_type": "code",
   "execution_count": 11,
   "metadata": {},
   "outputs": [],
   "source": [
    "df = pd.read_csv('../resource/deepjit_data/qt.csv', header=0, index_col=0)"
   ]
  },
  {
   "cell_type": "code",
   "execution_count": 12,
   "metadata": {},
   "outputs": [
    {
     "data": {
      "text/html": [
       "<div>\n",
       "<style scoped>\n",
       "    .dataframe tbody tr th:only-of-type {\n",
       "        vertical-align: middle;\n",
       "    }\n",
       "\n",
       "    .dataframe tbody tr th {\n",
       "        vertical-align: top;\n",
       "    }\n",
       "\n",
       "    .dataframe thead th {\n",
       "        text-align: right;\n",
       "    }\n",
       "</style>\n",
       "<table border=\"1\" class=\"dataframe\">\n",
       "  <thead>\n",
       "    <tr style=\"text-align: right;\">\n",
       "      <th></th>\n",
       "      <th>commit_id</th>\n",
       "      <th>author_date</th>\n",
       "      <th>bugcount</th>\n",
       "      <th>fixcount</th>\n",
       "      <th>la</th>\n",
       "      <th>ld</th>\n",
       "      <th>nf</th>\n",
       "      <th>nd</th>\n",
       "      <th>ns</th>\n",
       "      <th>ent</th>\n",
       "      <th>...</th>\n",
       "      <th>rsexp</th>\n",
       "      <th>osexp</th>\n",
       "      <th>asawr</th>\n",
       "      <th>rsawr</th>\n",
       "      <th>osawr</th>\n",
       "      <th>churn</th>\n",
       "      <th>buggy</th>\n",
       "      <th>fix</th>\n",
       "      <th>bugdens</th>\n",
       "      <th>strata</th>\n",
       "    </tr>\n",
       "  </thead>\n",
       "  <tbody>\n",
       "    <tr>\n",
       "      <th>17612</th>\n",
       "      <td>8aa4ee14cecaa0dbcb3513f57bdc5ba8e22fe4db</td>\n",
       "      <td>1308350292</td>\n",
       "      <td>0</td>\n",
       "      <td>0</td>\n",
       "      <td>16</td>\n",
       "      <td>0</td>\n",
       "      <td>1</td>\n",
       "      <td>1</td>\n",
       "      <td>1</td>\n",
       "      <td>0.000000</td>\n",
       "      <td>...</td>\n",
       "      <td>NaN</td>\n",
       "      <td>NaN</td>\n",
       "      <td>0.000000</td>\n",
       "      <td>0.000000</td>\n",
       "      <td>0.000000</td>\n",
       "      <td>16</td>\n",
       "      <td>False</td>\n",
       "      <td>False</td>\n",
       "      <td>0.000000</td>\n",
       "      <td>0</td>\n",
       "    </tr>\n",
       "    <tr>\n",
       "      <th>5765</th>\n",
       "      <td>2cf935b43e41c6589159536652412dab443ff1f8</td>\n",
       "      <td>1308385331</td>\n",
       "      <td>0</td>\n",
       "      <td>0</td>\n",
       "      <td>29</td>\n",
       "      <td>16</td>\n",
       "      <td>3</td>\n",
       "      <td>1</td>\n",
       "      <td>1</td>\n",
       "      <td>0.911183</td>\n",
       "      <td>...</td>\n",
       "      <td>1.0</td>\n",
       "      <td>4.0</td>\n",
       "      <td>0.032787</td>\n",
       "      <td>0.016393</td>\n",
       "      <td>0.040984</td>\n",
       "      <td>45</td>\n",
       "      <td>False</td>\n",
       "      <td>False</td>\n",
       "      <td>0.000000</td>\n",
       "      <td>0</td>\n",
       "    </tr>\n",
       "    <tr>\n",
       "      <th>24059</th>\n",
       "      <td>be6b251b7ba443875a37ad77cb5a6dce7aa3b93d</td>\n",
       "      <td>1308385435</td>\n",
       "      <td>0</td>\n",
       "      <td>0</td>\n",
       "      <td>182</td>\n",
       "      <td>0</td>\n",
       "      <td>11</td>\n",
       "      <td>1</td>\n",
       "      <td>11</td>\n",
       "      <td>0.302924</td>\n",
       "      <td>...</td>\n",
       "      <td>NaN</td>\n",
       "      <td>NaN</td>\n",
       "      <td>0.000000</td>\n",
       "      <td>0.000000</td>\n",
       "      <td>0.000000</td>\n",
       "      <td>182</td>\n",
       "      <td>False</td>\n",
       "      <td>False</td>\n",
       "      <td>0.000000</td>\n",
       "      <td>0</td>\n",
       "    </tr>\n",
       "    <tr>\n",
       "      <th>8846</th>\n",
       "      <td>451f3b3785ea5d08f5092978b6ebe17f25ef7a88</td>\n",
       "      <td>1308408833</td>\n",
       "      <td>1</td>\n",
       "      <td>0</td>\n",
       "      <td>154</td>\n",
       "      <td>13</td>\n",
       "      <td>7</td>\n",
       "      <td>2</td>\n",
       "      <td>2</td>\n",
       "      <td>0.573503</td>\n",
       "      <td>...</td>\n",
       "      <td>5.0</td>\n",
       "      <td>5.0</td>\n",
       "      <td>0.042254</td>\n",
       "      <td>0.042254</td>\n",
       "      <td>0.042254</td>\n",
       "      <td>167</td>\n",
       "      <td>True</td>\n",
       "      <td>False</td>\n",
       "      <td>0.005988</td>\n",
       "      <td>0</td>\n",
       "    </tr>\n",
       "    <tr>\n",
       "      <th>15570</th>\n",
       "      <td>7a64f12cfe03b673ebb3c5e9e0396c6a504620d8</td>\n",
       "      <td>1308430230</td>\n",
       "      <td>1</td>\n",
       "      <td>0</td>\n",
       "      <td>40</td>\n",
       "      <td>18</td>\n",
       "      <td>4</td>\n",
       "      <td>1</td>\n",
       "      <td>1</td>\n",
       "      <td>0.612318</td>\n",
       "      <td>...</td>\n",
       "      <td>NaN</td>\n",
       "      <td>NaN</td>\n",
       "      <td>0.000000</td>\n",
       "      <td>0.000000</td>\n",
       "      <td>0.000000</td>\n",
       "      <td>58</td>\n",
       "      <td>True</td>\n",
       "      <td>False</td>\n",
       "      <td>0.017241</td>\n",
       "      <td>0</td>\n",
       "    </tr>\n",
       "    <tr>\n",
       "      <th>...</th>\n",
       "      <td>...</td>\n",
       "      <td>...</td>\n",
       "      <td>...</td>\n",
       "      <td>...</td>\n",
       "      <td>...</td>\n",
       "      <td>...</td>\n",
       "      <td>...</td>\n",
       "      <td>...</td>\n",
       "      <td>...</td>\n",
       "      <td>...</td>\n",
       "      <td>...</td>\n",
       "      <td>...</td>\n",
       "      <td>...</td>\n",
       "      <td>...</td>\n",
       "      <td>...</td>\n",
       "      <td>...</td>\n",
       "      <td>...</td>\n",
       "      <td>...</td>\n",
       "      <td>...</td>\n",
       "      <td>...</td>\n",
       "      <td>...</td>\n",
       "    </tr>\n",
       "    <tr>\n",
       "      <th>658</th>\n",
       "      <td>04edeafade9058bde6d6dd58e6b1a89bace2fd50</td>\n",
       "      <td>1395077890</td>\n",
       "      <td>0</td>\n",
       "      <td>1</td>\n",
       "      <td>30</td>\n",
       "      <td>4</td>\n",
       "      <td>1</td>\n",
       "      <td>1</td>\n",
       "      <td>1</td>\n",
       "      <td>0.000000</td>\n",
       "      <td>...</td>\n",
       "      <td>151.0</td>\n",
       "      <td>339.0</td>\n",
       "      <td>0.013507</td>\n",
       "      <td>0.007439</td>\n",
       "      <td>0.016639</td>\n",
       "      <td>34</td>\n",
       "      <td>False</td>\n",
       "      <td>True</td>\n",
       "      <td>0.000000</td>\n",
       "      <td>5</td>\n",
       "    </tr>\n",
       "    <tr>\n",
       "      <th>32072</th>\n",
       "      <td>ff3dcc49c4a1912189091e35e87cb61af2f62d47</td>\n",
       "      <td>1395080509</td>\n",
       "      <td>1</td>\n",
       "      <td>0</td>\n",
       "      <td>1</td>\n",
       "      <td>0</td>\n",
       "      <td>1</td>\n",
       "      <td>1</td>\n",
       "      <td>1</td>\n",
       "      <td>0.000000</td>\n",
       "      <td>...</td>\n",
       "      <td>655.0</td>\n",
       "      <td>655.0</td>\n",
       "      <td>0.021385</td>\n",
       "      <td>0.032102</td>\n",
       "      <td>0.032102</td>\n",
       "      <td>1</td>\n",
       "      <td>True</td>\n",
       "      <td>False</td>\n",
       "      <td>1.000000</td>\n",
       "      <td>5</td>\n",
       "    </tr>\n",
       "    <tr>\n",
       "      <th>2505</th>\n",
       "      <td>13171e7e63bc5199d783e33decf7f402019d05cc</td>\n",
       "      <td>1395083885</td>\n",
       "      <td>0</td>\n",
       "      <td>0</td>\n",
       "      <td>3</td>\n",
       "      <td>0</td>\n",
       "      <td>1</td>\n",
       "      <td>1</td>\n",
       "      <td>1</td>\n",
       "      <td>0.000000</td>\n",
       "      <td>...</td>\n",
       "      <td>173.0</td>\n",
       "      <td>636.0</td>\n",
       "      <td>0.022999</td>\n",
       "      <td>0.008514</td>\n",
       "      <td>0.031170</td>\n",
       "      <td>3</td>\n",
       "      <td>False</td>\n",
       "      <td>False</td>\n",
       "      <td>0.000000</td>\n",
       "      <td>5</td>\n",
       "    </tr>\n",
       "    <tr>\n",
       "      <th>31442</th>\n",
       "      <td>fa24ef3d721a7b94d0c5abbc6c9558e74bdb0f3d</td>\n",
       "      <td>1395087964</td>\n",
       "      <td>0</td>\n",
       "      <td>0</td>\n",
       "      <td>130</td>\n",
       "      <td>130</td>\n",
       "      <td>7</td>\n",
       "      <td>3</td>\n",
       "      <td>2</td>\n",
       "      <td>0.788875</td>\n",
       "      <td>...</td>\n",
       "      <td>3771.0</td>\n",
       "      <td>3771.0</td>\n",
       "      <td>0.097177</td>\n",
       "      <td>0.184567</td>\n",
       "      <td>0.184567</td>\n",
       "      <td>260</td>\n",
       "      <td>False</td>\n",
       "      <td>False</td>\n",
       "      <td>0.000000</td>\n",
       "      <td>5</td>\n",
       "    </tr>\n",
       "    <tr>\n",
       "      <th>6605</th>\n",
       "      <td>33bd1e08d0043e9b1340898039562bdf595879b5</td>\n",
       "      <td>1395090475</td>\n",
       "      <td>0</td>\n",
       "      <td>1</td>\n",
       "      <td>17</td>\n",
       "      <td>12</td>\n",
       "      <td>1</td>\n",
       "      <td>1</td>\n",
       "      <td>1</td>\n",
       "      <td>0.000000</td>\n",
       "      <td>...</td>\n",
       "      <td>225.0</td>\n",
       "      <td>478.0</td>\n",
       "      <td>0.021284</td>\n",
       "      <td>0.011058</td>\n",
       "      <td>0.023437</td>\n",
       "      <td>29</td>\n",
       "      <td>False</td>\n",
       "      <td>True</td>\n",
       "      <td>0.000000</td>\n",
       "      <td>5</td>\n",
       "    </tr>\n",
       "  </tbody>\n",
       "</table>\n",
       "<p>25150 rows × 36 columns</p>\n",
       "</div>"
      ],
      "text/plain": [
       "                                      commit_id  author_date  bugcount  \\\n",
       "17612  8aa4ee14cecaa0dbcb3513f57bdc5ba8e22fe4db   1308350292         0   \n",
       "5765   2cf935b43e41c6589159536652412dab443ff1f8   1308385331         0   \n",
       "24059  be6b251b7ba443875a37ad77cb5a6dce7aa3b93d   1308385435         0   \n",
       "8846   451f3b3785ea5d08f5092978b6ebe17f25ef7a88   1308408833         1   \n",
       "15570  7a64f12cfe03b673ebb3c5e9e0396c6a504620d8   1308430230         1   \n",
       "...                                         ...          ...       ...   \n",
       "658    04edeafade9058bde6d6dd58e6b1a89bace2fd50   1395077890         0   \n",
       "32072  ff3dcc49c4a1912189091e35e87cb61af2f62d47   1395080509         1   \n",
       "2505   13171e7e63bc5199d783e33decf7f402019d05cc   1395083885         0   \n",
       "31442  fa24ef3d721a7b94d0c5abbc6c9558e74bdb0f3d   1395087964         0   \n",
       "6605   33bd1e08d0043e9b1340898039562bdf595879b5   1395090475         0   \n",
       "\n",
       "       fixcount   la   ld  nf  nd  ns       ent  ...   rsexp   osexp  \\\n",
       "17612         0   16    0   1   1   1  0.000000  ...     NaN     NaN   \n",
       "5765          0   29   16   3   1   1  0.911183  ...     1.0     4.0   \n",
       "24059         0  182    0  11   1  11  0.302924  ...     NaN     NaN   \n",
       "8846          0  154   13   7   2   2  0.573503  ...     5.0     5.0   \n",
       "15570         0   40   18   4   1   1  0.612318  ...     NaN     NaN   \n",
       "...         ...  ...  ...  ..  ..  ..       ...  ...     ...     ...   \n",
       "658           1   30    4   1   1   1  0.000000  ...   151.0   339.0   \n",
       "32072         0    1    0   1   1   1  0.000000  ...   655.0   655.0   \n",
       "2505          0    3    0   1   1   1  0.000000  ...   173.0   636.0   \n",
       "31442         0  130  130   7   3   2  0.788875  ...  3771.0  3771.0   \n",
       "6605          1   17   12   1   1   1  0.000000  ...   225.0   478.0   \n",
       "\n",
       "          asawr     rsawr     osawr  churn  buggy    fix   bugdens  strata  \n",
       "17612  0.000000  0.000000  0.000000     16  False  False  0.000000       0  \n",
       "5765   0.032787  0.016393  0.040984     45  False  False  0.000000       0  \n",
       "24059  0.000000  0.000000  0.000000    182  False  False  0.000000       0  \n",
       "8846   0.042254  0.042254  0.042254    167   True  False  0.005988       0  \n",
       "15570  0.000000  0.000000  0.000000     58   True  False  0.017241       0  \n",
       "...         ...       ...       ...    ...    ...    ...       ...     ...  \n",
       "658    0.013507  0.007439  0.016639     34  False   True  0.000000       5  \n",
       "32072  0.021385  0.032102  0.032102      1   True  False  1.000000       5  \n",
       "2505   0.022999  0.008514  0.031170      3  False  False  0.000000       5  \n",
       "31442  0.097177  0.184567  0.184567    260  False  False  0.000000       5  \n",
       "6605   0.021284  0.011058  0.023437     29  False   True  0.000000       5  \n",
       "\n",
       "[25150 rows x 36 columns]"
      ]
     },
     "execution_count": 12,
     "metadata": {},
     "output_type": "execute_result"
    }
   ],
   "source": [
    "df_s = df.sort_values('author_date')\n",
    "df_s"
   ]
  },
  {
   "cell_type": "code",
   "execution_count": 13,
   "metadata": {},
   "outputs": [
    {
     "data": {
      "text/plain": [
       "strata\n",
       "1    5934\n",
       "4    4568\n",
       "3    4298\n",
       "2    4128\n",
       "0    4032\n",
       "5    2190\n",
       "Name: count, dtype: int64"
      ]
     },
     "execution_count": 13,
     "metadata": {},
     "output_type": "execute_result"
    }
   ],
   "source": [
    "df_s['strata'].value_counts()"
   ]
  },
  {
   "cell_type": "code",
   "execution_count": 15,
   "metadata": {},
   "outputs": [],
   "source": [
    "df_latest = df_s[df_s['strata'] == 5]"
   ]
  },
  {
   "cell_type": "code",
   "execution_count": 16,
   "metadata": {},
   "outputs": [],
   "source": [
    "import pickle\n",
    "with open('../resource/in_its_data4/qt_test.pkl', 'rb') as f:\n",
    "    load = pickle.load(f)"
   ]
  },
  {
   "cell_type": "code",
   "execution_count": 17,
   "metadata": {},
   "outputs": [
    {
     "data": {
      "text/plain": [
       "2052"
      ]
     },
     "execution_count": 17,
     "metadata": {},
     "output_type": "execute_result"
    }
   ],
   "source": [
    "len(load[5])"
   ]
  },
  {
   "cell_type": "code",
   "execution_count": 18,
   "metadata": {},
   "outputs": [
    {
     "data": {
      "text/plain": [
       "buggy\n",
       "False    1933\n",
       "True      119\n",
       "Name: count, dtype: int64"
      ]
     },
     "execution_count": 18,
     "metadata": {},
     "output_type": "execute_result"
    }
   ],
   "source": [
    "train_df = df_s[df_s['commit_id'].isin(load[0])]\n",
    "train_df['buggy'].value_counts()"
   ]
  },
  {
   "cell_type": "code",
   "execution_count": 11,
   "metadata": {},
   "outputs": [
    {
     "data": {
      "text/plain": [
       "buggy\n",
       "False    1933\n",
       "True      119\n",
       "Name: count, dtype: int64"
      ]
     },
     "execution_count": 11,
     "metadata": {},
     "output_type": "execute_result"
    }
   ],
   "source": [
    "df_4_commit = df_latest[df_latest['commit_id'].isin(load[0])]\n",
    "df_4_commit['buggy'].value_counts()"
   ]
  },
  {
   "cell_type": "code",
   "execution_count": 3,
   "metadata": {},
   "outputs": [],
   "source": [
    "tmp = tuple([0,1,1])"
   ]
  },
  {
   "cell_type": "code",
   "execution_count": 4,
   "metadata": {},
   "outputs": [
    {
     "data": {
      "text/plain": [
       "(0, 1)"
      ]
     },
     "execution_count": 4,
     "metadata": {},
     "output_type": "execute_result"
    }
   ],
   "source": [
    "tmp[:-1]"
   ]
  },
  {
   "cell_type": "code",
   "execution_count": 5,
   "metadata": {},
   "outputs": [],
   "source": [
    "tmp = tuple([0,1])"
   ]
  },
  {
   "cell_type": "code",
   "execution_count": 6,
   "metadata": {},
   "outputs": [
    {
     "data": {
      "text/plain": [
       "(0,)"
      ]
     },
     "execution_count": 6,
     "metadata": {},
     "output_type": "execute_result"
    }
   ],
   "source": [
    "tmp[:-1]"
   ]
  }
 ],
 "metadata": {
  "kernelspec": {
   "display_name": "test",
   "language": "python",
   "name": "python3"
  },
  "language_info": {
   "codemirror_mode": {
    "name": "ipython",
    "version": 3
   },
   "file_extension": ".py",
   "mimetype": "text/x-python",
   "name": "python",
   "nbconvert_exporter": "python",
   "pygments_lexer": "ipython3",
   "version": "3.9.16"
  }
 },
 "nbformat": 4,
 "nbformat_minor": 2
}
