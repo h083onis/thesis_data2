{
 "cells": [
  {
   "cell_type": "code",
   "execution_count": 2,
   "metadata": {},
   "outputs": [],
   "source": [
    "import pandas as pd\n",
    "import numpy as np\n",
    "import optuna.integration.lightgbm as lgb\n",
    "from sklearn.metrics import log_loss, roc_auc_score, f1_score\n",
    "from sklearn.model_selection import train_test_split\n",
    "import pickle"
   ]
  },
  {
   "cell_type": "code",
   "execution_count": 4,
   "metadata": {},
   "outputs": [],
   "source": [
    "with open('../resource/openstack_train2.pkl', 'rb') as f_train, open('../resource/openstack_test2.pkl', 'rb') as f_test:\n",
    "    tr_dataset = pickle.load(f_train)\n",
    "    te_dataset = pickle.load(f_test)"
   ]
  },
  {
   "cell_type": "code",
   "execution_count": 5,
   "metadata": {},
   "outputs": [],
   "source": [
    "tr_x, va_x, tr_y, va_y = train_test_split(tr_dataset[4], tr_dataset[5], test_size=0.2, random_state=100)\n",
    "dtrain = lgb.Dataset(np.array(tr_x), np.array(tr_y))\n",
    "dvalid = lgb.Dataset(np.array(va_x), np.array(va_y))\n"
   ]
  },
  {
   "cell_type": "code",
   "execution_count": 10,
   "metadata": {},
   "outputs": [],
   "source": [
    "params = {\n",
    "    'objective':'binary',\n",
    "    'random_state':100,\n",
    "    'metrics':'binary_logloss',\n",
    "}\n",
    "num_round = 1000"
   ]
  },
  {
   "cell_type": "code",
   "execution_count": 11,
   "metadata": {},
   "outputs": [
    {
     "name": "stderr",
     "output_type": "stream",
     "text": [
      "[I 2023-11-23 15:58:24,500] A new study created in memory with name: no-name-ef17fb58-6d88-4de2-a220-b11cb7cc0c03\n",
      "\n",
      "\u001b[A\n",
      "\u001b[A\n",
      "\u001b[A\n",
      "\u001b[A[I 2023-11-23 15:58:24,615] Trial 0 finished with value: 0.3079744825744282 and parameters: {'feature_fraction': 0.8}. Best is trial 0 with value: 0.3079744825744282.\n",
      "\n",
      "\u001b[A"
     ]
    },
    {
     "name": "stdout",
     "output_type": "stream",
     "text": [
      "[LightGBM] [Info] Number of positive: 1137, number of negative: 7455\n",
      "[LightGBM] [Info] Auto-choosing col-wise multi-threading, the overhead of testing was 0.001061 seconds.\n",
      "You can set `force_col_wise=true` to remove the overhead.\n",
      "[LightGBM] [Info] Total Bins 5273\n",
      "[LightGBM] [Info] Number of data points in the train set: 8592, number of used features: 29\n",
      "[LightGBM] [Info] [binary:BoostFromScore]: pavg=0.132332 -> initscore=-1.880492\n",
      "[LightGBM] [Info] Start training from score -1.880492\n",
      "Training until validation scores don't improve for 10 rounds\n",
      "Early stopping, best iteration is:\n",
      "[44]\ttrain's binary_logloss: 0.235073\tvalid's binary_logloss: 0.307974\n",
      "[LightGBM] [Info] Number of positive: 1137, number of negative: 7455\n",
      "[LightGBM] [Info] Auto-choosing col-wise multi-threading, the overhead of testing was 0.000979 seconds.\n",
      "You can set `force_col_wise=true` to remove the overhead.\n",
      "[LightGBM] [Info] Total Bins 5273\n",
      "[LightGBM] [Info] Number of data points in the train set: 8592, number of used features: 29\n",
      "[LightGBM] [Info] [binary:BoostFromScore]: pavg=0.132332 -> initscore=-1.880492\n",
      "[LightGBM] [Info] Start training from score -1.880492\n",
      "Training until validation scores don't improve for 10 rounds\n"
     ]
    },
    {
     "name": "stderr",
     "output_type": "stream",
     "text": [
      "\n",
      "\u001b[A\n",
      "\u001b[A[I 2023-11-23 15:58:24,758] Trial 1 finished with value: 0.30853305238114737 and parameters: {'feature_fraction': 0.5}. Best is trial 0 with value: 0.3079744825744282.\n",
      "\n",
      "\u001b[A\n",
      "\n"
     ]
    },
    {
     "name": "stdout",
     "output_type": "stream",
     "text": [
      "Early stopping, best iteration is:\n",
      "[45]\ttrain's binary_logloss: 0.237534\tvalid's binary_logloss: 0.308533\n",
      "[LightGBM] [Info] Number of positive: 1137, number of negative: 7455\n",
      "[LightGBM] [Info] Auto-choosing col-wise multi-threading, the overhead of testing was 0.000842 seconds.\n",
      "You can set `force_col_wise=true` to remove the overhead.\n",
      "[LightGBM] [Info] Total Bins 5273\n",
      "[LightGBM] [Info] Number of data points in the train set: 8592, number of used features: 29\n",
      "[LightGBM] [Info] [binary:BoostFromScore]: pavg=0.132332 -> initscore=-1.880492\n",
      "[LightGBM] [Info] Start training from score -1.880492\n",
      "Training until validation scores don't improve for 10 rounds\n",
      "Early stopping, best iteration is:\n",
      "[53]\ttrain's binary_logloss: 0.225085\tvalid's binary_logloss: 0.304527\n"
     ]
    },
    {
     "name": "stderr",
     "output_type": "stream",
     "text": [
      "feature_fraction, val_score: 0.304527:  29%|##8       | 2/7 [00:00<00:00,  7.73it/s]\u001b[A\u001b[A\n",
      "\u001b[A[I 2023-11-23 15:58:24,951] Trial 2 finished with value: 0.3045269855262075 and parameters: {'feature_fraction': 0.6}. Best is trial 2 with value: 0.3045269855262075.\n",
      "\n",
      "\u001b[A\n",
      "\u001b[A\n",
      "\u001b[A[I 2023-11-23 15:58:25,075] Trial 3 finished with value: 0.3097546641775161 and parameters: {'feature_fraction': 0.7}. Best is trial 2 with value: 0.3045269855262075.\n",
      "\n",
      "\u001b[A"
     ]
    },
    {
     "name": "stdout",
     "output_type": "stream",
     "text": [
      "[LightGBM] [Info] Number of positive: 1137, number of negative: 7455\n",
      "[LightGBM] [Info] Auto-choosing col-wise multi-threading, the overhead of testing was 0.001015 seconds.\n",
      "You can set `force_col_wise=true` to remove the overhead.\n",
      "[LightGBM] [Info] Total Bins 5273\n",
      "[LightGBM] [Info] Number of data points in the train set: 8592, number of used features: 29\n",
      "[LightGBM] [Info] [binary:BoostFromScore]: pavg=0.132332 -> initscore=-1.880492\n",
      "[LightGBM] [Info] Start training from score -1.880492\n",
      "Training until validation scores don't improve for 10 rounds\n",
      "Early stopping, best iteration is:\n",
      "[51]\ttrain's binary_logloss: 0.226113\tvalid's binary_logloss: 0.309755\n",
      "[LightGBM] [Info] Number of positive: 1137, number of negative: 7455\n",
      "[LightGBM] [Info] Auto-choosing col-wise multi-threading, the overhead of testing was 0.001124 seconds.\n",
      "You can set `force_col_wise=true` to remove the overhead.\n",
      "[LightGBM] [Info] Total Bins 5273\n",
      "[LightGBM] [Info] Number of data points in the train set: 8592, number of used features: 29\n",
      "[LightGBM] [Info] [binary:BoostFromScore]: pavg=0.132332 -> initscore=-1.880492\n",
      "[LightGBM] [Info] Start training from score -1.880492\n",
      "Training until validation scores don't improve for 10 rounds\n"
     ]
    },
    {
     "name": "stderr",
     "output_type": "stream",
     "text": [
      "\n",
      "\u001b[A\n",
      "\u001b[A[I 2023-11-23 15:58:25,209] Trial 4 finished with value: 0.3066933664731911 and parameters: {'feature_fraction': 1.0}. Best is trial 2 with value: 0.3045269855262075.\n",
      "\n",
      "\u001b[A\n",
      "\u001b[A\n",
      "\u001b[A[I 2023-11-23 15:58:25,331] Trial 5 finished with value: 0.30420776771728403 and parameters: {'feature_fraction': 0.4}. Best is trial 5 with value: 0.30420776771728403.\n",
      "\n",
      "\u001b[A"
     ]
    },
    {
     "name": "stdout",
     "output_type": "stream",
     "text": [
      "Early stopping, best iteration is:\n",
      "[47]\ttrain's binary_logloss: 0.227774\tvalid's binary_logloss: 0.306693\n",
      "[LightGBM] [Info] Number of positive: 1137, number of negative: 7455\n",
      "[LightGBM] [Info] Auto-choosing col-wise multi-threading, the overhead of testing was 0.000485 seconds.\n",
      "You can set `force_col_wise=true` to remove the overhead.\n",
      "[LightGBM] [Info] Total Bins 5273\n",
      "[LightGBM] [Info] Number of data points in the train set: 8592, number of used features: 29\n",
      "[LightGBM] [Info] [binary:BoostFromScore]: pavg=0.132332 -> initscore=-1.880492\n",
      "[LightGBM] [Info] Start training from score -1.880492\n",
      "Training until validation scores don't improve for 10 rounds\n",
      "Early stopping, best iteration is:\n",
      "[45]\ttrain's binary_logloss: 0.240644\tvalid's binary_logloss: 0.304208\n",
      "[LightGBM] [Info] Number of positive: 1137, number of negative: 7455\n",
      "[LightGBM] [Info] Auto-choosing col-wise multi-threading, the overhead of testing was 0.001304 seconds.\n",
      "You can set `force_col_wise=true` to remove the overhead.\n",
      "[LightGBM] [Info] Total Bins 5273\n",
      "[LightGBM] [Info] Number of data points in the train set: 8592, number of used features: 29\n",
      "[LightGBM] [Info] [binary:BoostFromScore]: pavg=0.132332 -> initscore=-1.880492\n",
      "[LightGBM] [Info] Start training from score -1.880492\n",
      "Training until validation scores don't improve for 10 rounds\n"
     ]
    },
    {
     "name": "stderr",
     "output_type": "stream",
     "text": [
      "\n",
      "\u001b[A\n",
      "\u001b[A[I 2023-11-23 15:58:25,477] Trial 6 finished with value: 0.3095363313920524 and parameters: {'feature_fraction': 0.8999999999999999}. Best is trial 5 with value: 0.30420776771728403.\n",
      "feature_fraction, val_score: 0.304208: 100%|##########| 7/7 [00:00<00:00,  7.19it/s]\n"
     ]
    },
    {
     "name": "stdout",
     "output_type": "stream",
     "text": [
      "Early stopping, best iteration is:\n",
      "[29]\ttrain's binary_logloss: 0.259271\tvalid's binary_logloss: 0.309536\n"
     ]
    },
    {
     "name": "stderr",
     "output_type": "stream",
     "text": [
      "\n",
      "\u001b[A\n",
      "\u001b[A"
     ]
    },
    {
     "name": "stdout",
     "output_type": "stream",
     "text": [
      "[LightGBM] [Info] Number of positive: 1137, number of negative: 7455\n",
      "[LightGBM] [Info] Auto-choosing col-wise multi-threading, the overhead of testing was 0.000549 seconds.\n",
      "You can set `force_col_wise=true` to remove the overhead.\n",
      "[LightGBM] [Info] Total Bins 5273\n",
      "[LightGBM] [Info] Number of data points in the train set: 8592, number of used features: 29\n",
      "[LightGBM] [Info] [binary:BoostFromScore]: pavg=0.132332 -> initscore=-1.880492\n",
      "[LightGBM] [Info] Start training from score -1.880492\n",
      "Training until validation scores don't improve for 10 rounds\n"
     ]
    },
    {
     "name": "stderr",
     "output_type": "stream",
     "text": [
      "\n",
      "\u001b[A\n",
      "\u001b[A[I 2023-11-23 15:58:25,736] Trial 7 finished with value: 0.3097263507009519 and parameters: {'num_leaves': 163}. Best is trial 7 with value: 0.3097263507009519.\n",
      "\n",
      "\u001b[A\n",
      "\u001b[A\n",
      "\u001b[A[I 2023-11-23 15:58:25,897] Trial 8 finished with value: 0.3096511287408729 and parameters: {'num_leaves': 78}. Best is trial 8 with value: 0.3096511287408729.\n",
      "\n",
      "\u001b[A"
     ]
    },
    {
     "name": "stdout",
     "output_type": "stream",
     "text": [
      "Early stopping, best iteration is:\n",
      "[29]\ttrain's binary_logloss: 0.139791\tvalid's binary_logloss: 0.309726\n",
      "[LightGBM] [Info] Number of positive: 1137, number of negative: 7455\n",
      "[LightGBM] [Info] Auto-choosing col-wise multi-threading, the overhead of testing was 0.000702 seconds.\n",
      "You can set `force_col_wise=true` to remove the overhead.\n",
      "[LightGBM] [Info] Total Bins 5273\n",
      "[LightGBM] [Info] Number of data points in the train set: 8592, number of used features: 29\n",
      "[LightGBM] [Info] [binary:BoostFromScore]: pavg=0.132332 -> initscore=-1.880492\n",
      "[LightGBM] [Info] Start training from score -1.880492\n",
      "Training until validation scores don't improve for 10 rounds\n",
      "Early stopping, best iteration is:\n",
      "[39]\ttrain's binary_logloss: 0.175614\tvalid's binary_logloss: 0.309651\n"
     ]
    },
    {
     "name": "stderr",
     "output_type": "stream",
     "text": [
      "\n",
      "\u001b[A\n",
      "\u001b[A[I 2023-11-23 15:58:26,064] Trial 9 finished with value: 0.3084096405044195 and parameters: {'num_leaves': 59}. Best is trial 9 with value: 0.3084096405044195.\n",
      "\n",
      "\u001b[A"
     ]
    },
    {
     "name": "stdout",
     "output_type": "stream",
     "text": [
      "[LightGBM] [Info] Number of positive: 1137, number of negative: 7455\n",
      "[LightGBM] [Info] Auto-choosing col-wise multi-threading, the overhead of testing was 0.001184 seconds.\n",
      "You can set `force_col_wise=true` to remove the overhead.\n",
      "[LightGBM] [Info] Total Bins 5273\n",
      "[LightGBM] [Info] Number of data points in the train set: 8592, number of used features: 29\n",
      "[LightGBM] [Info] [binary:BoostFromScore]: pavg=0.132332 -> initscore=-1.880492\n",
      "[LightGBM] [Info] Start training from score -1.880492\n",
      "Training until validation scores don't improve for 10 rounds\n",
      "Early stopping, best iteration is:\n",
      "[36]\ttrain's binary_logloss: 0.206355\tvalid's binary_logloss: 0.30841\n",
      "[LightGBM] [Info] Number of positive: 1137, number of negative: 7455\n",
      "[LightGBM] [Info] Auto-choosing col-wise multi-threading, the overhead of testing was 0.000733 seconds.\n",
      "You can set `force_col_wise=true` to remove the overhead.\n",
      "[LightGBM] [Info] Total Bins 5273\n",
      "[LightGBM] [Info] Number of data points in the train set: 8592, number of used features: 29\n",
      "[LightGBM] [Info] [binary:BoostFromScore]: pavg=0.132332 -> initscore=-1.880492\n",
      "[LightGBM] [Info] Start training from score -1.880492\n",
      "Training until validation scores don't improve for 10 rounds\n"
     ]
    },
    {
     "name": "stderr",
     "output_type": "stream",
     "text": [
      "\n",
      "\u001b[A\n",
      "\u001b[A[I 2023-11-23 15:58:26,296] Trial 10 finished with value: 0.31125474120508395 and parameters: {'num_leaves': 256}. Best is trial 9 with value: 0.3084096405044195.\n",
      "\n",
      "\u001b[A\n",
      "\u001b[A\n",
      "\u001b[A[I 2023-11-23 15:58:26,397] Trial 11 finished with value: 0.30542263979960527 and parameters: {'num_leaves': 15}. Best is trial 11 with value: 0.30542263979960527.\n",
      "\n",
      "\u001b[A"
     ]
    },
    {
     "name": "stdout",
     "output_type": "stream",
     "text": [
      "Early stopping, best iteration is:\n",
      "[16]\ttrain's binary_logloss: 0.186562\tvalid's binary_logloss: 0.311255\n",
      "[LightGBM] [Info] Number of positive: 1137, number of negative: 7455\n",
      "[LightGBM] [Info] Auto-choosing col-wise multi-threading, the overhead of testing was 0.000946 seconds.\n",
      "You can set `force_col_wise=true` to remove the overhead.\n",
      "[LightGBM] [Info] Total Bins 5273\n",
      "[LightGBM] [Info] Number of data points in the train set: 8592, number of used features: 29\n",
      "[LightGBM] [Info] [binary:BoostFromScore]: pavg=0.132332 -> initscore=-1.880492\n",
      "[LightGBM] [Info] Start training from score -1.880492\n",
      "Training until validation scores don't improve for 10 rounds\n",
      "Early stopping, best iteration is:\n",
      "[42]\ttrain's binary_logloss: 0.284634\tvalid's binary_logloss: 0.305423\n",
      "[LightGBM] [Info] Number of positive: 1137, number of negative: 7455\n",
      "[LightGBM] [Info] Auto-choosing col-wise multi-threading, the overhead of testing was 0.000508 seconds.\n",
      "You can set `force_col_wise=true` to remove the overhead.\n",
      "[LightGBM] [Info] Total Bins 5273\n",
      "[LightGBM] [Info] Number of data points in the train set: 8592, number of used features: 29\n",
      "[LightGBM] [Info] [binary:BoostFromScore]: pavg=0.132332 -> initscore=-1.880492\n",
      "[LightGBM] [Info] Start training from score -1.880492\n",
      "Training until validation scores don't improve for 10 rounds\n"
     ]
    },
    {
     "name": "stderr",
     "output_type": "stream",
     "text": [
      "\n",
      "\u001b[A\n",
      "\u001b[A[I 2023-11-23 15:58:26,636] Trial 12 finished with value: 0.3085787046033222 and parameters: {'num_leaves': 172}. Best is trial 11 with value: 0.30542263979960527.\n",
      "\n",
      "\u001b[A\n",
      "\n"
     ]
    },
    {
     "name": "stdout",
     "output_type": "stream",
     "text": [
      "Early stopping, best iteration is:\n",
      "[31]\ttrain's binary_logloss: 0.127637\tvalid's binary_logloss: 0.308579\n",
      "[LightGBM] [Info] Number of positive: 1137, number of negative: 7455\n",
      "[LightGBM] [Info] Auto-choosing col-wise multi-threading, the overhead of testing was 0.000988 seconds.\n",
      "You can set `force_col_wise=true` to remove the overhead.\n",
      "[LightGBM] [Info] Total Bins 5273\n",
      "[LightGBM] [Info] Number of data points in the train set: 8592, number of used features: 29\n",
      "[LightGBM] [Info] [binary:BoostFromScore]: pavg=0.132332 -> initscore=-1.880492\n",
      "[LightGBM] [Info] Start training from score -1.880492\n",
      "Training until validation scores don't improve for 10 rounds\n",
      "Early stopping, best iteration is:\n",
      "[17]\ttrain's binary_logloss: 0.181497\tvalid's binary_logloss: 0.308393\n"
     ]
    },
    {
     "name": "stderr",
     "output_type": "stream",
     "text": [
      "num_leaves, val_score: 0.304208:  30%|###       | 6/20 [00:01<00:02,  5.24it/s]\u001b[A\u001b[A\n",
      "\u001b[A[I 2023-11-23 15:58:26,832] Trial 13 finished with value: 0.3083927613651413 and parameters: {'num_leaves': 231}. Best is trial 11 with value: 0.30542263979960527.\n",
      "\n",
      "\u001b[A\n",
      "\u001b[A\n",
      "\u001b[A[I 2023-11-23 15:58:27,031] Trial 14 finished with value: 0.3083409930792016 and parameters: {'num_leaves': 114}. Best is trial 11 with value: 0.30542263979960527.\n",
      "\n",
      "\u001b[A"
     ]
    },
    {
     "name": "stdout",
     "output_type": "stream",
     "text": [
      "[LightGBM] [Info] Number of positive: 1137, number of negative: 7455\n",
      "[LightGBM] [Info] Auto-choosing col-wise multi-threading, the overhead of testing was 0.001282 seconds.\n",
      "You can set `force_col_wise=true` to remove the overhead.\n",
      "[LightGBM] [Info] Total Bins 5273\n",
      "[LightGBM] [Info] Number of data points in the train set: 8592, number of used features: 29\n",
      "[LightGBM] [Info] [binary:BoostFromScore]: pavg=0.132332 -> initscore=-1.880492\n",
      "[LightGBM] [Info] Start training from score -1.880492\n",
      "Training until validation scores don't improve for 10 rounds\n",
      "Early stopping, best iteration is:\n",
      "[38]\ttrain's binary_logloss: 0.141282\tvalid's binary_logloss: 0.308341\n"
     ]
    },
    {
     "name": "stderr",
     "output_type": "stream",
     "text": [
      "\n",
      "\u001b[A\n",
      "\u001b[A[I 2023-11-23 15:58:27,146] Trial 15 finished with value: 0.3043426097755047 and parameters: {'num_leaves': 11}. Best is trial 15 with value: 0.3043426097755047.\n",
      "\n",
      "\u001b[A\n",
      "\n",
      "num_leaves, val_score: 0.304208:  45%|####5     | 9/20 [00:01<00:01,  5.91it/s]"
     ]
    },
    {
     "name": "stdout",
     "output_type": "stream",
     "text": [
      "[LightGBM] [Info] Number of positive: 1137, number of negative: 7455\n",
      "[LightGBM] [Info] Auto-choosing col-wise multi-threading, the overhead of testing was 0.000647 seconds.\n",
      "You can set `force_col_wise=true` to remove the overhead.\n",
      "[LightGBM] [Info] Total Bins 5273\n",
      "[LightGBM] [Info] Number of data points in the train set: 8592, number of used features: 29\n",
      "[LightGBM] [Info] [binary:BoostFromScore]: pavg=0.132332 -> initscore=-1.880492\n",
      "[LightGBM] [Info] Start training from score -1.880492\n",
      "Training until validation scores don't improve for 10 rounds\n",
      "Early stopping, best iteration is:\n",
      "[52]\ttrain's binary_logloss: 0.290052\tvalid's binary_logloss: 0.304343\n",
      "[LightGBM] [Info] Number of positive: 1137, number of negative: 7455\n",
      "[LightGBM] [Info] Auto-choosing col-wise multi-threading, the overhead of testing was 0.000499 seconds.\n",
      "You can set `force_col_wise=true` to remove the overhead.\n",
      "[LightGBM] [Info] Total Bins 5273\n",
      "[LightGBM] [Info] Number of data points in the train set: 8592, number of used features: 29\n",
      "[LightGBM] [Info] [binary:BoostFromScore]: pavg=0.132332 -> initscore=-1.880492\n",
      "[LightGBM] [Info] Start training from score -1.880492\n",
      "Training until validation scores don't improve for 10 rounds\n",
      "[100]\ttrain's binary_logloss: 0.300886\tvalid's binary_logloss: 0.304636\n",
      "Early stopping, best iteration is:\n",
      "[91]\ttrain's binary_logloss: 0.303125\tvalid's binary_logloss: 0.304497\n"
     ]
    },
    {
     "name": "stderr",
     "output_type": "stream",
     "text": [
      "\u001b[A\u001b[A\n",
      "\u001b[A[I 2023-11-23 15:58:27,249] Trial 16 finished with value: 0.30449735218574525 and parameters: {'num_leaves': 5}. Best is trial 15 with value: 0.3043426097755047.\n",
      "\n",
      "\u001b[A\n",
      "\u001b[A\n",
      "\u001b[A[I 2023-11-23 15:58:27,394] Trial 17 finished with value: 0.30861952557116373 and parameters: {'num_leaves': 65}. Best is trial 15 with value: 0.3043426097755047.\n",
      "\n",
      "\u001b[A"
     ]
    },
    {
     "name": "stdout",
     "output_type": "stream",
     "text": [
      "[LightGBM] [Info] Number of positive: 1137, number of negative: 7455\n",
      "[LightGBM] [Info] Auto-choosing col-wise multi-threading, the overhead of testing was 0.000615 seconds.\n",
      "You can set `force_col_wise=true` to remove the overhead.\n",
      "[LightGBM] [Info] Total Bins 5273\n",
      "[LightGBM] [Info] Number of data points in the train set: 8592, number of used features: 29\n",
      "[LightGBM] [Info] [binary:BoostFromScore]: pavg=0.132332 -> initscore=-1.880492\n",
      "[LightGBM] [Info] Start training from score -1.880492\n",
      "Training until validation scores don't improve for 10 rounds\n",
      "Early stopping, best iteration is:\n",
      "[31]\ttrain's binary_logloss: 0.211339\tvalid's binary_logloss: 0.30862\n",
      "[LightGBM] [Info] Number of positive: 1137, number of negative: 7455\n",
      "[LightGBM] [Info] Auto-choosing col-wise multi-threading, the overhead of testing was 0.000538 seconds.\n",
      "You can set `force_col_wise=true` to remove the overhead.\n",
      "[LightGBM] [Info] Total Bins 5273\n",
      "[LightGBM] [Info] Number of data points in the train set: 8592, number of used features: 29\n",
      "[LightGBM] [Info] [binary:BoostFromScore]: pavg=0.132332 -> initscore=-1.880492\n",
      "[LightGBM] [Info] Start training from score -1.880492\n",
      "Training until validation scores don't improve for 10 rounds\n"
     ]
    },
    {
     "name": "stderr",
     "output_type": "stream",
     "text": [
      "\n",
      "\u001b[A\n",
      "\u001b[A[I 2023-11-23 15:58:27,604] Trial 18 finished with value: 0.3060225382583549 and parameters: {'num_leaves': 123}. Best is trial 15 with value: 0.3043426097755047.\n",
      "\n",
      "\u001b[A\n",
      "\u001b[A\n",
      "\u001b[A[I 2023-11-23 15:58:27,736] Trial 19 finished with value: 0.30705860594373574 and parameters: {'num_leaves': 36}. Best is trial 15 with value: 0.3043426097755047.\n",
      "\n",
      "\u001b[A"
     ]
    },
    {
     "name": "stdout",
     "output_type": "stream",
     "text": [
      "Early stopping, best iteration is:\n",
      "[30]\ttrain's binary_logloss: 0.15959\tvalid's binary_logloss: 0.306023\n",
      "[LightGBM] [Info] Number of positive: 1137, number of negative: 7455\n",
      "[LightGBM] [Info] Auto-choosing col-wise multi-threading, the overhead of testing was 0.000681 seconds.\n",
      "You can set `force_col_wise=true` to remove the overhead.\n",
      "[LightGBM] [Info] Total Bins 5273\n",
      "[LightGBM] [Info] Number of data points in the train set: 8592, number of used features: 29\n",
      "[LightGBM] [Info] [binary:BoostFromScore]: pavg=0.132332 -> initscore=-1.880492\n",
      "[LightGBM] [Info] Start training from score -1.880492\n",
      "Training until validation scores don't improve for 10 rounds\n",
      "Early stopping, best iteration is:\n",
      "[31]\ttrain's binary_logloss: 0.252322\tvalid's binary_logloss: 0.307059\n",
      "[LightGBM] [Info] Number of positive: 1137, number of negative: 7455\n",
      "[LightGBM] [Info] Auto-choosing col-wise multi-threading, the overhead of testing was 0.000422 seconds.\n",
      "You can set `force_col_wise=true` to remove the overhead.\n",
      "[LightGBM] [Info] Total Bins 5273\n",
      "[LightGBM] [Info] Number of data points in the train set: 8592, number of used features: 29\n"
     ]
    },
    {
     "name": "stderr",
     "output_type": "stream",
     "text": [
      "\n",
      "\u001b[A\n",
      "\u001b[A[I 2023-11-23 15:58:27,952] Trial 20 finished with value: 0.3111994046080761 and parameters: {'num_leaves': 190}. Best is trial 15 with value: 0.3043426097755047.\n",
      "\n",
      "\u001b[A"
     ]
    },
    {
     "name": "stdout",
     "output_type": "stream",
     "text": [
      "[LightGBM] [Info] [binary:BoostFromScore]: pavg=0.132332 -> initscore=-1.880492\n",
      "[LightGBM] [Info] Start training from score -1.880492\n",
      "Training until validation scores don't improve for 10 rounds\n",
      "Early stopping, best iteration is:\n",
      "[19]\ttrain's binary_logloss: 0.176201\tvalid's binary_logloss: 0.311199\n"
     ]
    },
    {
     "name": "stderr",
     "output_type": "stream",
     "text": [
      "\n",
      "\u001b[A\n",
      "\u001b[A[I 2023-11-23 15:58:28,086] Trial 21 finished with value: 0.3037972025444344 and parameters: {'num_leaves': 3}. Best is trial 21 with value: 0.3037972025444344.\n",
      "\n",
      "\u001b[A"
     ]
    },
    {
     "name": "stdout",
     "output_type": "stream",
     "text": [
      "[LightGBM] [Info] Number of positive: 1137, number of negative: 7455\n",
      "[LightGBM] [Info] Auto-choosing col-wise multi-threading, the overhead of testing was 0.001028 seconds.\n",
      "You can set `force_col_wise=true` to remove the overhead.\n",
      "[LightGBM] [Info] Total Bins 5273\n",
      "[LightGBM] [Info] Number of data points in the train set: 8592, number of used features: 29\n",
      "[LightGBM] [Info] [binary:BoostFromScore]: pavg=0.132332 -> initscore=-1.880492\n",
      "[LightGBM] [Info] Start training from score -1.880492\n",
      "Training until validation scores don't improve for 10 rounds\n",
      "[100]\ttrain's binary_logloss: 0.317057\tvalid's binary_logloss: 0.304791\n",
      "Early stopping, best iteration is:\n",
      "[177]\ttrain's binary_logloss: 0.307767\tvalid's binary_logloss: 0.303797\n",
      "[LightGBM] [Info] Number of positive: 1137, number of negative: 7455\n",
      "[LightGBM] [Info] Auto-choosing col-wise multi-threading, the overhead of testing was 0.000416 seconds.\n",
      "You can set `force_col_wise=true` to remove the overhead.\n",
      "[LightGBM] [Info] Total Bins 5273\n",
      "[LightGBM] [Info] Number of data points in the train set: 8592, number of used features: 29\n",
      "[LightGBM] [Info] [binary:BoostFromScore]: pavg=0.132332 -> initscore=-1.880492\n",
      "[LightGBM] [Info] Start training from score -1.880492\n",
      "Training until validation scores don't improve for 10 rounds\n"
     ]
    },
    {
     "name": "stderr",
     "output_type": "stream",
     "text": [
      "\n",
      "\u001b[A\n",
      "\u001b[A[I 2023-11-23 15:58:28,263] Trial 22 finished with value: 0.3081737804409298 and parameters: {'num_leaves': 98}. Best is trial 21 with value: 0.3037972025444344.\n",
      "\n",
      "\u001b[A\n",
      "\u001b[A\n",
      "\u001b[A[I 2023-11-23 15:58:28,392] Trial 23 finished with value: 0.303815956642355 and parameters: {'num_leaves': 25}. Best is trial 21 with value: 0.3037972025444344.\n",
      "\n",
      "\u001b[A"
     ]
    },
    {
     "name": "stdout",
     "output_type": "stream",
     "text": [
      "Early stopping, best iteration is:\n",
      "[31]\ttrain's binary_logloss: 0.176098\tvalid's binary_logloss: 0.308174\n",
      "[LightGBM] [Info] Number of positive: 1137, number of negative: 7455\n",
      "[LightGBM] [Info] Auto-choosing col-wise multi-threading, the overhead of testing was 0.000606 seconds.\n",
      "You can set `force_col_wise=true` to remove the overhead.\n",
      "[LightGBM] [Info] Total Bins 5273\n",
      "[LightGBM] [Info] Number of data points in the train set: 8592, number of used features: 29\n",
      "[LightGBM] [Info] [binary:BoostFromScore]: pavg=0.132332 -> initscore=-1.880492\n",
      "[LightGBM] [Info] Start training from score -1.880492\n",
      "Training until validation scores don't improve for 10 rounds\n",
      "Early stopping, best iteration is:\n",
      "[59]\ttrain's binary_logloss: 0.237785\tvalid's binary_logloss: 0.303816\n",
      "[LightGBM] [Info] Number of positive: 1137, number of negative: 7455\n",
      "[LightGBM] [Info] Auto-choosing col-wise multi-threading, the overhead of testing was 0.000498 seconds.\n",
      "You can set `force_col_wise=true` to remove the overhead.\n",
      "[LightGBM] [Info] Total Bins 5273\n",
      "[LightGBM] [Info] Number of data points in the train set: 8592, number of used features: 29\n",
      "[LightGBM] [Info] [binary:BoostFromScore]: pavg=0.132332 -> initscore=-1.880492\n",
      "[LightGBM] [Info] Start training from score -1.880492\n"
     ]
    },
    {
     "name": "stderr",
     "output_type": "stream",
     "text": [
      "\n",
      "\u001b[A\n",
      "\u001b[A[I 2023-11-23 15:58:28,534] Trial 24 finished with value: 0.30740216177146107 and parameters: {'num_leaves': 39}. Best is trial 21 with value: 0.3037972025444344.\n",
      "\n",
      "\u001b[A\n",
      "\n"
     ]
    },
    {
     "name": "stdout",
     "output_type": "stream",
     "text": [
      "Training until validation scores don't improve for 10 rounds\n",
      "Early stopping, best iteration is:\n",
      "[41]\ttrain's binary_logloss: 0.229372\tvalid's binary_logloss: 0.307402\n",
      "[LightGBM] [Info] Number of positive: 1137, number of negative: 7455\n",
      "[LightGBM] [Info] Auto-choosing col-wise multi-threading, the overhead of testing was 0.000805 seconds.\n",
      "You can set `force_col_wise=true` to remove the overhead.\n",
      "[LightGBM] [Info] Total Bins 5273\n",
      "[LightGBM] [Info] Number of data points in the train set: 8592, number of used features: 29\n",
      "[LightGBM] [Info] [binary:BoostFromScore]: pavg=0.132332 -> initscore=-1.880492\n",
      "[LightGBM] [Info] Start training from score -1.880492\n",
      "Training until validation scores don't improve for 10 rounds\n",
      "Early stopping, best iteration is:\n",
      "[51]\ttrain's binary_logloss: 0.208971\tvalid's binary_logloss: 0.306871\n"
     ]
    },
    {
     "name": "stderr",
     "output_type": "stream",
     "text": [
      "num_leaves, val_score: 0.303797:  90%|######### | 18/20 [00:03<00:00,  6.61it/s]\u001b[A\u001b[A\n",
      "\u001b[A[I 2023-11-23 15:58:28,678] Trial 25 finished with value: 0.30687061027887247 and parameters: {'num_leaves': 41}. Best is trial 21 with value: 0.3037972025444344.\n",
      "\n",
      "\u001b[A\n",
      "\u001b[A\n",
      "\u001b[A[I 2023-11-23 15:58:28,843] Trial 26 finished with value: 0.3067919092153741 and parameters: {'num_leaves': 90}. Best is trial 21 with value: 0.3037972025444344.\n",
      "num_leaves, val_score: 0.303797: 100%|##########| 20/20 [00:03<00:00,  5.95it/s]\n"
     ]
    },
    {
     "name": "stdout",
     "output_type": "stream",
     "text": [
      "[LightGBM] [Info] Number of positive: 1137, number of negative: 7455\n",
      "[LightGBM] [Info] Auto-choosing col-wise multi-threading, the overhead of testing was 0.000464 seconds.\n",
      "You can set `force_col_wise=true` to remove the overhead.\n",
      "[LightGBM] [Info] Total Bins 5273\n",
      "[LightGBM] [Info] Number of data points in the train set: 8592, number of used features: 29\n",
      "[LightGBM] [Info] [binary:BoostFromScore]: pavg=0.132332 -> initscore=-1.880492\n",
      "[LightGBM] [Info] Start training from score -1.880492\n",
      "Training until validation scores don't improve for 10 rounds\n",
      "Early stopping, best iteration is:\n",
      "[38]\ttrain's binary_logloss: 0.164153\tvalid's binary_logloss: 0.306792\n"
     ]
    },
    {
     "name": "stderr",
     "output_type": "stream",
     "text": [
      "\n",
      "\u001b[A\n",
      "\u001b[A"
     ]
    },
    {
     "name": "stdout",
     "output_type": "stream",
     "text": [
      "[LightGBM] [Info] Number of positive: 1137, number of negative: 7455\n"
     ]
    },
    {
     "name": "stderr",
     "output_type": "stream",
     "text": [
      "\n",
      "\u001b[A\n",
      "\u001b[A[I 2023-11-23 15:58:28,960] Trial 27 finished with value: 0.3075445462870931 and parameters: {'bagging_fraction': 0.5483134275284542, 'bagging_freq': 7}. Best is trial 27 with value: 0.3075445462870931.\n",
      "\n",
      "\u001b[A\n",
      "\u001b[A\n",
      "\u001b[A[I 2023-11-23 15:58:29,073] Trial 28 finished with value: 0.30468092499277644 and parameters: {'bagging_fraction': 0.997725754190254, 'bagging_freq': 2}. Best is trial 28 with value: 0.30468092499277644.\n",
      "\n",
      "\n"
     ]
    },
    {
     "name": "stdout",
     "output_type": "stream",
     "text": [
      "[LightGBM] [Info] Auto-choosing col-wise multi-threading, the overhead of testing was 0.000552 seconds.\n",
      "You can set `force_col_wise=true` to remove the overhead.\n",
      "[LightGBM] [Info] Total Bins 5273\n",
      "[LightGBM] [Info] Number of data points in the train set: 8592, number of used features: 29\n",
      "[LightGBM] [Info] [binary:BoostFromScore]: pavg=0.132332 -> initscore=-1.880492\n",
      "[LightGBM] [Info] Start training from score -1.880492\n",
      "Training until validation scores don't improve for 10 rounds\n",
      "Early stopping, best iteration is:\n",
      "[86]\ttrain's binary_logloss: 0.319346\tvalid's binary_logloss: 0.307545\n",
      "[LightGBM] [Info] Number of positive: 1137, number of negative: 7455\n",
      "[LightGBM] [Info] Auto-choosing col-wise multi-threading, the overhead of testing was 0.000476 seconds.\n",
      "You can set `force_col_wise=true` to remove the overhead.\n",
      "[LightGBM] [Info] Total Bins 5273\n",
      "[LightGBM] [Info] Number of data points in the train set: 8592, number of used features: 29\n",
      "[LightGBM] [Info] [binary:BoostFromScore]: pavg=0.132332 -> initscore=-1.880492\n",
      "[LightGBM] [Info] Start training from score -1.880492\n",
      "Training until validation scores don't improve for 10 rounds\n",
      "[100]\ttrain's binary_logloss: 0.316699\tvalid's binary_logloss: 0.30554\n",
      "Early stopping, best iteration is:\n",
      "[137]\ttrain's binary_logloss: 0.312185\tvalid's binary_logloss: 0.304681\n"
     ]
    },
    {
     "name": "stderr",
     "output_type": "stream",
     "text": [
      "bagging, val_score: 0.303797:  20%|##        | 2/10 [00:00<00:00,  8.91it/s]\u001b[A\u001b[A\n",
      "\u001b[A\n",
      "\u001b[A[I 2023-11-23 15:58:29,187] Trial 29 finished with value: 0.30701497254330995 and parameters: {'bagging_fraction': 0.4309575760532915, 'bagging_freq': 6}. Best is trial 28 with value: 0.30468092499277644.\n",
      "\n",
      "\u001b[A\n",
      "\u001b[A\n",
      "\u001b[A[I 2023-11-23 15:58:29,291] Trial 30 finished with value: 0.30627357232186725 and parameters: {'bagging_fraction': 0.8021266068072005, 'bagging_freq': 1}. Best is trial 28 with value: 0.30468092499277644.\n",
      "\n",
      "\u001b[A"
     ]
    },
    {
     "name": "stdout",
     "output_type": "stream",
     "text": [
      "[LightGBM] [Info] Number of positive: 1137, number of negative: 7455\n",
      "[LightGBM] [Info] Auto-choosing col-wise multi-threading, the overhead of testing was 0.000490 seconds.\n",
      "You can set `force_col_wise=true` to remove the overhead.\n",
      "[LightGBM] [Info] Total Bins 5273\n",
      "[LightGBM] [Info] Number of data points in the train set: 8592, number of used features: 29\n",
      "[LightGBM] [Info] [binary:BoostFromScore]: pavg=0.132332 -> initscore=-1.880492\n",
      "[LightGBM] [Info] Start training from score -1.880492\n",
      "Training until validation scores don't improve for 10 rounds\n",
      "[100]\ttrain's binary_logloss: 0.317724\tvalid's binary_logloss: 0.307024\n",
      "Early stopping, best iteration is:\n",
      "[103]\ttrain's binary_logloss: 0.317364\tvalid's binary_logloss: 0.307015\n",
      "[LightGBM] [Info] Number of positive: 1137, number of negative: 7455\n",
      "[LightGBM] [Info] Auto-choosing col-wise multi-threading, the overhead of testing was 0.000469 seconds.\n",
      "You can set `force_col_wise=true` to remove the overhead.\n",
      "[LightGBM] [Info] Total Bins 5273\n",
      "[LightGBM] [Info] Number of data points in the train set: 8592, number of used features: 29\n",
      "[LightGBM] [Info] [binary:BoostFromScore]: pavg=0.132332 -> initscore=-1.880492\n",
      "[LightGBM] [Info] Start training from score -1.880492\n",
      "Training until validation scores don't improve for 10 rounds\n",
      "Early stopping, best iteration is:\n",
      "[81]\ttrain's binary_logloss: 0.318581\tvalid's binary_logloss: 0.306274\n"
     ]
    },
    {
     "name": "stderr",
     "output_type": "stream",
     "text": [
      "\n",
      "\u001b[A\n",
      "\u001b[A[I 2023-11-23 15:58:29,397] Trial 31 finished with value: 0.30649280630984704 and parameters: {'bagging_fraction': 0.6907566676424649, 'bagging_freq': 4}. Best is trial 28 with value: 0.30468092499277644.\n",
      "\n",
      "\u001b[A\n",
      "\u001b[A\n",
      "\u001b[A[I 2023-11-23 15:58:29,503] Trial 32 finished with value: 0.30540611589687233 and parameters: {'bagging_fraction': 0.42698731651063876, 'bagging_freq': 4}. Best is trial 28 with value: 0.30468092499277644.\n",
      "\n",
      "\u001b[A"
     ]
    },
    {
     "name": "stdout",
     "output_type": "stream",
     "text": [
      "[LightGBM] [Info] Number of positive: 1137, number of negative: 7455\n",
      "[LightGBM] [Info] Auto-choosing col-wise multi-threading, the overhead of testing was 0.000572 seconds.\n",
      "You can set `force_col_wise=true` to remove the overhead.\n",
      "[LightGBM] [Info] Total Bins 5273\n",
      "[LightGBM] [Info] Number of data points in the train set: 8592, number of used features: 29\n",
      "[LightGBM] [Info] [binary:BoostFromScore]: pavg=0.132332 -> initscore=-1.880492\n",
      "[LightGBM] [Info] Start training from score -1.880492\n",
      "Training until validation scores don't improve for 10 rounds\n",
      "Early stopping, best iteration is:\n",
      "[67]\ttrain's binary_logloss: 0.322025\tvalid's binary_logloss: 0.306493\n",
      "[LightGBM] [Info] Number of positive: 1137, number of negative: 7455\n",
      "[LightGBM] [Info] Auto-choosing col-wise multi-threading, the overhead of testing was 0.000680 seconds.\n",
      "You can set `force_col_wise=true` to remove the overhead.\n",
      "[LightGBM] [Info] Total Bins 5273\n",
      "[LightGBM] [Info] Number of data points in the train set: 8592, number of used features: 29\n",
      "[LightGBM] [Info] [binary:BoostFromScore]: pavg=0.132332 -> initscore=-1.880492\n",
      "[LightGBM] [Info] Start training from score -1.880492\n",
      "Training until validation scores don't improve for 10 rounds\n",
      "[100]\ttrain's binary_logloss: 0.317507\tvalid's binary_logloss: 0.305406\n",
      "Early stopping, best iteration is:\n",
      "[100]\ttrain's binary_logloss: 0.317507\tvalid's binary_logloss: 0.305406\n"
     ]
    },
    {
     "name": "stderr",
     "output_type": "stream",
     "text": [
      "\n",
      "\u001b[A\n",
      "\u001b[A[I 2023-11-23 15:58:29,632] Trial 33 finished with value: 0.30558089287353185 and parameters: {'bagging_fraction': 0.9857855511462924, 'bagging_freq': 3}. Best is trial 28 with value: 0.30468092499277644.\n",
      "\n",
      "\u001b[A"
     ]
    },
    {
     "name": "stdout",
     "output_type": "stream",
     "text": [
      "[LightGBM] [Info] Number of positive: 1137, number of negative: 7455\n",
      "[LightGBM] [Info] Auto-choosing col-wise multi-threading, the overhead of testing was 0.000701 seconds.\n",
      "You can set `force_col_wise=true` to remove the overhead.\n",
      "[LightGBM] [Info] Total Bins 5273\n",
      "[LightGBM] [Info] Number of data points in the train set: 8592, number of used features: 29\n",
      "[LightGBM] [Info] [binary:BoostFromScore]: pavg=0.132332 -> initscore=-1.880492\n",
      "[LightGBM] [Info] Start training from score -1.880492\n",
      "Training until validation scores don't improve for 10 rounds\n",
      "[100]\ttrain's binary_logloss: 0.317262\tvalid's binary_logloss: 0.306102\n",
      "Early stopping, best iteration is:\n",
      "[116]\ttrain's binary_logloss: 0.314994\tvalid's binary_logloss: 0.305581\n",
      "[LightGBM] [Info] Number of positive: 1137, number of negative: 7455\n",
      "[LightGBM] [Info] Auto-choosing col-wise multi-threading, the overhead of testing was 0.000588 seconds.\n",
      "You can set `force_col_wise=true` to remove the overhead.\n",
      "[LightGBM] [Info] Total Bins 5273\n",
      "[LightGBM] [Info] Number of data points in the train set: 8592, number of used features: 29\n",
      "[LightGBM] [Info] [binary:BoostFromScore]: pavg=0.132332 -> initscore=-1.880492\n",
      "[LightGBM] [Info] Start training from score -1.880492\n",
      "Training until validation scores don't improve for 10 rounds\n",
      "[100]\ttrain's binary_logloss: 0.316355\tvalid's binary_logloss: 0.306691\n",
      "Early stopping, best iteration is:\n",
      "[116]\ttrain's binary_logloss: 0.314019\tvalid's binary_logloss: 0.306407\n"
     ]
    },
    {
     "name": "stderr",
     "output_type": "stream",
     "text": [
      "\n",
      "\u001b[A\n",
      "\u001b[A[I 2023-11-23 15:58:29,738] Trial 34 finished with value: 0.3064068386483643 and parameters: {'bagging_fraction': 0.7187499484409323, 'bagging_freq': 6}. Best is trial 28 with value: 0.30468092499277644.\n",
      "\n",
      "\u001b[A\n",
      "\u001b[A\n",
      "\u001b[A[I 2023-11-23 15:58:29,861] Trial 35 finished with value: 0.30469417904641877 and parameters: {'bagging_fraction': 0.876003502126945, 'bagging_freq': 1}. Best is trial 28 with value: 0.30468092499277644.\n",
      "\n",
      "\u001b[A\n",
      "\n"
     ]
    },
    {
     "name": "stdout",
     "output_type": "stream",
     "text": [
      "[LightGBM] [Info] Number of positive: 1137, number of negative: 7455\n",
      "[LightGBM] [Info] Auto-choosing col-wise multi-threading, the overhead of testing was 0.000583 seconds.\n",
      "You can set `force_col_wise=true` to remove the overhead.\n",
      "[LightGBM] [Info] Total Bins 5273\n",
      "[LightGBM] [Info] Number of data points in the train set: 8592, number of used features: 29\n",
      "[LightGBM] [Info] [binary:BoostFromScore]: pavg=0.132332 -> initscore=-1.880492\n",
      "[LightGBM] [Info] Start training from score -1.880492\n",
      "Training until validation scores don't improve for 10 rounds\n",
      "[100]\ttrain's binary_logloss: 0.31631\tvalid's binary_logloss: 0.305986\n",
      "Early stopping, best iteration is:\n",
      "[135]\ttrain's binary_logloss: 0.311806\tvalid's binary_logloss: 0.304694\n",
      "[LightGBM] [Info] Number of positive: 1137, number of negative: 7455\n",
      "[LightGBM] [Info] Auto-choosing col-wise multi-threading, the overhead of testing was 0.000588 seconds.\n",
      "You can set `force_col_wise=true` to remove the overhead.\n",
      "[LightGBM] [Info] Total Bins 5273\n",
      "[LightGBM] [Info] Number of data points in the train set: 8592, number of used features: 29\n",
      "[LightGBM] [Info] [binary:BoostFromScore]: pavg=0.132332 -> initscore=-1.880492\n",
      "[LightGBM] [Info] Start training from score -1.880492\n",
      "Training until validation scores don't improve for 10 rounds\n",
      "[100]\ttrain's binary_logloss: 0.316697\tvalid's binary_logloss: 0.306024\n",
      "Early stopping, best iteration is:\n",
      "[111]\ttrain's binary_logloss: 0.315203\tvalid's binary_logloss: 0.305449\n"
     ]
    },
    {
     "name": "stderr",
     "output_type": "stream",
     "text": [
      "bagging, val_score: 0.303797:  90%|######### | 9/10 [00:01<00:00,  8.63it/s]\u001b[A\u001b[A\n",
      "\u001b[A[I 2023-11-23 15:58:29,972] Trial 36 finished with value: 0.30544928966044077 and parameters: {'bagging_fraction': 0.5996847313929925, 'bagging_freq': 5}. Best is trial 28 with value: 0.30468092499277644.\n",
      "bagging, val_score: 0.303797: 100%|##########| 10/10 [00:01<00:00,  8.88it/s]\n",
      "\n",
      "\u001b[A\n",
      "\u001b[A\n",
      "\u001b[A\n",
      "\u001b[A[I 2023-11-23 15:58:30,098] Trial 37 finished with value: 0.3050685245141555 and parameters: {'feature_fraction': 0.48000000000000004}. Best is trial 37 with value: 0.3050685245141555.\n",
      "\n",
      "\u001b[A"
     ]
    },
    {
     "name": "stdout",
     "output_type": "stream",
     "text": [
      "[LightGBM] [Info] Number of positive: 1137, number of negative: 7455\n",
      "[LightGBM] [Info] Auto-choosing col-wise multi-threading, the overhead of testing was 0.000634 seconds.\n",
      "You can set `force_col_wise=true` to remove the overhead.\n",
      "[LightGBM] [Info] Total Bins 5273\n",
      "[LightGBM] [Info] Number of data points in the train set: 8592, number of used features: 29\n",
      "[LightGBM] [Info] [binary:BoostFromScore]: pavg=0.132332 -> initscore=-1.880492\n",
      "[LightGBM] [Info] Start training from score -1.880492\n",
      "Training until validation scores don't improve for 10 rounds\n",
      "[100]\ttrain's binary_logloss: 0.316634\tvalid's binary_logloss: 0.305197\n",
      "Early stopping, best iteration is:\n",
      "[107]\ttrain's binary_logloss: 0.31555\tvalid's binary_logloss: 0.305069\n",
      "[LightGBM] [Info] Number of positive: 1137, number of negative: 7455\n",
      "[LightGBM] [Info] Auto-choosing col-wise multi-threading, the overhead of testing was 0.000540 seconds.\n",
      "You can set `force_col_wise=true` to remove the overhead.\n",
      "[LightGBM] [Info] Total Bins 5273\n",
      "[LightGBM] [Info] Number of data points in the train set: 8592, number of used features: 29\n",
      "[LightGBM] [Info] [binary:BoostFromScore]: pavg=0.132332 -> initscore=-1.880492\n",
      "[LightGBM] [Info] Start training from score -1.880492\n",
      "Training until validation scores don't improve for 10 rounds\n",
      "[100]\ttrain's binary_logloss: 0.31665\tvalid's binary_logloss: 0.305039\n",
      "Early stopping, best iteration is:\n",
      "[135]\ttrain's binary_logloss: 0.312108\tvalid's binary_logloss: 0.303573\n"
     ]
    },
    {
     "name": "stderr",
     "output_type": "stream",
     "text": [
      "\n",
      "\u001b[A\n",
      "\u001b[A[I 2023-11-23 15:58:30,211] Trial 38 finished with value: 0.3035726089149872 and parameters: {'feature_fraction': 0.44800000000000006}. Best is trial 38 with value: 0.3035726089149872.\n",
      "\n",
      "\u001b[A\n",
      "\u001b[A\n",
      "\u001b[A[I 2023-11-23 15:58:30,375] Trial 39 finished with value: 0.3037972025444344 and parameters: {'feature_fraction': 0.41600000000000004}. Best is trial 38 with value: 0.3035726089149872.\n",
      "feature_fraction_stage2, val_score: 0.303573: 100%|##########| 3/3 [00:00<00:00,  7.54it/s]\n"
     ]
    },
    {
     "name": "stdout",
     "output_type": "stream",
     "text": [
      "[LightGBM] [Info] Number of positive: 1137, number of negative: 7455\n",
      "[LightGBM] [Info] Auto-choosing col-wise multi-threading, the overhead of testing was 0.000842 seconds.\n",
      "You can set `force_col_wise=true` to remove the overhead.\n",
      "[LightGBM] [Info] Total Bins 5273\n",
      "[LightGBM] [Info] Number of data points in the train set: 8592, number of used features: 29\n",
      "[LightGBM] [Info] [binary:BoostFromScore]: pavg=0.132332 -> initscore=-1.880492\n",
      "[LightGBM] [Info] Start training from score -1.880492\n",
      "Training until validation scores don't improve for 10 rounds\n",
      "[100]\ttrain's binary_logloss: 0.317057\tvalid's binary_logloss: 0.304791\n",
      "Early stopping, best iteration is:\n",
      "[177]\ttrain's binary_logloss: 0.307767\tvalid's binary_logloss: 0.303797\n"
     ]
    },
    {
     "name": "stderr",
     "output_type": "stream",
     "text": [
      "\n",
      "\u001b[A\n",
      "\u001b[A"
     ]
    },
    {
     "name": "stdout",
     "output_type": "stream",
     "text": [
      "[LightGBM] [Info] Number of positive: 1137, number of negative: 7455\n"
     ]
    },
    {
     "name": "stderr",
     "output_type": "stream",
     "text": [
      "\n",
      "\u001b[A\n",
      "\u001b[A[I 2023-11-23 15:58:30,529] Trial 40 finished with value: 0.3035726089367721 and parameters: {'lambda_l1': 2.3567176019508365e-07, 'lambda_l2': 1.3823283666173427e-08}. Best is trial 40 with value: 0.3035726089367721.\n",
      "\n",
      "\u001b[A"
     ]
    },
    {
     "name": "stdout",
     "output_type": "stream",
     "text": [
      "[LightGBM] [Info] Auto-choosing col-wise multi-threading, the overhead of testing was 0.000594 seconds.\n",
      "You can set `force_col_wise=true` to remove the overhead.\n",
      "[LightGBM] [Info] Total Bins 5273\n",
      "[LightGBM] [Info] Number of data points in the train set: 8592, number of used features: 29\n",
      "[LightGBM] [Info] [binary:BoostFromScore]: pavg=0.132332 -> initscore=-1.880492\n",
      "[LightGBM] [Info] Start training from score -1.880492\n",
      "Training until validation scores don't improve for 10 rounds\n",
      "[100]\ttrain's binary_logloss: 0.31665\tvalid's binary_logloss: 0.305039\n",
      "Early stopping, best iteration is:\n",
      "[135]\ttrain's binary_logloss: 0.312108\tvalid's binary_logloss: 0.303573\n",
      "[LightGBM] [Info] Number of positive: 1137, number of negative: 7455\n",
      "[LightGBM] [Info] Auto-choosing col-wise multi-threading, the overhead of testing was 0.000513 seconds.\n",
      "You can set `force_col_wise=true` to remove the overhead.\n",
      "[LightGBM] [Info] Total Bins 5273\n",
      "[LightGBM] [Info] Number of data points in the train set: 8592, number of used features: 29\n",
      "[LightGBM] [Info] [binary:BoostFromScore]: pavg=0.132332 -> initscore=-1.880492\n",
      "[LightGBM] [Info] Start training from score -1.880492\n",
      "Training until validation scores don't improve for 10 rounds\n"
     ]
    },
    {
     "name": "stderr",
     "output_type": "stream",
     "text": [
      "\n",
      "\u001b[A\n",
      "\u001b[A[I 2023-11-23 15:58:30,682] Trial 41 finished with value: 0.30357260891920157 and parameters: {'lambda_l1': 5.958281811720145e-08, 'lambda_l2': 4.242676615535409e-08}. Best is trial 41 with value: 0.30357260891920157.\n",
      "\n",
      "\u001b[A\n",
      "\u001b[A\n",
      "\u001b[A[I 2023-11-23 15:58:30,814] Trial 42 finished with value: 0.3035726089192328 and parameters: {'lambda_l1': 7.694806581404965e-08, 'lambda_l2': 1.874398086591799e-08}. Best is trial 41 with value: 0.30357260891920157.\n",
      "\n",
      "\u001b[A"
     ]
    },
    {
     "name": "stdout",
     "output_type": "stream",
     "text": [
      "[100]\ttrain's binary_logloss: 0.31665\tvalid's binary_logloss: 0.305039\n",
      "Early stopping, best iteration is:\n",
      "[135]\ttrain's binary_logloss: 0.312108\tvalid's binary_logloss: 0.303573\n",
      "[LightGBM] [Info] Number of positive: 1137, number of negative: 7455\n",
      "[LightGBM] [Info] Auto-choosing col-wise multi-threading, the overhead of testing was 0.000572 seconds.\n",
      "You can set `force_col_wise=true` to remove the overhead.\n",
      "[LightGBM] [Info] Total Bins 5273\n",
      "[LightGBM] [Info] Number of data points in the train set: 8592, number of used features: 29\n",
      "[LightGBM] [Info] [binary:BoostFromScore]: pavg=0.132332 -> initscore=-1.880492\n",
      "[LightGBM] [Info] Start training from score -1.880492\n",
      "Training until validation scores don't improve for 10 rounds\n",
      "[100]\ttrain's binary_logloss: 0.31665\tvalid's binary_logloss: 0.305039\n",
      "Early stopping, best iteration is:\n",
      "[135]\ttrain's binary_logloss: 0.312108\tvalid's binary_logloss: 0.303573\n"
     ]
    },
    {
     "name": "stderr",
     "output_type": "stream",
     "text": [
      "\n",
      "\u001b[A\n",
      "\u001b[A[I 2023-11-23 15:58:30,930] Trial 43 finished with value: 0.3035726089195304 and parameters: {'lambda_l1': 3.801973301775736e-08, 'lambda_l2': 6.450711847966119e-08}. Best is trial 41 with value: 0.30357260891920157.\n",
      "\n",
      "\u001b[A"
     ]
    },
    {
     "name": "stdout",
     "output_type": "stream",
     "text": [
      "[LightGBM] [Info] Number of positive: 1137, number of negative: 7455\n",
      "[LightGBM] [Info] Auto-choosing col-wise multi-threading, the overhead of testing was 0.000615 seconds.\n",
      "You can set `force_col_wise=true` to remove the overhead.\n",
      "[LightGBM] [Info] Total Bins 5273\n",
      "[LightGBM] [Info] Number of data points in the train set: 8592, number of used features: 29\n",
      "[LightGBM] [Info] [binary:BoostFromScore]: pavg=0.132332 -> initscore=-1.880492\n",
      "[LightGBM] [Info] Start training from score -1.880492\n",
      "Training until validation scores don't improve for 10 rounds\n",
      "[100]\ttrain's binary_logloss: 0.31665\tvalid's binary_logloss: 0.305039\n",
      "Early stopping, best iteration is:\n",
      "[135]\ttrain's binary_logloss: 0.312108\tvalid's binary_logloss: 0.303573\n",
      "[LightGBM] [Info] Number of positive: 1137, number of negative: 7455\n",
      "[LightGBM] [Info] Auto-choosing col-wise multi-threading, the overhead of testing was 0.000551 seconds.\n",
      "You can set `force_col_wise=true` to remove the overhead.\n",
      "[LightGBM] [Info] Total Bins 5273\n",
      "[LightGBM] [Info] Number of data points in the train set: 8592, number of used features: 29\n",
      "[LightGBM] [Info] [binary:BoostFromScore]: pavg=0.132332 -> initscore=-1.880492\n",
      "[LightGBM] [Info] Start training from score -1.880492\n",
      "Training until validation scores don't improve for 10 rounds\n",
      "[100]\ttrain's binary_logloss: 0.31665\tvalid's binary_logloss: 0.305039\n"
     ]
    },
    {
     "name": "stderr",
     "output_type": "stream",
     "text": [
      "\n",
      "\u001b[A\n",
      "\u001b[A[I 2023-11-23 15:58:31,046] Trial 44 finished with value: 0.3035726089175227 and parameters: {'lambda_l1': 4.3978290172607333e-08, 'lambda_l2': 2.3407082710983024e-08}. Best is trial 44 with value: 0.3035726089175227.\n",
      "\n",
      "\u001b[A\n",
      "\u001b[A\n",
      "\u001b[A[I 2023-11-23 15:58:31,156] Trial 45 finished with value: 0.30357260891774324 and parameters: {'lambda_l1': 4.04036454813404e-08, 'lambda_l2': 2.1450299329517594e-08}. Best is trial 44 with value: 0.3035726089175227.\n",
      "\n",
      "\u001b[A"
     ]
    },
    {
     "name": "stdout",
     "output_type": "stream",
     "text": [
      "Early stopping, best iteration is:\n",
      "[135]\ttrain's binary_logloss: 0.312108\tvalid's binary_logloss: 0.303573\n",
      "[LightGBM] [Info] Number of positive: 1137, number of negative: 7455\n",
      "[LightGBM] [Info] Auto-choosing col-wise multi-threading, the overhead of testing was 0.000592 seconds.\n",
      "You can set `force_col_wise=true` to remove the overhead.\n",
      "[LightGBM] [Info] Total Bins 5273\n",
      "[LightGBM] [Info] Number of data points in the train set: 8592, number of used features: 29\n",
      "[LightGBM] [Info] [binary:BoostFromScore]: pavg=0.132332 -> initscore=-1.880492\n",
      "[LightGBM] [Info] Start training from score -1.880492\n",
      "Training until validation scores don't improve for 10 rounds\n",
      "[100]\ttrain's binary_logloss: 0.31665\tvalid's binary_logloss: 0.305039\n",
      "Early stopping, best iteration is:\n",
      "[135]\ttrain's binary_logloss: 0.312108\tvalid's binary_logloss: 0.303573\n",
      "[LightGBM] [Info] Number of positive: 1137, number of negative: 7455\n",
      "[LightGBM] [Info] Auto-choosing col-wise multi-threading, the overhead of testing was 0.000561 seconds.\n",
      "You can set `force_col_wise=true` to remove the overhead.\n",
      "[LightGBM] [Info] Total Bins 5273\n",
      "[LightGBM] [Info] Number of data points in the train set: 8592, number of used features: 29\n",
      "[LightGBM] [Info] [binary:BoostFromScore]: pavg=0.132332 -> initscore=-1.880492\n",
      "[LightGBM] [Info] Start training from score -1.880492\n",
      "Training until validation scores don't improve for 10 rounds\n"
     ]
    },
    {
     "name": "stderr",
     "output_type": "stream",
     "text": [
      "\n",
      "\u001b[A\n",
      "\u001b[A[I 2023-11-23 15:58:31,262] Trial 46 finished with value: 0.30357260891833004 and parameters: {'lambda_l1': 2.9722760730993024e-08, 'lambda_l2': 2.1247662317076266e-08}. Best is trial 44 with value: 0.3035726089175227.\n",
      "\n",
      "\u001b[A\n",
      "\u001b[A\n",
      "\u001b[A[I 2023-11-23 15:58:31,371] Trial 47 finished with value: 0.3035726089168222 and parameters: {'lambda_l1': 1.8909337987769886e-08, 'lambda_l2': 1.588932054983356e-08}. Best is trial 47 with value: 0.3035726089168222.\n",
      "\n",
      "\u001b[A"
     ]
    },
    {
     "name": "stdout",
     "output_type": "stream",
     "text": [
      "[100]\ttrain's binary_logloss: 0.31665\tvalid's binary_logloss: 0.305039\n",
      "Early stopping, best iteration is:\n",
      "[135]\ttrain's binary_logloss: 0.312108\tvalid's binary_logloss: 0.303573\n",
      "[LightGBM] [Info] Number of positive: 1137, number of negative: 7455\n",
      "[LightGBM] [Info] Auto-choosing col-wise multi-threading, the overhead of testing was 0.000689 seconds.\n",
      "You can set `force_col_wise=true` to remove the overhead.\n",
      "[LightGBM] [Info] Total Bins 5273\n",
      "[LightGBM] [Info] Number of data points in the train set: 8592, number of used features: 29\n",
      "[LightGBM] [Info] [binary:BoostFromScore]: pavg=0.132332 -> initscore=-1.880492\n",
      "[LightGBM] [Info] Start training from score -1.880492\n",
      "Training until validation scores don't improve for 10 rounds\n",
      "[100]\ttrain's binary_logloss: 0.31665\tvalid's binary_logloss: 0.305039\n",
      "Early stopping, best iteration is:\n",
      "[135]\ttrain's binary_logloss: 0.312108\tvalid's binary_logloss: 0.303573\n",
      "[LightGBM] [Info] Number of positive: 1137, number of negative: 7455\n",
      "[LightGBM] [Info] Auto-choosing col-wise multi-threading, the overhead of testing was 0.000489 seconds.\n",
      "You can set `force_col_wise=true` to remove the overhead.\n",
      "[LightGBM] [Info] Total Bins 5273\n",
      "[LightGBM] [Info] Number of data points in the train set: 8592, number of used features: 29\n"
     ]
    },
    {
     "name": "stderr",
     "output_type": "stream",
     "text": [
      "\n",
      "\u001b[A\n",
      "\u001b[A[I 2023-11-23 15:58:31,485] Trial 48 finished with value: 0.3035726089160725 and parameters: {'lambda_l1': 1.3202391085121203e-08, 'lambda_l2': 1.01464037124239e-08}. Best is trial 48 with value: 0.3035726089160725.\n",
      "\n",
      "\u001b[A\n",
      "\u001b[A\n",
      "\u001b[A[I 2023-11-23 15:58:31,603] Trial 49 finished with value: 0.30357261297814997 and parameters: {'lambda_l1': 5.247074284747738e-05, 'lambda_l2': 2.2485866691394097e-05}. Best is trial 48 with value: 0.3035726089160725.\n",
      "\n",
      "\u001b[A"
     ]
    },
    {
     "name": "stdout",
     "output_type": "stream",
     "text": [
      "[LightGBM] [Info] [binary:BoostFromScore]: pavg=0.132332 -> initscore=-1.880492\n",
      "[LightGBM] [Info] Start training from score -1.880492\n",
      "Training until validation scores don't improve for 10 rounds\n",
      "[100]\ttrain's binary_logloss: 0.31665\tvalid's binary_logloss: 0.305039\n",
      "Early stopping, best iteration is:\n",
      "[135]\ttrain's binary_logloss: 0.312108\tvalid's binary_logloss: 0.303573\n",
      "[LightGBM] [Info] Number of positive: 1137, number of negative: 7455\n",
      "[LightGBM] [Info] Auto-choosing col-wise multi-threading, the overhead of testing was 0.000655 seconds.\n",
      "You can set `force_col_wise=true` to remove the overhead.\n",
      "[LightGBM] [Info] Total Bins 5273\n",
      "[LightGBM] [Info] Number of data points in the train set: 8592, number of used features: 29\n",
      "[LightGBM] [Info] [binary:BoostFromScore]: pavg=0.132332 -> initscore=-1.880492\n",
      "[LightGBM] [Info] Start training from score -1.880492\n",
      "Training until validation scores don't improve for 10 rounds\n",
      "[100]\ttrain's binary_logloss: 0.31665\tvalid's binary_logloss: 0.305039\n",
      "Early stopping, best iteration is:\n",
      "[135]\ttrain's binary_logloss: 0.312108\tvalid's binary_logloss: 0.303573\n"
     ]
    },
    {
     "name": "stderr",
     "output_type": "stream",
     "text": [
      "\n",
      "\u001b[A\n",
      "\u001b[A[I 2023-11-23 15:58:31,755] Trial 50 finished with value: 0.3035726090290927 and parameters: {'lambda_l1': 1.707848284812472e-08, 'lambda_l2': 2.717587283709861e-06}. Best is trial 48 with value: 0.3035726089160725.\n",
      "\n",
      "\u001b[A"
     ]
    },
    {
     "name": "stdout",
     "output_type": "stream",
     "text": [
      "[LightGBM] [Info] Number of positive: 1137, number of negative: 7455\n",
      "[LightGBM] [Info] Auto-choosing col-wise multi-threading, the overhead of testing was 0.000757 seconds.\n",
      "You can set `force_col_wise=true` to remove the overhead.\n",
      "[LightGBM] [Info] Total Bins 5273\n",
      "[LightGBM] [Info] Number of data points in the train set: 8592, number of used features: 29\n",
      "[LightGBM] [Info] [binary:BoostFromScore]: pavg=0.132332 -> initscore=-1.880492\n",
      "[LightGBM] [Info] Start training from score -1.880492\n",
      "Training until validation scores don't improve for 10 rounds\n",
      "[100]\ttrain's binary_logloss: 0.31665\tvalid's binary_logloss: 0.305039\n",
      "Early stopping, best iteration is:\n",
      "[135]\ttrain's binary_logloss: 0.312108\tvalid's binary_logloss: 0.303573\n",
      "[LightGBM] [Info] Number of positive: 1137, number of negative: 7455\n",
      "[LightGBM] [Info] Auto-choosing col-wise multi-threading, the overhead of testing was 0.000612 seconds.\n",
      "You can set `force_col_wise=true` to remove the overhead.\n",
      "[LightGBM] [Info] Total Bins 5273\n",
      "[LightGBM] [Info] Number of data points in the train set: 8592, number of used features: 29\n",
      "[LightGBM] [Info] [binary:BoostFromScore]: pavg=0.132332 -> initscore=-1.880492\n",
      "[LightGBM] [Info] Start training from score -1.880492\n",
      "Training until validation scores don't improve for 10 rounds\n"
     ]
    },
    {
     "name": "stderr",
     "output_type": "stream",
     "text": [
      "\n",
      "\u001b[A\n",
      "\u001b[A[I 2023-11-23 15:58:31,877] Trial 51 finished with value: 0.3035726089159379 and parameters: {'lambda_l1': 1.04486212783932e-08, 'lambda_l2': 1.075362513169412e-08}. Best is trial 51 with value: 0.3035726089159379.\n",
      "\n",
      "\u001b[A\n",
      "\u001b[A\n",
      "\u001b[A[I 2023-11-23 15:58:32,014] Trial 52 finished with value: 0.30357260891594445 and parameters: {'lambda_l1': 1.12390924083903e-08, 'lambda_l2': 1.0189698181855886e-08}. Best is trial 51 with value: 0.3035726089159379.\n",
      "\n",
      "\u001b[A"
     ]
    },
    {
     "name": "stdout",
     "output_type": "stream",
     "text": [
      "[100]\ttrain's binary_logloss: 0.31665\tvalid's binary_logloss: 0.305039\n",
      "Early stopping, best iteration is:\n",
      "[135]\ttrain's binary_logloss: 0.312108\tvalid's binary_logloss: 0.303573\n",
      "[LightGBM] [Info] Number of positive: 1137, number of negative: 7455\n",
      "[LightGBM] [Info] Auto-choosing col-wise multi-threading, the overhead of testing was 0.000561 seconds.\n",
      "You can set `force_col_wise=true` to remove the overhead.\n",
      "[LightGBM] [Info] Total Bins 5273\n",
      "[LightGBM] [Info] Number of data points in the train set: 8592, number of used features: 29\n",
      "[LightGBM] [Info] [binary:BoostFromScore]: pavg=0.132332 -> initscore=-1.880492\n",
      "[LightGBM] [Info] Start training from score -1.880492\n",
      "Training until validation scores don't improve for 10 rounds\n",
      "[100]\ttrain's binary_logloss: 0.31665\tvalid's binary_logloss: 0.305039\n",
      "Early stopping, best iteration is:\n",
      "[135]\ttrain's binary_logloss: 0.312108\tvalid's binary_logloss: 0.303573\n"
     ]
    },
    {
     "name": "stderr",
     "output_type": "stream",
     "text": [
      "\n",
      "\u001b[A[I 2023-11-23 15:58:32,112] Trial 53 finished with value: 0.3053734069808457 and parameters: {'lambda_l1': 1.0329462976689701e-08, 'lambda_l2': 0.1423719022368911}. Best is trial 51 with value: 0.3035726089159379.\n",
      "\n",
      "\u001b[A\n",
      "\u001b[A\n",
      "\u001b[A[I 2023-11-23 15:58:32,218] Trial 54 finished with value: 0.3035726090732784 and parameters: {'lambda_l1': 2.2429003642823976e-06, 'lambda_l2': 5.561588607322818e-07}. Best is trial 51 with value: 0.3035726089159379.\n",
      "\n",
      "\u001b[A"
     ]
    },
    {
     "name": "stdout",
     "output_type": "stream",
     "text": [
      "[LightGBM] [Info] Number of positive: 1137, number of negative: 7455\n",
      "[LightGBM] [Info] Auto-choosing col-wise multi-threading, the overhead of testing was 0.000485 seconds.\n",
      "You can set `force_col_wise=true` to remove the overhead.\n",
      "[LightGBM] [Info] Total Bins 5273\n",
      "[LightGBM] [Info] Number of data points in the train set: 8592, number of used features: 29\n",
      "[LightGBM] [Info] [binary:BoostFromScore]: pavg=0.132332 -> initscore=-1.880492\n",
      "[LightGBM] [Info] Start training from score -1.880492\n",
      "Training until validation scores don't improve for 10 rounds\n",
      "[100]\ttrain's binary_logloss: 0.316707\tvalid's binary_logloss: 0.305485\n",
      "Early stopping, best iteration is:\n",
      "[102]\ttrain's binary_logloss: 0.316432\tvalid's binary_logloss: 0.305373\n",
      "[LightGBM] [Info] Number of positive: 1137, number of negative: 7455\n",
      "[LightGBM] [Info] Auto-choosing col-wise multi-threading, the overhead of testing was 0.000435 seconds.\n",
      "You can set `force_col_wise=true` to remove the overhead.\n",
      "[LightGBM] [Info] Total Bins 5273\n",
      "[LightGBM] [Info] Number of data points in the train set: 8592, number of used features: 29\n",
      "[LightGBM] [Info] [binary:BoostFromScore]: pavg=0.132332 -> initscore=-1.880492\n",
      "[LightGBM] [Info] Start training from score -1.880492\n",
      "Training until validation scores don't improve for 10 rounds\n",
      "[100]\ttrain's binary_logloss: 0.31665\tvalid's binary_logloss: 0.305039\n",
      "Early stopping, best iteration is:\n",
      "[135]\ttrain's binary_logloss: 0.312108\tvalid's binary_logloss: 0.303573\n"
     ]
    },
    {
     "name": "stderr",
     "output_type": "stream",
     "text": [
      "\n",
      "\u001b[A\n",
      "\u001b[A[I 2023-11-23 15:58:32,329] Trial 55 finished with value: 0.30450262311342347 and parameters: {'lambda_l1': 0.04284716698194279, 'lambda_l2': 1.2092133589671588e-08}. Best is trial 51 with value: 0.3035726089159379.\n",
      "\n",
      "\u001b[A\n",
      "\u001b[A\n",
      "\u001b[A[I 2023-11-23 15:58:32,430] Trial 56 finished with value: 0.30357260896133914 and parameters: {'lambda_l1': 5.86641437077924e-07, 'lambda_l2': 4.574226449332577e-07}. Best is trial 51 with value: 0.3035726089159379.\n",
      "\n",
      "\u001b[A"
     ]
    },
    {
     "name": "stdout",
     "output_type": "stream",
     "text": [
      "[LightGBM] [Info] Number of positive: 1137, number of negative: 7455\n",
      "[LightGBM] [Info] Auto-choosing col-wise multi-threading, the overhead of testing was 0.000784 seconds.\n",
      "You can set `force_col_wise=true` to remove the overhead.\n",
      "[LightGBM] [Info] Total Bins 5273\n",
      "[LightGBM] [Info] Number of data points in the train set: 8592, number of used features: 29\n",
      "[LightGBM] [Info] [binary:BoostFromScore]: pavg=0.132332 -> initscore=-1.880492\n",
      "[LightGBM] [Info] Start training from score -1.880492\n",
      "Training until validation scores don't improve for 10 rounds\n",
      "[100]\ttrain's binary_logloss: 0.316673\tvalid's binary_logloss: 0.305162\n",
      "Early stopping, best iteration is:\n",
      "[113]\ttrain's binary_logloss: 0.314722\tvalid's binary_logloss: 0.304503\n",
      "[LightGBM] [Info] Number of positive: 1137, number of negative: 7455\n",
      "[LightGBM] [Info] Auto-choosing col-wise multi-threading, the overhead of testing was 0.000449 seconds.\n",
      "You can set `force_col_wise=true` to remove the overhead.\n",
      "[LightGBM] [Info] Total Bins 5273\n",
      "[LightGBM] [Info] Number of data points in the train set: 8592, number of used features: 29\n",
      "[LightGBM] [Info] [binary:BoostFromScore]: pavg=0.132332 -> initscore=-1.880492\n",
      "[LightGBM] [Info] Start training from score -1.880492\n",
      "Training until validation scores don't improve for 10 rounds\n",
      "[100]\ttrain's binary_logloss: 0.31665\tvalid's binary_logloss: 0.305039\n",
      "Early stopping, best iteration is:\n",
      "[135]\ttrain's binary_logloss: 0.312108\tvalid's binary_logloss: 0.303573\n"
     ]
    },
    {
     "name": "stderr",
     "output_type": "stream",
     "text": [
      "\n",
      "\u001b[A\n",
      "\u001b[A[I 2023-11-23 15:58:32,551] Trial 57 finished with value: 0.303572608927239 and parameters: {'lambda_l1': 1.4096963522309892e-08, 'lambda_l2': 2.1277806536960677e-07}. Best is trial 51 with value: 0.3035726089159379.\n",
      "\n",
      "\u001b[A\n",
      "\u001b[A\n",
      "\u001b[A"
     ]
    },
    {
     "name": "stdout",
     "output_type": "stream",
     "text": [
      "[LightGBM] [Info] Number of positive: 1137, number of negative: 7455\n",
      "[LightGBM] [Info] Auto-choosing col-wise multi-threading, the overhead of testing was 0.000727 seconds.\n",
      "You can set `force_col_wise=true` to remove the overhead.\n",
      "[LightGBM] [Info] Total Bins 5273\n",
      "[LightGBM] [Info] Number of data points in the train set: 8592, number of used features: 29\n",
      "[LightGBM] [Info] [binary:BoostFromScore]: pavg=0.132332 -> initscore=-1.880492\n",
      "[LightGBM] [Info] Start training from score -1.880492\n",
      "Training until validation scores don't improve for 10 rounds\n",
      "[100]\ttrain's binary_logloss: 0.31665\tvalid's binary_logloss: 0.305039\n",
      "Early stopping, best iteration is:\n",
      "[135]\ttrain's binary_logloss: 0.312108\tvalid's binary_logloss: 0.303573\n",
      "[LightGBM] [Info] Number of positive: 1137, number of negative: 7455\n",
      "[LightGBM] [Info] Auto-choosing col-wise multi-threading, the overhead of testing was 0.000425 seconds.\n",
      "You can set `force_col_wise=true` to remove the overhead.\n",
      "[LightGBM] [Info] Total Bins 5273\n",
      "[LightGBM] [Info] Number of data points in the train set: 8592, number of used features: 29\n",
      "[LightGBM] [Info] [binary:BoostFromScore]: pavg=0.132332 -> initscore=-1.880492\n",
      "[LightGBM] [Info] Start training from score -1.880492\n",
      "Training until validation scores don't improve for 10 rounds\n",
      "[100]\ttrain's binary_logloss: 0.31665\tvalid's binary_logloss: 0.305039\n",
      "Early stopping, best iteration is:\n",
      "[135]\ttrain's binary_logloss: 0.312108\tvalid's binary_logloss: 0.303573\n"
     ]
    },
    {
     "name": "stderr",
     "output_type": "stream",
     "text": [
      "[I 2023-11-23 15:58:32,653] Trial 58 finished with value: 0.3035726090161576 and parameters: {'lambda_l1': 1.7779743294028022e-06, 'lambda_l2': 1.2035375386473258e-08}. Best is trial 51 with value: 0.3035726089159379.\n",
      "\n",
      "\u001b[A\n",
      "\u001b[A\n",
      "\u001b[A[I 2023-11-23 15:58:32,794] Trial 59 finished with value: 0.3035726089308681 and parameters: {'lambda_l1': 1.2503287999099225e-08, 'lambda_l2': 2.8240360584048707e-07}. Best is trial 51 with value: 0.3035726089159379.\n",
      "regularization_factors, val_score: 0.303573: 100%|##########| 20/20 [00:02<00:00,  8.28it/s]\n"
     ]
    },
    {
     "name": "stdout",
     "output_type": "stream",
     "text": [
      "[LightGBM] [Info] Number of positive: 1137, number of negative: 7455\n",
      "[LightGBM] [Info] Auto-choosing col-wise multi-threading, the overhead of testing was 0.000609 seconds.\n",
      "You can set `force_col_wise=true` to remove the overhead.\n",
      "[LightGBM] [Info] Total Bins 5273\n",
      "[LightGBM] [Info] Number of data points in the train set: 8592, number of used features: 29\n",
      "[LightGBM] [Info] [binary:BoostFromScore]: pavg=0.132332 -> initscore=-1.880492\n",
      "[LightGBM] [Info] Start training from score -1.880492\n",
      "Training until validation scores don't improve for 10 rounds\n",
      "[100]\ttrain's binary_logloss: 0.31665\tvalid's binary_logloss: 0.305039\n",
      "Early stopping, best iteration is:\n",
      "[135]\ttrain's binary_logloss: 0.312108\tvalid's binary_logloss: 0.303573\n"
     ]
    },
    {
     "name": "stderr",
     "output_type": "stream",
     "text": [
      "\n",
      "\u001b[A\n",
      "\u001b[A"
     ]
    },
    {
     "name": "stdout",
     "output_type": "stream",
     "text": [
      "[LightGBM] [Info] Number of positive: 1137, number of negative: 7455\n",
      "[LightGBM] [Info] Auto-choosing col-wise multi-threading, the overhead of testing was 0.000618 seconds.\n",
      "You can set `force_col_wise=true` to remove the overhead.\n",
      "[LightGBM] [Info] Total Bins 5273\n",
      "[LightGBM] [Info] Number of data points in the train set: 8592, number of used features: 29\n",
      "[LightGBM] [Info] [binary:BoostFromScore]: pavg=0.132332 -> initscore=-1.880492\n",
      "[LightGBM] [Info] Start training from score -1.880492\n",
      "Training until validation scores don't improve for 10 rounds\n"
     ]
    },
    {
     "name": "stderr",
     "output_type": "stream",
     "text": [
      "\n",
      "\u001b[A\n",
      "\u001b[A[I 2023-11-23 15:58:32,924] Trial 60 finished with value: 0.30438005787323436 and parameters: {'min_child_samples': 10}. Best is trial 60 with value: 0.30438005787323436.\n",
      "\n",
      "\u001b[A"
     ]
    },
    {
     "name": "stdout",
     "output_type": "stream",
     "text": [
      "[100]\ttrain's binary_logloss: 0.316315\tvalid's binary_logloss: 0.304633\n",
      "Early stopping, best iteration is:\n",
      "[105]\ttrain's binary_logloss: 0.315588\tvalid's binary_logloss: 0.30438\n",
      "[LightGBM] [Info] Number of positive: 1137, number of negative: 7455\n",
      "[LightGBM] [Info] Auto-choosing col-wise multi-threading, the overhead of testing was 0.000488 seconds.\n",
      "You can set `force_col_wise=true` to remove the overhead.\n",
      "[LightGBM] [Info] Total Bins 5273\n",
      "[LightGBM] [Info] Number of data points in the train set: 8592, number of used features: 29\n",
      "[LightGBM] [Info] [binary:BoostFromScore]: pavg=0.132332 -> initscore=-1.880492\n",
      "[LightGBM] [Info] Start training from score -1.880492\n",
      "Training until validation scores don't improve for 10 rounds\n",
      "[100]\ttrain's binary_logloss: 0.317188\tvalid's binary_logloss: 0.305509\n",
      "Early stopping, best iteration is:\n",
      "[148]\ttrain's binary_logloss: 0.31162\tvalid's binary_logloss: 0.304383\n"
     ]
    },
    {
     "name": "stderr",
     "output_type": "stream",
     "text": [
      "\n",
      "\u001b[A\n",
      "\u001b[A[I 2023-11-23 15:58:33,033] Trial 61 finished with value: 0.30438261896121876 and parameters: {'min_child_samples': 100}. Best is trial 60 with value: 0.30438005787323436.\n",
      "\n",
      "\u001b[A"
     ]
    },
    {
     "name": "stdout",
     "output_type": "stream",
     "text": [
      "[LightGBM] [Info] Number of positive: 1137, number of negative: 7455\n",
      "[LightGBM] [Info] Auto-choosing col-wise multi-threading, the overhead of testing was 0.000628 seconds.\n",
      "You can set `force_col_wise=true` to remove the overhead.\n",
      "[LightGBM] [Info] Total Bins 5273\n",
      "[LightGBM] [Info] Number of data points in the train set: 8592, number of used features: 29\n",
      "[LightGBM] [Info] [binary:BoostFromScore]: pavg=0.132332 -> initscore=-1.880492\n",
      "[LightGBM] [Info] Start training from score -1.880492\n",
      "Training until validation scores don't improve for 10 rounds\n"
     ]
    },
    {
     "name": "stderr",
     "output_type": "stream",
     "text": [
      "\n",
      "\u001b[A\n",
      "\u001b[A[I 2023-11-23 15:58:33,145] Trial 62 finished with value: 0.3049946444996278 and parameters: {'min_child_samples': 50}. Best is trial 60 with value: 0.30438005787323436.\n",
      "\n",
      "\u001b[A\n",
      "\n",
      "min_child_samples, val_score: 0.303417:  60%|######    | 3/5 [00:00<00:00,  8.75it/s]"
     ]
    },
    {
     "name": "stdout",
     "output_type": "stream",
     "text": [
      "[100]\ttrain's binary_logloss: 0.316776\tvalid's binary_logloss: 0.305125\n",
      "Early stopping, best iteration is:\n",
      "[104]\ttrain's binary_logloss: 0.316308\tvalid's binary_logloss: 0.304995\n",
      "[LightGBM] [Info] Number of positive: 1137, number of negative: 7455\n",
      "[LightGBM] [Info] Auto-choosing col-wise multi-threading, the overhead of testing was 0.000620 seconds.\n",
      "You can set `force_col_wise=true` to remove the overhead.\n",
      "[LightGBM] [Info] Total Bins 5273\n",
      "[LightGBM] [Info] Number of data points in the train set: 8592, number of used features: 29\n",
      "[LightGBM] [Info] [binary:BoostFromScore]: pavg=0.132332 -> initscore=-1.880492\n",
      "[LightGBM] [Info] Start training from score -1.880492\n",
      "Training until validation scores don't improve for 10 rounds\n",
      "[100]\ttrain's binary_logloss: 0.316189\tvalid's binary_logloss: 0.303871\n",
      "Early stopping, best iteration is:\n",
      "[123]\ttrain's binary_logloss: 0.312882\tvalid's binary_logloss: 0.303417\n"
     ]
    },
    {
     "name": "stderr",
     "output_type": "stream",
     "text": [
      "\u001b[A\u001b[A\n",
      "\u001b[A[I 2023-11-23 15:58:33,249] Trial 63 finished with value: 0.30341666541361195 and parameters: {'min_child_samples': 5}. Best is trial 63 with value: 0.30341666541361195.\n",
      "\n",
      "\u001b[A"
     ]
    },
    {
     "name": "stdout",
     "output_type": "stream",
     "text": [
      "[LightGBM] [Info] Number of positive: 1137, number of negative: 7455\n",
      "[LightGBM] [Info] Auto-choosing col-wise multi-threading, the overhead of testing was 0.000643 seconds.\n",
      "You can set `force_col_wise=true` to remove the overhead.\n",
      "[LightGBM] [Info] Total Bins 5273\n",
      "[LightGBM] [Info] Number of data points in the train set: 8592, number of used features: 29\n",
      "[LightGBM] [Info] [binary:BoostFromScore]: pavg=0.132332 -> initscore=-1.880492\n",
      "[LightGBM] [Info] Start training from score -1.880492\n",
      "Training until validation scores don't improve for 10 rounds\n"
     ]
    },
    {
     "name": "stderr",
     "output_type": "stream",
     "text": [
      "\n",
      "\u001b[A\n",
      "\u001b[A[I 2023-11-23 15:58:33,393] Trial 64 finished with value: 0.3025187211394536 and parameters: {'min_child_samples': 25}. Best is trial 64 with value: 0.3025187211394536.\n",
      "min_child_samples, val_score: 0.302519: 100%|##########| 5/5 [00:00<00:00,  8.36it/s]"
     ]
    },
    {
     "name": "stdout",
     "output_type": "stream",
     "text": [
      "[100]\ttrain's binary_logloss: 0.316609\tvalid's binary_logloss: 0.305137\n",
      "[200]\ttrain's binary_logloss: 0.305267\tvalid's binary_logloss: 0.302876\n",
      "Early stopping, best iteration is:\n",
      "[217]\ttrain's binary_logloss: 0.303736\tvalid's binary_logloss: 0.302519\n"
     ]
    },
    {
     "name": "stderr",
     "output_type": "stream",
     "text": [
      "\n"
     ]
    }
   ],
   "source": [
    "model = lgb.train(params, dtrain,\n",
    "                  valid_names=['train', 'valid'], \n",
    "                  num_boost_round=10000,\n",
    "                  valid_sets=[dtrain, dvalid],\n",
    "                  callbacks=[lgb.early_stopping(stopping_rounds=10, verbose=True),\n",
    "                              lgb.log_evaluation(100)\n",
    "                              ],\n",
    "                 )"
   ]
  },
  {
   "cell_type": "code",
   "execution_count": 12,
   "metadata": {},
   "outputs": [
    {
     "data": {
      "text/plain": [
       "{'objective': 'binary',\n",
       " 'random_state': 100,\n",
       " 'metrics': 'binary_logloss',\n",
       " 'feature_pre_filter': False,\n",
       " 'lambda_l1': 0.0,\n",
       " 'lambda_l2': 0.0,\n",
       " 'num_leaves': 3,\n",
       " 'feature_fraction': 0.44800000000000006,\n",
       " 'bagging_fraction': 1.0,\n",
       " 'bagging_freq': 0,\n",
       " 'min_child_samples': 25,\n",
       " 'num_iterations': 10000}"
      ]
     },
     "execution_count": 12,
     "metadata": {},
     "output_type": "execute_result"
    }
   ],
   "source": [
    "# weight 1:2\n",
    "model.params"
   ]
  },
  {
   "cell_type": "code",
   "execution_count": 80,
   "metadata": {},
   "outputs": [
    {
     "data": {
      "text/plain": [
       "{'objective': 'binary',\n",
       " 'random_state': 100,\n",
       " 'metrics': ['binary_logloss', 'auc'],\n",
       " 'feature_pre_filter': False,\n",
       " 'lambda_l1': 0.0,\n",
       " 'lambda_l2': 0.0,\n",
       " 'num_leaves': 11,\n",
       " 'feature_fraction': 0.42,\n",
       " 'bagging_fraction': 1.0,\n",
       " 'bagging_freq': 0,\n",
       " 'min_child_samples': 100,\n",
       " 'num_iterations': 10000}"
      ]
     },
     "execution_count": 80,
     "metadata": {},
     "output_type": "execute_result"
    }
   ],
   "source": [
    "model.params"
   ]
  },
  {
   "cell_type": "code",
   "execution_count": 25,
   "metadata": {},
   "outputs": [
    {
     "data": {
      "text/plain": [
       "Index(['la', 'ld', 'nf', 'nd', 'ns', 'ent', 'revd', 'nrev', 'rtime', 'hcmt',\n",
       "       'self', 'ndev', 'age', 'nuc', 'app', 'aexp', 'rexp', 'oexp', 'arexp',\n",
       "       'rrexp', 'orexp', 'asexp', 'rsexp', 'osexp', 'asawr', 'rsawr', 'osawr',\n",
       "       'churn', 'fix'],\n",
       "      dtype='object')"
      ]
     },
     "execution_count": 25,
     "metadata": {},
     "output_type": "execute_result"
    }
   ],
   "source": [
    "te_dataset[4][0].index\n"
   ]
  },
  {
   "cell_type": "code",
   "execution_count": 26,
   "metadata": {},
   "outputs": [
    {
     "data": {
      "text/plain": [
       "29"
      ]
     },
     "execution_count": 26,
     "metadata": {},
     "output_type": "execute_result"
    }
   ],
   "source": [
    "len(te_dataset[4][0].index)"
   ]
  },
  {
   "cell_type": "code",
   "execution_count": 15,
   "metadata": {},
   "outputs": [
    {
     "name": "stderr",
     "output_type": "stream",
     "text": [
      "feature_fraction, val_score: inf:   0%|          | 0/7 [16:00<?, ?it/s]\n"
     ]
    },
    {
     "data": {
      "text/plain": [
       "<Axes: title={'center': 'Feature importance'}, xlabel='Feature importance', ylabel='Features'>"
      ]
     },
     "execution_count": 15,
     "metadata": {},
     "output_type": "execute_result"
    },
    {
     "data": {
      "image/png": "[encoded data removed]",
      "text/plain": [
       "<Figure size 640x480 with 1 Axes>"
      ]
     },
     "metadata": {},
     "output_type": "display_data"
    }
   ],
   "source": [
    "lgb.plot_importance(model, importance_type='gain')"
   ]
  },
  {
   "cell_type": "code",
   "execution_count": 82,
   "metadata": {},
   "outputs": [
    {
     "ename": "NameError",
     "evalue": "name 'data' is not defined",
     "output_type": "error",
     "traceback": [
      "\u001b[1;31m---------------------------------------------------------------------------\u001b[0m",
      "\u001b[1;31mNameError\u001b[0m                                 Traceback (most recent call last)",
      "\u001b[1;32mc:\\Users\\masak\\workspace\\lab\\thesis_data2\\learning_process\\notebook\\lightgbm.ipynb Cell 10\u001b[0m line \u001b[0;36m1\n\u001b[1;32m----> <a href='vscode-notebook-cell:/c%3A/Users/masak/workspace/lab/thesis_data2/learning_process/notebook/lightgbm.ipynb#X12sZmlsZQ%3D%3D?line=0'>1</a>\u001b[0m data\u001b[39m.\u001b[39mcolumns\n",
      "\u001b[1;31mNameError\u001b[0m: name 'data' is not defined"
     ]
    }
   ],
   "source": [
    "data.columns"
   ]
  },
  {
   "cell_type": "code",
   "execution_count": 83,
   "metadata": {},
   "outputs": [
    {
     "name": "stdout",
     "output_type": "stream",
     "text": [
      "[0 0 0 ... 0 0 0]\n",
      "[0, 1, 0, 0, 0, 0, 1, 1, 0, 0, 1, 1, 1, 0, 0, 1, 0, 0, 0, 0, 0, 1, 1, 0, 0, 1, 1, 0, 0, 0, 0, 0, 0, 1, 1, 0, 0, 0, 0, 0, 0, 1, 1, 0, 0, 0, 0, 0, 1, 0, 0, 0, 0, 0, 1, 0, 0, 1, 0, 0, 0, 0, 0, 0, 0, 0, 0, 1, 1, 0, 0, 1, 1, 0, 0, 0, 0, 0, 1, 1, 1, 0, 0, 0, 0, 0, 1, 0, 0, 0, 0, 0, 1, 0, 0, 0, 0, 0, 0, 0, 0, 0, 0, 0, 0, 0, 0, 0, 0, 0, 1, 0, 0, 0, 1, 0, 1, 0, 0, 1, 0, 0, 0, 0, 0, 0, 0, 0, 0, 0, 0, 0, 1, 0, 0, 0, 0, 0, 0, 1, 1, 0, 0, 0, 0, 0, 0, 0, 1, 1, 0, 0, 0, 0, 0, 0, 1, 1, 0, 0, 0, 0, 0, 0, 0, 0, 0, 0, 0, 0, 0, 0, 0, 0, 0, 1, 0, 1, 0, 0, 0, 0, 1, 0, 0, 0, 0, 1, 0, 0, 0, 0, 1, 0, 0, 0, 1, 0, 0, 1, 0, 0, 0, 0, 0, 0, 0, 0, 0, 0, 0, 1, 0, 0, 0, 0, 0, 1, 1, 0, 0, 0, 0, 1, 0, 0, 0, 1, 1, 0, 0, 0, 1, 0, 0, 0, 0, 0, 0, 1, 0, 0, 0, 0, 0, 0, 1, 0, 0, 0, 1, 0, 0, 0, 0, 0, 0, 0, 0, 0, 0, 0, 0, 0, 0, 0, 0, 0, 0, 0, 0, 0, 0, 0, 0, 0, 0, 0, 0, 0, 0, 0, 0, 0, 0, 0, 0, 0, 0, 0, 0, 0, 0, 0, 0, 0, 0, 0, 0, 0, 0, 0, 0, 0, 0, 0, 0, 0, 0, 0, 0, 0, 0, 0, 0, 0, 0, 0, 0, 0, 0, 0, 0, 0, 0, 0, 0, 0, 0, 0, 0, 0, 0, 0, 0, 0, 0, 0, 0, 0, 0, 0, 0, 0, 0, 0, 0, 0, 0, 0, 0, 0, 0, 0, 0, 0, 0, 0, 0, 0, 0, 0, 0, 0, 0, 0, 0, 0, 0, 0, 0, 0, 0, 0, 0, 0, 0, 0, 0, 0, 0, 0, 0, 0, 1, 0, 0, 0, 0, 0, 0, 0, 0, 0, 0, 0, 0, 0, 0, 0, 0, 0, 1, 0, 1, 0, 0, 0, 1, 0, 0, 0, 0, 0, 0, 0, 0, 1, 0, 0, 0, 0, 0, 0, 0, 0, 0, 0, 0, 0, 0, 0, 0, 0, 0, 0, 0, 0, 0, 0, 0, 0, 0, 0, 0, 0, 0, 0, 0, 0, 0, 0, 0, 0, 0, 0, 1, 0, 0, 0, 0, 0, 1, 0, 0, 0, 0, 0, 0, 1, 0, 0, 0, 0, 0, 0, 0, 0, 0, 0, 1, 0, 0, 0, 0, 1, 0, 0, 0, 0, 0, 0, 0, 0, 0, 1, 0, 0, 1, 0, 0, 0, 0, 0, 0, 0, 0, 0, 0, 0, 0, 0, 0, 0, 0, 0, 0, 0, 0, 0, 0, 0, 0, 0, 0, 0, 0, 0, 0, 0, 0, 0, 0, 0, 0, 0, 0, 1, 0, 0, 0, 0, 1, 0, 1, 0, 0, 0, 1, 0, 0, 0, 0, 0, 0, 0, 0, 0, 1, 0, 0, 0, 0, 0, 0, 0, 0, 0, 0, 0, 0, 0, 0, 0, 0, 0, 0, 0, 0, 0, 0, 0, 0, 0, 0, 1, 0, 0, 0, 0, 0, 0, 0, 0, 1, 0, 0, 1, 0, 0, 0, 0, 0, 0, 0, 0, 0, 0, 0, 0, 0, 1, 0, 0, 0, 0, 0, 1, 0, 1, 0, 0, 0, 0, 1, 0, 0, 0, 0, 0, 0, 1, 0, 0, 0, 0, 0, 0, 0, 0, 0, 0, 0, 0, 0, 0, 0, 0, 0, 0, 0, 0, 0, 0, 0, 0, 0, 0, 0, 0, 0, 1, 0, 1, 0, 0, 0, 0, 0, 0, 0, 0, 0, 0, 0, 0, 0, 0, 0, 1, 0, 1, 0, 0, 0, 1, 0, 0, 1, 0, 0, 0, 0, 1, 0, 0, 0, 0, 0, 0, 0, 0, 0, 0, 0, 0, 0, 0, 0, 0, 0, 0, 0, 0, 0, 0, 0, 0, 0, 0, 0, 0, 0, 1, 0, 0, 1, 0, 0, 0, 0, 0, 0, 0, 0, 0, 0, 0, 0, 0, 0, 0, 0, 1, 0, 0, 0, 0, 0, 0, 0, 0, 1, 0, 0, 0, 0, 0, 0, 0, 0, 0, 0, 0, 1, 1, 0, 1, 0, 0, 0, 0, 0, 0, 0, 1, 0, 1, 0, 0, 0, 0, 0, 1, 0, 0, 0, 0, 0, 0, 0, 1, 0, 0, 1, 0, 0, 0, 0, 0, 0, 0, 0, 0, 0, 0, 0, 0, 0, 0, 0, 0, 0, 0, 0, 0, 0, 0, 0, 1, 0, 0, 1, 0, 0, 0, 0, 0, 0, 0, 0, 0, 0, 0, 0, 0, 0, 0, 0, 0, 0, 0, 0, 0, 0, 0, 0, 1, 0, 0, 0, 0, 1, 1, 0, 0, 0, 0, 0, 0, 0, 0, 1, 0, 0, 0, 0, 0, 0, 0, 1, 0, 0, 0, 0, 1, 0, 0, 0, 0, 0, 0, 0, 0, 0, 0, 0, 0, 0, 0, 0, 1, 0, 0, 0, 0, 0, 0, 0, 1, 0, 0, 0, 0, 0, 0, 0, 0, 1, 0, 0, 0, 0, 0, 0, 0, 0, 0, 0, 0, 0, 0, 0, 0, 0, 1, 0, 1, 0, 1, 0, 0, 1, 0, 0, 0, 0, 0, 0, 0, 0, 0, 0, 0, 0, 0, 0, 0, 0, 0, 0, 0, 0, 0, 0, 0, 0, 0, 0, 0, 1, 1, 0, 0, 0, 0, 0, 0, 0, 0, 0, 0, 0, 0, 1, 0, 1, 0, 0, 1, 0, 1, 0, 0, 0, 0, 0, 0, 0, 0, 1, 0, 0, 0, 0, 0, 0, 0, 0, 0, 0, 0, 0, 0, 1, 0, 0, 0, 0, 0, 0, 0, 0, 0, 0, 0, 1, 0, 0, 0, 0, 0, 0, 0, 0, 0, 0, 0, 0, 1, 0, 0, 0, 0, 0, 0, 0, 0, 0, 0, 0, 0, 1, 0, 0, 0, 0, 0, 0, 1, 0, 0, 0, 0, 0, 0, 0, 0, 0, 1, 0, 0, 0, 0, 0, 1, 0, 0, 0, 1, 0, 0, 1, 1, 0, 0, 0, 1, 0, 1, 0, 1, 1, 0, 0, 1, 0, 0, 0, 0, 1, 0, 0, 0, 1, 0, 1, 1, 1, 0, 0, 1, 0, 1, 1, 0, 1, 1, 0, 0, 1, 1, 1, 0, 1, 0, 0, 1, 0, 1, 0, 0, 0, 0, 0, 0, 0, 0, 0, 0, 1, 0, 0, 0, 0, 0, 1, 0, 0, 0, 0, 0, 0, 0, 0, 1, 1, 0, 0, 0, 1, 1, 0, 0, 1, 0, 0, 0, 0, 0, 0, 1, 0, 0, 1, 0, 0, 0, 1, 0, 1, 0, 0, 1, 1, 0, 0, 0, 0, 0, 0, 1, 0, 1, 0, 0, 1, 1, 0, 0, 0, 0, 0, 0, 0, 0, 0, 0, 0, 1, 1, 0, 0, 0, 0, 0, 0, 0, 0, 0, 1, 0, 0, 0, 0, 0, 0, 0, 0, 1, 0, 1, 0, 0, 0, 0, 0, 0, 0, 1, 0, 1, 1, 0, 0, 0, 0, 0, 0, 0, 0, 0, 0, 1, 1, 0, 0, 1, 0, 1, 0, 1, 0, 0, 0, 1, 1, 1, 0, 0, 1, 0, 0, 0, 0, 0, 1, 1, 1, 1, 0, 1, 0, 0, 0, 0, 0, 0, 0, 0, 0, 0, 0, 0, 1, 0, 0, 0, 1, 0, 0, 1, 1, 1, 0, 0, 0, 0, 1, 1, 0, 0, 1, 0, 0, 1, 0, 1, 0, 0, 0, 0, 0, 0, 0, 0, 0, 0, 0, 0, 0, 0, 0, 0, 1, 1, 1, 0, 0, 1, 0, 0, 0, 0, 0, 0, 0, 0, 0, 0, 0, 1, 0, 0, 0, 1, 0, 0, 0, 1, 0, 0, 0, 0, 1, 0, 0, 0, 0, 0, 0, 0, 0, 1, 0, 0, 0, 0, 0, 0, 0, 0, 0, 1, 1, 0, 0, 0, 0, 0, 0, 0, 0, 1, 0, 0, 0, 0, 0, 0, 1, 0, 0, 0, 0, 0, 0, 0, 0, 1, 0, 0, 0, 0, 0, 1, 0, 0, 0, 0, 1, 0, 0, 0, 0, 0, 0, 1, 0, 0, 0, 0, 0, 0, 0, 1, 1, 0, 1, 0, 0, 1, 0, 0, 0, 1, 0, 0, 0, 0, 0, 0, 0, 0, 0, 0, 0, 0, 0, 0, 0, 0, 0, 0, 0, 0, 0, 0, 0, 0, 1, 0, 0, 0, 0, 0, 0, 0, 0, 0, 0, 0, 0]\n",
      "0.7883485359716345\n",
      "0.36536119985197735\n",
      "0.3355704697986578\n"
     ]
    }
   ],
   "source": [
    "\n",
    "from sklearn.metrics import log_loss, roc_auc_score\n",
    "pred = model.predict(te_dataset[4], num_iteration=model.best_iteration)\n",
    "\n",
    "y_true = (pred > 0.3).astype(int)\n",
    "print(y_true)\n",
    "print(te_dataset[5])\n",
    "print(roc_auc_score(te_dataset[5], pred))\n",
    "print(log_loss(te_dataset[5], pred))\n",
    "print(f1_score(te_dataset[5], y_true))"
   ]
  },
  {
   "cell_type": "code",
   "execution_count": 89,
   "metadata": {},
   "outputs": [
    {
     "name": "stderr",
     "output_type": "stream",
     "text": [
      "c:\\Users\\masak\\anaconda3\\envs\\test\\lib\\site-packages\\lightgbm\\engine.py:172: UserWarning: Found `num_iterations` in params. Will use it instead of argument\n",
      "  _log_warning(f\"Found `{alias}` in params. Will use it instead of argument\")\n",
      "c:\\Users\\masak\\anaconda3\\envs\\test\\lib\\site-packages\\lightgbm\\engine.py:172: UserWarning: Found `num_iterations` in params. Will use it instead of argument\n",
      "  _log_warning(f\"Found `{alias}` in params. Will use it instead of argument\")\n"
     ]
    },
    {
     "name": "stdout",
     "output_type": "stream",
     "text": [
      "[LightGBM] [Info] Number of positive: 1337, number of negative: 7753\n",
      "[LightGBM] [Info] Auto-choosing col-wise multi-threading, the overhead of testing was 0.000648 seconds.\n",
      "You can set `force_col_wise=true` to remove the overhead.\n",
      "[LightGBM] [Info] Total Bins 5289\n",
      "[LightGBM] [Info] Number of data points in the train set: 9090, number of used features: 29\n",
      "[LightGBM] [Info] [binary:BoostFromScore]: pavg=0.147085 -> initscore=-1.757652\n",
      "[LightGBM] [Info] Start training from score -1.757652\n",
      "Training until validation scores don't improve for 10 rounds\n",
      "Early stopping, best iteration is:\n",
      "[47]\ttrain's binary_logloss: 0.325076\ttrain's auc: 0.829527\tvalid's binary_logloss: 0.177232\tvalid's auc: 0.799613\n",
      "[LightGBM] [Info] Number of positive: 1161, number of negative: 7047\n",
      "[LightGBM] [Info] Auto-choosing col-wise multi-threading, the overhead of testing was 0.000449 seconds.\n",
      "You can set `force_col_wise=true` to remove the overhead.\n",
      "[LightGBM] [Info] Total Bins 5284\n",
      "[LightGBM] [Info] Number of data points in the train set: 8208, number of used features: 29\n",
      "[LightGBM] [Info] [binary:BoostFromScore]: pavg=0.141447 -> initscore=-1.803320\n",
      "[LightGBM] [Info] Start training from score -1.803320\n",
      "Training until validation scores don't improve for 10 rounds\n",
      "Early stopping, best iteration is:\n",
      "[36]\ttrain's binary_logloss: 0.322477\ttrain's auc: 0.824178\tvalid's binary_logloss: 0.260161\tvalid's auc: 0.793841\n",
      "[LightGBM] [Info] Number of positive: 1009, number of negative: 6905\n",
      "[LightGBM] [Info] Auto-choosing col-wise multi-threading, the overhead of testing was 0.000519 seconds.\n",
      "You can set `force_col_wise=true` to remove the overhead.\n",
      "[LightGBM] [Info] Total Bins 5269\n",
      "[LightGBM] [Info] Number of data points in the train set: 7914, number of used features: 29\n",
      "[LightGBM] [Info] [binary:BoostFromScore]: pavg=0.127496 -> initscore=-1.923286\n",
      "[LightGBM] [Info] Start training from score -1.923286\n",
      "Training until validation scores don't improve for 10 rounds\n",
      "Early stopping, best iteration is:\n",
      "[34]\ttrain's binary_logloss: 0.293124\ttrain's auc: 0.84243\tvalid's binary_logloss: 0.340996\tvalid's auc: 0.764655\n",
      "[LightGBM] [Info] Number of positive: 654, number of negative: 6357\n",
      "[LightGBM] [Info] Auto-choosing col-wise multi-threading, the overhead of testing was 0.000519 seconds.\n",
      "You can set `force_col_wise=true` to remove the overhead.\n",
      "[LightGBM] [Info] Total Bins 5204\n",
      "[LightGBM] [Info] Number of data points in the train set: 7011, number of used features: 29\n",
      "[LightGBM] [Info] [binary:BoostFromScore]: pavg=0.093282 -> initscore=-2.274204\n",
      "[LightGBM] [Info] Start training from score -2.274204\n",
      "Training until validation scores don't improve for 10 rounds\n",
      "Early stopping, best iteration is:\n",
      "[22]\ttrain's binary_logloss: 0.242659\ttrain's auc: 0.847039\tvalid's binary_logloss: 0.474652\tvalid's auc: 0.736021\n"
     ]
    },
    {
     "name": "stderr",
     "output_type": "stream",
     "text": [
      "c:\\Users\\masak\\anaconda3\\envs\\test\\lib\\site-packages\\lightgbm\\engine.py:172: UserWarning: Found `num_iterations` in params. Will use it instead of argument\n",
      "  _log_warning(f\"Found `{alias}` in params. Will use it instead of argument\")\n",
      "c:\\Users\\masak\\anaconda3\\envs\\test\\lib\\site-packages\\lightgbm\\engine.py:172: UserWarning: Found `num_iterations` in params. Will use it instead of argument\n",
      "  _log_warning(f\"Found `{alias}` in params. Will use it instead of argument\")\n"
     ]
    }
   ],
   "source": [
    "import lightgbm as lgb\n",
    "va_period_list = [0,1,2,3]\n",
    "auc_result = []\n",
    "loss_result = []\n",
    "for va_period in va_period_list:\n",
    "    tr_index = [index for index, value in enumerate(tr_dataset[1]) if value != va_period]\n",
    "    va_index = [index for index, value in enumerate(tr_dataset[1]) if value == va_period]\n",
    "    tr_x = [tr_dataset[4][i] for i in tr_index]\n",
    "    tr_y = [tr_dataset[5][i] for i in tr_index]\n",
    "    va_x = [tr_dataset[4][i] for i in va_index]\n",
    "    va_y = [tr_dataset[5][i] for i in va_index]\n",
    "    dtrain = lgb.Dataset(np.array(tr_x), np.array(tr_y))\n",
    "    dvalid = lgb.Dataset(np.array(va_x), np.array(va_y))\n",
    "    params ={\n",
    "        'objective': 'binary',\n",
    "        'random_state': 100,\n",
    "        'metrics': ['binary_logloss', 'auc'],\n",
    "        'feature_pre_filter': False,\n",
    "        'lambda_l1': 0.0,\n",
    "        'lambda_l2': 0.0,\n",
    "        'num_leaves': 11,\n",
    "        'feature_fraction': 0.42,\n",
    "        'bagging_fraction': 1.0,\n",
    "        'bagging_freq': 0,\n",
    "        'min_child_samples': 100,\n",
    "        'num_iterations': 10000\n",
    "    }\n",
    "    early_stopping_rounds = 10\n",
    "    model = lgb.train(params, dtrain, num_boost_round = num_round, \n",
    "                                   valid_names=['train','valid'], valid_sets=[dtrain, dvalid],\n",
    "                                  callbacks=[lgb.early_stopping(stopping_rounds=early_stopping_rounds)])\n",
    "    pred = model.predict(te_dataset[4], num_iteration=model.best_iteration)\n",
    "    auc_result.append(roc_auc_score(te_dataset[5], pred))\n",
    "    loss_result.append(log_loss(te_dataset[5], pred))\n"
   ]
  },
  {
   "cell_type": "code",
   "execution_count": 91,
   "metadata": {},
   "outputs": [
    {
     "name": "stdout",
     "output_type": "stream",
     "text": [
      "0.7867342981528078\n",
      "0.3582987067034247\n"
     ]
    }
   ],
   "source": [
    "print(np.mean(auc_result))\n",
    "print(np.mean(loss_result))"
   ]
  },
  {
   "cell_type": "code",
   "execution_count": 92,
   "metadata": {},
   "outputs": [
    {
     "data": {
      "text/plain": [
       "[0.7850637652979526,\n",
       " 0.7927449102138853,\n",
       " 0.7807799811277594,\n",
       " 0.7883485359716345]"
      ]
     },
     "execution_count": 92,
     "metadata": {},
     "output_type": "execute_result"
    }
   ],
   "source": [
    "auc_result"
   ]
  }
 ],
 "metadata": {
  "kernelspec": {
   "display_name": "test",
   "language": "python",
   "name": "python3"
  },
  "language_info": {
   "codemirror_mode": {
    "name": "ipython",
    "version": 3
   },
   "file_extension": ".py",
   "mimetype": "text/x-python",
   "name": "python",
   "nbconvert_exporter": "python",
   "pygments_lexer": "ipython3",
   "version": "3.9.16"
  }
 },
 "nbformat": 4,
 "nbformat_minor": 2
}
