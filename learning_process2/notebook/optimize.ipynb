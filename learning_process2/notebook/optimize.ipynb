{
 "cells": [
  {
   "cell_type": "code",
   "execution_count": 8,
   "metadata": {},
   "outputs": [],
   "source": [
    "import pickle\n",
    "from sklearn.metrics import roc_auc_score, log_loss\n",
    "project = 'openstack'\n",
    "is_its = 'in_its'\n",
    "with open('../resource/'+project+'_train.pkl', 'rb') as f_train, open('../resource/'+project+'_test.pkl', 'rb') as f_test:\n",
    "        tr_data = pickle.load(f_train)\n",
    "        te_data = pickle.load(f_test)\n",
    "pred_list = []\n",
    "kinds = ['train', 'test']\n",
    "models = ['lgb', 'code_cnn', 'msg_tf']\n",
    "for kind in kinds:\n",
    "    for model in models:\n",
    "        with open('../pred/'+is_its+'/'+project+'-'+model+'-'+'random'+'-'+kind+'.pkl', 'rb') as f:\n",
    "            pred_list.append(pickle.load(f))\n",
    "tr_pred = [[pred_list[0][j], pred_list[1][j], pred_list[2][j]] for j in range(len(pred_list[0]))]\n",
    "te_pred = [[pred_list[3][j], pred_list[4][j], pred_list[5][j]] for j in range(len(pred_list[3]))]                \n",
    "tr_data = [tr_pred, tr_data[5]]\n",
    "te_data = [te_pred, te_data[5]]"
   ]
  },
  {
   "cell_type": "code",
   "execution_count": 9,
   "metadata": {},
   "outputs": [
    {
     "name": "stderr",
     "output_type": "stream",
     "text": [
      "[I 2023-12-15 17:28:39,286] A new study created in memory with name: no-name-9450263b-933e-48d7-afa2-602eb54330b7\n",
      "[I 2023-12-15 17:28:39,301] Trial 0 finished with value: 0.8023369511849777 and parameters: {'lgb_weight': 0.2359063346496344, 'cnn_weight': 0.28017484089621614}. Best is trial 0 with value: 0.8023369511849777.\n",
      "[I 2023-12-15 17:28:39,301] Trial 1 finished with value: 0.7951639887720037 and parameters: {'lgb_weight': 0.5590661182780491, 'cnn_weight': 0.0426585762101055}. Best is trial 0 with value: 0.8023369511849777.\n",
      "[I 2023-12-15 17:28:39,316] Trial 2 finished with value: 0.807242146946531 and parameters: {'lgb_weight': 0.7704504491550669, 'cnn_weight': 0.14831504310462515}. Best is trial 2 with value: 0.807242146946531.\n",
      "[I 2023-12-15 17:28:39,317] Trial 3 finished with value: 0.7956014021275477 and parameters: {'lgb_weight': 0.802541237637617, 'cnn_weight': 0.009866829906270316}. Best is trial 2 with value: 0.807242146946531.\n",
      "[I 2023-12-15 17:28:39,317] Trial 4 finished with value: 0.774387278308506 and parameters: {'lgb_weight': 0.19165727718193404, 'cnn_weight': 0.11778388485796923}. Best is trial 2 with value: 0.807242146946531.\n",
      "[I 2023-12-15 17:28:39,333] Trial 5 finished with value: 0.81268834787858 and parameters: {'lgb_weight': 0.21875517609773054, 'cnn_weight': 0.6358655466809918}. Best is trial 5 with value: 0.81268834787858.\n",
      "[I 2023-12-15 17:28:39,333] Trial 6 finished with value: 0.8160691870000288 and parameters: {'lgb_weight': 0.5039948769861415, 'cnn_weight': 0.48030138989976834}. Best is trial 6 with value: 0.8160691870000288.\n",
      "[I 2023-12-15 17:28:39,349] Trial 7 finished with value: 0.8165983222750614 and parameters: {'lgb_weight': 0.33936386594630197, 'cnn_weight': 0.4661617259058072}. Best is trial 7 with value: 0.8165983222750614.\n",
      "[I 2023-12-15 17:28:39,349] Trial 8 finished with value: 0.8091315414107509 and parameters: {'lgb_weight': 0.5880715939253043, 'cnn_weight': 0.14447872537667253}. Best is trial 7 with value: 0.8165983222750614.\n",
      "[I 2023-12-15 17:28:39,365] Trial 9 finished with value: 0.8109242810119132 and parameters: {'lgb_weight': 0.7387239754882542, 'cnn_weight': 0.23200783981635212}. Best is trial 7 with value: 0.8165983222750614.\n",
      "[I 2023-12-15 17:28:39,381] Trial 10 finished with value: 0.8034490216508434 and parameters: {'lgb_weight': 0.03461561685094133, 'cnn_weight': 0.8344877635552148}. Best is trial 7 with value: 0.8165983222750614.\n",
      "[I 2023-12-15 17:28:39,396] Trial 11 finished with value: 0.8177498562894798 and parameters: {'lgb_weight': 0.4291052512561964, 'cnn_weight': 0.4037200645886512}. Best is trial 11 with value: 0.8177498562894798.\n",
      "[I 2023-12-15 17:28:39,410] Trial 12 finished with value: 0.8164270566405206 and parameters: {'lgb_weight': 0.35616349711981243, 'cnn_weight': 0.40117300546905776}. Best is trial 11 with value: 0.8177498562894798.\n",
      "[I 2023-12-15 17:28:39,413] Trial 13 finished with value: 0.8175087586725387 and parameters: {'lgb_weight': 0.4195506781254642, 'cnn_weight': 0.37938630845890564}. Best is trial 11 with value: 0.8177498562894798.\n",
      "[I 2023-12-15 17:28:39,441] Trial 14 finished with value: 0.7979258205527703 and parameters: {'lgb_weight': 0.904582531152295, 'cnn_weight': 0.09495820557031437}. Best is trial 11 with value: 0.8177498562894798.\n",
      "[I 2023-12-15 17:28:39,444] Trial 15 finished with value: 0.8161058757678242 and parameters: {'lgb_weight': 0.3876817464416136, 'cnn_weight': 0.34979703337946266}. Best is trial 11 with value: 0.8177498562894798.\n",
      "[I 2023-12-15 17:28:39,472] Trial 16 finished with value: 0.8127019905506383 and parameters: {'lgb_weight': 0.6406553779285764, 'cnn_weight': 0.19399221705212033}. Best is trial 11 with value: 0.8177498562894798.\n",
      "[I 2023-12-15 17:28:39,491] Trial 17 finished with value: 0.8160533090879156 and parameters: {'lgb_weight': 0.45721885914444144, 'cnn_weight': 0.29601711061516095}. Best is trial 11 with value: 0.8177498562894798.\n",
      "[I 2023-12-15 17:28:39,507] Trial 18 finished with value: 0.81691272035035 and parameters: {'lgb_weight': 0.4479351142634424, 'cnn_weight': 0.32712889930353894}. Best is trial 11 with value: 0.8177498562894798.\n",
      "[I 2023-12-15 17:28:39,523] Trial 19 finished with value: 0.81350590619792 and parameters: {'lgb_weight': 0.5702132076331434, 'cnn_weight': 0.20716343197284245}. Best is trial 11 with value: 0.8177498562894798.\n",
      "[I 2023-12-15 17:28:39,539] Trial 20 finished with value: 0.7899219654573709 and parameters: {'lgb_weight': 0.9477645560015178, 'cnn_weight': 0.006891522809285601}. Best is trial 11 with value: 0.8177498562894798.\n",
      "[I 2023-12-15 17:28:39,566] Trial 21 finished with value: 0.8168374158836774 and parameters: {'lgb_weight': 0.4397688958480651, 'cnn_weight': 0.32921344547631537}. Best is trial 11 with value: 0.8177498562894798.\n",
      "[I 2023-12-15 17:28:39,576] Trial 22 finished with value: 0.8151133521062666 and parameters: {'lgb_weight': 0.499062141851857, 'cnn_weight': 0.25482506544587114}. Best is trial 11 with value: 0.8177498562894798.\n",
      "[I 2023-12-15 17:28:39,597] Trial 23 finished with value: 0.8146701579574777 and parameters: {'lgb_weight': 0.3183511093908995, 'cnn_weight': 0.38452385666301764}. Best is trial 11 with value: 0.8177498562894798.\n",
      "[I 2023-12-15 17:28:39,603] Trial 24 finished with value: 0.8163303247002196 and parameters: {'lgb_weight': 0.4310188940276787, 'cnn_weight': 0.32094035153937467}. Best is trial 11 with value: 0.8177498562894798.\n",
      "[I 2023-12-15 17:28:39,628] Trial 25 finished with value: 0.81119782814827 and parameters: {'lgb_weight': 0.635618824297831, 'cnn_weight': 0.16673205636063396}. Best is trial 11 with value: 0.8177498562894798.\n",
      "[I 2023-12-15 17:28:39,650] Trial 26 finished with value: 0.8063987677506964 and parameters: {'lgb_weight': 0.3065319830617496, 'cnn_weight': 0.2614487761430899}. Best is trial 11 with value: 0.8177498562894798.\n",
      "[I 2023-12-15 17:28:39,666] Trial 27 finished with value: 0.8166606777648646 and parameters: {'lgb_weight': 0.500863710046923, 'cnn_weight': 0.2940416177305963}. Best is trial 11 with value: 0.8177498562894798.\n",
      "[I 2023-12-15 17:28:39,676] Trial 28 finished with value: 0.8171112713290075 and parameters: {'lgb_weight': 0.419064800200346, 'cnn_weight': 0.3560179097398752}. Best is trial 11 with value: 0.8177498562894798.\n",
      "[I 2023-12-15 17:28:39,691] Trial 29 finished with value: 0.8135466029823651 and parameters: {'lgb_weight': 0.26093576347369474, 'cnn_weight': 0.4336263253138565}. Best is trial 11 with value: 0.8177498562894798.\n",
      "[I 2023-12-15 17:28:39,698] Trial 30 finished with value: 0.817213090367364 and parameters: {'lgb_weight': 0.41221606535875827, 'cnn_weight': 0.368527222764781}. Best is trial 11 with value: 0.8177498562894798.\n",
      "[I 2023-12-15 17:28:39,722] Trial 31 finished with value: 0.8161501181054598 and parameters: {'lgb_weight': 0.37954621587805093, 'cnn_weight': 0.35915398265190823}. Best is trial 11 with value: 0.8177498562894798.\n",
      "[I 2023-12-15 17:28:39,730] Trial 32 finished with value: 0.8170967808072731 and parameters: {'lgb_weight': 0.3990767636247301, 'cnn_weight': 0.3775729163283707}. Best is trial 11 with value: 0.8177498562894798.\n",
      "[I 2023-12-15 17:28:39,753] Trial 33 finished with value: 0.8140129203041344 and parameters: {'lgb_weight': 0.2761916550708745, 'cnn_weight': 0.4244701959004688}. Best is trial 11 with value: 0.8177498562894798.\n",
      "[I 2023-12-15 17:28:39,762] Trial 34 finished with value: 0.8165489157621266 and parameters: {'lgb_weight': 0.5221745448355869, 'cnn_weight': 0.28431836318416975}. Best is trial 11 with value: 0.8177498562894798.\n",
      "[I 2023-12-15 17:28:39,784] Trial 35 finished with value: 0.8155708826223034 and parameters: {'lgb_weight': 0.36608075286367153, 'cnn_weight': 0.3545771216752757}. Best is trial 11 with value: 0.8177498562894798.\n",
      "[I 2023-12-15 17:28:39,794] Trial 36 finished with value: 0.8106003253584594 and parameters: {'lgb_weight': 0.17521721828050826, 'cnn_weight': 0.4952394288163964}. Best is trial 11 with value: 0.8177498562894798.\n",
      "[I 2023-12-15 17:28:39,816] Trial 37 finished with value: 0.8168173758004278 and parameters: {'lgb_weight': 0.4577362319929151, 'cnn_weight': 0.3175611168096163}. Best is trial 11 with value: 0.8177498562894798.\n",
      "[I 2023-12-15 17:28:39,826] Trial 38 finished with value: 0.8152891652981602 and parameters: {'lgb_weight': 0.3182585569331378, 'cnn_weight': 0.40585813695654105}. Best is trial 11 with value: 0.8177498562894798.\n",
      "[I 2023-12-15 17:28:39,881] Trial 39 finished with value: 0.7926021724375168 and parameters: {'lgb_weight': 0.5344173140129688, 'cnn_weight': 0.03666292620966738}. Best is trial 11 with value: 0.8177498562894798.\n",
      "[I 2023-12-15 17:28:39,889] Trial 40 finished with value: 0.8133227706679159 and parameters: {'lgb_weight': 0.22459555560430064, 'cnn_weight': 0.5148597704386821}. Best is trial 11 with value: 0.8177498562894798.\n",
      "[I 2023-12-15 17:28:39,910] Trial 41 finished with value: 0.8172503957531054 and parameters: {'lgb_weight': 0.4059932161034339, 'cnn_weight': 0.3780979341086453}. Best is trial 11 with value: 0.8177498562894798.\n",
      "[I 2023-12-15 17:28:39,920] Trial 42 finished with value: 0.8178691718620582 and parameters: {'lgb_weight': 0.4788789730863675, 'cnn_weight': 0.3722183497623659}. Best is trial 42 with value: 0.8178691718620582.\n",
      "[I 2023-12-15 17:28:39,941] Trial 43 finished with value: 0.817895609356499 and parameters: {'lgb_weight': 0.4729614170304378, 'cnn_weight': 0.3812845898005348}. Best is trial 43 with value: 0.817895609356499.\n",
      "[I 2023-12-15 17:28:39,954] Trial 44 finished with value: 0.8177773728653265 and parameters: {'lgb_weight': 0.49088907121042685, 'cnn_weight': 0.39509360024495493}. Best is trial 43 with value: 0.817895609356499.\n",
      "[I 2023-12-15 17:28:39,976] Trial 45 finished with value: 0.8178031166645778 and parameters: {'lgb_weight': 0.4808051951274802, 'cnn_weight': 0.40173214377782573}. Best is trial 43 with value: 0.817895609356499.\n",
      "[I 2023-12-15 17:28:39,984] Trial 46 finished with value: 0.8170059067374605 and parameters: {'lgb_weight': 0.5668800180281, 'cnn_weight': 0.3444421557189309}. Best is trial 43 with value: 0.817895609356499.\n",
      "[I 2023-12-15 17:28:40,003] Trial 47 finished with value: 0.8148537559509412 and parameters: {'lgb_weight': 0.6445942157726895, 'cnn_weight': 0.3331051328892469}. Best is trial 43 with value: 0.817895609356499.\n",
      "[I 2023-12-15 17:28:40,016] Trial 48 finished with value: 0.8175423643506035 and parameters: {'lgb_weight': 0.4829162274335894, 'cnn_weight': 0.4265491000888553}. Best is trial 43 with value: 0.817895609356499.\n",
      "[I 2023-12-15 17:28:40,035] Trial 49 finished with value: 0.8170386645658493 and parameters: {'lgb_weight': 0.5429082444285499, 'cnn_weight': 0.39729945538590167}. Best is trial 43 with value: 0.817895609356499.\n",
      "[I 2023-12-15 17:28:40,047] Trial 50 finished with value: 0.8168445069900582 and parameters: {'lgb_weight': 0.479295468535694, 'cnn_weight': 0.30739558363020725}. Best is trial 43 with value: 0.817895609356499.\n",
      "[I 2023-12-15 17:28:40,076] Trial 51 finished with value: 0.8175389729518996 and parameters: {'lgb_weight': 0.4921784177507533, 'cnn_weight': 0.4198357742622962}. Best is trial 43 with value: 0.817895609356499.\n",
      "[I 2023-12-15 17:28:40,079] Trial 52 finished with value: 0.8159956553099514 and parameters: {'lgb_weight': 0.598977540589899, 'cnn_weight': 0.36725850674772104}. Best is trial 43 with value: 0.817895609356499.\n",
      "[I 2023-12-15 17:28:40,111] Trial 53 finished with value: 0.8172972587170123 and parameters: {'lgb_weight': 0.48202828967152384, 'cnn_weight': 0.44410288636274226}. Best is trial 43 with value: 0.817895609356499.\n",
      "[I 2023-12-15 17:28:40,126] Trial 54 finished with value: 0.8172275038118549 and parameters: {'lgb_weight': 0.5346029728243775, 'cnn_weight': 0.3942524427019927}. Best is trial 43 with value: 0.817895609356499.\n",
      "[I 2023-12-15 17:28:40,142] Trial 55 finished with value: 0.8173808875259577 and parameters: {'lgb_weight': 0.4662005461590572, 'cnn_weight': 0.4507762284823894}. Best is trial 43 with value: 0.817895609356499.\n",
      "[I 2023-12-15 17:28:40,159] Trial 56 finished with value: 0.8169613560908519 and parameters: {'lgb_weight': 0.3604181456051032, 'cnn_weight': 0.45924758507733876}. Best is trial 43 with value: 0.817895609356499.\n",
      "[I 2023-12-15 17:28:40,176] Trial 57 finished with value: 0.8173187632678839 and parameters: {'lgb_weight': 0.513463758293986, 'cnn_weight': 0.4141472881494701}. Best is trial 43 with value: 0.817895609356499.\n",
      "[I 2023-12-15 17:28:40,191] Trial 58 finished with value: 0.815785851053777 and parameters: {'lgb_weight': 0.5995840896804415, 'cnn_weight': 0.38048209318838777}. Best is trial 43 with value: 0.817895609356499.\n",
      "[I 2023-12-15 17:28:40,206] Trial 59 finished with value: 0.8178311727811273 and parameters: {'lgb_weight': 0.44011796511393514, 'cnn_weight': 0.40744629419422707}. Best is trial 43 with value: 0.817895609356499.\n",
      "[I 2023-12-15 17:28:40,222] Trial 60 finished with value: 0.8178337163301551 and parameters: {'lgb_weight': 0.4387042609229946, 'cnn_weight': 0.4044932424273628}. Best is trial 43 with value: 0.817895609356499.\n",
      "[I 2023-12-15 17:28:40,238] Trial 61 finished with value: 0.8178183008815016 and parameters: {'lgb_weight': 0.4407985439225945, 'cnn_weight': 0.39385128502861844}. Best is trial 43 with value: 0.817895609356499.\n",
      "[I 2023-12-15 17:28:40,253] Trial 62 finished with value: 0.8179023921539066 and parameters: {'lgb_weight': 0.460424245119653, 'cnn_weight': 0.39224160541953856}. Best is trial 62 with value: 0.8179023921539066.\n",
      "[I 2023-12-15 17:28:40,284] Trial 63 finished with value: 0.8171400982179895 and parameters: {'lgb_weight': 0.43397199556356336, 'cnn_weight': 0.3451779704372378}. Best is trial 62 with value: 0.8179023921539066.\n",
      "[I 2023-12-15 17:28:40,300] Trial 64 finished with value: 0.8173422718270806 and parameters: {'lgb_weight': 0.3874118390686691, 'cnn_weight': 0.4423116400374488}. Best is trial 62 with value: 0.8179023921539066.\n",
      "[I 2023-12-15 17:28:40,316] Trial 65 finished with value: 0.8178519836368096 and parameters: {'lgb_weight': 0.45178800945249875, 'cnn_weight': 0.4101593343839859}. Best is trial 62 with value: 0.8179023921539066.\n",
      "[I 2023-12-15 17:28:40,332] Trial 66 finished with value: 0.8165718847806205 and parameters: {'lgb_weight': 0.3391957028604543, 'cnn_weight': 0.47658238310735823}. Best is trial 62 with value: 0.8179023921539066.\n",
      "[I 2023-12-15 17:28:40,347] Trial 67 finished with value: 0.8178038874370104 and parameters: {'lgb_weight': 0.43835817203731586, 'cnn_weight': 0.41286921924479497}. Best is trial 62 with value: 0.8179023921539066.\n",
      "[I 2023-12-15 17:28:40,376] Trial 68 finished with value: 0.8176980603820041 and parameters: {'lgb_weight': 0.44822579576974175, 'cnn_weight': 0.36426474508061046}. Best is trial 62 with value: 0.8179023921539066.\n",
      "[I 2023-12-15 17:28:40,378] Trial 69 finished with value: 0.8174272880264046 and parameters: {'lgb_weight': 0.39480040855571624, 'cnn_weight': 0.43848175652186133}. Best is trial 62 with value: 0.8179023921539066.\n",
      "[I 2023-12-15 17:28:40,394] Trial 70 finished with value: 0.8168244669068085 and parameters: {'lgb_weight': 0.5584581225602466, 'cnn_weight': 0.38772094789236616}. Best is trial 62 with value: 0.8179023921539066.\n",
      "[I 2023-12-15 17:28:40,410] Trial 71 finished with value: 0.817805197750146 and parameters: {'lgb_weight': 0.43856282744299935, 'cnn_weight': 0.4138698063967389}. Best is trial 62 with value: 0.8179023921539066.\n",
      "[I 2023-12-15 17:28:40,425] Trial 72 finished with value: 0.8175772803418038 and parameters: {'lgb_weight': 0.41005087020359754, 'cnn_weight': 0.4143873114447863}. Best is trial 62 with value: 0.8179023921539066.\n",
      "[I 2023-12-15 17:28:40,441] Trial 73 finished with value: 0.8148171442603891 and parameters: {'lgb_weight': 0.36735760734802014, 'cnn_weight': 0.334160550933608}. Best is trial 62 with value: 0.8179023921539066.\n",
      "[I 2023-12-15 17:28:40,456] Trial 74 finished with value: 0.8176822595471342 and parameters: {'lgb_weight': 0.45540805715093524, 'cnn_weight': 0.4317319384564214}. Best is trial 62 with value: 0.8179023921539066.\n",
      "[I 2023-12-15 17:28:40,476] Trial 75 finished with value: 0.8177751376252718 and parameters: {'lgb_weight': 0.5074138675379101, 'cnn_weight': 0.3677408998762605}. Best is trial 62 with value: 0.8179023921539066.\n",
      "[I 2023-12-15 17:28:40,504] Trial 76 finished with value: 0.8177250374171477 and parameters: {'lgb_weight': 0.43081194026199987, 'cnn_weight': 0.3905231958427504}. Best is trial 62 with value: 0.8179023921539066.\n",
      "[I 2023-12-15 17:28:40,520] Trial 77 finished with value: 0.8172551745421881 and parameters: {'lgb_weight': 0.5223480351472869, 'cnn_weight': 0.40891853597824124}. Best is trial 62 with value: 0.8179023921539066.\n",
      "[I 2023-12-15 17:28:40,536] Trial 78 finished with value: 0.8166417167630209 and parameters: {'lgb_weight': 0.3422803805658195, 'cnn_weight': 0.4614678945361189}. Best is trial 62 with value: 0.8179023921539066.\n",
      "[I 2023-12-15 17:28:40,552] Trial 79 finished with value: 0.8178693260165448 and parameters: {'lgb_weight': 0.4636677277218628, 'cnn_weight': 0.37906559015346103}. Best is trial 62 with value: 0.8179023921539066.\n",
      "[I 2023-12-15 17:28:40,568] Trial 80 finished with value: 0.8178579956617844 and parameters: {'lgb_weight': 0.46402548871004046, 'cnn_weight': 0.3755659699950959}. Best is trial 62 with value: 0.8179023921539066.\n",
      "[I 2023-12-15 17:28:40,576] Trial 81 finished with value: 0.8178636993777864 and parameters: {'lgb_weight': 0.4687608465028717, 'cnn_weight': 0.37364741804622836}. Best is trial 62 with value: 0.8179023921539066.\n",
      "[I 2023-12-15 17:28:40,600] Trial 82 finished with value: 0.8166792533804923 and parameters: {'lgb_weight': 0.4121996468816243, 'cnn_weight': 0.3450586476657911}. Best is trial 62 with value: 0.8179023921539066.\n",
      "[I 2023-12-15 17:28:40,615] Trial 83 finished with value: 0.8178450466849154 and parameters: {'lgb_weight': 0.4658398062823163, 'cnn_weight': 0.37019266905345183}. Best is trial 62 with value: 0.8179023921539066.\n",
      "[I 2023-12-15 17:28:40,631] Trial 84 finished with value: 0.8177460795045598 and parameters: {'lgb_weight': 0.5095415564963311, 'cnn_weight': 0.3700468307134669}. Best is trial 62 with value: 0.8179023921539066.\n",
      "[I 2023-12-15 17:28:40,647] Trial 85 finished with value: 0.8149781586215752 and parameters: {'lgb_weight': 0.3869794288514104, 'cnn_weight': 0.32041702813796435}. Best is trial 62 with value: 0.8179023921539066.\n",
      "[I 2023-12-15 17:28:40,663] Trial 86 finished with value: 0.8177382947029896 and parameters: {'lgb_weight': 0.4608876637251674, 'cnn_weight': 0.3594535200692757}. Best is trial 62 with value: 0.8179023921539066.\n",
      "[I 2023-12-15 17:28:40,679] Trial 87 finished with value: 0.8178972279786075 and parameters: {'lgb_weight': 0.4670767292825246, 'cnn_weight': 0.38133395565952033}. Best is trial 62 with value: 0.8179023921539066.\n",
      "[I 2023-12-15 17:28:40,695] Trial 88 finished with value: 0.8178992319869326 and parameters: {'lgb_weight': 0.46801569188416425, 'cnn_weight': 0.382254301226023}. Best is trial 62 with value: 0.8179023921539066.\n",
      "[I 2023-12-15 17:28:40,711] Trial 89 finished with value: 0.8173123658566928 and parameters: {'lgb_weight': 0.5402674290250756, 'cnn_weight': 0.3802838405686209}. Best is trial 62 with value: 0.8179023921539066.\n",
      "[I 2023-12-15 17:28:40,726] Trial 90 finished with value: 0.8177756771659745 and parameters: {'lgb_weight': 0.49839826158692835, 'cnn_weight': 0.35719648358133504}. Best is trial 62 with value: 0.8179023921539066.\n",
      "[I 2023-12-15 17:28:40,742] Trial 91 finished with value: 0.8178945302750933 and parameters: {'lgb_weight': 0.4715813350848929, 'cnn_weight': 0.3803473265756827}. Best is trial 62 with value: 0.8179023921539066.\n",
      "[I 2023-12-15 17:28:40,758] Trial 92 finished with value: 0.8178962259744451 and parameters: {'lgb_weight': 0.4715432889086111, 'cnn_weight': 0.3886047656870034}. Best is trial 62 with value: 0.8179023921539066.\n",
      "[I 2023-12-15 17:28:40,776] Trial 93 finished with value: 0.8178765712774119 and parameters: {'lgb_weight': 0.4779654038223799, 'cnn_weight': 0.3769873517980342}. Best is trial 62 with value: 0.8179023921539066.\n",
      "[I 2023-12-15 17:28:40,790] Trial 94 finished with value: 0.8178732569559515 and parameters: {'lgb_weight': 0.483064651270412, 'cnn_weight': 0.3827201384710667}. Best is trial 62 with value: 0.8179023921539066.\n",
      "[I 2023-12-15 17:28:40,816] Trial 95 finished with value: 0.8176057218445694 and parameters: {'lgb_weight': 0.5148475870934227, 'cnn_weight': 0.386123997376619}. Best is trial 62 with value: 0.8179023921539066.\n",
      "[I 2023-12-15 17:28:40,821] Trial 96 finished with value: 0.8177294308200141 and parameters: {'lgb_weight': 0.4882452344452784, 'cnn_weight': 0.3491946155395911}. Best is trial 62 with value: 0.8179023921539066.\n",
      "[I 2023-12-15 17:28:40,853] Trial 97 finished with value: 0.8169415472393321 and parameters: {'lgb_weight': 0.5553390405433525, 'cnn_weight': 0.3849838134322151}. Best is trial 62 with value: 0.8179023921539066.\n",
      "[I 2023-12-15 17:28:40,869] Trial 98 finished with value: 0.8154276731043122 and parameters: {'lgb_weight': 0.417118606511073, 'cnn_weight': 0.3074676686147319}. Best is trial 62 with value: 0.8179023921539066.\n",
      "[I 2023-12-15 17:28:40,885] Trial 99 finished with value: 0.8170926186361366 and parameters: {'lgb_weight': 0.5382061631105293, 'cnn_weight': 0.4003849992178642}. Best is trial 62 with value: 0.8179023921539066.\n"
     ]
    }
   ],
   "source": [
    "import optuna\n",
    "def objective(trial):\n",
    "    lgb_weights = trial.suggest_float(\"lgb_weight\", 0.0, 1.0)\n",
    "    cnn_weights = trial.suggest_float(\"cnn_weight\", 0.0, 1.0 - lgb_weights)\n",
    "    tf_weights  = 1.0 - lgb_weights - cnn_weights\n",
    "    weighted_average = lgb_weights * pred_list[0] + cnn_weights * pred_list[1] + tf_weights * pred_list[2]\n",
    "\n",
    "    # AUCの計算\n",
    "    auc = roc_auc_score(tr_data[1], weighted_average)\n",
    "\n",
    "    return auc\n",
    "\n",
    "# Optunaの最適化\n",
    "study = optuna.create_study(direction=\"maximize\")\n",
    "study.optimize(objective, n_trials=100)\n",
    "\n"
   ]
  },
  {
   "cell_type": "code",
   "execution_count": 10,
   "metadata": {},
   "outputs": [
    {
     "name": "stdout",
     "output_type": "stream",
     "text": [
      "Best trial:\n",
      "AUC: 0.818\n",
      "Params: lgb_weights:0.460, cnn_weight:0.392, tf_weights:0.147\n"
     ]
    }
   ],
   "source": [
    "# 結果の表示\n",
    "print(\"Best trial:\")\n",
    "trial = study.best_trial\n",
    "print(f\"AUC: {trial.value:.3f}\")\n",
    "params = trial.params\n",
    "print(f\"Params: lgb_weights:{params['lgb_weight']:.3f}, cnn_weight:{params['cnn_weight']:.3f}, tf_weights:{1-sum([weight for weight in params.values()]):.3f}\")"
   ]
  },
  {
   "cell_type": "code",
   "execution_count": 317,
   "metadata": {},
   "outputs": [
    {
     "name": "stdout",
     "output_type": "stream",
     "text": [
      "0.814\n",
      "0.466\n"
     ]
    }
   ],
   "source": [
    "weighted_average = 0.4 * pred_list[0] + 0.45 * pred_list[1] + 0.15 * pred_list[2]\n",
    "print(f'{roc_auc_score(tr_data[1] ,weighted_average):.3f}')\n",
    "print(f'{log_loss(tr_data[1], weighted_average):.3f}')\n"
   ]
  },
  {
   "cell_type": "code",
   "execution_count": 11,
   "metadata": {},
   "outputs": [
    {
     "name": "stdout",
     "output_type": "stream",
     "text": [
      "0.819\n",
      "0.542\n"
     ]
    }
   ],
   "source": [
    "weighted_average2 = 0.5 * pred_list[3] + 0.4 * pred_list[4] + 0.1 * pred_list[5]\n",
    "print(f'{roc_auc_score(te_data[1] ,weighted_average2):.3f}')\n",
    "print(f'{log_loss(te_data[1], weighted_average2):.3f}')"
   ]
  },
  {
   "cell_type": "code",
   "execution_count": 320,
   "metadata": {},
   "outputs": [
    {
     "name": "stdout",
     "output_type": "stream",
     "text": [
      "metrics:0.451,code:0.399,msg:0.150\n"
     ]
    }
   ],
   "source": [
    "import numpy as np\n",
    "metrics_weight = [0.471, 0.477, 0.322, 0.324]\n",
    "code_weight = [0.388, 0.418, 0.516, 0.482]\n",
    "msg_weight = [0.140, 0.105, 0.162, 0.194]\n",
    "weights = [np.mean(code_weight), np.mean(metrics_weight), np.mean(msg_weight)]\n",
    "normalize = weights / sum(weights)\n",
    "print(f'metrics:{normalize[0]:.3f},code:{normalize[1]:.3f},msg:{normalize[2]:.3f}')"
   ]
  },
  {
   "cell_type": "code",
   "execution_count": null,
   "metadata": {},
   "outputs": [],
   "source": [
    "import numpy as np\n",
    "metrics_weight = [0.471, 0.477, 0.322, 0.324]\n",
    "code_weight = [0.388, 0.418, 0.516, 0.482]\n",
    "msg_weight = [0.140, 0.105, 0.162, 0.194]\n",
    "weights = [np.mean(code_weight), np.mean(metrics_weight), np.mean(msg_weight)]\n",
    "normalize = weights / sum(weights)\n",
    "print(f'metrics:{normalize[0]:.3f},code:{normalize[1]:.3f},msg:{normalize[2]:.3f}')"
   ]
  }
 ],
 "metadata": {
  "kernelspec": {
   "display_name": "test",
   "language": "python",
   "name": "python3"
  },
  "language_info": {
   "codemirror_mode": {
    "name": "ipython",
    "version": 3
   },
   "file_extension": ".py",
   "mimetype": "text/x-python",
   "name": "python",
   "nbconvert_exporter": "python",
   "pygments_lexer": "ipython3",
   "version": "3.9.16"
  }
 },
 "nbformat": 4,
 "nbformat_minor": 2
}
