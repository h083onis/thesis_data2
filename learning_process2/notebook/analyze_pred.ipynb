{
 "cells": [
  {
   "cell_type": "code",
   "execution_count": 34,
   "metadata": {},
   "outputs": [],
   "source": [
    "project = 'openstack'\n",
    "type = 'train'\n",
    "is_its = 'no_its'"
   ]
  },
  {
   "cell_type": "code",
   "execution_count": 35,
   "metadata": {},
   "outputs": [],
   "source": [
    "import pickle\n",
    "from sklearn.metrics import roc_auc_score, log_loss\n",
    "with open('../pred/'+is_its+'/openstack-lgb-random-train.pkl', 'rb') as f_lgb, open('../pred/'+is_its+'/openstack-code_cnn-random-train.pkl', 'rb') as f_cnn, \\\n",
    "    open('../pred/'+is_its+'/openstack-msg_tf-random-train.pkl','rb') as f_tf:\n",
    "    lgb_train = pickle.load(f_lgb)\n",
    "    cnn_train = pickle.load(f_cnn)\n",
    "    tf_train = pickle.load(f_tf)\n",
    "with open('../resource/openstack_train.pkl', 'rb') as f:\n",
    "    train_data = pickle.load(f)\n"
   ]
  },
  {
   "cell_type": "code",
   "execution_count": 36,
   "metadata": {},
   "outputs": [
    {
     "name": "stdout",
     "output_type": "stream",
     "text": [
      "lgb:auc_score 0.786, log_loss 0.537\n",
      "cnn:auc_score 0.796, log_loss 0.515\n",
      "tf:auc_score 0.713, log_loss 0.466\n"
     ]
    }
   ],
   "source": [
    "print(f'lgb:auc_score {roc_auc_score(train_data[5], lgb_train):.3f}, log_loss {log_loss(train_data[5],lgb_train):.3f}' )\n",
    "print(f'cnn:auc_score {roc_auc_score(train_data[5], cnn_train):.3f}, log_loss {log_loss(train_data[5],cnn_train):.3f}')\n",
    "print(f'tf:auc_score {roc_auc_score(train_data[5], tf_train):.3f}, log_loss {log_loss(train_data[5],tf_train):.3f}')"
   ]
  },
  {
   "cell_type": "code",
   "execution_count": 1,
   "metadata": {},
   "outputs": [
    {
     "ename": "NameError",
     "evalue": "name 'is_its' is not defined",
     "output_type": "error",
     "traceback": [
      "\u001b[1;31m---------------------------------------------------------------------------\u001b[0m",
      "\u001b[1;31mNameError\u001b[0m                                 Traceback (most recent call last)",
      "\u001b[1;32mc:\\Users\\masak\\workspace\\lab\\thesis_data2\\learning_process2\\notebook\\analyze_pred.ipynb Cell 4\u001b[0m line \u001b[0;36m3\n\u001b[0;32m      <a href='vscode-notebook-cell:/c%3A/Users/masak/workspace/lab/thesis_data2/learning_process2/notebook/analyze_pred.ipynb#W3sZmlsZQ%3D%3D?line=0'>1</a>\u001b[0m \u001b[39mimport\u001b[39;00m \u001b[39mpickle\u001b[39;00m\n\u001b[0;32m      <a href='vscode-notebook-cell:/c%3A/Users/masak/workspace/lab/thesis_data2/learning_process2/notebook/analyze_pred.ipynb#W3sZmlsZQ%3D%3D?line=1'>2</a>\u001b[0m \u001b[39mfrom\u001b[39;00m \u001b[39msklearn\u001b[39;00m\u001b[39m.\u001b[39;00m\u001b[39mmetrics\u001b[39;00m \u001b[39mimport\u001b[39;00m roc_auc_score, log_loss\n\u001b[1;32m----> <a href='vscode-notebook-cell:/c%3A/Users/masak/workspace/lab/thesis_data2/learning_process2/notebook/analyze_pred.ipynb#W3sZmlsZQ%3D%3D?line=2'>3</a>\u001b[0m \u001b[39mwith\u001b[39;00m \u001b[39mopen\u001b[39m(\u001b[39m'\u001b[39m\u001b[39m../pred/\u001b[39m\u001b[39m'\u001b[39m\u001b[39m+\u001b[39mis_its\u001b[39m+\u001b[39m\u001b[39m'\u001b[39m\u001b[39m/qt-lgb-random-train.pkl\u001b[39m\u001b[39m'\u001b[39m, \u001b[39m'\u001b[39m\u001b[39mrb\u001b[39m\u001b[39m'\u001b[39m) \u001b[39mas\u001b[39;00m f_lgb, \u001b[39mopen\u001b[39m(\u001b[39m'\u001b[39m\u001b[39m../pred/\u001b[39m\u001b[39m'\u001b[39m\u001b[39m+\u001b[39mis_its\u001b[39m+\u001b[39m\u001b[39m'\u001b[39m\u001b[39m/qt-code_cnn-random-train.pkl\u001b[39m\u001b[39m'\u001b[39m, \u001b[39m'\u001b[39m\u001b[39mrb\u001b[39m\u001b[39m'\u001b[39m) \u001b[39mas\u001b[39;00m f_cnn, \\\n\u001b[0;32m      <a href='vscode-notebook-cell:/c%3A/Users/masak/workspace/lab/thesis_data2/learning_process2/notebook/analyze_pred.ipynb#W3sZmlsZQ%3D%3D?line=3'>4</a>\u001b[0m     \u001b[39mopen\u001b[39m(\u001b[39m'\u001b[39m\u001b[39m../pred/\u001b[39m\u001b[39m'\u001b[39m\u001b[39m+\u001b[39mis_its\u001b[39m+\u001b[39m\u001b[39m'\u001b[39m\u001b[39m/qt-msg_tf-random-train.pkl\u001b[39m\u001b[39m'\u001b[39m,\u001b[39m'\u001b[39m\u001b[39mrb\u001b[39m\u001b[39m'\u001b[39m) \u001b[39mas\u001b[39;00m f_tf:\n\u001b[0;32m      <a href='vscode-notebook-cell:/c%3A/Users/masak/workspace/lab/thesis_data2/learning_process2/notebook/analyze_pred.ipynb#W3sZmlsZQ%3D%3D?line=4'>5</a>\u001b[0m     lgb_train \u001b[39m=\u001b[39m pickle\u001b[39m.\u001b[39mload(f_lgb)\n\u001b[0;32m      <a href='vscode-notebook-cell:/c%3A/Users/masak/workspace/lab/thesis_data2/learning_process2/notebook/analyze_pred.ipynb#W3sZmlsZQ%3D%3D?line=5'>6</a>\u001b[0m     cnn_train \u001b[39m=\u001b[39m pickle\u001b[39m.\u001b[39mload(f_cnn)\n",
      "\u001b[1;31mNameError\u001b[0m: name 'is_its' is not defined"
     ]
    }
   ],
   "source": [
    "import pickle\n",
    "from sklearn.metrics import roc_auc_score, log_loss\n",
    "with open('../pred/'+is_its+'/qt-lgb-random-train.pkl', 'rb') as f_lgb, open('../pred/'+is_its+'/qt-code_cnn-random-train.pkl', 'rb') as f_cnn, \\\n",
    "    open('../pred/'+is_its+'/qt-msg_tf-random-train.pkl','rb') as f_tf:\n",
    "    lgb_train = pickle.load(f_lgb)\n",
    "    cnn_train = pickle.load(f_cnn)\n",
    "    tf_train = pickle.load(f_tf)\n",
    "with open('../resource/qt_train.pkl', 'rb') as f:\n",
    "    train_data = pickle.load(f)"
   ]
  },
  {
   "cell_type": "code",
   "execution_count": 38,
   "metadata": {},
   "outputs": [
    {
     "name": "stdout",
     "output_type": "stream",
     "text": [
      "lgb:auc_score 0.769, log_loss 0.493\n",
      "cnn:auc_score 0.798, log_loss 0.557\n",
      "tf:auc_score 0.699, log_loss 0.332\n"
     ]
    }
   ],
   "source": [
    "print(f'lgb:auc_score {roc_auc_score(train_data[5], lgb_train):.3f}, log_loss {log_loss(train_data[5],lgb_train):.3f}' )\n",
    "print(f'cnn:auc_score {roc_auc_score(train_data[5], cnn_train):.3f}, log_loss {log_loss(train_data[5],cnn_train):.3f}')\n",
    "print(f'tf:auc_score {roc_auc_score(train_data[5], tf_train):.3f}, log_loss {log_loss(train_data[5],tf_train):.3f}')"
   ]
  },
  {
   "cell_type": "code",
   "execution_count": 25,
   "metadata": {},
   "outputs": [
    {
     "name": "stdout",
     "output_type": "stream",
     "text": [
      "lgb:auc_score 0.801, log_loss 0.458\n"
     ]
    }
   ],
   "source": [
    "import pickle\n",
    "from sklearn.metrics import roc_auc_score, log_loss\n",
    "with open('../pred/qt-lgb-random-test.pkl', 'rb') as f_lgb:\n",
    "    lgb = pickle.load(f_lgb)\n",
    "\n",
    "with open('../resource/qt_test.pkl', 'rb') as f:\n",
    "    train_data = pickle.load(f)\n",
    "print(f'lgb:auc_score {roc_auc_score(train_data[5], lgb):.3f}, log_loss {log_loss(train_data[5],lgb):.3f}' )"
   ]
  },
  {
   "cell_type": "code",
   "execution_count": 26,
   "metadata": {},
   "outputs": [
    {
     "name": "stdout",
     "output_type": "stream",
     "text": [
      "lgb:auc_score 0.794, log_loss 0.596\n"
     ]
    }
   ],
   "source": [
    "import pickle\n",
    "from sklearn.metrics import roc_auc_score, log_loss\n",
    "with open('../pred/openstack-lgb-random-test.pkl', 'rb') as f_lgb:\n",
    "    lgb = pickle.load(f_lgb)\n",
    "\n",
    "with open('../resource/openstack_test.pkl', 'rb') as f:\n",
    "    train_data = pickle.load(f)\n",
    "print(f'lgb:auc_score {roc_auc_score(train_data[5], lgb):.3f}, log_loss {log_loss(train_data[5],lgb):.3f}' )"
   ]
  }
 ],
 "metadata": {
  "kernelspec": {
   "display_name": "test",
   "language": "python",
   "name": "python3"
  },
  "language_info": {
   "codemirror_mode": {
    "name": "ipython",
    "version": 3
   },
   "file_extension": ".py",
   "mimetype": "text/x-python",
   "name": "python",
   "nbconvert_exporter": "python",
   "pygments_lexer": "ipython3",
   "version": "3.9.16"
  }
 },
 "nbformat": 4,
 "nbformat_minor": 2
}
