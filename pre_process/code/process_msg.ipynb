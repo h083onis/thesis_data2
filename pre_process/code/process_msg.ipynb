{
 "cells": [
  {
   "cell_type": "code",
   "execution_count": 6,
   "metadata": {},
   "outputs": [],
   "source": [
    "import nltk\n",
    "from nltk import stem\n",
    "from nltk.corpus import stopwords\n"
   ]
  },
  {
   "cell_type": "code",
   "execution_count": 7,
   "metadata": {},
   "outputs": [],
   "source": [
    "def delete_stopwords(list):\n",
    "    stopset = set(stopwords.words('english'))\n",
    "    tmp_list = [w for w in list if w not in stopset]\n",
    "    return tmp_list\n",
    "\n",
    "def stem_word(list):\n",
    "    stemmer  = stem.PorterStemmer()\n",
    "    tmp_list = [stemmer.stem(w) for w in list]\n",
    "    return tmp_list\n",
    "\n",
    "def tokenize_msg(text):\n",
    "    tmp_list = nltk.word_tokenize(text)\n",
    "    return tmp_list\n",
    "\n",
    "# def make_dic(text):\n",
    "#     dic = {}\n",
    "#     tmp_list = stem_word(delete_stopwords(tokenize_msg(text)))\n",
    "#     for w in tmp_list:\n",
    "#         if w not in dic.keys():\n",
    "#             dic[w] = 1\n",
    "#         else:\n",
    "#             cnt = dic[w]\n",
    "#             dic[w] = cnt + 1\n",
    "\n",
    "def getTokens2(msg):\n",
    "    return stem_word(tokenize_msg(msg))\n",
    "    \n",
    "\n",
    "def getTokens(data_iter):\n",
    "    for msg in data_iter['msgs']:\n",
    "        yield stem_word(delete_stopwords(tokenize_msg(msg)))\n",
    "\n",
    "def getTransform(vocab):\n",
    "    text_transform = T.Sequential(\n",
    "        T.VocabTransform(vocab=vocab)\n",
    "    )\n",
    "    return text_transform"
   ]
  },
  {
   "cell_type": "code",
   "execution_count": 36,
   "metadata": {},
   "outputs": [
    {
     "name": "stdout",
     "output_type": "stream",
     "text": [
      "utf-8\n",
      "#include <private/qfilesystementry_p.h>\n",
      "\n",
      "\n"
     ]
    }
   ],
   "source": [
    "import tokenize\n",
    "import io\n",
    "# code = \"print('Hello, world!')\"\n",
    "code = 'const QList<QTouchEvent::TouchPoint> &touchPoints'\n",
    "code = 'touchEvent.setTimestamp(timestamp);'\n",
    "# code = \"print('hello'+ \"\n",
    "code = 'details << Generator::fullDocumentLocation(node,true);'\n",
    "code = '#include <private/qfilesystementry_p.h>'\n",
    "tokens = tokenize.tokenize(io.BytesIO(code.encode('utf-8')).readline)\n",
    "for tok in tokens:\n",
    "    print(tok.string)"
   ]
  },
  {
   "cell_type": "code",
   "execution_count": 28,
   "metadata": {},
   "outputs": [
    {
     "data": {
      "text/plain": [
       "'h'"
      ]
     },
     "execution_count": 28,
     "metadata": {},
     "output_type": "execute_result"
    }
   ],
   "source": [
    "'private/qfilesystementry_p.h'.split('.')[-1]"
   ]
  },
  {
   "cell_type": "code",
   "execution_count": 8,
   "metadata": {},
   "outputs": [
    {
     "name": "stdout",
     "output_type": "stream",
     "text": [
      "#\n",
      "include\n",
      " \n",
      "<private/qfilesystementry_p.h>\n",
      "\n",
      "\n",
      "['#', 'include', '', '<private/qfilesystementry_p.h>', '']\n"
     ]
    }
   ],
   "source": [
    "from pygments import lex\n",
    "from pygments.lexers import PythonLexer\n",
    "from pygments.lexers import CppLexer\n",
    "from pygments.lexers import JavaLexer\n",
    "from pygments.lexers import CLexer\n",
    "from spiral import ronin\n",
    "# code = \"from torchtext.legacy import data\"\n",
    "# code = \"print('HelloWordld,2, world!')\"\n",
    "# code = '#define amd64_mov_reg_memindex_size_body(inst,reg,basereg,disp,indexreg,shift,size)'\n",
    "code = '#include <private/qfilesystementry_p.h>'\n",
    "# code = \"print('hello'+ \"\n",
    "# code = 'details << Generator::fullDocumentLocation(node,true);'\n",
    "# code = \"#ifndef Q_OS_WIN\"\n",
    "# code = \"                                                   const QList<QTouchEvent::TouchPoint> &touchPoints,\\r\"\n",
    "tokens = list(lex(code, PythonLexer()))\n",
    "tokens = list(lex(code, CppLexer()))\n",
    "# tokens = list(lex(code, JavaLexer()))\n",
    "# tokens = list(lex(code, CLexer()))\n",
    "tmp_list2 = []\n",
    "for token in tokens:\n",
    "    print(token[1])\n",
    "    if token[1].isidentifier():\n",
    "        tmp_list = ronin.split(token[1])\n",
    "        # print(tmp_list)\n",
    "        tmp_list2.extend(tmp_list)\n",
    "    else:\n",
    "        # print(token[1])\n",
    "        tmp_list2.append(token[1].strip().lower())\n",
    "print(tmp_list2)\n",
    "# tokens2 = tokenize_msg(code)\n",
    "# for token in tokens2:\n",
    "#     print(token)\n",
    "#     # if token.isidentifier():\n",
    "#     print(ronin.split(token))\n",
    "# code_list = []\n",
    "# for token in tokens:\n",
    "#     print(token[1])\n",
    "#     print(ronin.split(token[1]))\n",
    "#     tmp_list = ronin.split(token[1])\n",
    "#     for tmp in tmp_list:\n",
    "#         code_list.append(tmp.strip().lower())\n",
    "    # print(tokenize_msg(token[1]))\n",
    "# print(code_list)\n",
    "# dict = {}\n",
    "# filepath = 'tests/auto/network/socket/qlocalsocket/tst_qlocalsocket.cpp'\n",
    "# dict['filepath'] = [token.lower() for token in ronin.split(filepath)]\n",
    "# dict\n",
    "# print('hello'\n",
    "# )\n",
    "    "
   ]
  },
  {
   "cell_type": "code",
   "execution_count": 51,
   "metadata": {},
   "outputs": [],
   "source": [
    "import json\n",
    "json_open = open('../resource/pre_process_data/qt2_repo_inf.json', 'r')\n",
    "json_load = json.load(json_open)"
   ]
  },
  {
   "cell_type": "code",
   "execution_count": 52,
   "metadata": {},
   "outputs": [
    {
     "data": {
      "text/plain": [
       "{'commit_id': '000025ca1ecabe363934bdc8794b01ffb926af66',\n",
       " 'timestamp': 1351855558,\n",
       " 'msg': 'speed up tst_QLocalSocket::readBufferOverflow\\n\\nIfdef out waitForBytesWritten on Windows.\\nSee comment in source.\\n\\nChange-Id: I7a2268d2634c2524cd8291c72dd9708e430e314e\\nReviewed-by: Oswald Buddenhagen <oswald.buddenhagen@digia.com>\\n',\n",
       " 'codes': [{'filepath': 'tests/auto/network/socket/qlocalsocket/tst_qlocalsocket.cpp',\n",
       "   'added_code': ['#ifndef Q_OS_WIN\\r', '#endif\\r'],\n",
       "   'deleted_code': []}]}"
      ]
     },
     "execution_count": 52,
     "metadata": {},
     "output_type": "execute_result"
    }
   ],
   "source": [
    "json_load[0]"
   ]
  },
  {
   "cell_type": "code",
   "execution_count": 55,
   "metadata": {},
   "outputs": [
    {
     "data": {
      "text/plain": [
       "[{'filepath': 'tests/auto/network/socket/qlocalsocket/tst_qlocalsocket.cpp',\n",
       "  'added_code': ['#ifndef Q_OS_WIN\\r', '#endif\\r'],\n",
       "  'deleted_code': []}]"
      ]
     },
     "execution_count": 55,
     "metadata": {},
     "output_type": "execute_result"
    }
   ],
   "source": [
    "code_dict = json_load[0]['codes']\n",
    "code_dict"
   ]
  },
  {
   "cell_type": "code",
   "execution_count": 56,
   "metadata": {},
   "outputs": [
    {
     "ename": "TypeError",
     "evalue": "list indices must be integers or slices, not str",
     "output_type": "error",
     "traceback": [
      "\u001b[1;31m---------------------------------------------------------------------------\u001b[0m",
      "\u001b[1;31mTypeError\u001b[0m                                 Traceback (most recent call last)",
      "\u001b[1;32mc:\\Users\\masak\\workspace\\lab\\thesis_data2\\pre_process\\code\\process_msg.ipynb Cell 9\u001b[0m line \u001b[0;36m1\n\u001b[1;32m----> <a href='vscode-notebook-cell:/c%3A/Users/masak/workspace/lab/thesis_data2/pre_process/code/process_msg.ipynb#X12sZmlsZQ%3D%3D?line=0'>1</a>\u001b[0m \u001b[39mfor\u001b[39;00m line \u001b[39min\u001b[39;00m (code_dict[kind] \u001b[39mfor\u001b[39;00m kind \u001b[39min\u001b[39;00m [\u001b[39m'\u001b[39m\u001b[39madded_code\u001b[39m\u001b[39m'\u001b[39m, \u001b[39m'\u001b[39m\u001b[39mdeleted_code\u001b[39m\u001b[39m'\u001b[39m]):\n\u001b[0;32m      <a href='vscode-notebook-cell:/c%3A/Users/masak/workspace/lab/thesis_data2/pre_process/code/process_msg.ipynb#X12sZmlsZQ%3D%3D?line=1'>2</a>\u001b[0m     \u001b[39mprint\u001b[39m(line)\n\u001b[0;32m      <a href='vscode-notebook-cell:/c%3A/Users/masak/workspace/lab/thesis_data2/pre_process/code/process_msg.ipynb#X12sZmlsZQ%3D%3D?line=2'>3</a>\u001b[0m     \u001b[39mbreak\u001b[39;00m\n",
      "\u001b[1;32mc:\\Users\\masak\\workspace\\lab\\thesis_data2\\pre_process\\code\\process_msg.ipynb Cell 9\u001b[0m line \u001b[0;36m1\n\u001b[1;32m----> <a href='vscode-notebook-cell:/c%3A/Users/masak/workspace/lab/thesis_data2/pre_process/code/process_msg.ipynb#X12sZmlsZQ%3D%3D?line=0'>1</a>\u001b[0m \u001b[39mfor\u001b[39;00m line \u001b[39min\u001b[39;00m (code_dict[kind] \u001b[39mfor\u001b[39;00m kind \u001b[39min\u001b[39;00m [\u001b[39m'\u001b[39m\u001b[39madded_code\u001b[39m\u001b[39m'\u001b[39m, \u001b[39m'\u001b[39m\u001b[39mdeleted_code\u001b[39m\u001b[39m'\u001b[39m]):\n\u001b[0;32m      <a href='vscode-notebook-cell:/c%3A/Users/masak/workspace/lab/thesis_data2/pre_process/code/process_msg.ipynb#X12sZmlsZQ%3D%3D?line=1'>2</a>\u001b[0m     \u001b[39mprint\u001b[39m(line)\n\u001b[0;32m      <a href='vscode-notebook-cell:/c%3A/Users/masak/workspace/lab/thesis_data2/pre_process/code/process_msg.ipynb#X12sZmlsZQ%3D%3D?line=2'>3</a>\u001b[0m     \u001b[39mbreak\u001b[39;00m\n",
      "\u001b[1;31mTypeError\u001b[0m: list indices must be integers or slices, not str"
     ]
    }
   ],
   "source": [
    "for line in (code_dict[kind] for kind in ['added_code', 'deleted_code']):\n",
    "    print(line)\n",
    "    break"
   ]
  }
 ],
 "metadata": {
  "kernelspec": {
   "display_name": "test",
   "language": "python",
   "name": "python3"
  },
  "language_info": {
   "codemirror_mode": {
    "name": "ipython",
    "version": 3
   },
   "file_extension": ".py",
   "mimetype": "text/x-python",
   "name": "python",
   "nbconvert_exporter": "python",
   "pygments_lexer": "ipython3",
   "version": "3.9.16"
  }
 },
 "nbformat": 4,
 "nbformat_minor": 2
}
