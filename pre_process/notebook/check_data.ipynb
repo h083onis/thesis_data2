{
 "cells": [
  {
   "cell_type": "code",
   "execution_count": 2,
   "metadata": {},
   "outputs": [],
   "source": [
    "import pickle"
   ]
  },
  {
   "cell_type": "code",
   "execution_count": 3,
   "metadata": {},
   "outputs": [],
   "source": [
    "with open('../resource/in_its_data4/qt_test.pkl', 'rb') as f:\n",
    "    data = pickle.load(f)"
   ]
  },
  {
   "cell_type": "code",
   "execution_count": 23,
   "metadata": {},
   "outputs": [
    {
     "name": "stdout",
     "output_type": "stream",
     "text": [
      "02c8306da6c9c738c8191b23e216602a741d73e4\n"
     ]
    }
   ],
   "source": [
    "print(data[0][8])"
   ]
  },
  {
   "cell_type": "code",
   "execution_count": 22,
   "metadata": {},
   "outputs": [
    {
     "name": "stdout",
     "output_type": "stream",
     "text": [
      "['fix', 'name', 'gplv3', 'licens', 'file', 'qt', '4', 'use', 'call', 'license.gpl3', 'sinc', 'use', 'gplv2', 'option', 'qt', '4.5', '(', 'ad', 'lgpl', 'v2.1', ')', '.', 'look', 'like', 'one', 'realiz', 'configur', 'script', 'look', 'file', 'license.gpl', 'ad', 'modular', 'repositori', '...', 'task-numb', ':', 'qtbug-37175', '(', \"'configur\", 'offer', 'gpl', 'v3', 'licens', \"'\", ')', 'change-id', ':', 'iffb35adf128c3e49a7a0c12dbccd5ebe9bccf3f2', 'reviewed-bi', ':', 'oswald', 'buddenhagen', '<', 'oswald.buddenhagen', '@', 'digia.com', '>', '<desc>', 'when', 'run', 'configur', 'select', 'open', 'sourc', 'edit', ',', 'lesser', 'gnu', 'gener', 'public', 'licens', 'version', '2.1', '(', 'aka', 'lgpl', 'v2', ')', 'offer', '.', 'accord', 'qt', 'project', \"'s\", 'download', 'page', '(', 'http', ':', '//qt-project.org/download', ')', ',', 'state', 'sourc', 'code', 'file', ',', 'qt', 'avail', 'also', 'gpl', 'v3', '.', 'the', 'problem', 'configur', 'offer', 'gpl', 'v3', 'option', 'file', 'license.gpl3', 'may', 'display', 'upon', 'user', 'request', '.', 'howev', ',', 'file', 'exist', '.', 'the', 'gpl', 'v3', 'licens', 'text', 'suppli', 'license.gpl', '.', 'btw', ',', 'download', 'page', \"'s\", '``', 'learn', 'licens', \"''\", 'link', 'point', 'anoth', 'page', '(', 'http', ':', '//qt-project.org/products/licens', ')', 'fail', 'mention', 'gnu', 'gener', 'public', 'licens', 'version', '3', 'option', '.']\n"
     ]
    }
   ],
   "source": [
    "print(data[2][8])"
   ]
  }
 ],
 "metadata": {
  "kernelspec": {
   "display_name": "test",
   "language": "python",
   "name": "python3"
  },
  "language_info": {
   "codemirror_mode": {
    "name": "ipython",
    "version": 3
   },
   "file_extension": ".py",
   "mimetype": "text/x-python",
   "name": "python",
   "nbconvert_exporter": "python",
   "pygments_lexer": "ipython3",
   "version": "3.9.16"
  }
 },
 "nbformat": 4,
 "nbformat_minor": 2
}
