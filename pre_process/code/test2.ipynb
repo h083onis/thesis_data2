{
 "cells": [
  {
   "cell_type": "code",
   "execution_count": 3,
   "metadata": {},
   "outputs": [],
   "source": [
    "from process_msg import *"
   ]
  },
  {
   "cell_type": "code",
   "execution_count": 18,
   "metadata": {},
   "outputs": [],
   "source": [
    "msg = \"speed up tst_QLocalSocket::readBufferOverflow\\n\\nIfdef out waitForBytesWritten on Windows.\\nSee comment in source.\\n\\nChange-Id: I7a2268d2634c2524cd8291c72dd9708e430e314e\\nReviewed-by: Oswald Buddenhagen <oswald.buddenhagen@digia.com>\\n\""
   ]
  },
  {
   "cell_type": "code",
   "execution_count": 19,
   "metadata": {},
   "outputs": [
    {
     "data": {
      "text/plain": [
       "['speed',\n",
       " 'up',\n",
       " 'tst_qlocalsocket',\n",
       " ':',\n",
       " ':readbufferoverflow',\n",
       " 'ifdef',\n",
       " 'out',\n",
       " 'waitforbyteswritten',\n",
       " 'on',\n",
       " 'window',\n",
       " '.',\n",
       " 'see',\n",
       " 'comment',\n",
       " 'in',\n",
       " 'sourc',\n",
       " '.',\n",
       " 'change-id',\n",
       " ':',\n",
       " 'i7a2268d2634c2524cd8291c72dd9708e430e314',\n",
       " 'reviewed-bi',\n",
       " ':',\n",
       " 'oswald',\n",
       " 'buddenhagen',\n",
       " '<',\n",
       " 'oswald.buddenhagen',\n",
       " '@',\n",
       " 'digia.com',\n",
       " '>']"
      ]
     },
     "execution_count": 19,
     "metadata": {},
     "output_type": "execute_result"
    }
   ],
   "source": [
    "getTokens2(msg)"
   ]
  },
  {
   "cell_type": "code",
   "execution_count": 1,
   "metadata": {},
   "outputs": [
    {
     "data": {
      "text/plain": [
       "''"
      ]
     },
     "execution_count": 1,
     "metadata": {},
     "output_type": "execute_result"
    }
   ],
   "source": [
    "line = '    \\r'\n",
    "line.strip()"
   ]
  },
  {
   "cell_type": "code",
   "execution_count": 1,
   "metadata": {},
   "outputs": [],
   "source": [
    "with open('test.py', 'r', encoding='utf-8') as f:\n",
    "    text = f.read()"
   ]
  },
  {
   "cell_type": "code",
   "execution_count": 2,
   "metadata": {},
   "outputs": [
    {
     "data": {
      "text/plain": [
       "'\"\"\"\\ntest\\n\"\"\"\\n\\n\\'\\'\\'\\ntest\\n\\'\\'\\'\\n#コメント\\na = 1\\nprint(a)\\na = \"1\"\\na = \\'1\\'\\na = \"\"\"1\"\"\"\\na = \\'\\'\\'1\\'\\'\\'\\nprint(\"\"\"1\"\"\")\\nprint(\\'\\'\\'1\\'\\'\\')\\nprint(\"2\")\\nprint(\\'1\\')\\n\\ndef test():\\n    \\'\\'\\'\\n    test\\n    \\'\\'\\'\\n    print(\\'ok\\')\\n'"
      ]
     },
     "execution_count": 2,
     "metadata": {},
     "output_type": "execute_result"
    }
   ],
   "source": [
    "text"
   ]
  },
  {
   "cell_type": "code",
   "execution_count": 3,
   "metadata": {},
   "outputs": [],
   "source": [
    "import ast\n",
    "import astor"
   ]
  },
  {
   "cell_type": "code",
   "execution_count": 4,
   "metadata": {},
   "outputs": [],
   "source": [
    "parsed_code = ast.parse(text)"
   ]
  },
  {
   "cell_type": "code",
   "execution_count": 5,
   "metadata": {},
   "outputs": [
    {
     "name": "stdout",
     "output_type": "stream",
     "text": [
      "Module(\n",
      "  body=[\n",
      "    Expr(\n",
      "      value=Constant(value='\\ntest\\n')),\n",
      "    Expr(\n",
      "      value=Constant(value='\\ntest\\n')),\n",
      "    Assign(\n",
      "      targets=[\n",
      "        Name(id='a', ctx=Store())],\n",
      "      value=Constant(value=1)),\n",
      "    Expr(\n",
      "      value=Call(\n",
      "        func=Name(id='print', ctx=Load()),\n",
      "        args=[\n",
      "          Name(id='a', ctx=Load())],\n",
      "        keywords=[])),\n",
      "    Assign(\n",
      "      targets=[\n",
      "        Name(id='a', ctx=Store())],\n",
      "      value=Constant(value='1')),\n",
      "    Assign(\n",
      "      targets=[\n",
      "        Name(id='a', ctx=Store())],\n",
      "      value=Constant(value='1')),\n",
      "    Assign(\n",
      "      targets=[\n",
      "        Name(id='a', ctx=Store())],\n",
      "      value=Constant(value='1')),\n",
      "    Assign(\n",
      "      targets=[\n",
      "        Name(id='a', ctx=Store())],\n",
      "      value=Constant(value='1')),\n",
      "    Expr(\n",
      "      value=Call(\n",
      "        func=Name(id='print', ctx=Load()),\n",
      "        args=[\n",
      "          Constant(value='1')],\n",
      "        keywords=[])),\n",
      "    Expr(\n",
      "      value=Call(\n",
      "        func=Name(id='print', ctx=Load()),\n",
      "        args=[\n",
      "          Constant(value='1')],\n",
      "        keywords=[])),\n",
      "    Expr(\n",
      "      value=Call(\n",
      "        func=Name(id='print', ctx=Load()),\n",
      "        args=[\n",
      "          Constant(value='2')],\n",
      "        keywords=[])),\n",
      "    Expr(\n",
      "      value=Call(\n",
      "        func=Name(id='print', ctx=Load()),\n",
      "        args=[\n",
      "          Constant(value='1')],\n",
      "        keywords=[])),\n",
      "    FunctionDef(\n",
      "      name='test',\n",
      "      args=arguments(\n",
      "        posonlyargs=[],\n",
      "        args=[],\n",
      "        kwonlyargs=[],\n",
      "        kw_defaults=[],\n",
      "        defaults=[]),\n",
      "      body=[\n",
      "        Expr(\n",
      "          value=Constant(value='\\n    test\\n    ')),\n",
      "        Expr(\n",
      "          value=Call(\n",
      "            func=Name(id='print', ctx=Load()),\n",
      "            args=[\n",
      "              Constant(value='ok')],\n",
      "            keywords=[]))],\n",
      "      decorator_list=[])],\n",
      "  type_ignores=[])\n"
     ]
    }
   ],
   "source": [
    "print(ast.dump(parsed_code, indent=2))"
   ]
  },
  {
   "cell_type": "code",
   "execution_count": 30,
   "metadata": {},
   "outputs": [
    {
     "name": "stdout",
     "output_type": "stream",
     "text": [
      "['\"\"\"', 'test', '\"\"\"']\n",
      "['\"\"\"', 'test', '\"\"\"', '\"\"\"', 'test', '\"\"\"']\n",
      "['\"\"\"', 'test', '\"\"\"', '\"\"\"', 'test', '\"\"\"', 'a = 1']\n",
      "['\"\"\"', 'test', '\"\"\"', '\"\"\"', 'test', '\"\"\"', 'a = 1', 'a']\n"
     ]
    },
    {
     "ename": "AttributeError",
     "evalue": "No defined handler for node of type Store",
     "output_type": "error",
     "traceback": [
      "\u001b[1;31m---------------------------------------------------------------------------\u001b[0m",
      "\u001b[1;31mAttributeError\u001b[0m                            Traceback (most recent call last)",
      "\u001b[1;32mc:\\Users\\masak\\workspace\\lab\\thesis_data2\\pre_process\\code\\test2.ipynb Cell 10\u001b[0m line \u001b[0;36m2\n\u001b[0;32m     <a href='vscode-notebook-cell:/c%3A/Users/masak/workspace/lab/thesis_data2/pre_process/code/test2.ipynb#X14sZmlsZQ%3D%3D?line=17'>18</a>\u001b[0m \u001b[39m# ASTノードを探索し、親ノードを表示\u001b[39;00m\n\u001b[0;32m     <a href='vscode-notebook-cell:/c%3A/Users/masak/workspace/lab/thesis_data2/pre_process/code/test2.ipynb#X14sZmlsZQ%3D%3D?line=18'>19</a>\u001b[0m rebuilder \u001b[39m=\u001b[39m SourceCodeRebuilder()\n\u001b[1;32m---> <a href='vscode-notebook-cell:/c%3A/Users/masak/workspace/lab/thesis_data2/pre_process/code/test2.ipynb#X14sZmlsZQ%3D%3D?line=19'>20</a>\u001b[0m rebuilder\u001b[39m.\u001b[39;49mexplore(parsed_code)\n\u001b[0;32m     <a href='vscode-notebook-cell:/c%3A/Users/masak/workspace/lab/thesis_data2/pre_process/code/test2.ipynb#X14sZmlsZQ%3D%3D?line=20'>21</a>\u001b[0m rebuilt_source_code \u001b[39m=\u001b[39m \u001b[39m\"\u001b[39m\u001b[39m\\n\u001b[39;00m\u001b[39m\"\u001b[39m\u001b[39m.\u001b[39mjoin(rebuilder\u001b[39m.\u001b[39mlines)\n\u001b[0;32m     <a href='vscode-notebook-cell:/c%3A/Users/masak/workspace/lab/thesis_data2/pre_process/code/test2.ipynb#X14sZmlsZQ%3D%3D?line=22'>23</a>\u001b[0m \u001b[39mprint\u001b[39m(rebuilt_source_code)\n",
      "\u001b[1;32mc:\\Users\\masak\\workspace\\lab\\thesis_data2\\pre_process\\code\\test2.ipynb Cell 10\u001b[0m line \u001b[0;36m1\n\u001b[0;32m     <a href='vscode-notebook-cell:/c%3A/Users/masak/workspace/lab/thesis_data2/pre_process/code/test2.ipynb#X14sZmlsZQ%3D%3D?line=13'>14</a>\u001b[0m         \u001b[39mprint\u001b[39m(\u001b[39mself\u001b[39m\u001b[39m.\u001b[39mlines)\n\u001b[0;32m     <a href='vscode-notebook-cell:/c%3A/Users/masak/workspace/lab/thesis_data2/pre_process/code/test2.ipynb#X14sZmlsZQ%3D%3D?line=14'>15</a>\u001b[0m \u001b[39mfor\u001b[39;00m child \u001b[39min\u001b[39;00m ast\u001b[39m.\u001b[39miter_child_nodes(node):\n\u001b[1;32m---> <a href='vscode-notebook-cell:/c%3A/Users/masak/workspace/lab/thesis_data2/pre_process/code/test2.ipynb#X14sZmlsZQ%3D%3D?line=15'>16</a>\u001b[0m     \u001b[39mself\u001b[39;49m\u001b[39m.\u001b[39;49mexplore(child, parent\u001b[39m=\u001b[39;49mnode)\n",
      "\u001b[1;32mc:\\Users\\masak\\workspace\\lab\\thesis_data2\\pre_process\\code\\test2.ipynb Cell 10\u001b[0m line \u001b[0;36m1\n\u001b[0;32m     <a href='vscode-notebook-cell:/c%3A/Users/masak/workspace/lab/thesis_data2/pre_process/code/test2.ipynb#X14sZmlsZQ%3D%3D?line=13'>14</a>\u001b[0m         \u001b[39mprint\u001b[39m(\u001b[39mself\u001b[39m\u001b[39m.\u001b[39mlines)\n\u001b[0;32m     <a href='vscode-notebook-cell:/c%3A/Users/masak/workspace/lab/thesis_data2/pre_process/code/test2.ipynb#X14sZmlsZQ%3D%3D?line=14'>15</a>\u001b[0m \u001b[39mfor\u001b[39;00m child \u001b[39min\u001b[39;00m ast\u001b[39m.\u001b[39miter_child_nodes(node):\n\u001b[1;32m---> <a href='vscode-notebook-cell:/c%3A/Users/masak/workspace/lab/thesis_data2/pre_process/code/test2.ipynb#X14sZmlsZQ%3D%3D?line=15'>16</a>\u001b[0m     \u001b[39mself\u001b[39;49m\u001b[39m.\u001b[39;49mexplore(child, parent\u001b[39m=\u001b[39;49mnode)\n",
      "\u001b[1;32mc:\\Users\\masak\\workspace\\lab\\thesis_data2\\pre_process\\code\\test2.ipynb Cell 10\u001b[0m line \u001b[0;36m1\n\u001b[0;32m     <a href='vscode-notebook-cell:/c%3A/Users/masak/workspace/lab/thesis_data2/pre_process/code/test2.ipynb#X14sZmlsZQ%3D%3D?line=13'>14</a>\u001b[0m         \u001b[39mprint\u001b[39m(\u001b[39mself\u001b[39m\u001b[39m.\u001b[39mlines)\n\u001b[0;32m     <a href='vscode-notebook-cell:/c%3A/Users/masak/workspace/lab/thesis_data2/pre_process/code/test2.ipynb#X14sZmlsZQ%3D%3D?line=14'>15</a>\u001b[0m \u001b[39mfor\u001b[39;00m child \u001b[39min\u001b[39;00m ast\u001b[39m.\u001b[39miter_child_nodes(node):\n\u001b[1;32m---> <a href='vscode-notebook-cell:/c%3A/Users/masak/workspace/lab/thesis_data2/pre_process/code/test2.ipynb#X14sZmlsZQ%3D%3D?line=15'>16</a>\u001b[0m     \u001b[39mself\u001b[39;49m\u001b[39m.\u001b[39;49mexplore(child, parent\u001b[39m=\u001b[39;49mnode)\n",
      "\u001b[1;32mc:\\Users\\masak\\workspace\\lab\\thesis_data2\\pre_process\\code\\test2.ipynb Cell 10\u001b[0m line \u001b[0;36m1\n\u001b[0;32m     <a href='vscode-notebook-cell:/c%3A/Users/masak/workspace/lab/thesis_data2/pre_process/code/test2.ipynb#X14sZmlsZQ%3D%3D?line=10'>11</a>\u001b[0m             \u001b[39mprint\u001b[39m(\u001b[39mself\u001b[39m\u001b[39m.\u001b[39mlines)\n\u001b[0;32m     <a href='vscode-notebook-cell:/c%3A/Users/masak/workspace/lab/thesis_data2/pre_process/code/test2.ipynb#X14sZmlsZQ%3D%3D?line=11'>12</a>\u001b[0m     \u001b[39melse\u001b[39;00m:\n\u001b[1;32m---> <a href='vscode-notebook-cell:/c%3A/Users/masak/workspace/lab/thesis_data2/pre_process/code/test2.ipynb#X14sZmlsZQ%3D%3D?line=12'>13</a>\u001b[0m         \u001b[39mself\u001b[39m\u001b[39m.\u001b[39mlines\u001b[39m.\u001b[39mextend(astor\u001b[39m.\u001b[39;49mto_source(node)\u001b[39m.\u001b[39msplitlines())\n\u001b[0;32m     <a href='vscode-notebook-cell:/c%3A/Users/masak/workspace/lab/thesis_data2/pre_process/code/test2.ipynb#X14sZmlsZQ%3D%3D?line=13'>14</a>\u001b[0m         \u001b[39mprint\u001b[39m(\u001b[39mself\u001b[39m\u001b[39m.\u001b[39mlines)\n\u001b[0;32m     <a href='vscode-notebook-cell:/c%3A/Users/masak/workspace/lab/thesis_data2/pre_process/code/test2.ipynb#X14sZmlsZQ%3D%3D?line=14'>15</a>\u001b[0m \u001b[39mfor\u001b[39;00m child \u001b[39min\u001b[39;00m ast\u001b[39m.\u001b[39miter_child_nodes(node):\n",
      "File \u001b[1;32mc:\\Users\\masak\\anaconda3\\envs\\test\\lib\\site-packages\\astor\\code_gen.py:63\u001b[0m, in \u001b[0;36mto_source\u001b[1;34m(node, indent_with, add_line_information, pretty_string, pretty_source, source_generator_class)\u001b[0m\n\u001b[0;32m     60\u001b[0m     \u001b[39mraise\u001b[39;00m \u001b[39mTypeError\u001b[39;00m(\u001b[39m'\u001b[39m\u001b[39msource_generator_class should be a subclass of SourceGenerator\u001b[39m\u001b[39m'\u001b[39m)\n\u001b[0;32m     61\u001b[0m generator \u001b[39m=\u001b[39m source_generator_class(\n\u001b[0;32m     62\u001b[0m     indent_with, add_line_information, pretty_string)\n\u001b[1;32m---> 63\u001b[0m generator\u001b[39m.\u001b[39;49mvisit(node)\n\u001b[0;32m     64\u001b[0m generator\u001b[39m.\u001b[39mresult\u001b[39m.\u001b[39mappend(\u001b[39m'\u001b[39m\u001b[39m\\n\u001b[39;00m\u001b[39m'\u001b[39m)\n\u001b[0;32m     65\u001b[0m \u001b[39mif\u001b[39;00m \u001b[39mset\u001b[39m(generator\u001b[39m.\u001b[39mresult[\u001b[39m0\u001b[39m]) \u001b[39m==\u001b[39m \u001b[39mset\u001b[39m(\u001b[39m'\u001b[39m\u001b[39m\\n\u001b[39;00m\u001b[39m'\u001b[39m):\n",
      "File \u001b[1;32mc:\\Users\\masak\\anaconda3\\envs\\test\\lib\\site-packages\\astor\\node_util.py:143\u001b[0m, in \u001b[0;36mExplicitNodeVisitor.visit\u001b[1;34m(self, node, abort)\u001b[0m\n\u001b[0;32m    141\u001b[0m method \u001b[39m=\u001b[39m \u001b[39m'\u001b[39m\u001b[39mvisit_\u001b[39m\u001b[39m'\u001b[39m \u001b[39m+\u001b[39m node\u001b[39m.\u001b[39m\u001b[39m__class__\u001b[39m\u001b[39m.\u001b[39m\u001b[39m__name__\u001b[39m\n\u001b[0;32m    142\u001b[0m visitor \u001b[39m=\u001b[39m \u001b[39mgetattr\u001b[39m(\u001b[39mself\u001b[39m, method, abort)\n\u001b[1;32m--> 143\u001b[0m \u001b[39mreturn\u001b[39;00m visitor(node)\n",
      "File \u001b[1;32mc:\\Users\\masak\\anaconda3\\envs\\test\\lib\\site-packages\\astor\\node_util.py:137\u001b[0m, in \u001b[0;36mExplicitNodeVisitor.abort_visit\u001b[1;34m(node)\u001b[0m\n\u001b[0;32m    135\u001b[0m \u001b[39mdef\u001b[39;00m \u001b[39mabort_visit\u001b[39m(node):  \u001b[39m# XXX: self?\u001b[39;00m\n\u001b[0;32m    136\u001b[0m     msg \u001b[39m=\u001b[39m \u001b[39m'\u001b[39m\u001b[39mNo defined handler for node of type \u001b[39m\u001b[39m%s\u001b[39;00m\u001b[39m'\u001b[39m\n\u001b[1;32m--> 137\u001b[0m     \u001b[39mraise\u001b[39;00m \u001b[39mAttributeError\u001b[39;00m(msg \u001b[39m%\u001b[39m node\u001b[39m.\u001b[39m\u001b[39m__class__\u001b[39m\u001b[39m.\u001b[39m\u001b[39m__name__\u001b[39m)\n",
      "\u001b[1;31mAttributeError\u001b[0m: No defined handler for node of type Store"
     ]
    }
   ],
   "source": [
    "# ASTノードを再帰的に探索する関数\n",
    "class SourceCodeRebuilder():\n",
    "    def __init__(self):\n",
    "        self.lines = []\n",
    "        \n",
    "    def explore(self, node, parent=None):\n",
    "        if not isinstance(node, (ast.Module)) and parent != None:\n",
    "            if isinstance(parent, ast.Expr) and not isinstance(node, ast.Constant):\n",
    "                self.lines.extend(astor.to_source(node).splitlines())\n",
    "                print(self.lines)\n",
    "            else:\n",
    "                self.lines.extend(astor.to_source(node).splitlines())\n",
    "                print(self.lines)\n",
    "        for child in ast.iter_child_nodes(node):\n",
    "            self.explore(child, parent=node)\n",
    "\n",
    "# ASTノードを探索し、親ノードを表示\n",
    "rebuilder = SourceCodeRebuilder()\n",
    "rebuilder.explore(parsed_code)\n",
    "rebuilt_source_code = \"\\n\".join(rebuilder.lines)\n",
    "\n",
    "print(rebuilt_source_code)"
   ]
  },
  {
   "cell_type": "code",
   "execution_count": 1,
   "metadata": {},
   "outputs": [],
   "source": [
    "with open('test.py', 'r', encoding='utf-8') as f:\n",
    "    text = f.read()"
   ]
  },
  {
   "cell_type": "code",
   "execution_count": 2,
   "metadata": {},
   "outputs": [
    {
     "name": "stdout",
     "output_type": "stream",
     "text": [
      "\n",
      "\n",
      "\n",
      "'\n",
      "test''\n",
      "#コメント\n",
      "a = 1\n",
      "\"\"\"\n",
      "test\"\"\"\n",
      "print(a)\n",
      "a = \"1\"\n",
      "a = '1'\n",
      "a = \"\"\"1\"\"\"\n",
      "a = ''1''\n",
      "print(\"\"\"1\"\"\")\n",
      "print(''1'')\n",
      "print(\"2\")\n",
      "print('1')\n",
      "\n",
      "def test():\n",
      "    ''\n",
      "    test\n",
      "    ''\n",
      "    print('ok')\n",
      "\n"
     ]
    }
   ],
   "source": [
    "from exclude_comment import exclude_comment\n",
    "print(exclude_comment(text, 'py'))"
   ]
  }
 ],
 "metadata": {
  "kernelspec": {
   "display_name": "test",
   "language": "python",
   "name": "python3"
  },
  "language_info": {
   "codemirror_mode": {
    "name": "ipython",
    "version": 3
   },
   "file_extension": ".py",
   "mimetype": "text/x-python",
   "name": "python",
   "nbconvert_exporter": "python",
   "pygments_lexer": "ipython3",
   "version": "3.9.16"
  }
 },
 "nbformat": 4,
 "nbformat_minor": 2
}
