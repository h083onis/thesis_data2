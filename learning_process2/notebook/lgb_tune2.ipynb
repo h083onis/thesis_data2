{
 "cells": [
  {
   "cell_type": "code",
   "execution_count": 1,
   "metadata": {},
   "outputs": [
    {
     "ename": "FileNotFoundError",
     "evalue": "[Errno 2] No such file or directory: '../pred/qt-code_cnn-random-train.pkl'",
     "output_type": "error",
     "traceback": [
      "\u001b[1;31m---------------------------------------------------------------------------\u001b[0m",
      "\u001b[1;31mFileNotFoundError\u001b[0m                         Traceback (most recent call last)",
      "\u001b[1;32mc:\\Users\\masak\\workspace\\lab\\thesis_data2\\learning_process2\\notebook\\lgb_tune2.ipynb Cell 1\u001b[0m line \u001b[0;36m1\n\u001b[0;32m      <a href='vscode-notebook-cell:/c%3A/Users/masak/workspace/lab/thesis_data2/learning_process2/notebook/lgb_tune2.ipynb#W0sZmlsZQ%3D%3D?line=8'>9</a>\u001b[0m \u001b[39mfor\u001b[39;00m kind \u001b[39min\u001b[39;00m kinds:\n\u001b[0;32m     <a href='vscode-notebook-cell:/c%3A/Users/masak/workspace/lab/thesis_data2/learning_process2/notebook/lgb_tune2.ipynb#W0sZmlsZQ%3D%3D?line=9'>10</a>\u001b[0m     \u001b[39mfor\u001b[39;00m model \u001b[39min\u001b[39;00m models:\n\u001b[1;32m---> <a href='vscode-notebook-cell:/c%3A/Users/masak/workspace/lab/thesis_data2/learning_process2/notebook/lgb_tune2.ipynb#W0sZmlsZQ%3D%3D?line=10'>11</a>\u001b[0m         \u001b[39mwith\u001b[39;00m \u001b[39mopen\u001b[39;49m(\u001b[39m'\u001b[39;49m\u001b[39m../pred/\u001b[39;49m\u001b[39m'\u001b[39;49m\u001b[39m+\u001b[39;49mproject\u001b[39m+\u001b[39;49m\u001b[39m'\u001b[39;49m\u001b[39m-\u001b[39;49m\u001b[39m'\u001b[39;49m\u001b[39m+\u001b[39;49mmodel\u001b[39m+\u001b[39;49m\u001b[39m'\u001b[39;49m\u001b[39m-\u001b[39;49m\u001b[39m'\u001b[39;49m\u001b[39m+\u001b[39;49m\u001b[39m'\u001b[39;49m\u001b[39mrandom\u001b[39;49m\u001b[39m'\u001b[39;49m\u001b[39m+\u001b[39;49m\u001b[39m'\u001b[39;49m\u001b[39m-\u001b[39;49m\u001b[39m'\u001b[39;49m\u001b[39m+\u001b[39;49mkind\u001b[39m+\u001b[39;49m\u001b[39m'\u001b[39;49m\u001b[39m.pkl\u001b[39;49m\u001b[39m'\u001b[39;49m, \u001b[39m'\u001b[39;49m\u001b[39mrb\u001b[39;49m\u001b[39m'\u001b[39;49m) \u001b[39mas\u001b[39;00m f:\n\u001b[0;32m     <a href='vscode-notebook-cell:/c%3A/Users/masak/workspace/lab/thesis_data2/learning_process2/notebook/lgb_tune2.ipynb#W0sZmlsZQ%3D%3D?line=11'>12</a>\u001b[0m             pred_list\u001b[39m.\u001b[39mappend(pickle\u001b[39m.\u001b[39mload(f))\n\u001b[0;32m     <a href='vscode-notebook-cell:/c%3A/Users/masak/workspace/lab/thesis_data2/learning_process2/notebook/lgb_tune2.ipynb#W0sZmlsZQ%3D%3D?line=12'>13</a>\u001b[0m tr_pred \u001b[39m=\u001b[39m [[pred_list[\u001b[39m0\u001b[39m][j], pred_list[\u001b[39m1\u001b[39m][j], pred_list[\u001b[39m2\u001b[39m][j]] \u001b[39mfor\u001b[39;00m j \u001b[39min\u001b[39;00m \u001b[39mrange\u001b[39m(\u001b[39mlen\u001b[39m(pred_list[\u001b[39m0\u001b[39m]))]\n",
      "File \u001b[1;32mc:\\Users\\masak\\anaconda3\\envs\\test\\lib\\site-packages\\IPython\\core\\interactiveshell.py:284\u001b[0m, in \u001b[0;36m_modified_open\u001b[1;34m(file, *args, **kwargs)\u001b[0m\n\u001b[0;32m    277\u001b[0m \u001b[39mif\u001b[39;00m file \u001b[39min\u001b[39;00m {\u001b[39m0\u001b[39m, \u001b[39m1\u001b[39m, \u001b[39m2\u001b[39m}:\n\u001b[0;32m    278\u001b[0m     \u001b[39mraise\u001b[39;00m \u001b[39mValueError\u001b[39;00m(\n\u001b[0;32m    279\u001b[0m         \u001b[39mf\u001b[39m\u001b[39m\"\u001b[39m\u001b[39mIPython won\u001b[39m\u001b[39m'\u001b[39m\u001b[39mt let you open fd=\u001b[39m\u001b[39m{\u001b[39;00mfile\u001b[39m}\u001b[39;00m\u001b[39m by default \u001b[39m\u001b[39m\"\u001b[39m\n\u001b[0;32m    280\u001b[0m         \u001b[39m\"\u001b[39m\u001b[39mas it is likely to crash IPython. If you know what you are doing, \u001b[39m\u001b[39m\"\u001b[39m\n\u001b[0;32m    281\u001b[0m         \u001b[39m\"\u001b[39m\u001b[39myou can use builtins\u001b[39m\u001b[39m'\u001b[39m\u001b[39m open.\u001b[39m\u001b[39m\"\u001b[39m\n\u001b[0;32m    282\u001b[0m     )\n\u001b[1;32m--> 284\u001b[0m \u001b[39mreturn\u001b[39;00m io_open(file, \u001b[39m*\u001b[39margs, \u001b[39m*\u001b[39m\u001b[39m*\u001b[39mkwargs)\n",
      "\u001b[1;31mFileNotFoundError\u001b[0m: [Errno 2] No such file or directory: '../pred/qt-code_cnn-random-train.pkl'"
     ]
    }
   ],
   "source": [
    "import pickle\n",
    "project = 'qt'\n",
    "with open('../resource/'+project+'_train.pkl', 'rb') as f_train, open('../resource/'+project+'_test.pkl', 'rb') as f_test:\n",
    "        tr_data = pickle.load(f_train)\n",
    "        te_data = pickle.load(f_test)\n",
    "pred_list = []\n",
    "kinds = ['train', 'test']\n",
    "models = ['lgb', 'code_cnn', 'msg_tf']\n",
    "for kind in kinds:\n",
    "    for model in models:\n",
    "        with open('../pred/'+project+'-'+model+'-'+'random'+'-'+kind+'.pkl', 'rb') as f:\n",
    "            pred_list.append(pickle.load(f))\n",
    "tr_pred = [[pred_list[0][j], pred_list[1][j], pred_list[2][j]] for j in range(len(pred_list[0]))]\n",
    "te_pred = [[pred_list[3][j], pred_list[4][j], pred_list[5][j]] for j in range(len(pred_list[3]))]                \n",
    "tr_data = [tr_pred, tr_data[5]]\n",
    "te_data = [te_pred, te_data[5]]"
   ]
  },
  {
   "cell_type": "code",
   "execution_count": 65,
   "metadata": {},
   "outputs": [],
   "source": [
    "from optuna.integration import lightgbm as lgb\n",
    "from sklearn.model_selection import StratifiedKFold\n",
    "import numpy as np\n",
    "from sklearn.metrics import log_loss, roc_auc_score\n",
    "from sklearn.utils.class_weight import compute_class_weight\n",
    "from sklearn.utils.class_weight import compute_sample_weight"
   ]
  },
  {
   "cell_type": "code",
   "execution_count": 66,
   "metadata": {},
   "outputs": [],
   "source": [
    "sample_weights = compute_sample_weight(class_weight='balanced', y=tr_data[1])\n",
    "# _weights = compute_class_weight(class_weight='balanced', classes=np.unique(tr_dataset[5]), y=tr_dataset[5])"
   ]
  },
  {
   "cell_type": "code",
   "execution_count": 67,
   "metadata": {},
   "outputs": [],
   "source": [
    "\n",
    "lgb_train = lgb.Dataset(np.array(tr_data[0]), np.array(tr_data[1]), weight=sample_weights)"
   ]
  },
  {
   "cell_type": "code",
   "execution_count": 68,
   "metadata": {},
   "outputs": [
    {
     "name": "stderr",
     "output_type": "stream",
     "text": [
      "[I 2023-12-02 14:19:54,731] A new study created in memory with name: no-name-1f525709-3d78-4f0e-aed6-9430d7d5373f\n",
      "feature_fraction, val_score: 0.811744:  14%|#4        | 1/7 [00:00<00:00,  7.77it/s][I 2023-12-02 14:19:54,873] Trial 0 finished with value: 0.811743583536545 and parameters: {'feature_fraction': 0.7}. Best is trial 0 with value: 0.811743583536545.\n",
      "feature_fraction, val_score: 0.811744:  14%|#4        | 1/7 [00:00<00:00,  7.77it/s]"
     ]
    },
    {
     "name": "stdout",
     "output_type": "stream",
     "text": [
      "Training until validation scores don't improve for 10 rounds\n",
      "Early stopping, best iteration is:\n",
      "[9]\tcv_agg's valid auc: 0.811744 + 0.0124473\n",
      "Training until validation scores don't improve for 10 rounds\n"
     ]
    },
    {
     "name": "stderr",
     "output_type": "stream",
     "text": [
      "feature_fraction, val_score: 0.811744:  29%|##8       | 2/7 [00:00<00:00,  7.90it/s][I 2023-12-02 14:19:55,000] Trial 1 finished with value: 0.811743583536545 and parameters: {'feature_fraction': 0.6}. Best is trial 0 with value: 0.811743583536545.\n",
      "feature_fraction, val_score: 0.811744:  29%|##8       | 2/7 [00:00<00:00,  7.90it/s][I 2023-12-02 14:19:55,077] Trial 2 finished with value: 0.7986576977214439 and parameters: {'feature_fraction': 0.4}. Best is trial 0 with value: 0.811743583536545.\n",
      "feature_fraction, val_score: 0.811744:  43%|####2     | 3/7 [00:00<00:00,  7.90it/s]"
     ]
    },
    {
     "name": "stdout",
     "output_type": "stream",
     "text": [
      "Early stopping, best iteration is:\n",
      "[9]\tcv_agg's valid auc: 0.811744 + 0.0124473\n",
      "Training until validation scores don't improve for 10 rounds\n",
      "Early stopping, best iteration is:\n",
      "[4]\tcv_agg's valid auc: 0.798658 + 0.014213\n",
      "Training until validation scores don't improve for 10 rounds\n"
     ]
    },
    {
     "name": "stderr",
     "output_type": "stream",
     "text": [
      "feature_fraction, val_score: 0.811973:  57%|#####7    | 4/7 [00:00<00:00,  7.49it/s][I 2023-12-02 14:19:55,274] Trial 3 finished with value: 0.8119734592897189 and parameters: {'feature_fraction': 1.0}. Best is trial 3 with value: 0.8119734592897189.\n",
      "feature_fraction, val_score: 0.811973:  71%|#######1  | 5/7 [00:00<00:00,  7.29it/s][I 2023-12-02 14:19:55,421] Trial 4 finished with value: 0.811743583536545 and parameters: {'feature_fraction': 0.8}. Best is trial 3 with value: 0.8119734592897189.\n",
      "feature_fraction, val_score: 0.811973:  71%|#######1  | 5/7 [00:00<00:00,  7.29it/s]"
     ]
    },
    {
     "name": "stdout",
     "output_type": "stream",
     "text": [
      "Early stopping, best iteration is:\n",
      "[24]\tcv_agg's valid auc: 0.811973 + 0.0141784\n",
      "Training until validation scores don't improve for 10 rounds\n",
      "Early stopping, best iteration is:\n",
      "[9]\tcv_agg's valid auc: 0.811744 + 0.0124473\n",
      "Training until validation scores don't improve for 10 rounds\n"
     ]
    },
    {
     "name": "stderr",
     "output_type": "stream",
     "text": [
      "feature_fraction, val_score: 0.811973:  86%|########5 | 6/7 [00:00<00:00,  6.32it/s][I 2023-12-02 14:19:55,626] Trial 5 finished with value: 0.8119734592897189 and parameters: {'feature_fraction': 0.8999999999999999}. Best is trial 3 with value: 0.8119734592897189.\n",
      "feature_fraction, val_score: 0.811973: 100%|##########| 7/7 [00:01<00:00,  6.47it/s][I 2023-12-02 14:19:55,773] Trial 6 finished with value: 0.811743583536545 and parameters: {'feature_fraction': 0.5}. Best is trial 3 with value: 0.8119734592897189.\n",
      "feature_fraction, val_score: 0.811973: 100%|##########| 7/7 [00:01<00:00,  6.80it/s]\n"
     ]
    },
    {
     "name": "stdout",
     "output_type": "stream",
     "text": [
      "Early stopping, best iteration is:\n",
      "[24]\tcv_agg's valid auc: 0.811973 + 0.0141784\n",
      "Training until validation scores don't improve for 10 rounds\n",
      "Early stopping, best iteration is:\n",
      "[9]\tcv_agg's valid auc: 0.811744 + 0.0124473\n"
     ]
    },
    {
     "name": "stderr",
     "output_type": "stream",
     "text": [
      "num_leaves, val_score: 0.811973:   0%|          | 0/20 [00:00<?, ?it/s]"
     ]
    },
    {
     "name": "stdout",
     "output_type": "stream",
     "text": [
      "Training until validation scores don't improve for 10 rounds\n"
     ]
    },
    {
     "name": "stderr",
     "output_type": "stream",
     "text": [
      "num_leaves, val_score: 0.811973:   5%|5         | 1/20 [00:00<00:05,  3.46it/s][I 2023-12-02 14:19:56,068] Trial 7 finished with value: 0.8015661908955412 and parameters: {'num_leaves': 93}. Best is trial 7 with value: 0.8015661908955412.\n",
      "num_leaves, val_score: 0.811973:   5%|5         | 1/20 [00:00<00:05,  3.46it/s]"
     ]
    },
    {
     "name": "stdout",
     "output_type": "stream",
     "text": [
      "Early stopping, best iteration is:\n",
      "[15]\tcv_agg's valid auc: 0.801566 + 0.0168223\n",
      "Training until validation scores don't improve for 10 rounds\n"
     ]
    },
    {
     "name": "stderr",
     "output_type": "stream",
     "text": [
      "num_leaves, val_score: 0.811973:  10%|#         | 2/20 [00:00<00:06,  2.61it/s][I 2023-12-02 14:19:56,518] Trial 8 finished with value: 0.8000020677514424 and parameters: {'num_leaves': 109}. Best is trial 7 with value: 0.8015661908955412.\n",
      "num_leaves, val_score: 0.811973:  10%|#         | 2/20 [00:00<00:06,  2.61it/s]"
     ]
    },
    {
     "name": "stdout",
     "output_type": "stream",
     "text": [
      "Early stopping, best iteration is:\n",
      "[25]\tcv_agg's valid auc: 0.800002 + 0.0160903\n",
      "Training until validation scores don't improve for 10 rounds\n"
     ]
    },
    {
     "name": "stderr",
     "output_type": "stream",
     "text": [
      "num_leaves, val_score: 0.811973:  15%|#5        | 3/20 [00:01<00:07,  2.24it/s][I 2023-12-02 14:19:57,039] Trial 9 finished with value: 0.7880454058549177 and parameters: {'num_leaves': 220}. Best is trial 7 with value: 0.8015661908955412.\n",
      "num_leaves, val_score: 0.815785:  20%|##        | 4/20 [00:01<00:05,  3.13it/s][I 2023-12-02 14:19:57,162] Trial 10 finished with value: 0.8157850926896042 and parameters: {'num_leaves': 8}. Best is trial 10 with value: 0.8157850926896042.\n",
      "num_leaves, val_score: 0.815785:  20%|##        | 4/20 [00:01<00:05,  3.13it/s]"
     ]
    },
    {
     "name": "stdout",
     "output_type": "stream",
     "text": [
      "Early stopping, best iteration is:\n",
      "[15]\tcv_agg's valid auc: 0.788045 + 0.0159288\n",
      "Training until validation scores don't improve for 10 rounds\n",
      "Early stopping, best iteration is:\n",
      "[25]\tcv_agg's valid auc: 0.815785 + 0.0133616\n",
      "Training until validation scores don't improve for 10 rounds\n"
     ]
    },
    {
     "name": "stderr",
     "output_type": "stream",
     "text": [
      "num_leaves, val_score: 0.816353:  25%|##5       | 5/20 [00:01<00:04,  3.59it/s][I 2023-12-02 14:19:57,368] Trial 11 finished with value: 0.8163529398578591 and parameters: {'num_leaves': 3}. Best is trial 11 with value: 0.8163529398578591.\n",
      "num_leaves, val_score: 0.816353:  30%|###       | 6/20 [00:01<00:03,  4.51it/s][I 2023-12-02 14:19:57,482] Trial 12 finished with value: 0.8157850926896042 and parameters: {'num_leaves': 8}. Best is trial 11 with value: 0.8163529398578591.\n",
      "num_leaves, val_score: 0.816353:  30%|###       | 6/20 [00:01<00:03,  4.51it/s]"
     ]
    },
    {
     "name": "stdout",
     "output_type": "stream",
     "text": [
      "[100]\tcv_agg's valid auc: 0.816328 + 0.0115621\n",
      "Early stopping, best iteration is:\n",
      "[97]\tcv_agg's valid auc: 0.816353 + 0.0115869\n",
      "Training until validation scores don't improve for 10 rounds\n",
      "Early stopping, best iteration is:\n",
      "[25]\tcv_agg's valid auc: 0.815785 + 0.0133616\n",
      "Training until validation scores don't improve for 10 rounds\n"
     ]
    },
    {
     "name": "stderr",
     "output_type": "stream",
     "text": [
      "num_leaves, val_score: 0.816460:  35%|###5      | 7/20 [00:01<00:02,  4.53it/s][I 2023-12-02 14:19:57,697] Trial 13 finished with value: 0.8164596917556428 and parameters: {'num_leaves': 2}. Best is trial 13 with value: 0.8164596917556428.\n",
      "num_leaves, val_score: 0.816460:  35%|###5      | 7/20 [00:01<00:02,  4.53it/s]"
     ]
    },
    {
     "name": "stdout",
     "output_type": "stream",
     "text": [
      "[100]\tcv_agg's valid auc: 0.81615 + 0.0118416\n",
      "Early stopping, best iteration is:\n",
      "[131]\tcv_agg's valid auc: 0.81646 + 0.0118616\n",
      "Training until validation scores don't improve for 10 rounds\n"
     ]
    },
    {
     "name": "stderr",
     "output_type": "stream",
     "text": [
      "num_leaves, val_score: 0.816460:  40%|####      | 8/20 [00:02<00:02,  4.50it/s][I 2023-12-02 14:19:57,926] Trial 14 finished with value: 0.8164596917556428 and parameters: {'num_leaves': 2}. Best is trial 13 with value: 0.8164596917556428.\n",
      "num_leaves, val_score: 0.816460:  40%|####      | 8/20 [00:02<00:02,  4.50it/s]"
     ]
    },
    {
     "name": "stdout",
     "output_type": "stream",
     "text": [
      "[100]\tcv_agg's valid auc: 0.81615 + 0.0118416\n",
      "Early stopping, best iteration is:\n",
      "[131]\tcv_agg's valid auc: 0.81646 + 0.0118616\n",
      "Training until validation scores don't improve for 10 rounds\n"
     ]
    },
    {
     "name": "stderr",
     "output_type": "stream",
     "text": [
      "num_leaves, val_score: 0.816460:  45%|####5     | 9/20 [00:02<00:02,  4.43it/s][I 2023-12-02 14:19:58,159] Trial 15 finished with value: 0.8073661577905706 and parameters: {'num_leaves': 64}. Best is trial 13 with value: 0.8164596917556428.\n",
      "num_leaves, val_score: 0.816460:  45%|####5     | 9/20 [00:02<00:02,  4.43it/s]"
     ]
    },
    {
     "name": "stdout",
     "output_type": "stream",
     "text": [
      "Early stopping, best iteration is:\n",
      "[16]\tcv_agg's valid auc: 0.807366 + 0.0153679\n",
      "Training until validation scores don't improve for 10 rounds\n"
     ]
    },
    {
     "name": "stderr",
     "output_type": "stream",
     "text": [
      "num_leaves, val_score: 0.816460:  50%|#####     | 10/20 [00:02<00:03,  3.07it/s][I 2023-12-02 14:19:58,710] Trial 16 finished with value: 0.7927844369443411 and parameters: {'num_leaves': 199}. Best is trial 13 with value: 0.8164596917556428.\n",
      "num_leaves, val_score: 0.816460:  50%|#####     | 10/20 [00:02<00:03,  3.07it/s]"
     ]
    },
    {
     "name": "stdout",
     "output_type": "stream",
     "text": [
      "Early stopping, best iteration is:\n",
      "[21]\tcv_agg's valid auc: 0.792784 + 0.0157811\n",
      "Training until validation scores don't improve for 10 rounds\n"
     ]
    },
    {
     "name": "stderr",
     "output_type": "stream",
     "text": [
      "num_leaves, val_score: 0.816460:  55%|#####5    | 11/20 [00:03<00:02,  3.37it/s][I 2023-12-02 14:19:58,939] Trial 17 finished with value: 0.8071907190235585 and parameters: {'num_leaves': 56}. Best is trial 13 with value: 0.8164596917556428.\n",
      "num_leaves, val_score: 0.816460:  55%|#####5    | 11/20 [00:03<00:02,  3.37it/s]"
     ]
    },
    {
     "name": "stdout",
     "output_type": "stream",
     "text": [
      "Early stopping, best iteration is:\n",
      "[24]\tcv_agg's valid auc: 0.807191 + 0.0140321\n",
      "Training until validation scores don't improve for 10 rounds\n"
     ]
    },
    {
     "name": "stderr",
     "output_type": "stream",
     "text": [
      "num_leaves, val_score: 0.816460:  60%|######    | 12/20 [00:03<00:03,  2.52it/s][I 2023-12-02 14:19:59,568] Trial 18 finished with value: 0.7953851096143054 and parameters: {'num_leaves': 178}. Best is trial 13 with value: 0.8164596917556428.\n",
      "num_leaves, val_score: 0.816460:  60%|######    | 12/20 [00:03<00:03,  2.52it/s]"
     ]
    },
    {
     "name": "stdout",
     "output_type": "stream",
     "text": [
      "Early stopping, best iteration is:\n",
      "[27]\tcv_agg's valid auc: 0.795385 + 0.0132963\n",
      "Training until validation scores don't improve for 10 rounds\n"
     ]
    },
    {
     "name": "stderr",
     "output_type": "stream",
     "text": [
      "num_leaves, val_score: 0.816460:  65%|######5   | 13/20 [00:04<00:02,  2.89it/s][I 2023-12-02 14:19:59,795] Trial 19 finished with value: 0.8088345552857064 and parameters: {'num_leaves': 51}. Best is trial 13 with value: 0.8164596917556428.\n",
      "num_leaves, val_score: 0.816460:  65%|######5   | 13/20 [00:04<00:02,  2.89it/s]"
     ]
    },
    {
     "name": "stdout",
     "output_type": "stream",
     "text": [
      "Early stopping, best iteration is:\n",
      "[16]\tcv_agg's valid auc: 0.808835 + 0.0147853\n",
      "Training until validation scores don't improve for 10 rounds\n"
     ]
    },
    {
     "name": "stderr",
     "output_type": "stream",
     "text": [
      "num_leaves, val_score: 0.816460:  70%|#######   | 14/20 [00:04<00:02,  2.52it/s][I 2023-12-02 14:20:00,313] Trial 20 finished with value: 0.7971175371396737 and parameters: {'num_leaves': 146}. Best is trial 13 with value: 0.8164596917556428.\n",
      "num_leaves, val_score: 0.816460:  75%|#######5  | 15/20 [00:04<00:01,  3.14it/s][I 2023-12-02 14:20:00,448] Trial 21 finished with value: 0.8160633693115752 and parameters: {'num_leaves': 6}. Best is trial 13 with value: 0.8164596917556428.\n",
      "num_leaves, val_score: 0.816460:  75%|#######5  | 15/20 [00:04<00:01,  3.14it/s]"
     ]
    },
    {
     "name": "stdout",
     "output_type": "stream",
     "text": [
      "Early stopping, best iteration is:\n",
      "[21]\tcv_agg's valid auc: 0.797118 + 0.0152446\n",
      "Training until validation scores don't improve for 10 rounds\n",
      "Early stopping, best iteration is:\n",
      "[44]\tcv_agg's valid auc: 0.816063 + 0.0118226\n",
      "Training until validation scores don't improve for 10 rounds\n"
     ]
    },
    {
     "name": "stderr",
     "output_type": "stream",
     "text": [
      "num_leaves, val_score: 0.816460:  80%|########  | 16/20 [00:04<00:01,  3.55it/s][I 2023-12-02 14:20:00,643] Trial 22 finished with value: 0.8119734592897189 and parameters: {'num_leaves': 31}. Best is trial 13 with value: 0.8164596917556428.\n",
      "num_leaves, val_score: 0.816460:  85%|########5 | 17/20 [00:05<00:00,  4.06it/s][I 2023-12-02 14:20:00,808] Trial 23 finished with value: 0.8114021796303147 and parameters: {'num_leaves': 36}. Best is trial 13 with value: 0.8164596917556428.\n",
      "num_leaves, val_score: 0.816460:  85%|########5 | 17/20 [00:05<00:00,  4.06it/s]"
     ]
    },
    {
     "name": "stdout",
     "output_type": "stream",
     "text": [
      "Early stopping, best iteration is:\n",
      "[24]\tcv_agg's valid auc: 0.811973 + 0.0141784\n",
      "Training until validation scores don't improve for 10 rounds\n",
      "Early stopping, best iteration is:\n",
      "[16]\tcv_agg's valid auc: 0.811402 + 0.0141163\n",
      "Training until validation scores don't improve for 10 rounds\n"
     ]
    },
    {
     "name": "stderr",
     "output_type": "stream",
     "text": [
      "num_leaves, val_score: 0.816460:  90%|######### | 18/20 [00:05<00:00,  3.76it/s][I 2023-12-02 14:20:01,119] Trial 24 finished with value: 0.8027079822639049 and parameters: {'num_leaves': 82}. Best is trial 13 with value: 0.8164596917556428.\n",
      "num_leaves, val_score: 0.816460:  95%|#########5| 19/20 [00:05<00:00,  4.28it/s][I 2023-12-02 14:20:01,277] Trial 25 finished with value: 0.8116748988273533 and parameters: {'num_leaves': 25}. Best is trial 13 with value: 0.8164596917556428.\n",
      "num_leaves, val_score: 0.816460:  95%|#########5| 19/20 [00:05<00:00,  4.28it/s]"
     ]
    },
    {
     "name": "stdout",
     "output_type": "stream",
     "text": [
      "Early stopping, best iteration is:\n",
      "[17]\tcv_agg's valid auc: 0.802708 + 0.0168371\n",
      "Training until validation scores don't improve for 10 rounds\n",
      "Early stopping, best iteration is:\n",
      "[24]\tcv_agg's valid auc: 0.811675 + 0.0142244\n",
      "Training until validation scores don't improve for 10 rounds\n"
     ]
    },
    {
     "name": "stderr",
     "output_type": "stream",
     "text": [
      "num_leaves, val_score: 0.816460: 100%|##########| 20/20 [00:05<00:00,  4.49it/s][I 2023-12-02 14:20:01,474] Trial 26 finished with value: 0.8163529398578591 and parameters: {'num_leaves': 3}. Best is trial 13 with value: 0.8164596917556428.\n",
      "num_leaves, val_score: 0.816460: 100%|##########| 20/20 [00:05<00:00,  3.51it/s]\n"
     ]
    },
    {
     "name": "stdout",
     "output_type": "stream",
     "text": [
      "[100]\tcv_agg's valid auc: 0.816328 + 0.0115621\n",
      "Early stopping, best iteration is:\n",
      "[97]\tcv_agg's valid auc: 0.816353 + 0.0115869\n"
     ]
    },
    {
     "name": "stderr",
     "output_type": "stream",
     "text": [
      "bagging, val_score: 0.816460:   0%|          | 0/10 [00:00<?, ?it/s]"
     ]
    },
    {
     "name": "stdout",
     "output_type": "stream",
     "text": [
      "Training until validation scores don't improve for 10 rounds\n",
      "Early stopping, best iteration is:\n",
      "[80]\tcv_agg's valid auc: 0.815771 + 0.012549\n"
     ]
    },
    {
     "name": "stderr",
     "output_type": "stream",
     "text": [
      "bagging, val_score: 0.816460:  10%|#         | 1/10 [00:00<00:01,  6.02it/s][I 2023-12-02 14:20:01,651] Trial 27 finished with value: 0.8157710004356359 and parameters: {'bagging_fraction': 0.7754763385895199, 'bagging_freq': 5}. Best is trial 27 with value: 0.8157710004356359.\n",
      "bagging, val_score: 0.816460:  10%|#         | 1/10 [00:00<00:01,  6.02it/s]"
     ]
    },
    {
     "name": "stdout",
     "output_type": "stream",
     "text": [
      "Training until validation scores don't improve for 10 rounds\n",
      "[100]\tcv_agg's valid auc: 0.815724 + 0.0126885\n"
     ]
    },
    {
     "name": "stderr",
     "output_type": "stream",
     "text": [
      "bagging, val_score: 0.816460:  20%|##        | 2/10 [00:00<00:01,  4.35it/s][I 2023-12-02 14:20:01,926] Trial 28 finished with value: 0.8160703616353662 and parameters: {'bagging_fraction': 0.42969941834220704, 'bagging_freq': 1}. Best is trial 28 with value: 0.8160703616353662.\n",
      "bagging, val_score: 0.816460:  20%|##        | 2/10 [00:00<00:01,  4.35it/s]"
     ]
    },
    {
     "name": "stdout",
     "output_type": "stream",
     "text": [
      "Early stopping, best iteration is:\n",
      "[118]\tcv_agg's valid auc: 0.81607 + 0.0125219\n",
      "Training until validation scores don't improve for 10 rounds\n",
      "[100]\tcv_agg's valid auc: 0.816181 + 0.0117921\n"
     ]
    },
    {
     "name": "stderr",
     "output_type": "stream",
     "text": [
      "bagging, val_score: 0.816460:  30%|###       | 3/10 [00:00<00:01,  4.07it/s][I 2023-12-02 14:20:02,190] Trial 29 finished with value: 0.8164565937099952 and parameters: {'bagging_fraction': 0.9979492259363931, 'bagging_freq': 6}. Best is trial 29 with value: 0.8164565937099952.\n",
      "bagging, val_score: 0.816460:  30%|###       | 3/10 [00:00<00:01,  4.07it/s]"
     ]
    },
    {
     "name": "stdout",
     "output_type": "stream",
     "text": [
      "Early stopping, best iteration is:\n",
      "[139]\tcv_agg's valid auc: 0.816457 + 0.011801\n",
      "Training until validation scores don't improve for 10 rounds\n",
      "[100]\tcv_agg's valid auc: 0.816207 + 0.0117087\n"
     ]
    },
    {
     "name": "stderr",
     "output_type": "stream",
     "text": [
      "bagging, val_score: 0.816460:  40%|####      | 4/10 [00:00<00:01,  4.12it/s][I 2023-12-02 14:20:02,430] Trial 30 finished with value: 0.8164292166274691 and parameters: {'bagging_fraction': 0.9950696018863349, 'bagging_freq': 7}. Best is trial 29 with value: 0.8164565937099952.\n",
      "bagging, val_score: 0.816460:  40%|####      | 4/10 [00:00<00:01,  4.12it/s]"
     ]
    },
    {
     "name": "stdout",
     "output_type": "stream",
     "text": [
      "Early stopping, best iteration is:\n",
      "[133]\tcv_agg's valid auc: 0.816429 + 0.0117042\n",
      "Training until validation scores don't improve for 10 rounds\n",
      "[100]\tcv_agg's valid auc: 0.816056 + 0.0119249\n"
     ]
    },
    {
     "name": "stderr",
     "output_type": "stream",
     "text": [
      "bagging, val_score: 0.816460:  50%|#####     | 5/10 [00:01<00:01,  4.01it/s][I 2023-12-02 14:20:02,690] Trial 31 finished with value: 0.8162805595086968 and parameters: {'bagging_fraction': 0.9675003201959101, 'bagging_freq': 7}. Best is trial 29 with value: 0.8164565937099952.\n",
      "bagging, val_score: 0.816460:  50%|#####     | 5/10 [00:01<00:01,  4.01it/s]"
     ]
    },
    {
     "name": "stdout",
     "output_type": "stream",
     "text": [
      "Early stopping, best iteration is:\n",
      "[135]\tcv_agg's valid auc: 0.816281 + 0.0118126\n",
      "Training until validation scores don't improve for 10 rounds\n",
      "[100]\tcv_agg's valid auc: 0.816324 + 0.0117697\n"
     ]
    },
    {
     "name": "stderr",
     "output_type": "stream",
     "text": [
      "bagging, val_score: 0.816460:  60%|######    | 6/10 [00:01<00:00,  4.22it/s][I 2023-12-02 14:20:02,902] Trial 32 finished with value: 0.8164071074755903 and parameters: {'bagging_fraction': 0.998391092042479, 'bagging_freq': 7}. Best is trial 29 with value: 0.8164565937099952.\n",
      "bagging, val_score: 0.816460:  60%|######    | 6/10 [00:01<00:00,  4.22it/s]"
     ]
    },
    {
     "name": "stdout",
     "output_type": "stream",
     "text": [
      "Early stopping, best iteration is:\n",
      "[107]\tcv_agg's valid auc: 0.816407 + 0.0117549\n",
      "Training until validation scores don't improve for 10 rounds\n",
      "[100]\tcv_agg's valid auc: 0.81601 + 0.0117685\n"
     ]
    },
    {
     "name": "stderr",
     "output_type": "stream",
     "text": [
      "bagging, val_score: 0.816460:  70%|#######   | 7/10 [00:01<00:00,  4.00it/s][I 2023-12-02 14:20:03,179] Trial 33 finished with value: 0.8162296733975138 and parameters: {'bagging_fraction': 0.9849729771292778, 'bagging_freq': 5}. Best is trial 29 with value: 0.8164565937099952.\n",
      "bagging, val_score: 0.816460:  70%|#######   | 7/10 [00:01<00:00,  4.00it/s]"
     ]
    },
    {
     "name": "stdout",
     "output_type": "stream",
     "text": [
      "Early stopping, best iteration is:\n",
      "[138]\tcv_agg's valid auc: 0.81623 + 0.0117727\n",
      "Training until validation scores don't improve for 10 rounds\n",
      "[100]\tcv_agg's valid auc: 0.815985 + 0.0122398\n",
      "Early stopping, best iteration is:\n",
      "[97]\tcv_agg's valid auc: 0.816054 + 0.0121404\n"
     ]
    },
    {
     "name": "stderr",
     "output_type": "stream",
     "text": [
      "bagging, val_score: 0.816460:  80%|########  | 8/10 [00:01<00:00,  4.32it/s][I 2023-12-02 14:20:03,372] Trial 34 finished with value: 0.8160537053123132 and parameters: {'bagging_fraction': 0.8372908882949636, 'bagging_freq': 7}. Best is trial 29 with value: 0.8164565937099952.\n",
      "bagging, val_score: 0.816460:  80%|########  | 8/10 [00:02<00:00,  4.32it/s]"
     ]
    },
    {
     "name": "stdout",
     "output_type": "stream",
     "text": [
      "Training until validation scores don't improve for 10 rounds\n",
      "[100]\tcv_agg's valid auc: 0.815522 + 0.012141\n",
      "Early stopping, best iteration is:\n",
      "[132]\tcv_agg's valid auc: 0.816039 + 0.0123133\n"
     ]
    },
    {
     "name": "stderr",
     "output_type": "stream",
     "text": [
      "bagging, val_score: 0.816460:  90%|######### | 9/10 [00:02<00:00,  4.25it/s][I 2023-12-02 14:20:03,615] Trial 35 finished with value: 0.8160388037463455 and parameters: {'bagging_fraction': 0.8446211476378838, 'bagging_freq': 5}. Best is trial 29 with value: 0.8164565937099952.\n",
      "bagging, val_score: 0.816460: 100%|##########| 10/10 [00:02<00:00,  4.49it/s][I 2023-12-02 14:20:03,810] Trial 36 finished with value: 0.8160381674575433 and parameters: {'bagging_fraction': 0.6610692380681304, 'bagging_freq': 3}. Best is trial 29 with value: 0.8164565937099952.\n",
      "bagging, val_score: 0.816460: 100%|##########| 10/10 [00:02<00:00,  4.30it/s]\n"
     ]
    },
    {
     "name": "stdout",
     "output_type": "stream",
     "text": [
      "Training until validation scores don't improve for 10 rounds\n",
      "[100]\tcv_agg's valid auc: 0.815902 + 0.0118724\n",
      "Early stopping, best iteration is:\n",
      "[92]\tcv_agg's valid auc: 0.816038 + 0.0120862\n"
     ]
    },
    {
     "name": "stderr",
     "output_type": "stream",
     "text": [
      "feature_fraction_stage2, val_score: 0.816460:   0%|          | 0/3 [00:00<?, ?it/s]"
     ]
    },
    {
     "name": "stdout",
     "output_type": "stream",
     "text": [
      "Training until validation scores don't improve for 10 rounds\n"
     ]
    },
    {
     "name": "stderr",
     "output_type": "stream",
     "text": [
      "feature_fraction_stage2, val_score: 0.816460:   0%|          | 0/3 [00:00<?, ?it/s]"
     ]
    },
    {
     "name": "stdout",
     "output_type": "stream",
     "text": [
      "[100]\tcv_agg's valid auc: 0.81615 + 0.0118416\n",
      "Early stopping, best iteration is:\n",
      "[131]\tcv_agg's valid auc: 0.81646 + 0.0118616\n"
     ]
    },
    {
     "name": "stderr",
     "output_type": "stream",
     "text": [
      "feature_fraction_stage2, val_score: 0.816460:  33%|###3      | 1/3 [00:00<00:00,  4.76it/s][I 2023-12-02 14:20:04,025] Trial 37 finished with value: 0.8164596917556428 and parameters: {'feature_fraction': 0.9840000000000001}. Best is trial 37 with value: 0.8164596917556428.\n",
      "feature_fraction_stage2, val_score: 0.816460:  33%|###3      | 1/3 [00:00<00:00,  4.76it/s]"
     ]
    },
    {
     "name": "stdout",
     "output_type": "stream",
     "text": [
      "Training until validation scores don't improve for 10 rounds\n",
      "[100]\tcv_agg's valid auc: 0.81615 + 0.0118416\n",
      "Early stopping, best iteration is:\n",
      "[131]\tcv_agg's valid auc: 0.81646 + 0.0118616\n"
     ]
    },
    {
     "name": "stderr",
     "output_type": "stream",
     "text": [
      "feature_fraction_stage2, val_score: 0.816460:  67%|######6   | 2/3 [00:00<00:00,  4.43it/s][I 2023-12-02 14:20:04,263] Trial 38 finished with value: 0.8164596917556428 and parameters: {'feature_fraction': 0.92}. Best is trial 37 with value: 0.8164596917556428.\n",
      "feature_fraction_stage2, val_score: 0.816460:  67%|######6   | 2/3 [00:00<00:00,  4.43it/s]"
     ]
    },
    {
     "name": "stdout",
     "output_type": "stream",
     "text": [
      "Training until validation scores don't improve for 10 rounds\n"
     ]
    },
    {
     "name": "stderr",
     "output_type": "stream",
     "text": [
      "feature_fraction_stage2, val_score: 0.816460:  67%|######6   | 2/3 [00:00<00:00,  4.43it/s]"
     ]
    },
    {
     "name": "stdout",
     "output_type": "stream",
     "text": [
      "[100]\tcv_agg's valid auc: 0.81615 + 0.0118416\n",
      "Early stopping, best iteration is:\n",
      "[131]\tcv_agg's valid auc: 0.81646 + 0.0118616\n"
     ]
    },
    {
     "name": "stderr",
     "output_type": "stream",
     "text": [
      "feature_fraction_stage2, val_score: 0.816460: 100%|##########| 3/3 [00:00<00:00,  4.37it/s][I 2023-12-02 14:20:04,494] Trial 39 finished with value: 0.8164596917556428 and parameters: {'feature_fraction': 0.9520000000000001}. Best is trial 37 with value: 0.8164596917556428.\n",
      "feature_fraction_stage2, val_score: 0.816460: 100%|##########| 3/3 [00:00<00:00,  4.40it/s]\n",
      "regularization_factors, val_score: 0.816460:   0%|          | 0/20 [00:00<?, ?it/s]"
     ]
    },
    {
     "name": "stdout",
     "output_type": "stream",
     "text": [
      "Training until validation scores don't improve for 10 rounds\n",
      "[100]\tcv_agg's valid auc: 0.81615 + 0.0118416\n"
     ]
    },
    {
     "name": "stderr",
     "output_type": "stream",
     "text": [
      "regularization_factors, val_score: 0.816460:   0%|          | 0/20 [00:00<?, ?it/s]"
     ]
    },
    {
     "name": "stdout",
     "output_type": "stream",
     "text": [
      "Early stopping, best iteration is:\n",
      "[131]\tcv_agg's valid auc: 0.81646 + 0.0118616\n"
     ]
    },
    {
     "name": "stderr",
     "output_type": "stream",
     "text": [
      "regularization_factors, val_score: 0.816460:   5%|5         | 1/20 [00:00<00:04,  4.37it/s][I 2023-12-02 14:20:04,728] Trial 40 finished with value: 0.8164596917556428 and parameters: {'lambda_l1': 4.280811824990435e-08, 'lambda_l2': 0.000115547547230329}. Best is trial 40 with value: 0.8164596917556428.\n",
      "regularization_factors, val_score: 0.816460:   5%|5         | 1/20 [00:00<00:04,  4.37it/s]"
     ]
    },
    {
     "name": "stdout",
     "output_type": "stream",
     "text": [
      "Training until validation scores don't improve for 10 rounds\n",
      "[100]\tcv_agg's valid auc: 0.816048 + 0.0118562\n"
     ]
    },
    {
     "name": "stderr",
     "output_type": "stream",
     "text": [
      "regularization_factors, val_score: 0.816469:  10%|#         | 2/20 [00:00<00:04,  4.05it/s][I 2023-12-02 14:20:04,986] Trial 41 finished with value: 0.8164685866061872 and parameters: {'lambda_l1': 6.296081730960976, 'lambda_l2': 7.912950131239758}. Best is trial 41 with value: 0.8164685866061872.\n",
      "regularization_factors, val_score: 0.816469:  10%|#         | 2/20 [00:00<00:04,  4.05it/s]"
     ]
    },
    {
     "name": "stdout",
     "output_type": "stream",
     "text": [
      "Early stopping, best iteration is:\n",
      "[159]\tcv_agg's valid auc: 0.816469 + 0.0118038\n",
      "Training until validation scores don't improve for 10 rounds\n",
      "[100]\tcv_agg's valid auc: 0.816108 + 0.0118965\n",
      "Early stopping, best iteration is:\n",
      "[119]\tcv_agg's valid auc: 0.816308 + 0.0118431\n"
     ]
    },
    {
     "name": "stderr",
     "output_type": "stream",
     "text": [
      "regularization_factors, val_score: 0.816469:  15%|#5        | 3/20 [00:00<00:03,  4.38it/s][I 2023-12-02 14:20:05,194] Trial 42 finished with value: 0.8163084589373651 and parameters: {'lambda_l1': 5.58268869169478, 'lambda_l2': 7.765051934866736}. Best is trial 41 with value: 0.8164685866061872.\n",
      "regularization_factors, val_score: 0.816469:  15%|#5        | 3/20 [00:00<00:03,  4.38it/s]"
     ]
    },
    {
     "name": "stdout",
     "output_type": "stream",
     "text": [
      "Training until validation scores don't improve for 10 rounds\n",
      "[100]\tcv_agg's valid auc: 0.816147 + 0.0119053\n"
     ]
    },
    {
     "name": "stderr",
     "output_type": "stream",
     "text": [
      "regularization_factors, val_score: 0.816474:  20%|##        | 4/20 [00:00<00:03,  4.23it/s][I 2023-12-02 14:20:05,441] Trial 43 finished with value: 0.816474467903052 and parameters: {'lambda_l1': 4.971413050686477, 'lambda_l2': 4.315325829401123}. Best is trial 43 with value: 0.816474467903052.\n",
      "regularization_factors, val_score: 0.816474:  20%|##        | 4/20 [00:00<00:03,  4.23it/s]"
     ]
    },
    {
     "name": "stdout",
     "output_type": "stream",
     "text": [
      "Early stopping, best iteration is:\n",
      "[135]\tcv_agg's valid auc: 0.816474 + 0.0117442\n",
      "Training until validation scores don't improve for 10 rounds\n",
      "[100]\tcv_agg's valid auc: 0.816136 + 0.0119052\n"
     ]
    },
    {
     "name": "stderr",
     "output_type": "stream",
     "text": [
      "regularization_factors, val_score: 0.816479:  25%|##5       | 5/20 [00:01<00:03,  4.14it/s][I 2023-12-02 14:20:05,691] Trial 44 finished with value: 0.8164788319065831 and parameters: {'lambda_l1': 3.1972769649659645, 'lambda_l2': 8.91373902004538}. Best is trial 44 with value: 0.8164788319065831.\n",
      "regularization_factors, val_score: 0.816479:  25%|##5       | 5/20 [00:01<00:03,  4.14it/s]"
     ]
    },
    {
     "name": "stdout",
     "output_type": "stream",
     "text": [
      "Early stopping, best iteration is:\n",
      "[156]\tcv_agg's valid auc: 0.816479 + 0.0117505\n",
      "Training until validation scores don't improve for 10 rounds\n",
      "[100]\tcv_agg's valid auc: 0.816033 + 0.0118233\n"
     ]
    },
    {
     "name": "stderr",
     "output_type": "stream",
     "text": [
      "regularization_factors, val_score: 0.816479:  30%|###       | 6/20 [00:01<00:03,  3.91it/s][I 2023-12-02 14:20:05,978] Trial 45 finished with value: 0.8163877894016689 and parameters: {'lambda_l1': 8.987660581665905, 'lambda_l2': 9.291399251757792}. Best is trial 44 with value: 0.8164788319065831.\n",
      "regularization_factors, val_score: 0.816479:  30%|###       | 6/20 [00:01<00:03,  3.91it/s]"
     ]
    },
    {
     "name": "stdout",
     "output_type": "stream",
     "text": [
      "Early stopping, best iteration is:\n",
      "[174]\tcv_agg's valid auc: 0.816388 + 0.0117097\n",
      "Training until validation scores don't improve for 10 rounds\n",
      "[100]\tcv_agg's valid auc: 0.816106 + 0.0118498\n"
     ]
    },
    {
     "name": "stderr",
     "output_type": "stream",
     "text": [
      "regularization_factors, val_score: 0.816485:  35%|###5      | 7/20 [00:01<00:03,  3.81it/s][I 2023-12-02 14:20:06,251] Trial 46 finished with value: 0.81648502463698 and parameters: {'lambda_l1': 5.55905183715814, 'lambda_l2': 6.597850192968186}. Best is trial 46 with value: 0.81648502463698.\n",
      "regularization_factors, val_score: 0.816485:  35%|###5      | 7/20 [00:01<00:03,  3.81it/s]"
     ]
    },
    {
     "name": "stdout",
     "output_type": "stream",
     "text": [
      "Early stopping, best iteration is:\n",
      "[162]\tcv_agg's valid auc: 0.816485 + 0.0117886\n",
      "Training until validation scores don't improve for 10 rounds\n",
      "[100]\tcv_agg's valid auc: 0.816091 + 0.0118226\n"
     ]
    },
    {
     "name": "stderr",
     "output_type": "stream",
     "text": [
      "regularization_factors, val_score: 0.816485:  40%|####      | 8/20 [00:01<00:03,  3.97it/s][I 2023-12-02 14:20:06,482] Trial 47 finished with value: 0.8164235295166844 and parameters: {'lambda_l1': 7.265999504157439, 'lambda_l2': 8.211583427603388}. Best is trial 46 with value: 0.81648502463698.\n",
      "regularization_factors, val_score: 0.816492:  40%|####      | 8/20 [00:02<00:03,  3.97it/s]"
     ]
    },
    {
     "name": "stdout",
     "output_type": "stream",
     "text": [
      "Early stopping, best iteration is:\n",
      "[138]\tcv_agg's valid auc: 0.816424 + 0.0117881\n",
      "Training until validation scores don't improve for 10 rounds\n",
      "[100]\tcv_agg's valid auc: 0.816298 + 0.0118403\n",
      "Early stopping, best iteration is:\n",
      "[120]\tcv_agg's valid auc: 0.816492 + 0.0118424\n"
     ]
    },
    {
     "name": "stderr",
     "output_type": "stream",
     "text": [
      "regularization_factors, val_score: 0.816492:  45%|####5     | 9/20 [00:02<00:02,  4.20it/s][I 2023-12-02 14:20:06,689] Trial 48 finished with value: 0.8164918277546528 and parameters: {'lambda_l1': 2.9589380882420255, 'lambda_l2': 5.258147892738278}. Best is trial 48 with value: 0.8164918277546528.\n",
      "regularization_factors, val_score: 0.816492:  50%|#####     | 10/20 [00:02<00:02,  4.36it/s][I 2023-12-02 14:20:06,900] Trial 49 finished with value: 0.8163544668075803 and parameters: {'lambda_l1': 4.127507045581567, 'lambda_l2': 6.23596095363659}. Best is trial 48 with value: 0.8164918277546528.\n",
      "regularization_factors, val_score: 0.816492:  50%|#####     | 10/20 [00:02<00:02,  4.36it/s]"
     ]
    },
    {
     "name": "stdout",
     "output_type": "stream",
     "text": [
      "Training until validation scores don't improve for 10 rounds\n",
      "[100]\tcv_agg's valid auc: 0.816147 + 0.0118811\n",
      "Early stopping, best iteration is:\n",
      "[121]\tcv_agg's valid auc: 0.816354 + 0.0118242\n"
     ]
    },
    {
     "name": "stderr",
     "output_type": "stream",
     "text": [
      "regularization_factors, val_score: 0.816524:  50%|#####     | 10/20 [00:02<00:02,  4.36it/s]"
     ]
    },
    {
     "name": "stdout",
     "output_type": "stream",
     "text": [
      "Training until validation scores don't improve for 10 rounds\n",
      "[100]\tcv_agg's valid auc: 0.816369 + 0.011811\n",
      "Early stopping, best iteration is:\n",
      "[126]\tcv_agg's valid auc: 0.816524 + 0.0117799\n"
     ]
    },
    {
     "name": "stderr",
     "output_type": "stream",
     "text": [
      "regularization_factors, val_score: 0.816524:  55%|#####5    | 11/20 [00:02<00:02,  4.43it/s][I 2023-12-02 14:20:07,115] Trial 50 finished with value: 0.8165239042156232 and parameters: {'lambda_l1': 1.1654373000816913, 'lambda_l2': 2.062585894160504}. Best is trial 50 with value: 0.8165239042156232.\n",
      "regularization_factors, val_score: 0.816533:  55%|#####5    | 11/20 [00:02<00:02,  4.43it/s]"
     ]
    },
    {
     "name": "stdout",
     "output_type": "stream",
     "text": [
      "Training until validation scores don't improve for 10 rounds\n",
      "[100]\tcv_agg's valid auc: 0.816323 + 0.0118269\n",
      "Early stopping, best iteration is:\n",
      "[129]\tcv_agg's valid auc: 0.816533 + 0.0118295\n"
     ]
    },
    {
     "name": "stderr",
     "output_type": "stream",
     "text": [
      "regularization_factors, val_score: 0.816533:  60%|######    | 12/20 [00:02<00:01,  4.46it/s][I 2023-12-02 14:20:07,336] Trial 51 finished with value: 0.8165328036699602 and parameters: {'lambda_l1': 1.9317001406011016, 'lambda_l2': 3.094407820496894}. Best is trial 51 with value: 0.8165328036699602.\n",
      "regularization_factors, val_score: 0.816533:  60%|######    | 12/20 [00:02<00:01,  4.46it/s]"
     ]
    },
    {
     "name": "stdout",
     "output_type": "stream",
     "text": [
      "Training until validation scores don't improve for 10 rounds\n",
      "[100]\tcv_agg's valid auc: 0.81616 + 0.0118792\n"
     ]
    },
    {
     "name": "stderr",
     "output_type": "stream",
     "text": [
      "regularization_factors, val_score: 0.816533:  65%|######5   | 13/20 [00:03<00:01,  4.28it/s][I 2023-12-02 14:20:07,595] Trial 52 finished with value: 0.8164880253414148 and parameters: {'lambda_l1': 0.44944356864901885, 'lambda_l2': 0.31461965145079995}. Best is trial 51 with value: 0.8165328036699602.\n",
      "regularization_factors, val_score: 0.816533:  65%|######5   | 13/20 [00:03<00:01,  4.28it/s]"
     ]
    },
    {
     "name": "stdout",
     "output_type": "stream",
     "text": [
      "Early stopping, best iteration is:\n",
      "[148]\tcv_agg's valid auc: 0.816488 + 0.0118232\n",
      "Training until validation scores don't improve for 10 rounds\n",
      "[100]\tcv_agg's valid auc: 0.816142 + 0.0118416\n",
      "Early stopping, best iteration is:\n",
      "[131]\tcv_agg's valid auc: 0.816444 + 0.0118876\n"
     ]
    },
    {
     "name": "stderr",
     "output_type": "stream",
     "text": [
      "regularization_factors, val_score: 0.816533:  70%|#######   | 14/20 [00:03<00:01,  4.38it/s][I 2023-12-02 14:20:07,809] Trial 53 finished with value: 0.8164435897914121 and parameters: {'lambda_l1': 0.07480046982662339, 'lambda_l2': 0.11210009004175256}. Best is trial 51 with value: 0.8165328036699602.\n",
      "regularization_factors, val_score: 0.816533:  70%|#######   | 14/20 [00:03<00:01,  4.38it/s]"
     ]
    },
    {
     "name": "stdout",
     "output_type": "stream",
     "text": [
      "Training until validation scores don't improve for 10 rounds\n",
      "[100]\tcv_agg's valid auc: 0.816156 + 0.0118559\n",
      "Early stopping, best iteration is:\n",
      "[129]\tcv_agg's valid auc: 0.816442 + 0.0118834\n"
     ]
    },
    {
     "name": "stderr",
     "output_type": "stream",
     "text": [
      "regularization_factors, val_score: 0.816533:  75%|#######5  | 15/20 [00:03<00:01,  4.35it/s][I 2023-12-02 14:20:08,043] Trial 54 finished with value: 0.816441699990396 and parameters: {'lambda_l1': 0.18377062132444583, 'lambda_l2': 0.13906533825347042}. Best is trial 51 with value: 0.8165328036699602.\n",
      "regularization_factors, val_score: 0.816533:  75%|#######5  | 15/20 [00:03<00:01,  4.35it/s]"
     ]
    },
    {
     "name": "stdout",
     "output_type": "stream",
     "text": [
      "Training until validation scores don't improve for 10 rounds\n",
      "[100]\tcv_agg's valid auc: 0.816144 + 0.0118569\n"
     ]
    },
    {
     "name": "stderr",
     "output_type": "stream",
     "text": [
      "regularization_factors, val_score: 0.816533:  80%|########  | 16/20 [00:03<00:00,  4.34it/s][I 2023-12-02 14:20:08,275] Trial 55 finished with value: 0.8164637676486068 and parameters: {'lambda_l1': 0.18006452477325394, 'lambda_l2': 0.10643026267873683}. Best is trial 51 with value: 0.8165328036699602.\n",
      "regularization_factors, val_score: 0.816533:  80%|########  | 16/20 [00:03<00:00,  4.34it/s]"
     ]
    },
    {
     "name": "stdout",
     "output_type": "stream",
     "text": [
      "Early stopping, best iteration is:\n",
      "[132]\tcv_agg's valid auc: 0.816464 + 0.011868\n",
      "Training until validation scores don't improve for 10 rounds\n",
      "[100]\tcv_agg's valid auc: 0.816164 + 0.0118757\n"
     ]
    },
    {
     "name": "stderr",
     "output_type": "stream",
     "text": [
      "regularization_factors, val_score: 0.816533:  85%|########5 | 17/20 [00:04<00:00,  4.16it/s][I 2023-12-02 14:20:08,539] Trial 56 finished with value: 0.816461708959341 and parameters: {'lambda_l1': 0.3538487175870835, 'lambda_l2': 2.2592981878149705e-08}. Best is trial 51 with value: 0.8165328036699602.\n",
      "regularization_factors, val_score: 0.816533:  85%|########5 | 17/20 [00:04<00:00,  4.16it/s]"
     ]
    },
    {
     "name": "stdout",
     "output_type": "stream",
     "text": [
      "Early stopping, best iteration is:\n",
      "[153]\tcv_agg's valid auc: 0.816462 + 0.0118053\n",
      "Training until validation scores don't improve for 10 rounds\n",
      "[100]\tcv_agg's valid auc: 0.816166 + 0.0118751\n"
     ]
    },
    {
     "name": "stderr",
     "output_type": "stream",
     "text": [
      "regularization_factors, val_score: 0.816533:  90%|######### | 18/20 [00:04<00:00,  4.09it/s][I 2023-12-02 14:20:08,792] Trial 57 finished with value: 0.8164802480753 and parameters: {'lambda_l1': 0.2478256714265829, 'lambda_l2': 0.5416299460294494}. Best is trial 51 with value: 0.8165328036699602.\n",
      "regularization_factors, val_score: 0.816533:  90%|######### | 18/20 [00:04<00:00,  4.09it/s]"
     ]
    },
    {
     "name": "stdout",
     "output_type": "stream",
     "text": [
      "Early stopping, best iteration is:\n",
      "[149]\tcv_agg's valid auc: 0.81648 + 0.0118332\n",
      "Training until validation scores don't improve for 10 rounds\n",
      "[100]\tcv_agg's valid auc: 0.816184 + 0.0118677\n"
     ]
    },
    {
     "name": "stderr",
     "output_type": "stream",
     "text": [
      "regularization_factors, val_score: 0.816533:  95%|#########5| 19/20 [00:04<00:00,  4.07it/s][I 2023-12-02 14:20:09,042] Trial 58 finished with value: 0.8164872402051738 and parameters: {'lambda_l1': 0.2421074570676747, 'lambda_l2': 0.3914267306761446}. Best is trial 51 with value: 0.8165328036699602.\n",
      "regularization_factors, val_score: 0.816533:  95%|#########5| 19/20 [00:04<00:00,  4.07it/s]"
     ]
    },
    {
     "name": "stdout",
     "output_type": "stream",
     "text": [
      "Early stopping, best iteration is:\n",
      "[152]\tcv_agg's valid auc: 0.816487 + 0.0118136\n",
      "Training until validation scores don't improve for 10 rounds\n",
      "[100]\tcv_agg's valid auc: 0.816171 + 0.0118761\n"
     ]
    },
    {
     "name": "stderr",
     "output_type": "stream",
     "text": [
      "regularization_factors, val_score: 0.816533: 100%|##########| 20/20 [00:04<00:00,  4.16it/s][I 2023-12-02 14:20:09,269] Trial 59 finished with value: 0.8164452692822172 and parameters: {'lambda_l1': 0.006805220499460626, 'lambda_l2': 0.4707565355953241}. Best is trial 51 with value: 0.8165328036699602.\n",
      "regularization_factors, val_score: 0.816533: 100%|##########| 20/20 [00:04<00:00,  4.19it/s]\n"
     ]
    },
    {
     "name": "stdout",
     "output_type": "stream",
     "text": [
      "Early stopping, best iteration is:\n",
      "[132]\tcv_agg's valid auc: 0.816445 + 0.011899\n"
     ]
    },
    {
     "name": "stderr",
     "output_type": "stream",
     "text": [
      "min_child_samples, val_score: 0.816533:   0%|          | 0/5 [00:00<?, ?it/s]"
     ]
    },
    {
     "name": "stdout",
     "output_type": "stream",
     "text": [
      "Training until validation scores don't improve for 10 rounds\n",
      "[100]\tcv_agg's valid auc: 0.816323 + 0.0118269\n"
     ]
    },
    {
     "name": "stderr",
     "output_type": "stream",
     "text": [
      "min_child_samples, val_score: 0.816533:  20%|##        | 1/5 [00:00<00:00,  4.52it/s]"
     ]
    },
    {
     "name": "stdout",
     "output_type": "stream",
     "text": [
      "Early stopping, best iteration is:\n",
      "[129]\tcv_agg's valid auc: 0.816533 + 0.0118295\n"
     ]
    },
    {
     "name": "stderr",
     "output_type": "stream",
     "text": [
      "[I 2023-12-02 14:20:09,498] Trial 60 finished with value: 0.8165328036699602 and parameters: {'min_child_samples': 10}. Best is trial 60 with value: 0.8165328036699602.\n",
      "min_child_samples, val_score: 0.816533:  20%|##        | 1/5 [00:00<00:00,  4.52it/s]"
     ]
    },
    {
     "name": "stdout",
     "output_type": "stream",
     "text": [
      "Training until validation scores don't improve for 10 rounds\n",
      "[100]\tcv_agg's valid auc: 0.816323 + 0.0118269\n"
     ]
    },
    {
     "name": "stderr",
     "output_type": "stream",
     "text": [
      "min_child_samples, val_score: 0.816533:  20%|##        | 1/5 [00:00<00:00,  4.52it/s]"
     ]
    },
    {
     "name": "stdout",
     "output_type": "stream",
     "text": [
      "Early stopping, best iteration is:\n",
      "[129]\tcv_agg's valid auc: 0.816533 + 0.0118295\n"
     ]
    },
    {
     "name": "stderr",
     "output_type": "stream",
     "text": [
      "min_child_samples, val_score: 0.816533:  40%|####      | 2/5 [00:00<00:00,  4.60it/s][I 2023-12-02 14:20:09,713] Trial 61 finished with value: 0.8165328036699602 and parameters: {'min_child_samples': 5}. Best is trial 60 with value: 0.8165328036699602.\n",
      "min_child_samples, val_score: 0.816533:  40%|####      | 2/5 [00:00<00:00,  4.60it/s]"
     ]
    },
    {
     "name": "stdout",
     "output_type": "stream",
     "text": [
      "Training until validation scores don't improve for 10 rounds\n",
      "[100]\tcv_agg's valid auc: 0.81632 + 0.0118292\n",
      "Early stopping, best iteration is:\n",
      "[129]\tcv_agg's valid auc: 0.816518 + 0.0117893\n"
     ]
    },
    {
     "name": "stderr",
     "output_type": "stream",
     "text": [
      "min_child_samples, val_score: 0.816533:  60%|######    | 3/5 [00:00<00:00,  4.72it/s][I 2023-12-02 14:20:09,919] Trial 62 finished with value: 0.8165180555032852 and parameters: {'min_child_samples': 100}. Best is trial 60 with value: 0.8165328036699602.\n",
      "min_child_samples, val_score: 0.816533:  60%|######    | 3/5 [00:00<00:00,  4.72it/s]"
     ]
    },
    {
     "name": "stdout",
     "output_type": "stream",
     "text": [
      "Training until validation scores don't improve for 10 rounds\n",
      "[100]\tcv_agg's valid auc: 0.816323 + 0.0118269\n"
     ]
    },
    {
     "name": "stderr",
     "output_type": "stream",
     "text": [
      "min_child_samples, val_score: 0.816533:  80%|########  | 4/5 [00:00<00:00,  4.31it/s][I 2023-12-02 14:20:10,181] Trial 63 finished with value: 0.8165328036699602 and parameters: {'min_child_samples': 25}. Best is trial 60 with value: 0.8165328036699602.\n",
      "min_child_samples, val_score: 0.816533:  80%|########  | 4/5 [00:00<00:00,  4.31it/s]"
     ]
    },
    {
     "name": "stdout",
     "output_type": "stream",
     "text": [
      "Early stopping, best iteration is:\n",
      "[129]\tcv_agg's valid auc: 0.816533 + 0.0118295\n",
      "Training until validation scores don't improve for 10 rounds\n",
      "[100]\tcv_agg's valid auc: 0.816323 + 0.0118269\n"
     ]
    },
    {
     "name": "stderr",
     "output_type": "stream",
     "text": [
      "min_child_samples, val_score: 0.816533: 100%|##########| 5/5 [00:01<00:00,  4.28it/s][I 2023-12-02 14:20:10,417] Trial 64 finished with value: 0.8165328036699602 and parameters: {'min_child_samples': 50}. Best is trial 60 with value: 0.8165328036699602.\n",
      "min_child_samples, val_score: 0.816533: 100%|##########| 5/5 [00:01<00:00,  4.37it/s]"
     ]
    },
    {
     "name": "stdout",
     "output_type": "stream",
     "text": [
      "Early stopping, best iteration is:\n",
      "[129]\tcv_agg's valid auc: 0.816533 + 0.0118295\n"
     ]
    },
    {
     "name": "stderr",
     "output_type": "stream",
     "text": [
      "\n"
     ]
    }
   ],
   "source": [
    "folds = StratifiedKFold(n_splits=5, shuffle=True, random_state=100)\n",
    "lgb_params = {\n",
    "    'objective':'binary',\n",
    "    'metric': 'binary_logloss',\n",
    "    'learning_rate':0.001,\n",
    "    'verbosity':-1,\n",
    "}\n",
    "tuner_cv = lgb.LightGBMTunerCV(\n",
    "    lgb_params, lgb_train,\n",
    "    num_boost_round=10000,\n",
    "    callbacks=[lgb.early_stopping(stopping_rounds=10, verbose=True),\n",
    "                lgb.log_evaluation(100)],\n",
    "    return_cvbooster=True,\n",
    "    folds=folds\n",
    ")\n",
    "\n",
    "tuner_cv.run()"
   ]
  },
  {
   "cell_type": "code",
   "execution_count": 31,
   "metadata": {},
   "outputs": [
    {
     "ename": "TypeError",
     "evalue": "booster must be Booster or LGBMModel.",
     "output_type": "error",
     "traceback": [
      "\u001b[1;31m---------------------------------------------------------------------------\u001b[0m",
      "\u001b[1;31mTypeError\u001b[0m                                 Traceback (most recent call last)",
      "\u001b[1;32mc:\\Users\\masak\\workspace\\lab\\thesis_data2\\learning_process\\notebook\\lgb_tune2.ipynb Cell 7\u001b[0m line \u001b[0;36m3\n\u001b[0;32m      <a href='vscode-notebook-cell:/c%3A/Users/masak/workspace/lab/thesis_data2/learning_process/notebook/lgb_tune2.ipynb#W6sZmlsZQ%3D%3D?line=0'>1</a>\u001b[0m \u001b[39mimport\u001b[39;00m \u001b[39mlightgbm\u001b[39;00m \u001b[39mas\u001b[39;00m \u001b[39mlgb\u001b[39;00m\n\u001b[0;32m      <a href='vscode-notebook-cell:/c%3A/Users/masak/workspace/lab/thesis_data2/learning_process/notebook/lgb_tune2.ipynb#W6sZmlsZQ%3D%3D?line=1'>2</a>\u001b[0m model \u001b[39m=\u001b[39m tuner_cv\u001b[39m.\u001b[39mget_best_booster()\n\u001b[1;32m----> <a href='vscode-notebook-cell:/c%3A/Users/masak/workspace/lab/thesis_data2/learning_process/notebook/lgb_tune2.ipynb#W6sZmlsZQ%3D%3D?line=2'>3</a>\u001b[0m lgb\u001b[39m.\u001b[39;49mplot_importance(model, figsize\u001b[39m=\u001b[39;49m(\u001b[39m8\u001b[39;49m,\u001b[39m4\u001b[39;49m), max_num_features\u001b[39m=\u001b[39;49m\u001b[39m5\u001b[39;49m, importance_type\u001b[39m=\u001b[39;49m\u001b[39m'\u001b[39;49m\u001b[39mgain\u001b[39;49m\u001b[39m'\u001b[39;49m)\n",
      "File \u001b[1;32mc:\\Users\\masak\\anaconda3\\envs\\test\\lib\\site-packages\\lightgbm\\plotting.py:117\u001b[0m, in \u001b[0;36mplot_importance\u001b[1;34m(booster, ax, height, xlim, ylim, title, xlabel, ylabel, importance_type, max_num_features, ignore_zero, figsize, dpi, grid, precision, **kwargs)\u001b[0m\n\u001b[0;32m    115\u001b[0m         importance_type \u001b[39m=\u001b[39m \u001b[39m\"\u001b[39m\u001b[39msplit\u001b[39m\u001b[39m\"\u001b[39m\n\u001b[0;32m    116\u001b[0m \u001b[39melse\u001b[39;00m:\n\u001b[1;32m--> 117\u001b[0m     \u001b[39mraise\u001b[39;00m \u001b[39mTypeError\u001b[39;00m(\u001b[39m'\u001b[39m\u001b[39mbooster must be Booster or LGBMModel.\u001b[39m\u001b[39m'\u001b[39m)\n\u001b[0;32m    119\u001b[0m importance \u001b[39m=\u001b[39m booster\u001b[39m.\u001b[39mfeature_importance(importance_type\u001b[39m=\u001b[39mimportance_type)\n\u001b[0;32m    120\u001b[0m feature_name \u001b[39m=\u001b[39m booster\u001b[39m.\u001b[39mfeature_name()\n",
      "\u001b[1;31mTypeError\u001b[0m: booster must be Booster or LGBMModel."
     ]
    }
   ],
   "source": [
    "import lightgbm as lgb\n",
    "model = tuner_cv.get_best_booster()\n",
    "lgb.plot_importance(model, figsize=(8,4), max_num_features=5, importance_type='gain')"
   ]
  },
  {
   "cell_type": "code",
   "execution_count": 30,
   "metadata": {},
   "outputs": [
    {
     "name": "stdout",
     "output_type": "stream",
     "text": [
      "Best score: 0.5246511531353015\n",
      "Best params:\n",
      "{'objective': 'binary', 'metric': 'binary_logloss', 'verbosity': -1, 'feature_pre_filter': False, 'lambda_l1': 3.5658465377646046e-07, 'lambda_l2': 0.017254549195087253, 'num_leaves': 4, 'feature_fraction': 1.0, 'bagging_fraction': 0.9668243143969556, 'bagging_freq': 1, 'min_child_samples': 25}\n",
      "[0.56519782 0.84614833 0.21456144 ... 0.4854053  0.11443475 0.20948806]\n",
      "0.8188157668992337\n",
      "0.6251302477746175\n"
     ]
    }
   ],
   "source": [
    "#openstack auc 不均衡対策\n",
    "print(f'Best score: {tuner_cv.best_score}')\n",
    "print('Best params:')\n",
    "print(tuner_cv.best_params)\n",
    "model = tuner_cv.get_best_booster()\n",
    "pred = model.predict(np.array(te_data[0]), num_iteration=model.best_iteration)\n",
    "mean_pred = np.mean(pred, axis=0)\n",
    "print(mean_pred)\n",
    "print(roc_auc_score(te_data[1], mean_pred))\n",
    "print(log_loss(te_data[1], mean_pred))"
   ]
  },
  {
   "cell_type": "code",
   "execution_count": 45,
   "metadata": {},
   "outputs": [
    {
     "name": "stdout",
     "output_type": "stream",
     "text": [
      "Best score: 0.8179830922461786\n",
      "Best params:\n",
      "{'objective': 'binary', 'metric': 'auc', 'verbosity': -1, 'feature_pre_filter': False, 'lambda_l1': 0.01754458037831149, 'lambda_l2': 3.297456196622105e-05, 'num_leaves': 2, 'feature_fraction': 1.0, 'bagging_fraction': 0.5258824582300985, 'bagging_freq': 1, 'min_child_samples': 20}\n",
      "[0.68179457 0.85721752 0.18221707 ... 0.50415918 0.1448258  0.17491612]\n",
      "0.817103682946357\n",
      "0.6809611902310441\n"
     ]
    }
   ],
   "source": [
    "#openstack auc 不均衡対策\n",
    "print(f'Best score: {tuner_cv.best_score}')\n",
    "print('Best params:')\n",
    "print(tuner_cv.best_params)\n",
    "model = tuner_cv.get_best_booster()\n",
    "pred = model.predict(np.array(te_data[0]), num_iteration=model.best_iteration)\n",
    "mean_pred = np.mean(pred, axis=0)\n",
    "print(mean_pred)\n",
    "print(roc_auc_score(te_data[1], mean_pred))\n",
    "print(log_loss(te_data[1], mean_pred))"
   ]
  },
  {
   "cell_type": "code",
   "execution_count": 69,
   "metadata": {},
   "outputs": [
    {
     "name": "stdout",
     "output_type": "stream",
     "text": [
      "Best score: 0.8165328036699602\n",
      "Best params:\n",
      "{'objective': 'binary', 'metric': 'auc', 'verbosity': -1, 'feature_pre_filter': False, 'lambda_l1': 1.9317001406011016, 'lambda_l2': 3.094407820496894, 'num_leaves': 2, 'feature_fraction': 1.0, 'bagging_fraction': 1.0, 'bagging_freq': 0, 'min_child_samples': 20}\n",
      "[0.36960416 0.50902352 0.14799592 ... 0.70303968 0.61321876 0.18555734]\n",
      "0.7655688245292944\n",
      "0.5847515942649286\n"
     ]
    }
   ],
   "source": [
    "#qt auc 不均衡対策\n",
    "print(f'Best score: {tuner_cv.best_score}')\n",
    "print('Best params:')\n",
    "print(tuner_cv.best_params)\n",
    "model = tuner_cv.get_best_booster()\n",
    "pred = model.predict(np.array(te_data[0]), num_iteration=model.best_iteration)\n",
    "mean_pred = np.mean(pred, axis=0)\n",
    "print(mean_pred)\n",
    "print(roc_auc_score(te_data[1], mean_pred))\n",
    "print(log_loss(te_data[1], mean_pred))"
   ]
  }
 ],
 "metadata": {
  "kernelspec": {
   "display_name": "test",
   "language": "python",
   "name": "python3"
  },
  "language_info": {
   "codemirror_mode": {
    "name": "ipython",
    "version": 3
   },
   "file_extension": ".py",
   "mimetype": "text/x-python",
   "name": "python",
   "nbconvert_exporter": "python",
   "pygments_lexer": "ipython3",
   "version": "3.9.16"
  }
 },
 "nbformat": 4,
 "nbformat_minor": 2
}
