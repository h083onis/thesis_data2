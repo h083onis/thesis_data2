{
 "cells": [
  {
   "cell_type": "code",
   "execution_count": 1,
   "metadata": {},
   "outputs": [],
   "source": [
    "import pandas as pd\n",
    "import numpy as np\n",
    "df = pd.read_csv('../resource/openstack.csv', header=0, index_col=0)\n",
    "# print(df)\n",
    "data = df.drop(['commit_id', 'author_date', 'bugcount', 'fixcount','buggy', 'bugdens'], axis=1)\n",
    "label = df['buggy'].astype(int)\n",
    "is_tr = data['strata'] < 4\n",
    "is_te = data['strata'] == 4\n",
    "train_x, test_x, train_y, test_y = np.array(data[is_tr]), np.array(data[is_te]), np.array(label[is_tr]), np.array(label[is_te])"
   ]
  },
  {
   "cell_type": "code",
   "execution_count": 21,
   "metadata": {},
   "outputs": [
    {
     "data": {
      "text/plain": [
       "array([0, 0, 0, ..., 0, 0, 0])"
      ]
     },
     "execution_count": 21,
     "metadata": {},
     "output_type": "execute_result"
    }
   ],
   "source": [
    "test_y"
   ]
  },
  {
   "cell_type": "code",
   "execution_count": 18,
   "metadata": {},
   "outputs": [],
   "source": [
    "import xgboost as xgb\n",
    "from sklearn.metrics import log_loss"
   ]
  },
  {
   "cell_type": "code",
   "execution_count": 3,
   "metadata": {},
   "outputs": [
    {
     "name": "stdout",
     "output_type": "stream",
     "text": [
      "(10874, 30) (10874,)\n"
     ]
    },
    {
     "data": {
      "text/plain": [
       "<xgboost.core.DMatrix at 0x19b5bf51af0>"
      ]
     },
     "execution_count": 3,
     "metadata": {},
     "output_type": "execute_result"
    }
   ],
   "source": [
    "# print(train_x.shape, train_y.shape)\n",
    "# dtrain = xgb.DMatrix(train_x, label=train_y)\n",
    "# dtest = xgb.DMatrix(test_x, label=test_y)\n",
    "\n",
    "# dtrain"
   ]
  },
  {
   "cell_type": "code",
   "execution_count": 19,
   "metadata": {},
   "outputs": [],
   "source": [
    "import pickle\n",
    "with open('../resource/openstack_train.pkl', 'rb') as f_train:\n",
    "    tr_data = pickle.load(f_train)"
   ]
  },
  {
   "cell_type": "code",
   "execution_count": 20,
   "metadata": {},
   "outputs": [],
   "source": [
    "from dataset import XGBDataset\n",
    "tr_dataset = XGBDataset(tr_data[4], tr_data[5])"
   ]
  },
  {
   "cell_type": "code",
   "execution_count": 21,
   "metadata": {},
   "outputs": [
    {
     "name": "stdout",
     "output_type": "stream",
     "text": [
      "10741\n",
      "10741\n"
     ]
    }
   ],
   "source": [
    "tr_features, tr_labels = zip(*tr_dataset)\n",
    "print(len(tr_features))\n",
    "print(len(tr_labels))\n",
    "dtrain = xgb.DMatrix(tr_features, label=tr_labels)"
   ]
  },
  {
   "cell_type": "code",
   "execution_count": 22,
   "metadata": {},
   "outputs": [
    {
     "name": "stdout",
     "output_type": "stream",
     "text": [
      "[0]\ttrain-logloss:0.35623\n",
      "[1]\ttrain-logloss:0.33223\n",
      "[2]\ttrain-logloss:0.31556\n"
     ]
    },
    {
     "name": "stdout",
     "output_type": "stream",
     "text": [
      "[3]\ttrain-logloss:0.30307\n",
      "[4]\ttrain-logloss:0.29210\n",
      "[5]\ttrain-logloss:0.28203\n",
      "[6]\ttrain-logloss:0.27557\n",
      "[7]\ttrain-logloss:0.27129\n",
      "[8]\ttrain-logloss:0.26483\n",
      "[9]\ttrain-logloss:0.26094\n",
      "[10]\ttrain-logloss:0.25760\n",
      "[11]\ttrain-logloss:0.25438\n",
      "[12]\ttrain-logloss:0.24880\n",
      "[13]\ttrain-logloss:0.24502\n",
      "[14]\ttrain-logloss:0.24276\n",
      "[15]\ttrain-logloss:0.23921\n",
      "[16]\ttrain-logloss:0.23337\n",
      "[17]\ttrain-logloss:0.23103\n",
      "[18]\ttrain-logloss:0.22729\n",
      "[19]\ttrain-logloss:0.22185\n",
      "[20]\ttrain-logloss:0.22023\n",
      "[21]\ttrain-logloss:0.21589\n",
      "[22]\ttrain-logloss:0.21391\n",
      "[23]\ttrain-logloss:0.21196\n",
      "[24]\ttrain-logloss:0.20993\n",
      "[25]\ttrain-logloss:0.20752\n",
      "[26]\ttrain-logloss:0.20398\n",
      "[27]\ttrain-logloss:0.20089\n",
      "[28]\ttrain-logloss:0.19802\n",
      "[29]\ttrain-logloss:0.19468\n",
      "[30]\ttrain-logloss:0.19117\n",
      "[31]\ttrain-logloss:0.18777\n",
      "[32]\ttrain-logloss:0.18555\n",
      "[33]\ttrain-logloss:0.18323\n",
      "[34]\ttrain-logloss:0.18034\n",
      "[35]\ttrain-logloss:0.17892\n",
      "[36]\ttrain-logloss:0.17735\n",
      "[37]\ttrain-logloss:0.17491\n",
      "[38]\ttrain-logloss:0.17373\n",
      "[39]\ttrain-logloss:0.17095\n",
      "[40]\ttrain-logloss:0.16802\n",
      "[41]\ttrain-logloss:0.16534\n",
      "[42]\ttrain-logloss:0.16275\n",
      "[43]\ttrain-logloss:0.15984\n",
      "[44]\ttrain-logloss:0.15715\n",
      "[45]\ttrain-logloss:0.15661\n",
      "[46]\ttrain-logloss:0.15466\n",
      "[47]\ttrain-logloss:0.15232\n",
      "[48]\ttrain-logloss:0.15049\n",
      "[49]\ttrain-logloss:0.14760\n"
     ]
    },
    {
     "name": "stderr",
     "output_type": "stream",
     "text": [
      "c:\\Users\\masak\\anaconda3\\envs\\test\\lib\\site-packages\\xgboost\\core.py:160: UserWarning: [15:58:20] WARNING: C:\\buildkite-agent\\builds\\buildkite-windows-cpu-autoscaling-group-i-0750514818a16474a-1\\xgboost\\xgboost-ci-windows\\src\\learner.cc:742: \n",
      "Parameters: { \"silent\" } are not used.\n",
      "\n",
      "  warnings.warn(smsg, UserWarning)\n"
     ]
    }
   ],
   "source": [
    "params = {\"objective\":\"binary:logistic\", \"silent\":1, 'random_state':71}\n",
    "num_round = 50\n",
    "\n",
    "# watchlist = [(dtrain, 'train'), (dtest, 'eval')]\n",
    "watchlist = [(dtrain, 'train')]\n",
    "model = xgb.train(params, dtrain , num_round, evals=watchlist)\n",
    "\n",
    "# test_pred = model.predict(dtest)\n",
    "# score = log_loss(test_y, test_pred)\n",
    "# print(f'losloss:{score:.4f}')"
   ]
  }
 ],
 "metadata": {
  "kernelspec": {
   "display_name": "test",
   "language": "python",
   "name": "python3"
  },
  "language_info": {
   "codemirror_mode": {
    "name": "ipython",
    "version": 3
   },
   "file_extension": ".py",
   "mimetype": "text/x-python",
   "name": "python",
   "nbconvert_exporter": "python",
   "pygments_lexer": "ipython3",
   "version": "3.9.16"
  }
 },
 "nbformat": 4,
 "nbformat_minor": 2
}
