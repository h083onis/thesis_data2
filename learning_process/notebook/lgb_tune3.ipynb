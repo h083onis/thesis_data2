{
 "cells": [
  {
   "cell_type": "code",
   "execution_count": 2,
   "metadata": {},
   "outputs": [],
   "source": [
    "import pickle\n",
    "project = 'openstack'\n",
    "type = 'in_its'\n",
    "with open('../resource/'+project+'_train.pkl', 'rb') as f_train, open('../resource/'+project+'_test.pkl', 'rb') as f_test:\n",
    "        tr_data = pickle.load(f_train)\n",
    "        te_data = pickle.load(f_test)\n",
    "pred_list = []\n",
    "kinds = ['train', 'test']\n",
    "models = ['lgb', 'msg_tf']\n",
    "for kind in kinds:\n",
    "    for model in models:\n",
    "        with open('../pred/'+type+'/'+project+'-'+model+'-'+'random'+'-'+kind+'.pkl', 'rb') as f:\n",
    "            pred_list.append(pickle.load(f))\n",
    "tr_pred = [[pred_list[0][j], pred_list[1][j]] for j in range(len(pred_list[0]))]\n",
    "te_pred = [[pred_list[2][j], pred_list[3][j]] for j in range(len(pred_list[3]))]                \n",
    "tr_data = [tr_pred, tr_data[5]]\n",
    "te_data = [te_pred, te_data[5]]"
   ]
  },
  {
   "cell_type": "code",
   "execution_count": 3,
   "metadata": {},
   "outputs": [],
   "source": [
    "from optuna.integration import lightgbm as lgb\n",
    "from sklearn.model_selection import StratifiedKFold\n",
    "import numpy as np\n",
    "from sklearn.metrics import log_loss, roc_auc_score\n",
    "from sklearn.utils.class_weight import compute_class_weight\n",
    "from sklearn.utils.class_weight import compute_sample_weight"
   ]
  },
  {
   "cell_type": "code",
   "execution_count": 4,
   "metadata": {},
   "outputs": [],
   "source": [
    "sample_weights = compute_sample_weight(class_weight='balanced', y=tr_data[1])"
   ]
  },
  {
   "cell_type": "code",
   "execution_count": 5,
   "metadata": {},
   "outputs": [
    {
     "data": {
      "text/plain": [
       "array([0.57413941, 0.57413941, 0.57413941, ..., 0.57413941, 0.57413941,\n",
       "       3.87202596])"
      ]
     },
     "execution_count": 5,
     "metadata": {},
     "output_type": "execute_result"
    }
   ],
   "source": [
    "sample_weights"
   ]
  },
  {
   "cell_type": "code",
   "execution_count": 5,
   "metadata": {},
   "outputs": [],
   "source": [
    "lgb_train = lgb.Dataset(np.array(tr_data[0]), np.array(tr_data[1]), weight=sample_weights)"
   ]
  },
  {
   "cell_type": "code",
   "execution_count": 6,
   "metadata": {},
   "outputs": [
    {
     "name": "stderr",
     "output_type": "stream",
     "text": [
      "[I 2023-12-06 15:49:00,453] A new study created in memory with name: no-name-81cd88b4-41a3-4c8c-a56d-76ef42ec14e4\n",
      "feature_fraction, val_score: inf:   0%|          | 0/7 [00:00<?, ?it/s]"
     ]
    },
    {
     "name": "stdout",
     "output_type": "stream",
     "text": [
      "Training until validation scores don't improve for 10 rounds\n"
     ]
    },
    {
     "name": "stderr",
     "output_type": "stream",
     "text": [
      "feature_fraction, val_score: 0.558093:  14%|#4        | 1/7 [00:00<00:01,  3.93it/s][I 2023-12-06 15:49:00,714] Trial 0 finished with value: 0.5580934623401786 and parameters: {'feature_fraction': 0.6}. Best is trial 0 with value: 0.5580934623401786.\n",
      "feature_fraction, val_score: 0.558093:  29%|##8       | 2/7 [00:00<00:00,  5.26it/s][I 2023-12-06 15:49:00,875] Trial 1 finished with value: 0.5580934623401786 and parameters: {'feature_fraction': 0.4}. Best is trial 0 with value: 0.5580934623401786.\n",
      "feature_fraction, val_score: 0.558093:  29%|##8       | 2/7 [00:00<00:00,  5.26it/s]"
     ]
    },
    {
     "name": "stdout",
     "output_type": "stream",
     "text": [
      "Early stopping, best iteration is:\n",
      "[31]\tcv_agg's valid binary_logloss: 0.558093 + 0.00818001\n",
      "Training until validation scores don't improve for 10 rounds\n",
      "Early stopping, best iteration is:\n",
      "[31]\tcv_agg's valid binary_logloss: 0.558093 + 0.00818001\n",
      "Training until validation scores don't improve for 10 rounds\n"
     ]
    },
    {
     "name": "stderr",
     "output_type": "stream",
     "text": [
      "feature_fraction, val_score: 0.558093:  43%|####2     | 3/7 [00:00<00:00,  5.68it/s][I 2023-12-06 15:49:01,021] Trial 2 finished with value: 0.5580934623401786 and parameters: {'feature_fraction': 0.7}. Best is trial 0 with value: 0.5580934623401786.\n",
      "feature_fraction, val_score: 0.558093:  57%|#####7    | 4/7 [00:00<00:00,  6.23it/s][I 2023-12-06 15:49:01,158] Trial 3 finished with value: 0.5594741532688005 and parameters: {'feature_fraction': 1.0}. Best is trial 0 with value: 0.5580934623401786.\n",
      "feature_fraction, val_score: 0.558093:  57%|#####7    | 4/7 [00:00<00:00,  6.23it/s]"
     ]
    },
    {
     "name": "stdout",
     "output_type": "stream",
     "text": [
      "Early stopping, best iteration is:\n",
      "[31]\tcv_agg's valid binary_logloss: 0.558093 + 0.00818001\n",
      "Training until validation scores don't improve for 10 rounds\n",
      "Early stopping, best iteration is:\n",
      "[20]\tcv_agg's valid binary_logloss: 0.559474 + 0.00559739\n",
      "Training until validation scores don't improve for 10 rounds\n"
     ]
    },
    {
     "name": "stderr",
     "output_type": "stream",
     "text": [
      "feature_fraction, val_score: 0.558093:  71%|#######1  | 5/7 [00:00<00:00,  6.57it/s][I 2023-12-06 15:49:01,293] Trial 4 finished with value: 0.5580934623401786 and parameters: {'feature_fraction': 0.5}. Best is trial 0 with value: 0.5580934623401786.\n",
      "feature_fraction, val_score: 0.558093:  86%|########5 | 6/7 [00:00<00:00,  7.17it/s][I 2023-12-06 15:49:01,423] Trial 5 finished with value: 0.5594741532688005 and parameters: {'feature_fraction': 0.8}. Best is trial 0 with value: 0.5580934623401786.\n",
      "feature_fraction, val_score: 0.558093:  86%|########5 | 6/7 [00:00<00:00,  7.17it/s]"
     ]
    },
    {
     "name": "stdout",
     "output_type": "stream",
     "text": [
      "Early stopping, best iteration is:\n",
      "[31]\tcv_agg's valid binary_logloss: 0.558093 + 0.00818001\n",
      "Training until validation scores don't improve for 10 rounds\n",
      "Early stopping, best iteration is:\n",
      "[20]\tcv_agg's valid binary_logloss: 0.559474 + 0.00559739\n",
      "Training until validation scores don't improve for 10 rounds\n"
     ]
    },
    {
     "name": "stderr",
     "output_type": "stream",
     "text": [
      "feature_fraction, val_score: 0.558093: 100%|##########| 7/7 [00:01<00:00,  6.25it/s][I 2023-12-06 15:49:01,609] Trial 6 finished with value: 0.5594741532688005 and parameters: {'feature_fraction': 0.8999999999999999}. Best is trial 0 with value: 0.5580934623401786.\n",
      "feature_fraction, val_score: 0.558093: 100%|##########| 7/7 [00:01<00:00,  6.09it/s]\n"
     ]
    },
    {
     "name": "stdout",
     "output_type": "stream",
     "text": [
      "Early stopping, best iteration is:\n",
      "[20]\tcv_agg's valid binary_logloss: 0.559474 + 0.00559739\n"
     ]
    },
    {
     "name": "stderr",
     "output_type": "stream",
     "text": [
      "num_leaves, val_score: 0.558093:   0%|          | 0/20 [00:00<?, ?it/s]"
     ]
    },
    {
     "name": "stdout",
     "output_type": "stream",
     "text": [
      "Training until validation scores don't improve for 10 rounds\n"
     ]
    },
    {
     "name": "stderr",
     "output_type": "stream",
     "text": [
      "num_leaves, val_score: 0.558093:   0%|          | 0/20 [00:00<?, ?it/s]"
     ]
    },
    {
     "name": "stdout",
     "output_type": "stream",
     "text": [
      "Early stopping, best iteration is:\n",
      "[21]\tcv_agg's valid binary_logloss: 0.572206 + 0.00601245\n"
     ]
    },
    {
     "name": "stderr",
     "output_type": "stream",
     "text": [
      "num_leaves, val_score: 0.558093:   5%|5         | 1/20 [00:00<00:04,  4.24it/s][I 2023-12-06 15:49:01,845] Trial 7 finished with value: 0.5722057074552699 and parameters: {'num_leaves': 105}. Best is trial 7 with value: 0.5722057074552699.\n",
      "num_leaves, val_score: 0.558093:   5%|5         | 1/20 [00:00<00:04,  4.24it/s]"
     ]
    },
    {
     "name": "stdout",
     "output_type": "stream",
     "text": [
      "Training until validation scores don't improve for 10 rounds\n"
     ]
    },
    {
     "name": "stderr",
     "output_type": "stream",
     "text": [
      "num_leaves, val_score: 0.558093:  10%|#         | 2/20 [00:00<00:06,  2.59it/s][I 2023-12-06 15:49:02,341] Trial 8 finished with value: 0.5787400582894826 and parameters: {'num_leaves': 203}. Best is trial 7 with value: 0.5722057074552699.\n",
      "num_leaves, val_score: 0.558093:  10%|#         | 2/20 [00:00<00:06,  2.59it/s]"
     ]
    },
    {
     "name": "stdout",
     "output_type": "stream",
     "text": [
      "Early stopping, best iteration is:\n",
      "[19]\tcv_agg's valid binary_logloss: 0.57874 + 0.00512792\n",
      "Training until validation scores don't improve for 10 rounds\n"
     ]
    },
    {
     "name": "stderr",
     "output_type": "stream",
     "text": [
      "num_leaves, val_score: 0.558093:  15%|#5        | 3/20 [00:00<00:05,  3.11it/s][I 2023-12-06 15:49:02,591] Trial 9 finished with value: 0.5704653928379841 and parameters: {'num_leaves': 93}. Best is trial 9 with value: 0.5704653928379841.\n",
      "num_leaves, val_score: 0.551278:  15%|#5        | 3/20 [00:01<00:05,  3.11it/s][I 2023-12-06 15:49:02,680] Trial 10 finished with value: 0.551277995547958 and parameters: {'num_leaves': 11}. Best is trial 10 with value: 0.551277995547958.\n",
      "num_leaves, val_score: 0.551278:  20%|##        | 4/20 [00:01<00:05,  3.11it/s]"
     ]
    },
    {
     "name": "stdout",
     "output_type": "stream",
     "text": [
      "Early stopping, best iteration is:\n",
      "[23]\tcv_agg's valid binary_logloss: 0.570465 + 0.00726298\n",
      "Training until validation scores don't improve for 10 rounds\n",
      "Early stopping, best iteration is:\n",
      "[41]\tcv_agg's valid binary_logloss: 0.551278 + 0.00822687\n",
      "Training until validation scores don't improve for 10 rounds\n",
      "Early stopping, best iteration is:\n",
      "[41]\tcv_agg's valid binary_logloss: 0.551336 + 0.00837756\n"
     ]
    },
    {
     "name": "stderr",
     "output_type": "stream",
     "text": [
      "num_leaves, val_score: 0.551278:  25%|##5       | 5/20 [00:01<00:02,  5.22it/s][I 2023-12-06 15:49:02,767] Trial 11 finished with value: 0.5513358983386567 and parameters: {'num_leaves': 10}. Best is trial 10 with value: 0.551277995547958.\n",
      "num_leaves, val_score: 0.549527:  25%|##5       | 5/20 [00:01<00:02,  5.22it/s][I 2023-12-06 15:49:02,857] Trial 12 finished with value: 0.5495267336742671 and parameters: {'num_leaves': 2}. Best is trial 12 with value: 0.5495267336742671.\n",
      "num_leaves, val_score: 0.549527:  35%|###5      | 7/20 [00:01<00:01,  6.90it/s][I 2023-12-06 15:49:02,942] Trial 13 finished with value: 0.5499406020613979 and parameters: {'num_leaves': 5}. Best is trial 12 with value: 0.5495267336742671.\n",
      "num_leaves, val_score: 0.549527:  35%|###5      | 7/20 [00:01<00:01,  6.90it/s]"
     ]
    },
    {
     "name": "stdout",
     "output_type": "stream",
     "text": [
      "Training until validation scores don't improve for 10 rounds\n",
      "[100]\tcv_agg's valid binary_logloss: 0.549592 + 0.00802112\n",
      "Early stopping, best iteration is:\n",
      "[109]\tcv_agg's valid binary_logloss: 0.549527 + 0.00856041\n",
      "Training until validation scores don't improve for 10 rounds\n",
      "Early stopping, best iteration is:\n",
      "[49]\tcv_agg's valid binary_logloss: 0.549941 + 0.00778319\n",
      "Training until validation scores don't improve for 10 rounds\n"
     ]
    },
    {
     "name": "stderr",
     "output_type": "stream",
     "text": [
      "num_leaves, val_score: 0.549527:  35%|###5      | 7/20 [00:01<00:01,  6.90it/s][I 2023-12-06 15:49:03,013] Trial 14 finished with value: 0.5502085700845687 and parameters: {'num_leaves': 6}. Best is trial 12 with value: 0.5495267336742671.\n",
      "num_leaves, val_score: 0.549527:  40%|####      | 8/20 [00:01<00:01,  6.90it/s]"
     ]
    },
    {
     "name": "stdout",
     "output_type": "stream",
     "text": [
      "Early stopping, best iteration is:\n",
      "[47]\tcv_agg's valid binary_logloss: 0.550209 + 0.00773528\n",
      "Training until validation scores don't improve for 10 rounds\n"
     ]
    },
    {
     "name": "stderr",
     "output_type": "stream",
     "text": [
      "num_leaves, val_score: 0.549527:  45%|####5     | 9/20 [00:01<00:01,  6.72it/s][I 2023-12-06 15:49:03,252] Trial 15 finished with value: 0.5664315163834827 and parameters: {'num_leaves': 68}. Best is trial 12 with value: 0.5495267336742671.\n",
      "num_leaves, val_score: 0.549527:  45%|####5     | 9/20 [00:01<00:01,  6.72it/s]"
     ]
    },
    {
     "name": "stdout",
     "output_type": "stream",
     "text": [
      "Early stopping, best iteration is:\n",
      "[25]\tcv_agg's valid binary_logloss: 0.566432 + 0.00758512\n",
      "Training until validation scores don't improve for 10 rounds\n"
     ]
    },
    {
     "name": "stderr",
     "output_type": "stream",
     "text": [
      "num_leaves, val_score: 0.549527:  50%|#####     | 10/20 [00:02<00:01,  5.01it/s][I 2023-12-06 15:49:03,635] Trial 16 finished with value: 0.5779456520716177 and parameters: {'num_leaves': 175}. Best is trial 12 with value: 0.5495267336742671.\n",
      "num_leaves, val_score: 0.549527:  50%|#####     | 10/20 [00:02<00:01,  5.01it/s]"
     ]
    },
    {
     "name": "stdout",
     "output_type": "stream",
     "text": [
      "Early stopping, best iteration is:\n",
      "[19]\tcv_agg's valid binary_logloss: 0.577946 + 0.00526545\n",
      "Training until validation scores don't improve for 10 rounds\n",
      "Early stopping, best iteration is:\n",
      "[25]\tcv_agg's valid binary_logloss: 0.564654 + 0.00713418\n"
     ]
    },
    {
     "name": "stderr",
     "output_type": "stream",
     "text": [
      "num_leaves, val_score: 0.549527:  55%|#####5    | 11/20 [00:02<00:01,  5.12it/s][I 2023-12-06 15:49:03,816] Trial 17 finished with value: 0.5646539553306104 and parameters: {'num_leaves': 61}. Best is trial 12 with value: 0.5495267336742671.\n",
      "num_leaves, val_score: 0.549527:  55%|#####5    | 11/20 [00:02<00:01,  5.12it/s]"
     ]
    },
    {
     "name": "stdout",
     "output_type": "stream",
     "text": [
      "Training until validation scores don't improve for 10 rounds\n"
     ]
    },
    {
     "name": "stderr",
     "output_type": "stream",
     "text": [
      "num_leaves, val_score: 0.549527:  60%|######    | 12/20 [00:02<00:02,  3.75it/s][I 2023-12-06 15:49:04,290] Trial 18 finished with value: 0.5787546432322952 and parameters: {'num_leaves': 252}. Best is trial 12 with value: 0.5495267336742671.\n",
      "num_leaves, val_score: 0.549527:  65%|######5   | 13/20 [00:02<00:01,  4.16it/s][I 2023-12-06 15:49:04,457] Trial 19 finished with value: 0.5623671079252472 and parameters: {'num_leaves': 50}. Best is trial 12 with value: 0.5495267336742671.\n",
      "num_leaves, val_score: 0.549527:  65%|######5   | 13/20 [00:02<00:01,  4.16it/s]"
     ]
    },
    {
     "name": "stdout",
     "output_type": "stream",
     "text": [
      "Early stopping, best iteration is:\n",
      "[19]\tcv_agg's valid binary_logloss: 0.578755 + 0.00521444\n",
      "Training until validation scores don't improve for 10 rounds\n",
      "Early stopping, best iteration is:\n",
      "[27]\tcv_agg's valid binary_logloss: 0.562367 + 0.00773539\n"
     ]
    },
    {
     "name": "stderr",
     "output_type": "stream",
     "text": [
      "num_leaves, val_score: 0.549527:  70%|#######   | 14/20 [00:03<00:01,  4.55it/s][I 2023-12-06 15:49:04,624] Trial 20 finished with value: 0.5595368030716686 and parameters: {'num_leaves': 39}. Best is trial 12 with value: 0.5495267336742671.\n",
      "num_leaves, val_score: 0.549527:  70%|#######   | 14/20 [00:03<00:01,  4.55it/s]"
     ]
    },
    {
     "name": "stdout",
     "output_type": "stream",
     "text": [
      "Training until validation scores don't improve for 10 rounds\n",
      "Early stopping, best iteration is:\n",
      "[31]\tcv_agg's valid binary_logloss: 0.559537 + 0.00810341\n",
      "Training until validation scores don't improve for 10 rounds\n"
     ]
    },
    {
     "name": "stderr",
     "output_type": "stream",
     "text": [
      "num_leaves, val_score: 0.549527:  75%|#######5  | 15/20 [00:03<00:00,  5.22it/s][I 2023-12-06 15:49:04,746] Trial 21 finished with value: 0.5495267336742671 and parameters: {'num_leaves': 2}. Best is trial 12 with value: 0.5495267336742671.\n",
      "num_leaves, val_score: 0.549172:  75%|#######5  | 15/20 [00:03<00:00,  5.22it/s][I 2023-12-06 15:49:04,823] Trial 22 finished with value: 0.5491718301032578 and parameters: {'num_leaves': 3}. Best is trial 22 with value: 0.5491718301032578.\n",
      "num_leaves, val_score: 0.549172:  80%|########  | 16/20 [00:03<00:00,  5.22it/s]"
     ]
    },
    {
     "name": "stdout",
     "output_type": "stream",
     "text": [
      "[100]\tcv_agg's valid binary_logloss: 0.549592 + 0.00802112\n",
      "Early stopping, best iteration is:\n",
      "[109]\tcv_agg's valid binary_logloss: 0.549527 + 0.00856041\n",
      "Training until validation scores don't improve for 10 rounds\n",
      "Early stopping, best iteration is:\n",
      "[63]\tcv_agg's valid binary_logloss: 0.549172 + 0.00863031\n",
      "Training until validation scores don't improve for 10 rounds\n"
     ]
    },
    {
     "name": "stderr",
     "output_type": "stream",
     "text": [
      "num_leaves, val_score: 0.549172:  85%|########5 | 17/20 [00:03<00:00,  6.66it/s][I 2023-12-06 15:49:04,954] Trial 23 finished with value: 0.5580934623401786 and parameters: {'num_leaves': 31}. Best is trial 22 with value: 0.5491718301032578.\n",
      "num_leaves, val_score: 0.549172:  85%|########5 | 17/20 [00:03<00:00,  6.66it/s]"
     ]
    },
    {
     "name": "stdout",
     "output_type": "stream",
     "text": [
      "Early stopping, best iteration is:\n",
      "[31]\tcv_agg's valid binary_logloss: 0.558093 + 0.00818001\n",
      "Training until validation scores don't improve for 10 rounds\n"
     ]
    },
    {
     "name": "stderr",
     "output_type": "stream",
     "text": [
      "num_leaves, val_score: 0.549172:  90%|######### | 18/20 [00:03<00:00,  5.00it/s][I 2023-12-06 15:49:05,297] Trial 24 finished with value: 0.5759677854901042 and parameters: {'num_leaves': 142}. Best is trial 22 with value: 0.5491718301032578.\n",
      "num_leaves, val_score: 0.549172:  90%|######### | 18/20 [00:03<00:00,  5.00it/s]"
     ]
    },
    {
     "name": "stdout",
     "output_type": "stream",
     "text": [
      "Early stopping, best iteration is:\n",
      "[21]\tcv_agg's valid binary_logloss: 0.575968 + 0.00595027\n",
      "Training until validation scores don't improve for 10 rounds\n"
     ]
    },
    {
     "name": "stderr",
     "output_type": "stream",
     "text": [
      "num_leaves, val_score: 0.549172:  95%|#########5| 19/20 [00:03<00:00,  4.72it/s][I 2023-12-06 15:49:05,547] Trial 25 finished with value: 0.5687284191725068 and parameters: {'num_leaves': 82}. Best is trial 22 with value: 0.5491718301032578.\n",
      "num_leaves, val_score: 0.549172: 100%|##########| 20/20 [00:04<00:00,  5.12it/s][I 2023-12-06 15:49:05,697] Trial 26 finished with value: 0.5595039025455909 and parameters: {'num_leaves': 36}. Best is trial 22 with value: 0.5491718301032578.\n",
      "num_leaves, val_score: 0.549172: 100%|##########| 20/20 [00:04<00:00,  4.89it/s]\n"
     ]
    },
    {
     "name": "stdout",
     "output_type": "stream",
     "text": [
      "Early stopping, best iteration is:\n",
      "[23]\tcv_agg's valid binary_logloss: 0.568728 + 0.00665503\n",
      "Training until validation scores don't improve for 10 rounds\n",
      "Early stopping, best iteration is:\n",
      "[29]\tcv_agg's valid binary_logloss: 0.559504 + 0.00800404\n"
     ]
    },
    {
     "name": "stderr",
     "output_type": "stream",
     "text": [
      "bagging, val_score: 0.549172:   0%|          | 0/10 [00:00<?, ?it/s]"
     ]
    },
    {
     "name": "stdout",
     "output_type": "stream",
     "text": [
      "Training until validation scores don't improve for 10 rounds\n"
     ]
    },
    {
     "name": "stderr",
     "output_type": "stream",
     "text": [
      "bagging, val_score: 0.548984:   0%|          | 0/10 [00:00<?, ?it/s][I 2023-12-06 15:49:05,758] Trial 27 finished with value: 0.5489835749499644 and parameters: {'bagging_fraction': 0.44100276387658816, 'bagging_freq': 6}. Best is trial 27 with value: 0.5489835749499644.\n",
      "bagging, val_score: 0.548984:  20%|##        | 2/10 [00:00<00:00, 16.06it/s][I 2023-12-06 15:49:05,838] Trial 28 finished with value: 0.5490268433921803 and parameters: {'bagging_fraction': 0.4202920031000166, 'bagging_freq': 6}. Best is trial 27 with value: 0.5489835749499644.\n",
      "bagging, val_score: 0.548984:  20%|##        | 2/10 [00:00<00:00, 16.06it/s]"
     ]
    },
    {
     "name": "stdout",
     "output_type": "stream",
     "text": [
      "Early stopping, best iteration is:\n",
      "[47]\tcv_agg's valid binary_logloss: 0.548984 + 0.00667141\n",
      "Training until validation scores don't improve for 10 rounds\n",
      "Early stopping, best iteration is:\n",
      "[45]\tcv_agg's valid binary_logloss: 0.549027 + 0.00782788\n",
      "Training until validation scores don't improve for 10 rounds\n"
     ]
    },
    {
     "name": "stderr",
     "output_type": "stream",
     "text": [
      "bagging, val_score: 0.548984:  20%|##        | 2/10 [00:00<00:00, 16.06it/s][I 2023-12-06 15:49:05,894] Trial 29 finished with value: 0.5494123876974358 and parameters: {'bagging_fraction': 0.41090990357954993, 'bagging_freq': 6}. Best is trial 27 with value: 0.5489835749499644.\n",
      "bagging, val_score: 0.548984:  30%|###       | 3/10 [00:00<00:00, 16.06it/s]"
     ]
    },
    {
     "name": "stdout",
     "output_type": "stream",
     "text": [
      "Early stopping, best iteration is:\n",
      "[47]\tcv_agg's valid binary_logloss: 0.549412 + 0.0067969\n",
      "Training until validation scores don't improve for 10 rounds\n"
     ]
    },
    {
     "name": "stderr",
     "output_type": "stream",
     "text": [
      "bagging, val_score: 0.548984:  40%|####      | 4/10 [00:00<00:00, 15.43it/s][I 2023-12-06 15:49:05,958] Trial 30 finished with value: 0.5492956818434925 and parameters: {'bagging_fraction': 0.42458866571471904, 'bagging_freq': 6}. Best is trial 27 with value: 0.5489835749499644.\n",
      "bagging, val_score: 0.548984:  40%|####      | 4/10 [00:00<00:00, 15.43it/s][I 2023-12-06 15:49:06,025] Trial 31 finished with value: 0.5493838895419232 and parameters: {'bagging_fraction': 0.40776584804183746, 'bagging_freq': 6}. Best is trial 27 with value: 0.5489835749499644.\n",
      "bagging, val_score: 0.548984:  50%|#####     | 5/10 [00:00<00:00, 15.43it/s]"
     ]
    },
    {
     "name": "stdout",
     "output_type": "stream",
     "text": [
      "Early stopping, best iteration is:\n",
      "[45]\tcv_agg's valid binary_logloss: 0.549296 + 0.00720752\n",
      "Training until validation scores don't improve for 10 rounds\n",
      "Early stopping, best iteration is:\n",
      "[51]\tcv_agg's valid binary_logloss: 0.549384 + 0.00751704\n",
      "Training until validation scores don't improve for 10 rounds\n",
      "Early stopping, best iteration is:\n",
      "[49]\tcv_agg's valid binary_logloss: 0.548912 + 0.00740291\n"
     ]
    },
    {
     "name": "stderr",
     "output_type": "stream",
     "text": [
      "bagging, val_score: 0.548912:  60%|######    | 6/10 [00:00<00:00, 14.44it/s][I 2023-12-06 15:49:06,108] Trial 32 finished with value: 0.5489121751679447 and parameters: {'bagging_fraction': 0.43447425356764585, 'bagging_freq': 6}. Best is trial 32 with value: 0.5489121751679447.\n",
      "bagging, val_score: 0.548912:  60%|######    | 6/10 [00:00<00:00, 14.44it/s]"
     ]
    },
    {
     "name": "stdout",
     "output_type": "stream",
     "text": [
      "Training until validation scores don't improve for 10 rounds\n"
     ]
    },
    {
     "name": "stderr",
     "output_type": "stream",
     "text": [
      "bagging, val_score: 0.548065:  60%|######    | 6/10 [00:00<00:00, 14.44it/s][I 2023-12-06 15:49:06,175] Trial 33 finished with value: 0.5480647234707672 and parameters: {'bagging_fraction': 0.6286914512786066, 'bagging_freq': 2}. Best is trial 33 with value: 0.5480647234707672.\n",
      "bagging, val_score: 0.548065:  80%|########  | 8/10 [00:00<00:00, 12.65it/s][I 2023-12-06 15:49:06,298] Trial 34 finished with value: 0.5483040248355675 and parameters: {'bagging_fraction': 0.6775869641664798, 'bagging_freq': 1}. Best is trial 33 with value: 0.5480647234707672.\n",
      "bagging, val_score: 0.548065:  80%|########  | 8/10 [00:00<00:00, 12.65it/s]"
     ]
    },
    {
     "name": "stdout",
     "output_type": "stream",
     "text": [
      "Early stopping, best iteration is:\n",
      "[54]\tcv_agg's valid binary_logloss: 0.548065 + 0.00720082\n",
      "Training until validation scores don't improve for 10 rounds\n",
      "Early stopping, best iteration is:\n",
      "[53]\tcv_agg's valid binary_logloss: 0.548304 + 0.0075561\n",
      "Training until validation scores don't improve for 10 rounds\n"
     ]
    },
    {
     "name": "stderr",
     "output_type": "stream",
     "text": [
      "bagging, val_score: 0.548065:  80%|########  | 8/10 [00:00<00:00, 12.65it/s]"
     ]
    },
    {
     "name": "stdout",
     "output_type": "stream",
     "text": [
      "Early stopping, best iteration is:\n",
      "[61]\tcv_agg's valid binary_logloss: 0.548162 + 0.00829952\n"
     ]
    },
    {
     "name": "stderr",
     "output_type": "stream",
     "text": [
      "[I 2023-12-06 15:49:06,392] Trial 35 finished with value: 0.5481617987635127 and parameters: {'bagging_fraction': 0.6880190026171413, 'bagging_freq': 1}. Best is trial 33 with value: 0.5480647234707672.\n",
      "bagging, val_score: 0.548065: 100%|##########| 10/10 [00:00<00:00, 12.08it/s][I 2023-12-06 15:49:06,474] Trial 36 finished with value: 0.5482088350669305 and parameters: {'bagging_fraction': 0.7096268788885576, 'bagging_freq': 1}. Best is trial 33 with value: 0.5480647234707672.\n",
      "bagging, val_score: 0.548065: 100%|##########| 10/10 [00:00<00:00, 12.93it/s]\n"
     ]
    },
    {
     "name": "stdout",
     "output_type": "stream",
     "text": [
      "Training until validation scores don't improve for 10 rounds\n",
      "Early stopping, best iteration is:\n",
      "[49]\tcv_agg's valid binary_logloss: 0.548209 + 0.00754444\n"
     ]
    },
    {
     "name": "stderr",
     "output_type": "stream",
     "text": [
      "feature_fraction_stage2, val_score: 0.548065:   0%|          | 0/6 [00:00<?, ?it/s][I 2023-12-06 15:49:06,559] Trial 37 finished with value: 0.5480647234707672 and parameters: {'feature_fraction': 0.52}. Best is trial 37 with value: 0.5480647234707672.\n",
      "feature_fraction_stage2, val_score: 0.548065:  17%|#6        | 1/6 [00:00<00:00, 11.86it/s]"
     ]
    },
    {
     "name": "stdout",
     "output_type": "stream",
     "text": [
      "Training until validation scores don't improve for 10 rounds\n",
      "Early stopping, best iteration is:\n",
      "[54]\tcv_agg's valid binary_logloss: 0.548065 + 0.00720082\n",
      "Training until validation scores don't improve for 10 rounds\n"
     ]
    },
    {
     "name": "stderr",
     "output_type": "stream",
     "text": [
      "feature_fraction_stage2, val_score: 0.548065:  33%|###3      | 2/6 [00:00<00:00, 11.89it/s][I 2023-12-06 15:49:06,646] Trial 38 finished with value: 0.5480647234707672 and parameters: {'feature_fraction': 0.552}. Best is trial 37 with value: 0.5480647234707672.\n",
      "feature_fraction_stage2, val_score: 0.548065:  33%|###3      | 2/6 [00:00<00:00, 11.89it/s]"
     ]
    },
    {
     "name": "stdout",
     "output_type": "stream",
     "text": [
      "Early stopping, best iteration is:\n",
      "[54]\tcv_agg's valid binary_logloss: 0.548065 + 0.00720082\n",
      "Training until validation scores don't improve for 10 rounds\n"
     ]
    },
    {
     "name": "stderr",
     "output_type": "stream",
     "text": [
      "feature_fraction_stage2, val_score: 0.548065:  33%|###3      | 2/6 [00:00<00:00, 11.89it/s][I 2023-12-06 15:49:06,709] Trial 39 finished with value: 0.5480647234707672 and parameters: {'feature_fraction': 0.584}. Best is trial 37 with value: 0.5480647234707672.\n",
      "feature_fraction_stage2, val_score: 0.548065:  67%|######6   | 4/6 [00:00<00:00, 12.79it/s][I 2023-12-06 15:49:06,791] Trial 40 finished with value: 0.5480647234707672 and parameters: {'feature_fraction': 0.6799999999999999}. Best is trial 37 with value: 0.5480647234707672.\n",
      "feature_fraction_stage2, val_score: 0.548065:  67%|######6   | 4/6 [00:00<00:00, 12.79it/s]"
     ]
    },
    {
     "name": "stdout",
     "output_type": "stream",
     "text": [
      "Early stopping, best iteration is:\n",
      "[54]\tcv_agg's valid binary_logloss: 0.548065 + 0.00720082\n",
      "Training until validation scores don't improve for 10 rounds\n",
      "Early stopping, best iteration is:\n",
      "[54]\tcv_agg's valid binary_logloss: 0.548065 + 0.00720082\n",
      "Training until validation scores don't improve for 10 rounds\n"
     ]
    },
    {
     "name": "stderr",
     "output_type": "stream",
     "text": [
      "feature_fraction_stage2, val_score: 0.548065:  67%|######6   | 4/6 [00:00<00:00, 12.79it/s][I 2023-12-06 15:49:06,862] Trial 41 finished with value: 0.5480647234707672 and parameters: {'feature_fraction': 0.6479999999999999}. Best is trial 37 with value: 0.5480647234707672.\n",
      "feature_fraction_stage2, val_score: 0.548065:  83%|########3 | 5/6 [00:00<00:00, 12.79it/s]"
     ]
    },
    {
     "name": "stdout",
     "output_type": "stream",
     "text": [
      "Early stopping, best iteration is:\n",
      "[54]\tcv_agg's valid binary_logloss: 0.548065 + 0.00720082\n",
      "Training until validation scores don't improve for 10 rounds\n"
     ]
    },
    {
     "name": "stderr",
     "output_type": "stream",
     "text": [
      "feature_fraction_stage2, val_score: 0.548065: 100%|##########| 6/6 [00:00<00:00, 13.65it/s][I 2023-12-06 15:49:06,925] Trial 42 finished with value: 0.5480647234707672 and parameters: {'feature_fraction': 0.616}. Best is trial 37 with value: 0.5480647234707672.\n",
      "feature_fraction_stage2, val_score: 0.548065: 100%|##########| 6/6 [00:00<00:00, 13.30it/s]\n"
     ]
    },
    {
     "name": "stdout",
     "output_type": "stream",
     "text": [
      "Early stopping, best iteration is:\n",
      "[54]\tcv_agg's valid binary_logloss: 0.548065 + 0.00720082\n"
     ]
    },
    {
     "name": "stderr",
     "output_type": "stream",
     "text": [
      "regularization_factors, val_score: 0.548065:   0%|          | 0/20 [00:00<?, ?it/s][I 2023-12-06 15:49:07,027] Trial 43 finished with value: 0.5481475438884243 and parameters: {'lambda_l1': 0.005604853592401098, 'lambda_l2': 1.2334266311258204}. Best is trial 43 with value: 0.5481475438884243.\n",
      "regularization_factors, val_score: 0.548065:   5%|5         | 1/20 [00:00<00:01, 11.05it/s]"
     ]
    },
    {
     "name": "stdout",
     "output_type": "stream",
     "text": [
      "Training until validation scores don't improve for 10 rounds\n",
      "Early stopping, best iteration is:\n",
      "[54]\tcv_agg's valid binary_logloss: 0.548148 + 0.00696148\n",
      "Training until validation scores don't improve for 10 rounds\n"
     ]
    },
    {
     "name": "stderr",
     "output_type": "stream",
     "text": [
      "regularization_factors, val_score: 0.548065:   5%|5         | 1/20 [00:00<00:03,  5.82it/s]"
     ]
    },
    {
     "name": "stdout",
     "output_type": "stream",
     "text": [
      "Early stopping, best iteration is:\n",
      "[54]\tcv_agg's valid binary_logloss: 0.548065 + 0.00720082\n"
     ]
    },
    {
     "name": "stderr",
     "output_type": "stream",
     "text": [
      "regularization_factors, val_score: 0.548065:  10%|#         | 2/20 [00:00<00:01, 11.63it/s][I 2023-12-06 15:49:07,108] Trial 44 finished with value: 0.5480647234706839 and parameters: {'lambda_l1': 1.4850988097328939e-08, 'lambda_l2': 1.4451256499241246e-08}. Best is trial 44 with value: 0.5480647234706839.\n",
      "regularization_factors, val_score: 0.548065:  10%|#         | 2/20 [00:00<00:01, 11.63it/s]"
     ]
    },
    {
     "name": "stdout",
     "output_type": "stream",
     "text": [
      "Training until validation scores don't improve for 10 rounds\n"
     ]
    },
    {
     "name": "stderr",
     "output_type": "stream",
     "text": [
      "regularization_factors, val_score: 0.548065:  10%|#         | 2/20 [00:00<00:01, 11.63it/s][I 2023-12-06 15:49:07,176] Trial 45 finished with value: 0.548064723469291 and parameters: {'lambda_l1': 3.611367924551136e-08, 'lambda_l2': 2.278790350320453e-08}. Best is trial 45 with value: 0.548064723469291.\n",
      "regularization_factors, val_score: 0.548065:  20%|##        | 4/20 [00:00<00:01, 12.16it/s][I 2023-12-06 15:49:07,269] Trial 46 finished with value: 0.5480647234714785 and parameters: {'lambda_l1': 1.1101667081341737e-08, 'lambda_l2': 1.276586054584892e-08}. Best is trial 45 with value: 0.548064723469291.\n",
      "regularization_factors, val_score: 0.548065:  20%|##        | 4/20 [00:00<00:01, 12.16it/s]"
     ]
    },
    {
     "name": "stdout",
     "output_type": "stream",
     "text": [
      "Early stopping, best iteration is:\n",
      "[54]\tcv_agg's valid binary_logloss: 0.548065 + 0.00720082\n",
      "Training until validation scores don't improve for 10 rounds\n",
      "Early stopping, best iteration is:\n",
      "[54]\tcv_agg's valid binary_logloss: 0.548065 + 0.00720082\n",
      "Training until validation scores don't improve for 10 rounds\n"
     ]
    },
    {
     "name": "stderr",
     "output_type": "stream",
     "text": [
      "regularization_factors, val_score: 0.548065:  20%|##        | 4/20 [00:00<00:01, 12.16it/s]"
     ]
    },
    {
     "name": "stdout",
     "output_type": "stream",
     "text": [
      "Early stopping, best iteration is:\n",
      "[54]\tcv_agg's valid binary_logloss: 0.548065 + 0.00720082\n"
     ]
    },
    {
     "name": "stderr",
     "output_type": "stream",
     "text": [
      "[I 2023-12-06 15:49:07,374] Trial 47 finished with value: 0.548064723471333 and parameters: {'lambda_l1': 1.3465153726218513e-08, 'lambda_l2': 1.8658830060744776e-08}. Best is trial 45 with value: 0.548064723469291.\n",
      "regularization_factors, val_score: 0.548065:  30%|###       | 6/20 [00:00<00:01, 11.36it/s][I 2023-12-06 15:49:07,457] Trial 48 finished with value: 0.5480647234683269 and parameters: {'lambda_l1': 1.4541799250661068e-06, 'lambda_l2': 5.222325219134855e-07}. Best is trial 48 with value: 0.5480647234683269.\n",
      "regularization_factors, val_score: 0.548065:  30%|###       | 6/20 [00:00<00:01, 11.36it/s][I 2023-12-06 15:49:07,528] Trial 49 finished with value: 0.5480647234681817 and parameters: {'lambda_l1': 1.683782330815078e-07, 'lambda_l2': 4.4779197413181805e-08}. Best is trial 49 with value: 0.5480647234681817.\n",
      "regularization_factors, val_score: 0.548065:  35%|###5      | 7/20 [00:00<00:01, 11.36it/s]"
     ]
    },
    {
     "name": "stdout",
     "output_type": "stream",
     "text": [
      "Training until validation scores don't improve for 10 rounds\n",
      "Early stopping, best iteration is:\n",
      "[54]\tcv_agg's valid binary_logloss: 0.548065 + 0.00720082\n",
      "Training until validation scores don't improve for 10 rounds\n",
      "Early stopping, best iteration is:\n",
      "[54]\tcv_agg's valid binary_logloss: 0.548065 + 0.00720082\n",
      "Training until validation scores don't improve for 10 rounds\n"
     ]
    },
    {
     "name": "stderr",
     "output_type": "stream",
     "text": [
      "regularization_factors, val_score: 0.548065:  40%|####      | 8/20 [00:00<00:01, 11.90it/s][I 2023-12-06 15:49:07,613] Trial 50 finished with value: 0.548064723468421 and parameters: {'lambda_l1': 8.685249142817044e-08, 'lambda_l2': 3.708634127416396e-08}. Best is trial 49 with value: 0.5480647234681817.\n",
      "regularization_factors, val_score: 0.548065:  40%|####      | 8/20 [00:00<00:01, 11.90it/s][I 2023-12-06 15:49:07,692] Trial 51 finished with value: 0.5480647234666775 and parameters: {'lambda_l1': 1.0775664240557985e-07, 'lambda_l2': 3.29927078265717e-08}. Best is trial 51 with value: 0.5480647234666775.\n",
      "regularization_factors, val_score: 0.548065:  50%|#####     | 10/20 [00:00<00:00, 12.49it/s][I 2023-12-06 15:49:07,760] Trial 52 finished with value: 0.5480647234677944 and parameters: {'lambda_l1': 7.719628877372073e-08, 'lambda_l2': 3.4469688534036807e-08}. Best is trial 51 with value: 0.5480647234666775.\n",
      "regularization_factors, val_score: 0.548065:  50%|#####     | 10/20 [00:00<00:00, 12.49it/s]"
     ]
    },
    {
     "name": "stdout",
     "output_type": "stream",
     "text": [
      "Early stopping, best iteration is:\n",
      "[54]\tcv_agg's valid binary_logloss: 0.548065 + 0.00720082\n",
      "Training until validation scores don't improve for 10 rounds\n",
      "Early stopping, best iteration is:\n",
      "[54]\tcv_agg's valid binary_logloss: 0.548065 + 0.00720082\n",
      "Training until validation scores don't improve for 10 rounds\n",
      "Early stopping, best iteration is:\n",
      "[54]\tcv_agg's valid binary_logloss: 0.548065 + 0.00720082\n",
      "Training until validation scores don't improve for 10 rounds\n"
     ]
    },
    {
     "name": "stderr",
     "output_type": "stream",
     "text": [
      "regularization_factors, val_score: 0.548065:  50%|#####     | 10/20 [00:00<00:00, 12.49it/s][I 2023-12-06 15:49:07,858] Trial 53 finished with value: 0.5480647234710052 and parameters: {'lambda_l1': 2.8328746288805925e-07, 'lambda_l2': 4.9555142759691716e-08}. Best is trial 51 with value: 0.5480647234666775.\n",
      "regularization_factors, val_score: 0.548065:  60%|######    | 12/20 [00:01<00:00, 11.93it/s][I 2023-12-06 15:49:07,942] Trial 54 finished with value: 0.5480647234700854 and parameters: {'lambda_l1': 7.439630546350138e-07, 'lambda_l2': 1.1168499029680393e-07}. Best is trial 51 with value: 0.5480647234666775.\n",
      "regularization_factors, val_score: 0.548065:  60%|######    | 12/20 [00:01<00:00, 11.93it/s][I 2023-12-06 15:49:08,031] Trial 55 finished with value: 0.5480647234731713 and parameters: {'lambda_l1': 6.203788998819257e-07, 'lambda_l2': 2.2953886720556317e-07}. Best is trial 51 with value: 0.5480647234666775.\n",
      "regularization_factors, val_score: 0.548065:  65%|######5   | 13/20 [00:01<00:00, 11.93it/s]"
     ]
    },
    {
     "name": "stdout",
     "output_type": "stream",
     "text": [
      "Early stopping, best iteration is:\n",
      "[54]\tcv_agg's valid binary_logloss: 0.548065 + 0.00720082\n",
      "Training until validation scores don't improve for 10 rounds\n",
      "Early stopping, best iteration is:\n",
      "[54]\tcv_agg's valid binary_logloss: 0.548065 + 0.00720082\n",
      "Training until validation scores don't improve for 10 rounds\n",
      "Early stopping, best iteration is:\n",
      "[54]\tcv_agg's valid binary_logloss: 0.548065 + 0.00720082\n",
      "Training until validation scores don't improve for 10 rounds\n"
     ]
    },
    {
     "name": "stderr",
     "output_type": "stream",
     "text": [
      "regularization_factors, val_score: 0.548065:  70%|#######   | 14/20 [00:01<00:00, 12.00it/s][I 2023-12-06 15:49:08,108] Trial 56 finished with value: 0.5480647234747438 and parameters: {'lambda_l1': 5.450783115109935e-07, 'lambda_l2': 5.352607754725313e-07}. Best is trial 51 with value: 0.5480647234666775.\n",
      "regularization_factors, val_score: 0.548065:  70%|#######   | 14/20 [00:01<00:00, 12.00it/s][I 2023-12-06 15:49:08,176] Trial 57 finished with value: 0.5480647234752156 and parameters: {'lambda_l1': 2.6035840036191606e-07, 'lambda_l2': 9.719865249537998e-07}. Best is trial 51 with value: 0.5480647234666775.\n",
      "regularization_factors, val_score: 0.548065:  80%|########  | 16/20 [00:01<00:00, 12.30it/s][I 2023-12-06 15:49:08,260] Trial 58 finished with value: 0.5480647234720744 and parameters: {'lambda_l1': 1.4597557911156455e-07, 'lambda_l2': 2.5250158075100755e-07}. Best is trial 51 with value: 0.5480647234666775.\n",
      "regularization_factors, val_score: 0.548065:  80%|########  | 16/20 [00:01<00:00, 12.30it/s]"
     ]
    },
    {
     "name": "stdout",
     "output_type": "stream",
     "text": [
      "Early stopping, best iteration is:\n",
      "[54]\tcv_agg's valid binary_logloss: 0.548065 + 0.00720082\n",
      "Training until validation scores don't improve for 10 rounds\n",
      "Early stopping, best iteration is:\n",
      "[54]\tcv_agg's valid binary_logloss: 0.548065 + 0.00720082\n",
      "Training until validation scores don't improve for 10 rounds\n",
      "Early stopping, best iteration is:\n",
      "[54]\tcv_agg's valid binary_logloss: 0.548065 + 0.00720082\n",
      "Training until validation scores don't improve for 10 rounds\n"
     ]
    },
    {
     "name": "stderr",
     "output_type": "stream",
     "text": [
      "regularization_factors, val_score: 0.548065:  80%|########  | 16/20 [00:01<00:00, 12.30it/s][I 2023-12-06 15:49:08,359] Trial 59 finished with value: 0.5480647234834318 and parameters: {'lambda_l1': 5.670519173195294e-06, 'lambda_l2': 1.9079831060934407e-08}. Best is trial 51 with value: 0.5480647234666775.\n",
      "regularization_factors, val_score: 0.548065:  90%|######### | 18/20 [00:01<00:00, 11.76it/s][I 2023-12-06 15:49:08,449] Trial 60 finished with value: 0.5480647235864462 and parameters: {'lambda_l1': 3.302914077607613e-05, 'lambda_l2': 2.205457306315755e-06}. Best is trial 51 with value: 0.5480647234666775.\n",
      "regularization_factors, val_score: 0.548065:  90%|######### | 18/20 [00:01<00:00, 11.76it/s][I 2023-12-06 15:49:08,524] Trial 61 finished with value: 0.548064723467298 and parameters: {'lambda_l1': 1.25791378849261e-07, 'lambda_l2': 9.132822253132368e-08}. Best is trial 51 with value: 0.5480647234666775.\n",
      "regularization_factors, val_score: 0.548065:  95%|#########5| 19/20 [00:01<00:00, 11.76it/s]"
     ]
    },
    {
     "name": "stdout",
     "output_type": "stream",
     "text": [
      "Early stopping, best iteration is:\n",
      "[54]\tcv_agg's valid binary_logloss: 0.548065 + 0.00720082\n",
      "Training until validation scores don't improve for 10 rounds\n",
      "Early stopping, best iteration is:\n",
      "[54]\tcv_agg's valid binary_logloss: 0.548065 + 0.00720082\n",
      "Training until validation scores don't improve for 10 rounds\n",
      "Early stopping, best iteration is:\n",
      "[54]\tcv_agg's valid binary_logloss: 0.548065 + 0.00720082\n",
      "Training until validation scores don't improve for 10 rounds\n"
     ]
    },
    {
     "name": "stderr",
     "output_type": "stream",
     "text": [
      "regularization_factors, val_score: 0.548065: 100%|##########| 20/20 [00:01<00:00, 12.12it/s][I 2023-12-06 15:49:08,606] Trial 62 finished with value: 0.5480647234681552 and parameters: {'lambda_l1': 4.8141663443691015e-08, 'lambda_l2': 7.252004861946242e-08}. Best is trial 51 with value: 0.5480647234666775.\n",
      "regularization_factors, val_score: 0.548065: 100%|##########| 20/20 [00:01<00:00, 11.97it/s]\n"
     ]
    },
    {
     "name": "stdout",
     "output_type": "stream",
     "text": [
      "Early stopping, best iteration is:\n",
      "[54]\tcv_agg's valid binary_logloss: 0.548065 + 0.00720082\n"
     ]
    },
    {
     "name": "stderr",
     "output_type": "stream",
     "text": [
      "min_child_samples, val_score: 0.548065:   0%|          | 0/5 [00:00<?, ?it/s][I 2023-12-06 15:49:08,707] Trial 63 finished with value: 0.5482459650380057 and parameters: {'min_child_samples': 50}. Best is trial 63 with value: 0.5482459650380057.\n",
      "min_child_samples, val_score: 0.548065:  40%|####      | 2/5 [00:00<00:00, 12.22it/s][I 2023-12-06 15:49:08,775] Trial 64 finished with value: 0.5481680157095467 and parameters: {'min_child_samples': 100}. Best is trial 64 with value: 0.5481680157095467.\n",
      "min_child_samples, val_score: 0.548065:  40%|####      | 2/5 [00:00<00:00, 12.22it/s]"
     ]
    },
    {
     "name": "stdout",
     "output_type": "stream",
     "text": [
      "Training until validation scores don't improve for 10 rounds\n",
      "Early stopping, best iteration is:\n",
      "[53]\tcv_agg's valid binary_logloss: 0.548246 + 0.00697434\n",
      "Training until validation scores don't improve for 10 rounds\n",
      "Early stopping, best iteration is:\n",
      "[53]\tcv_agg's valid binary_logloss: 0.548168 + 0.0073818\n",
      "Training until validation scores don't improve for 10 rounds\n"
     ]
    },
    {
     "name": "stderr",
     "output_type": "stream",
     "text": [
      "min_child_samples, val_score: 0.547908:  40%|####      | 2/5 [00:00<00:00, 12.22it/s][I 2023-12-06 15:49:08,861] Trial 65 finished with value: 0.5479079706725916 and parameters: {'min_child_samples': 10}. Best is trial 65 with value: 0.5479079706725916.\n",
      "min_child_samples, val_score: 0.547776:  80%|########  | 4/5 [00:00<00:00, 12.18it/s][I 2023-12-06 15:49:08,940] Trial 66 finished with value: 0.5477764161166313 and parameters: {'min_child_samples': 5}. Best is trial 66 with value: 0.5477764161166313.\n",
      "min_child_samples, val_score: 0.547776:  80%|########  | 4/5 [00:00<00:00, 12.18it/s][I 2023-12-06 15:49:09,024] Trial 67 finished with value: 0.5480304787561928 and parameters: {'min_child_samples': 25}. Best is trial 66 with value: 0.5477764161166313.\n",
      "min_child_samples, val_score: 0.547776: 100%|##########| 5/5 [00:00<00:00, 12.13it/s]"
     ]
    },
    {
     "name": "stdout",
     "output_type": "stream",
     "text": [
      "Early stopping, best iteration is:\n",
      "[54]\tcv_agg's valid binary_logloss: 0.547908 + 0.00735546\n",
      "Training until validation scores don't improve for 10 rounds\n",
      "Early stopping, best iteration is:\n",
      "[54]\tcv_agg's valid binary_logloss: 0.547776 + 0.00733998\n",
      "Training until validation scores don't improve for 10 rounds\n",
      "Early stopping, best iteration is:\n",
      "[73]\tcv_agg's valid binary_logloss: 0.54803 + 0.00809819\n"
     ]
    },
    {
     "name": "stderr",
     "output_type": "stream",
     "text": [
      "\n"
     ]
    }
   ],
   "source": [
    "folds = StratifiedKFold(n_splits=5, shuffle=True, random_state=100)\n",
    "lgb_params = {\n",
    "    'objective':'binary',\n",
    "    'metric': 'binary_logloss',\n",
    "    'verbosity':-1,\n",
    "}\n",
    "tuner_cv = lgb.LightGBMTunerCV(\n",
    "    lgb_params, lgb_train,\n",
    "    num_boost_round=1000,\n",
    "    callbacks=[lgb.early_stopping(stopping_rounds=10, verbose=True),\n",
    "                lgb.log_evaluation(100)],\n",
    "    return_cvbooster=True,\n",
    "    folds=folds\n",
    ")\n",
    "\n",
    "tuner_cv.run()"
   ]
  },
  {
   "cell_type": "code",
   "execution_count": 9,
   "metadata": {},
   "outputs": [
    {
     "name": "stdout",
     "output_type": "stream",
     "text": [
      "Best score: 0.5477764161166313\n",
      "Best params:\n",
      "{'objective': 'binary', 'metric': 'binary_logloss', 'verbosity': -1, 'feature_pre_filter': False, 'lambda_l1': 1.0775664240557985e-07, 'lambda_l2': 3.29927078265717e-08, 'num_leaves': 3, 'feature_fraction': 0.6, 'bagging_fraction': 0.6286914512786066, 'bagging_freq': 2, 'min_child_samples': 5}\n",
      "[0.40042541 0.84238877 0.18809298 ... 0.52521109 0.18621306 0.23920535]\n",
      "0.786906310762896\n",
      "0.6445009184419046\n"
     ]
    }
   ],
   "source": [
    "#openstack logloss 不均衡対策\n",
    "print(f'Best score: {tuner_cv.best_score}')\n",
    "print('Best params:')\n",
    "print(tuner_cv.best_params)\n",
    "model = tuner_cv.get_best_booster()\n",
    "pred = model.predict(np.array(te_data[0]), num_iteration=model.best_iteration)\n",
    "mean_pred = np.mean(pred, axis=0)\n",
    "print(mean_pred)\n",
    "print(roc_auc_score(te_data[1], mean_pred))\n",
    "print(log_loss(te_data[1], mean_pred))"
   ]
  }
 ],
 "metadata": {
  "kernelspec": {
   "display_name": "test",
   "language": "python",
   "name": "python3"
  },
  "language_info": {
   "codemirror_mode": {
    "name": "ipython",
    "version": 3
   },
   "file_extension": ".py",
   "mimetype": "text/x-python",
   "name": "python",
   "nbconvert_exporter": "python",
   "pygments_lexer": "ipython3",
   "version": "3.9.16"
  }
 },
 "nbformat": 4,
 "nbformat_minor": 2
}
