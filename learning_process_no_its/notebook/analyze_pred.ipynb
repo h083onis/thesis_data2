{
 "cells": [
  {
   "cell_type": "code",
   "execution_count": 46,
   "metadata": {},
   "outputs": [],
   "source": [
    "import pickle\n",
    "from sklearn.metrics import roc_auc_score, log_loss\n",
    "with open('../pred/openstack-lgb-random-test.pkl', 'rb') as f_lgb, open('../pred/openstack-code_cnn-random-test.pkl', 'rb') as f_cnn, \\\n",
    "    open('../pred/openstack-msg_tf-random-test.pkl','rb') as f_tf, open('../pred/openstack-ensemble-random-test.pkl', 'rb') as f_ensemble:\n",
    "    lgb_test = pickle.load(f_lgb)\n",
    "    cnn_test = pickle.load(f_cnn)\n",
    "    tf_test = pickle.load(f_tf)\n",
    "    ensemble_test = pickle.load(f_ensemble)\n",
    "with open('../resource/openstack_test.pkl', 'rb') as f:\n",
    "    test_data = pickle.load(f)\n"
   ]
  },
  {
   "cell_type": "code",
   "execution_count": 47,
   "metadata": {},
   "outputs": [
    {
     "name": "stdout",
     "output_type": "stream",
     "text": [
      "lgb:auc_score 0.776, log_loss 0.599\n",
      "cnn:auc_score 0.801, log_loss 0.629\n",
      "tf:auc_score 0.710, log_loss 0.536\n",
      "ensemble:auc_score 0.819, log_loss 0.625\n"
     ]
    }
   ],
   "source": [
    "print(f'lgb:auc_score {roc_auc_score(test_data[5], lgb_test):.3f}, log_loss {log_loss(test_data[5],lgb_test):.3f}' )\n",
    "print(f'cnn:auc_score {roc_auc_score(test_data[5], cnn_test):.3f}, log_loss {log_loss(test_data[5],cnn_test):.3f}')\n",
    "print(f'tf:auc_score {roc_auc_score(test_data[5], tf_test):.3f}, log_loss {log_loss(test_data[5],tf_test):.3f}')\n",
    "print(f'ensemble:auc_score {roc_auc_score(test_data[5], ensemble_test):.3f}, log_loss {log_loss(test_data[5],ensemble_test):.3f}')"
   ]
  },
  {
   "cell_type": "code",
   "execution_count": 48,
   "metadata": {},
   "outputs": [],
   "source": [
    "import pickle\n",
    "from sklearn.metrics import roc_auc_score, log_loss\n",
    "with open('../pred/qt-lgb-random-test.pkl', 'rb') as f_lgb, open('../pred/qt-code_cnn-random-test.pkl', 'rb') as f_cnn, \\\n",
    "    open('../pred/qt-msg_tf-random-test.pkl','rb') as f_tf, open('../pred/qt-ensemble-random-test.pkl', 'rb') as f_ensemble:\n",
    "    lgb_test = pickle.load(f_lgb)\n",
    "    cnn_test = pickle.load(f_cnn)\n",
    "    tf_test = pickle.load(f_tf)\n",
    "    ensemble_test = pickle.load(f_ensemble)\n",
    "with open('../resource/qt_test.pkl', 'rb') as f:\n",
    "    test_data = pickle.load(f)"
   ]
  },
  {
   "cell_type": "code",
   "execution_count": 49,
   "metadata": {},
   "outputs": [
    {
     "name": "stdout",
     "output_type": "stream",
     "text": [
      "lgb:auc_score 0.795, log_loss 0.433\n",
      "cnn:auc_score 0.747, log_loss 0.668\n",
      "tf:auc_score 0.632, log_loss 0.368\n",
      "ensemble:auc_score 0.779, log_loss 0.544\n"
     ]
    }
   ],
   "source": [
    "print(f'lgb:auc_score {roc_auc_score(test_data[5], lgb_test):.3f}, log_loss {log_loss(test_data[5],lgb_test):.3f}' )\n",
    "print(f'cnn:auc_score {roc_auc_score(test_data[5], cnn_test):.3f}, log_loss {log_loss(test_data[5],cnn_test):.3f}')\n",
    "print(f'tf:auc_score {roc_auc_score(test_data[5], tf_test):.3f}, log_loss {log_loss(test_data[5],tf_test):.3f}')\n",
    "print(f'ensemble:auc_score {roc_auc_score(test_data[5], ensemble_test):.3f}, log_loss {log_loss(test_data[5],ensemble_test):.3f}')"
   ]
  }
 ],
 "metadata": {
  "kernelspec": {
   "display_name": "test",
   "language": "python",
   "name": "python3"
  },
  "language_info": {
   "codemirror_mode": {
    "name": "ipython",
    "version": 3
   },
   "file_extension": ".py",
   "mimetype": "text/x-python",
   "name": "python",
   "nbconvert_exporter": "python",
   "pygments_lexer": "ipython3",
   "version": "3.9.16"
  }
 },
 "nbformat": 4,
 "nbformat_minor": 2
}
