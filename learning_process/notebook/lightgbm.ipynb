{
 "cells": [
  {
   "cell_type": "code",
   "execution_count": 1,
   "metadata": {},
   "outputs": [],
   "source": [
    "import pandas as pd\n",
    "import numpy as np\n",
    "import optuna.integration.lightgbm as lgb\n",
    "from sklearn.metrics import log_loss, roc_auc_score, f1_score\n",
    "from sklearn.model_selection import train_test_split\n",
    "import pickle\n",
    "from sklearn.utils.class_weight import compute_sample_weight"
   ]
  },
  {
   "cell_type": "code",
   "execution_count": 23,
   "metadata": {},
   "outputs": [],
   "source": [
    "with open('../resource/openstack_train.pkl', 'rb') as f_train, open('../resource/openstack_test.pkl', 'rb') as f_test:\n",
    "    tr_dataset = pickle.load(f_train)\n",
    "    te_dataset = pickle.load(f_test)"
   ]
  },
  {
   "cell_type": "code",
   "execution_count": 24,
   "metadata": {},
   "outputs": [],
   "source": [
    "tr_x, va_x, tr_y, va_y = train_test_split(tr_dataset[4], tr_dataset[5], test_size=0.2, random_state=100)\n",
    "sample_weights = compute_sample_weight(class_weight='balanced', y=tr_y)\n",
    "dtrain = lgb.Dataset(np.array(tr_x), np.array(tr_y), weight=sample_weights)\n",
    "dvalid = lgb.Dataset(np.array(va_x), np.array(va_y))\n"
   ]
  },
  {
   "cell_type": "code",
   "execution_count": 25,
   "metadata": {},
   "outputs": [],
   "source": [
    "params = {\n",
    "        'objective': 'binary',\n",
    "        'metric': 'binary_logloss',\n",
    "        'verbosity': -1,\n",
    "        'feature_pre_filter': False,\n",
    "        'lambda_l1': 2.8082379562003607e-06,\n",
    "        'lambda_l2': 4.0247909493263117e-07,\n",
    "        'num_leaves': 3,\n",
    "        'feature_fraction': 0.4,\n",
    "        'bagging_fraction': 0.9874988943974509,\n",
    "        'bagging_freq': 1,\n",
    "        'min_child_samples': 20,\n",
    "        'random_state': 100,\n",
    "        'num_iterations': 10000,\n",
    "        'early_stopping_rounds': 10,\n",
    "}\n",
    "# num_round = 1000"
   ]
  },
  {
   "cell_type": "code",
   "execution_count": 26,
   "metadata": {},
   "outputs": [
    {
     "name": "stderr",
     "output_type": "stream",
     "text": [
      "[I 2023-12-10 10:42:22,436] A new study created in memory with name: no-name-dbc13de7-b7c0-468a-a0f8-3583fe69cc97\n",
      "feature_fraction, val_score: inf:   0%|          | 0/7 [00:00<?, ?it/s]c:\\Users\\masak\\anaconda3\\envs\\test\\lib\\site-packages\\lightgbm\\engine.py:172: UserWarning: Found `num_iterations` in params. Will use it instead of argument\n",
      "  _log_warning(f\"Found `{alias}` in params. Will use it instead of argument\")\n",
      "feature_fraction, val_score: 0.527041:  14%|#4        | 1/7 [00:00<00:01,  4.59it/s][I 2023-12-10 10:42:22,665] Trial 0 finished with value: 0.52704141480011 and parameters: {'feature_fraction': 0.5}. Best is trial 0 with value: 0.52704141480011.\n",
      "feature_fraction, val_score: 0.527041:  14%|#4        | 1/7 [00:00<00:01,  4.59it/s]"
     ]
    },
    {
     "name": "stdout",
     "output_type": "stream",
     "text": [
      "Training until validation scores don't improve for 10 rounds\n",
      "[100]\ttrain's binary_logloss: 0.533414\tvalid's binary_logloss: 0.553595\n",
      "[200]\ttrain's binary_logloss: 0.511348\tvalid's binary_logloss: 0.540219\n",
      "[300]\ttrain's binary_logloss: 0.495261\tvalid's binary_logloss: 0.53087\n",
      "Training until validation scores don't improve for 10 rounds\n"
     ]
    },
    {
     "name": "stderr",
     "output_type": "stream",
     "text": [
      "feature_fraction, val_score: 0.527041:  29%|##8       | 2/7 [00:00<00:00,  5.11it/s][I 2023-12-10 10:42:22,844] Trial 1 finished with value: 0.5313713161744227 and parameters: {'feature_fraction': 0.8999999999999999}. Best is trial 0 with value: 0.52704141480011.\n",
      "feature_fraction, val_score: 0.527041:  29%|##8       | 2/7 [00:00<00:00,  5.11it/s]"
     ]
    },
    {
     "name": "stdout",
     "output_type": "stream",
     "text": [
      "[100]\ttrain's binary_logloss: 0.531516\tvalid's binary_logloss: 0.55198\n",
      "[200]\ttrain's binary_logloss: 0.510042\tvalid's binary_logloss: 0.53918\n",
      "Training until validation scores don't improve for 10 rounds\n",
      "[100]\ttrain's binary_logloss: 0.531841\tvalid's binary_logloss: 0.551844\n",
      "[200]\ttrain's binary_logloss: 0.509802\tvalid's binary_logloss: 0.538832\n"
     ]
    },
    {
     "name": "stderr",
     "output_type": "stream",
     "text": [
      "feature_fraction, val_score: 0.523595:  43%|####2     | 3/7 [00:00<00:00,  5.00it/s][I 2023-12-10 10:42:23,049] Trial 2 finished with value: 0.5235954796943127 and parameters: {'feature_fraction': 0.8}. Best is trial 2 with value: 0.5235954796943127.\n",
      "feature_fraction, val_score: 0.523595:  43%|####2     | 3/7 [00:00<00:00,  5.00it/s]"
     ]
    },
    {
     "name": "stdout",
     "output_type": "stream",
     "text": [
      "[300]\ttrain's binary_logloss: 0.493397\tvalid's binary_logloss: 0.529938\n",
      "Early stopping, best iteration is:\n",
      "[383]\ttrain's binary_logloss: 0.482083\tvalid's binary_logloss: 0.523595\n",
      "Training until validation scores don't improve for 10 rounds\n",
      "[100]\ttrain's binary_logloss: 0.532512\tvalid's binary_logloss: 0.554687\n"
     ]
    },
    {
     "name": "stderr",
     "output_type": "stream",
     "text": [
      "feature_fraction, val_score: 0.523595:  57%|#####7    | 4/7 [00:00<00:00,  4.62it/s][I 2023-12-10 10:42:23,292] Trial 3 finished with value: 0.5284264267671666 and parameters: {'feature_fraction': 0.6}. Best is trial 2 with value: 0.5235954796943127.\n",
      "feature_fraction, val_score: 0.523595:  57%|#####7    | 4/7 [00:00<00:00,  4.62it/s]"
     ]
    },
    {
     "name": "stdout",
     "output_type": "stream",
     "text": [
      "[200]\ttrain's binary_logloss: 0.510385\tvalid's binary_logloss: 0.541319\n",
      "[300]\ttrain's binary_logloss: 0.494222\tvalid's binary_logloss: 0.532254\n",
      "Early stopping, best iteration is:\n",
      "[347]\ttrain's binary_logloss: 0.487935\tvalid's binary_logloss: 0.528426\n",
      "Training until validation scores don't improve for 10 rounds\n",
      "[100]\ttrain's binary_logloss: 0.533535\tvalid's binary_logloss: 0.553692\n",
      "[200]\ttrain's binary_logloss: 0.512091\tvalid's binary_logloss: 0.540883\n"
     ]
    },
    {
     "name": "stderr",
     "output_type": "stream",
     "text": [
      "feature_fraction, val_score: 0.523595:  71%|#######1  | 5/7 [00:01<00:00,  4.78it/s][I 2023-12-10 10:42:23,488] Trial 4 finished with value: 0.5299858342490325 and parameters: {'feature_fraction': 0.4}. Best is trial 2 with value: 0.5235954796943127.\n",
      "feature_fraction, val_score: 0.523595:  71%|#######1  | 5/7 [00:01<00:00,  4.78it/s]"
     ]
    },
    {
     "name": "stdout",
     "output_type": "stream",
     "text": [
      "[300]\ttrain's binary_logloss: 0.496276\tvalid's binary_logloss: 0.531595\n",
      "Training until validation scores don't improve for 10 rounds\n",
      "[100]\ttrain's binary_logloss: 0.532385\tvalid's binary_logloss: 0.552793\n",
      "[200]\ttrain's binary_logloss: 0.510562\tvalid's binary_logloss: 0.540908\n",
      "[300]\ttrain's binary_logloss: 0.494127\tvalid's binary_logloss: 0.531372\n"
     ]
    },
    {
     "name": "stderr",
     "output_type": "stream",
     "text": [
      "feature_fraction, val_score: 0.522995:  86%|########5 | 6/7 [00:01<00:00,  4.59it/s][I 2023-12-10 10:42:23,722] Trial 5 finished with value: 0.5229946238715896 and parameters: {'feature_fraction': 0.7}. Best is trial 5 with value: 0.5229946238715896.\n",
      "feature_fraction, val_score: 0.522995:  86%|########5 | 6/7 [00:01<00:00,  4.59it/s]"
     ]
    },
    {
     "name": "stdout",
     "output_type": "stream",
     "text": [
      "[400]\ttrain's binary_logloss: 0.480492\tvalid's binary_logloss: 0.524364\n",
      "Training until validation scores don't improve for 10 rounds\n",
      "[100]\ttrain's binary_logloss: 0.531434\tvalid's binary_logloss: 0.552718\n",
      "[200]\ttrain's binary_logloss: 0.5098\tvalid's binary_logloss: 0.53993\n",
      "[300]\ttrain's binary_logloss: 0.493289\tvalid's binary_logloss: 0.531325\n",
      "Early stopping, best iteration is:\n",
      "[293]\ttrain's binary_logloss: 0.49418\tvalid's binary_logloss: 0.531274\n"
     ]
    },
    {
     "name": "stderr",
     "output_type": "stream",
     "text": [
      "feature_fraction, val_score: 0.522995: 100%|##########| 7/7 [00:01<00:00,  4.90it/s][I 2023-12-10 10:42:23,898] Trial 6 finished with value: 0.5312740081830286 and parameters: {'feature_fraction': 1.0}. Best is trial 5 with value: 0.5229946238715896.\n",
      "feature_fraction, val_score: 0.522995: 100%|##########| 7/7 [00:01<00:00,  4.81it/s]\n",
      "num_leaves, val_score: 0.522995:   0%|          | 0/20 [00:00<?, ?it/s]"
     ]
    },
    {
     "name": "stdout",
     "output_type": "stream",
     "text": [
      "Training until validation scores don't improve for 10 rounds\n"
     ]
    },
    {
     "name": "stderr",
     "output_type": "stream",
     "text": [
      "num_leaves, val_score: 0.345588:   5%|5         | 1/20 [00:00<00:08,  2.17it/s][I 2023-12-10 10:42:24,364] Trial 7 finished with value: 0.3455875050592666 and parameters: {'num_leaves': 96}. Best is trial 7 with value: 0.3455875050592666.\n",
      "num_leaves, val_score: 0.345588:   5%|5         | 1/20 [00:00<00:08,  2.17it/s]"
     ]
    },
    {
     "name": "stdout",
     "output_type": "stream",
     "text": [
      "[100]\ttrain's binary_logloss: 0.0822726\tvalid's binary_logloss: 0.348612\n",
      "Early stopping, best iteration is:\n",
      "[118]\ttrain's binary_logloss: 0.0618138\tvalid's binary_logloss: 0.345588\n",
      "Training until validation scores don't improve for 10 rounds\n"
     ]
    },
    {
     "name": "stderr",
     "output_type": "stream",
     "text": [
      "num_leaves, val_score: 0.345588:  10%|#         | 2/20 [00:00<00:07,  2.48it/s][I 2023-12-10 10:42:24,727] Trial 8 finished with value: 0.36650213046850033 and parameters: {'num_leaves': 37}. Best is trial 7 with value: 0.3455875050592666.\n",
      "num_leaves, val_score: 0.345588:  10%|#         | 2/20 [00:00<00:07,  2.48it/s]"
     ]
    },
    {
     "name": "stdout",
     "output_type": "stream",
     "text": [
      "[100]\ttrain's binary_logloss: 0.245826\tvalid's binary_logloss: 0.410193\n",
      "[200]\ttrain's binary_logloss: 0.129484\tvalid's binary_logloss: 0.367757\n",
      "Early stopping, best iteration is:\n",
      "[203]\ttrain's binary_logloss: 0.127051\tvalid's binary_logloss: 0.366502\n",
      "Training until validation scores don't improve for 10 rounds\n",
      "[100]\ttrain's binary_logloss: 0.381935\tvalid's binary_logloss: 0.475529\n",
      "[200]\ttrain's binary_logloss: 0.284809\tvalid's binary_logloss: 0.435057\n",
      "[300]\ttrain's binary_logloss: 0.217602\tvalid's binary_logloss: 0.405396\n",
      "Early stopping, best iteration is:\n",
      "[344]\ttrain's binary_logloss: 0.194816\tvalid's binary_logloss: 0.395297\n"
     ]
    },
    {
     "name": "stderr",
     "output_type": "stream",
     "text": [
      "num_leaves, val_score: 0.345588:  15%|#5        | 3/20 [00:01<00:06,  2.60it/s][I 2023-12-10 10:42:25,090] Trial 9 finished with value: 0.3952974178420595 and parameters: {'num_leaves': 16}. Best is trial 7 with value: 0.3455875050592666.\n",
      "num_leaves, val_score: 0.345588:  15%|#5        | 3/20 [00:01<00:06,  2.60it/s]"
     ]
    },
    {
     "name": "stdout",
     "output_type": "stream",
     "text": [
      "Training until validation scores don't improve for 10 rounds\n"
     ]
    },
    {
     "name": "stderr",
     "output_type": "stream",
     "text": [
      "num_leaves, val_score: 0.345588:  20%|##        | 4/20 [00:01<00:06,  2.42it/s][I 2023-12-10 10:42:25,548] Trial 10 finished with value: 0.3530022228526885 and parameters: {'num_leaves': 214}. Best is trial 7 with value: 0.3455875050592666.\n",
      "num_leaves, val_score: 0.345588:  20%|##        | 4/20 [00:01<00:06,  2.42it/s]"
     ]
    },
    {
     "name": "stdout",
     "output_type": "stream",
     "text": [
      "Early stopping, best iteration is:\n",
      "[53]\ttrain's binary_logloss: 0.0730952\tvalid's binary_logloss: 0.353002\n",
      "Training until validation scores don't improve for 10 rounds\n"
     ]
    },
    {
     "name": "stderr",
     "output_type": "stream",
     "text": [
      "num_leaves, val_score: 0.344542:  25%|##5       | 5/20 [00:02<00:08,  1.84it/s][I 2023-12-10 10:42:26,323] Trial 11 finished with value: 0.344541837190321 and parameters: {'num_leaves': 233}. Best is trial 11 with value: 0.344541837190321.\n",
      "num_leaves, val_score: 0.344542:  25%|##5       | 5/20 [00:02<00:08,  1.84it/s]"
     ]
    },
    {
     "name": "stdout",
     "output_type": "stream",
     "text": [
      "Training until validation scores don't improve for 10 rounds\n"
     ]
    },
    {
     "name": "stderr",
     "output_type": "stream",
     "text": [
      "num_leaves, val_score: 0.344542:  30%|###       | 6/20 [00:02<00:07,  1.91it/s][I 2023-12-10 10:42:26,810] Trial 12 finished with value: 0.3536831367757307 and parameters: {'num_leaves': 145}. Best is trial 11 with value: 0.344541837190321.\n",
      "num_leaves, val_score: 0.344542:  30%|###       | 6/20 [00:02<00:07,  1.91it/s]"
     ]
    },
    {
     "name": "stdout",
     "output_type": "stream",
     "text": [
      "Early stopping, best iteration is:\n",
      "[74]\ttrain's binary_logloss: 0.0690035\tvalid's binary_logloss: 0.353683\n",
      "Training until validation scores don't improve for 10 rounds\n"
     ]
    },
    {
     "name": "stderr",
     "output_type": "stream",
     "text": [
      "num_leaves, val_score: 0.341809:  35%|###5      | 7/20 [00:03<00:07,  1.86it/s][I 2023-12-10 10:42:27,378] Trial 13 finished with value: 0.3418088635661732 and parameters: {'num_leaves': 255}. Best is trial 13 with value: 0.3418088635661732.\n",
      "num_leaves, val_score: 0.341809:  35%|###5      | 7/20 [00:03<00:07,  1.86it/s]"
     ]
    },
    {
     "name": "stdout",
     "output_type": "stream",
     "text": [
      "Early stopping, best iteration is:\n",
      "[55]\ttrain's binary_logloss: 0.0605829\tvalid's binary_logloss: 0.341809\n",
      "Training until validation scores don't improve for 10 rounds\n"
     ]
    },
    {
     "name": "stderr",
     "output_type": "stream",
     "text": [
      "num_leaves, val_score: 0.341809:  40%|####      | 8/20 [00:04<00:06,  1.82it/s][I 2023-12-10 10:42:27,949] Trial 14 finished with value: 0.341885242803006 and parameters: {'num_leaves': 254}. Best is trial 13 with value: 0.3418088635661732.\n",
      "num_leaves, val_score: 0.341809:  40%|####      | 8/20 [00:04<00:06,  1.82it/s]"
     ]
    },
    {
     "name": "stdout",
     "output_type": "stream",
     "text": [
      "Early stopping, best iteration is:\n",
      "[57]\ttrain's binary_logloss: 0.0564525\tvalid's binary_logloss: 0.341885\n",
      "Training until validation scores don't improve for 10 rounds\n"
     ]
    },
    {
     "name": "stderr",
     "output_type": "stream",
     "text": [
      "num_leaves, val_score: 0.340421:  45%|####5     | 9/20 [00:04<00:05,  1.90it/s][I 2023-12-10 10:42:28,424] Trial 15 finished with value: 0.34042084415457124 and parameters: {'num_leaves': 253}. Best is trial 15 with value: 0.34042084415457124.\n",
      "num_leaves, val_score: 0.340421:  45%|####5     | 9/20 [00:04<00:05,  1.90it/s]"
     ]
    },
    {
     "name": "stdout",
     "output_type": "stream",
     "text": [
      "Training until validation scores don't improve for 10 rounds\n"
     ]
    },
    {
     "name": "stderr",
     "output_type": "stream",
     "text": [
      "num_leaves, val_score: 0.340421:  50%|#####     | 10/20 [00:04<00:04,  2.02it/s][I 2023-12-10 10:42:28,848] Trial 16 finished with value: 0.35057491399034424 and parameters: {'num_leaves': 177}. Best is trial 15 with value: 0.34042084415457124.\n",
      "num_leaves, val_score: 0.340421:  50%|#####     | 10/20 [00:04<00:04,  2.02it/s]"
     ]
    },
    {
     "name": "stdout",
     "output_type": "stream",
     "text": [
      "Training until validation scores don't improve for 10 rounds\n"
     ]
    },
    {
     "name": "stderr",
     "output_type": "stream",
     "text": [
      "num_leaves, val_score: 0.340421:  55%|#####5    | 11/20 [00:05<00:04,  2.09it/s][I 2023-12-10 10:42:29,289] Trial 17 finished with value: 0.35332766296366996 and parameters: {'num_leaves': 187}. Best is trial 15 with value: 0.34042084415457124.\n",
      "num_leaves, val_score: 0.340421:  55%|#####5    | 11/20 [00:05<00:04,  2.09it/s]"
     ]
    },
    {
     "name": "stdout",
     "output_type": "stream",
     "text": [
      "Training until validation scores don't improve for 10 rounds\n"
     ]
    },
    {
     "name": "stderr",
     "output_type": "stream",
     "text": [
      "num_leaves, val_score: 0.340421:  60%|######    | 12/20 [00:05<00:03,  2.17it/s][I 2023-12-10 10:42:29,710] Trial 18 finished with value: 0.3491486930036912 and parameters: {'num_leaves': 251}. Best is trial 15 with value: 0.34042084415457124.\n",
      "num_leaves, val_score: 0.340421:  60%|######    | 12/20 [00:05<00:03,  2.17it/s]"
     ]
    },
    {
     "name": "stdout",
     "output_type": "stream",
     "text": [
      "Early stopping, best iteration is:\n",
      "[48]\ttrain's binary_logloss: 0.0789627\tvalid's binary_logloss: 0.349149\n",
      "Training until validation scores don't improve for 10 rounds\n"
     ]
    },
    {
     "name": "stderr",
     "output_type": "stream",
     "text": [
      "num_leaves, val_score: 0.340421:  65%|######5   | 13/20 [00:06<00:03,  2.24it/s][I 2023-12-10 10:42:30,122] Trial 19 finished with value: 0.34653749046280946 and parameters: {'num_leaves': 100}. Best is trial 15 with value: 0.34042084415457124.\n",
      "num_leaves, val_score: 0.340421:  65%|######5   | 13/20 [00:06<00:03,  2.24it/s]"
     ]
    },
    {
     "name": "stdout",
     "output_type": "stream",
     "text": [
      "[100]\ttrain's binary_logloss: 0.0784544\tvalid's binary_logloss: 0.349527\n",
      "Early stopping, best iteration is:\n",
      "[114]\ttrain's binary_logloss: 0.0627518\tvalid's binary_logloss: 0.346537\n",
      "Training until validation scores don't improve for 10 rounds\n"
     ]
    },
    {
     "name": "stderr",
     "output_type": "stream",
     "text": [
      "num_leaves, val_score: 0.340421:  70%|#######   | 14/20 [00:06<00:02,  2.15it/s][I 2023-12-10 10:42:30,632] Trial 20 finished with value: 0.343762428534038 and parameters: {'num_leaves': 199}. Best is trial 15 with value: 0.34042084415457124.\n",
      "num_leaves, val_score: 0.340421:  70%|#######   | 14/20 [00:06<00:02,  2.15it/s]"
     ]
    },
    {
     "name": "stdout",
     "output_type": "stream",
     "text": [
      "Training until validation scores don't improve for 10 rounds\n"
     ]
    },
    {
     "name": "stderr",
     "output_type": "stream",
     "text": [
      "num_leaves, val_score: 0.340421:  75%|#######5  | 15/20 [00:07<00:02,  2.14it/s][I 2023-12-10 10:42:31,103] Trial 21 finished with value: 0.3418088635661732 and parameters: {'num_leaves': 255}. Best is trial 15 with value: 0.34042084415457124.\n",
      "num_leaves, val_score: 0.340421:  75%|#######5  | 15/20 [00:07<00:02,  2.14it/s]"
     ]
    },
    {
     "name": "stdout",
     "output_type": "stream",
     "text": [
      "Training until validation scores don't improve for 10 rounds\n"
     ]
    },
    {
     "name": "stderr",
     "output_type": "stream",
     "text": [
      "num_leaves, val_score: 0.340421:  80%|########  | 16/20 [00:07<00:01,  2.24it/s][I 2023-12-10 10:42:31,503] Trial 22 finished with value: 0.34703019702261834 and parameters: {'num_leaves': 224}. Best is trial 15 with value: 0.34042084415457124.\n",
      "num_leaves, val_score: 0.340421:  80%|########  | 16/20 [00:07<00:01,  2.24it/s]"
     ]
    },
    {
     "name": "stdout",
     "output_type": "stream",
     "text": [
      "Early stopping, best iteration is:\n",
      "[53]\ttrain's binary_logloss: 0.070791\tvalid's binary_logloss: 0.34703\n",
      "Training until validation scores don't improve for 10 rounds\n"
     ]
    },
    {
     "name": "stderr",
     "output_type": "stream",
     "text": [
      "num_leaves, val_score: 0.340421:  85%|########5 | 17/20 [00:08<00:01,  2.30it/s][I 2023-12-10 10:42:31,906] Trial 23 finished with value: 0.34607573337816266 and parameters: {'num_leaves': 256}. Best is trial 15 with value: 0.34042084415457124.\n",
      "num_leaves, val_score: 0.340421:  85%|########5 | 17/20 [00:08<00:01,  2.30it/s]"
     ]
    },
    {
     "name": "stdout",
     "output_type": "stream",
     "text": [
      "Early stopping, best iteration is:\n",
      "[46]\ttrain's binary_logloss: 0.0857136\tvalid's binary_logloss: 0.346076\n",
      "Training until validation scores don't improve for 10 rounds\n"
     ]
    },
    {
     "name": "stderr",
     "output_type": "stream",
     "text": [
      "num_leaves, val_score: 0.340421:  90%|######### | 18/20 [00:08<00:00,  2.34it/s][I 2023-12-10 10:42:32,320] Trial 24 finished with value: 0.3495493044798033 and parameters: {'num_leaves': 166}. Best is trial 15 with value: 0.34042084415457124.\n",
      "num_leaves, val_score: 0.340421:  90%|######### | 18/20 [00:08<00:00,  2.34it/s]"
     ]
    },
    {
     "name": "stdout",
     "output_type": "stream",
     "text": [
      "Training until validation scores don't improve for 10 rounds\n"
     ]
    },
    {
     "name": "stderr",
     "output_type": "stream",
     "text": [
      "num_leaves, val_score: 0.340421:  95%|#########5| 19/20 [00:08<00:00,  2.28it/s][I 2023-12-10 10:42:32,787] Trial 25 finished with value: 0.35066735121610687 and parameters: {'num_leaves': 221}. Best is trial 15 with value: 0.34042084415457124.\n",
      "num_leaves, val_score: 0.340421:  95%|#########5| 19/20 [00:08<00:00,  2.28it/s]"
     ]
    },
    {
     "name": "stdout",
     "output_type": "stream",
     "text": [
      "Training until validation scores don't improve for 10 rounds\n"
     ]
    },
    {
     "name": "stderr",
     "output_type": "stream",
     "text": [
      "num_leaves, val_score: 0.340421: 100%|##########| 20/20 [00:09<00:00,  2.29it/s][I 2023-12-10 10:42:33,217] Trial 26 finished with value: 0.35499511647556986 and parameters: {'num_leaves': 232}. Best is trial 15 with value: 0.34042084415457124.\n",
      "num_leaves, val_score: 0.340421: 100%|##########| 20/20 [00:09<00:00,  2.15it/s]\n"
     ]
    },
    {
     "name": "stdout",
     "output_type": "stream",
     "text": [
      "Early stopping, best iteration is:\n",
      "[54]\ttrain's binary_logloss: 0.0667755\tvalid's binary_logloss: 0.354995\n"
     ]
    },
    {
     "name": "stderr",
     "output_type": "stream",
     "text": [
      "bagging, val_score: 0.340421:   0%|          | 0/10 [00:00<?, ?it/s]"
     ]
    },
    {
     "name": "stdout",
     "output_type": "stream",
     "text": [
      "Training until validation scores don't improve for 10 rounds\n"
     ]
    },
    {
     "name": "stderr",
     "output_type": "stream",
     "text": [
      "bagging, val_score: 0.340421:  10%|#         | 1/10 [00:00<00:04,  1.83it/s][I 2023-12-10 10:42:33,769] Trial 27 finished with value: 0.3609599640558946 and parameters: {'bagging_fraction': 0.45096539071446884, 'bagging_freq': 6}. Best is trial 27 with value: 0.3609599640558946.\n",
      "bagging, val_score: 0.340421:  10%|#         | 1/10 [00:00<00:04,  1.83it/s]"
     ]
    },
    {
     "name": "stdout",
     "output_type": "stream",
     "text": [
      "Training until validation scores don't improve for 10 rounds\n"
     ]
    },
    {
     "name": "stderr",
     "output_type": "stream",
     "text": [
      "bagging, val_score: 0.340421:  20%|##        | 2/10 [00:01<00:04,  1.99it/s][I 2023-12-10 10:42:34,240] Trial 28 finished with value: 0.34456289440100674 and parameters: {'bagging_fraction': 0.9655021094122507, 'bagging_freq': 1}. Best is trial 28 with value: 0.34456289440100674.\n",
      "bagging, val_score: 0.340421:  20%|##        | 2/10 [00:01<00:04,  1.99it/s]"
     ]
    },
    {
     "name": "stdout",
     "output_type": "stream",
     "text": [
      "Training until validation scores don't improve for 10 rounds\n"
     ]
    },
    {
     "name": "stderr",
     "output_type": "stream",
     "text": [
      "bagging, val_score: 0.340421:  30%|###       | 3/10 [00:01<00:03,  2.15it/s][I 2023-12-10 10:42:34,659] Trial 29 finished with value: 0.35099027104580344 and parameters: {'bagging_fraction': 0.4053638214568018, 'bagging_freq': 2}. Best is trial 28 with value: 0.34456289440100674.\n",
      "bagging, val_score: 0.340421:  30%|###       | 3/10 [00:01<00:03,  2.15it/s]"
     ]
    },
    {
     "name": "stdout",
     "output_type": "stream",
     "text": [
      "Training until validation scores don't improve for 10 rounds\n"
     ]
    },
    {
     "name": "stderr",
     "output_type": "stream",
     "text": [
      "bagging, val_score: 0.337796:  40%|####      | 4/10 [00:01<00:03,  1.99it/s][I 2023-12-10 10:42:35,217] Trial 30 finished with value: 0.3377956867372028 and parameters: {'bagging_fraction': 0.7954459105735769, 'bagging_freq': 7}. Best is trial 30 with value: 0.3377956867372028.\n",
      "bagging, val_score: 0.337796:  40%|####      | 4/10 [00:01<00:03,  1.99it/s]"
     ]
    },
    {
     "name": "stdout",
     "output_type": "stream",
     "text": [
      "Training until validation scores don't improve for 10 rounds\n"
     ]
    },
    {
     "name": "stderr",
     "output_type": "stream",
     "text": [
      "bagging, val_score: 0.337742:  50%|#####     | 5/10 [00:02<00:02,  1.86it/s][I 2023-12-10 10:42:35,817] Trial 31 finished with value: 0.33774200677783245 and parameters: {'bagging_fraction': 0.7923229900881434, 'bagging_freq': 7}. Best is trial 31 with value: 0.33774200677783245.\n",
      "bagging, val_score: 0.337742:  50%|#####     | 5/10 [00:02<00:02,  1.86it/s]"
     ]
    },
    {
     "name": "stdout",
     "output_type": "stream",
     "text": [
      "Training until validation scores don't improve for 10 rounds\n"
     ]
    },
    {
     "name": "stderr",
     "output_type": "stream",
     "text": [
      "bagging, val_score: 0.337742:  60%|######    | 6/10 [00:03<00:02,  1.93it/s][I 2023-12-10 10:42:36,300] Trial 32 finished with value: 0.340143659038331 and parameters: {'bagging_fraction': 0.7860869463337785, 'bagging_freq': 7}. Best is trial 31 with value: 0.33774200677783245.\n",
      "bagging, val_score: 0.337742:  60%|######    | 6/10 [00:03<00:02,  1.93it/s]"
     ]
    },
    {
     "name": "stdout",
     "output_type": "stream",
     "text": [
      "Early stopping, best iteration is:\n",
      "[59]\ttrain's binary_logloss: 0.0823769\tvalid's binary_logloss: 0.340144\n",
      "Training until validation scores don't improve for 10 rounds\n"
     ]
    },
    {
     "name": "stderr",
     "output_type": "stream",
     "text": [
      "bagging, val_score: 0.337742:  70%|#######   | 7/10 [00:03<00:01,  1.80it/s][I 2023-12-10 10:42:36,928] Trial 33 finished with value: 0.3393555983235165 and parameters: {'bagging_fraction': 0.8075468063125402, 'bagging_freq': 7}. Best is trial 31 with value: 0.33774200677783245.\n",
      "bagging, val_score: 0.337742:  70%|#######   | 7/10 [00:03<00:01,  1.80it/s]"
     ]
    },
    {
     "name": "stdout",
     "output_type": "stream",
     "text": [
      "Early stopping, best iteration is:\n",
      "[69]\ttrain's binary_logloss: 0.0568679\tvalid's binary_logloss: 0.339356\n",
      "Training until validation scores don't improve for 10 rounds\n"
     ]
    },
    {
     "name": "stderr",
     "output_type": "stream",
     "text": [
      "bagging, val_score: 0.337742:  80%|########  | 8/10 [00:04<00:01,  1.82it/s][I 2023-12-10 10:42:37,470] Trial 34 finished with value: 0.3408007858247662 and parameters: {'bagging_fraction': 0.7965959547854115, 'bagging_freq': 7}. Best is trial 31 with value: 0.33774200677783245.\n",
      "bagging, val_score: 0.337742:  80%|########  | 8/10 [00:04<00:01,  1.82it/s]"
     ]
    },
    {
     "name": "stdout",
     "output_type": "stream",
     "text": [
      "Early stopping, best iteration is:\n",
      "[59]\ttrain's binary_logloss: 0.0807451\tvalid's binary_logloss: 0.340801\n",
      "Training until validation scores don't improve for 10 rounds\n"
     ]
    },
    {
     "name": "stderr",
     "output_type": "stream",
     "text": [
      "bagging, val_score: 0.337742:  90%|######### | 9/10 [00:04<00:00,  1.76it/s][I 2023-12-10 10:42:38,082] Trial 35 finished with value: 0.3437248777253575 and parameters: {'bagging_fraction': 0.7870950647494328, 'bagging_freq': 7}. Best is trial 31 with value: 0.33774200677783245.\n",
      "bagging, val_score: 0.337742:  90%|######### | 9/10 [00:04<00:00,  1.76it/s]"
     ]
    },
    {
     "name": "stdout",
     "output_type": "stream",
     "text": [
      "Training until validation scores don't improve for 10 rounds\n"
     ]
    },
    {
     "name": "stderr",
     "output_type": "stream",
     "text": [
      "bagging, val_score: 0.335725: 100%|##########| 10/10 [00:05<00:00,  1.61it/s][I 2023-12-10 10:42:38,819] Trial 36 finished with value: 0.3357248975425782 and parameters: {'bagging_fraction': 0.7913444917044999, 'bagging_freq': 7}. Best is trial 36 with value: 0.3357248975425782.\n",
      "bagging, val_score: 0.335725: 100%|##########| 10/10 [00:05<00:00,  1.79it/s]\n",
      "feature_fraction_stage2, val_score: 0.335725:   0%|          | 0/6 [00:00<?, ?it/s]"
     ]
    },
    {
     "name": "stdout",
     "output_type": "stream",
     "text": [
      "Training until validation scores don't improve for 10 rounds\n"
     ]
    },
    {
     "name": "stderr",
     "output_type": "stream",
     "text": [
      "feature_fraction_stage2, val_score: 0.335725:  17%|#6        | 1/6 [00:00<00:02,  2.02it/s][I 2023-12-10 10:42:39,319] Trial 37 finished with value: 0.34182175219283245 and parameters: {'feature_fraction': 0.716}. Best is trial 37 with value: 0.34182175219283245.\n",
      "feature_fraction_stage2, val_score: 0.335725:  17%|#6        | 1/6 [00:00<00:02,  2.02it/s]"
     ]
    },
    {
     "name": "stdout",
     "output_type": "stream",
     "text": [
      "Early stopping, best iteration is:\n",
      "[58]\ttrain's binary_logloss: 0.0828006\tvalid's binary_logloss: 0.341822\n",
      "Training until validation scores don't improve for 10 rounds\n"
     ]
    },
    {
     "name": "stderr",
     "output_type": "stream",
     "text": [
      "feature_fraction_stage2, val_score: 0.335725:  33%|###3      | 2/6 [00:01<00:02,  1.87it/s][I 2023-12-10 10:42:39,884] Trial 38 finished with value: 0.350040885647397 and parameters: {'feature_fraction': 0.7799999999999999}. Best is trial 37 with value: 0.34182175219283245.\n",
      "feature_fraction_stage2, val_score: 0.335725:  33%|###3      | 2/6 [00:01<00:02,  1.87it/s]"
     ]
    },
    {
     "name": "stdout",
     "output_type": "stream",
     "text": [
      "Early stopping, best iteration is:\n",
      "[57]\ttrain's binary_logloss: 0.0849426\tvalid's binary_logloss: 0.350041\n",
      "Training until validation scores don't improve for 10 rounds\n"
     ]
    },
    {
     "name": "stderr",
     "output_type": "stream",
     "text": [
      "feature_fraction_stage2, val_score: 0.335725:  50%|#####     | 3/6 [00:01<00:01,  1.86it/s][I 2023-12-10 10:42:40,421] Trial 39 finished with value: 0.3362191574142695 and parameters: {'feature_fraction': 0.748}. Best is trial 39 with value: 0.3362191574142695.\n",
      "feature_fraction_stage2, val_score: 0.335725:  50%|#####     | 3/6 [00:01<00:01,  1.86it/s]"
     ]
    },
    {
     "name": "stdout",
     "output_type": "stream",
     "text": [
      "Training until validation scores don't improve for 10 rounds\n"
     ]
    },
    {
     "name": "stderr",
     "output_type": "stream",
     "text": [
      "feature_fraction_stage2, val_score: 0.335725:  67%|######6   | 4/6 [00:02<00:01,  1.95it/s][I 2023-12-10 10:42:40,898] Trial 40 finished with value: 0.3384560437007809 and parameters: {'feature_fraction': 0.652}. Best is trial 39 with value: 0.3362191574142695.\n",
      "feature_fraction_stage2, val_score: 0.335725:  67%|######6   | 4/6 [00:02<00:01,  1.95it/s]"
     ]
    },
    {
     "name": "stdout",
     "output_type": "stream",
     "text": [
      "Training until validation scores don't improve for 10 rounds\n"
     ]
    },
    {
     "name": "stderr",
     "output_type": "stream",
     "text": [
      "feature_fraction_stage2, val_score: 0.334969:  83%|########3 | 5/6 [00:02<00:00,  1.88it/s][I 2023-12-10 10:42:41,463] Trial 41 finished with value: 0.3349688730583402 and parameters: {'feature_fraction': 0.62}. Best is trial 41 with value: 0.3349688730583402.\n",
      "feature_fraction_stage2, val_score: 0.334969:  83%|########3 | 5/6 [00:02<00:00,  1.88it/s]"
     ]
    },
    {
     "name": "stdout",
     "output_type": "stream",
     "text": [
      "Early stopping, best iteration is:\n",
      "[67]\ttrain's binary_logloss: 0.0661864\tvalid's binary_logloss: 0.334969\n",
      "Training until validation scores don't improve for 10 rounds\n"
     ]
    },
    {
     "name": "stderr",
     "output_type": "stream",
     "text": [
      "feature_fraction_stage2, val_score: 0.334969: 100%|##########| 6/6 [00:03<00:00,  1.73it/s][I 2023-12-10 10:42:42,136] Trial 42 finished with value: 0.3357248975425782 and parameters: {'feature_fraction': 0.6839999999999999}. Best is trial 41 with value: 0.3349688730583402.\n",
      "feature_fraction_stage2, val_score: 0.334969: 100%|##########| 6/6 [00:03<00:00,  1.81it/s]\n"
     ]
    },
    {
     "name": "stdout",
     "output_type": "stream",
     "text": [
      "Early stopping, best iteration is:\n",
      "[66]\ttrain's binary_logloss: 0.065862\tvalid's binary_logloss: 0.335725\n"
     ]
    },
    {
     "name": "stderr",
     "output_type": "stream",
     "text": [
      "regularization_factors, val_score: 0.334969:   0%|          | 0/20 [00:00<?, ?it/s]"
     ]
    },
    {
     "name": "stdout",
     "output_type": "stream",
     "text": [
      "Training until validation scores don't improve for 10 rounds\n",
      "[100]\ttrain's binary_logloss: 0.189412\tvalid's binary_logloss: 0.379393\n",
      "[200]\ttrain's binary_logloss: 0.119308\tvalid's binary_logloss: 0.359867\n"
     ]
    },
    {
     "name": "stderr",
     "output_type": "stream",
     "text": [
      "regularization_factors, val_score: 0.334969:   5%|5         | 1/20 [00:00<00:12,  1.47it/s][I 2023-12-10 10:42:42,823] Trial 43 finished with value: 0.3593797996133909 and parameters: {'lambda_l1': 3.7759977159544453, 'lambda_l2': 1.7056045366464585}. Best is trial 43 with value: 0.3593797996133909.\n",
      "regularization_factors, val_score: 0.334969:   5%|5         | 1/20 [00:00<00:12,  1.47it/s]"
     ]
    },
    {
     "name": "stdout",
     "output_type": "stream",
     "text": [
      "Training until validation scores don't improve for 10 rounds\n"
     ]
    },
    {
     "name": "stderr",
     "output_type": "stream",
     "text": [
      "regularization_factors, val_score: 0.334969:  10%|#         | 2/20 [00:01<00:12,  1.48it/s][I 2023-12-10 10:42:43,491] Trial 44 finished with value: 0.33938511224394025 and parameters: {'lambda_l1': 5.244082253086263e-08, 'lambda_l2': 3.559796392559395e-08}. Best is trial 44 with value: 0.33938511224394025.\n",
      "regularization_factors, val_score: 0.334969:  10%|#         | 2/20 [00:01<00:12,  1.48it/s]"
     ]
    },
    {
     "name": "stdout",
     "output_type": "stream",
     "text": [
      "Training until validation scores don't improve for 10 rounds\n"
     ]
    },
    {
     "name": "stderr",
     "output_type": "stream",
     "text": [
      "regularization_factors, val_score: 0.334969:  15%|#5        | 3/20 [00:01<00:10,  1.61it/s][I 2023-12-10 10:42:44,052] Trial 45 finished with value: 0.3407051265897199 and parameters: {'lambda_l1': 0.0004661810426060552, 'lambda_l2': 0.00019705184990826525}. Best is trial 44 with value: 0.33938511224394025.\n",
      "regularization_factors, val_score: 0.334969:  15%|#5        | 3/20 [00:01<00:10,  1.61it/s]"
     ]
    },
    {
     "name": "stdout",
     "output_type": "stream",
     "text": [
      "Training until validation scores don't improve for 10 rounds\n",
      "[100]\ttrain's binary_logloss: 0.11086\tvalid's binary_logloss: 0.345744\n"
     ]
    },
    {
     "name": "stderr",
     "output_type": "stream",
     "text": [
      "regularization_factors, val_score: 0.334969:  20%|##        | 4/20 [00:02<00:11,  1.42it/s][I 2023-12-10 10:42:44,886] Trial 46 finished with value: 0.34249898695517045 and parameters: {'lambda_l1': 1.7282967153024575e-08, 'lambda_l2': 4.6279914773057955}. Best is trial 44 with value: 0.33938511224394025.\n",
      "regularization_factors, val_score: 0.334969:  20%|##        | 4/20 [00:02<00:11,  1.42it/s]"
     ]
    },
    {
     "name": "stdout",
     "output_type": "stream",
     "text": [
      "Training until validation scores don't improve for 10 rounds\n"
     ]
    },
    {
     "name": "stderr",
     "output_type": "stream",
     "text": [
      "regularization_factors, val_score: 0.334969:  25%|##5       | 5/20 [00:03<00:09,  1.56it/s][I 2023-12-10 10:42:45,408] Trial 47 finished with value: 0.3728603107515647 and parameters: {'lambda_l1': 5.026647903590035, 'lambda_l2': 2.3132125126086213e-07}. Best is trial 44 with value: 0.33938511224394025.\n",
      "regularization_factors, val_score: 0.334969:  25%|##5       | 5/20 [00:03<00:09,  1.56it/s]"
     ]
    },
    {
     "name": "stdout",
     "output_type": "stream",
     "text": [
      "[100]\ttrain's binary_logloss: 0.205835\tvalid's binary_logloss: 0.384898\n",
      "Early stopping, best iteration is:\n",
      "[140]\ttrain's binary_logloss: 0.171152\tvalid's binary_logloss: 0.37286\n",
      "Training until validation scores don't improve for 10 rounds\n"
     ]
    },
    {
     "name": "stderr",
     "output_type": "stream",
     "text": [
      "regularization_factors, val_score: 0.334969:  30%|###       | 6/20 [00:03<00:08,  1.56it/s][I 2023-12-10 10:42:46,052] Trial 48 finished with value: 0.3396149320209844 and parameters: {'lambda_l1': 0.00019433561228014557, 'lambda_l2': 0.001694455866993087}. Best is trial 44 with value: 0.33938511224394025.\n",
      "regularization_factors, val_score: 0.334969:  30%|###       | 6/20 [00:03<00:08,  1.56it/s]"
     ]
    },
    {
     "name": "stdout",
     "output_type": "stream",
     "text": [
      "Early stopping, best iteration is:\n",
      "[64]\ttrain's binary_logloss: 0.0721109\tvalid's binary_logloss: 0.339615\n",
      "Training until validation scores don't improve for 10 rounds\n"
     ]
    },
    {
     "name": "stderr",
     "output_type": "stream",
     "text": [
      "regularization_factors, val_score: 0.334969:  35%|###5      | 7/20 [00:04<00:08,  1.59it/s][I 2023-12-10 10:42:46,653] Trial 49 finished with value: 0.34009163073055515 and parameters: {'lambda_l1': 0.0065779092460196585, 'lambda_l2': 2.864557674138414e-05}. Best is trial 44 with value: 0.33938511224394025.\n",
      "regularization_factors, val_score: 0.334969:  35%|###5      | 7/20 [00:04<00:08,  1.59it/s]"
     ]
    },
    {
     "name": "stdout",
     "output_type": "stream",
     "text": [
      "Early stopping, best iteration is:\n",
      "[74]\ttrain's binary_logloss: 0.0513778\tvalid's binary_logloss: 0.340092\n",
      "Training until validation scores don't improve for 10 rounds\n"
     ]
    },
    {
     "name": "stderr",
     "output_type": "stream",
     "text": [
      "regularization_factors, val_score: 0.334969:  40%|####      | 8/20 [00:04<00:06,  1.77it/s][I 2023-12-10 10:42:47,082] Trial 50 finished with value: 0.338920989808929 and parameters: {'lambda_l1': 1.294893628573047e-06, 'lambda_l2': 0.029347757490221286}. Best is trial 50 with value: 0.338920989808929.\n",
      "regularization_factors, val_score: 0.334969:  40%|####      | 8/20 [00:04<00:06,  1.77it/s]"
     ]
    },
    {
     "name": "stdout",
     "output_type": "stream",
     "text": [
      "Early stopping, best iteration is:\n",
      "[59]\ttrain's binary_logloss: 0.0854337\tvalid's binary_logloss: 0.338921\n",
      "Training until validation scores don't improve for 10 rounds\n"
     ]
    },
    {
     "name": "stderr",
     "output_type": "stream",
     "text": [
      "regularization_factors, val_score: 0.334969:  45%|####5     | 9/20 [00:05<00:06,  1.62it/s][I 2023-12-10 10:42:47,819] Trial 51 finished with value: 0.3386146801780552 and parameters: {'lambda_l1': 0.05861148658405827, 'lambda_l2': 3.0052182735030645e-06}. Best is trial 51 with value: 0.3386146801780552.\n",
      "regularization_factors, val_score: 0.334969:  45%|####5     | 9/20 [00:05<00:06,  1.62it/s]"
     ]
    },
    {
     "name": "stdout",
     "output_type": "stream",
     "text": [
      "Training until validation scores don't improve for 10 rounds\n"
     ]
    },
    {
     "name": "stderr",
     "output_type": "stream",
     "text": [
      "regularization_factors, val_score: 0.333110:  50%|#####     | 10/20 [00:06<00:07,  1.31it/s][I 2023-12-10 10:42:48,908] Trial 52 finished with value: 0.33310994506063635 and parameters: {'lambda_l1': 3.495241179171795e-06, 'lambda_l2': 1.5799040305746324e-08}. Best is trial 52 with value: 0.33310994506063635.\n",
      "regularization_factors, val_score: 0.333110:  50%|#####     | 10/20 [00:06<00:07,  1.31it/s]"
     ]
    },
    {
     "name": "stdout",
     "output_type": "stream",
     "text": [
      "Training until validation scores don't improve for 10 rounds\n"
     ]
    },
    {
     "name": "stderr",
     "output_type": "stream",
     "text": [
      "regularization_factors, val_score: 0.333110:  55%|#####5    | 11/20 [00:07<00:07,  1.25it/s][I 2023-12-10 10:42:49,796] Trial 53 finished with value: 0.3389433504334958 and parameters: {'lambda_l1': 5.008691897833753e-06, 'lambda_l2': 1.0765226278839858e-08}. Best is trial 52 with value: 0.33310994506063635.\n",
      "regularization_factors, val_score: 0.333110:  55%|#####5    | 11/20 [00:07<00:07,  1.25it/s]"
     ]
    },
    {
     "name": "stdout",
     "output_type": "stream",
     "text": [
      "Training until validation scores don't improve for 10 rounds\n"
     ]
    },
    {
     "name": "stderr",
     "output_type": "stream",
     "text": [
      "regularization_factors, val_score: 0.333110:  60%|######    | 12/20 [00:08<00:06,  1.30it/s][I 2023-12-10 10:42:50,490] Trial 54 finished with value: 0.3433937956153601 and parameters: {'lambda_l1': 6.532170040121204e-06, 'lambda_l2': 3.519870570772995e-07}. Best is trial 52 with value: 0.33310994506063635.\n",
      "regularization_factors, val_score: 0.333110:  60%|######    | 12/20 [00:08<00:06,  1.30it/s]"
     ]
    },
    {
     "name": "stdout",
     "output_type": "stream",
     "text": [
      "Early stopping, best iteration is:\n",
      "[63]\ttrain's binary_logloss: 0.0748804\tvalid's binary_logloss: 0.343394\n",
      "Training until validation scores don't improve for 10 rounds\n"
     ]
    },
    {
     "name": "stderr",
     "output_type": "stream",
     "text": [
      "regularization_factors, val_score: 0.331585:  65%|######5   | 13/20 [00:09<00:05,  1.25it/s][I 2023-12-10 10:42:51,354] Trial 55 finished with value: 0.33158532201315677 and parameters: {'lambda_l1': 7.066386126810559e-07, 'lambda_l2': 6.186030020444085e-06}. Best is trial 55 with value: 0.33158532201315677.\n",
      "regularization_factors, val_score: 0.331585:  65%|######5   | 13/20 [00:09<00:05,  1.25it/s]"
     ]
    },
    {
     "name": "stdout",
     "output_type": "stream",
     "text": [
      "Training until validation scores don't improve for 10 rounds\n"
     ]
    },
    {
     "name": "stderr",
     "output_type": "stream",
     "text": [
      "regularization_factors, val_score: 0.331585:  70%|#######   | 14/20 [00:09<00:04,  1.29it/s][I 2023-12-10 10:42:52,067] Trial 56 finished with value: 0.3351797822793264 and parameters: {'lambda_l1': 8.710817482991086e-07, 'lambda_l2': 2.8342575434896655e-06}. Best is trial 55 with value: 0.33158532201315677.\n",
      "regularization_factors, val_score: 0.331585:  70%|#######   | 14/20 [00:09<00:04,  1.29it/s]"
     ]
    },
    {
     "name": "stdout",
     "output_type": "stream",
     "text": [
      "Training until validation scores don't improve for 10 rounds\n"
     ]
    },
    {
     "name": "stderr",
     "output_type": "stream",
     "text": [
      "regularization_factors, val_score: 0.331585:  75%|#######5  | 15/20 [00:10<00:03,  1.33it/s][I 2023-12-10 10:42:52,779] Trial 57 finished with value: 0.3355307004850454 and parameters: {'lambda_l1': 4.863808685885528e-07, 'lambda_l2': 3.217241626445961e-06}. Best is trial 55 with value: 0.33158532201315677.\n",
      "regularization_factors, val_score: 0.331585:  75%|#######5  | 15/20 [00:10<00:03,  1.33it/s]"
     ]
    },
    {
     "name": "stdout",
     "output_type": "stream",
     "text": [
      "Early stopping, best iteration is:\n",
      "[63]\ttrain's binary_logloss: 0.0743206\tvalid's binary_logloss: 0.335531\n",
      "Training until validation scores don't improve for 10 rounds\n"
     ]
    },
    {
     "name": "stderr",
     "output_type": "stream",
     "text": [
      "regularization_factors, val_score: 0.331192:  80%|########  | 16/20 [00:11<00:03,  1.25it/s][I 2023-12-10 10:42:53,675] Trial 58 finished with value: 0.3311917736243663 and parameters: {'lambda_l1': 5.310706043001044e-07, 'lambda_l2': 3.727244668447918e-06}. Best is trial 58 with value: 0.3311917736243663.\n",
      "regularization_factors, val_score: 0.331192:  80%|########  | 16/20 [00:11<00:03,  1.25it/s]"
     ]
    },
    {
     "name": "stdout",
     "output_type": "stream",
     "text": [
      "Early stopping, best iteration is:\n",
      "[66]\ttrain's binary_logloss: 0.0665543\tvalid's binary_logloss: 0.331192\n",
      "Training until validation scores don't improve for 10 rounds\n"
     ]
    },
    {
     "name": "stderr",
     "output_type": "stream",
     "text": [
      "regularization_factors, val_score: 0.329784:  85%|########5 | 17/20 [00:12<00:02,  1.25it/s][I 2023-12-10 10:42:54,489] Trial 59 finished with value: 0.32978437604671074 and parameters: {'lambda_l1': 6.640008840002103e-07, 'lambda_l2': 3.179283433948901e-06}. Best is trial 59 with value: 0.32978437604671074.\n",
      "regularization_factors, val_score: 0.329784:  85%|########5 | 17/20 [00:12<00:02,  1.25it/s]"
     ]
    },
    {
     "name": "stdout",
     "output_type": "stream",
     "text": [
      "Training until validation scores don't improve for 10 rounds\n"
     ]
    },
    {
     "name": "stderr",
     "output_type": "stream",
     "text": [
      "regularization_factors, val_score: 0.329784:  90%|######### | 18/20 [00:13<00:01,  1.29it/s][I 2023-12-10 10:42:55,206] Trial 60 finished with value: 0.33878245463670986 and parameters: {'lambda_l1': 4.073574575195026e-07, 'lambda_l2': 3.3991280404737598e-06}. Best is trial 59 with value: 0.32978437604671074.\n",
      "regularization_factors, val_score: 0.329784:  90%|######### | 18/20 [00:13<00:01,  1.29it/s]"
     ]
    },
    {
     "name": "stdout",
     "output_type": "stream",
     "text": [
      "Early stopping, best iteration is:\n",
      "[66]\ttrain's binary_logloss: 0.0671521\tvalid's binary_logloss: 0.338782\n",
      "Training until validation scores don't improve for 10 rounds\n"
     ]
    },
    {
     "name": "stderr",
     "output_type": "stream",
     "text": [
      "regularization_factors, val_score: 0.329784:  95%|#########5| 19/20 [00:13<00:00,  1.36it/s][I 2023-12-10 10:42:55,846] Trial 61 finished with value: 0.33599686378475474 and parameters: {'lambda_l1': 3.101560495527394e-07, 'lambda_l2': 4.239139934272719e-06}. Best is trial 59 with value: 0.32978437604671074.\n",
      "regularization_factors, val_score: 0.329784:  95%|#########5| 19/20 [00:13<00:00,  1.36it/s]"
     ]
    },
    {
     "name": "stdout",
     "output_type": "stream",
     "text": [
      "Training until validation scores don't improve for 10 rounds\n"
     ]
    },
    {
     "name": "stderr",
     "output_type": "stream",
     "text": [
      "regularization_factors, val_score: 0.329784: 100%|##########| 20/20 [00:14<00:00,  1.26it/s][I 2023-12-10 10:42:56,772] Trial 62 finished with value: 0.3395741166649983 and parameters: {'lambda_l1': 4.566923244836903e-07, 'lambda_l2': 6.080621737186775e-07}. Best is trial 59 with value: 0.32978437604671074.\n",
      "regularization_factors, val_score: 0.329784: 100%|##########| 20/20 [00:14<00:00,  1.37it/s]\n"
     ]
    },
    {
     "name": "stdout",
     "output_type": "stream",
     "text": [
      "Early stopping, best iteration is:\n",
      "[69]\ttrain's binary_logloss: 0.0610983\tvalid's binary_logloss: 0.339574\n"
     ]
    },
    {
     "name": "stderr",
     "output_type": "stream",
     "text": [
      "min_child_samples, val_score: 0.329784:   0%|          | 0/5 [00:00<?, ?it/s]"
     ]
    },
    {
     "name": "stdout",
     "output_type": "stream",
     "text": [
      "Training until validation scores don't improve for 10 rounds\n"
     ]
    },
    {
     "name": "stderr",
     "output_type": "stream",
     "text": [
      "min_child_samples, val_score: 0.329784:  20%|##        | 1/5 [00:00<00:03,  1.24it/s][I 2023-12-10 10:42:57,584] Trial 63 finished with value: 0.33215750534031036 and parameters: {'min_child_samples': 10}. Best is trial 63 with value: 0.33215750534031036.\n",
      "min_child_samples, val_score: 0.329784:  20%|##        | 1/5 [00:00<00:03,  1.24it/s]"
     ]
    },
    {
     "name": "stdout",
     "output_type": "stream",
     "text": [
      "Early stopping, best iteration is:\n",
      "[53]\ttrain's binary_logloss: 0.0605405\tvalid's binary_logloss: 0.332158\n",
      "Training until validation scores don't improve for 10 rounds\n"
     ]
    },
    {
     "name": "stderr",
     "output_type": "stream",
     "text": [
      "min_child_samples, val_score: 0.329784:  40%|####      | 2/5 [00:01<00:02,  1.39it/s][I 2023-12-10 10:42:58,246] Trial 64 finished with value: 0.33541271985122345 and parameters: {'min_child_samples': 5}. Best is trial 63 with value: 0.33215750534031036.\n",
      "min_child_samples, val_score: 0.329784:  40%|####      | 2/5 [00:01<00:02,  1.39it/s]"
     ]
    },
    {
     "name": "stdout",
     "output_type": "stream",
     "text": [
      "Training until validation scores don't improve for 10 rounds\n"
     ]
    },
    {
     "name": "stderr",
     "output_type": "stream",
     "text": [
      "min_child_samples, val_score: 0.329784:  60%|######    | 3/5 [00:02<00:01,  1.44it/s][I 2023-12-10 10:42:58,913] Trial 65 finished with value: 0.3532597482502562 and parameters: {'min_child_samples': 50}. Best is trial 63 with value: 0.33215750534031036.\n",
      "min_child_samples, val_score: 0.329784:  60%|######    | 3/5 [00:02<00:01,  1.44it/s]"
     ]
    },
    {
     "name": "stdout",
     "output_type": "stream",
     "text": [
      "[100]\ttrain's binary_logloss: 0.109434\tvalid's binary_logloss: 0.358255\n",
      "Early stopping, best iteration is:\n",
      "[117]\ttrain's binary_logloss: 0.0839572\tvalid's binary_logloss: 0.35326\n",
      "Training until validation scores don't improve for 10 rounds\n"
     ]
    },
    {
     "name": "stderr",
     "output_type": "stream",
     "text": [
      "min_child_samples, val_score: 0.329784:  80%|########  | 4/5 [00:02<00:00,  1.64it/s][I 2023-12-10 10:42:59,390] Trial 66 finished with value: 0.37875680428812697 and parameters: {'min_child_samples': 100}. Best is trial 63 with value: 0.33215750534031036.\n",
      "min_child_samples, val_score: 0.329784:  80%|########  | 4/5 [00:02<00:00,  1.64it/s]"
     ]
    },
    {
     "name": "stdout",
     "output_type": "stream",
     "text": [
      "[100]\ttrain's binary_logloss: 0.230132\tvalid's binary_logloss: 0.400895\n",
      "Early stopping, best iteration is:\n",
      "[154]\ttrain's binary_logloss: 0.152757\tvalid's binary_logloss: 0.378757\n",
      "Training until validation scores don't improve for 10 rounds\n"
     ]
    },
    {
     "name": "stderr",
     "output_type": "stream",
     "text": [
      "min_child_samples, val_score: 0.329784: 100%|##########| 5/5 [00:03<00:00,  1.39it/s][I 2023-12-10 10:43:00,296] Trial 67 finished with value: 0.3428371321025299 and parameters: {'min_child_samples': 25}. Best is trial 63 with value: 0.33215750534031036.\n",
      "min_child_samples, val_score: 0.329784: 100%|##########| 5/5 [00:03<00:00,  1.42it/s]\n"
     ]
    }
   ],
   "source": [
    "model = lgb.train(params, dtrain,\n",
    "                  valid_names=['train', 'valid'], \n",
    "                  num_boost_round=10000,\n",
    "                  valid_sets=[dtrain, dvalid],\n",
    "                  callbacks=[lgb.early_stopping(stopping_rounds=10, verbose=True),\n",
    "                              lgb.log_evaluation(100)\n",
    "                              ],\n",
    "                 )"
   ]
  },
  {
   "cell_type": "code",
   "execution_count": 7,
   "metadata": {},
   "outputs": [
    {
     "data": {
      "text/plain": [
       "{'objective': 'binary',\n",
       " 'metric': 'binary_logloss',\n",
       " 'verbosity': -1,\n",
       " 'feature_pre_filter': False,\n",
       " 'lambda_l1': 0.015863686607471256,\n",
       " 'lambda_l2': 1.142903742029392e-08,\n",
       " 'num_leaves': 164,\n",
       " 'feature_fraction': 0.8999999999999999,\n",
       " 'bagging_fraction': 0.8655455885210889,\n",
       " 'bagging_freq': 6,\n",
       " 'min_child_samples': 25,\n",
       " 'random_state': 100,\n",
       " 'num_iterations': 10000,\n",
       " 'early_stopping_round': 10}"
      ]
     },
     "execution_count": 7,
     "metadata": {},
     "output_type": "execute_result"
    }
   ],
   "source": [
    "# weight 1:2\n",
    "model.params"
   ]
  },
  {
   "cell_type": "code",
   "execution_count": 80,
   "metadata": {},
   "outputs": [
    {
     "data": {
      "text/plain": [
       "{'objective': 'binary',\n",
       " 'random_state': 100,\n",
       " 'metrics': ['binary_logloss', 'auc'],\n",
       " 'feature_pre_filter': False,\n",
       " 'lambda_l1': 0.0,\n",
       " 'lambda_l2': 0.0,\n",
       " 'num_leaves': 11,\n",
       " 'feature_fraction': 0.42,\n",
       " 'bagging_fraction': 1.0,\n",
       " 'bagging_freq': 0,\n",
       " 'min_child_samples': 100,\n",
       " 'num_iterations': 10000}"
      ]
     },
     "execution_count": 80,
     "metadata": {},
     "output_type": "execute_result"
    }
   ],
   "source": [
    "model.params"
   ]
  },
  {
   "cell_type": "code",
   "execution_count": 10,
   "metadata": {},
   "outputs": [
    {
     "data": {
      "text/plain": [
       "Index(['la', 'ld', 'nf', 'nd', 'ns', 'ent', 'revd', 'nrev', 'rtime', 'hcmt',\n",
       "       'self', 'ndev', 'age', 'nuc', 'app', 'aexp', 'rexp', 'oexp', 'arexp',\n",
       "       'rrexp', 'orexp', 'asexp', 'rsexp', 'osexp', 'asawr', 'rsawr', 'osawr',\n",
       "       'churn', 'fix'],\n",
       "      dtype='object')"
      ]
     },
     "execution_count": 10,
     "metadata": {},
     "output_type": "execute_result"
    }
   ],
   "source": [
    "te_dataset[4][0].index\n"
   ]
  },
  {
   "cell_type": "code",
   "execution_count": 28,
   "metadata": {},
   "outputs": [
    {
     "data": {
      "text/plain": [
       "29"
      ]
     },
     "execution_count": 28,
     "metadata": {},
     "output_type": "execute_result"
    }
   ],
   "source": [
    "len(te_dataset[4][0].index)"
   ]
  },
  {
   "cell_type": "code",
   "execution_count": 27,
   "metadata": {},
   "outputs": [
    {
     "data": {
      "text/plain": [
       "array([7504.82869428, 2134.64119467,  786.3866409 ,  636.54564071,\n",
       "        194.03407764, 2781.28555201,    0.        , 1064.05668637,\n",
       "       3263.995922  , 1854.59180322,   22.5855298 , 2188.95013495,\n",
       "       3302.66649664, 1822.33861749,  762.46106883, 1892.64610773,\n",
       "       1548.48925204, 1616.96908231, 1130.12669267, 2160.74953323,\n",
       "       1828.96989152, 1958.41203755, 1833.37062253, 1735.99357094,\n",
       "       2252.18839197, 2392.47851313, 3052.25039978, 3968.63362526,\n",
       "        182.02801275])"
      ]
     },
     "execution_count": 27,
     "metadata": {},
     "output_type": "execute_result"
    }
   ],
   "source": [
    "model.feature_importance(importance_type='gain')"
   ]
  },
  {
   "cell_type": "code",
   "execution_count": 33,
   "metadata": {},
   "outputs": [],
   "source": [
    "import pandas as pd\n",
    "df = pd.read_csv('../resource/feature_importance.csv', index_col=0, header=0)\n",
    "df.loc['OpenStack'] = model.feature_importance(importance_type='gain')\n",
    "df\n",
    "# df = pd.DataFrame(data=[model.feature_importance(importance_type='gain')],index=['Qt'], columns=te_dataset[4][0].index)\n",
    "df.to_csv('../resource/feature_importance.csv')"
   ]
  },
  {
   "cell_type": "code",
   "execution_count": 29,
   "metadata": {},
   "outputs": [
    {
     "data": {
      "text/plain": [
       "<Axes: title={'center': 'Feature importance'}, xlabel='Feature importance', ylabel='Features'>"
      ]
     },
     "execution_count": 29,
     "metadata": {},
     "output_type": "execute_result"
    },
    {
     "data": {
      "image/png": "[encoded data removed]",
      "text/plain": [
       "<Figure size 640x480 with 1 Axes>"
      ]
     },
     "metadata": {},
     "output_type": "display_data"
    }
   ],
   "source": [
    "lgb.plot_importance(model, importance_type='gain')"
   ]
  },
  {
   "cell_type": "code",
   "execution_count": 82,
   "metadata": {},
   "outputs": [
    {
     "ename": "NameError",
     "evalue": "name 'data' is not defined",
     "output_type": "error",
     "traceback": [
      "\u001b[1;31m---------------------------------------------------------------------------\u001b[0m",
      "\u001b[1;31mNameError\u001b[0m                                 Traceback (most recent call last)",
      "\u001b[1;32mc:\\Users\\masak\\workspace\\lab\\thesis_data2\\learning_process\\notebook\\lightgbm.ipynb Cell 10\u001b[0m line \u001b[0;36m1\n\u001b[1;32m----> <a href='vscode-notebook-cell:/c%3A/Users/masak/workspace/lab/thesis_data2/learning_process/notebook/lightgbm.ipynb#X12sZmlsZQ%3D%3D?line=0'>1</a>\u001b[0m data\u001b[39m.\u001b[39mcolumns\n",
      "\u001b[1;31mNameError\u001b[0m: name 'data' is not defined"
     ]
    }
   ],
   "source": [
    "data.columns"
   ]
  },
  {
   "cell_type": "code",
   "execution_count": 83,
   "metadata": {},
   "outputs": [
    {
     "name": "stdout",
     "output_type": "stream",
     "text": [
      "[0 0 0 ... 0 0 0]\n",
      "[0, 1, 0, 0, 0, 0, 1, 1, 0, 0, 1, 1, 1, 0, 0, 1, 0, 0, 0, 0, 0, 1, 1, 0, 0, 1, 1, 0, 0, 0, 0, 0, 0, 1, 1, 0, 0, 0, 0, 0, 0, 1, 1, 0, 0, 0, 0, 0, 1, 0, 0, 0, 0, 0, 1, 0, 0, 1, 0, 0, 0, 0, 0, 0, 0, 0, 0, 1, 1, 0, 0, 1, 1, 0, 0, 0, 0, 0, 1, 1, 1, 0, 0, 0, 0, 0, 1, 0, 0, 0, 0, 0, 1, 0, 0, 0, 0, 0, 0, 0, 0, 0, 0, 0, 0, 0, 0, 0, 0, 0, 1, 0, 0, 0, 1, 0, 1, 0, 0, 1, 0, 0, 0, 0, 0, 0, 0, 0, 0, 0, 0, 0, 1, 0, 0, 0, 0, 0, 0, 1, 1, 0, 0, 0, 0, 0, 0, 0, 1, 1, 0, 0, 0, 0, 0, 0, 1, 1, 0, 0, 0, 0, 0, 0, 0, 0, 0, 0, 0, 0, 0, 0, 0, 0, 0, 1, 0, 1, 0, 0, 0, 0, 1, 0, 0, 0, 0, 1, 0, 0, 0, 0, 1, 0, 0, 0, 1, 0, 0, 1, 0, 0, 0, 0, 0, 0, 0, 0, 0, 0, 0, 1, 0, 0, 0, 0, 0, 1, 1, 0, 0, 0, 0, 1, 0, 0, 0, 1, 1, 0, 0, 0, 1, 0, 0, 0, 0, 0, 0, 1, 0, 0, 0, 0, 0, 0, 1, 0, 0, 0, 1, 0, 0, 0, 0, 0, 0, 0, 0, 0, 0, 0, 0, 0, 0, 0, 0, 0, 0, 0, 0, 0, 0, 0, 0, 0, 0, 0, 0, 0, 0, 0, 0, 0, 0, 0, 0, 0, 0, 0, 0, 0, 0, 0, 0, 0, 0, 0, 0, 0, 0, 0, 0, 0, 0, 0, 0, 0, 0, 0, 0, 0, 0, 0, 0, 0, 0, 0, 0, 0, 0, 0, 0, 0, 0, 0, 0, 0, 0, 0, 0, 0, 0, 0, 0, 0, 0, 0, 0, 0, 0, 0, 0, 0, 0, 0, 0, 0, 0, 0, 0, 0, 0, 0, 0, 0, 0, 0, 0, 0, 0, 0, 0, 0, 0, 0, 0, 0, 0, 0, 0, 0, 0, 0, 0, 0, 0, 0, 0, 0, 0, 0, 0, 0, 1, 0, 0, 0, 0, 0, 0, 0, 0, 0, 0, 0, 0, 0, 0, 0, 0, 0, 1, 0, 1, 0, 0, 0, 1, 0, 0, 0, 0, 0, 0, 0, 0, 1, 0, 0, 0, 0, 0, 0, 0, 0, 0, 0, 0, 0, 0, 0, 0, 0, 0, 0, 0, 0, 0, 0, 0, 0, 0, 0, 0, 0, 0, 0, 0, 0, 0, 0, 0, 0, 0, 0, 1, 0, 0, 0, 0, 0, 1, 0, 0, 0, 0, 0, 0, 1, 0, 0, 0, 0, 0, 0, 0, 0, 0, 0, 1, 0, 0, 0, 0, 1, 0, 0, 0, 0, 0, 0, 0, 0, 0, 1, 0, 0, 1, 0, 0, 0, 0, 0, 0, 0, 0, 0, 0, 0, 0, 0, 0, 0, 0, 0, 0, 0, 0, 0, 0, 0, 0, 0, 0, 0, 0, 0, 0, 0, 0, 0, 0, 0, 0, 0, 0, 1, 0, 0, 0, 0, 1, 0, 1, 0, 0, 0, 1, 0, 0, 0, 0, 0, 0, 0, 0, 0, 1, 0, 0, 0, 0, 0, 0, 0, 0, 0, 0, 0, 0, 0, 0, 0, 0, 0, 0, 0, 0, 0, 0, 0, 0, 0, 0, 1, 0, 0, 0, 0, 0, 0, 0, 0, 1, 0, 0, 1, 0, 0, 0, 0, 0, 0, 0, 0, 0, 0, 0, 0, 0, 1, 0, 0, 0, 0, 0, 1, 0, 1, 0, 0, 0, 0, 1, 0, 0, 0, 0, 0, 0, 1, 0, 0, 0, 0, 0, 0, 0, 0, 0, 0, 0, 0, 0, 0, 0, 0, 0, 0, 0, 0, 0, 0, 0, 0, 0, 0, 0, 0, 0, 1, 0, 1, 0, 0, 0, 0, 0, 0, 0, 0, 0, 0, 0, 0, 0, 0, 0, 1, 0, 1, 0, 0, 0, 1, 0, 0, 1, 0, 0, 0, 0, 1, 0, 0, 0, 0, 0, 0, 0, 0, 0, 0, 0, 0, 0, 0, 0, 0, 0, 0, 0, 0, 0, 0, 0, 0, 0, 0, 0, 0, 0, 1, 0, 0, 1, 0, 0, 0, 0, 0, 0, 0, 0, 0, 0, 0, 0, 0, 0, 0, 0, 1, 0, 0, 0, 0, 0, 0, 0, 0, 1, 0, 0, 0, 0, 0, 0, 0, 0, 0, 0, 0, 1, 1, 0, 1, 0, 0, 0, 0, 0, 0, 0, 1, 0, 1, 0, 0, 0, 0, 0, 1, 0, 0, 0, 0, 0, 0, 0, 1, 0, 0, 1, 0, 0, 0, 0, 0, 0, 0, 0, 0, 0, 0, 0, 0, 0, 0, 0, 0, 0, 0, 0, 0, 0, 0, 0, 1, 0, 0, 1, 0, 0, 0, 0, 0, 0, 0, 0, 0, 0, 0, 0, 0, 0, 0, 0, 0, 0, 0, 0, 0, 0, 0, 0, 1, 0, 0, 0, 0, 1, 1, 0, 0, 0, 0, 0, 0, 0, 0, 1, 0, 0, 0, 0, 0, 0, 0, 1, 0, 0, 0, 0, 1, 0, 0, 0, 0, 0, 0, 0, 0, 0, 0, 0, 0, 0, 0, 0, 1, 0, 0, 0, 0, 0, 0, 0, 1, 0, 0, 0, 0, 0, 0, 0, 0, 1, 0, 0, 0, 0, 0, 0, 0, 0, 0, 0, 0, 0, 0, 0, 0, 0, 1, 0, 1, 0, 1, 0, 0, 1, 0, 0, 0, 0, 0, 0, 0, 0, 0, 0, 0, 0, 0, 0, 0, 0, 0, 0, 0, 0, 0, 0, 0, 0, 0, 0, 0, 1, 1, 0, 0, 0, 0, 0, 0, 0, 0, 0, 0, 0, 0, 1, 0, 1, 0, 0, 1, 0, 1, 0, 0, 0, 0, 0, 0, 0, 0, 1, 0, 0, 0, 0, 0, 0, 0, 0, 0, 0, 0, 0, 0, 1, 0, 0, 0, 0, 0, 0, 0, 0, 0, 0, 0, 1, 0, 0, 0, 0, 0, 0, 0, 0, 0, 0, 0, 0, 1, 0, 0, 0, 0, 0, 0, 0, 0, 0, 0, 0, 0, 1, 0, 0, 0, 0, 0, 0, 1, 0, 0, 0, 0, 0, 0, 0, 0, 0, 1, 0, 0, 0, 0, 0, 1, 0, 0, 0, 1, 0, 0, 1, 1, 0, 0, 0, 1, 0, 1, 0, 1, 1, 0, 0, 1, 0, 0, 0, 0, 1, 0, 0, 0, 1, 0, 1, 1, 1, 0, 0, 1, 0, 1, 1, 0, 1, 1, 0, 0, 1, 1, 1, 0, 1, 0, 0, 1, 0, 1, 0, 0, 0, 0, 0, 0, 0, 0, 0, 0, 1, 0, 0, 0, 0, 0, 1, 0, 0, 0, 0, 0, 0, 0, 0, 1, 1, 0, 0, 0, 1, 1, 0, 0, 1, 0, 0, 0, 0, 0, 0, 1, 0, 0, 1, 0, 0, 0, 1, 0, 1, 0, 0, 1, 1, 0, 0, 0, 0, 0, 0, 1, 0, 1, 0, 0, 1, 1, 0, 0, 0, 0, 0, 0, 0, 0, 0, 0, 0, 1, 1, 0, 0, 0, 0, 0, 0, 0, 0, 0, 1, 0, 0, 0, 0, 0, 0, 0, 0, 1, 0, 1, 0, 0, 0, 0, 0, 0, 0, 1, 0, 1, 1, 0, 0, 0, 0, 0, 0, 0, 0, 0, 0, 1, 1, 0, 0, 1, 0, 1, 0, 1, 0, 0, 0, 1, 1, 1, 0, 0, 1, 0, 0, 0, 0, 0, 1, 1, 1, 1, 0, 1, 0, 0, 0, 0, 0, 0, 0, 0, 0, 0, 0, 0, 1, 0, 0, 0, 1, 0, 0, 1, 1, 1, 0, 0, 0, 0, 1, 1, 0, 0, 1, 0, 0, 1, 0, 1, 0, 0, 0, 0, 0, 0, 0, 0, 0, 0, 0, 0, 0, 0, 0, 0, 1, 1, 1, 0, 0, 1, 0, 0, 0, 0, 0, 0, 0, 0, 0, 0, 0, 1, 0, 0, 0, 1, 0, 0, 0, 1, 0, 0, 0, 0, 1, 0, 0, 0, 0, 0, 0, 0, 0, 1, 0, 0, 0, 0, 0, 0, 0, 0, 0, 1, 1, 0, 0, 0, 0, 0, 0, 0, 0, 1, 0, 0, 0, 0, 0, 0, 1, 0, 0, 0, 0, 0, 0, 0, 0, 1, 0, 0, 0, 0, 0, 1, 0, 0, 0, 0, 1, 0, 0, 0, 0, 0, 0, 1, 0, 0, 0, 0, 0, 0, 0, 1, 1, 0, 1, 0, 0, 1, 0, 0, 0, 1, 0, 0, 0, 0, 0, 0, 0, 0, 0, 0, 0, 0, 0, 0, 0, 0, 0, 0, 0, 0, 0, 0, 0, 0, 1, 0, 0, 0, 0, 0, 0, 0, 0, 0, 0, 0, 0]\n",
      "0.7883485359716345\n",
      "0.36536119985197735\n",
      "0.3355704697986578\n"
     ]
    }
   ],
   "source": [
    "\n",
    "from sklearn.metrics import log_loss, roc_auc_score\n",
    "pred = model.predict(te_dataset[4], num_iteration=model.best_iteration)\n",
    "\n",
    "y_true = (pred > 0.3).astype(int)\n",
    "print(y_true)\n",
    "print(te_dataset[5])\n",
    "print(roc_auc_score(te_dataset[5], pred))\n",
    "print(log_loss(te_dataset[5], pred))\n",
    "print(f1_score(te_dataset[5], y_true))"
   ]
  },
  {
   "cell_type": "code",
   "execution_count": 89,
   "metadata": {},
   "outputs": [
    {
     "name": "stderr",
     "output_type": "stream",
     "text": [
      "c:\\Users\\masak\\anaconda3\\envs\\test\\lib\\site-packages\\lightgbm\\engine.py:172: UserWarning: Found `num_iterations` in params. Will use it instead of argument\n",
      "  _log_warning(f\"Found `{alias}` in params. Will use it instead of argument\")\n",
      "c:\\Users\\masak\\anaconda3\\envs\\test\\lib\\site-packages\\lightgbm\\engine.py:172: UserWarning: Found `num_iterations` in params. Will use it instead of argument\n",
      "  _log_warning(f\"Found `{alias}` in params. Will use it instead of argument\")\n"
     ]
    },
    {
     "name": "stdout",
     "output_type": "stream",
     "text": [
      "[LightGBM] [Info] Number of positive: 1337, number of negative: 7753\n",
      "[LightGBM] [Info] Auto-choosing col-wise multi-threading, the overhead of testing was 0.000648 seconds.\n",
      "You can set `force_col_wise=true` to remove the overhead.\n",
      "[LightGBM] [Info] Total Bins 5289\n",
      "[LightGBM] [Info] Number of data points in the train set: 9090, number of used features: 29\n",
      "[LightGBM] [Info] [binary:BoostFromScore]: pavg=0.147085 -> initscore=-1.757652\n",
      "[LightGBM] [Info] Start training from score -1.757652\n",
      "Training until validation scores don't improve for 10 rounds\n",
      "Early stopping, best iteration is:\n",
      "[47]\ttrain's binary_logloss: 0.325076\ttrain's auc: 0.829527\tvalid's binary_logloss: 0.177232\tvalid's auc: 0.799613\n",
      "[LightGBM] [Info] Number of positive: 1161, number of negative: 7047\n",
      "[LightGBM] [Info] Auto-choosing col-wise multi-threading, the overhead of testing was 0.000449 seconds.\n",
      "You can set `force_col_wise=true` to remove the overhead.\n",
      "[LightGBM] [Info] Total Bins 5284\n",
      "[LightGBM] [Info] Number of data points in the train set: 8208, number of used features: 29\n",
      "[LightGBM] [Info] [binary:BoostFromScore]: pavg=0.141447 -> initscore=-1.803320\n",
      "[LightGBM] [Info] Start training from score -1.803320\n",
      "Training until validation scores don't improve for 10 rounds\n",
      "Early stopping, best iteration is:\n",
      "[36]\ttrain's binary_logloss: 0.322477\ttrain's auc: 0.824178\tvalid's binary_logloss: 0.260161\tvalid's auc: 0.793841\n",
      "[LightGBM] [Info] Number of positive: 1009, number of negative: 6905\n",
      "[LightGBM] [Info] Auto-choosing col-wise multi-threading, the overhead of testing was 0.000519 seconds.\n",
      "You can set `force_col_wise=true` to remove the overhead.\n",
      "[LightGBM] [Info] Total Bins 5269\n",
      "[LightGBM] [Info] Number of data points in the train set: 7914, number of used features: 29\n",
      "[LightGBM] [Info] [binary:BoostFromScore]: pavg=0.127496 -> initscore=-1.923286\n",
      "[LightGBM] [Info] Start training from score -1.923286\n",
      "Training until validation scores don't improve for 10 rounds\n",
      "Early stopping, best iteration is:\n",
      "[34]\ttrain's binary_logloss: 0.293124\ttrain's auc: 0.84243\tvalid's binary_logloss: 0.340996\tvalid's auc: 0.764655\n",
      "[LightGBM] [Info] Number of positive: 654, number of negative: 6357\n",
      "[LightGBM] [Info] Auto-choosing col-wise multi-threading, the overhead of testing was 0.000519 seconds.\n",
      "You can set `force_col_wise=true` to remove the overhead.\n",
      "[LightGBM] [Info] Total Bins 5204\n",
      "[LightGBM] [Info] Number of data points in the train set: 7011, number of used features: 29\n",
      "[LightGBM] [Info] [binary:BoostFromScore]: pavg=0.093282 -> initscore=-2.274204\n",
      "[LightGBM] [Info] Start training from score -2.274204\n",
      "Training until validation scores don't improve for 10 rounds\n",
      "Early stopping, best iteration is:\n",
      "[22]\ttrain's binary_logloss: 0.242659\ttrain's auc: 0.847039\tvalid's binary_logloss: 0.474652\tvalid's auc: 0.736021\n"
     ]
    },
    {
     "name": "stderr",
     "output_type": "stream",
     "text": [
      "c:\\Users\\masak\\anaconda3\\envs\\test\\lib\\site-packages\\lightgbm\\engine.py:172: UserWarning: Found `num_iterations` in params. Will use it instead of argument\n",
      "  _log_warning(f\"Found `{alias}` in params. Will use it instead of argument\")\n",
      "c:\\Users\\masak\\anaconda3\\envs\\test\\lib\\site-packages\\lightgbm\\engine.py:172: UserWarning: Found `num_iterations` in params. Will use it instead of argument\n",
      "  _log_warning(f\"Found `{alias}` in params. Will use it instead of argument\")\n"
     ]
    }
   ],
   "source": [
    "import lightgbm as lgb\n",
    "va_period_list = [0,1,2,3]\n",
    "auc_result = []\n",
    "loss_result = []\n",
    "for va_period in va_period_list:\n",
    "    tr_index = [index for index, value in enumerate(tr_dataset[1]) if value != va_period]\n",
    "    va_index = [index for index, value in enumerate(tr_dataset[1]) if value == va_period]\n",
    "    tr_x = [tr_dataset[4][i] for i in tr_index]\n",
    "    tr_y = [tr_dataset[5][i] for i in tr_index]\n",
    "    va_x = [tr_dataset[4][i] for i in va_index]\n",
    "    va_y = [tr_dataset[5][i] for i in va_index]\n",
    "    dtrain = lgb.Dataset(np.array(tr_x), np.array(tr_y))\n",
    "    dvalid = lgb.Dataset(np.array(va_x), np.array(va_y))\n",
    "    params ={\n",
    "        'objective': 'binary',\n",
    "        'random_state': 100,\n",
    "        'metrics': ['binary_logloss', 'auc'],\n",
    "        'feature_pre_filter': False,\n",
    "        'lambda_l1': 0.0,\n",
    "        'lambda_l2': 0.0,\n",
    "        'num_leaves': 11,\n",
    "        'feature_fraction': 0.42,\n",
    "        'bagging_fraction': 1.0,\n",
    "        'bagging_freq': 0,\n",
    "        'min_child_samples': 100,\n",
    "        'num_iterations': 10000\n",
    "    }\n",
    "    early_stopping_rounds = 10\n",
    "    model = lgb.train(params, dtrain, num_boost_round = num_round, \n",
    "                                   valid_names=['train','valid'], valid_sets=[dtrain, dvalid],\n",
    "                                  callbacks=[lgb.early_stopping(stopping_rounds=early_stopping_rounds)])\n",
    "    pred = model.predict(te_dataset[4], num_iteration=model.best_iteration)\n",
    "    auc_result.append(roc_auc_score(te_dataset[5], pred))\n",
    "    loss_result.append(log_loss(te_dataset[5], pred))\n"
   ]
  },
  {
   "cell_type": "code",
   "execution_count": 91,
   "metadata": {},
   "outputs": [
    {
     "name": "stdout",
     "output_type": "stream",
     "text": [
      "0.7867342981528078\n",
      "0.3582987067034247\n"
     ]
    }
   ],
   "source": [
    "print(np.mean(auc_result))\n",
    "print(np.mean(loss_result))"
   ]
  },
  {
   "cell_type": "code",
   "execution_count": 92,
   "metadata": {},
   "outputs": [
    {
     "data": {
      "text/plain": [
       "[0.7850637652979526,\n",
       " 0.7927449102138853,\n",
       " 0.7807799811277594,\n",
       " 0.7883485359716345]"
      ]
     },
     "execution_count": 92,
     "metadata": {},
     "output_type": "execute_result"
    }
   ],
   "source": [
    "auc_result"
   ]
  }
 ],
 "metadata": {
  "kernelspec": {
   "display_name": "test",
   "language": "python",
   "name": "python3"
  },
  "language_info": {
   "codemirror_mode": {
    "name": "ipython",
    "version": 3
   },
   "file_extension": ".py",
   "mimetype": "text/x-python",
   "name": "python",
   "nbconvert_exporter": "python",
   "pygments_lexer": "ipython3",
   "version": "3.9.16"
  }
 },
 "nbformat": 4,
 "nbformat_minor": 2
}
