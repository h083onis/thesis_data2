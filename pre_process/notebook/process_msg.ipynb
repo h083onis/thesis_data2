{
 "cells": [
  {
   "cell_type": "code",
   "execution_count": 2,
   "metadata": {},
   "outputs": [],
   "source": [
    "import nltk\n",
    "from nltk import stem\n",
    "from nltk.corpus import stopwords\n",
    "import re"
   ]
  },
  {
   "cell_type": "code",
   "execution_count": 92,
   "metadata": {},
   "outputs": [
    {
     "data": {
      "text/plain": [
       "41"
      ]
     },
     "execution_count": 92,
     "metadata": {},
     "output_type": "execute_result"
    }
   ],
   "source": [
    "len('I1b35433265934d4978d4b0c23a946c3f920c710d')"
   ]
  },
  {
   "cell_type": "code",
   "execution_count": 3,
   "metadata": {},
   "outputs": [],
   "source": [
    "def delete_stopwords(list):\n",
    "    stopset = set(stopwords.words('english'))\n",
    "    tmp_list = [w for w in list if w not in stopset]\n",
    "    return tmp_list\n",
    "\n",
    "def stem_word(list):\n",
    "    stemmer  = stem.PorterStemmer()\n",
    "    tmp_list = [stemmer.stem(w) for w in list]\n",
    "    return tmp_list\n",
    "\n",
    "def tokenize_msg(text):\n",
    "    tmp_list = nltk.word_tokenize(text)\n",
    "    return tmp_list\n"
   ]
  },
  {
   "cell_type": "code",
   "execution_count": 106,
   "metadata": {},
   "outputs": [],
   "source": [
    "msg  =\"001b80305addc5e47a1c80f6629a757178d95c81#!QDir::mkpath shouldn't fail if parent directory denies access\\n\\nThe fix for QTBUG-30046('Race condition in QDir::mkpath / QFileSystemEngine::createDirectory') introduced this regression on Windows, which\\nmeant that it became impossible to create a directory anywhere under\\nc:\\\\Users for example, because each user only has permission to see\\nhis own directory.\\n\\nTask-number: QTBUG-32314('QDir::mkpath regression, Windows')\\nChange-Id: I1b35433265934d4978d4b0c23a946c3f920c710d\\nReviewed-by: Friedemann Kleint <Friedemann.Kleint@digia.com>\\n<desc>at least the implementations of mkpath/createDirectory on Unix and Windows first\\n1) check if the directory already exists, and then if it doesn't\\n2) create it\\nStep 2 can fail if another program created the directory between 1 & 2, letting the whole mkpath call fail (and preventing it from creating all the directories).\\nIt should be possible to check if the mkdir or corresponding call failed because the directory already exists and continue nicely in that case.\\n(prominent example where this failed was running qdoc on multiple configurations with output directories having the same, not-yet existing parent directory, in parallel)<desc>The patch for QTBUG-30046 killed mkpath for Windows as soon as any part of the directory you want to create already exists but you have no permissions.\\nSee comment on the old issue:\\nI think that change killed mkpath for Windows as soon as there is any directory on the way to the one you want to create that already exists but for which you have no permissions to create it.\\nIn some rare cases, Windows reports then ERROR_ACCESS_DENIED, instead of ERROR_ALREADY_EXISTS.\\nThe old code had no problem, as the directory part did exist and only that was checked first and no mkDir was tried.\\nNow it will just fail, making mkpath even for stuff in C:\\\\Users\\\\<xxx> unusable per default, e.g. our application can't create its local data dirs.\\nHints that ERROR_ACCESS_DENIED can happen:\\nhttp://stackoverflow.com/questions/3570618/what-causes-createdirectory-to-return-error-access-denied\\nhttp://social.msdn.microsoft.com/Forums/windowsdesktop/en-US/57f8ef8d-87ad-455b-8ed9-9a0d88bae960/createdirectory-returns-erroraccessdenied-on-vista-with-uac-enabled\\nThis should be a known issue for 5.1, as a lot of stuff won't work that way.\""
   ]
  },
  {
   "cell_type": "code",
   "execution_count": 107,
   "metadata": {},
   "outputs": [
    {
     "data": {
      "text/plain": [
       "\"001b80305addc5e47a1c80f6629a757178d95c81#!QDir::mkpath shouldn't fail if parent directory denies access\\n\\nThe fix for QTBUG-30046('Race condition in QDir::mkpath / QFileSystemEngine::createDirectory') introduced this regression on Windows, which\\nmeant that it became impossible to create a directory anywhere under\\nc:\\\\Users for example, because each user only has permission to see\\nhis own directory.\\n\\nTask-number: QTBUG-32314('QDir::mkpath regression, Windows')\\nChange-Id: I1b35433265934d4978d4b0c23a946c3f920c710d\\nReviewed-by: Friedemann Kleint <Friedemann.Kleint@digia.com>\\n<desc>at least the implementations of mkpath/createDirectory on Unix and Windows first\\n1) check if the directory already exists, and then if it doesn't\\n2) create it\\nStep 2 can fail if another program created the directory between 1 & 2, letting the whole mkpath call fail (and preventing it from creating all the directories).\\nIt should be possible to check if the mkdir or corresponding call failed because the directory already exists and continue nicely in that case.\\n(prominent example where this failed was running qdoc on multiple configurations with output directories having the same, not-yet existing parent directory, in parallel)<desc>The patch for QTBUG-30046 killed mkpath for Windows as soon as any part of the directory you want to create already exists but you have no permissions.\\nSee comment on the old issue:\\nI think that change killed mkpath for Windows as soon as there is any directory on the way to the one you want to create that already exists but for which you have no permissions to create it.\\nIn some rare cases, Windows reports then ERROR_ACCESS_DENIED, instead of ERROR_ALREADY_EXISTS.\\nThe old code had no problem, as the directory part did exist and only that was checked first and no mkDir was tried.\\nNow it will just fail, making mkpath even for stuff in C:\\\\Users\\\\<xxx> unusable per default, e.g. our application can't create its local data dirs.\\nHints that ERROR_ACCESS_DENIED can happen:\\nhttp://stackoverflow.com/questions/3570618/what-causes-createdirectory-to-return-error-access-denied\\nhttp://social.msdn.microsoft.com/Forums/windowsdesktop/en-US/57f8ef8d-87ad-455b-8ed9-9a0d88bae960/createdirectory-returns-erroraccessdenied-on-vista-with-uac-enabled\\nThis should be a known issue for 5.1, as a lot of stuff won't work that way.\""
      ]
     },
     "execution_count": 107,
     "metadata": {},
     "output_type": "execute_result"
    }
   ],
   "source": [
    "msg"
   ]
  },
  {
   "cell_type": "code",
   "execution_count": 108,
   "metadata": {},
   "outputs": [],
   "source": [
    "msg = msg.replace('\\n',\" \").replace('\\r', \" \")\n",
    "msg = re.sub(r'http?://[\\w/:%#\\$&\\?\\(\\)~\\.=\\+\\-]+', \"\", msg)\n",
    "msg = re.sub(r'https?://[\\w/:%#\\$&\\?\\(\\)~\\.=\\+\\-]+', \"\", msg)"
   ]
  },
  {
   "cell_type": "code",
   "execution_count": 109,
   "metadata": {},
   "outputs": [
    {
     "data": {
      "text/plain": [
       "\"001b80305addc5e47a1c80f6629a757178d95c81#!QDir::mkpath shouldn't fail if parent directory denies access  The fix for QTBUG-30046('Race condition in QDir::mkpath / QFileSystemEngine::createDirectory') introduced this regression on Windows, which meant that it became impossible to create a directory anywhere under c:\\\\Users for example, because each user only has permission to see his own directory.  Task-number: QTBUG-32314('QDir::mkpath regression, Windows') Change-Id: I1b35433265934d4978d4b0c23a946c3f920c710d Reviewed-by: Friedemann Kleint <Friedemann.Kleint@digia.com> <desc>at least the implementations of mkpath/createDirectory on Unix and Windows first 1) check if the directory already exists, and then if it doesn't 2) create it Step 2 can fail if another program created the directory between 1 & 2, letting the whole mkpath call fail (and preventing it from creating all the directories). It should be possible to check if the mkdir or corresponding call failed because the directory already exists and continue nicely in that case. (prominent example where this failed was running qdoc on multiple configurations with output directories having the same, not-yet existing parent directory, in parallel)<desc>The patch for QTBUG-30046 killed mkpath for Windows as soon as any part of the directory you want to create already exists but you have no permissions. See comment on the old issue: I think that change killed mkpath for Windows as soon as there is any directory on the way to the one you want to create that already exists but for which you have no permissions to create it. In some rare cases, Windows reports then ERROR_ACCESS_DENIED, instead of ERROR_ALREADY_EXISTS. The old code had no problem, as the directory part did exist and only that was checked first and no mkDir was tried. Now it will just fail, making mkpath even for stuff in C:\\\\Users\\\\<xxx> unusable per default, e.g. our application can't create its local data dirs. Hints that ERROR_ACCESS_DENIED can happen:   This should be a known issue for 5.1, as a lot of stuff won't work that way.\""
      ]
     },
     "execution_count": 109,
     "metadata": {},
     "output_type": "execute_result"
    }
   ],
   "source": [
    "msg"
   ]
  },
  {
   "cell_type": "code",
   "execution_count": 110,
   "metadata": {},
   "outputs": [
    {
     "data": {
      "text/plain": [
       "'001b80305addc5e47a1c80f6629a757178d95c81  QDir  mkpath shouldn t fail if parent directory denies access  The fix for QTBUG 30046  Race condition in QDir  mkpath   QFileSystemEngine  createDirectory   introduced this regression on Windows  which meant that it became impossible to create a directory anywhere under c  Users for example  because each user only has permission to see his own directory   Task number  QTBUG 32314  QDir  mkpath regression  Windows   Change Id  I1b35433265934d4978d4b0c23a946c3f920c710d Reviewed by  Friedemann Kleint  Friedemann Kleint digia com   desc at least the implementations of mkpath createDirectory on Unix and Windows first 1  check if the directory already exists  and then if it doesn t 2  create it Step 2 can fail if another program created the directory between 1   2  letting the whole mkpath call fail  and preventing it from creating all the directories   It should be possible to check if the mkdir or corresponding call failed because the directory already exists and continue nicely in that case   prominent example where this failed was running qdoc on multiple configurations with output directories having the same  not yet existing parent directory  in parallel  desc The patch for QTBUG 30046 killed mkpath for Windows as soon as any part of the directory you want to create already exists but you have no permissions  See comment on the old issue  I think that change killed mkpath for Windows as soon as there is any directory on the way to the one you want to create that already exists but for which you have no permissions to create it  In some rare cases  Windows reports then ERROR ACCESS DENIED  instead of ERROR ALREADY EXISTS  The old code had no problem  as the directory part did exist and only that was checked first and no mkDir was tried  Now it will just fail  making mkpath even for stuff in C  Users  xxx  unusable per default  e g  our application can t create its local data dirs  Hints that ERROR ACCESS DENIED can happen    This should be a known issue for 5 1  as a lot of stuff won t work that way '"
      ]
     },
     "execution_count": 110,
     "metadata": {},
     "output_type": "execute_result"
    }
   ],
   "source": [
    "msg = re.sub(r'[!-/:-@[-`{-~¢-¿“-⟿⬀-⯐、-〶\\u3099-ゞ・-ヾ㈠-㏿︐-﹪！-／：-＠［-｀｛-･ﾞﾟ￥]', \" \", msg)\n",
    "msg"
   ]
  },
  {
   "cell_type": "code",
   "execution_count": 111,
   "metadata": {},
   "outputs": [],
   "source": [
    "# msg = re.sub(r'\\b[0-9a-fA-F]{40}\\b', '', msg)\n",
    "# msg = re.sub(r'\\b[0-9a-fA-F]{41}\\b', '', msg)\n",
    "# msg"
   ]
  },
  {
   "cell_type": "code",
   "execution_count": 112,
   "metadata": {},
   "outputs": [
    {
     "data": {
      "text/plain": [
       "'0b0addc0e0a0c0f0a0d0c0  QDir  mkpath shouldn t fail if parent directory denies access  The fix for QTBUG 0  Race condition in QDir  mkpath   QFileSystemEngine  createDirectory   introduced this regression on Windows  which meant that it became impossible to create a directory anywhere under c  Users for example  because each user only has permission to see his own directory   Task number  QTBUG 0  QDir  mkpath regression  Windows   Change Id  I0b0d0d0b0c0a0c0f0c0d Reviewed by  Friedemann Kleint  Friedemann Kleint digia com   desc at least the implementations of mkpath createDirectory on Unix and Windows first 0  check if the directory already exists  and then if it doesn t 0  create it Step 0 can fail if another program created the directory between 0   0  letting the whole mkpath call fail  and preventing it from creating all the directories   It should be possible to check if the mkdir or corresponding call failed because the directory already exists and continue nicely in that case   prominent example where this failed was running qdoc on multiple configurations with output directories having the same  not yet existing parent directory  in parallel  desc The patch for QTBUG 0 killed mkpath for Windows as soon as any part of the directory you want to create already exists but you have no permissions  See comment on the old issue  I think that change killed mkpath for Windows as soon as there is any directory on the way to the one you want to create that already exists but for which you have no permissions to create it  In some rare cases  Windows reports then ERROR ACCESS DENIED  instead of ERROR ALREADY EXISTS  The old code had no problem  as the directory part did exist and only that was checked first and no mkDir was tried  Now it will just fail  making mkpath even for stuff in C  Users  xxx  unusable per default  e g  our application can t create its local data dirs  Hints that ERROR ACCESS DENIED can happen    This should be a known issue for 0 0  as a lot of stuff won t work that way '"
      ]
     },
     "execution_count": 112,
     "metadata": {},
     "output_type": "execute_result"
    }
   ],
   "source": [
    "msg = re.sub(r'\\d+', '0', msg)\n",
    "msg"
   ]
  },
  {
   "cell_type": "code",
   "execution_count": 113,
   "metadata": {},
   "outputs": [
    {
     "name": "stdout",
     "output_type": "stream",
     "text": [
      "['0b0addc0e0a0c0f0a0d0c0', 'QDir', 'mkpath', 'shouldn', 't', 'fail', 'if', 'parent', 'directory', 'denies', 'access', 'The', 'fix', 'for', 'QTBUG', '0', 'Race', 'condition', 'in', 'QDir', 'mkpath', 'QFileSystemEngine', 'createDirectory', 'introduced', 'this', 'regression', 'on', 'Windows', 'which', 'meant', 'that', 'it', 'became', 'impossible', 'to', 'create', 'a', 'directory', 'anywhere', 'under', 'c', 'Users', 'for', 'example', 'because', 'each', 'user', 'only', 'has', 'permission', 'to', 'see', 'his', 'own', 'directory', 'Task', 'number', 'QTBUG', '0', 'QDir', 'mkpath', 'regression', 'Windows', 'Change', 'Id', 'I0b0d0d0b0c0a0c0f0c0d', 'Reviewed', 'by', 'Friedemann', 'Kleint', 'Friedemann', 'Kleint', 'digia', 'com', 'desc', 'at', 'least', 'the', 'implementations', 'of', 'mkpath', 'createDirectory', 'on', 'Unix', 'and', 'Windows', 'first', '0', 'check', 'if', 'the', 'directory', 'already', 'exists', 'and', 'then', 'if', 'it', 'doesn', 't', '0', 'create', 'it', 'Step', '0', 'can', 'fail', 'if', 'another', 'program', 'created', 'the', 'directory', 'between', '0', '0', 'letting', 'the', 'whole', 'mkpath', 'call', 'fail', 'and', 'preventing', 'it', 'from', 'creating', 'all', 'the', 'directories', 'It', 'should', 'be', 'possible', 'to', 'check', 'if', 'the', 'mkdir', 'or', 'corresponding', 'call', 'failed', 'because', 'the', 'directory', 'already', 'exists', 'and', 'continue', 'nicely', 'in', 'that', 'case', 'prominent', 'example', 'where', 'this', 'failed', 'was', 'running', 'qdoc', 'on', 'multiple', 'configurations', 'with', 'output', 'directories', 'having', 'the', 'same', 'not', 'yet', 'existing', 'parent', 'directory', 'in', 'parallel', 'desc', 'The', 'patch', 'for', 'QTBUG', '0', 'killed', 'mkpath', 'for', 'Windows', 'as', 'soon', 'as', 'any', 'part', 'of', 'the', 'directory', 'you', 'want', 'to', 'create', 'already', 'exists', 'but', 'you', 'have', 'no', 'permissions', 'See', 'comment', 'on', 'the', 'old', 'issue', 'I', 'think', 'that', 'change', 'killed', 'mkpath', 'for', 'Windows', 'as', 'soon', 'as', 'there', 'is', 'any', 'directory', 'on', 'the', 'way', 'to', 'the', 'one', 'you', 'want', 'to', 'create', 'that', 'already', 'exists', 'but', 'for', 'which', 'you', 'have', 'no', 'permissions', 'to', 'create', 'it', 'In', 'some', 'rare', 'cases', 'Windows', 'reports', 'then', 'ERROR', 'ACCESS', 'DENIED', 'instead', 'of', 'ERROR', 'ALREADY', 'EXISTS', 'The', 'old', 'code', 'had', 'no', 'problem', 'as', 'the', 'directory', 'part', 'did', 'exist', 'and', 'only', 'that', 'was', 'checked', 'first', 'and', 'no', 'mkDir', 'was', 'tried', 'Now', 'it', 'will', 'just', 'fail', 'making', 'mkpath', 'even', 'for', 'stuff', 'in', 'C', 'Users', 'xxx', 'unusable', 'per', 'default', 'e', 'g', 'our', 'application', 'can', 't', 'create', 'its', 'local', 'data', 'dirs', 'Hints', 'that', 'ERROR', 'ACCESS', 'DENIED', 'can', 'happen', 'This', 'should', 'be', 'a', 'known', 'issue', 'for', '0', '0', 'as', 'a', 'lot', 'of', 'stuff', 'won', 't', 'work', 'that', 'way']\n"
     ]
    }
   ],
   "source": [
    "msg = tokenize_msg(msg)\n",
    "print(msg)"
   ]
  },
  {
   "cell_type": "code",
   "execution_count": 114,
   "metadata": {},
   "outputs": [
    {
     "name": "stdout",
     "output_type": "stream",
     "text": [
      "['0b0addc0e0a0c0f0a0d0c0', 'qdir', 'mkpath', 'shouldn', 't', 'fail', 'if', 'parent', 'directori', 'deni', 'access', 'the', 'fix', 'for', 'qtbug', '0', 'race', 'condit', 'in', 'qdir', 'mkpath', 'qfilesystemengin', 'createdirectori', 'introduc', 'thi', 'regress', 'on', 'window', 'which', 'meant', 'that', 'it', 'becam', 'imposs', 'to', 'creat', 'a', 'directori', 'anywher', 'under', 'c', 'user', 'for', 'exampl', 'becaus', 'each', 'user', 'onli', 'ha', 'permiss', 'to', 'see', 'hi', 'own', 'directori', 'task', 'number', 'qtbug', '0', 'qdir', 'mkpath', 'regress', 'window', 'chang', 'id', 'i0b0d0d0b0c0a0c0f0c0d', 'review', 'by', 'friedemann', 'kleint', 'friedemann', 'kleint', 'digia', 'com', 'desc', 'at', 'least', 'the', 'implement', 'of', 'mkpath', 'createdirectori', 'on', 'unix', 'and', 'window', 'first', '0', 'check', 'if', 'the', 'directori', 'alreadi', 'exist', 'and', 'then', 'if', 'it', 'doesn', 't', '0', 'creat', 'it', 'step', '0', 'can', 'fail', 'if', 'anoth', 'program', 'creat', 'the', 'directori', 'between', '0', '0', 'let', 'the', 'whole', 'mkpath', 'call', 'fail', 'and', 'prevent', 'it', 'from', 'creat', 'all', 'the', 'directori', 'it', 'should', 'be', 'possibl', 'to', 'check', 'if', 'the', 'mkdir', 'or', 'correspond', 'call', 'fail', 'becaus', 'the', 'directori', 'alreadi', 'exist', 'and', 'continu', 'nice', 'in', 'that', 'case', 'promin', 'exampl', 'where', 'thi', 'fail', 'wa', 'run', 'qdoc', 'on', 'multipl', 'configur', 'with', 'output', 'directori', 'have', 'the', 'same', 'not', 'yet', 'exist', 'parent', 'directori', 'in', 'parallel', 'desc', 'the', 'patch', 'for', 'qtbug', '0', 'kill', 'mkpath', 'for', 'window', 'as', 'soon', 'as', 'ani', 'part', 'of', 'the', 'directori', 'you', 'want', 'to', 'creat', 'alreadi', 'exist', 'but', 'you', 'have', 'no', 'permiss', 'see', 'comment', 'on', 'the', 'old', 'issu', 'i', 'think', 'that', 'chang', 'kill', 'mkpath', 'for', 'window', 'as', 'soon', 'as', 'there', 'is', 'ani', 'directori', 'on', 'the', 'way', 'to', 'the', 'one', 'you', 'want', 'to', 'creat', 'that', 'alreadi', 'exist', 'but', 'for', 'which', 'you', 'have', 'no', 'permiss', 'to', 'creat', 'it', 'in', 'some', 'rare', 'case', 'window', 'report', 'then', 'error', 'access', 'deni', 'instead', 'of', 'error', 'alreadi', 'exist', 'the', 'old', 'code', 'had', 'no', 'problem', 'as', 'the', 'directori', 'part', 'did', 'exist', 'and', 'onli', 'that', 'wa', 'check', 'first', 'and', 'no', 'mkdir', 'wa', 'tri', 'now', 'it', 'will', 'just', 'fail', 'make', 'mkpath', 'even', 'for', 'stuff', 'in', 'c', 'user', 'xxx', 'unus', 'per', 'default', 'e', 'g', 'our', 'applic', 'can', 't', 'creat', 'it', 'local', 'data', 'dir', 'hint', 'that', 'error', 'access', 'deni', 'can', 'happen', 'thi', 'should', 'be', 'a', 'known', 'issu', 'for', '0', '0', 'as', 'a', 'lot', 'of', 'stuff', 'won', 't', 'work', 'that', 'way']\n"
     ]
    }
   ],
   "source": [
    "msg = stem_word(msg)\n",
    "print(msg)"
   ]
  },
  {
   "cell_type": "code",
   "execution_count": 115,
   "metadata": {},
   "outputs": [
    {
     "name": "stdout",
     "output_type": "stream",
     "text": [
      "['0b0addc0e0a0c0f0a0d0c0', 'qdir', 'mkpath', 'fail', 'parent', 'directori', 'deni', 'access', 'fix', 'qtbug', '0', 'race', 'condit', 'qdir', 'mkpath', 'qfilesystemengin', 'createdirectori', 'introduc', 'thi', 'regress', 'window', 'meant', 'becam', 'imposs', 'creat', 'directori', 'anywher', 'c', 'user', 'exampl', 'becaus', 'user', 'onli', 'ha', 'permiss', 'see', 'hi', 'directori', 'task', 'number', 'qtbug', '0', 'qdir', 'mkpath', 'regress', 'window', 'chang', 'id', 'i0b0d0d0b0c0a0c0f0c0d', 'review', 'friedemann', 'kleint', 'friedemann', 'kleint', 'digia', 'com', 'desc', 'least', 'implement', 'mkpath', 'createdirectori', 'unix', 'window', 'first', '0', 'check', 'directori', 'alreadi', 'exist', '0', 'creat', 'step', '0', 'fail', 'anoth', 'program', 'creat', 'directori', '0', '0', 'let', 'whole', 'mkpath', 'call', 'fail', 'prevent', 'creat', 'directori', 'possibl', 'check', 'mkdir', 'correspond', 'call', 'fail', 'becaus', 'directori', 'alreadi', 'exist', 'continu', 'nice', 'case', 'promin', 'exampl', 'thi', 'fail', 'wa', 'run', 'qdoc', 'multipl', 'configur', 'output', 'directori', 'yet', 'exist', 'parent', 'directori', 'parallel', 'desc', 'patch', 'qtbug', '0', 'kill', 'mkpath', 'window', 'soon', 'ani', 'part', 'directori', 'want', 'creat', 'alreadi', 'exist', 'permiss', 'see', 'comment', 'old', 'issu', 'think', 'chang', 'kill', 'mkpath', 'window', 'soon', 'ani', 'directori', 'way', 'one', 'want', 'creat', 'alreadi', 'exist', 'permiss', 'creat', 'rare', 'case', 'window', 'report', 'error', 'access', 'deni', 'instead', 'error', 'alreadi', 'exist', 'old', 'code', 'problem', 'directori', 'part', 'exist', 'onli', 'wa', 'check', 'first', 'mkdir', 'wa', 'tri', 'fail', 'make', 'mkpath', 'even', 'stuff', 'c', 'user', 'xxx', 'unus', 'per', 'default', 'e', 'g', 'applic', 'creat', 'local', 'data', 'dir', 'hint', 'error', 'access', 'deni', 'happen', 'thi', 'known', 'issu', '0', '0', 'lot', 'stuff', 'work', 'way']\n"
     ]
    }
   ],
   "source": [
    "msg = delete_stopwords(msg)\n",
    "print(msg)"
   ]
  },
  {
   "cell_type": "code",
   "execution_count": 121,
   "metadata": {},
   "outputs": [],
   "source": [
    "tmp = '0x10'\n",
    "if tmp.isnumeric():\n",
    "    print(tmp)"
   ]
  },
  {
   "cell_type": "code",
   "execution_count": 125,
   "metadata": {},
   "outputs": [],
   "source": [
    "from pygments.lexers import PythonLexer\n",
    "from pygments import lex\n",
    "from pygments.token import Token\n",
    "tokens = list(lex(tmp, PythonLexer()))\n",
    "# tokens\n",
    "for token in tokens:\n",
    "    if token[0] in Token.String:\n",
    "        print(token)"
   ]
  },
  {
   "cell_type": "code",
   "execution_count": 132,
   "metadata": {},
   "outputs": [
    {
     "data": {
      "text/plain": [
       "[' 1', ' 2222']"
      ]
     },
     "execution_count": 132,
     "metadata": {},
     "output_type": "execute_result"
    }
   ],
   "source": [
    "msg = ' 1<desc> 2222'\n",
    "tmp = msg.split('<desc>')\n",
    "tmp"
   ]
  },
  {
   "cell_type": "code",
   "execution_count": 133,
   "metadata": {},
   "outputs": [
    {
     "data": {
      "text/plain": [
       "['1', '<', 'desc', '>', '2222']"
      ]
     },
     "execution_count": 133,
     "metadata": {},
     "output_type": "execute_result"
    }
   ],
   "source": [
    "tokenize_msg(msg)"
   ]
  }
 ],
 "metadata": {
  "kernelspec": {
   "display_name": "test",
   "language": "python",
   "name": "python3"
  },
  "language_info": {
   "codemirror_mode": {
    "name": "ipython",
    "version": 3
   },
   "file_extension": ".py",
   "mimetype": "text/x-python",
   "name": "python",
   "nbconvert_exporter": "python",
   "pygments_lexer": "ipython3",
   "version": "3.9.16"
  }
 },
 "nbformat": 4,
 "nbformat_minor": 2
}
