{
 "cells": [
  {
   "cell_type": "code",
   "execution_count": 22,
   "metadata": {},
   "outputs": [],
   "source": [
    "import pickle\n",
    "with open('../resource/qt_train.pkl', 'rb') as f_train, open('../resource/qt_test.pkl', 'rb') as f_test:\n",
    "    tr_dataset = pickle.load(f_train)\n",
    "    te_dataset = pickle.load(f_test)"
   ]
  },
  {
   "cell_type": "code",
   "execution_count": 23,
   "metadata": {},
   "outputs": [
    {
     "data": {
      "text/plain": [
       "la                   5\n",
       "ld                  36\n",
       "nf                   3\n",
       "nd                   3\n",
       "ns                   1\n",
       "ent           0.775002\n",
       "revd              True\n",
       "nrev               2.0\n",
       "rtime         172203.0\n",
       "hcmt               4.0\n",
       "self             False\n",
       "ndev                33\n",
       "age      914923.666667\n",
       "nuc                105\n",
       "app                3.0\n",
       "aexp              1127\n",
       "rexp            1440.0\n",
       "oexp            1440.0\n",
       "arexp              942\n",
       "rrexp           1255.0\n",
       "orexp           1255.0\n",
       "asexp              983\n",
       "rsexp            989.0\n",
       "osexp            989.0\n",
       "asawr         0.719298\n",
       "rsawr         0.723684\n",
       "osawr         0.723684\n",
       "churn               41\n",
       "fix              False\n",
       "Name: 0132be46bc9b4bb1b3bf77a623cc1d3b7e9307ea, dtype: object"
      ]
     },
     "execution_count": 23,
     "metadata": {},
     "output_type": "execute_result"
    }
   ],
   "source": [
    "te_dataset[4][0]"
   ]
  },
  {
   "cell_type": "code",
   "execution_count": 24,
   "metadata": {},
   "outputs": [],
   "source": [
    "from optuna.integration import lightgbm as lgb\n",
    "from sklearn.model_selection import StratifiedKFold\n",
    "import numpy as np\n",
    "from sklearn.metrics import log_loss, roc_auc_score\n",
    "from sklearn.utils.class_weight import compute_class_weight\n",
    "from sklearn.utils.class_weight import compute_sample_weight"
   ]
  },
  {
   "cell_type": "code",
   "execution_count": 25,
   "metadata": {},
   "outputs": [],
   "source": [
    "sample_weights = compute_sample_weight(class_weight='balanced', y=tr_dataset[5])\n",
    "# _weights = compute_class_weight(class_weight='balanced', classes=np.unique(tr_dataset[5]), y=tr_dataset[5])"
   ]
  },
  {
   "cell_type": "code",
   "execution_count": 26,
   "metadata": {},
   "outputs": [],
   "source": [
    "\n",
    "lgb_train = lgb.Dataset(np.array(tr_dataset[4]), np.array(tr_dataset[5]), weight=sample_weights)"
   ]
  },
  {
   "cell_type": "code",
   "execution_count": 30,
   "metadata": {},
   "outputs": [
    {
     "name": "stderr",
     "output_type": "stream",
     "text": [
      "[I 2023-12-02 13:33:29,068] A new study created in memory with name: no-name-d1fd1b1a-2abf-4de9-97a2-dfbe975aa130\n"
     ]
    },
    {
     "name": "stdout",
     "output_type": "stream",
     "text": [
      "Training until validation scores don't improve for 10 rounds\n"
     ]
    },
    {
     "name": "stderr",
     "output_type": "stream",
     "text": [
      "[I 2023-12-02 13:33:29,547] Trial 0 finished with value: 0.7789672327796149 and parameters: {'feature_fraction': 0.7}. Best is trial 0 with value: 0.7789672327796149.\n"
     ]
    },
    {
     "name": "stdout",
     "output_type": "stream",
     "text": [
      "Early stopping, best iteration is:\n",
      "[46]\tcv_agg's valid auc: 0.778967 + 0.00796694\n",
      "Training until validation scores don't improve for 10 rounds\n"
     ]
    },
    {
     "name": "stderr",
     "output_type": "stream",
     "text": [
      "[I 2023-12-02 13:33:29,958] Trial 1 finished with value: 0.7808354261544641 and parameters: {'feature_fraction': 0.8999999999999999}. Best is trial 0 with value: 0.7789672327796149.\n"
     ]
    },
    {
     "name": "stdout",
     "output_type": "stream",
     "text": [
      "Early stopping, best iteration is:\n",
      "[45]\tcv_agg's valid auc: 0.780835 + 0.0089816\n",
      "Training until validation scores don't improve for 10 rounds\n"
     ]
    },
    {
     "name": "stderr",
     "output_type": "stream",
     "text": [
      "[I 2023-12-02 13:33:30,351] Trial 2 finished with value: 0.7801175776716807 and parameters: {'feature_fraction': 1.0}. Best is trial 0 with value: 0.7789672327796149.\n"
     ]
    },
    {
     "name": "stdout",
     "output_type": "stream",
     "text": [
      "Early stopping, best iteration is:\n",
      "[39]\tcv_agg's valid auc: 0.780118 + 0.00910327\n",
      "Training until validation scores don't improve for 10 rounds\n"
     ]
    },
    {
     "name": "stderr",
     "output_type": "stream",
     "text": [
      "[I 2023-12-02 13:33:30,695] Trial 3 finished with value: 0.7796636204385151 and parameters: {'feature_fraction': 0.5}. Best is trial 0 with value: 0.7789672327796149.\n"
     ]
    },
    {
     "name": "stdout",
     "output_type": "stream",
     "text": [
      "Early stopping, best iteration is:\n",
      "[40]\tcv_agg's valid auc: 0.779664 + 0.00797074\n",
      "Training until validation scores don't improve for 10 rounds\n"
     ]
    },
    {
     "name": "stderr",
     "output_type": "stream",
     "text": [
      "[I 2023-12-02 13:33:31,030] Trial 4 finished with value: 0.7812054692357492 and parameters: {'feature_fraction': 0.6}. Best is trial 0 with value: 0.7789672327796149.\n"
     ]
    },
    {
     "name": "stdout",
     "output_type": "stream",
     "text": [
      "Early stopping, best iteration is:\n",
      "[40]\tcv_agg's valid auc: 0.781205 + 0.00957461\n",
      "Training until validation scores don't improve for 10 rounds\n"
     ]
    },
    {
     "name": "stderr",
     "output_type": "stream",
     "text": [
      "[I 2023-12-02 13:33:31,367] Trial 5 finished with value: 0.7797842964805322 and parameters: {'feature_fraction': 0.4}. Best is trial 0 with value: 0.7789672327796149.\n"
     ]
    },
    {
     "name": "stdout",
     "output_type": "stream",
     "text": [
      "Early stopping, best iteration is:\n",
      "[40]\tcv_agg's valid auc: 0.779784 + 0.00844908\n",
      "Training until validation scores don't improve for 10 rounds\n"
     ]
    },
    {
     "name": "stderr",
     "output_type": "stream",
     "text": [
      "[I 2023-12-02 13:33:31,652] Trial 6 finished with value: 0.7774554353894774 and parameters: {'feature_fraction': 0.8}. Best is trial 6 with value: 0.7774554353894774.\n",
      "feature_fraction, val_score: 0.777455: 100%|##########| 7/7 [00:02<00:00,  2.71it/s]\n"
     ]
    },
    {
     "name": "stdout",
     "output_type": "stream",
     "text": [
      "Early stopping, best iteration is:\n",
      "[27]\tcv_agg's valid auc: 0.777455 + 0.00583588\n"
     ]
    },
    {
     "name": "stderr",
     "output_type": "stream",
     "text": []
    },
    {
     "name": "stdout",
     "output_type": "stream",
     "text": [
      "Training until validation scores don't improve for 10 rounds\n"
     ]
    },
    {
     "name": "stderr",
     "output_type": "stream",
     "text": [
      "[I 2023-12-02 13:33:32,099] Trial 7 finished with value: 0.7751673963113828 and parameters: {'num_leaves': 50}. Best is trial 7 with value: 0.7751673963113828.\n"
     ]
    },
    {
     "name": "stdout",
     "output_type": "stream",
     "text": [
      "Early stopping, best iteration is:\n",
      "[39]\tcv_agg's valid auc: 0.775167 + 0.00793986\n",
      "Training until validation scores don't improve for 10 rounds\n"
     ]
    },
    {
     "name": "stderr",
     "output_type": "stream",
     "text": [
      "[I 2023-12-02 13:33:33,425] Trial 8 finished with value: 0.7675877059473223 and parameters: {'num_leaves': 163}. Best is trial 8 with value: 0.7675877059473223.\n"
     ]
    },
    {
     "name": "stdout",
     "output_type": "stream",
     "text": [
      "Early stopping, best iteration is:\n",
      "[48]\tcv_agg's valid auc: 0.767588 + 0.0100041\n",
      "Training until validation scores don't improve for 10 rounds\n"
     ]
    },
    {
     "name": "stderr",
     "output_type": "stream",
     "text": [
      "[I 2023-12-02 13:33:34,054] Trial 9 finished with value: 0.7657496206922951 and parameters: {'num_leaves': 146}. Best is trial 9 with value: 0.7657496206922951.\n"
     ]
    },
    {
     "name": "stdout",
     "output_type": "stream",
     "text": [
      "Early stopping, best iteration is:\n",
      "[22]\tcv_agg's valid auc: 0.76575 + 0.00913763\n",
      "Training until validation scores don't improve for 10 rounds\n"
     ]
    },
    {
     "name": "stderr",
     "output_type": "stream",
     "text": [
      "[I 2023-12-02 13:33:35,235] Trial 10 finished with value: 0.7619784999541133 and parameters: {'num_leaves': 255}. Best is trial 10 with value: 0.7619784999541133.\n"
     ]
    },
    {
     "name": "stdout",
     "output_type": "stream",
     "text": [
      "Early stopping, best iteration is:\n",
      "[31]\tcv_agg's valid auc: 0.761978 + 0.0122284\n",
      "Training until validation scores don't improve for 10 rounds\n"
     ]
    },
    {
     "name": "stderr",
     "output_type": "stream",
     "text": [
      "[I 2023-12-02 13:33:37,156] Trial 11 finished with value: 0.7652805482930798 and parameters: {'num_leaves': 245}. Best is trial 10 with value: 0.7619784999541133.\n"
     ]
    },
    {
     "name": "stdout",
     "output_type": "stream",
     "text": [
      "Early stopping, best iteration is:\n",
      "[55]\tcv_agg's valid auc: 0.765281 + 0.0119364\n",
      "Training until validation scores don't improve for 10 rounds\n"
     ]
    },
    {
     "name": "stderr",
     "output_type": "stream",
     "text": [
      "[I 2023-12-02 13:33:39,104] Trial 12 finished with value: 0.7663938523823599 and parameters: {'num_leaves': 256}. Best is trial 10 with value: 0.7619784999541133.\n"
     ]
    },
    {
     "name": "stdout",
     "output_type": "stream",
     "text": [
      "Early stopping, best iteration is:\n",
      "[54]\tcv_agg's valid auc: 0.766394 + 0.0119335\n",
      "Training until validation scores don't improve for 10 rounds\n"
     ]
    },
    {
     "name": "stderr",
     "output_type": "stream",
     "text": [
      "[I 2023-12-02 13:33:41,020] Trial 13 finished with value: 0.7663938523823599 and parameters: {'num_leaves': 256}. Best is trial 10 with value: 0.7619784999541133.\n"
     ]
    },
    {
     "name": "stdout",
     "output_type": "stream",
     "text": [
      "Early stopping, best iteration is:\n",
      "[54]\tcv_agg's valid auc: 0.766394 + 0.0119335\n",
      "Training until validation scores don't improve for 10 rounds\n"
     ]
    },
    {
     "name": "stderr",
     "output_type": "stream",
     "text": [
      "[I 2023-12-02 13:33:42,262] Trial 14 finished with value: 0.7644709210366825 and parameters: {'num_leaves': 206}. Best is trial 10 with value: 0.7619784999541133.\n"
     ]
    },
    {
     "name": "stdout",
     "output_type": "stream",
     "text": [
      "Early stopping, best iteration is:\n",
      "[37]\tcv_agg's valid auc: 0.764471 + 0.0116026\n",
      "Training until validation scores don't improve for 10 rounds\n"
     ]
    },
    {
     "name": "stderr",
     "output_type": "stream",
     "text": [
      "[I 2023-12-02 13:33:43,779] Trial 15 finished with value: 0.767509395493732 and parameters: {'num_leaves': 195}. Best is trial 10 with value: 0.7619784999541133.\n"
     ]
    },
    {
     "name": "stdout",
     "output_type": "stream",
     "text": [
      "Early stopping, best iteration is:\n",
      "[52]\tcv_agg's valid auc: 0.767509 + 0.0110817\n",
      "Training until validation scores don't improve for 10 rounds\n"
     ]
    },
    {
     "name": "stderr",
     "output_type": "stream",
     "text": [
      "[I 2023-12-02 13:33:44,315] Trial 16 finished with value: 0.7688277730378492 and parameters: {'num_leaves': 74}. Best is trial 10 with value: 0.7619784999541133.\n"
     ]
    },
    {
     "name": "stdout",
     "output_type": "stream",
     "text": [
      "Early stopping, best iteration is:\n",
      "[32]\tcv_agg's valid auc: 0.768828 + 0.0129099\n",
      "Training until validation scores don't improve for 10 rounds\n"
     ]
    },
    {
     "name": "stderr",
     "output_type": "stream",
     "text": [
      "[I 2023-12-02 13:33:45,519] Trial 17 finished with value: 0.7641745367521788 and parameters: {'num_leaves': 200}. Best is trial 10 with value: 0.7619784999541133.\n"
     ]
    },
    {
     "name": "stdout",
     "output_type": "stream",
     "text": [
      "Early stopping, best iteration is:\n",
      "[37]\tcv_agg's valid auc: 0.764175 + 0.0114712\n",
      "Training until validation scores don't improve for 10 rounds\n"
     ]
    },
    {
     "name": "stderr",
     "output_type": "stream",
     "text": [
      "[I 2023-12-02 13:33:46,516] Trial 18 finished with value: 0.7632945130199199 and parameters: {'num_leaves': 202}. Best is trial 10 with value: 0.7619784999541133.\n"
     ]
    },
    {
     "name": "stdout",
     "output_type": "stream",
     "text": [
      "Early stopping, best iteration is:\n",
      "[29]\tcv_agg's valid auc: 0.763295 + 0.0118788\n",
      "Training until validation scores don't improve for 10 rounds\n"
     ]
    },
    {
     "name": "stderr",
     "output_type": "stream",
     "text": [
      "[I 2023-12-02 13:33:47,279] Trial 19 finished with value: 0.7700464955485347 and parameters: {'num_leaves': 96}. Best is trial 10 with value: 0.7619784999541133.\n"
     ]
    },
    {
     "name": "stdout",
     "output_type": "stream",
     "text": [
      "Early stopping, best iteration is:\n",
      "[41]\tcv_agg's valid auc: 0.770046 + 0.00752135\n",
      "Training until validation scores don't improve for 10 rounds\n"
     ]
    },
    {
     "name": "stderr",
     "output_type": "stream",
     "text": [
      "[I 2023-12-02 13:33:47,578] Trial 20 finished with value: 0.7818873901033538 and parameters: {'num_leaves': 16}. Best is trial 10 with value: 0.7619784999541133.\n"
     ]
    },
    {
     "name": "stdout",
     "output_type": "stream",
     "text": [
      "Early stopping, best iteration is:\n",
      "[56]\tcv_agg's valid auc: 0.781887 + 0.00971361\n",
      "Training until validation scores don't improve for 10 rounds\n"
     ]
    },
    {
     "name": "stderr",
     "output_type": "stream",
     "text": [
      "[I 2023-12-02 13:33:48,376] Trial 21 finished with value: 0.7620151641648333 and parameters: {'num_leaves': 201}. Best is trial 10 with value: 0.7619784999541133.\n"
     ]
    },
    {
     "name": "stdout",
     "output_type": "stream",
     "text": [
      "Early stopping, best iteration is:\n",
      "[20]\tcv_agg's valid auc: 0.762015 + 0.0106945\n",
      "Training until validation scores don't improve for 10 rounds\n"
     ]
    },
    {
     "name": "stderr",
     "output_type": "stream",
     "text": [
      "[I 2023-12-02 13:33:49,865] Trial 22 finished with value: 0.7661531007037585 and parameters: {'num_leaves': 221}. Best is trial 10 with value: 0.7619784999541133.\n"
     ]
    },
    {
     "name": "stdout",
     "output_type": "stream",
     "text": [
      "Early stopping, best iteration is:\n",
      "[45]\tcv_agg's valid auc: 0.766153 + 0.0123936\n",
      "Training until validation scores don't improve for 10 rounds\n"
     ]
    },
    {
     "name": "stderr",
     "output_type": "stream",
     "text": [
      "[I 2023-12-02 13:33:50,818] Trial 23 finished with value: 0.7671118822438843 and parameters: {'num_leaves': 167}. Best is trial 10 with value: 0.7619784999541133.\n"
     ]
    },
    {
     "name": "stdout",
     "output_type": "stream",
     "text": [
      "Early stopping, best iteration is:\n",
      "[32]\tcv_agg's valid auc: 0.767112 + 0.0110523\n",
      "Training until validation scores don't improve for 10 rounds\n"
     ]
    },
    {
     "name": "stderr",
     "output_type": "stream",
     "text": [
      "[I 2023-12-02 13:33:53,688] Trial 24 finished with value: 0.7678032921553 and parameters: {'num_leaves': 225}. Best is trial 10 with value: 0.7619784999541133.\n"
     ]
    },
    {
     "name": "stdout",
     "output_type": "stream",
     "text": [
      "[100]\tcv_agg's valid auc: 0.767476 + 0.0128997\n",
      "Early stopping, best iteration is:\n",
      "[96]\tcv_agg's valid auc: 0.767803 + 0.0130191\n",
      "Training until validation scores don't improve for 10 rounds\n"
     ]
    },
    {
     "name": "stderr",
     "output_type": "stream",
     "text": [
      "[I 2023-12-02 13:33:54,897] Trial 25 finished with value: 0.7655224202929699 and parameters: {'num_leaves': 179}. Best is trial 10 with value: 0.7619784999541133.\n"
     ]
    },
    {
     "name": "stdout",
     "output_type": "stream",
     "text": [
      "Early stopping, best iteration is:\n",
      "[31]\tcv_agg's valid auc: 0.765522 + 0.00880241\n",
      "Training until validation scores don't improve for 10 rounds\n"
     ]
    },
    {
     "name": "stderr",
     "output_type": "stream",
     "text": [
      "[I 2023-12-02 13:33:55,710] Trial 26 finished with value: 0.7692262747473162 and parameters: {'num_leaves': 105}. Best is trial 10 with value: 0.7619784999541133.\n",
      "num_leaves, val_score: 0.761978: 100%|##########| 20/20 [00:24<00:00,  1.20s/it]\n"
     ]
    },
    {
     "name": "stdout",
     "output_type": "stream",
     "text": [
      "Early stopping, best iteration is:\n",
      "[29]\tcv_agg's valid auc: 0.769226 + 0.00874115\n"
     ]
    },
    {
     "name": "stderr",
     "output_type": "stream",
     "text": []
    },
    {
     "name": "stdout",
     "output_type": "stream",
     "text": [
      "Training until validation scores don't improve for 10 rounds\n"
     ]
    },
    {
     "name": "stderr",
     "output_type": "stream",
     "text": [
      "[I 2023-12-02 13:33:56,990] Trial 27 finished with value: 0.7635320453088186 and parameters: {'bagging_fraction': 0.5176561185856259, 'bagging_freq': 3}. Best is trial 27 with value: 0.7635320453088186.\n"
     ]
    },
    {
     "name": "stdout",
     "output_type": "stream",
     "text": [
      "Early stopping, best iteration is:\n",
      "[33]\tcv_agg's valid auc: 0.763532 + 0.0117032\n",
      "Training until validation scores don't improve for 10 rounds\n"
     ]
    },
    {
     "name": "stderr",
     "output_type": "stream",
     "text": [
      "[I 2023-12-02 13:33:59,874] Trial 28 finished with value: 0.7678498157879554 and parameters: {'bagging_fraction': 0.9740959223361456, 'bagging_freq': 7}. Best is trial 27 with value: 0.7635320453088186.\n"
     ]
    },
    {
     "name": "stdout",
     "output_type": "stream",
     "text": [
      "Early stopping, best iteration is:\n",
      "[64]\tcv_agg's valid auc: 0.76785 + 0.0121986\n",
      "Training until validation scores don't improve for 10 rounds\n"
     ]
    },
    {
     "name": "stderr",
     "output_type": "stream",
     "text": [
      "[I 2023-12-02 13:34:00,970] Trial 29 finished with value: 0.7691390632512024 and parameters: {'bagging_fraction': 0.411446709526443, 'bagging_freq': 1}. Best is trial 27 with value: 0.7635320453088186.\n"
     ]
    },
    {
     "name": "stdout",
     "output_type": "stream",
     "text": [
      "Early stopping, best iteration is:\n",
      "[33]\tcv_agg's valid auc: 0.769139 + 0.0128139\n",
      "Training until validation scores don't improve for 10 rounds\n"
     ]
    },
    {
     "name": "stderr",
     "output_type": "stream",
     "text": [
      "[I 2023-12-02 13:34:04,725] Trial 30 finished with value: 0.7665221890214751 and parameters: {'bagging_fraction': 0.7699502972668897, 'bagging_freq': 7}. Best is trial 27 with value: 0.7635320453088186.\n"
     ]
    },
    {
     "name": "stdout",
     "output_type": "stream",
     "text": [
      "Early stopping, best iteration is:\n",
      "[55]\tcv_agg's valid auc: 0.766522 + 0.013685\n",
      "Training until validation scores don't improve for 10 rounds\n"
     ]
    },
    {
     "name": "stderr",
     "output_type": "stream",
     "text": [
      "[I 2023-12-02 13:34:07,581] Trial 31 finished with value: 0.7622532672302682 and parameters: {'bagging_fraction': 0.4675420529000365, 'bagging_freq': 3}. Best is trial 31 with value: 0.7622532672302682.\n"
     ]
    },
    {
     "name": "stdout",
     "output_type": "stream",
     "text": [
      "Early stopping, best iteration is:\n",
      "[64]\tcv_agg's valid auc: 0.762253 + 0.014607\n",
      "Training until validation scores don't improve for 10 rounds\n"
     ]
    },
    {
     "name": "stderr",
     "output_type": "stream",
     "text": [
      "[I 2023-12-02 13:34:08,719] Trial 32 finished with value: 0.7646935753234742 and parameters: {'bagging_fraction': 0.5564082510273052, 'bagging_freq': 4}. Best is trial 31 with value: 0.7622532672302682.\n"
     ]
    },
    {
     "name": "stdout",
     "output_type": "stream",
     "text": [
      "Early stopping, best iteration is:\n",
      "[26]\tcv_agg's valid auc: 0.764694 + 0.0106558\n",
      "Training until validation scores don't improve for 10 rounds\n"
     ]
    },
    {
     "name": "stderr",
     "output_type": "stream",
     "text": [
      "[I 2023-12-02 13:34:09,776] Trial 33 finished with value: 0.7644600930752363 and parameters: {'bagging_fraction': 0.667876561928947, 'bagging_freq': 2}. Best is trial 31 with value: 0.7622532672302682.\n"
     ]
    },
    {
     "name": "stdout",
     "output_type": "stream",
     "text": [
      "Early stopping, best iteration is:\n",
      "[20]\tcv_agg's valid auc: 0.76446 + 0.0115173\n",
      "Training until validation scores don't improve for 10 rounds\n"
     ]
    },
    {
     "name": "stderr",
     "output_type": "stream",
     "text": [
      "[I 2023-12-02 13:34:10,764] Trial 34 finished with value: 0.7574414150360678 and parameters: {'bagging_fraction': 0.4062443238209088, 'bagging_freq': 5}. Best is trial 34 with value: 0.7574414150360678.\n"
     ]
    },
    {
     "name": "stdout",
     "output_type": "stream",
     "text": [
      "Early stopping, best iteration is:\n",
      "[34]\tcv_agg's valid auc: 0.757441 + 0.011333\n",
      "Training until validation scores don't improve for 10 rounds\n"
     ]
    },
    {
     "name": "stderr",
     "output_type": "stream",
     "text": [
      "[I 2023-12-02 13:34:11,702] Trial 35 finished with value: 0.7571439361998531 and parameters: {'bagging_fraction': 0.4134518225292541, 'bagging_freq': 5}. Best is trial 35 with value: 0.7571439361998531.\n"
     ]
    },
    {
     "name": "stdout",
     "output_type": "stream",
     "text": [
      "Early stopping, best iteration is:\n",
      "[28]\tcv_agg's valid auc: 0.757144 + 0.0144729\n",
      "Training until validation scores don't improve for 10 rounds\n"
     ]
    },
    {
     "name": "stderr",
     "output_type": "stream",
     "text": [
      "[I 2023-12-02 13:34:12,694] Trial 36 finished with value: 0.7609711080212975 and parameters: {'bagging_fraction': 0.4085118386845046, 'bagging_freq': 5}. Best is trial 35 with value: 0.7571439361998531.\n",
      "bagging, val_score: 0.757144: 100%|##########| 10/10 [00:16<00:00,  1.70s/it]\n"
     ]
    },
    {
     "name": "stdout",
     "output_type": "stream",
     "text": [
      "Early stopping, best iteration is:\n",
      "[33]\tcv_agg's valid auc: 0.760971 + 0.00909698\n"
     ]
    },
    {
     "name": "stderr",
     "output_type": "stream",
     "text": []
    },
    {
     "name": "stdout",
     "output_type": "stream",
     "text": [
      "Training until validation scores don't improve for 10 rounds\n"
     ]
    },
    {
     "name": "stderr",
     "output_type": "stream",
     "text": [
      "[I 2023-12-02 13:34:13,615] Trial 37 finished with value: 0.7584674856187594 and parameters: {'feature_fraction': 0.8160000000000001}. Best is trial 37 with value: 0.7584674856187594.\n"
     ]
    },
    {
     "name": "stdout",
     "output_type": "stream",
     "text": [
      "Early stopping, best iteration is:\n",
      "[28]\tcv_agg's valid auc: 0.758467 + 0.00722315\n",
      "Training until validation scores don't improve for 10 rounds\n"
     ]
    },
    {
     "name": "stderr",
     "output_type": "stream",
     "text": [
      "[I 2023-12-02 13:34:14,494] Trial 38 finished with value: 0.7609950621067654 and parameters: {'feature_fraction': 0.8480000000000001}. Best is trial 37 with value: 0.7584674856187594.\n"
     ]
    },
    {
     "name": "stdout",
     "output_type": "stream",
     "text": [
      "Early stopping, best iteration is:\n",
      "[28]\tcv_agg's valid auc: 0.760995 + 0.0113843\n",
      "Training until validation scores don't improve for 10 rounds\n"
     ]
    },
    {
     "name": "stderr",
     "output_type": "stream",
     "text": [
      "[I 2023-12-02 13:34:15,383] Trial 39 finished with value: 0.7571439361998531 and parameters: {'feature_fraction': 0.784}. Best is trial 39 with value: 0.7571439361998531.\n"
     ]
    },
    {
     "name": "stdout",
     "output_type": "stream",
     "text": [
      "Early stopping, best iteration is:\n",
      "[28]\tcv_agg's valid auc: 0.757144 + 0.0144729\n",
      "Training until validation scores don't improve for 10 rounds\n"
     ]
    },
    {
     "name": "stderr",
     "output_type": "stream",
     "text": [
      "[I 2023-12-02 13:34:16,286] Trial 40 finished with value: 0.7640418891579954 and parameters: {'feature_fraction': 0.7520000000000001}. Best is trial 39 with value: 0.7571439361998531.\n"
     ]
    },
    {
     "name": "stdout",
     "output_type": "stream",
     "text": [
      "Early stopping, best iteration is:\n",
      "[31]\tcv_agg's valid auc: 0.764042 + 0.00791822\n",
      "Training until validation scores don't improve for 10 rounds\n"
     ]
    },
    {
     "name": "stderr",
     "output_type": "stream",
     "text": [
      "[I 2023-12-02 13:34:17,253] Trial 41 finished with value: 0.7588055848929417 and parameters: {'feature_fraction': 0.88}. Best is trial 39 with value: 0.7571439361998531.\n"
     ]
    },
    {
     "name": "stdout",
     "output_type": "stream",
     "text": [
      "Early stopping, best iteration is:\n",
      "[30]\tcv_agg's valid auc: 0.758806 + 0.0106168\n",
      "Training until validation scores don't improve for 10 rounds\n"
     ]
    },
    {
     "name": "stderr",
     "output_type": "stream",
     "text": [
      "[I 2023-12-02 13:34:18,564] Trial 42 finished with value: 0.7564770569687229 and parameters: {'feature_fraction': 0.7200000000000001}. Best is trial 42 with value: 0.7564770569687229.\n",
      "feature_fraction_stage2, val_score: 0.756477: 100%|##########| 6/6 [00:05<00:00,  1.02it/s]\n"
     ]
    },
    {
     "name": "stdout",
     "output_type": "stream",
     "text": [
      "Early stopping, best iteration is:\n",
      "[27]\tcv_agg's valid auc: 0.756477 + 0.00926229\n"
     ]
    },
    {
     "name": "stderr",
     "output_type": "stream",
     "text": []
    },
    {
     "name": "stdout",
     "output_type": "stream",
     "text": [
      "Training until validation scores don't improve for 10 rounds\n"
     ]
    },
    {
     "name": "stderr",
     "output_type": "stream",
     "text": [
      "[I 2023-12-02 13:34:19,787] Trial 43 finished with value: 0.7577681371239947 and parameters: {'lambda_l1': 0.0002323753394122677, 'lambda_l2': 0.00011904096614519918}. Best is trial 43 with value: 0.7577681371239947.\n"
     ]
    },
    {
     "name": "stdout",
     "output_type": "stream",
     "text": [
      "Early stopping, best iteration is:\n",
      "[36]\tcv_agg's valid auc: 0.757768 + 0.0119842\n",
      "Training until validation scores don't improve for 10 rounds\n"
     ]
    },
    {
     "name": "stderr",
     "output_type": "stream",
     "text": [
      "[I 2023-12-02 13:34:20,759] Trial 44 finished with value: 0.758021774786718 and parameters: {'lambda_l1': 0.0006563644875621956, 'lambda_l2': 9.378927441049031e-05}. Best is trial 43 with value: 0.7577681371239947.\n"
     ]
    },
    {
     "name": "stdout",
     "output_type": "stream",
     "text": [
      "Early stopping, best iteration is:\n",
      "[27]\tcv_agg's valid auc: 0.758022 + 0.0151408\n",
      "Training until validation scores don't improve for 10 rounds\n"
     ]
    },
    {
     "name": "stderr",
     "output_type": "stream",
     "text": [
      "[I 2023-12-02 13:34:21,573] Trial 45 finished with value: 0.7661122916524172 and parameters: {'lambda_l1': 6.523299489976732e-08, 'lambda_l2': 0.4953582181223987}. Best is trial 43 with value: 0.7577681371239947.\n"
     ]
    },
    {
     "name": "stdout",
     "output_type": "stream",
     "text": [
      "Early stopping, best iteration is:\n",
      "[29]\tcv_agg's valid auc: 0.766112 + 0.0124284\n",
      "Training until validation scores don't improve for 10 rounds\n"
     ]
    },
    {
     "name": "stderr",
     "output_type": "stream",
     "text": [
      "[I 2023-12-02 13:34:22,229] Trial 46 finished with value: 0.7684898160430252 and parameters: {'lambda_l1': 2.5335399584196603, 'lambda_l2': 2.6329692238054268e-08}. Best is trial 43 with value: 0.7577681371239947.\n"
     ]
    },
    {
     "name": "stdout",
     "output_type": "stream",
     "text": [
      "Early stopping, best iteration is:\n",
      "[32]\tcv_agg's valid auc: 0.76849 + 0.0140459\n",
      "Training until validation scores don't improve for 10 rounds\n"
     ]
    },
    {
     "name": "stderr",
     "output_type": "stream",
     "text": [
      "[I 2023-12-02 13:34:23,708] Trial 47 finished with value: 0.7637721153657238 and parameters: {'lambda_l1': 8.944260677985819e-05, 'lambda_l2': 0.0002618119183198252}. Best is trial 43 with value: 0.7577681371239947.\n"
     ]
    },
    {
     "name": "stdout",
     "output_type": "stream",
     "text": [
      "Early stopping, best iteration is:\n",
      "[54]\tcv_agg's valid auc: 0.763772 + 0.0127877\n",
      "Training until validation scores don't improve for 10 rounds\n"
     ]
    },
    {
     "name": "stderr",
     "output_type": "stream",
     "text": [
      "[I 2023-12-02 13:34:24,618] Trial 48 finished with value: 0.7698239696968728 and parameters: {'lambda_l1': 0.00042141138341293975, 'lambda_l2': 0.6983415978620136}. Best is trial 43 with value: 0.7577681371239947.\n"
     ]
    },
    {
     "name": "stdout",
     "output_type": "stream",
     "text": [
      "Early stopping, best iteration is:\n",
      "[39]\tcv_agg's valid auc: 0.769824 + 0.0123232\n",
      "Training until validation scores don't improve for 10 rounds\n"
     ]
    },
    {
     "name": "stderr",
     "output_type": "stream",
     "text": [
      "[I 2023-12-02 13:34:25,767] Trial 49 finished with value: 0.7603566714170085 and parameters: {'lambda_l1': 1.3792695614630632e-07, 'lambda_l2': 1.164361553859261e-06}. Best is trial 43 with value: 0.7577681371239947.\n"
     ]
    },
    {
     "name": "stdout",
     "output_type": "stream",
     "text": [
      "Early stopping, best iteration is:\n",
      "[40]\tcv_agg's valid auc: 0.760357 + 0.0111169\n",
      "Training until validation scores don't improve for 10 rounds\n"
     ]
    },
    {
     "name": "stderr",
     "output_type": "stream",
     "text": [
      "[I 2023-12-02 13:34:26,520] Trial 50 finished with value: 0.7604054804057633 and parameters: {'lambda_l1': 0.2220798829132675, 'lambda_l2': 0.005575330748158851}. Best is trial 43 with value: 0.7577681371239947.\n"
     ]
    },
    {
     "name": "stdout",
     "output_type": "stream",
     "text": [
      "Early stopping, best iteration is:\n",
      "[29]\tcv_agg's valid auc: 0.760405 + 0.0120695\n",
      "Training until validation scores don't improve for 10 rounds\n"
     ]
    },
    {
     "name": "stderr",
     "output_type": "stream",
     "text": [
      "[I 2023-12-02 13:34:27,477] Trial 51 finished with value: 0.7634773218124467 and parameters: {'lambda_l1': 0.0008324245468197891, 'lambda_l2': 6.29421951604656e-05}. Best is trial 43 with value: 0.7577681371239947.\n"
     ]
    },
    {
     "name": "stdout",
     "output_type": "stream",
     "text": [
      "Early stopping, best iteration is:\n",
      "[32]\tcv_agg's valid auc: 0.763477 + 0.0118132\n",
      "Training until validation scores don't improve for 10 rounds\n"
     ]
    },
    {
     "name": "stderr",
     "output_type": "stream",
     "text": [
      "[I 2023-12-02 13:34:28,639] Trial 52 finished with value: 0.7628537657504089 and parameters: {'lambda_l1': 2.506043496381955e-05, 'lambda_l2': 1.3542442730112042e-05}. Best is trial 43 with value: 0.7577681371239947.\n"
     ]
    },
    {
     "name": "stdout",
     "output_type": "stream",
     "text": [
      "Early stopping, best iteration is:\n",
      "[40]\tcv_agg's valid auc: 0.762854 + 0.0100998\n",
      "Training until validation scores don't improve for 10 rounds\n"
     ]
    },
    {
     "name": "stderr",
     "output_type": "stream",
     "text": [
      "[I 2023-12-02 13:34:29,592] Trial 53 finished with value: 0.7596104871648779 and parameters: {'lambda_l1': 0.013715295587399659, 'lambda_l2': 0.002601941306939417}. Best is trial 43 with value: 0.7577681371239947.\n"
     ]
    },
    {
     "name": "stdout",
     "output_type": "stream",
     "text": [
      "Early stopping, best iteration is:\n",
      "[34]\tcv_agg's valid auc: 0.75961 + 0.0153048\n",
      "Training until validation scores don't improve for 10 rounds\n"
     ]
    },
    {
     "name": "stderr",
     "output_type": "stream",
     "text": [
      "[I 2023-12-02 13:34:30,826] Trial 54 finished with value: 0.7555130790936826 and parameters: {'lambda_l1': 2.4643542718334723e-06, 'lambda_l2': 7.623398844172616e-06}. Best is trial 54 with value: 0.7555130790936826.\n"
     ]
    },
    {
     "name": "stdout",
     "output_type": "stream",
     "text": [
      "Early stopping, best iteration is:\n",
      "[40]\tcv_agg's valid auc: 0.755513 + 0.0168176\n",
      "Training until validation scores don't improve for 10 rounds\n"
     ]
    },
    {
     "name": "stderr",
     "output_type": "stream",
     "text": [
      "[I 2023-12-02 13:34:32,034] Trial 55 finished with value: 0.7614950165369301 and parameters: {'lambda_l1': 5.336397066477951e-06, 'lambda_l2': 1.30905117795242e-06}. Best is trial 54 with value: 0.7555130790936826.\n"
     ]
    },
    {
     "name": "stdout",
     "output_type": "stream",
     "text": [
      "Early stopping, best iteration is:\n",
      "[40]\tcv_agg's valid auc: 0.761495 + 0.0130959\n",
      "Training until validation scores don't improve for 10 rounds\n"
     ]
    },
    {
     "name": "stderr",
     "output_type": "stream",
     "text": [
      "[I 2023-12-02 13:34:32,924] Trial 56 finished with value: 0.7591988351177101 and parameters: {'lambda_l1': 1.283334685796125e-06, 'lambda_l2': 0.003067519664962252}. Best is trial 54 with value: 0.7555130790936826.\n"
     ]
    },
    {
     "name": "stdout",
     "output_type": "stream",
     "text": [
      "Early stopping, best iteration is:\n",
      "[28]\tcv_agg's valid auc: 0.759199 + 0.00912842\n",
      "Training until validation scores don't improve for 10 rounds\n"
     ]
    },
    {
     "name": "stderr",
     "output_type": "stream",
     "text": [
      "[I 2023-12-02 13:34:33,875] Trial 57 finished with value: 0.7594998079233823 and parameters: {'lambda_l1': 1.3053058064350356e-06, 'lambda_l2': 3.8628831128089694e-06}. Best is trial 54 with value: 0.7555130790936826.\n"
     ]
    },
    {
     "name": "stdout",
     "output_type": "stream",
     "text": [
      "Early stopping, best iteration is:\n",
      "[29]\tcv_agg's valid auc: 0.7595 + 0.00928874\n",
      "Training until validation scores don't improve for 10 rounds\n"
     ]
    },
    {
     "name": "stderr",
     "output_type": "stream",
     "text": [
      "[I 2023-12-02 13:34:34,744] Trial 58 finished with value: 0.7569277258998248 and parameters: {'lambda_l1': 1.6309034623888164e-08, 'lambda_l2': 1.067023943190922e-07}. Best is trial 54 with value: 0.7555130790936826.\n"
     ]
    },
    {
     "name": "stdout",
     "output_type": "stream",
     "text": [
      "Early stopping, best iteration is:\n",
      "[27]\tcv_agg's valid auc: 0.756928 + 0.0110204\n",
      "Training until validation scores don't improve for 10 rounds\n"
     ]
    },
    {
     "name": "stderr",
     "output_type": "stream",
     "text": [
      "[I 2023-12-02 13:34:35,745] Trial 59 finished with value: 0.7571107675931612 and parameters: {'lambda_l1': 2.109047251657721e-08, 'lambda_l2': 1.0260604938371742e-08}. Best is trial 54 with value: 0.7555130790936826.\n"
     ]
    },
    {
     "name": "stdout",
     "output_type": "stream",
     "text": [
      "Early stopping, best iteration is:\n",
      "[30]\tcv_agg's valid auc: 0.757111 + 0.0103134\n",
      "Training until validation scores don't improve for 10 rounds\n"
     ]
    },
    {
     "name": "stderr",
     "output_type": "stream",
     "text": [
      "[I 2023-12-02 13:34:36,625] Trial 60 finished with value: 0.75765569434705 and parameters: {'lambda_l1': 1.1501740398965347e-08, 'lambda_l2': 1.0882582755972442e-08}. Best is trial 54 with value: 0.7555130790936826.\n"
     ]
    },
    {
     "name": "stdout",
     "output_type": "stream",
     "text": [
      "Early stopping, best iteration is:\n",
      "[27]\tcv_agg's valid auc: 0.757656 + 0.00811194\n",
      "Training until validation scores don't improve for 10 rounds\n"
     ]
    },
    {
     "name": "stderr",
     "output_type": "stream",
     "text": [
      "[I 2023-12-02 13:34:37,558] Trial 61 finished with value: 0.7572361445670454 and parameters: {'lambda_l1': 1.1129330277485574e-08, 'lambda_l2': 1.1924226456189895e-07}. Best is trial 54 with value: 0.7555130790936826.\n"
     ]
    },
    {
     "name": "stdout",
     "output_type": "stream",
     "text": [
      "Early stopping, best iteration is:\n",
      "[28]\tcv_agg's valid auc: 0.757236 + 0.0113024\n",
      "Training until validation scores don't improve for 10 rounds\n"
     ]
    },
    {
     "name": "stderr",
     "output_type": "stream",
     "text": [
      "[I 2023-12-02 13:34:38,477] Trial 62 finished with value: 0.7563325542631167 and parameters: {'lambda_l1': 1.3162539997978572e-08, 'lambda_l2': 8.174079153600945e-08}. Best is trial 54 with value: 0.7555130790936826.\n",
      "regularization_factors, val_score: 0.755513: 100%|##########| 20/20 [00:19<00:00,  1.01it/s]\n"
     ]
    },
    {
     "name": "stdout",
     "output_type": "stream",
     "text": [
      "Early stopping, best iteration is:\n",
      "[28]\tcv_agg's valid auc: 0.756333 + 0.011256\n"
     ]
    },
    {
     "name": "stderr",
     "output_type": "stream",
     "text": []
    },
    {
     "name": "stdout",
     "output_type": "stream",
     "text": [
      "Training until validation scores don't improve for 10 rounds\n"
     ]
    },
    {
     "name": "stderr",
     "output_type": "stream",
     "text": [
      "[I 2023-12-02 13:34:39,128] Trial 63 finished with value: 0.764206628910063 and parameters: {'min_child_samples': 25}. Best is trial 63 with value: 0.764206628910063.\n"
     ]
    },
    {
     "name": "stdout",
     "output_type": "stream",
     "text": [
      "Early stopping, best iteration is:\n",
      "[22]\tcv_agg's valid auc: 0.764207 + 0.00775435\n",
      "Training until validation scores don't improve for 10 rounds\n"
     ]
    },
    {
     "name": "stderr",
     "output_type": "stream",
     "text": [
      "[I 2023-12-02 13:34:41,026] Trial 64 finished with value: 0.7650187445792265 and parameters: {'min_child_samples': 10}. Best is trial 63 with value: 0.764206628910063.\n"
     ]
    },
    {
     "name": "stdout",
     "output_type": "stream",
     "text": [
      "Early stopping, best iteration is:\n",
      "[40]\tcv_agg's valid auc: 0.765019 + 0.012452\n",
      "Training until validation scores don't improve for 10 rounds\n"
     ]
    },
    {
     "name": "stderr",
     "output_type": "stream",
     "text": [
      "[I 2023-12-02 13:34:44,060] Trial 65 finished with value: 0.7611700165014879 and parameters: {'min_child_samples': 5}. Best is trial 65 with value: 0.7611700165014879.\n"
     ]
    },
    {
     "name": "stdout",
     "output_type": "stream",
     "text": [
      "Early stopping, best iteration is:\n",
      "[62]\tcv_agg's valid auc: 0.76117 + 0.0108529\n",
      "Training until validation scores don't improve for 10 rounds\n"
     ]
    },
    {
     "name": "stderr",
     "output_type": "stream",
     "text": [
      "[I 2023-12-02 13:34:44,449] Trial 66 finished with value: 0.7749667498084737 and parameters: {'min_child_samples': 100}. Best is trial 65 with value: 0.7611700165014879.\n"
     ]
    },
    {
     "name": "stdout",
     "output_type": "stream",
     "text": [
      "Early stopping, best iteration is:\n",
      "[32]\tcv_agg's valid auc: 0.774967 + 0.0119417\n",
      "Training until validation scores don't improve for 10 rounds\n"
     ]
    },
    {
     "name": "stderr",
     "output_type": "stream",
     "text": [
      "[I 2023-12-02 13:34:44,851] Trial 67 finished with value: 0.7689003064447971 and parameters: {'min_child_samples': 50}. Best is trial 65 with value: 0.7611700165014879.\n",
      "min_child_samples, val_score: 0.755513: 100%|##########| 5/5 [00:06<00:00,  1.27s/it]"
     ]
    },
    {
     "name": "stdout",
     "output_type": "stream",
     "text": [
      "Early stopping, best iteration is:\n",
      "[22]\tcv_agg's valid auc: 0.7689 + 0.00879654\n"
     ]
    },
    {
     "name": "stderr",
     "output_type": "stream",
     "text": [
      "\n"
     ]
    }
   ],
   "source": [
    "folds = StratifiedKFold(n_splits=5, shuffle=True, random_state=100)\n",
    "lgb_params = {\n",
    "    'objective':'binary',\n",
    "    'metric': ['auc'],\n",
    "    'verbosity':-1,\n",
    "    'random_state':100,\n",
    "}\n",
    "tuner_cv = lgb.LightGBMTunerCV(\n",
    "    lgb_params, lgb_train,\n",
    "    num_boost_round=1000,\n",
    "    callbacks=[lgb.early_stopping(stopping_rounds=10, verbose=True),\n",
    "                lgb.log_evaluation(100)],\n",
    "    return_cvbooster=True,\n",
    "    folds=folds\n",
    ")\n",
    "\n",
    "tuner_cv.run()"
   ]
  },
  {
   "cell_type": "code",
   "execution_count": null,
   "metadata": {},
   "outputs": [
    {
     "ename": "TypeError",
     "evalue": "booster must be Booster or LGBMModel.",
     "output_type": "error",
     "traceback": [
      "\u001b[1;31m---------------------------------------------------------------------------\u001b[0m",
      "\u001b[1;31mTypeError\u001b[0m                                 Traceback (most recent call last)",
      "\u001b[1;32mc:\\Users\\masak\\workspace\\lab\\thesis_data2\\learning_process\\notebook\\lgb_tune.ipynb Cell 7\u001b[0m line \u001b[0;36m2\n\u001b[0;32m      <a href='vscode-notebook-cell:/c%3A/Users/masak/workspace/lab/thesis_data2/learning_process/notebook/lgb_tune.ipynb#X16sZmlsZQ%3D%3D?line=0'>1</a>\u001b[0m model \u001b[39m=\u001b[39m tuner_cv\u001b[39m.\u001b[39mget_best_booster()\n\u001b[1;32m----> <a href='vscode-notebook-cell:/c%3A/Users/masak/workspace/lab/thesis_data2/learning_process/notebook/lgb_tune.ipynb#X16sZmlsZQ%3D%3D?line=1'>2</a>\u001b[0m lgb\u001b[39m.\u001b[39;49mplot_importance(model, figsize\u001b[39m=\u001b[39;49m(\u001b[39m8\u001b[39;49m,\u001b[39m4\u001b[39;49m), max_num_features\u001b[39m=\u001b[39;49m\u001b[39m5\u001b[39;49m, importance_type\u001b[39m=\u001b[39;49m\u001b[39m'\u001b[39;49m\u001b[39mgain\u001b[39;49m\u001b[39m'\u001b[39;49m)\n",
      "File \u001b[1;32mc:\\Users\\masak\\anaconda3\\envs\\test\\lib\\site-packages\\lightgbm\\plotting.py:117\u001b[0m, in \u001b[0;36mplot_importance\u001b[1;34m(booster, ax, height, xlim, ylim, title, xlabel, ylabel, importance_type, max_num_features, ignore_zero, figsize, dpi, grid, precision, **kwargs)\u001b[0m\n\u001b[0;32m    115\u001b[0m         importance_type \u001b[39m=\u001b[39m \u001b[39m\"\u001b[39m\u001b[39msplit\u001b[39m\u001b[39m\"\u001b[39m\n\u001b[0;32m    116\u001b[0m \u001b[39melse\u001b[39;00m:\n\u001b[1;32m--> 117\u001b[0m     \u001b[39mraise\u001b[39;00m \u001b[39mTypeError\u001b[39;00m(\u001b[39m'\u001b[39m\u001b[39mbooster must be Booster or LGBMModel.\u001b[39m\u001b[39m'\u001b[39m)\n\u001b[0;32m    119\u001b[0m importance \u001b[39m=\u001b[39m booster\u001b[39m.\u001b[39mfeature_importance(importance_type\u001b[39m=\u001b[39mimportance_type)\n\u001b[0;32m    120\u001b[0m feature_name \u001b[39m=\u001b[39m booster\u001b[39m.\u001b[39mfeature_name()\n",
      "\u001b[1;31mTypeError\u001b[0m: booster must be Booster or LGBMModel."
     ]
    }
   ],
   "source": [
    "model = tuner_cv.get_best_booster()\n",
    "lgb.plot_importance(model, figsize=(8,4), max_num_features=5, importance_type='gain')"
   ]
  },
  {
   "cell_type": "code",
   "execution_count": 31,
   "metadata": {},
   "outputs": [
    {
     "name": "stdout",
     "output_type": "stream",
     "text": [
      "Best score: 0.7555130790936826\n",
      "Best params:\n",
      "{'objective': 'binary', 'metric': ['auc'], 'verbosity': -1, 'random_state': 100, 'feature_pre_filter': False, 'lambda_l1': 2.4643542718334723e-06, 'lambda_l2': 7.623398844172616e-06, 'num_leaves': 255, 'feature_fraction': 0.7200000000000001, 'bagging_fraction': 0.4134518225292541, 'bagging_freq': 5, 'min_child_samples': 20}\n",
      "[0.08399906 0.67614358 0.07154953 ... 0.31959399 0.0325035  0.10412647]\n",
      "0.760050897861146\n",
      "0.4239548979769149\n"
     ]
    }
   ],
   "source": [
    "#openstack auc不均衡対策\n",
    "print(f'Best score: {tuner_cv.best_score}')\n",
    "print('Best params:')\n",
    "print(tuner_cv.best_params)\n",
    "model = tuner_cv.get_best_booster()\n",
    "pred = model.predict(np.array(te_dataset[4]), num_iteration=model.best_iteration)\n",
    "mean_pred = np.mean(pred, axis=0)\n",
    "print(mean_pred)\n",
    "print(roc_auc_score(te_dataset[5], mean_pred))\n",
    "print(log_loss(te_dataset[5], mean_pred))"
   ]
  },
  {
   "cell_type": "code",
   "execution_count": null,
   "metadata": {},
   "outputs": [
    {
     "name": "stdout",
     "output_type": "stream",
     "text": [
      "Best score: 0.7549880606662881\n",
      "Best params:\n",
      "{'objective': 'binary', 'metric': ['auc'], 'verbosity': -1, 'feature_pre_filter': False, 'lambda_l1': 1.0688819400040869e-08, 'lambda_l2': 2.009134552925365e-08, 'num_leaves': 193, 'feature_fraction': 0.5, 'bagging_fraction': 0.41206537271797367, 'bagging_freq': 7, 'min_child_samples': 5}\n",
      "[0.11027334 0.47188375 0.03508401 ... 0.23337967 0.02312295 0.07815113]\n",
      "0.7594111003088185\n",
      "0.38258440278110223\n"
     ]
    }
   ],
   "source": [
    "#openstack auc 不均衡対策\n",
    "print(f'Best score: {tuner_cv.best_score}')\n",
    "print('Best params:')\n",
    "print(tuner_cv.best_params)\n",
    "model = tuner_cv.get_best_booster()\n",
    "pred = model.predict(np.array(te_dataset[4]), num_iteration=model.best_iteration)\n",
    "mean_pred = np.mean(pred, axis=0)\n",
    "print(mean_pred)\n",
    "print(roc_auc_score(te_dataset[5], mean_pred))\n",
    "print(log_loss(te_dataset[5], mean_pred))"
   ]
  },
  {
   "cell_type": "code",
   "execution_count": null,
   "metadata": {},
   "outputs": [
    {
     "name": "stdout",
     "output_type": "stream",
     "text": [
      "Best score: 0.5550660105511195\n",
      "Best params:\n",
      "{'objective': 'binary', 'metric': 'binary_logloss', 'verbosity': -1, 'feature_pre_filter': False, 'lambda_l1': 0.07243602575611423, 'lambda_l2': 0.4875629519730083, 'num_leaves': 3, 'feature_fraction': 0.48000000000000004, 'bagging_fraction': 0.9786784380027866, 'bagging_freq': 1, 'min_child_samples': 20}\n",
      "[0.27600257 0.78501971 0.22246682 ... 0.49865557 0.12164959 0.21928198]\n",
      "0.7777614949102138\n",
      "0.6059180333382632\n"
     ]
    }
   ],
   "source": [
    "#openstack logloss 不均衡対策\n",
    "print(f'Best score: {tuner_cv.best_score}')\n",
    "print('Best params:')\n",
    "print(tuner_cv.best_params)\n",
    "model = tuner_cv.get_best_booster()\n",
    "pred = model.predict(np.array(te_dataset[4]), num_iteration=model.best_iteration)\n",
    "mean_pred = np.mean(pred, axis=0)\n",
    "print(mean_pred)\n",
    "print(roc_auc_score(te_dataset[5], mean_pred))\n",
    "print(log_loss(te_dataset[5], mean_pred))"
   ]
  },
  {
   "cell_type": "code",
   "execution_count": null,
   "metadata": {},
   "outputs": [
    {
     "name": "stdout",
     "output_type": "stream",
     "text": [
      "Best score: 0.7432944713563515\n",
      "Best params:\n",
      "{'objective': 'binary', 'metric': ['auc'], 'verbosity': -1, 'feature_pre_filter': False, 'lambda_l1': 0.0, 'lambda_l2': 0.0, 'num_leaves': 210, 'feature_fraction': 1.0, 'bagging_fraction': 1.0, 'bagging_freq': 0, 'min_child_samples': 20}\n",
      "[0.11186594 0.22893775 0.13879073 ... 0.34276997 0.23048491 0.09704059]\n",
      "0.7819473366170058\n",
      "0.3588729264815595\n"
     ]
    }
   ],
   "source": [
    "#qt auc 不均衡対策\n",
    "print(f'Best score: {tuner_cv.best_score}')\n",
    "print('Best params:')\n",
    "print(tuner_cv.best_params)\n",
    "model = tuner_cv.get_best_booster()\n",
    "pred = model.predict(np.array(te_dataset[4]), num_iteration=model.best_iteration)\n",
    "mean_pred = np.mean(pred, axis=0)\n",
    "print(mean_pred)\n",
    "print(roc_auc_score(te_dataset[5], mean_pred))\n",
    "print(log_loss(te_dataset[5], mean_pred))"
   ]
  },
  {
   "cell_type": "code",
   "execution_count": null,
   "metadata": {},
   "outputs": [
    {
     "name": "stdout",
     "output_type": "stream",
     "text": [
      "Best score: 0.5713605404603211\n",
      "Best params:\n",
      "{'objective': 'binary', 'metric': 'binary_logloss', 'verbosity': -1, 'feature_pre_filter': False, 'lambda_l1': 2.0021621637130066e-06, 'lambda_l2': 5.073792184543535, 'num_leaves': 4, 'feature_fraction': 0.4, 'bagging_fraction': 0.9896768286555222, 'bagging_freq': 1, 'min_child_samples': 20}\n",
      "[0.23983889 0.46429592 0.14802875 ... 0.60926749 0.42322414 0.07856838]\n",
      "0.7981671716798463\n",
      "0.506151936116559\n"
     ]
    }
   ],
   "source": [
    "#qt logloss 不均衡対策\n",
    "print(f'Best score: {tuner_cv.best_score}')\n",
    "print('Best params:')\n",
    "print(tuner_cv.best_params)\n",
    "model = tuner_cv.get_best_booster()\n",
    "pred = model.predict(np.array(te_dataset[4]), num_iteration=model.best_iteration)\n",
    "mean_pred = np.mean(pred, axis=0)\n",
    "print(mean_pred)\n",
    "print(roc_auc_score(te_dataset[5], mean_pred))\n",
    "print(log_loss(te_dataset[5], mean_pred))"
   ]
  }
 ],
 "metadata": {
  "kernelspec": {
   "display_name": "test",
   "language": "python",
   "name": "python3"
  },
  "language_info": {
   "codemirror_mode": {
    "name": "ipython",
    "version": 3
   },
   "file_extension": ".py",
   "mimetype": "text/x-python",
   "name": "python",
   "nbconvert_exporter": "python",
   "pygments_lexer": "ipython3",
   "version": "3.9.16"
  }
 },
 "nbformat": 4,
 "nbformat_minor": 2
}
