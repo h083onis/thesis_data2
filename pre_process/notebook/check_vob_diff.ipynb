{
 "cells": [
  {
   "cell_type": "code",
   "execution_count": 48,
   "metadata": {},
   "outputs": [],
   "source": [
    "import pickle\n",
    "import json"
   ]
  },
  {
   "cell_type": "code",
   "execution_count": 49,
   "metadata": {},
   "outputs": [],
   "source": [
    "with open('../resource/no_its_data3/qt_msg_dict.json', 'r') as f:\n",
    "    corpus = json.load(f)\n",
    "    \n",
    "with open('../resource/no_its_data3/qt_train.pkl', 'rb') as f_tr, open('../resource/no_its_data3/qt_test.pkl', 'rb') as f_te:\n",
    "    tr_data = pickle.load(f_tr)\n",
    "    te_data = pickle.load(f_te)"
   ]
  },
  {
   "cell_type": "code",
   "execution_count": 50,
   "metadata": {},
   "outputs": [],
   "source": [
    "te_vob = []\n",
    "for msg in te_data[2]:\n",
    "    for vob in msg:\n",
    "        if vob not in te_vob:\n",
    "            te_vob.append(vob)\n",
    "tr_vob = []\n",
    "for msg in tr_data[2]:\n",
    "    for vob in msg:\n",
    "        if vob not in tr_vob:\n",
    "            tr_vob.append(vob)"
   ]
  },
  {
   "cell_type": "code",
   "execution_count": 51,
   "metadata": {},
   "outputs": [
    {
     "name": "stdout",
     "output_type": "stream",
     "text": [
      "n_tr_vob61105\n",
      "n_te_vob10035\n"
     ]
    }
   ],
   "source": [
    "print(f'n_tr_vob{len(tr_vob)}')\n",
    "print(f'n_te_vob{len(te_vob)}')"
   ]
  },
  {
   "cell_type": "code",
   "execution_count": 54,
   "metadata": {},
   "outputs": [
    {
     "name": "stdout",
     "output_type": "stream",
     "text": [
      "corpus:9813\n",
      "n_tr_vob:61105\n",
      "51294\n"
     ]
    }
   ],
   "source": [
    "print(f'corpus:{len(corpus.keys())}')\n",
    "print(f'n_tr_vob:{len(tr_vob)}')\n",
    "cnt = 0\n",
    "for vob in tr_vob:\n",
    "    if vob not in corpus.keys():\n",
    "        cnt += 1\n",
    "        \n",
    "print(cnt)"
   ]
  },
  {
   "cell_type": "code",
   "execution_count": 53,
   "metadata": {},
   "outputs": [
    {
     "name": "stdout",
     "output_type": "stream",
     "text": [
      "corpus:9813\n",
      "n_te_vob:61105\n",
      "6007\n"
     ]
    }
   ],
   "source": [
    "print(f'corpus:{len(corpus.keys())}')\n",
    "print(f'n_te_vob:{len(tr_vob)}')\n",
    "cnt = 0\n",
    "for vob in te_vob:\n",
    "    if vob not in corpus.keys():\n",
    "        cnt += 1\n",
    "        \n",
    "print(cnt)"
   ]
  },
  {
   "cell_type": "code",
   "execution_count": 55,
   "metadata": {},
   "outputs": [
    {
     "data": {
      "text/plain": [
       "80.56589163960166"
      ]
     },
     "execution_count": 55,
     "metadata": {},
     "output_type": "execute_result"
    }
   ],
   "source": [
    "74915*100/92986"
   ]
  },
  {
   "cell_type": "code",
   "execution_count": 59,
   "metadata": {},
   "outputs": [
    {
     "data": {
      "text/plain": [
       "0.3094059405940594"
      ]
     },
     "execution_count": 59,
     "metadata": {},
     "output_type": "execute_result"
    }
   ],
   "source": [
    "5/1616 * 100"
   ]
  },
  {
   "cell_type": "code",
   "execution_count": 61,
   "metadata": {},
   "outputs": [
    {
     "data": {
      "text/plain": [
       "2.047952047952048"
      ]
     },
     "execution_count": 61,
     "metadata": {},
     "output_type": "execute_result"
    }
   ],
   "source": [
    "41/2002 *100"
   ]
  },
  {
   "cell_type": "code",
   "execution_count": 62,
   "metadata": {},
   "outputs": [
    {
     "data": {
      "text/plain": [
       "92988"
      ]
     },
     "execution_count": 62,
     "metadata": {},
     "output_type": "execute_result"
    }
   ],
   "source": [
    "74915 + 18073"
   ]
  },
  {
   "cell_type": "code",
   "execution_count": 66,
   "metadata": {},
   "outputs": [
    {
     "data": {
      "text/plain": [
       "83.94403076671304"
      ]
     },
     "execution_count": 66,
     "metadata": {},
     "output_type": "execute_result"
    }
   ],
   "source": [
    "51294 / 61105 * 100"
   ]
  },
  {
   "cell_type": "code",
   "execution_count": 72,
   "metadata": {},
   "outputs": [
    {
     "data": {
      "text/plain": [
       "65.64096741228568"
      ]
     },
     "execution_count": 72,
     "metadata": {},
     "output_type": "execute_result"
    }
   ],
   "source": [
    "5781 / 8807 * 100"
   ]
  },
  {
   "cell_type": "code",
   "execution_count": null,
   "metadata": {},
   "outputs": [],
   "source": []
  }
 ],
 "metadata": {
  "kernelspec": {
   "display_name": "test",
   "language": "python",
   "name": "python3"
  },
  "language_info": {
   "codemirror_mode": {
    "name": "ipython",
    "version": 3
   },
   "file_extension": ".py",
   "mimetype": "text/x-python",
   "name": "python",
   "nbconvert_exporter": "python",
   "pygments_lexer": "ipython3",
   "version": "3.9.16"
  }
 },
 "nbformat": 4,
 "nbformat_minor": 2
}
