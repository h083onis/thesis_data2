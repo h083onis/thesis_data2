{
 "cells": [
  {
   "cell_type": "code",
   "execution_count": 1,
   "metadata": {},
   "outputs": [],
   "source": [
    "import pickle"
   ]
  },
  {
   "cell_type": "code",
   "execution_count": 2,
   "metadata": {},
   "outputs": [],
   "source": [
    "with open('../resource/no_ex_data/openstack_test2.pkl', 'rb') as f_test2 , open('../resource/pre_process_data/openstack_test.pkl', 'rb') as f_test:\n",
    "    test2 = pickle.load(f_test2)\n",
    "    test = pickle.load(f_test)"
   ]
  },
  {
   "cell_type": "code",
   "execution_count": 3,
   "metadata": {},
   "outputs": [
    {
     "data": {
      "text/plain": [
       "4"
      ]
     },
     "execution_count": 3,
     "metadata": {},
     "output_type": "execute_result"
    }
   ],
   "source": [
    "len(test2)"
   ]
  },
  {
   "cell_type": "code",
   "execution_count": 24,
   "metadata": {},
   "outputs": [],
   "source": [
    "new_test = [test[0], test[1], test2[2], test[3], test[4], test[5]]"
   ]
  },
  {
   "cell_type": "code",
   "execution_count": 25,
   "metadata": {},
   "outputs": [],
   "source": [
    "with open('../resource/no_ex_data/openstack_test_no_its.pkl', 'wb') as f:\n",
    "    pickle.dump(new_test, f)"
   ]
  },
  {
   "cell_type": "code",
   "execution_count": 34,
   "metadata": {},
   "outputs": [],
   "source": [
    "with open('../resource/no_ex_data/openstack_train_no_its.pkl', 'rb') as f_1:\n",
    "    tmp = pickle.load(f_1)"
   ]
  },
  {
   "cell_type": "code",
   "execution_count": 5,
   "metadata": {},
   "outputs": [],
   "source": [
    "import pickle\n",
    "with open('../code/openstack_train.pkl', 'rb') as f:\n",
    "    tmp = pickle.load(f)"
   ]
  },
  {
   "cell_type": "code",
   "execution_count": 8,
   "metadata": {},
   "outputs": [
    {
     "name": "stdout",
     "output_type": "stream",
     "text": [
      "771\n"
     ]
    }
   ],
   "source": [
    "if \"aa7fde57a37ae8e03f137e7b525cc77109cc31c1\" in tmp[0]:\n",
    "    print(tmp[0].index(\"aa7fde57a37ae8e03f137e7b525cc77109cc31c1\"))"
   ]
  },
  {
   "cell_type": "code",
   "execution_count": 9,
   "metadata": {},
   "outputs": [
    {
     "data": {
      "text/plain": [
       "['add',\n",
       " 'iscsi',\n",
       " 'devic',\n",
       " 'check',\n",
       " 'except',\n",
       " 'process',\n",
       " 'befor',\n",
       " 'download',\n",
       " 'imag',\n",
       " 'execut',\n",
       " 'command',\n",
       " 'qemu',\n",
       " 'img',\n",
       " 'convert',\n",
       " 'check',\n",
       " 'iscsi',\n",
       " 'devic',\n",
       " 'still',\n",
       " 'avail',\n",
       " 'via',\n",
       " 'command',\n",
       " 'sudo',\n",
       " 'dd',\n",
       " 'devic',\n",
       " 'dev',\n",
       " 'null',\n",
       " 'count',\n",
       " '<num>',\n",
       " 'thi',\n",
       " 'command',\n",
       " 'rais',\n",
       " 'except',\n",
       " 'messag',\n",
       " 'input',\n",
       " 'output',\n",
       " 'error',\n",
       " 'back',\n",
       " 'end',\n",
       " 'storag',\n",
       " 'disconnect',\n",
       " 'cinder',\n",
       " 'volum',\n",
       " 'node',\n",
       " 'use',\n",
       " 'test',\n",
       " 'avail',\n",
       " 'storag',\n",
       " 'devic',\n",
       " 'if',\n",
       " 'unavail',\n",
       " 'need',\n",
       " 'download',\n",
       " 'imag',\n",
       " 'qemu',\n",
       " 'img',\n",
       " 'convert',\n",
       " 'except',\n",
       " 'deviceunavail',\n",
       " 'rais',\n",
       " 'fix',\n",
       " 'bug1169290',\n",
       " 'chang',\n",
       " 'id',\n",
       " 'i133b4cc1bac493df073d42e240092cf2e6300454',\n",
       " '<desc>',\n",
       " 'when',\n",
       " 'tri',\n",
       " 'thing',\n",
       " 'like',\n",
       " 'copi',\n",
       " 'imag',\n",
       " 'volum',\n",
       " 'make',\n",
       " 'iscsi',\n",
       " 'attach',\n",
       " 'cinder',\n",
       " 'node',\n",
       " 'howev',\n",
       " 'actual',\n",
       " 'check',\n",
       " 'attach',\n",
       " 'fail',\n",
       " 'copi',\n",
       " 'oper',\n",
       " 'connect',\n",
       " 'ie',\n",
       " 'access',\n",
       " 'storag',\n",
       " 'network',\n",
       " 'cinder',\n",
       " 'volum',\n",
       " 'node',\n",
       " 'fortun',\n",
       " 'info',\n",
       " 'log',\n",
       " 'point',\n",
       " 'open',\n",
       " 'iscsi',\n",
       " 'connect',\n",
       " 'fail',\n",
       " 'unfortun',\n",
       " 'report',\n",
       " 'imag',\n",
       " 'download',\n",
       " 'volum',\n",
       " 'avail',\n",
       " 'even',\n",
       " 'though']"
      ]
     },
     "execution_count": 9,
     "metadata": {},
     "output_type": "execute_result"
    }
   ],
   "source": [
    "tmp[2][771]"
   ]
  }
 ],
 "metadata": {
  "kernelspec": {
   "display_name": "test",
   "language": "python",
   "name": "python3"
  },
  "language_info": {
   "codemirror_mode": {
    "name": "ipython",
    "version": 3
   },
   "file_extension": ".py",
   "mimetype": "text/x-python",
   "name": "python",
   "nbconvert_exporter": "python",
   "pygments_lexer": "ipython3",
   "version": "3.9.16"
  }
 },
 "nbformat": 4,
 "nbformat_minor": 2
}
