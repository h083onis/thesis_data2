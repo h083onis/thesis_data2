{
 "cells": [
  {
   "cell_type": "code",
   "execution_count": 8,
   "metadata": {},
   "outputs": [],
   "source": [
    "import pickle\n",
    "project = 'openstack'\n",
    "type = 'in_its'\n",
    "with open('../resource/'+project+'_train.pkl', 'rb') as f_train, open('../resource/'+project+'_test.pkl', 'rb') as f_test:\n",
    "        tr_data = pickle.load(f_train)\n",
    "        te_data = pickle.load(f_test)\n",
    "pred_list = []\n",
    "kinds = ['train', 'test']\n",
    "models = ['lgb', 'code_cnn', 'msg_tf']\n",
    "for kind in kinds:\n",
    "    for model in models:\n",
    "        with open('../pred/'+type+'/'+project+'-'+model+'-'+'random'+'-'+kind+'.pkl', 'rb') as f:\n",
    "            pred_list.append(pickle.load(f))\n",
    "tr_pred = [[pred_list[0][j], pred_list[1][j], pred_list[2][j]] for j in range(len(pred_list[0]))]\n",
    "te_pred = [[pred_list[3][j], pred_list[4][j], pred_list[5][j]] for j in range(len(pred_list[3]))]                \n",
    "tr_data = [tr_pred, tr_data[5]]\n",
    "te_data = [te_pred, te_data[5]]"
   ]
  },
  {
   "cell_type": "code",
   "execution_count": 9,
   "metadata": {},
   "outputs": [],
   "source": [
    "from optuna.integration import lightgbm as lgb\n",
    "from sklearn.model_selection import StratifiedKFold\n",
    "import numpy as np\n",
    "from sklearn.metrics import log_loss, roc_auc_score\n",
    "from sklearn.utils.class_weight import compute_class_weight\n",
    "from sklearn.utils.class_weight import compute_sample_weight"
   ]
  },
  {
   "cell_type": "code",
   "execution_count": 10,
   "metadata": {},
   "outputs": [],
   "source": [
    "sample_weights = compute_sample_weight(class_weight='balanced', y=tr_data[1])\n",
    "# _weights = compute_class_weight(class_weight='balanced', classes=np.unique(tr_dataset[5]), y=tr_dataset[5])"
   ]
  },
  {
   "cell_type": "code",
   "execution_count": 11,
   "metadata": {},
   "outputs": [],
   "source": [
    "\n",
    "lgb_train = lgb.Dataset(np.array(tr_data[0]), np.array(tr_data[1]), weight=sample_weights)"
   ]
  },
  {
   "cell_type": "code",
   "execution_count": 12,
   "metadata": {},
   "outputs": [
    {
     "name": "stderr",
     "output_type": "stream",
     "text": [
      "[I 2023-12-06 15:53:26,212] A new study created in memory with name: no-name-1505e16a-19e9-48e6-9c6c-a898ca446792\n",
      "feature_fraction, val_score: 0.527512:  14%|#4        | 1/7 [00:00<00:00,  7.07it/s][I 2023-12-06 15:53:26,359] Trial 0 finished with value: 0.5275124728813986 and parameters: {'feature_fraction': 0.8999999999999999}. Best is trial 0 with value: 0.5275124728813986.\n",
      "feature_fraction, val_score: 0.527512:  14%|#4        | 1/7 [00:00<00:00,  7.07it/s]"
     ]
    },
    {
     "name": "stdout",
     "output_type": "stream",
     "text": [
      "Training until validation scores don't improve for 10 rounds\n",
      "Early stopping, best iteration is:\n",
      "[25]\tcv_agg's valid binary_logloss: 0.527512 + 0.0173715\n",
      "Training until validation scores don't improve for 10 rounds\n"
     ]
    },
    {
     "name": "stderr",
     "output_type": "stream",
     "text": [
      "feature_fraction, val_score: 0.527512:  29%|##8       | 2/7 [00:00<00:00,  6.92it/s][I 2023-12-06 15:53:26,508] Trial 1 finished with value: 0.5275124728813986 and parameters: {'feature_fraction': 1.0}. Best is trial 0 with value: 0.5275124728813986.\n",
      "feature_fraction, val_score: 0.527512:  43%|####2     | 3/7 [00:00<00:00,  7.02it/s][I 2023-12-06 15:53:26,645] Trial 2 finished with value: 0.5334246729066597 and parameters: {'feature_fraction': 0.8}. Best is trial 0 with value: 0.5275124728813986.\n",
      "feature_fraction, val_score: 0.527512:  43%|####2     | 3/7 [00:00<00:00,  7.02it/s]"
     ]
    },
    {
     "name": "stdout",
     "output_type": "stream",
     "text": [
      "Early stopping, best iteration is:\n",
      "[25]\tcv_agg's valid binary_logloss: 0.527512 + 0.0173715\n",
      "Training until validation scores don't improve for 10 rounds\n",
      "Early stopping, best iteration is:\n",
      "[27]\tcv_agg's valid binary_logloss: 0.533425 + 0.0184439\n",
      "Training until validation scores don't improve for 10 rounds\n"
     ]
    },
    {
     "name": "stderr",
     "output_type": "stream",
     "text": [
      "feature_fraction, val_score: 0.527512:  57%|#####7    | 4/7 [00:00<00:00,  6.66it/s][I 2023-12-06 15:53:26,807] Trial 3 finished with value: 0.5334246729066597 and parameters: {'feature_fraction': 0.7}. Best is trial 0 with value: 0.5275124728813986.\n",
      "feature_fraction, val_score: 0.527512:  71%|#######1  | 5/7 [00:00<00:00,  6.65it/s][I 2023-12-06 15:53:26,973] Trial 4 finished with value: 0.5328472561318061 and parameters: {'feature_fraction': 0.4}. Best is trial 0 with value: 0.5275124728813986.\n",
      "feature_fraction, val_score: 0.527512:  71%|#######1  | 5/7 [00:00<00:00,  6.65it/s]"
     ]
    },
    {
     "name": "stdout",
     "output_type": "stream",
     "text": [
      "Early stopping, best iteration is:\n",
      "[27]\tcv_agg's valid binary_logloss: 0.533425 + 0.0184439\n",
      "Training until validation scores don't improve for 10 rounds\n",
      "Early stopping, best iteration is:\n",
      "[32]\tcv_agg's valid binary_logloss: 0.532847 + 0.0133707\n",
      "Training until validation scores don't improve for 10 rounds\n"
     ]
    },
    {
     "name": "stderr",
     "output_type": "stream",
     "text": [
      "feature_fraction, val_score: 0.527512:  86%|########5 | 6/7 [00:00<00:00,  6.87it/s][I 2023-12-06 15:53:27,096] Trial 5 finished with value: 0.5334246729066597 and parameters: {'feature_fraction': 0.6}. Best is trial 0 with value: 0.5275124728813986.\n",
      "feature_fraction, val_score: 0.527512: 100%|##########| 7/7 [00:00<00:00,  7.40it/s][I 2023-12-06 15:53:27,209] Trial 6 finished with value: 0.5334246729066597 and parameters: {'feature_fraction': 0.5}. Best is trial 0 with value: 0.5275124728813986.\n",
      "feature_fraction, val_score: 0.527512: 100%|##########| 7/7 [00:00<00:00,  7.04it/s]\n"
     ]
    },
    {
     "name": "stdout",
     "output_type": "stream",
     "text": [
      "Early stopping, best iteration is:\n",
      "[27]\tcv_agg's valid binary_logloss: 0.533425 + 0.0184439\n",
      "Training until validation scores don't improve for 10 rounds\n",
      "Early stopping, best iteration is:\n",
      "[27]\tcv_agg's valid binary_logloss: 0.533425 + 0.0184439\n"
     ]
    },
    {
     "name": "stderr",
     "output_type": "stream",
     "text": [
      "num_leaves, val_score: 0.527512:   0%|          | 0/20 [00:00<?, ?it/s]"
     ]
    },
    {
     "name": "stdout",
     "output_type": "stream",
     "text": [
      "Training until validation scores don't improve for 10 rounds\n"
     ]
    },
    {
     "name": "stderr",
     "output_type": "stream",
     "text": [
      "num_leaves, val_score: 0.527512:   5%|5         | 1/20 [00:00<00:06,  2.82it/s][I 2023-12-06 15:53:27,573] Trial 7 finished with value: 0.5628698922455527 and parameters: {'num_leaves': 210}. Best is trial 7 with value: 0.5628698922455527.\n",
      "num_leaves, val_score: 0.527512:   5%|5         | 1/20 [00:00<00:06,  2.82it/s]"
     ]
    },
    {
     "name": "stdout",
     "output_type": "stream",
     "text": [
      "Early stopping, best iteration is:\n",
      "[13]\tcv_agg's valid binary_logloss: 0.56287 + 0.0196747\n",
      "Training until validation scores don't improve for 10 rounds\n"
     ]
    },
    {
     "name": "stderr",
     "output_type": "stream",
     "text": [
      "num_leaves, val_score: 0.527512:  10%|#         | 2/20 [00:00<00:06,  2.70it/s][I 2023-12-06 15:53:27,950] Trial 8 finished with value: 0.5634305893873391 and parameters: {'num_leaves': 240}. Best is trial 7 with value: 0.5628698922455527.\n",
      "num_leaves, val_score: 0.527512:  10%|#         | 2/20 [00:00<00:06,  2.70it/s]"
     ]
    },
    {
     "name": "stdout",
     "output_type": "stream",
     "text": [
      "Early stopping, best iteration is:\n",
      "[13]\tcv_agg's valid binary_logloss: 0.563431 + 0.0186622\n",
      "Training until validation scores don't improve for 10 rounds\n"
     ]
    },
    {
     "name": "stderr",
     "output_type": "stream",
     "text": [
      "num_leaves, val_score: 0.527512:  15%|#5        | 3/20 [00:00<00:05,  3.39it/s][I 2023-12-06 15:53:28,157] Trial 9 finished with value: 0.5437724583290883 and parameters: {'num_leaves': 88}. Best is trial 9 with value: 0.5437724583290883.\n",
      "num_leaves, val_score: 0.524172:  15%|#5        | 3/20 [00:01<00:05,  3.39it/s][I 2023-12-06 15:53:28,253] Trial 10 finished with value: 0.5241717771715212 and parameters: {'num_leaves': 16}. Best is trial 10 with value: 0.5241717771715212.\n",
      "num_leaves, val_score: 0.520793:  25%|##5       | 5/20 [00:01<00:02,  5.73it/s][I 2023-12-06 15:53:28,319] Trial 11 finished with value: 0.5207933388357816 and parameters: {'num_leaves': 4}. Best is trial 11 with value: 0.5207933388357816.\n",
      "num_leaves, val_score: 0.520793:  25%|##5       | 5/20 [00:01<00:02,  5.73it/s]"
     ]
    },
    {
     "name": "stdout",
     "output_type": "stream",
     "text": [
      "Early stopping, best iteration is:\n",
      "[17]\tcv_agg's valid binary_logloss: 0.543772 + 0.0181407\n",
      "Training until validation scores don't improve for 10 rounds\n",
      "Early stopping, best iteration is:\n",
      "[29]\tcv_agg's valid binary_logloss: 0.524172 + 0.0153434\n",
      "Training until validation scores don't improve for 10 rounds\n",
      "Early stopping, best iteration is:\n",
      "[41]\tcv_agg's valid binary_logloss: 0.520793 + 0.0126697\n",
      "Training until validation scores don't improve for 10 rounds\n"
     ]
    },
    {
     "name": "stderr",
     "output_type": "stream",
     "text": [
      "num_leaves, val_score: 0.520793:  25%|##5       | 5/20 [00:01<00:02,  5.73it/s][I 2023-12-06 15:53:28,412] Trial 12 finished with value: 0.5227905565785098 and parameters: {'num_leaves': 15}. Best is trial 11 with value: 0.5207933388357816.\n",
      "num_leaves, val_score: 0.520139:  35%|###5      | 7/20 [00:01<00:01,  7.40it/s][I 2023-12-06 15:53:28,491] Trial 13 finished with value: 0.5201390976155837 and parameters: {'num_leaves': 2}. Best is trial 13 with value: 0.5201390976155837.\n",
      "num_leaves, val_score: 0.520139:  35%|###5      | 7/20 [00:01<00:01,  7.40it/s]"
     ]
    },
    {
     "name": "stdout",
     "output_type": "stream",
     "text": [
      "Early stopping, best iteration is:\n",
      "[29]\tcv_agg's valid binary_logloss: 0.522791 + 0.0152263\n",
      "Training until validation scores don't improve for 10 rounds\n",
      "Early stopping, best iteration is:\n",
      "[89]\tcv_agg's valid binary_logloss: 0.520139 + 0.0126955\n",
      "Training until validation scores don't improve for 10 rounds\n"
     ]
    },
    {
     "name": "stderr",
     "output_type": "stream",
     "text": [
      "num_leaves, val_score: 0.520139:  40%|####      | 8/20 [00:01<00:01,  6.68it/s][I 2023-12-06 15:53:28,688] Trial 14 finished with value: 0.543980446829738 and parameters: {'num_leaves': 86}. Best is trial 13 with value: 0.5201390976155837.\n",
      "num_leaves, val_score: 0.520139:  40%|####      | 8/20 [00:01<00:01,  6.68it/s][I 2023-12-06 15:53:28,763] Trial 15 finished with value: 0.5201390976155837 and parameters: {'num_leaves': 2}. Best is trial 13 with value: 0.5201390976155837.\n",
      "num_leaves, val_score: 0.520139:  45%|####5     | 9/20 [00:01<00:01,  6.68it/s]"
     ]
    },
    {
     "name": "stdout",
     "output_type": "stream",
     "text": [
      "Early stopping, best iteration is:\n",
      "[17]\tcv_agg's valid binary_logloss: 0.54398 + 0.0197796\n",
      "Training until validation scores don't improve for 10 rounds\n",
      "Early stopping, best iteration is:\n",
      "[89]\tcv_agg's valid binary_logloss: 0.520139 + 0.0126955\n",
      "Training until validation scores don't improve for 10 rounds\n"
     ]
    },
    {
     "name": "stderr",
     "output_type": "stream",
     "text": [
      "num_leaves, val_score: 0.520139:  50%|#####     | 10/20 [00:01<00:01,  7.25it/s][I 2023-12-06 15:53:28,928] Trial 16 finished with value: 0.54018345763263 and parameters: {'num_leaves': 77}. Best is trial 13 with value: 0.5201390976155837.\n",
      "num_leaves, val_score: 0.520139:  50%|#####     | 10/20 [00:01<00:01,  7.25it/s]"
     ]
    },
    {
     "name": "stdout",
     "output_type": "stream",
     "text": [
      "Early stopping, best iteration is:\n",
      "[17]\tcv_agg's valid binary_logloss: 0.540183 + 0.0173704\n",
      "Training until validation scores don't improve for 10 rounds\n"
     ]
    },
    {
     "name": "stderr",
     "output_type": "stream",
     "text": [
      "num_leaves, val_score: 0.520139:  55%|#####5    | 11/20 [00:02<00:01,  5.38it/s][I 2023-12-06 15:53:29,278] Trial 17 finished with value: 0.5607613971963925 and parameters: {'num_leaves': 178}. Best is trial 13 with value: 0.5201390976155837.\n",
      "num_leaves, val_score: 0.520139:  60%|######    | 12/20 [00:02<00:01,  5.68it/s][I 2023-12-06 15:53:29,424] Trial 18 finished with value: 0.5342772845091914 and parameters: {'num_leaves': 52}. Best is trial 13 with value: 0.5201390976155837.\n",
      "num_leaves, val_score: 0.520139:  60%|######    | 12/20 [00:02<00:01,  5.68it/s]"
     ]
    },
    {
     "name": "stdout",
     "output_type": "stream",
     "text": [
      "Early stopping, best iteration is:\n",
      "[12]\tcv_agg's valid binary_logloss: 0.560761 + 0.0182276\n",
      "Training until validation scores don't improve for 10 rounds\n",
      "Early stopping, best iteration is:\n",
      "[18]\tcv_agg's valid binary_logloss: 0.534277 + 0.0128438\n",
      "Training until validation scores don't improve for 10 rounds\n"
     ]
    },
    {
     "name": "stderr",
     "output_type": "stream",
     "text": [
      "num_leaves, val_score: 0.520139:  65%|######5   | 13/20 [00:02<00:01,  4.71it/s][I 2023-12-06 15:53:29,741] Trial 19 finished with value: 0.5547382393399257 and parameters: {'num_leaves': 138}. Best is trial 13 with value: 0.5201390976155837.\n",
      "num_leaves, val_score: 0.520139:  65%|######5   | 13/20 [00:02<00:01,  4.71it/s]"
     ]
    },
    {
     "name": "stdout",
     "output_type": "stream",
     "text": [
      "Early stopping, best iteration is:\n",
      "[14]\tcv_agg's valid binary_logloss: 0.554738 + 0.0187086\n",
      "Training until validation scores don't improve for 10 rounds\n",
      "Early stopping, best iteration is:\n",
      "[20]\tcv_agg's valid binary_logloss: 0.532336 + 0.0155296\n"
     ]
    },
    {
     "name": "stderr",
     "output_type": "stream",
     "text": [
      "num_leaves, val_score: 0.520139:  70%|#######   | 14/20 [00:02<00:01,  4.84it/s][I 2023-12-06 15:53:29,941] Trial 20 finished with value: 0.5323355843860427 and parameters: {'num_leaves': 47}. Best is trial 13 with value: 0.5201390976155837.\n",
      "num_leaves, val_score: 0.520139:  70%|#######   | 14/20 [00:02<00:01,  4.84it/s][I 2023-12-06 15:53:30,009] Trial 21 finished with value: 0.5209574016374866 and parameters: {'num_leaves': 6}. Best is trial 13 with value: 0.5201390976155837.\n",
      "num_leaves, val_score: 0.520139:  75%|#######5  | 15/20 [00:02<00:01,  4.84it/s]"
     ]
    },
    {
     "name": "stdout",
     "output_type": "stream",
     "text": [
      "Training until validation scores don't improve for 10 rounds\n",
      "Early stopping, best iteration is:\n",
      "[36]\tcv_agg's valid binary_logloss: 0.520957 + 0.0141037\n",
      "Training until validation scores don't improve for 10 rounds\n"
     ]
    },
    {
     "name": "stderr",
     "output_type": "stream",
     "text": [
      "num_leaves, val_score: 0.520139:  80%|########  | 16/20 [00:02<00:00,  6.14it/s][I 2023-12-06 15:53:30,156] Trial 22 finished with value: 0.5320617110342342 and parameters: {'num_leaves': 42}. Best is trial 13 with value: 0.5201390976155837.\n",
      "num_leaves, val_score: 0.520139:  85%|########5 | 17/20 [00:03<00:00,  6.75it/s][I 2023-12-06 15:53:30,247] Trial 23 finished with value: 0.5201390976155837 and parameters: {'num_leaves': 2}. Best is trial 13 with value: 0.5201390976155837.\n",
      "num_leaves, val_score: 0.520139:  85%|########5 | 17/20 [00:03<00:00,  6.75it/s]"
     ]
    },
    {
     "name": "stdout",
     "output_type": "stream",
     "text": [
      "Early stopping, best iteration is:\n",
      "[20]\tcv_agg's valid binary_logloss: 0.532062 + 0.0158598\n",
      "Training until validation scores don't improve for 10 rounds\n",
      "Early stopping, best iteration is:\n",
      "[89]\tcv_agg's valid binary_logloss: 0.520139 + 0.0126955\n",
      "Training until validation scores don't improve for 10 rounds\n"
     ]
    },
    {
     "name": "stderr",
     "output_type": "stream",
     "text": [
      "num_leaves, val_score: 0.520139:  90%|######### | 18/20 [00:03<00:00,  5.37it/s][I 2023-12-06 15:53:30,546] Trial 24 finished with value: 0.5537874531531036 and parameters: {'num_leaves': 129}. Best is trial 13 with value: 0.5201390976155837.\n",
      "num_leaves, val_score: 0.520139:  95%|#########5| 19/20 [00:03<00:00,  5.66it/s][I 2023-12-06 15:53:30,694] Trial 25 finished with value: 0.5311380307027437 and parameters: {'num_leaves': 38}. Best is trial 13 with value: 0.5201390976155837.\n",
      "num_leaves, val_score: 0.520139:  95%|#########5| 19/20 [00:03<00:00,  5.66it/s]"
     ]
    },
    {
     "name": "stdout",
     "output_type": "stream",
     "text": [
      "Early stopping, best iteration is:\n",
      "[13]\tcv_agg's valid binary_logloss: 0.553787 + 0.0170183\n",
      "Training until validation scores don't improve for 10 rounds\n",
      "Early stopping, best iteration is:\n",
      "[24]\tcv_agg's valid binary_logloss: 0.531138 + 0.0185984\n",
      "Training until validation scores don't improve for 10 rounds\n"
     ]
    },
    {
     "name": "stderr",
     "output_type": "stream",
     "text": [
      "num_leaves, val_score: 0.520139: 100%|##########| 20/20 [00:03<00:00,  5.22it/s][I 2023-12-06 15:53:30,924] Trial 26 finished with value: 0.5360378160858779 and parameters: {'num_leaves': 62}. Best is trial 13 with value: 0.5201390976155837.\n",
      "num_leaves, val_score: 0.520139: 100%|##########| 20/20 [00:03<00:00,  5.39it/s]\n"
     ]
    },
    {
     "name": "stdout",
     "output_type": "stream",
     "text": [
      "Early stopping, best iteration is:\n",
      "[21]\tcv_agg's valid binary_logloss: 0.536038 + 0.0205351\n"
     ]
    },
    {
     "name": "stderr",
     "output_type": "stream",
     "text": [
      "bagging, val_score: 0.519867:   0%|          | 0/10 [00:00<?, ?it/s][I 2023-12-06 15:53:31,008] Trial 27 finished with value: 0.5198665409301653 and parameters: {'bagging_fraction': 0.9830683963325235, 'bagging_freq': 5}. Best is trial 27 with value: 0.5198665409301653.\n",
      "bagging, val_score: 0.519728:  10%|#         | 1/10 [00:00<00:01,  5.39it/s]"
     ]
    },
    {
     "name": "stdout",
     "output_type": "stream",
     "text": [
      "Training until validation scores don't improve for 10 rounds\n",
      "Early stopping, best iteration is:\n",
      "[83]\tcv_agg's valid binary_logloss: 0.519867 + 0.0129467\n",
      "Training until validation scores don't improve for 10 rounds\n",
      "Early stopping, best iteration is:\n",
      "[84]\tcv_agg's valid binary_logloss: 0.519728 + 0.0132876\n"
     ]
    },
    {
     "name": "stderr",
     "output_type": "stream",
     "text": [
      "bagging, val_score: 0.519728:  20%|##        | 2/10 [00:00<00:00, 10.78it/s][I 2023-12-06 15:53:31,111] Trial 28 finished with value: 0.5197278901449911 and parameters: {'bagging_fraction': 0.9746275952985973, 'bagging_freq': 5}. Best is trial 28 with value: 0.5197278901449911.\n",
      "bagging, val_score: 0.519728:  20%|##        | 2/10 [00:00<00:00, 10.78it/s]"
     ]
    },
    {
     "name": "stdout",
     "output_type": "stream",
     "text": [
      "Training until validation scores don't improve for 10 rounds\n"
     ]
    },
    {
     "name": "stderr",
     "output_type": "stream",
     "text": [
      "bagging, val_score: 0.519728:  20%|##        | 2/10 [00:00<00:00, 10.78it/s][I 2023-12-06 15:53:31,208] Trial 29 finished with value: 0.5198588550941482 and parameters: {'bagging_fraction': 0.9900018197631963, 'bagging_freq': 5}. Best is trial 28 with value: 0.5197278901449911.\n",
      "bagging, val_score: 0.519728:  40%|####      | 4/10 [00:00<00:00, 10.38it/s]"
     ]
    },
    {
     "name": "stdout",
     "output_type": "stream",
     "text": [
      "[100]\tcv_agg's valid binary_logloss: 0.520139 + 0.0141108\n",
      "Early stopping, best iteration is:\n",
      "[91]\tcv_agg's valid binary_logloss: 0.519859 + 0.0135523\n",
      "Training until validation scores don't improve for 10 rounds\n",
      "Early stopping, best iteration is:\n",
      "[88]\tcv_agg's valid binary_logloss: 0.519984 + 0.0129313\n"
     ]
    },
    {
     "name": "stderr",
     "output_type": "stream",
     "text": [
      "[I 2023-12-06 15:53:31,324] Trial 30 finished with value: 0.5199841300945717 and parameters: {'bagging_fraction': 0.9939372909614914, 'bagging_freq': 5}. Best is trial 28 with value: 0.5197278901449911.\n",
      "bagging, val_score: 0.519728:  40%|####      | 4/10 [00:00<00:00, 10.38it/s]"
     ]
    },
    {
     "name": "stdout",
     "output_type": "stream",
     "text": [
      "Training until validation scores don't improve for 10 rounds\n"
     ]
    },
    {
     "name": "stderr",
     "output_type": "stream",
     "text": [
      "bagging, val_score: 0.519728:  40%|####      | 4/10 [00:00<00:00, 10.38it/s][I 2023-12-06 15:53:31,425] Trial 31 finished with value: 0.5199549173140525 and parameters: {'bagging_fraction': 0.9928481197891552, 'bagging_freq': 5}. Best is trial 28 with value: 0.5197278901449911.\n",
      "bagging, val_score: 0.519728:  60%|######    | 6/10 [00:00<00:00, 10.10it/s][I 2023-12-06 15:53:31,514] Trial 32 finished with value: 0.5199999524062927 and parameters: {'bagging_fraction': 0.9847736781279821, 'bagging_freq': 5}. Best is trial 28 with value: 0.5197278901449911.\n",
      "bagging, val_score: 0.519728:  60%|######    | 6/10 [00:00<00:00, 10.10it/s]"
     ]
    },
    {
     "name": "stdout",
     "output_type": "stream",
     "text": [
      "[100]\tcv_agg's valid binary_logloss: 0.520109 + 0.0138918\n",
      "Early stopping, best iteration is:\n",
      "[91]\tcv_agg's valid binary_logloss: 0.519955 + 0.0134018\n",
      "Training until validation scores don't improve for 10 rounds\n",
      "Early stopping, best iteration is:\n",
      "[83]\tcv_agg's valid binary_logloss: 0.52 + 0.0126992\n",
      "Training until validation scores don't improve for 10 rounds\n",
      "[100]\tcv_agg's valid binary_logloss: 0.519962 + 0.0140723\n"
     ]
    },
    {
     "name": "stderr",
     "output_type": "stream",
     "text": [
      "bagging, val_score: 0.519728:  60%|######    | 6/10 [00:00<00:00, 10.10it/s][I 2023-12-06 15:53:31,611] Trial 33 finished with value: 0.5197341027042652 and parameters: {'bagging_fraction': 0.9906619976123294, 'bagging_freq': 5}. Best is trial 28 with value: 0.5197278901449911.\n",
      "bagging, val_score: 0.519728:  80%|########  | 8/10 [00:00<00:00, 10.17it/s][I 2023-12-06 15:53:31,708] Trial 34 finished with value: 0.5198134528998305 and parameters: {'bagging_fraction': 0.9792974376287175, 'bagging_freq': 5}. Best is trial 28 with value: 0.5197278901449911.\n",
      "bagging, val_score: 0.519396:  80%|########  | 8/10 [00:00<00:00, 10.17it/s]"
     ]
    },
    {
     "name": "stdout",
     "output_type": "stream",
     "text": [
      "Early stopping, best iteration is:\n",
      "[91]\tcv_agg's valid binary_logloss: 0.519734 + 0.0135633\n",
      "Training until validation scores don't improve for 10 rounds\n",
      "Early stopping, best iteration is:\n",
      "[83]\tcv_agg's valid binary_logloss: 0.519813 + 0.0129069\n",
      "Training until validation scores don't improve for 10 rounds\n",
      "[100]\tcv_agg's valid binary_logloss: 0.519547 + 0.0136466\n",
      "Early stopping, best iteration is:\n",
      "[90]\tcv_agg's valid binary_logloss: 0.519396 + 0.0129696\n"
     ]
    },
    {
     "name": "stderr",
     "output_type": "stream",
     "text": [
      "[I 2023-12-06 15:53:31,795] Trial 35 finished with value: 0.5193959848496921 and parameters: {'bagging_fraction': 0.8202254509243686, 'bagging_freq': 7}. Best is trial 35 with value: 0.5193959848496921.\n",
      "bagging, val_score: 0.519396: 100%|##########| 10/10 [00:00<00:00, 10.74it/s][I 2023-12-06 15:53:31,874] Trial 36 finished with value: 0.5194646728789251 and parameters: {'bagging_fraction': 0.7968590372407824, 'bagging_freq': 7}. Best is trial 35 with value: 0.5193959848496921.\n",
      "bagging, val_score: 0.519396: 100%|##########| 10/10 [00:00<00:00, 10.52it/s]\n"
     ]
    },
    {
     "name": "stdout",
     "output_type": "stream",
     "text": [
      "Training until validation scores don't improve for 10 rounds\n",
      "[100]\tcv_agg's valid binary_logloss: 0.519781 + 0.0133752\n",
      "Early stopping, best iteration is:\n",
      "[91]\tcv_agg's valid binary_logloss: 0.519465 + 0.0132154\n"
     ]
    },
    {
     "name": "stderr",
     "output_type": "stream",
     "text": [
      "feature_fraction_stage2, val_score: 0.519396:  17%|#6        | 1/6 [00:00<00:00,  9.70it/s][I 2023-12-06 15:53:31,980] Trial 37 finished with value: 0.5193959848496921 and parameters: {'feature_fraction': 0.852}. Best is trial 37 with value: 0.5193959848496921.\n",
      "feature_fraction_stage2, val_score: 0.519396:  17%|#6        | 1/6 [00:00<00:00,  9.70it/s]"
     ]
    },
    {
     "name": "stdout",
     "output_type": "stream",
     "text": [
      "Training until validation scores don't improve for 10 rounds\n",
      "[100]\tcv_agg's valid binary_logloss: 0.519547 + 0.0136466\n",
      "Early stopping, best iteration is:\n",
      "[90]\tcv_agg's valid binary_logloss: 0.519396 + 0.0129696\n"
     ]
    },
    {
     "name": "stderr",
     "output_type": "stream",
     "text": [
      "feature_fraction_stage2, val_score: 0.519396:  17%|#6        | 1/6 [00:00<00:00,  9.70it/s][I 2023-12-06 15:53:32,058] Trial 38 finished with value: 0.5221612355969378 and parameters: {'feature_fraction': 0.82}. Best is trial 37 with value: 0.5193959848496921.\n",
      "feature_fraction_stage2, val_score: 0.519396:  33%|###3      | 2/6 [00:00<00:00,  9.70it/s]"
     ]
    },
    {
     "name": "stdout",
     "output_type": "stream",
     "text": [
      "Training until validation scores don't improve for 10 rounds\n",
      "[100]\tcv_agg's valid binary_logloss: 0.522288 + 0.0137208\n",
      "Early stopping, best iteration is:\n",
      "[96]\tcv_agg's valid binary_logloss: 0.522161 + 0.0138386\n",
      "Training until validation scores don't improve for 10 rounds\n"
     ]
    },
    {
     "name": "stderr",
     "output_type": "stream",
     "text": [
      "feature_fraction_stage2, val_score: 0.519396:  50%|#####     | 3/6 [00:00<00:00, 11.39it/s][I 2023-12-06 15:53:32,142] Trial 39 finished with value: 0.5193959848496921 and parameters: {'feature_fraction': 0.8839999999999999}. Best is trial 37 with value: 0.5193959848496921.\n",
      "feature_fraction_stage2, val_score: 0.519396:  50%|#####     | 3/6 [00:00<00:00, 11.39it/s]"
     ]
    },
    {
     "name": "stdout",
     "output_type": "stream",
     "text": [
      "[100]\tcv_agg's valid binary_logloss: 0.519547 + 0.0136466\n",
      "Early stopping, best iteration is:\n",
      "[90]\tcv_agg's valid binary_logloss: 0.519396 + 0.0129696\n",
      "Training until validation scores don't improve for 10 rounds\n"
     ]
    },
    {
     "name": "stderr",
     "output_type": "stream",
     "text": [
      "feature_fraction_stage2, val_score: 0.519396:  50%|#####     | 3/6 [00:00<00:00, 11.39it/s][I 2023-12-06 15:53:32,244] Trial 40 finished with value: 0.5193959848496921 and parameters: {'feature_fraction': 0.9159999999999999}. Best is trial 37 with value: 0.5193959848496921.\n",
      "feature_fraction_stage2, val_score: 0.519396:  67%|######6   | 4/6 [00:00<00:00, 11.39it/s]"
     ]
    },
    {
     "name": "stdout",
     "output_type": "stream",
     "text": [
      "[100]\tcv_agg's valid binary_logloss: 0.519547 + 0.0136466\n",
      "Early stopping, best iteration is:\n",
      "[90]\tcv_agg's valid binary_logloss: 0.519396 + 0.0129696\n",
      "Training until validation scores don't improve for 10 rounds\n",
      "[100]\tcv_agg's valid binary_logloss: 0.519547 + 0.0136466\n",
      "Early stopping, best iteration is:\n",
      "[90]\tcv_agg's valid binary_logloss: 0.519396 + 0.0129696\n"
     ]
    },
    {
     "name": "stderr",
     "output_type": "stream",
     "text": [
      "feature_fraction_stage2, val_score: 0.519396:  83%|########3 | 5/6 [00:00<00:00, 11.14it/s][I 2023-12-06 15:53:32,326] Trial 41 finished with value: 0.5193959848496921 and parameters: {'feature_fraction': 0.948}. Best is trial 37 with value: 0.5193959848496921.\n",
      "feature_fraction_stage2, val_score: 0.519396:  83%|########3 | 5/6 [00:00<00:00, 11.14it/s][I 2023-12-06 15:53:32,411] Trial 42 finished with value: 0.5193959848496921 and parameters: {'feature_fraction': 0.9799999999999999}. Best is trial 37 with value: 0.5193959848496921.\n",
      "feature_fraction_stage2, val_score: 0.519396: 100%|##########| 6/6 [00:00<00:00, 11.18it/s]\n"
     ]
    },
    {
     "name": "stdout",
     "output_type": "stream",
     "text": [
      "Training until validation scores don't improve for 10 rounds\n",
      "[100]\tcv_agg's valid binary_logloss: 0.519547 + 0.0136466\n",
      "Early stopping, best iteration is:\n",
      "[90]\tcv_agg's valid binary_logloss: 0.519396 + 0.0129696\n"
     ]
    },
    {
     "name": "stderr",
     "output_type": "stream",
     "text": [
      "regularization_factors, val_score: 0.519396:   0%|          | 0/20 [00:00<?, ?it/s]"
     ]
    },
    {
     "name": "stdout",
     "output_type": "stream",
     "text": [
      "Training until validation scores don't improve for 10 rounds\n"
     ]
    },
    {
     "name": "stderr",
     "output_type": "stream",
     "text": [
      "regularization_factors, val_score: 0.519396:   5%|5         | 1/20 [00:00<00:02,  6.66it/s][I 2023-12-06 15:53:32,575] Trial 43 finished with value: 0.5194811795558791 and parameters: {'lambda_l1': 0.46449180503723664, 'lambda_l2': 0.0001417858582019774}. Best is trial 43 with value: 0.5194811795558791.\n",
      "regularization_factors, val_score: 0.519396:   5%|5         | 1/20 [00:00<00:02,  6.66it/s]"
     ]
    },
    {
     "name": "stdout",
     "output_type": "stream",
     "text": [
      "[100]\tcv_agg's valid binary_logloss: 0.519565 + 0.0136003\n",
      "Early stopping, best iteration is:\n",
      "[95]\tcv_agg's valid binary_logloss: 0.519481 + 0.0133037\n",
      "Training until validation scores don't improve for 10 rounds\n"
     ]
    },
    {
     "name": "stderr",
     "output_type": "stream",
     "text": [
      "regularization_factors, val_score: 0.519396:   5%|5         | 1/20 [00:00<00:02,  6.66it/s][I 2023-12-06 15:53:32,658] Trial 44 finished with value: 0.5195724197128833 and parameters: {'lambda_l1': 1.0317437757317639e-08, 'lambda_l2': 7.16341446785263}. Best is trial 43 with value: 0.5194811795558791.\n",
      "regularization_factors, val_score: 0.519396:  10%|#         | 2/20 [00:00<00:02,  6.66it/s]"
     ]
    },
    {
     "name": "stdout",
     "output_type": "stream",
     "text": [
      "[100]\tcv_agg's valid binary_logloss: 0.519601 + 0.0132739\n",
      "Early stopping, best iteration is:\n",
      "[101]\tcv_agg's valid binary_logloss: 0.519572 + 0.013293\n",
      "Training until validation scores don't improve for 10 rounds\n",
      "[100]\tcv_agg's valid binary_logloss: 0.519792 + 0.012926\n"
     ]
    },
    {
     "name": "stderr",
     "output_type": "stream",
     "text": [
      "regularization_factors, val_score: 0.519396:  15%|#5        | 3/20 [00:00<00:01,  8.71it/s][I 2023-12-06 15:53:32,781] Trial 45 finished with value: 0.5194288180921455 and parameters: {'lambda_l1': 8.426885958488493, 'lambda_l2': 1.1968428896508965e-08}. Best is trial 45 with value: 0.5194288180921455.\n",
      "regularization_factors, val_score: 0.519396:  15%|#5        | 3/20 [00:00<00:01,  8.71it/s]"
     ]
    },
    {
     "name": "stdout",
     "output_type": "stream",
     "text": [
      "Early stopping, best iteration is:\n",
      "[119]\tcv_agg's valid binary_logloss: 0.519429 + 0.0136433\n",
      "Training until validation scores don't improve for 10 rounds\n"
     ]
    },
    {
     "name": "stderr",
     "output_type": "stream",
     "text": [
      "regularization_factors, val_score: 0.519396:  20%|##        | 4/20 [00:00<00:01,  9.00it/s][I 2023-12-06 15:53:32,891] Trial 46 finished with value: 0.5195262723912469 and parameters: {'lambda_l1': 4.118386773414805e-05, 'lambda_l2': 3.5584188793288067}. Best is trial 45 with value: 0.5194288180921455.\n",
      "regularization_factors, val_score: 0.519396:  20%|##        | 4/20 [00:00<00:01,  9.00it/s]"
     ]
    },
    {
     "name": "stdout",
     "output_type": "stream",
     "text": [
      "[100]\tcv_agg's valid binary_logloss: 0.519582 + 0.0134568\n",
      "Early stopping, best iteration is:\n",
      "[102]\tcv_agg's valid binary_logloss: 0.519526 + 0.0134806\n",
      "Training until validation scores don't improve for 10 rounds\n",
      "[100]\tcv_agg's valid binary_logloss: 0.519547 + 0.0136462\n",
      "Early stopping, best iteration is:\n",
      "[90]\tcv_agg's valid binary_logloss: 0.519396 + 0.0129692\n"
     ]
    },
    {
     "name": "stderr",
     "output_type": "stream",
     "text": [
      "[I 2023-12-06 15:53:32,974] Trial 47 finished with value: 0.5193959948882425 and parameters: {'lambda_l1': 0.0021559020985363834, 'lambda_l2': 6.449563733467003e-08}. Best is trial 47 with value: 0.5193959948882425.\n",
      "regularization_factors, val_score: 0.519396:  25%|##5       | 5/20 [00:00<00:01,  9.00it/s]"
     ]
    },
    {
     "name": "stdout",
     "output_type": "stream",
     "text": [
      "Training until validation scores don't improve for 10 rounds\n",
      "[100]\tcv_agg's valid binary_logloss: 0.519547 + 0.0136465\n",
      "Early stopping, best iteration is:\n",
      "[90]\tcv_agg's valid binary_logloss: 0.519396 + 0.0129695\n"
     ]
    },
    {
     "name": "stderr",
     "output_type": "stream",
     "text": [
      "regularization_factors, val_score: 0.519396:  30%|###       | 6/20 [00:00<00:01,  9.90it/s][I 2023-12-06 15:53:33,064] Trial 48 finished with value: 0.5193959746042119 and parameters: {'lambda_l1': 1.0481300279403584e-08, 'lambda_l2': 0.0007632940711124072}. Best is trial 48 with value: 0.5193959746042119.\n",
      "regularization_factors, val_score: 0.519396:  30%|###       | 6/20 [00:00<00:01,  9.90it/s][I 2023-12-06 15:53:33,163] Trial 49 finished with value: 0.5193959605688419 and parameters: {'lambda_l1': 1.1497462734607117e-08, 'lambda_l2': 0.0018261712051731082}. Best is trial 49 with value: 0.5193959605688419.\n",
      "regularization_factors, val_score: 0.519396:  35%|###5      | 7/20 [00:00<00:01,  9.90it/s]"
     ]
    },
    {
     "name": "stdout",
     "output_type": "stream",
     "text": [
      "Training until validation scores don't improve for 10 rounds\n",
      "[100]\tcv_agg's valid binary_logloss: 0.519547 + 0.0136463\n",
      "Early stopping, best iteration is:\n",
      "[90]\tcv_agg's valid binary_logloss: 0.519396 + 0.0129694\n"
     ]
    },
    {
     "name": "stderr",
     "output_type": "stream",
     "text": [
      "regularization_factors, val_score: 0.519396:  40%|####      | 8/20 [00:00<00:01, 10.07it/s][I 2023-12-06 15:53:33,258] Trial 50 finished with value: 0.5193959629289764 and parameters: {'lambda_l1': 1.2125569468176931e-08, 'lambda_l2': 0.0016475477877961235}. Best is trial 49 with value: 0.5193959605688419.\n",
      "regularization_factors, val_score: 0.519396:  40%|####      | 8/20 [00:00<00:01, 10.07it/s]"
     ]
    },
    {
     "name": "stdout",
     "output_type": "stream",
     "text": [
      "Training until validation scores don't improve for 10 rounds\n",
      "[100]\tcv_agg's valid binary_logloss: 0.519547 + 0.0136464\n",
      "Early stopping, best iteration is:\n",
      "[90]\tcv_agg's valid binary_logloss: 0.519396 + 0.0129694\n",
      "Training until validation scores don't improve for 10 rounds\n"
     ]
    },
    {
     "name": "stderr",
     "output_type": "stream",
     "text": [
      "regularization_factors, val_score: 0.519396:  40%|####      | 8/20 [00:00<00:01, 10.07it/s][I 2023-12-06 15:53:33,345] Trial 51 finished with value: 0.519395955810396 and parameters: {'lambda_l1': 1.3404769076434778e-08, 'lambda_l2': 0.0021822915159687285}. Best is trial 51 with value: 0.519395955810396.\n",
      "regularization_factors, val_score: 0.519396:  45%|####5     | 9/20 [00:00<00:01, 10.07it/s]"
     ]
    },
    {
     "name": "stdout",
     "output_type": "stream",
     "text": [
      "[100]\tcv_agg's valid binary_logloss: 0.519547 + 0.0136463\n",
      "Early stopping, best iteration is:\n",
      "[90]\tcv_agg's valid binary_logloss: 0.519396 + 0.0129693\n",
      "Training until validation scores don't improve for 10 rounds\n"
     ]
    },
    {
     "name": "stderr",
     "output_type": "stream",
     "text": [
      "regularization_factors, val_score: 0.519396:  50%|#####     | 10/20 [00:01<00:01,  9.98it/s][I 2023-12-06 15:53:33,461] Trial 52 finished with value: 0.5193959166075486 and parameters: {'lambda_l1': 1.0180923859633273e-08, 'lambda_l2': 0.005149005482750249}. Best is trial 52 with value: 0.5193959166075486.\n",
      "regularization_factors, val_score: 0.519396:  50%|#####     | 10/20 [00:01<00:01,  9.98it/s]"
     ]
    },
    {
     "name": "stdout",
     "output_type": "stream",
     "text": [
      "[100]\tcv_agg's valid binary_logloss: 0.519546 + 0.0136458\n",
      "Early stopping, best iteration is:\n",
      "[90]\tcv_agg's valid binary_logloss: 0.519396 + 0.012969\n",
      "Training until validation scores don't improve for 10 rounds\n",
      "[100]\tcv_agg's valid binary_logloss: 0.519547 + 0.0136463\n",
      "Early stopping, best iteration is:\n",
      "[90]\tcv_agg's valid binary_logloss: 0.519396 + 0.0129694\n"
     ]
    },
    {
     "name": "stderr",
     "output_type": "stream",
     "text": [
      "[I 2023-12-06 15:53:33,557] Trial 53 finished with value: 0.5193959614065694 and parameters: {'lambda_l1': 1.0105086853410283e-08, 'lambda_l2': 0.0017598015485912931}. Best is trial 52 with value: 0.5193959166075486.\n",
      "regularization_factors, val_score: 0.519396:  55%|#####5    | 11/20 [00:01<00:00,  9.98it/s]"
     ]
    },
    {
     "name": "stdout",
     "output_type": "stream",
     "text": [
      "Training until validation scores don't improve for 10 rounds\n",
      "[100]\tcv_agg's valid binary_logloss: 0.519547 + 0.0136463\n",
      "Early stopping, best iteration is:\n",
      "[90]\tcv_agg's valid binary_logloss: 0.519396 + 0.0129694\n"
     ]
    },
    {
     "name": "stderr",
     "output_type": "stream",
     "text": [
      "regularization_factors, val_score: 0.519396:  60%|######    | 12/20 [00:01<00:00, 10.05it/s][I 2023-12-06 15:53:33,660] Trial 54 finished with value: 0.5193959608696306 and parameters: {'lambda_l1': 1.2798051964086264e-08, 'lambda_l2': 0.0017990140463551775}. Best is trial 52 with value: 0.5193959166075486.\n",
      "regularization_factors, val_score: 0.519396:  60%|######    | 12/20 [00:01<00:00, 10.05it/s]"
     ]
    },
    {
     "name": "stdout",
     "output_type": "stream",
     "text": [
      "Training until validation scores don't improve for 10 rounds\n",
      "[100]\tcv_agg's valid binary_logloss: 0.519546 + 0.013646\n",
      "Early stopping, best iteration is:\n",
      "[90]\tcv_agg's valid binary_logloss: 0.519396 + 0.0129691\n"
     ]
    },
    {
     "name": "stderr",
     "output_type": "stream",
     "text": [
      "[I 2023-12-06 15:53:33,774] Trial 55 finished with value: 0.519395931265576 and parameters: {'lambda_l1': 1.0918604527666946e-08, 'lambda_l2': 0.004037965125954068}. Best is trial 52 with value: 0.5193959166075486.\n",
      "regularization_factors, val_score: 0.519396:  65%|######5   | 13/20 [00:01<00:00, 10.05it/s]"
     ]
    },
    {
     "name": "stdout",
     "output_type": "stream",
     "text": [
      "Training until validation scores don't improve for 10 rounds\n"
     ]
    },
    {
     "name": "stderr",
     "output_type": "stream",
     "text": [
      "regularization_factors, val_score: 0.519396:  70%|#######   | 14/20 [00:01<00:00,  9.73it/s][I 2023-12-06 15:53:33,876] Trial 56 finished with value: 0.5193959411393723 and parameters: {'lambda_l1': 1.1962989901791914e-08, 'lambda_l2': 0.003288245705407427}. Best is trial 52 with value: 0.5193959166075486.\n",
      "regularization_factors, val_score: 0.519396:  70%|#######   | 14/20 [00:01<00:00,  9.73it/s]"
     ]
    },
    {
     "name": "stdout",
     "output_type": "stream",
     "text": [
      "[100]\tcv_agg's valid binary_logloss: 0.519546 + 0.0136461\n",
      "Early stopping, best iteration is:\n",
      "[90]\tcv_agg's valid binary_logloss: 0.519396 + 0.0129692\n",
      "Training until validation scores don't improve for 10 rounds\n",
      "[100]\tcv_agg's valid binary_logloss: 0.519547 + 0.0136463\n",
      "Early stopping, best iteration is:\n",
      "[90]\tcv_agg's valid binary_logloss: 0.519397 + 0.0129695\n"
     ]
    },
    {
     "name": "stderr",
     "output_type": "stream",
     "text": [
      "regularization_factors, val_score: 0.519396:  75%|#######5  | 15/20 [00:01<00:00,  9.69it/s][I 2023-12-06 15:53:33,990] Trial 57 finished with value: 0.5193965085311504 and parameters: {'lambda_l1': 5.34863283236142e-08, 'lambda_l2': 0.005564656573681656}. Best is trial 52 with value: 0.5193959166075486.\n",
      "regularization_factors, val_score: 0.519396:  75%|#######5  | 15/20 [00:01<00:00,  9.69it/s]"
     ]
    },
    {
     "name": "stdout",
     "output_type": "stream",
     "text": [
      "Training until validation scores don't improve for 10 rounds\n"
     ]
    },
    {
     "name": "stderr",
     "output_type": "stream",
     "text": [
      "regularization_factors, val_score: 0.519396:  75%|#######5  | 15/20 [00:01<00:00,  9.69it/s][I 2023-12-06 15:53:34,075] Trial 58 finished with value: 0.5193965027044862 and parameters: {'lambda_l1': 1.5371453481274752e-07, 'lambda_l2': 0.006004040300523389}. Best is trial 52 with value: 0.5193959166075486.\n",
      "regularization_factors, val_score: 0.519396:  85%|########5 | 17/20 [00:01<00:00, 10.18it/s][I 2023-12-06 15:53:34,160] Trial 59 finished with value: 0.5193964181072329 and parameters: {'lambda_l1': 2.2538537934855144e-07, 'lambda_l2': 0.012456752187659757}. Best is trial 52 with value: 0.5193959166075486.\n",
      "regularization_factors, val_score: 0.519396:  85%|########5 | 17/20 [00:01<00:00, 10.18it/s]"
     ]
    },
    {
     "name": "stdout",
     "output_type": "stream",
     "text": [
      "[100]\tcv_agg's valid binary_logloss: 0.519547 + 0.0136462\n",
      "Early stopping, best iteration is:\n",
      "[90]\tcv_agg's valid binary_logloss: 0.519397 + 0.0129694\n",
      "Training until validation scores don't improve for 10 rounds\n",
      "[100]\tcv_agg's valid binary_logloss: 0.519546 + 0.0136451\n",
      "Early stopping, best iteration is:\n",
      "[90]\tcv_agg's valid binary_logloss: 0.519396 + 0.0129686\n",
      "Training until validation scores don't improve for 10 rounds\n"
     ]
    },
    {
     "name": "stderr",
     "output_type": "stream",
     "text": [
      "regularization_factors, val_score: 0.519396:  85%|########5 | 17/20 [00:01<00:00, 10.18it/s][I 2023-12-06 15:53:34,302] Trial 60 finished with value: 0.5193963588642649 and parameters: {'lambda_l1': 2.276814083599062e-07, 'lambda_l2': 0.016988945567818284}. Best is trial 52 with value: 0.5193959166075486.\n",
      "regularization_factors, val_score: 0.519396:  95%|#########5| 19/20 [00:01<00:00,  9.35it/s][I 2023-12-06 15:53:34,424] Trial 61 finished with value: 0.5193959680158029 and parameters: {'lambda_l1': 1.0777448387374122e-08, 'lambda_l2': 0.0012654992784822037}. Best is trial 52 with value: 0.5193959166075486.\n",
      "regularization_factors, val_score: 0.519396:  95%|#########5| 19/20 [00:02<00:00,  9.35it/s]"
     ]
    },
    {
     "name": "stdout",
     "output_type": "stream",
     "text": [
      "[100]\tcv_agg's valid binary_logloss: 0.519546 + 0.0136443\n",
      "Early stopping, best iteration is:\n",
      "[90]\tcv_agg's valid binary_logloss: 0.519396 + 0.012968\n",
      "Training until validation scores don't improve for 10 rounds\n",
      "[100]\tcv_agg's valid binary_logloss: 0.519547 + 0.0136464\n",
      "Early stopping, best iteration is:\n",
      "[90]\tcv_agg's valid binary_logloss: 0.519396 + 0.0129695\n",
      "Training until validation scores don't improve for 10 rounds\n"
     ]
    },
    {
     "name": "stderr",
     "output_type": "stream",
     "text": [
      "regularization_factors, val_score: 0.519396: 100%|##########| 20/20 [00:02<00:00,  9.13it/s][I 2023-12-06 15:53:34,530] Trial 62 finished with value: 0.5193959752031401 and parameters: {'lambda_l1': 1.0513072531296459e-08, 'lambda_l2': 0.0007202098169638254}. Best is trial 52 with value: 0.5193959166075486.\n",
      "regularization_factors, val_score: 0.519396: 100%|##########| 20/20 [00:02<00:00,  9.49it/s]\n"
     ]
    },
    {
     "name": "stdout",
     "output_type": "stream",
     "text": [
      "[100]\tcv_agg's valid binary_logloss: 0.519547 + 0.0136465\n",
      "Early stopping, best iteration is:\n",
      "[90]\tcv_agg's valid binary_logloss: 0.519396 + 0.0129695\n"
     ]
    },
    {
     "name": "stderr",
     "output_type": "stream",
     "text": [
      "min_child_samples, val_score: 0.519372:  20%|##        | 1/5 [00:00<00:00,  8.95it/s][I 2023-12-06 15:53:34,647] Trial 63 finished with value: 0.519372433280849 and parameters: {'min_child_samples': 25}. Best is trial 63 with value: 0.519372433280849.\n",
      "min_child_samples, val_score: 0.519372:  20%|##        | 1/5 [00:00<00:00,  8.95it/s]"
     ]
    },
    {
     "name": "stdout",
     "output_type": "stream",
     "text": [
      "Training until validation scores don't improve for 10 rounds\n",
      "[100]\tcv_agg's valid binary_logloss: 0.519485 + 0.0135702\n",
      "Early stopping, best iteration is:\n",
      "[90]\tcv_agg's valid binary_logloss: 0.519372 + 0.0129857\n",
      "Training until validation scores don't improve for 10 rounds\n",
      "[100]\tcv_agg's valid binary_logloss: 0.519546 + 0.0136458\n",
      "Early stopping, best iteration is:\n",
      "[90]\tcv_agg's valid binary_logloss: 0.519396 + 0.012969\n"
     ]
    },
    {
     "name": "stderr",
     "output_type": "stream",
     "text": [
      "[I 2023-12-06 15:53:34,742] Trial 64 finished with value: 0.5193959166075486 and parameters: {'min_child_samples': 10}. Best is trial 63 with value: 0.519372433280849.\n",
      "min_child_samples, val_score: 0.519372:  60%|######    | 3/5 [00:00<00:00,  9.63it/s][I 2023-12-06 15:53:34,850] Trial 65 finished with value: 0.5193959166075486 and parameters: {'min_child_samples': 5}. Best is trial 63 with value: 0.519372433280849.\n",
      "min_child_samples, val_score: 0.519372:  60%|######    | 3/5 [00:00<00:00,  9.63it/s]"
     ]
    },
    {
     "name": "stdout",
     "output_type": "stream",
     "text": [
      "Training until validation scores don't improve for 10 rounds\n",
      "[100]\tcv_agg's valid binary_logloss: 0.519546 + 0.0136458\n",
      "Early stopping, best iteration is:\n",
      "[90]\tcv_agg's valid binary_logloss: 0.519396 + 0.012969\n",
      "Training until validation scores don't improve for 10 rounds\n",
      "[100]\tcv_agg's valid binary_logloss: 0.519493 + 0.013545\n",
      "Early stopping, best iteration is:\n",
      "[95]\tcv_agg's valid binary_logloss: 0.519391 + 0.0134022\n"
     ]
    },
    {
     "name": "stderr",
     "output_type": "stream",
     "text": [
      "[I 2023-12-06 15:53:34,941] Trial 66 finished with value: 0.519390997659517 and parameters: {'min_child_samples': 100}. Best is trial 63 with value: 0.519372433280849.\n",
      "min_child_samples, val_score: 0.519155: 100%|##########| 5/5 [00:00<00:00,  9.42it/s][I 2023-12-06 15:53:35,066] Trial 67 finished with value: 0.5191551461910671 and parameters: {'min_child_samples': 50}. Best is trial 67 with value: 0.5191551461910671.\n",
      "min_child_samples, val_score: 0.519155: 100%|##########| 5/5 [00:00<00:00,  9.41it/s]"
     ]
    },
    {
     "name": "stdout",
     "output_type": "stream",
     "text": [
      "Training until validation scores don't improve for 10 rounds\n",
      "[100]\tcv_agg's valid binary_logloss: 0.51926 + 0.0132867\n",
      "Early stopping, best iteration is:\n",
      "[92]\tcv_agg's valid binary_logloss: 0.519155 + 0.013126\n"
     ]
    },
    {
     "name": "stderr",
     "output_type": "stream",
     "text": [
      "\n"
     ]
    }
   ],
   "source": [
    "folds = StratifiedKFold(n_splits=5, shuffle=True, random_state=100)\n",
    "lgb_params = {\n",
    "    'objective':'binary',\n",
    "    'metric': 'binary_logloss',\n",
    "    'verbosity':-1,\n",
    "}\n",
    "tuner_cv = lgb.LightGBMTunerCV(\n",
    "    lgb_params, lgb_train,\n",
    "    num_boost_round=1000,\n",
    "    callbacks=[lgb.early_stopping(stopping_rounds=10, verbose=True),\n",
    "                lgb.log_evaluation(100)],\n",
    "    return_cvbooster=True,\n",
    "    folds=folds\n",
    ")\n",
    "\n",
    "tuner_cv.run()"
   ]
  },
  {
   "cell_type": "code",
   "execution_count": 7,
   "metadata": {},
   "outputs": [
    {
     "name": "stdout",
     "output_type": "stream",
     "text": [
      "Best score: 0.5268616576858833\n",
      "Best params:\n",
      "{'objective': 'binary', 'metric': 'binary_logloss', 'verbosity': -1, 'feature_pre_filter': False, 'lambda_l1': 2.083874795538991e-08, 'lambda_l2': 8.069877809166703, 'num_leaves': 5, 'feature_fraction': 1.0, 'bagging_fraction': 0.8534669684662493, 'bagging_freq': 5, 'min_child_samples': 20}\n",
      "[0.29343171 0.55357103 0.08359059 ... 0.75647117 0.66175313 0.0943424 ]\n",
      "0.7781673455724762\n",
      "0.5579963518485113\n"
     ]
    }
   ],
   "source": [
    "#qt logloss 不均衡対策\n",
    "print(f'Best score: {tuner_cv.best_score}')\n",
    "print('Best params:')\n",
    "print(tuner_cv.best_params)\n",
    "model = tuner_cv.get_best_booster()\n",
    "pred = model.predict(np.array(te_data[0]), num_iteration=model.best_iteration)\n",
    "mean_pred = np.mean(pred, axis=0)\n",
    "print(mean_pred)\n",
    "print(roc_auc_score(te_data[1], mean_pred))\n",
    "print(log_loss(te_data[1], mean_pred))"
   ]
  },
  {
   "cell_type": "code",
   "execution_count": 13,
   "metadata": {},
   "outputs": [
    {
     "name": "stdout",
     "output_type": "stream",
     "text": [
      "Best score: 0.5191551461910671\n",
      "Best params:\n",
      "{'objective': 'binary', 'metric': 'binary_logloss', 'verbosity': -1, 'feature_pre_filter': False, 'lambda_l1': 1.0180923859633273e-08, 'lambda_l2': 0.005149005482750249, 'num_leaves': 2, 'feature_fraction': 0.8999999999999999, 'bagging_fraction': 0.8202254509243686, 'bagging_freq': 7, 'min_child_samples': 50}\n",
      "[0.62849822 0.87283922 0.18856518 ... 0.52197467 0.13077734 0.16327595]\n",
      "0.8179918935148118\n",
      "0.6369596997637235\n"
     ]
    }
   ],
   "source": [
    "#openstack logloss 不均衡対策\n",
    "print(f'Best score: {tuner_cv.best_score}')\n",
    "print('Best params:')\n",
    "print(tuner_cv.best_params)\n",
    "model = tuner_cv.get_best_booster()\n",
    "pred = model.predict(np.array(te_data[0]), num_iteration=model.best_iteration)\n",
    "mean_pred = np.mean(pred, axis=0)\n",
    "print(mean_pred)\n",
    "print(roc_auc_score(te_data[1], mean_pred))\n",
    "print(log_loss(te_data[1], mean_pred))"
   ]
  },
  {
   "cell_type": "code",
   "execution_count": 69,
   "metadata": {},
   "outputs": [
    {
     "name": "stdout",
     "output_type": "stream",
     "text": [
      "Best score: 0.8165328036699602\n",
      "Best params:\n",
      "{'objective': 'binary', 'metric': 'auc', 'verbosity': -1, 'feature_pre_filter': False, 'lambda_l1': 1.9317001406011016, 'lambda_l2': 3.094407820496894, 'num_leaves': 2, 'feature_fraction': 1.0, 'bagging_fraction': 1.0, 'bagging_freq': 0, 'min_child_samples': 20}\n",
      "[0.36960416 0.50902352 0.14799592 ... 0.70303968 0.61321876 0.18555734]\n",
      "0.7655688245292944\n",
      "0.5847515942649286\n"
     ]
    }
   ],
   "source": [
    "#qt auc 不均衡対策\n",
    "print(f'Best score: {tuner_cv.best_score}')\n",
    "print('Best params:')\n",
    "print(tuner_cv.best_params)\n",
    "model = tuner_cv.get_best_booster()\n",
    "pred = model.predict(np.array(te_data[0]), num_iteration=model.best_iteration)\n",
    "mean_pred = np.mean(pred, axis=0)\n",
    "print(mean_pred)\n",
    "print(roc_auc_score(te_data[1], mean_pred))\n",
    "print(log_loss(te_data[1], mean_pred))"
   ]
  }
 ],
 "metadata": {
  "kernelspec": {
   "display_name": "test",
   "language": "python",
   "name": "python3"
  },
  "language_info": {
   "codemirror_mode": {
    "name": "ipython",
    "version": 3
   },
   "file_extension": ".py",
   "mimetype": "text/x-python",
   "name": "python",
   "nbconvert_exporter": "python",
   "pygments_lexer": "ipython3",
   "version": "3.9.16"
  }
 },
 "nbformat": 4,
 "nbformat_minor": 2
}
