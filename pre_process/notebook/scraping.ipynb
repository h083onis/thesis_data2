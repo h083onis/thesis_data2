{
 "cells": [
  {
   "cell_type": "code",
   "execution_count": 2,
   "metadata": {},
   "outputs": [],
   "source": [
    "from selenium import webdriver\n",
    "from time import sleep\n",
    "from selenium.webdriver.chrome import service as fs\n",
    "from selenium.webdriver.common.by import By\n",
    "from selenium.webdriver.common.keys import Keys\n",
    "from selenium.webdriver.common.action_chains import ActionChains\n",
    "from selenium.common.exceptions import NoSuchElementException\n"
   ]
  },
  {
   "cell_type": "code",
   "execution_count": 17,
   "metadata": {},
   "outputs": [
    {
     "name": "stdout",
     "output_type": "stream",
     "text": [
      "0\n"
     ]
    }
   ],
   "source": [
    "driver = webdriver.Chrome()\n",
    "\n",
    "driver.get('https://bugs.launchpad.net/openstack')\n",
    "\n",
    "keyword = '1235358'\n",
    "                    \n",
    "id = 'field\\.searchtext'\n",
    "search_box = driver.find_element(By.ID, id)\n",
    "search_box.send_keys(keyword)\n",
    "search_box.send_keys(Keys.RETURN)\n",
    "# driver.back()\n",
    "class_name = 'importance-content'\n",
    "class_name2 = 'yui3-activater-data-box'\n",
    "selector = '#affected-software > tbody'\n",
    "element = driver.find_elements(By.CLASS_NAME, class_name)\n",
    "element2 = driver.find_elements(By.CLASS_NAME, class_name2)\n",
    "print(len(element2))\n",
    "# for i in range(len(element)):\n",
    "#     print(element[i].text, element2[i].text)\n",
    "# element = driver.find_element(By.CSS_SELECTOR, selector)\n",
    "# trlist = element.find_elements(By.TAG_NAME, 'tr')\n",
    "\n",
    "# for i in range(0, len(trlist)):\n",
    "#     print(trlist[i].text)\n",
    "#     tds = trlist[i].find_elements(By.TAG_NAME, 'td')\n",
    "#     tmp_list = []\n",
    "#     print(len(tds))\n",
    "#     print(tds[1].text,tds[3].text)\n",
    "#     # tb = elem.find_element(By.CLASS_NAME, 'sprite product')\n",
    "#     print(tmp_list)\n",
    "#     # print(tb.text)\n",
    "# print(tb.text)\n",
    "# for elem in trlist:\n",
    "#     print(elem)\n",
    "#     break\n",
    "# print(trlist[0][0])\n",
    "# print(element.text)\n",
    "#tasksummary1531877 > td:nth-child(4) > div > span\n",
    "#tasksummary1531877\n",
    "\n",
    "# class_name = 'importance-content'\n",
    "# element = driver.find_elements(By.CLASS_NAME, class_name)\n",
    "# print(id.text for id in element)\n",
    "\n",
    "# selector  = '#edit-description > div.yui3-editable_text-text'\n",
    "# element = driver.find_element(By.CSS_SELECTOR, selector)\n",
    "# print(element.text)\n",
    "#priority-val\n",
    "# id = 'priority-val'\n",
    "# element = driver.find_element(By.ID, id)\n",
    "# print(element.text)\n",
    "# id = 'description-val'\n",
    "# element = driver.find_element(By.ID, id)\n",
    "# print(element.text)\n",
    "\n",
    "driver.quit()"
   ]
  },
  {
   "cell_type": "code",
   "execution_count": 5,
   "metadata": {},
   "outputs": [
    {
     "name": "stdout",
     "output_type": "stream",
     "text": [
      "P3: Somewhat important\n",
      "tst_QLineEdit taskQTBUG_7395_readOnlyShortcut is an unstable test on the CI infrastructure. It unstably fails when built by both QtBase and Qt5.\n",
      "QT5\n",
      "PASS - http://testresults.qt-project.org/ci/Qt5_master_Integration/build_00429/linux-g++_developer-build_qtnamespace_qtlibinfix_Ubuntu_11.10_x64/log.txt.gz\n",
      "FAIL - http://testresults.qt-project.org/ci/Qt5_master_Integration/build_00430/linux-g++_developer-build_qtnamespace_qtlibinfix_Ubuntu_11.10_x64/log.txt.gz\n",
      "FAIL - http://testresults.qt-project.org/ci/Qt5_master_Integration/build_00431/linux-g++_developer-build_qtnamespace_qtlibinfix_Ubuntu_11.10_x64/log.txt.gz\n",
      "FAIL - http://testresults.qt-project.org/ci/Qt5_master_Integration/build_00432/linux-g++_developer-build_qtnamespace_qtlibinfix_Ubuntu_11.10_x64/log.txt.gz\n",
      "QtBase\n",
      "FAIL - http://testresults.qt-project.org/ci/QtBase_master_Integration/build_02060/linux-g++_developer-build_qtnamespace_qtlibinfix_Ubuntu_11.10_x64/log.txt.gz\n",
      "PASS - http://testresults.qt-project.org/ci/QtBase_master_Integration/build_02061/linux-g++_developer-build_qtnamespace_qtlibinfix_Ubuntu_11.10_x64/log.txt.gz\n",
      "PASS - http://testresults.qt-project.org/ci/QtBase_master_Integration/build_02062/linux-g++_developer-build_qtnamespace_qtlibinfix_Ubuntu_11.10_x64/log.txt.gz\n",
      "PASS - http://testresults.qt-project.org/ci/QtBase_master_Integration/build_02063/linux-g++_developer-build_qtnamespace_qtlibinfix_Ubuntu_11.10_x64/log.txt.gz\n"
     ]
    }
   ],
   "source": [
    "# driver = webdriver.Chrome()\n",
    "\n",
    "# driver.get('https://bugreports.qt.io/projects/QTBUG/issues/')\n",
    "\n",
    "# keyword = 'QTBUG-24518'\n",
    "                    \n",
    "# id = 'quickSearchInput'\n",
    "# search_box = driver.find_element(By.ID, id)\n",
    "# search_box.send_keys(keyword)\n",
    "# search_box.send_keys(Keys.RETURN)\n",
    "# #priority-val\n",
    "# id = 'priority-val'\n",
    "# element = driver.find_element(By.ID, id)\n",
    "# print(element.text)\n",
    "# id = 'description-val'\n",
    "# element = driver.find_element(By.ID, id)\n",
    "# print(element.text)\n",
    "\n",
    "# driver.quit()"
   ]
  }
 ],
 "metadata": {
  "kernelspec": {
   "display_name": "test",
   "language": "python",
   "name": "python3"
  },
  "language_info": {
   "codemirror_mode": {
    "name": "ipython",
    "version": 3
   },
   "file_extension": ".py",
   "mimetype": "text/x-python",
   "name": "python",
   "nbconvert_exporter": "python",
   "pygments_lexer": "ipython3",
   "version": "3.9.16"
  }
 },
 "nbformat": 4,
 "nbformat_minor": 2
}
