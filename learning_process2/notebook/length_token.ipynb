{
 "cells": [
  {
   "cell_type": "code",
   "execution_count": 35,
   "metadata": {},
   "outputs": [],
   "source": [
    "import json\n",
    "with open('resource/qt_repo_processed.json','r', encoding='utf-8') as f:\n",
    "    json_load = json.load(f)"
   ]
  },
  {
   "cell_type": "code",
   "execution_count": 10,
   "metadata": {},
   "outputs": [],
   "source": [
    "tmp_list = []\n",
    "for commit in json_load:\n",
    "    tmp_list.append(len(commit['msg']))"
   ]
  },
  {
   "cell_type": "code",
   "execution_count": null,
   "metadata": {},
   "outputs": [],
   "source": [
    "range_counts = {}\n",
    "\n",
    "ranges = [(0, 512), (512, 1000), (1000, 160000)]\n",
    "\n",
    "for r in ranges:\n",
    "    range_counts[r] = 0\n",
    "\n",
    "for num in tmp_list:\n",
    "    for r in ranges:\n",
    "        if r[0] <= num <= r[1]:\n",
    "            range_counts[r] += 1\n",
    "\n",
    "for r, count in range_counts.items():\n",
    "    print(f\"{r[0]} から {r[1]} の範囲に含まれる数値の数: {count} 割合：{count / len(tmp_list)}\")"
   ]
  },
  {
   "cell_type": "code",
   "execution_count": 38,
   "metadata": {},
   "outputs": [],
   "source": [
    "tmp_list = []\n",
    "max_len = 0\n",
    "for commit in json_load:\n",
    "    for lines in commit['codes']:\n",
    "        for line in lines:\n",
    "            if max_len < len(line):\n",
    "                max_len = len(line)\n",
    "            tmp_list.append(len(line))"
   ]
  },
  {
   "cell_type": "code",
   "execution_count": 39,
   "metadata": {},
   "outputs": [
    {
     "name": "stdout",
     "output_type": "stream",
     "text": [
      "0 から 16 の範囲に含まれる数値の数: 72708022 割合：0.9895557046212774\n",
      "16 から 32 の範囲に含まれる数値の数: 876962 割合：0.011935447093253131\n",
      "32 から 52 の範囲に含まれる数値の数: 10146 割合：0.00013808699374447952\n"
     ]
    }
   ],
   "source": [
    "range_counts = {}\n",
    "\n",
    "ranges = [(0, 16), (16, 32), (32, max_len)]\n",
    "\n",
    "for r in ranges:\n",
    "    range_counts[r] = 0\n",
    "\n",
    "for num in tmp_list:\n",
    "    for r in ranges:\n",
    "        if r[0] <= num <= r[1]:\n",
    "            range_counts[r] += 1\n",
    "\n",
    "for r, count in range_counts.items():\n",
    "    print(f\"{r[0]} から {r[1]} の範囲に含まれる数値の数: {count} 割合：{count / len(tmp_list)}\")"
   ]
  },
  {
   "cell_type": "code",
   "execution_count": 36,
   "metadata": {},
   "outputs": [],
   "source": [
    "tmp_list = []\n",
    "max_len = 0\n",
    "for commit in json_load:\n",
    "    if max_len < len(commit['codes']):\n",
    "        max_len = len(commit['codes'])\n",
    "    tmp_list.append(len(commit['codes']))"
   ]
  },
  {
   "cell_type": "code",
   "execution_count": 37,
   "metadata": {},
   "outputs": [
    {
     "name": "stdout",
     "output_type": "stream",
     "text": [
      "0 から 32 の範囲に含まれる数値の数: 15571 割合：0.653282987203692\n",
      "32 から 64 の範囲に含まれる数値の数: 3164 割合：0.1327459618208517\n",
      "64 から 128 の範囲に含まれる数値の数: 2329 割合：0.09771344661212503\n",
      "128 から 256 の範囲に含まれる数値の数: 1433 割合：0.06012166981329977\n",
      "256 から 165751 の範囲に含まれる数値の数: 1617 割合：0.06784140969162995\n"
     ]
    }
   ],
   "source": [
    "range_counts = {}\n",
    "\n",
    "ranges = [(0, 32),(32, 64),(64, 128) ,(128, 256), (256, max_len)]\n",
    "\n",
    "for r in ranges:\n",
    "    range_counts[r] = 0\n",
    "\n",
    "for num in tmp_list:\n",
    "    for r in ranges:\n",
    "        if r[0] <= num <= r[1]:\n",
    "            range_counts[r] += 1\n",
    "\n",
    "for r, count in range_counts.items():\n",
    "    print(f\"{r[0]} から {r[1]} の範囲に含まれる数値の数: {count} 割合：{count / len(tmp_list)}\")"
   ]
  }
 ],
 "metadata": {
  "kernelspec": {
   "display_name": "test",
   "language": "python",
   "name": "python3"
  },
  "language_info": {
   "codemirror_mode": {
    "name": "ipython",
    "version": 3
   },
   "file_extension": ".py",
   "mimetype": "text/x-python",
   "name": "python",
   "nbconvert_exporter": "python",
   "pygments_lexer": "ipython3",
   "version": "3.9.16"
  }
 },
 "nbformat": 4,
 "nbformat_minor": 2
}
