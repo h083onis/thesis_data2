{
 "cells": [
  {
   "cell_type": "code",
   "execution_count": 13,
   "metadata": {},
   "outputs": [],
   "source": [
    "import pickle\n",
    "with open('../resource/qt_train.pkl', 'rb') as f_train, open('../resource/qt_test.pkl', 'rb') as f_test:\n",
    "    tr_dataset = pickle.load(f_train)\n",
    "    te_dataset = pickle.load(f_test)"
   ]
  },
  {
   "cell_type": "code",
   "execution_count": 3,
   "metadata": {},
   "outputs": [],
   "source": [
    "from optuna.integration import lightgbm as lgb\n",
    "from sklearn.model_selection import StratifiedKFold\n",
    "import numpy as np\n",
    "from sklearn.metrics import log_loss, roc_auc_score\n",
    "from sklearn.utils.class_weight import compute_class_weight\n",
    "from sklearn.utils.class_weight import compute_sample_weight"
   ]
  },
  {
   "cell_type": "code",
   "execution_count": 14,
   "metadata": {},
   "outputs": [],
   "source": [
    "sample_weights = compute_sample_weight(class_weight='balanced', y=tr_dataset[5])\n",
    "# _weights = compute_class_weight(class_weight='balanced', classes=np.unique(tr_dataset[5]), y=tr_dataset[5])"
   ]
  },
  {
   "cell_type": "code",
   "execution_count": 15,
   "metadata": {},
   "outputs": [],
   "source": [
    "\n",
    "lgb_train = lgb.Dataset(np.array(tr_dataset[4]), np.array(tr_dataset[5]), weight=sample_weights)"
   ]
  },
  {
   "cell_type": "code",
   "execution_count": 22,
   "metadata": {},
   "outputs": [
    {
     "name": "stderr",
     "output_type": "stream",
     "text": [
      "[I 2023-12-13 17:20:01,197] A new study created in memory with name: no-name-f1e6b4e4-603d-424c-ab4a-4e70ca4eaa7f\n",
      "\n",
      "\u001b[A\n",
      "\u001b[Ac:\\Users\\masak\\anaconda3\\envs\\test\\lib\\site-packages\\lightgbm\\engine.py:685: UserWarning: Found 'num_iterations' in params. Will use it instead of 'num_boost_round' argument\n",
      "  _log_warning(f\"Found '{alias}' in params. Will use it instead of 'num_boost_round' argument\")\n"
     ]
    },
    {
     "name": "stdout",
     "output_type": "stream",
     "text": [
      "Training until validation scores don't improve for 10 rounds\n",
      "[100]\tcv_agg's valid binary_logloss: 0.602857 + 0.00643517\n",
      "[200]\tcv_agg's valid binary_logloss: 0.582949 + 0.00905573\n",
      "[300]\tcv_agg's valid binary_logloss: 0.578419 + 0.0100398\n"
     ]
    },
    {
     "name": "stderr",
     "output_type": "stream",
     "text": [
      "\n",
      "\u001b[A\n",
      "\u001b[A[I 2023-12-13 17:20:06,280] Trial 0 finished with value: 0.5779338139935197 and parameters: {'feature_fraction': 0.6}. Best is trial 0 with value: 0.5779338139935197.\n",
      "\n",
      "\u001b[A"
     ]
    },
    {
     "name": "stdout",
     "output_type": "stream",
     "text": [
      "Early stopping, best iteration is:\n",
      "[360]\tcv_agg's valid binary_logloss: 0.577934 + 0.0101161\n",
      "Training until validation scores don't improve for 10 rounds\n"
     ]
    },
    {
     "name": "stderr",
     "output_type": "stream",
     "text": [
      "c:\\Users\\masak\\anaconda3\\envs\\test\\lib\\site-packages\\lightgbm\\engine.py:685: UserWarning: Found 'num_iterations' in params. Will use it instead of 'num_boost_round' argument\n",
      "  _log_warning(f\"Found '{alias}' in params. Will use it instead of 'num_boost_round' argument\")\n"
     ]
    },
    {
     "name": "stdout",
     "output_type": "stream",
     "text": [
      "[100]\tcv_agg's valid binary_logloss: 0.603683 + 0.00715574\n",
      "[200]\tcv_agg's valid binary_logloss: 0.584797 + 0.00983631\n"
     ]
    },
    {
     "name": "stderr",
     "output_type": "stream",
     "text": [
      "\n",
      "\u001b[A\n",
      "\u001b[A[I 2023-12-13 17:20:10,718] Trial 1 finished with value: 0.5800599027132899 and parameters: {'feature_fraction': 0.8999999999999999}. Best is trial 0 with value: 0.5779338139935197.\n",
      "\n",
      "\u001b[A"
     ]
    },
    {
     "name": "stdout",
     "output_type": "stream",
     "text": [
      "[300]\tcv_agg's valid binary_logloss: 0.580146 + 0.0102676\n",
      "Early stopping, best iteration is:\n",
      "[292]\tcv_agg's valid binary_logloss: 0.58006 + 0.0102668\n",
      "Training until validation scores don't improve for 10 rounds\n"
     ]
    },
    {
     "name": "stderr",
     "output_type": "stream",
     "text": [
      "c:\\Users\\masak\\anaconda3\\envs\\test\\lib\\site-packages\\lightgbm\\engine.py:685: UserWarning: Found 'num_iterations' in params. Will use it instead of 'num_boost_round' argument\n",
      "  _log_warning(f\"Found '{alias}' in params. Will use it instead of 'num_boost_round' argument\")\n"
     ]
    },
    {
     "name": "stdout",
     "output_type": "stream",
     "text": [
      "[100]\tcv_agg's valid binary_logloss: 0.604184 + 0.00541651\n",
      "[200]\tcv_agg's valid binary_logloss: 0.583257 + 0.00818394\n",
      "[300]\tcv_agg's valid binary_logloss: 0.57831 + 0.00959293\n"
     ]
    },
    {
     "name": "stderr",
     "output_type": "stream",
     "text": [
      "\n",
      "\u001b[A\n",
      "\u001b[A[I 2023-12-13 17:20:15,697] Trial 2 finished with value: 0.5771371175423295 and parameters: {'feature_fraction': 0.4}. Best is trial 2 with value: 0.5771371175423295.\n",
      "\n",
      "\u001b[A"
     ]
    },
    {
     "name": "stdout",
     "output_type": "stream",
     "text": [
      "Early stopping, best iteration is:\n",
      "[370]\tcv_agg's valid binary_logloss: 0.577137 + 0.00945756\n",
      "Training until validation scores don't improve for 10 rounds\n"
     ]
    },
    {
     "name": "stderr",
     "output_type": "stream",
     "text": [
      "c:\\Users\\masak\\anaconda3\\envs\\test\\lib\\site-packages\\lightgbm\\engine.py:685: UserWarning: Found 'num_iterations' in params. Will use it instead of 'num_boost_round' argument\n",
      "  _log_warning(f\"Found '{alias}' in params. Will use it instead of 'num_boost_round' argument\")\n"
     ]
    },
    {
     "name": "stdout",
     "output_type": "stream",
     "text": [
      "[100]\tcv_agg's valid binary_logloss: 0.603806 + 0.00675581\n",
      "[200]\tcv_agg's valid binary_logloss: 0.584531 + 0.00984497\n"
     ]
    },
    {
     "name": "stderr",
     "output_type": "stream",
     "text": [
      "\n",
      "\u001b[A\n",
      "\u001b[A[I 2023-12-13 17:20:19,963] Trial 3 finished with value: 0.580083168742005 and parameters: {'feature_fraction': 0.8}. Best is trial 2 with value: 0.5771371175423295.\n",
      "\n",
      "\u001b[A"
     ]
    },
    {
     "name": "stdout",
     "output_type": "stream",
     "text": [
      "[300]\tcv_agg's valid binary_logloss: 0.580175 + 0.0106758\n",
      "Early stopping, best iteration is:\n",
      "[296]\tcv_agg's valid binary_logloss: 0.580083 + 0.0107065\n"
     ]
    },
    {
     "name": "stderr",
     "output_type": "stream",
     "text": [
      "c:\\Users\\masak\\anaconda3\\envs\\test\\lib\\site-packages\\lightgbm\\engine.py:685: UserWarning: Found 'num_iterations' in params. Will use it instead of 'num_boost_round' argument\n",
      "  _log_warning(f\"Found '{alias}' in params. Will use it instead of 'num_boost_round' argument\")\n"
     ]
    },
    {
     "name": "stdout",
     "output_type": "stream",
     "text": [
      "Training until validation scores don't improve for 10 rounds\n",
      "[100]\tcv_agg's valid binary_logloss: 0.603432 + 0.00569966\n",
      "[200]\tcv_agg's valid binary_logloss: 0.58312 + 0.00897554\n",
      "[300]\tcv_agg's valid binary_logloss: 0.578475 + 0.010185\n"
     ]
    },
    {
     "name": "stderr",
     "output_type": "stream",
     "text": [
      "\n",
      "\u001b[A\n",
      "\u001b[A[I 2023-12-13 17:20:24,947] Trial 4 finished with value: 0.5778846312911495 and parameters: {'feature_fraction': 0.5}. Best is trial 2 with value: 0.5771371175423295.\n",
      "\n",
      "\u001b[A"
     ]
    },
    {
     "name": "stdout",
     "output_type": "stream",
     "text": [
      "Early stopping, best iteration is:\n",
      "[363]\tcv_agg's valid binary_logloss: 0.577885 + 0.0105859\n",
      "Training until validation scores don't improve for 10 rounds\n"
     ]
    },
    {
     "name": "stderr",
     "output_type": "stream",
     "text": [
      "c:\\Users\\masak\\anaconda3\\envs\\test\\lib\\site-packages\\lightgbm\\engine.py:685: UserWarning: Found 'num_iterations' in params. Will use it instead of 'num_boost_round' argument\n",
      "  _log_warning(f\"Found '{alias}' in params. Will use it instead of 'num_boost_round' argument\")\n"
     ]
    },
    {
     "name": "stdout",
     "output_type": "stream",
     "text": [
      "[100]\tcv_agg's valid binary_logloss: 0.602963 + 0.00698514\n",
      "[200]\tcv_agg's valid binary_logloss: 0.583682 + 0.010128\n",
      "[300]\tcv_agg's valid binary_logloss: 0.578829 + 0.0107292\n"
     ]
    },
    {
     "name": "stderr",
     "output_type": "stream",
     "text": [
      "\n",
      "\u001b[A\n",
      "\u001b[A[I 2023-12-13 17:20:29,613] Trial 5 finished with value: 0.578524145334361 and parameters: {'feature_fraction': 0.7}. Best is trial 2 with value: 0.5771371175423295.\n",
      "\n",
      "\u001b[A"
     ]
    },
    {
     "name": "stdout",
     "output_type": "stream",
     "text": [
      "Early stopping, best iteration is:\n",
      "[325]\tcv_agg's valid binary_logloss: 0.578524 + 0.0106201\n",
      "Training until validation scores don't improve for 10 rounds\n"
     ]
    },
    {
     "name": "stderr",
     "output_type": "stream",
     "text": [
      "c:\\Users\\masak\\anaconda3\\envs\\test\\lib\\site-packages\\lightgbm\\engine.py:685: UserWarning: Found 'num_iterations' in params. Will use it instead of 'num_boost_round' argument\n",
      "  _log_warning(f\"Found '{alias}' in params. Will use it instead of 'num_boost_round' argument\")\n"
     ]
    },
    {
     "name": "stdout",
     "output_type": "stream",
     "text": [
      "[100]\tcv_agg's valid binary_logloss: 0.603805 + 0.00769037\n",
      "[200]\tcv_agg's valid binary_logloss: 0.585718 + 0.0105617\n",
      "[300]\tcv_agg's valid binary_logloss: 0.582397 + 0.0107142\n"
     ]
    },
    {
     "name": "stderr",
     "output_type": "stream",
     "text": [
      "\n",
      "\u001b[A\n",
      "\u001b[A[I 2023-12-13 17:20:34,136] Trial 6 finished with value: 0.58233913744717 and parameters: {'feature_fraction': 1.0}. Best is trial 2 with value: 0.5771371175423295.\n",
      "feature_fraction, val_score: 0.577137: 100%|##########| 7/7 [00:32<00:00,  4.71s/it]\n"
     ]
    },
    {
     "name": "stdout",
     "output_type": "stream",
     "text": [
      "Early stopping, best iteration is:\n",
      "[312]\tcv_agg's valid binary_logloss: 0.582339 + 0.010613\n"
     ]
    },
    {
     "name": "stderr",
     "output_type": "stream",
     "text": [
      "\n",
      "\u001b[A\n",
      "\u001b[A"
     ]
    },
    {
     "name": "stdout",
     "output_type": "stream",
     "text": [
      "Training until validation scores don't improve for 10 rounds\n"
     ]
    },
    {
     "name": "stderr",
     "output_type": "stream",
     "text": [
      "c:\\Users\\masak\\anaconda3\\envs\\test\\lib\\site-packages\\lightgbm\\engine.py:685: UserWarning: Found 'num_iterations' in params. Will use it instead of 'num_boost_round' argument\n",
      "  _log_warning(f\"Found '{alias}' in params. Will use it instead of 'num_boost_round' argument\")\n"
     ]
    },
    {
     "name": "stdout",
     "output_type": "stream",
     "text": [
      "[100]\tcv_agg's valid binary_logloss: 0.601367 + 0.00545337\n",
      "[200]\tcv_agg's valid binary_logloss: 0.584969 + 0.00873256\n"
     ]
    },
    {
     "name": "stderr",
     "output_type": "stream",
     "text": [
      "\n",
      "\u001b[A\n",
      "\u001b[A[I 2023-12-13 17:20:39,835] Trial 7 finished with value: 0.5844022395281624 and parameters: {'num_leaves': 67}. Best is trial 7 with value: 0.5844022395281624.\n",
      "\n",
      "\u001b[A"
     ]
    },
    {
     "name": "stdout",
     "output_type": "stream",
     "text": [
      "Early stopping, best iteration is:\n",
      "[219]\tcv_agg's valid binary_logloss: 0.584402 + 0.00920452\n",
      "Training until validation scores don't improve for 10 rounds\n"
     ]
    },
    {
     "name": "stderr",
     "output_type": "stream",
     "text": [
      "c:\\Users\\masak\\anaconda3\\envs\\test\\lib\\site-packages\\lightgbm\\engine.py:685: UserWarning: Found 'num_iterations' in params. Will use it instead of 'num_boost_round' argument\n",
      "  _log_warning(f\"Found '{alias}' in params. Will use it instead of 'num_boost_round' argument\")\n"
     ]
    },
    {
     "name": "stdout",
     "output_type": "stream",
     "text": [
      "[100]\tcv_agg's valid binary_logloss: 0.603451 + 0.00689172\n"
     ]
    },
    {
     "name": "stderr",
     "output_type": "stream",
     "text": [
      "\n",
      "\u001b[A\n",
      "\u001b[A[I 2023-12-13 17:20:47,696] Trial 8 finished with value: 0.5990822560388118 and parameters: {'num_leaves': 161}. Best is trial 7 with value: 0.5844022395281624.\n",
      "\n",
      "\u001b[A"
     ]
    },
    {
     "name": "stdout",
     "output_type": "stream",
     "text": [
      "Early stopping, best iteration is:\n",
      "[141]\tcv_agg's valid binary_logloss: 0.599082 + 0.0091969\n"
     ]
    },
    {
     "name": "stderr",
     "output_type": "stream",
     "text": [
      "c:\\Users\\masak\\anaconda3\\envs\\test\\lib\\site-packages\\lightgbm\\engine.py:685: UserWarning: Found 'num_iterations' in params. Will use it instead of 'num_boost_round' argument\n",
      "  _log_warning(f\"Found '{alias}' in params. Will use it instead of 'num_boost_round' argument\")\n"
     ]
    },
    {
     "name": "stdout",
     "output_type": "stream",
     "text": [
      "Training until validation scores don't improve for 10 rounds\n",
      "[100]\tcv_agg's valid binary_logloss: 0.606083 + 0.00693098\n"
     ]
    },
    {
     "name": "stderr",
     "output_type": "stream",
     "text": [
      "\n",
      "\u001b[A\n",
      "\u001b[A[I 2023-12-13 17:20:56,652] Trial 9 finished with value: 0.6039718349434524 and parameters: {'num_leaves': 206}. Best is trial 7 with value: 0.5844022395281624.\n",
      "\n",
      "\u001b[A"
     ]
    },
    {
     "name": "stdout",
     "output_type": "stream",
     "text": [
      "Early stopping, best iteration is:\n",
      "[125]\tcv_agg's valid binary_logloss: 0.603972 + 0.0086343\n",
      "Training until validation scores don't improve for 10 rounds\n"
     ]
    },
    {
     "name": "stderr",
     "output_type": "stream",
     "text": [
      "c:\\Users\\masak\\anaconda3\\envs\\test\\lib\\site-packages\\lightgbm\\engine.py:685: UserWarning: Found 'num_iterations' in params. Will use it instead of 'num_boost_round' argument\n",
      "  _log_warning(f\"Found '{alias}' in params. Will use it instead of 'num_boost_round' argument\")\n"
     ]
    },
    {
     "name": "stdout",
     "output_type": "stream",
     "text": [
      "[100]\tcv_agg's valid binary_logloss: 0.624037 + 0.00699363\n",
      "[200]\tcv_agg's valid binary_logloss: 0.601799 + 0.00974948\n",
      "[300]\tcv_agg's valid binary_logloss: 0.590674 + 0.0102206\n",
      "[400]\tcv_agg's valid binary_logloss: 0.58485 + 0.0102014\n",
      "[500]\tcv_agg's valid binary_logloss: 0.5815 + 0.00989433\n",
      "[600]\tcv_agg's valid binary_logloss: 0.579247 + 0.00947535\n",
      "[700]\tcv_agg's valid binary_logloss: 0.577491 + 0.00920943\n",
      "[800]\tcv_agg's valid binary_logloss: 0.57631 + 0.00897907\n",
      "[900]\tcv_agg's valid binary_logloss: 0.575418 + 0.00889062\n"
     ]
    },
    {
     "name": "stderr",
     "output_type": "stream",
     "text": [
      "\n",
      "\u001b[A\n",
      "\u001b[A[I 2023-12-13 17:20:59,796] Trial 10 finished with value: 0.5748048174880626 and parameters: {'num_leaves': 4}. Best is trial 10 with value: 0.5748048174880626.\n",
      "\n",
      "\u001b[A"
     ]
    },
    {
     "name": "stdout",
     "output_type": "stream",
     "text": [
      "[1000]\tcv_agg's valid binary_logloss: 0.574805 + 0.00866785\n",
      "Did not meet early stopping. Best iteration is:\n",
      "[1000]\tcv_agg's valid binary_logloss: 0.574805 + 0.00866785\n",
      "Training until validation scores don't improve for 10 rounds\n"
     ]
    },
    {
     "name": "stderr",
     "output_type": "stream",
     "text": [
      "c:\\Users\\masak\\anaconda3\\envs\\test\\lib\\site-packages\\lightgbm\\engine.py:685: UserWarning: Found 'num_iterations' in params. Will use it instead of 'num_boost_round' argument\n",
      "  _log_warning(f\"Found '{alias}' in params. Will use it instead of 'num_boost_round' argument\")\n"
     ]
    },
    {
     "name": "stdout",
     "output_type": "stream",
     "text": [
      "[100]\tcv_agg's valid binary_logloss: 0.624037 + 0.00699363\n",
      "[200]\tcv_agg's valid binary_logloss: 0.601799 + 0.00974948\n",
      "[300]\tcv_agg's valid binary_logloss: 0.590674 + 0.0102206\n",
      "[400]\tcv_agg's valid binary_logloss: 0.58485 + 0.0102014\n",
      "[500]\tcv_agg's valid binary_logloss: 0.5815 + 0.00989433\n",
      "[600]\tcv_agg's valid binary_logloss: 0.579247 + 0.00947535\n",
      "[700]\tcv_agg's valid binary_logloss: 0.577491 + 0.00920943\n",
      "[800]\tcv_agg's valid binary_logloss: 0.57631 + 0.00897907\n",
      "[900]\tcv_agg's valid binary_logloss: 0.575418 + 0.00889062\n"
     ]
    },
    {
     "name": "stderr",
     "output_type": "stream",
     "text": [
      "\n",
      "\u001b[A\n",
      "\u001b[A[I 2023-12-13 17:21:02,986] Trial 11 finished with value: 0.5748048174880626 and parameters: {'num_leaves': 4}. Best is trial 10 with value: 0.5748048174880626.\n",
      "\n",
      "\u001b[A"
     ]
    },
    {
     "name": "stdout",
     "output_type": "stream",
     "text": [
      "[1000]\tcv_agg's valid binary_logloss: 0.574805 + 0.00866785\n",
      "Did not meet early stopping. Best iteration is:\n",
      "[1000]\tcv_agg's valid binary_logloss: 0.574805 + 0.00866785\n",
      "Training until validation scores don't improve for 10 rounds\n"
     ]
    },
    {
     "name": "stderr",
     "output_type": "stream",
     "text": [
      "c:\\Users\\masak\\anaconda3\\envs\\test\\lib\\site-packages\\lightgbm\\engine.py:685: UserWarning: Found 'num_iterations' in params. Will use it instead of 'num_boost_round' argument\n",
      "  _log_warning(f\"Found '{alias}' in params. Will use it instead of 'num_boost_round' argument\")\n"
     ]
    },
    {
     "name": "stdout",
     "output_type": "stream",
     "text": [
      "[100]\tcv_agg's valid binary_logloss: 0.612845 + 0.00656348\n",
      "[200]\tcv_agg's valid binary_logloss: 0.590092 + 0.00932818\n",
      "[300]\tcv_agg's valid binary_logloss: 0.580707 + 0.00995878\n",
      "[400]\tcv_agg's valid binary_logloss: 0.576244 + 0.00974592\n",
      "[500]\tcv_agg's valid binary_logloss: 0.574197 + 0.00922715\n",
      "[600]\tcv_agg's valid binary_logloss: 0.573161 + 0.00875623\n"
     ]
    },
    {
     "name": "stderr",
     "output_type": "stream",
     "text": [
      "\n",
      "\u001b[A\n",
      "\u001b[A[I 2023-12-13 17:21:06,429] Trial 12 finished with value: 0.572900263280778 and parameters: {'num_leaves': 9}. Best is trial 12 with value: 0.572900263280778.\n",
      "\n",
      "\u001b[A"
     ]
    },
    {
     "name": "stdout",
     "output_type": "stream",
     "text": [
      "Early stopping, best iteration is:\n",
      "[643]\tcv_agg's valid binary_logloss: 0.5729 + 0.00869632\n",
      "Training until validation scores don't improve for 10 rounds\n"
     ]
    },
    {
     "name": "stderr",
     "output_type": "stream",
     "text": [
      "c:\\Users\\masak\\anaconda3\\envs\\test\\lib\\site-packages\\lightgbm\\engine.py:685: UserWarning: Found 'num_iterations' in params. Will use it instead of 'num_boost_round' argument\n",
      "  _log_warning(f\"Found '{alias}' in params. Will use it instead of 'num_boost_round' argument\")\n"
     ]
    },
    {
     "name": "stdout",
     "output_type": "stream",
     "text": [
      "[100]\tcv_agg's valid binary_logloss: 0.606778 + 0.00568146\n",
      "[200]\tcv_agg's valid binary_logloss: 0.584605 + 0.00833399\n",
      "[300]\tcv_agg's valid binary_logloss: 0.577255 + 0.00929071\n",
      "[400]\tcv_agg's valid binary_logloss: 0.574318 + 0.00910519\n"
     ]
    },
    {
     "name": "stderr",
     "output_type": "stream",
     "text": [
      "\n",
      "\u001b[A\n",
      "\u001b[A[I 2023-12-13 17:21:10,385] Trial 13 finished with value: 0.5741125560164388 and parameters: {'num_leaves': 20}. Best is trial 12 with value: 0.572900263280778.\n",
      "\n",
      "\u001b[A"
     ]
    },
    {
     "name": "stdout",
     "output_type": "stream",
     "text": [
      "Early stopping, best iteration is:\n",
      "[422]\tcv_agg's valid binary_logloss: 0.574113 + 0.00911489\n",
      "Training until validation scores don't improve for 10 rounds\n"
     ]
    },
    {
     "name": "stderr",
     "output_type": "stream",
     "text": [
      "c:\\Users\\masak\\anaconda3\\envs\\test\\lib\\site-packages\\lightgbm\\engine.py:685: UserWarning: Found 'num_iterations' in params. Will use it instead of 'num_boost_round' argument\n",
      "  _log_warning(f\"Found '{alias}' in params. Will use it instead of 'num_boost_round' argument\")\n"
     ]
    },
    {
     "name": "stdout",
     "output_type": "stream",
     "text": [
      "[100]\tcv_agg's valid binary_logloss: 0.601115 + 0.00588671\n",
      "[200]\tcv_agg's valid binary_logloss: 0.587698 + 0.00961571\n"
     ]
    },
    {
     "name": "stderr",
     "output_type": "stream",
     "text": [
      "\n",
      "\u001b[A\n",
      "\u001b[A[I 2023-12-13 17:21:16,997] Trial 14 finished with value: 0.5876114212352657 and parameters: {'num_leaves': 84}. Best is trial 12 with value: 0.572900263280778.\n",
      "\n",
      "\u001b[A"
     ]
    },
    {
     "name": "stdout",
     "output_type": "stream",
     "text": [
      "Early stopping, best iteration is:\n",
      "[203]\tcv_agg's valid binary_logloss: 0.587611 + 0.00971938\n",
      "Training until validation scores don't improve for 10 rounds\n"
     ]
    },
    {
     "name": "stderr",
     "output_type": "stream",
     "text": [
      "c:\\Users\\masak\\anaconda3\\envs\\test\\lib\\site-packages\\lightgbm\\engine.py:685: UserWarning: Found 'num_iterations' in params. Will use it instead of 'num_boost_round' argument\n",
      "  _log_warning(f\"Found '{alias}' in params. Will use it instead of 'num_boost_round' argument\")\n"
     ]
    },
    {
     "name": "stdout",
     "output_type": "stream",
     "text": [
      "[100]\tcv_agg's valid binary_logloss: 0.6014 + 0.00542613\n",
      "[200]\tcv_agg's valid binary_logloss: 0.58412 + 0.00899509\n"
     ]
    },
    {
     "name": "stderr",
     "output_type": "stream",
     "text": [
      "\n",
      "\u001b[A\n",
      "\u001b[A[I 2023-12-13 17:21:22,597] Trial 15 finished with value: 0.5834104336865567 and parameters: {'num_leaves': 61}. Best is trial 12 with value: 0.572900263280778.\n",
      "\n",
      "\u001b[A"
     ]
    },
    {
     "name": "stdout",
     "output_type": "stream",
     "text": [
      "Early stopping, best iteration is:\n",
      "[226]\tcv_agg's valid binary_logloss: 0.58341 + 0.00968327\n",
      "Training until validation scores don't improve for 10 rounds\n"
     ]
    },
    {
     "name": "stderr",
     "output_type": "stream",
     "text": [
      "c:\\Users\\masak\\anaconda3\\envs\\test\\lib\\site-packages\\lightgbm\\engine.py:685: UserWarning: Found 'num_iterations' in params. Will use it instead of 'num_boost_round' argument\n",
      "  _log_warning(f\"Found '{alias}' in params. Will use it instead of 'num_boost_round' argument\")\n"
     ]
    },
    {
     "name": "stdout",
     "output_type": "stream",
     "text": [
      "[100]\tcv_agg's valid binary_logloss: 0.639163 + 0.00567186\n",
      "[200]\tcv_agg's valid binary_logloss: 0.620309 + 0.00800549\n",
      "[300]\tcv_agg's valid binary_logloss: 0.609905 + 0.00922447\n",
      "[400]\tcv_agg's valid binary_logloss: 0.603532 + 0.009778\n",
      "[500]\tcv_agg's valid binary_logloss: 0.598822 + 0.0101602\n",
      "[600]\tcv_agg's valid binary_logloss: 0.59513 + 0.010376\n",
      "[700]\tcv_agg's valid binary_logloss: 0.592343 + 0.0104389\n",
      "[800]\tcv_agg's valid binary_logloss: 0.590206 + 0.0104396\n"
     ]
    },
    {
     "name": "stderr",
     "output_type": "stream",
     "text": [
      "\n",
      "\n"
     ]
    },
    {
     "name": "stdout",
     "output_type": "stream",
     "text": [
      "[900]\tcv_agg's valid binary_logloss: 0.588451 + 0.0103376\n",
      "[1000]\tcv_agg's valid binary_logloss: 0.587043 + 0.0102651\n",
      "Did not meet early stopping. Best iteration is:\n",
      "[1000]\tcv_agg's valid binary_logloss: 0.587043 + 0.0102651\n"
     ]
    },
    {
     "name": "stderr",
     "output_type": "stream",
     "text": [
      "num_leaves, val_score: 0.572900:  45%|####5     | 9/20 [00:50<00:57,  5.21s/it]\u001b[A\u001b[A\n",
      "\u001b[A[I 2023-12-13 17:21:24,797] Trial 16 finished with value: 0.5870425812974933 and parameters: {'num_leaves': 2}. Best is trial 12 with value: 0.572900263280778.\n",
      "\n",
      "\u001b[Ac:\\Users\\masak\\anaconda3\\envs\\test\\lib\\site-packages\\lightgbm\\engine.py:685: UserWarning: Found 'num_iterations' in params. Will use it instead of 'num_boost_round' argument\n",
      "  _log_warning(f\"Found '{alias}' in params. Will use it instead of 'num_boost_round' argument\")\n"
     ]
    },
    {
     "name": "stdout",
     "output_type": "stream",
     "text": [
      "Training until validation scores don't improve for 10 rounds\n",
      "[100]\tcv_agg's valid binary_logloss: 0.601274 + 0.00660014\n"
     ]
    },
    {
     "name": "stderr",
     "output_type": "stream",
     "text": [
      "\n",
      "\u001b[A\n",
      "\u001b[A[I 2023-12-13 17:21:31,734] Trial 17 finished with value: 0.5926452477586978 and parameters: {'num_leaves': 116}. Best is trial 12 with value: 0.572900263280778.\n",
      "\n",
      "\u001b[A"
     ]
    },
    {
     "name": "stdout",
     "output_type": "stream",
     "text": [
      "Early stopping, best iteration is:\n",
      "[164]\tcv_agg's valid binary_logloss: 0.592645 + 0.00993836\n"
     ]
    },
    {
     "name": "stderr",
     "output_type": "stream",
     "text": [
      "c:\\Users\\masak\\anaconda3\\envs\\test\\lib\\site-packages\\lightgbm\\engine.py:685: UserWarning: Found 'num_iterations' in params. Will use it instead of 'num_boost_round' argument\n",
      "  _log_warning(f\"Found '{alias}' in params. Will use it instead of 'num_boost_round' argument\")\n"
     ]
    },
    {
     "name": "stdout",
     "output_type": "stream",
     "text": [
      "Training until validation scores don't improve for 10 rounds\n",
      "[100]\tcv_agg's valid binary_logloss: 0.6109 + 0.00751405\n"
     ]
    },
    {
     "name": "stderr",
     "output_type": "stream",
     "text": [
      "\n",
      "\u001b[A\n",
      "\u001b[A[I 2023-12-13 17:21:41,413] Trial 18 finished with value: 0.6101779026161811 and parameters: {'num_leaves': 255}. Best is trial 12 with value: 0.572900263280778.\n",
      "\n",
      "\u001b[A"
     ]
    },
    {
     "name": "stdout",
     "output_type": "stream",
     "text": [
      "Early stopping, best iteration is:\n",
      "[115]\tcv_agg's valid binary_logloss: 0.610178 + 0.00858333\n",
      "Training until validation scores don't improve for 10 rounds\n"
     ]
    },
    {
     "name": "stderr",
     "output_type": "stream",
     "text": [
      "c:\\Users\\masak\\anaconda3\\envs\\test\\lib\\site-packages\\lightgbm\\engine.py:685: UserWarning: Found 'num_iterations' in params. Will use it instead of 'num_boost_round' argument\n",
      "  _log_warning(f\"Found '{alias}' in params. Will use it instead of 'num_boost_round' argument\")\n"
     ]
    },
    {
     "name": "stdout",
     "output_type": "stream",
     "text": [
      "[100]\tcv_agg's valid binary_logloss: 0.603519 + 0.00495419\n",
      "[200]\tcv_agg's valid binary_logloss: 0.58294 + 0.00774739\n",
      "[300]\tcv_agg's valid binary_logloss: 0.578985 + 0.00876899\n"
     ]
    },
    {
     "name": "stderr",
     "output_type": "stream",
     "text": [
      "\n",
      "\u001b[A\n",
      "\u001b[A[I 2023-12-13 17:21:46,613] Trial 19 finished with value: 0.5784500498708409 and parameters: {'num_leaves': 36}. Best is trial 12 with value: 0.572900263280778.\n",
      "\n",
      "\u001b[A"
     ]
    },
    {
     "name": "stdout",
     "output_type": "stream",
     "text": [
      "Early stopping, best iteration is:\n",
      "[337]\tcv_agg's valid binary_logloss: 0.57845 + 0.00863923\n",
      "Training until validation scores don't improve for 10 rounds\n"
     ]
    },
    {
     "name": "stderr",
     "output_type": "stream",
     "text": [
      "c:\\Users\\masak\\anaconda3\\envs\\test\\lib\\site-packages\\lightgbm\\engine.py:685: UserWarning: Found 'num_iterations' in params. Will use it instead of 'num_boost_round' argument\n",
      "  _log_warning(f\"Found '{alias}' in params. Will use it instead of 'num_boost_round' argument\")\n"
     ]
    },
    {
     "name": "stdout",
     "output_type": "stream",
     "text": [
      "[100]\tcv_agg's valid binary_logloss: 0.601692 + 0.00694601\n"
     ]
    },
    {
     "name": "stderr",
     "output_type": "stream",
     "text": [
      "\n",
      "\u001b[A\n",
      "\u001b[A[I 2023-12-13 17:21:53,830] Trial 20 finished with value: 0.5927881346427925 and parameters: {'num_leaves': 118}. Best is trial 12 with value: 0.572900263280778.\n",
      "\n",
      "\u001b[A"
     ]
    },
    {
     "name": "stdout",
     "output_type": "stream",
     "text": [
      "Early stopping, best iteration is:\n",
      "[164]\tcv_agg's valid binary_logloss: 0.592788 + 0.010281\n",
      "Training until validation scores don't improve for 10 rounds\n"
     ]
    },
    {
     "name": "stderr",
     "output_type": "stream",
     "text": [
      "c:\\Users\\masak\\anaconda3\\envs\\test\\lib\\site-packages\\lightgbm\\engine.py:685: UserWarning: Found 'num_iterations' in params. Will use it instead of 'num_boost_round' argument\n",
      "  _log_warning(f\"Found '{alias}' in params. Will use it instead of 'num_boost_round' argument\")\n"
     ]
    },
    {
     "name": "stdout",
     "output_type": "stream",
     "text": [
      "[100]\tcv_agg's valid binary_logloss: 0.604184 + 0.00541651\n",
      "[200]\tcv_agg's valid binary_logloss: 0.583257 + 0.00818394\n",
      "[300]\tcv_agg's valid binary_logloss: 0.57831 + 0.00959293\n"
     ]
    },
    {
     "name": "stderr",
     "output_type": "stream",
     "text": [
      "\n",
      "\u001b[A\n",
      "\u001b[A[I 2023-12-13 17:21:59,047] Trial 21 finished with value: 0.5771371175423295 and parameters: {'num_leaves': 31}. Best is trial 12 with value: 0.572900263280778.\n",
      "\n",
      "\u001b[A"
     ]
    },
    {
     "name": "stdout",
     "output_type": "stream",
     "text": [
      "Early stopping, best iteration is:\n",
      "[370]\tcv_agg's valid binary_logloss: 0.577137 + 0.00945756\n",
      "Training until validation scores don't improve for 10 rounds\n"
     ]
    },
    {
     "name": "stderr",
     "output_type": "stream",
     "text": [
      "c:\\Users\\masak\\anaconda3\\envs\\test\\lib\\site-packages\\lightgbm\\engine.py:685: UserWarning: Found 'num_iterations' in params. Will use it instead of 'num_boost_round' argument\n",
      "  _log_warning(f\"Found '{alias}' in params. Will use it instead of 'num_boost_round' argument\")\n"
     ]
    },
    {
     "name": "stdout",
     "output_type": "stream",
     "text": [
      "[100]\tcv_agg's valid binary_logloss: 0.604938 + 0.00549435\n",
      "[200]\tcv_agg's valid binary_logloss: 0.5835 + 0.00803261\n",
      "[300]\tcv_agg's valid binary_logloss: 0.577952 + 0.00922128\n"
     ]
    },
    {
     "name": "stderr",
     "output_type": "stream",
     "text": [
      "\n",
      "\u001b[A\n",
      "\u001b[A[I 2023-12-13 17:22:03,763] Trial 22 finished with value: 0.5764659038851728 and parameters: {'num_leaves': 28}. Best is trial 12 with value: 0.572900263280778.\n",
      "\n",
      "\u001b[A"
     ]
    },
    {
     "name": "stdout",
     "output_type": "stream",
     "text": [
      "Early stopping, best iteration is:\n",
      "[371]\tcv_agg's valid binary_logloss: 0.576466 + 0.00939032\n",
      "Training until validation scores don't improve for 10 rounds\n"
     ]
    },
    {
     "name": "stderr",
     "output_type": "stream",
     "text": [
      "c:\\Users\\masak\\anaconda3\\envs\\test\\lib\\site-packages\\lightgbm\\engine.py:685: UserWarning: Found 'num_iterations' in params. Will use it instead of 'num_boost_round' argument\n",
      "  _log_warning(f\"Found '{alias}' in params. Will use it instead of 'num_boost_round' argument\")\n"
     ]
    },
    {
     "name": "stdout",
     "output_type": "stream",
     "text": [
      "[100]\tcv_agg's valid binary_logloss: 0.602768 + 0.00511273\n",
      "[200]\tcv_agg's valid binary_logloss: 0.582422 + 0.00827585\n"
     ]
    },
    {
     "name": "stderr",
     "output_type": "stream",
     "text": [
      "\n",
      "\u001b[A\n",
      "\u001b[A[I 2023-12-13 17:22:08,747] Trial 23 finished with value: 0.5790561280982237 and parameters: {'num_leaves': 40}. Best is trial 12 with value: 0.572900263280778.\n",
      "\n",
      "\u001b[A"
     ]
    },
    {
     "name": "stdout",
     "output_type": "stream",
     "text": [
      "[300]\tcv_agg's valid binary_logloss: 0.579143 + 0.00983445\n",
      "Early stopping, best iteration is:\n",
      "[297]\tcv_agg's valid binary_logloss: 0.579056 + 0.00977251\n"
     ]
    },
    {
     "name": "stderr",
     "output_type": "stream",
     "text": [
      "c:\\Users\\masak\\anaconda3\\envs\\test\\lib\\site-packages\\lightgbm\\engine.py:685: UserWarning: Found 'num_iterations' in params. Will use it instead of 'num_boost_round' argument\n",
      "  _log_warning(f\"Found '{alias}' in params. Will use it instead of 'num_boost_round' argument\")\n"
     ]
    },
    {
     "name": "stdout",
     "output_type": "stream",
     "text": [
      "Training until validation scores don't improve for 10 rounds\n",
      "[100]\tcv_agg's valid binary_logloss: 0.620379 + 0.00703699\n",
      "[200]\tcv_agg's valid binary_logloss: 0.597694 + 0.00963069\n",
      "[300]\tcv_agg's valid binary_logloss: 0.586951 + 0.0102742\n",
      "[400]\tcv_agg's valid binary_logloss: 0.581564 + 0.0101486\n",
      "[500]\tcv_agg's valid binary_logloss: 0.578448 + 0.00959046\n",
      "[600]\tcv_agg's valid binary_logloss: 0.576511 + 0.00924872\n",
      "[700]\tcv_agg's valid binary_logloss: 0.575344 + 0.00885328\n",
      "[800]\tcv_agg's valid binary_logloss: 0.574644 + 0.00873999\n",
      "[900]\tcv_agg's valid binary_logloss: 0.574 + 0.00839435\n"
     ]
    },
    {
     "name": "stderr",
     "output_type": "stream",
     "text": [
      "\n",
      "\u001b[A\n",
      "\u001b[A[I 2023-12-13 17:22:12,225] Trial 24 finished with value: 0.5737264974686386 and parameters: {'num_leaves': 5}. Best is trial 12 with value: 0.572900263280778.\n",
      "\n",
      "\u001b[A"
     ]
    },
    {
     "name": "stdout",
     "output_type": "stream",
     "text": [
      "Early stopping, best iteration is:\n",
      "[975]\tcv_agg's valid binary_logloss: 0.573726 + 0.00822589\n",
      "Training until validation scores don't improve for 10 rounds\n"
     ]
    },
    {
     "name": "stderr",
     "output_type": "stream",
     "text": [
      "c:\\Users\\masak\\anaconda3\\envs\\test\\lib\\site-packages\\lightgbm\\engine.py:685: UserWarning: Found 'num_iterations' in params. Will use it instead of 'num_boost_round' argument\n",
      "  _log_warning(f\"Found '{alias}' in params. Will use it instead of 'num_boost_round' argument\")\n"
     ]
    },
    {
     "name": "stdout",
     "output_type": "stream",
     "text": [
      "[100]\tcv_agg's valid binary_logloss: 0.600961 + 0.00630411\n"
     ]
    },
    {
     "name": "stderr",
     "output_type": "stream",
     "text": [
      "\n",
      "\u001b[A\n",
      "\u001b[A[I 2023-12-13 17:22:18,549] Trial 25 finished with value: 0.5893995189471923 and parameters: {'num_leaves': 94}. Best is trial 12 with value: 0.572900263280778.\n",
      "\n",
      "\u001b[A"
     ]
    },
    {
     "name": "stdout",
     "output_type": "stream",
     "text": [
      "Early stopping, best iteration is:\n",
      "[181]\tcv_agg's valid binary_logloss: 0.5894 + 0.00908111\n",
      "Training until validation scores don't improve for 10 rounds\n"
     ]
    },
    {
     "name": "stderr",
     "output_type": "stream",
     "text": [
      "c:\\Users\\masak\\anaconda3\\envs\\test\\lib\\site-packages\\lightgbm\\engine.py:685: UserWarning: Found 'num_iterations' in params. Will use it instead of 'num_boost_round' argument\n",
      "  _log_warning(f\"Found '{alias}' in params. Will use it instead of 'num_boost_round' argument\")\n"
     ]
    },
    {
     "name": "stdout",
     "output_type": "stream",
     "text": [
      "[100]\tcv_agg's valid binary_logloss: 0.601698 + 0.00533127\n",
      "[200]\tcv_agg's valid binary_logloss: 0.583285 + 0.008498\n"
     ]
    },
    {
     "name": "stderr",
     "output_type": "stream",
     "text": [
      "\n",
      "\u001b[A\n",
      "\u001b[A[I 2023-12-13 17:22:24,069] Trial 26 finished with value: 0.5820363755447561 and parameters: {'num_leaves': 54}. Best is trial 12 with value: 0.572900263280778.\n",
      "num_leaves, val_score: 0.572900: 100%|##########| 20/20 [01:49<00:00,  5.50s/it]\n"
     ]
    },
    {
     "name": "stdout",
     "output_type": "stream",
     "text": [
      "Early stopping, best iteration is:\n",
      "[258]\tcv_agg's valid binary_logloss: 0.582036 + 0.0098691\n"
     ]
    },
    {
     "name": "stderr",
     "output_type": "stream",
     "text": [
      "\n",
      "\u001b[A\n",
      "\u001b[A"
     ]
    },
    {
     "name": "stdout",
     "output_type": "stream",
     "text": [
      "Training until validation scores don't improve for 10 rounds\n"
     ]
    },
    {
     "name": "stderr",
     "output_type": "stream",
     "text": [
      "c:\\Users\\masak\\anaconda3\\envs\\test\\lib\\site-packages\\lightgbm\\engine.py:685: UserWarning: Found 'num_iterations' in params. Will use it instead of 'num_boost_round' argument\n",
      "  _log_warning(f\"Found '{alias}' in params. Will use it instead of 'num_boost_round' argument\")\n"
     ]
    },
    {
     "name": "stdout",
     "output_type": "stream",
     "text": [
      "[100]\tcv_agg's valid binary_logloss: 0.612599 + 0.00652203\n",
      "[200]\tcv_agg's valid binary_logloss: 0.589149 + 0.00916049\n",
      "[300]\tcv_agg's valid binary_logloss: 0.579914 + 0.00990286\n",
      "[400]\tcv_agg's valid binary_logloss: 0.575343 + 0.00991343\n",
      "[500]\tcv_agg's valid binary_logloss: 0.572933 + 0.00949398\n",
      "[600]\tcv_agg's valid binary_logloss: 0.571521 + 0.00926361\n"
     ]
    },
    {
     "name": "stderr",
     "output_type": "stream",
     "text": [
      "\n",
      "\u001b[A\n",
      "\u001b[A[I 2023-12-13 17:22:27,863] Trial 27 finished with value: 0.5709508575252118 and parameters: {'bagging_fraction': 0.8183971988012102, 'bagging_freq': 1}. Best is trial 27 with value: 0.5709508575252118.\n",
      "\n",
      "\u001b[A"
     ]
    },
    {
     "name": "stdout",
     "output_type": "stream",
     "text": [
      "Early stopping, best iteration is:\n",
      "[658]\tcv_agg's valid binary_logloss: 0.570951 + 0.00920953\n",
      "Training until validation scores don't improve for 10 rounds\n"
     ]
    },
    {
     "name": "stderr",
     "output_type": "stream",
     "text": [
      "c:\\Users\\masak\\anaconda3\\envs\\test\\lib\\site-packages\\lightgbm\\engine.py:685: UserWarning: Found 'num_iterations' in params. Will use it instead of 'num_boost_round' argument\n",
      "  _log_warning(f\"Found '{alias}' in params. Will use it instead of 'num_boost_round' argument\")\n"
     ]
    },
    {
     "name": "stdout",
     "output_type": "stream",
     "text": [
      "[100]\tcv_agg's valid binary_logloss: 0.612637 + 0.00669069\n",
      "[200]\tcv_agg's valid binary_logloss: 0.589446 + 0.00932331\n",
      "[300]\tcv_agg's valid binary_logloss: 0.580286 + 0.0101096\n",
      "[400]\tcv_agg's valid binary_logloss: 0.575783 + 0.0102408\n",
      "[500]\tcv_agg's valid binary_logloss: 0.573362 + 0.00995218\n",
      "[600]\tcv_agg's valid binary_logloss: 0.572101 + 0.0095179\n"
     ]
    },
    {
     "name": "stderr",
     "output_type": "stream",
     "text": [
      "\n",
      "\u001b[A\n",
      "\u001b[A[I 2023-12-13 17:22:32,052] Trial 28 finished with value: 0.5711928493909924 and parameters: {'bagging_fraction': 0.8333072383363125, 'bagging_freq': 1}. Best is trial 27 with value: 0.5709508575252118.\n",
      "\n",
      "\u001b[A"
     ]
    },
    {
     "name": "stdout",
     "output_type": "stream",
     "text": [
      "[700]\tcv_agg's valid binary_logloss: 0.571193 + 0.00926672\n",
      "Early stopping, best iteration is:\n",
      "[700]\tcv_agg's valid binary_logloss: 0.571193 + 0.00926672\n"
     ]
    },
    {
     "name": "stderr",
     "output_type": "stream",
     "text": [
      "c:\\Users\\masak\\anaconda3\\envs\\test\\lib\\site-packages\\lightgbm\\engine.py:685: UserWarning: Found 'num_iterations' in params. Will use it instead of 'num_boost_round' argument\n",
      "  _log_warning(f\"Found '{alias}' in params. Will use it instead of 'num_boost_round' argument\")\n"
     ]
    },
    {
     "name": "stdout",
     "output_type": "stream",
     "text": [
      "Training until validation scores don't improve for 10 rounds\n",
      "[100]\tcv_agg's valid binary_logloss: 0.612582 + 0.00671358\n",
      "[200]\tcv_agg's valid binary_logloss: 0.589574 + 0.0092993\n",
      "[300]\tcv_agg's valid binary_logloss: 0.580233 + 0.0101854\n",
      "[400]\tcv_agg's valid binary_logloss: 0.575644 + 0.0101432\n",
      "[500]\tcv_agg's valid binary_logloss: 0.573233 + 0.0098205\n"
     ]
    },
    {
     "name": "stderr",
     "output_type": "stream",
     "text": [
      "\n",
      "\u001b[A\n",
      "\u001b[A[I 2023-12-13 17:22:35,730] Trial 29 finished with value: 0.5721914872292307 and parameters: {'bagging_fraction': 0.8395284105207392, 'bagging_freq': 1}. Best is trial 27 with value: 0.5709508575252118.\n",
      "\n",
      "\u001b[A"
     ]
    },
    {
     "name": "stdout",
     "output_type": "stream",
     "text": [
      "Early stopping, best iteration is:\n",
      "[586]\tcv_agg's valid binary_logloss: 0.572191 + 0.00966818\n",
      "Training until validation scores don't improve for 10 rounds\n"
     ]
    },
    {
     "name": "stderr",
     "output_type": "stream",
     "text": [
      "c:\\Users\\masak\\anaconda3\\envs\\test\\lib\\site-packages\\lightgbm\\engine.py:685: UserWarning: Found 'num_iterations' in params. Will use it instead of 'num_boost_round' argument\n",
      "  _log_warning(f\"Found '{alias}' in params. Will use it instead of 'num_boost_round' argument\")\n"
     ]
    },
    {
     "name": "stdout",
     "output_type": "stream",
     "text": [
      "[100]\tcv_agg's valid binary_logloss: 0.612673 + 0.00679551\n",
      "[200]\tcv_agg's valid binary_logloss: 0.589603 + 0.00945523\n",
      "[300]\tcv_agg's valid binary_logloss: 0.580189 + 0.0101459\n",
      "[400]\tcv_agg's valid binary_logloss: 0.575679 + 0.0102884\n",
      "[500]\tcv_agg's valid binary_logloss: 0.573446 + 0.0100307\n",
      "[600]\tcv_agg's valid binary_logloss: 0.572271 + 0.00959254\n"
     ]
    },
    {
     "name": "stderr",
     "output_type": "stream",
     "text": [
      "\n",
      "\u001b[A\n",
      "\u001b[A[I 2023-12-13 17:22:40,264] Trial 30 finished with value: 0.5716317307022715 and parameters: {'bagging_fraction': 0.8429631049684999, 'bagging_freq': 1}. Best is trial 27 with value: 0.5709508575252118.\n",
      "\n",
      "\u001b[A"
     ]
    },
    {
     "name": "stdout",
     "output_type": "stream",
     "text": [
      "Early stopping, best iteration is:\n",
      "[659]\tcv_agg's valid binary_logloss: 0.571632 + 0.00948123\n",
      "Training until validation scores don't improve for 10 rounds\n"
     ]
    },
    {
     "name": "stderr",
     "output_type": "stream",
     "text": [
      "c:\\Users\\masak\\anaconda3\\envs\\test\\lib\\site-packages\\lightgbm\\engine.py:685: UserWarning: Found 'num_iterations' in params. Will use it instead of 'num_boost_round' argument\n",
      "  _log_warning(f\"Found '{alias}' in params. Will use it instead of 'num_boost_round' argument\")\n"
     ]
    },
    {
     "name": "stdout",
     "output_type": "stream",
     "text": [
      "[100]\tcv_agg's valid binary_logloss: 0.612691 + 0.00676523\n",
      "[200]\tcv_agg's valid binary_logloss: 0.589594 + 0.00946328\n",
      "[300]\tcv_agg's valid binary_logloss: 0.580182 + 0.0101807\n",
      "[400]\tcv_agg's valid binary_logloss: 0.575567 + 0.0102669\n",
      "[500]\tcv_agg's valid binary_logloss: 0.573264 + 0.00995793\n",
      "[600]\tcv_agg's valid binary_logloss: 0.572226 + 0.00962857\n"
     ]
    },
    {
     "name": "stderr",
     "output_type": "stream",
     "text": [
      "\n",
      "\u001b[A\n",
      "\u001b[A[I 2023-12-13 17:22:51,906] Trial 31 finished with value: 0.5716846645939494 and parameters: {'bagging_fraction': 0.8427714816188211, 'bagging_freq': 1}. Best is trial 27 with value: 0.5709508575252118.\n",
      "\n",
      "\u001b[A"
     ]
    },
    {
     "name": "stdout",
     "output_type": "stream",
     "text": [
      "Early stopping, best iteration is:\n",
      "[659]\tcv_agg's valid binary_logloss: 0.571685 + 0.00961363\n",
      "Training until validation scores don't improve for 10 rounds\n"
     ]
    },
    {
     "name": "stderr",
     "output_type": "stream",
     "text": [
      "c:\\Users\\masak\\anaconda3\\envs\\test\\lib\\site-packages\\lightgbm\\engine.py:685: UserWarning: Found 'num_iterations' in params. Will use it instead of 'num_boost_round' argument\n",
      "  _log_warning(f\"Found '{alias}' in params. Will use it instead of 'num_boost_round' argument\")\n"
     ]
    },
    {
     "name": "stdout",
     "output_type": "stream",
     "text": [
      "[100]\tcv_agg's valid binary_logloss: 0.612587 + 0.0067438\n",
      "[200]\tcv_agg's valid binary_logloss: 0.589565 + 0.00945814\n",
      "[300]\tcv_agg's valid binary_logloss: 0.580296 + 0.010317\n",
      "[400]\tcv_agg's valid binary_logloss: 0.575747 + 0.0104362\n",
      "[500]\tcv_agg's valid binary_logloss: 0.573195 + 0.0101429\n",
      "[600]\tcv_agg's valid binary_logloss: 0.571838 + 0.00988799\n"
     ]
    },
    {
     "name": "stderr",
     "output_type": "stream",
     "text": [
      "\n",
      "\u001b[A\n",
      "\u001b[A[I 2023-12-13 17:23:04,216] Trial 32 finished with value: 0.5711709719849731 and parameters: {'bagging_fraction': 0.8372455928807241, 'bagging_freq': 1}. Best is trial 27 with value: 0.5709508575252118.\n",
      "\n",
      "\u001b[A"
     ]
    },
    {
     "name": "stdout",
     "output_type": "stream",
     "text": [
      "Early stopping, best iteration is:\n",
      "[660]\tcv_agg's valid binary_logloss: 0.571171 + 0.00994878\n",
      "Training until validation scores don't improve for 10 rounds\n"
     ]
    },
    {
     "name": "stderr",
     "output_type": "stream",
     "text": [
      "c:\\Users\\masak\\anaconda3\\envs\\test\\lib\\site-packages\\lightgbm\\engine.py:685: UserWarning: Found 'num_iterations' in params. Will use it instead of 'num_boost_round' argument\n",
      "  _log_warning(f\"Found '{alias}' in params. Will use it instead of 'num_boost_round' argument\")\n"
     ]
    },
    {
     "name": "stdout",
     "output_type": "stream",
     "text": [
      "[100]\tcv_agg's valid binary_logloss: 0.612498 + 0.00678327\n",
      "[200]\tcv_agg's valid binary_logloss: 0.589443 + 0.0092832\n",
      "[300]\tcv_agg's valid binary_logloss: 0.580323 + 0.0100474\n",
      "[400]\tcv_agg's valid binary_logloss: 0.575699 + 0.0101745\n",
      "[500]\tcv_agg's valid binary_logloss: 0.573142 + 0.00980494\n",
      "[600]\tcv_agg's valid binary_logloss: 0.57173 + 0.00957286\n"
     ]
    },
    {
     "name": "stderr",
     "output_type": "stream",
     "text": [
      "\n",
      "\u001b[A\n",
      "\u001b[A[I 2023-12-13 17:23:16,448] Trial 33 finished with value: 0.5710494923363546 and parameters: {'bagging_fraction': 0.8366973764905348, 'bagging_freq': 1}. Best is trial 27 with value: 0.5709508575252118.\n",
      "\n",
      "\u001b[A"
     ]
    },
    {
     "name": "stdout",
     "output_type": "stream",
     "text": [
      "Early stopping, best iteration is:\n",
      "[659]\tcv_agg's valid binary_logloss: 0.571049 + 0.00967979\n",
      "Training until validation scores don't improve for 10 rounds\n"
     ]
    },
    {
     "name": "stderr",
     "output_type": "stream",
     "text": [
      "c:\\Users\\masak\\anaconda3\\envs\\test\\lib\\site-packages\\lightgbm\\engine.py:685: UserWarning: Found 'num_iterations' in params. Will use it instead of 'num_boost_round' argument\n",
      "  _log_warning(f\"Found '{alias}' in params. Will use it instead of 'num_boost_round' argument\")\n"
     ]
    },
    {
     "name": "stdout",
     "output_type": "stream",
     "text": [
      "[100]\tcv_agg's valid binary_logloss: 0.612701 + 0.00653424\n",
      "[200]\tcv_agg's valid binary_logloss: 0.589432 + 0.00925707\n",
      "[300]\tcv_agg's valid binary_logloss: 0.580429 + 0.00990841\n",
      "[400]\tcv_agg's valid binary_logloss: 0.575889 + 0.0099207\n",
      "[500]\tcv_agg's valid binary_logloss: 0.573516 + 0.00960463\n",
      "[600]\tcv_agg's valid binary_logloss: 0.572154 + 0.0093432\n"
     ]
    },
    {
     "name": "stderr",
     "output_type": "stream",
     "text": [
      "\n",
      "\u001b[A\n",
      "\u001b[A[I 2023-12-13 17:23:28,604] Trial 34 finished with value: 0.5716505078663513 and parameters: {'bagging_fraction': 0.8125538033908131, 'bagging_freq': 1}. Best is trial 27 with value: 0.5709508575252118.\n",
      "\n",
      "\u001b[A"
     ]
    },
    {
     "name": "stdout",
     "output_type": "stream",
     "text": [
      "Early stopping, best iteration is:\n",
      "[658]\tcv_agg's valid binary_logloss: 0.571651 + 0.00938047\n",
      "Training until validation scores don't improve for 10 rounds\n"
     ]
    },
    {
     "name": "stderr",
     "output_type": "stream",
     "text": [
      "c:\\Users\\masak\\anaconda3\\envs\\test\\lib\\site-packages\\lightgbm\\engine.py:685: UserWarning: Found 'num_iterations' in params. Will use it instead of 'num_boost_round' argument\n",
      "  _log_warning(f\"Found '{alias}' in params. Will use it instead of 'num_boost_round' argument\")\n"
     ]
    },
    {
     "name": "stdout",
     "output_type": "stream",
     "text": [
      "[100]\tcv_agg's valid binary_logloss: 0.611979 + 0.00661389\n",
      "[200]\tcv_agg's valid binary_logloss: 0.588735 + 0.00936269\n",
      "[300]\tcv_agg's valid binary_logloss: 0.579644 + 0.0100872\n",
      "[400]\tcv_agg's valid binary_logloss: 0.575136 + 0.0097759\n",
      "[500]\tcv_agg's valid binary_logloss: 0.572619 + 0.00972686\n"
     ]
    },
    {
     "name": "stderr",
     "output_type": "stream",
     "text": [
      "\n",
      "\u001b[A\n",
      "\u001b[A[I 2023-12-13 17:23:38,980] Trial 35 finished with value: 0.5721658132888485 and parameters: {'bagging_fraction': 0.6941677817418784, 'bagging_freq': 1}. Best is trial 27 with value: 0.5709508575252118.\n",
      "\n",
      "\u001b[A"
     ]
    },
    {
     "name": "stdout",
     "output_type": "stream",
     "text": [
      "Early stopping, best iteration is:\n",
      "[552]\tcv_agg's valid binary_logloss: 0.572166 + 0.00967875\n",
      "Training until validation scores don't improve for 10 rounds\n"
     ]
    },
    {
     "name": "stderr",
     "output_type": "stream",
     "text": [
      "c:\\Users\\masak\\anaconda3\\envs\\test\\lib\\site-packages\\lightgbm\\engine.py:685: UserWarning: Found 'num_iterations' in params. Will use it instead of 'num_boost_round' argument\n",
      "  _log_warning(f\"Found '{alias}' in params. Will use it instead of 'num_boost_round' argument\")\n"
     ]
    },
    {
     "name": "stdout",
     "output_type": "stream",
     "text": [
      "[100]\tcv_agg's valid binary_logloss: 0.612708 + 0.00679054\n",
      "[200]\tcv_agg's valid binary_logloss: 0.589869 + 0.00941769\n",
      "[300]\tcv_agg's valid binary_logloss: 0.580646 + 0.0102713\n",
      "[400]\tcv_agg's valid binary_logloss: 0.576142 + 0.0100958\n",
      "[500]\tcv_agg's valid binary_logloss: 0.574183 + 0.00975394\n"
     ]
    },
    {
     "name": "stderr",
     "output_type": "stream",
     "text": [
      "\n",
      "\u001b[A\n",
      "\u001b[A[I 2023-12-13 17:23:48,996] Trial 36 finished with value: 0.573436610595749 and parameters: {'bagging_fraction': 0.9564738255287701, 'bagging_freq': 4}. Best is trial 27 with value: 0.5709508575252118.\n",
      "bagging, val_score: 0.570951: 100%|##########| 10/10 [01:24<00:00,  8.49s/it]\n"
     ]
    },
    {
     "name": "stdout",
     "output_type": "stream",
     "text": [
      "Early stopping, best iteration is:\n",
      "[540]\tcv_agg's valid binary_logloss: 0.573437 + 0.0096535\n"
     ]
    },
    {
     "name": "stderr",
     "output_type": "stream",
     "text": [
      "\n",
      "\u001b[A\n",
      "\u001b[A"
     ]
    },
    {
     "name": "stdout",
     "output_type": "stream",
     "text": [
      "Training until validation scores don't improve for 10 rounds\n"
     ]
    },
    {
     "name": "stderr",
     "output_type": "stream",
     "text": [
      "c:\\Users\\masak\\anaconda3\\envs\\test\\lib\\site-packages\\lightgbm\\engine.py:685: UserWarning: Found 'num_iterations' in params. Will use it instead of 'num_boost_round' argument\n",
      "  _log_warning(f\"Found '{alias}' in params. Will use it instead of 'num_boost_round' argument\")\n"
     ]
    },
    {
     "name": "stdout",
     "output_type": "stream",
     "text": [
      "[100]\tcv_agg's valid binary_logloss: 0.611827 + 0.00689795\n",
      "[200]\tcv_agg's valid binary_logloss: 0.588819 + 0.00954577\n",
      "[300]\tcv_agg's valid binary_logloss: 0.579773 + 0.0101976\n",
      "[400]\tcv_agg's valid binary_logloss: 0.57525 + 0.0101454\n",
      "[500]\tcv_agg's valid binary_logloss: 0.572864 + 0.00972542\n",
      "[600]\tcv_agg's valid binary_logloss: 0.57163 + 0.00941914\n"
     ]
    },
    {
     "name": "stderr",
     "output_type": "stream",
     "text": [
      "\n",
      "\u001b[A\n",
      "\u001b[A[I 2023-12-13 17:24:01,130] Trial 37 finished with value: 0.5709830708147626 and parameters: {'feature_fraction': 0.48000000000000004}. Best is trial 37 with value: 0.5709830708147626.\n",
      "\n",
      "\u001b[A"
     ]
    },
    {
     "name": "stdout",
     "output_type": "stream",
     "text": [
      "Early stopping, best iteration is:\n",
      "[658]\tcv_agg's valid binary_logloss: 0.570983 + 0.00949274\n",
      "Training until validation scores don't improve for 10 rounds\n"
     ]
    },
    {
     "name": "stderr",
     "output_type": "stream",
     "text": [
      "c:\\Users\\masak\\anaconda3\\envs\\test\\lib\\site-packages\\lightgbm\\engine.py:685: UserWarning: Found 'num_iterations' in params. Will use it instead of 'num_boost_round' argument\n",
      "  _log_warning(f\"Found '{alias}' in params. Will use it instead of 'num_boost_round' argument\")\n"
     ]
    },
    {
     "name": "stdout",
     "output_type": "stream",
     "text": [
      "[100]\tcv_agg's valid binary_logloss: 0.612599 + 0.00652203\n",
      "[200]\tcv_agg's valid binary_logloss: 0.589149 + 0.00916049\n",
      "[300]\tcv_agg's valid binary_logloss: 0.579914 + 0.00990286\n",
      "[400]\tcv_agg's valid binary_logloss: 0.575343 + 0.00991343\n",
      "[500]\tcv_agg's valid binary_logloss: 0.572933 + 0.00949398\n",
      "[600]\tcv_agg's valid binary_logloss: 0.571521 + 0.00926361\n"
     ]
    },
    {
     "name": "stderr",
     "output_type": "stream",
     "text": [
      "\n",
      "\u001b[A\n",
      "\u001b[A[I 2023-12-13 17:24:13,096] Trial 38 finished with value: 0.5709508575252118 and parameters: {'feature_fraction': 0.41600000000000004}. Best is trial 38 with value: 0.5709508575252118.\n",
      "\n",
      "\u001b[A"
     ]
    },
    {
     "name": "stdout",
     "output_type": "stream",
     "text": [
      "Early stopping, best iteration is:\n",
      "[658]\tcv_agg's valid binary_logloss: 0.570951 + 0.00920953\n",
      "Training until validation scores don't improve for 10 rounds\n"
     ]
    },
    {
     "name": "stderr",
     "output_type": "stream",
     "text": [
      "c:\\Users\\masak\\anaconda3\\envs\\test\\lib\\site-packages\\lightgbm\\engine.py:685: UserWarning: Found 'num_iterations' in params. Will use it instead of 'num_boost_round' argument\n",
      "  _log_warning(f\"Found '{alias}' in params. Will use it instead of 'num_boost_round' argument\")\n"
     ]
    },
    {
     "name": "stdout",
     "output_type": "stream",
     "text": [
      "[100]\tcv_agg's valid binary_logloss: 0.612223 + 0.00699733\n",
      "[200]\tcv_agg's valid binary_logloss: 0.589189 + 0.00951964\n",
      "[300]\tcv_agg's valid binary_logloss: 0.580131 + 0.010171\n",
      "[400]\tcv_agg's valid binary_logloss: 0.575656 + 0.0100383\n",
      "[500]\tcv_agg's valid binary_logloss: 0.573323 + 0.00961709\n",
      "[600]\tcv_agg's valid binary_logloss: 0.571906 + 0.00936051\n"
     ]
    },
    {
     "name": "stderr",
     "output_type": "stream",
     "text": [
      "\n",
      "\u001b[A\n",
      "\u001b[A[I 2023-12-13 17:24:25,117] Trial 39 finished with value: 0.5713425259016216 and parameters: {'feature_fraction': 0.44800000000000006}. Best is trial 38 with value: 0.5709508575252118.\n",
      "feature_fraction_stage2, val_score: 0.570951: 100%|##########| 3/3 [00:36<00:00, 12.04s/it]\n"
     ]
    },
    {
     "name": "stdout",
     "output_type": "stream",
     "text": [
      "Early stopping, best iteration is:\n",
      "[658]\tcv_agg's valid binary_logloss: 0.571343 + 0.00948446\n"
     ]
    },
    {
     "name": "stderr",
     "output_type": "stream",
     "text": [
      "\n",
      "\u001b[A\n",
      "\u001b[A"
     ]
    },
    {
     "name": "stdout",
     "output_type": "stream",
     "text": [
      "Training until validation scores don't improve for 10 rounds\n"
     ]
    },
    {
     "name": "stderr",
     "output_type": "stream",
     "text": [
      "c:\\Users\\masak\\anaconda3\\envs\\test\\lib\\site-packages\\lightgbm\\engine.py:685: UserWarning: Found 'num_iterations' in params. Will use it instead of 'num_boost_round' argument\n",
      "  _log_warning(f\"Found '{alias}' in params. Will use it instead of 'num_boost_round' argument\")\n"
     ]
    },
    {
     "name": "stdout",
     "output_type": "stream",
     "text": [
      "[100]\tcv_agg's valid binary_logloss: 0.612747 + 0.00651028\n",
      "[200]\tcv_agg's valid binary_logloss: 0.58928 + 0.0092243\n",
      "[300]\tcv_agg's valid binary_logloss: 0.580162 + 0.00995471\n",
      "[400]\tcv_agg's valid binary_logloss: 0.575395 + 0.00994844\n",
      "[500]\tcv_agg's valid binary_logloss: 0.572927 + 0.00960363\n",
      "[600]\tcv_agg's valid binary_logloss: 0.571511 + 0.00942165\n"
     ]
    },
    {
     "name": "stderr",
     "output_type": "stream",
     "text": [
      "\n",
      "\u001b[A\n",
      "\u001b[A[I 2023-12-13 17:24:36,913] Trial 40 finished with value: 0.5709134688392241 and parameters: {'lambda_l1': 0.5914666945938888, 'lambda_l2': 0.22085440488085392}. Best is trial 40 with value: 0.5709134688392241.\n",
      "\n",
      "\u001b[A"
     ]
    },
    {
     "name": "stdout",
     "output_type": "stream",
     "text": [
      "Early stopping, best iteration is:\n",
      "[658]\tcv_agg's valid binary_logloss: 0.570913 + 0.00947876\n",
      "Training until validation scores don't improve for 10 rounds\n"
     ]
    },
    {
     "name": "stderr",
     "output_type": "stream",
     "text": [
      "c:\\Users\\masak\\anaconda3\\envs\\test\\lib\\site-packages\\lightgbm\\engine.py:685: UserWarning: Found 'num_iterations' in params. Will use it instead of 'num_boost_round' argument\n",
      "  _log_warning(f\"Found '{alias}' in params. Will use it instead of 'num_boost_round' argument\")\n"
     ]
    },
    {
     "name": "stdout",
     "output_type": "stream",
     "text": [
      "[100]\tcv_agg's valid binary_logloss: 0.613101 + 0.0064835\n",
      "[200]\tcv_agg's valid binary_logloss: 0.589556 + 0.00915549\n",
      "[300]\tcv_agg's valid binary_logloss: 0.580064 + 0.00998786\n",
      "[400]\tcv_agg's valid binary_logloss: 0.575074 + 0.00995722\n",
      "[500]\tcv_agg's valid binary_logloss: 0.572648 + 0.00970224\n",
      "[600]\tcv_agg's valid binary_logloss: 0.571052 + 0.00954915\n"
     ]
    },
    {
     "name": "stderr",
     "output_type": "stream",
     "text": [
      "\n",
      "\u001b[A\n",
      "\u001b[A[I 2023-12-13 17:24:49,276] Trial 41 finished with value: 0.5701785582035553 and parameters: {'lambda_l1': 1.8303197595165557, 'lambda_l2': 0.47026756571091444}. Best is trial 41 with value: 0.5701785582035553.\n",
      "\n",
      "\u001b[A"
     ]
    },
    {
     "name": "stdout",
     "output_type": "stream",
     "text": [
      "[700]\tcv_agg's valid binary_logloss: 0.570187 + 0.00947532\n",
      "Early stopping, best iteration is:\n",
      "[697]\tcv_agg's valid binary_logloss: 0.570179 + 0.00949938\n"
     ]
    },
    {
     "name": "stderr",
     "output_type": "stream",
     "text": [
      "c:\\Users\\masak\\anaconda3\\envs\\test\\lib\\site-packages\\lightgbm\\engine.py:685: UserWarning: Found 'num_iterations' in params. Will use it instead of 'num_boost_round' argument\n",
      "  _log_warning(f\"Found '{alias}' in params. Will use it instead of 'num_boost_round' argument\")\n"
     ]
    },
    {
     "name": "stdout",
     "output_type": "stream",
     "text": [
      "Training until validation scores don't improve for 10 rounds\n",
      "[100]\tcv_agg's valid binary_logloss: 0.613238 + 0.00655434\n",
      "[200]\tcv_agg's valid binary_logloss: 0.589681 + 0.00919853\n",
      "[300]\tcv_agg's valid binary_logloss: 0.580153 + 0.00999407\n",
      "[400]\tcv_agg's valid binary_logloss: 0.575086 + 0.0100631\n",
      "[500]\tcv_agg's valid binary_logloss: 0.572594 + 0.0097404\n",
      "[600]\tcv_agg's valid binary_logloss: 0.570963 + 0.00953438\n"
     ]
    },
    {
     "name": "stderr",
     "output_type": "stream",
     "text": [
      "\n",
      "\u001b[A\n",
      "\u001b[A[I 2023-12-13 17:25:01,703] Trial 42 finished with value: 0.5701651769779084 and parameters: {'lambda_l1': 2.478666319420103, 'lambda_l2': 0.8767903040820254}. Best is trial 42 with value: 0.5701651769779084.\n",
      "\n",
      "\u001b[A"
     ]
    },
    {
     "name": "stdout",
     "output_type": "stream",
     "text": [
      "[700]\tcv_agg's valid binary_logloss: 0.570181 + 0.00941184\n",
      "Early stopping, best iteration is:\n",
      "[699]\tcv_agg's valid binary_logloss: 0.570165 + 0.00942747\n"
     ]
    },
    {
     "name": "stderr",
     "output_type": "stream",
     "text": [
      "c:\\Users\\masak\\anaconda3\\envs\\test\\lib\\site-packages\\lightgbm\\engine.py:685: UserWarning: Found 'num_iterations' in params. Will use it instead of 'num_boost_round' argument\n",
      "  _log_warning(f\"Found '{alias}' in params. Will use it instead of 'num_boost_round' argument\")\n"
     ]
    },
    {
     "name": "stdout",
     "output_type": "stream",
     "text": [
      "Training until validation scores don't improve for 10 rounds\n",
      "[100]\tcv_agg's valid binary_logloss: 0.613324 + 0.00647682\n",
      "[200]\tcv_agg's valid binary_logloss: 0.58971 + 0.00912538\n",
      "[300]\tcv_agg's valid binary_logloss: 0.580142 + 0.00993905\n",
      "[400]\tcv_agg's valid binary_logloss: 0.575078 + 0.0100874\n",
      "[500]\tcv_agg's valid binary_logloss: 0.57257 + 0.00975986\n",
      "[600]\tcv_agg's valid binary_logloss: 0.570922 + 0.00946791\n"
     ]
    },
    {
     "name": "stderr",
     "output_type": "stream",
     "text": [
      "\n",
      "\u001b[A\n",
      "\u001b[A[I 2023-12-13 17:25:14,448] Trial 43 finished with value: 0.5701119960438352 and parameters: {'lambda_l1': 2.9398579841441603, 'lambda_l2': 0.8694528154718193}. Best is trial 43 with value: 0.5701119960438352.\n",
      "\n",
      "\u001b[A"
     ]
    },
    {
     "name": "stdout",
     "output_type": "stream",
     "text": [
      "[700]\tcv_agg's valid binary_logloss: 0.570125 + 0.00939569\n",
      "Early stopping, best iteration is:\n",
      "[699]\tcv_agg's valid binary_logloss: 0.570112 + 0.00940988\n"
     ]
    },
    {
     "name": "stderr",
     "output_type": "stream",
     "text": [
      "c:\\Users\\masak\\anaconda3\\envs\\test\\lib\\site-packages\\lightgbm\\engine.py:685: UserWarning: Found 'num_iterations' in params. Will use it instead of 'num_boost_round' argument\n",
      "  _log_warning(f\"Found '{alias}' in params. Will use it instead of 'num_boost_round' argument\")\n"
     ]
    },
    {
     "name": "stdout",
     "output_type": "stream",
     "text": [
      "Training until validation scores don't improve for 10 rounds\n",
      "[100]\tcv_agg's valid binary_logloss: 0.613242 + 0.00655924\n",
      "[200]\tcv_agg's valid binary_logloss: 0.589648 + 0.00918367\n",
      "[300]\tcv_agg's valid binary_logloss: 0.580149 + 0.00996853\n",
      "[400]\tcv_agg's valid binary_logloss: 0.575092 + 0.0100346\n",
      "[500]\tcv_agg's valid binary_logloss: 0.572587 + 0.009717\n",
      "[600]\tcv_agg's valid binary_logloss: 0.570982 + 0.00949991\n"
     ]
    },
    {
     "name": "stderr",
     "output_type": "stream",
     "text": [
      "\n",
      "\u001b[A\n",
      "\u001b[A[I 2023-12-13 17:25:26,830] Trial 44 finished with value: 0.570207637779804 and parameters: {'lambda_l1': 2.4392631422522877, 'lambda_l2': 0.9076376449055339}. Best is trial 43 with value: 0.5701119960438352.\n",
      "\n",
      "\u001b[A"
     ]
    },
    {
     "name": "stdout",
     "output_type": "stream",
     "text": [
      "[700]\tcv_agg's valid binary_logloss: 0.570221 + 0.00947897\n",
      "Early stopping, best iteration is:\n",
      "[699]\tcv_agg's valid binary_logloss: 0.570208 + 0.00949432\n"
     ]
    },
    {
     "name": "stderr",
     "output_type": "stream",
     "text": [
      "c:\\Users\\masak\\anaconda3\\envs\\test\\lib\\site-packages\\lightgbm\\engine.py:685: UserWarning: Found 'num_iterations' in params. Will use it instead of 'num_boost_round' argument\n",
      "  _log_warning(f\"Found '{alias}' in params. Will use it instead of 'num_boost_round' argument\")\n"
     ]
    },
    {
     "name": "stdout",
     "output_type": "stream",
     "text": [
      "Training until validation scores don't improve for 10 rounds\n",
      "[100]\tcv_agg's valid binary_logloss: 0.61328 + 0.00650719\n",
      "[200]\tcv_agg's valid binary_logloss: 0.589697 + 0.00919084\n",
      "[300]\tcv_agg's valid binary_logloss: 0.580127 + 0.0100146\n",
      "[400]\tcv_agg's valid binary_logloss: 0.575016 + 0.0101605\n",
      "[500]\tcv_agg's valid binary_logloss: 0.572454 + 0.00988874\n",
      "[600]\tcv_agg's valid binary_logloss: 0.570801 + 0.00966495\n"
     ]
    },
    {
     "name": "stderr",
     "output_type": "stream",
     "text": [
      "\n",
      "\u001b[A\n",
      "\u001b[A[I 2023-12-13 17:25:38,513] Trial 45 finished with value: 0.5702355621489905 and parameters: {'lambda_l1': 2.49971243611773, 'lambda_l2': 0.9519440548132729}. Best is trial 43 with value: 0.5701119960438352.\n",
      "\n",
      "\u001b[A"
     ]
    },
    {
     "name": "stdout",
     "output_type": "stream",
     "text": [
      "Early stopping, best iteration is:\n",
      "[657]\tcv_agg's valid binary_logloss: 0.570236 + 0.00971731\n",
      "Training until validation scores don't improve for 10 rounds\n"
     ]
    },
    {
     "name": "stderr",
     "output_type": "stream",
     "text": [
      "c:\\Users\\masak\\anaconda3\\envs\\test\\lib\\site-packages\\lightgbm\\engine.py:685: UserWarning: Found 'num_iterations' in params. Will use it instead of 'num_boost_round' argument\n",
      "  _log_warning(f\"Found '{alias}' in params. Will use it instead of 'num_boost_round' argument\")\n"
     ]
    },
    {
     "name": "stdout",
     "output_type": "stream",
     "text": [
      "[100]\tcv_agg's valid binary_logloss: 0.613538 + 0.00643155\n",
      "[200]\tcv_agg's valid binary_logloss: 0.589924 + 0.00917832\n",
      "[300]\tcv_agg's valid binary_logloss: 0.580325 + 0.00995205\n",
      "[400]\tcv_agg's valid binary_logloss: 0.575256 + 0.0100614\n",
      "[500]\tcv_agg's valid binary_logloss: 0.57276 + 0.0096987\n",
      "[600]\tcv_agg's valid binary_logloss: 0.571087 + 0.009514\n"
     ]
    },
    {
     "name": "stderr",
     "output_type": "stream",
     "text": [
      "\n",
      "\u001b[A\n",
      "\u001b[A[I 2023-12-13 17:25:50,797] Trial 46 finished with value: 0.5702754142087383 and parameters: {'lambda_l1': 3.5242188981254077, 'lambda_l2': 1.0504776305682975}. Best is trial 43 with value: 0.5701119960438352.\n",
      "\n",
      "\u001b[A"
     ]
    },
    {
     "name": "stdout",
     "output_type": "stream",
     "text": [
      "[700]\tcv_agg's valid binary_logloss: 0.570291 + 0.00952431\n",
      "Early stopping, best iteration is:\n",
      "[697]\tcv_agg's valid binary_logloss: 0.570275 + 0.0095501\n"
     ]
    },
    {
     "name": "stderr",
     "output_type": "stream",
     "text": [
      "c:\\Users\\masak\\anaconda3\\envs\\test\\lib\\site-packages\\lightgbm\\engine.py:685: UserWarning: Found 'num_iterations' in params. Will use it instead of 'num_boost_round' argument\n",
      "  _log_warning(f\"Found '{alias}' in params. Will use it instead of 'num_boost_round' argument\")\n"
     ]
    },
    {
     "name": "stdout",
     "output_type": "stream",
     "text": [
      "Training until validation scores don't improve for 10 rounds\n",
      "[100]\tcv_agg's valid binary_logloss: 0.61338 + 0.00647582\n",
      "[200]\tcv_agg's valid binary_logloss: 0.589769 + 0.00917818\n",
      "[300]\tcv_agg's valid binary_logloss: 0.580174 + 0.00993017\n",
      "[400]\tcv_agg's valid binary_logloss: 0.575125 + 0.0100008\n",
      "[500]\tcv_agg's valid binary_logloss: 0.572641 + 0.00974261\n",
      "[600]\tcv_agg's valid binary_logloss: 0.571044 + 0.00955579\n"
     ]
    },
    {
     "name": "stderr",
     "output_type": "stream",
     "text": [
      "\n",
      "\u001b[A\n",
      "\u001b[A[I 2023-12-13 17:26:02,497] Trial 47 finished with value: 0.5703896887034545 and parameters: {'lambda_l1': 3.198381736266616, 'lambda_l2': 0.7472670565089766}. Best is trial 43 with value: 0.5701119960438352.\n",
      "\n",
      "\u001b[A"
     ]
    },
    {
     "name": "stdout",
     "output_type": "stream",
     "text": [
      "Early stopping, best iteration is:\n",
      "[660]\tcv_agg's valid binary_logloss: 0.57039 + 0.00957279\n",
      "Training until validation scores don't improve for 10 rounds\n"
     ]
    },
    {
     "name": "stderr",
     "output_type": "stream",
     "text": [
      "c:\\Users\\masak\\anaconda3\\envs\\test\\lib\\site-packages\\lightgbm\\engine.py:685: UserWarning: Found 'num_iterations' in params. Will use it instead of 'num_boost_round' argument\n",
      "  _log_warning(f\"Found '{alias}' in params. Will use it instead of 'num_boost_round' argument\")\n"
     ]
    },
    {
     "name": "stdout",
     "output_type": "stream",
     "text": [
      "[100]\tcv_agg's valid binary_logloss: 0.613303 + 0.00650321\n",
      "[200]\tcv_agg's valid binary_logloss: 0.589742 + 0.00918595\n",
      "[300]\tcv_agg's valid binary_logloss: 0.580235 + 0.00990647\n",
      "[400]\tcv_agg's valid binary_logloss: 0.575157 + 0.00993539\n",
      "[500]\tcv_agg's valid binary_logloss: 0.572589 + 0.00963234\n",
      "[600]\tcv_agg's valid binary_logloss: 0.571025 + 0.00931191\n"
     ]
    },
    {
     "name": "stderr",
     "output_type": "stream",
     "text": [
      "\n",
      "\u001b[A\n",
      "\u001b[A[I 2023-12-13 17:26:14,213] Trial 48 finished with value: 0.5704796848398829 and parameters: {'lambda_l1': 2.462112277812662, 'lambda_l2': 1.1728995173243923}. Best is trial 43 with value: 0.5701119960438352.\n",
      "\n",
      "\u001b[A"
     ]
    },
    {
     "name": "stdout",
     "output_type": "stream",
     "text": [
      "Early stopping, best iteration is:\n",
      "[660]\tcv_agg's valid binary_logloss: 0.57048 + 0.00928712\n",
      "Training until validation scores don't improve for 10 rounds\n"
     ]
    },
    {
     "name": "stderr",
     "output_type": "stream",
     "text": [
      "c:\\Users\\masak\\anaconda3\\envs\\test\\lib\\site-packages\\lightgbm\\engine.py:685: UserWarning: Found 'num_iterations' in params. Will use it instead of 'num_boost_round' argument\n",
      "  _log_warning(f\"Found '{alias}' in params. Will use it instead of 'num_boost_round' argument\")\n"
     ]
    },
    {
     "name": "stdout",
     "output_type": "stream",
     "text": [
      "[100]\tcv_agg's valid binary_logloss: 0.613263 + 0.00653516\n",
      "[200]\tcv_agg's valid binary_logloss: 0.58972 + 0.00918259\n",
      "[300]\tcv_agg's valid binary_logloss: 0.580161 + 0.009889\n",
      "[400]\tcv_agg's valid binary_logloss: 0.575028 + 0.00994227\n",
      "[500]\tcv_agg's valid binary_logloss: 0.572538 + 0.00959366\n",
      "[600]\tcv_agg's valid binary_logloss: 0.571051 + 0.00931546\n"
     ]
    },
    {
     "name": "stderr",
     "output_type": "stream",
     "text": [
      "\n",
      "\u001b[A\n",
      "\u001b[A[I 2023-12-13 17:26:26,569] Trial 49 finished with value: 0.5702143000361609 and parameters: {'lambda_l1': 2.2765158516328157, 'lambda_l2': 1.0797230887616296}. Best is trial 43 with value: 0.5701119960438352.\n",
      "\n",
      "\u001b[A"
     ]
    },
    {
     "name": "stdout",
     "output_type": "stream",
     "text": [
      "[700]\tcv_agg's valid binary_logloss: 0.570226 + 0.00925801\n",
      "Early stopping, best iteration is:\n",
      "[699]\tcv_agg's valid binary_logloss: 0.570214 + 0.00926798\n"
     ]
    },
    {
     "name": "stderr",
     "output_type": "stream",
     "text": [
      "c:\\Users\\masak\\anaconda3\\envs\\test\\lib\\site-packages\\lightgbm\\engine.py:685: UserWarning: Found 'num_iterations' in params. Will use it instead of 'num_boost_round' argument\n",
      "  _log_warning(f\"Found '{alias}' in params. Will use it instead of 'num_boost_round' argument\")\n"
     ]
    },
    {
     "name": "stdout",
     "output_type": "stream",
     "text": [
      "Training until validation scores don't improve for 10 rounds\n",
      "[100]\tcv_agg's valid binary_logloss: 0.612599 + 0.00652203\n",
      "[200]\tcv_agg's valid binary_logloss: 0.589149 + 0.00916049\n",
      "[300]\tcv_agg's valid binary_logloss: 0.579913 + 0.00990293\n",
      "[400]\tcv_agg's valid binary_logloss: 0.575342 + 0.0099131\n",
      "[500]\tcv_agg's valid binary_logloss: 0.572932 + 0.00949376\n",
      "[600]\tcv_agg's valid binary_logloss: 0.571514 + 0.00926575\n"
     ]
    },
    {
     "name": "stderr",
     "output_type": "stream",
     "text": [
      "\n",
      "\u001b[A\n",
      "\u001b[A[I 2023-12-13 17:26:34,397] Trial 50 finished with value: 0.5709780887171643 and parameters: {'lambda_l1': 9.493826318173358e-06, 'lambda_l2': 1.2698885922034993e-06}. Best is trial 43 with value: 0.5701119960438352.\n",
      "\n",
      "\u001b[A"
     ]
    },
    {
     "name": "stdout",
     "output_type": "stream",
     "text": [
      "Early stopping, best iteration is:\n",
      "[658]\tcv_agg's valid binary_logloss: 0.570978 + 0.00919814\n",
      "Training until validation scores don't improve for 10 rounds\n"
     ]
    },
    {
     "name": "stderr",
     "output_type": "stream",
     "text": [
      "c:\\Users\\masak\\anaconda3\\envs\\test\\lib\\site-packages\\lightgbm\\engine.py:685: UserWarning: Found 'num_iterations' in params. Will use it instead of 'num_boost_round' argument\n",
      "  _log_warning(f\"Found '{alias}' in params. Will use it instead of 'num_boost_round' argument\")\n"
     ]
    },
    {
     "name": "stdout",
     "output_type": "stream",
     "text": [
      "[100]\tcv_agg's valid binary_logloss: 0.613292 + 0.00654612\n",
      "[200]\tcv_agg's valid binary_logloss: 0.589746 + 0.00923855\n",
      "[300]\tcv_agg's valid binary_logloss: 0.58016 + 0.0100034\n",
      "[400]\tcv_agg's valid binary_logloss: 0.57519 + 0.0100593\n",
      "[500]\tcv_agg's valid binary_logloss: 0.572714 + 0.00974162\n",
      "[600]\tcv_agg's valid binary_logloss: 0.571154 + 0.00951042\n"
     ]
    },
    {
     "name": "stderr",
     "output_type": "stream",
     "text": [
      "\n",
      "\u001b[A\n",
      "\u001b[A[I 2023-12-13 17:26:38,180] Trial 51 finished with value: 0.5703053093211036 and parameters: {'lambda_l1': 1.9729888166457064, 'lambda_l2': 1.54926440118163}. Best is trial 43 with value: 0.5701119960438352.\n",
      "\n",
      "\u001b[A"
     ]
    },
    {
     "name": "stdout",
     "output_type": "stream",
     "text": [
      "[700]\tcv_agg's valid binary_logloss: 0.570332 + 0.00939338\n",
      "Early stopping, best iteration is:\n",
      "[697]\tcv_agg's valid binary_logloss: 0.570305 + 0.00941203\n",
      "Training until validation scores don't improve for 10 rounds\n"
     ]
    },
    {
     "name": "stderr",
     "output_type": "stream",
     "text": [
      "c:\\Users\\masak\\anaconda3\\envs\\test\\lib\\site-packages\\lightgbm\\engine.py:685: UserWarning: Found 'num_iterations' in params. Will use it instead of 'num_boost_round' argument\n",
      "  _log_warning(f\"Found '{alias}' in params. Will use it instead of 'num_boost_round' argument\")\n"
     ]
    },
    {
     "name": "stdout",
     "output_type": "stream",
     "text": [
      "[100]\tcv_agg's valid binary_logloss: 0.612874 + 0.00652253\n",
      "[200]\tcv_agg's valid binary_logloss: 0.589498 + 0.00917667\n",
      "[300]\tcv_agg's valid binary_logloss: 0.58001 + 0.01005\n",
      "[400]\tcv_agg's valid binary_logloss: 0.575171 + 0.0100873\n",
      "[500]\tcv_agg's valid binary_logloss: 0.572781 + 0.00983489\n",
      "[600]\tcv_agg's valid binary_logloss: 0.571275 + 0.00953877\n"
     ]
    },
    {
     "name": "stderr",
     "output_type": "stream",
     "text": [
      "\n",
      "\u001b[A\n",
      "\u001b[A[I 2023-12-13 17:26:41,629] Trial 52 finished with value: 0.5703716093919223 and parameters: {'lambda_l1': 1.4213469275499993, 'lambda_l2': 0.47583701619398217}. Best is trial 43 with value: 0.5701119960438352.\n",
      "\n",
      "\u001b[A"
     ]
    },
    {
     "name": "stdout",
     "output_type": "stream",
     "text": [
      "[700]\tcv_agg's valid binary_logloss: 0.570392 + 0.00947526\n",
      "Early stopping, best iteration is:\n",
      "[697]\tcv_agg's valid binary_logloss: 0.570372 + 0.00948144\n",
      "Training until validation scores don't improve for 10 rounds\n"
     ]
    },
    {
     "name": "stderr",
     "output_type": "stream",
     "text": [
      "c:\\Users\\masak\\anaconda3\\envs\\test\\lib\\site-packages\\lightgbm\\engine.py:685: UserWarning: Found 'num_iterations' in params. Will use it instead of 'num_boost_round' argument\n",
      "  _log_warning(f\"Found '{alias}' in params. Will use it instead of 'num_boost_round' argument\")\n"
     ]
    },
    {
     "name": "stdout",
     "output_type": "stream",
     "text": [
      "[100]\tcv_agg's valid binary_logloss: 0.61399 + 0.006394\n",
      "[200]\tcv_agg's valid binary_logloss: 0.59032 + 0.00906987\n",
      "[300]\tcv_agg's valid binary_logloss: 0.580553 + 0.00986329\n",
      "[400]\tcv_agg's valid binary_logloss: 0.575326 + 0.00991128\n",
      "[500]\tcv_agg's valid binary_logloss: 0.572766 + 0.00957031\n",
      "[600]\tcv_agg's valid binary_logloss: 0.571067 + 0.00935641\n"
     ]
    },
    {
     "name": "stderr",
     "output_type": "stream",
     "text": [
      "\n",
      "\u001b[A\n",
      "\u001b[A[I 2023-12-13 17:26:45,014] Trial 53 finished with value: 0.5701293526243908 and parameters: {'lambda_l1': 0.05520233628743794, 'lambda_l2': 9.366314947895853}. Best is trial 43 with value: 0.5701119960438352.\n",
      "\n",
      "\u001b[A"
     ]
    },
    {
     "name": "stdout",
     "output_type": "stream",
     "text": [
      "[700]\tcv_agg's valid binary_logloss: 0.570135 + 0.00933578\n",
      "Early stopping, best iteration is:\n",
      "[699]\tcv_agg's valid binary_logloss: 0.570129 + 0.00933596\n",
      "Training until validation scores don't improve for 10 rounds\n"
     ]
    },
    {
     "name": "stderr",
     "output_type": "stream",
     "text": [
      "c:\\Users\\masak\\anaconda3\\envs\\test\\lib\\site-packages\\lightgbm\\engine.py:685: UserWarning: Found 'num_iterations' in params. Will use it instead of 'num_boost_round' argument\n",
      "  _log_warning(f\"Found '{alias}' in params. Will use it instead of 'num_boost_round' argument\")\n"
     ]
    },
    {
     "name": "stdout",
     "output_type": "stream",
     "text": [
      "[100]\tcv_agg's valid binary_logloss: 0.613785 + 0.00643259\n",
      "[200]\tcv_agg's valid binary_logloss: 0.590023 + 0.00916726\n",
      "[300]\tcv_agg's valid binary_logloss: 0.580276 + 0.00987897\n",
      "[400]\tcv_agg's valid binary_logloss: 0.575175 + 0.00988038\n",
      "[500]\tcv_agg's valid binary_logloss: 0.572673 + 0.00953455\n",
      "[600]\tcv_agg's valid binary_logloss: 0.571025 + 0.00944136\n"
     ]
    },
    {
     "name": "stderr",
     "output_type": "stream",
     "text": [
      "\n",
      "\u001b[A\n",
      "\u001b[A[I 2023-12-13 17:26:48,430] Trial 54 finished with value: 0.5701375369459042 and parameters: {'lambda_l1': 0.046848438219336264, 'lambda_l2': 8.014601964196698}. Best is trial 43 with value: 0.5701119960438352.\n",
      "\n",
      "\u001b[A"
     ]
    },
    {
     "name": "stdout",
     "output_type": "stream",
     "text": [
      "[700]\tcv_agg's valid binary_logloss: 0.570139 + 0.00947413\n",
      "Early stopping, best iteration is:\n",
      "[699]\tcv_agg's valid binary_logloss: 0.570138 + 0.00947591\n",
      "Training until validation scores don't improve for 10 rounds\n"
     ]
    },
    {
     "name": "stderr",
     "output_type": "stream",
     "text": [
      "c:\\Users\\masak\\anaconda3\\envs\\test\\lib\\site-packages\\lightgbm\\engine.py:685: UserWarning: Found 'num_iterations' in params. Will use it instead of 'num_boost_round' argument\n",
      "  _log_warning(f\"Found '{alias}' in params. Will use it instead of 'num_boost_round' argument\")\n"
     ]
    },
    {
     "name": "stdout",
     "output_type": "stream",
     "text": [
      "[100]\tcv_agg's valid binary_logloss: 0.613932 + 0.00640269\n",
      "[200]\tcv_agg's valid binary_logloss: 0.590185 + 0.00909192\n",
      "[300]\tcv_agg's valid binary_logloss: 0.580435 + 0.0098737\n",
      "[400]\tcv_agg's valid binary_logloss: 0.575281 + 0.0099729\n",
      "[500]\tcv_agg's valid binary_logloss: 0.572702 + 0.00964151\n",
      "[600]\tcv_agg's valid binary_logloss: 0.570986 + 0.00943708\n"
     ]
    },
    {
     "name": "stderr",
     "output_type": "stream",
     "text": [
      "\n",
      "\u001b[A\n",
      "\u001b[A[I 2023-12-13 17:26:51,993] Trial 55 finished with value: 0.570077339142588 and parameters: {'lambda_l1': 0.03641160958412949, 'lambda_l2': 9.151471786060554}. Best is trial 55 with value: 0.570077339142588.\n",
      "\n",
      "\u001b[A"
     ]
    },
    {
     "name": "stdout",
     "output_type": "stream",
     "text": [
      "[700]\tcv_agg's valid binary_logloss: 0.57008 + 0.00936958\n",
      "Early stopping, best iteration is:\n",
      "[702]\tcv_agg's valid binary_logloss: 0.570077 + 0.00935119\n",
      "Training until validation scores don't improve for 10 rounds\n"
     ]
    },
    {
     "name": "stderr",
     "output_type": "stream",
     "text": [
      "c:\\Users\\masak\\anaconda3\\envs\\test\\lib\\site-packages\\lightgbm\\engine.py:685: UserWarning: Found 'num_iterations' in params. Will use it instead of 'num_boost_round' argument\n",
      "  _log_warning(f\"Found '{alias}' in params. Will use it instead of 'num_boost_round' argument\")\n"
     ]
    },
    {
     "name": "stdout",
     "output_type": "stream",
     "text": [
      "[100]\tcv_agg's valid binary_logloss: 0.613835 + 0.00642797\n",
      "[200]\tcv_agg's valid binary_logloss: 0.59006 + 0.00910012\n",
      "[300]\tcv_agg's valid binary_logloss: 0.580365 + 0.0098593\n",
      "[400]\tcv_agg's valid binary_logloss: 0.575145 + 0.00987468\n",
      "[500]\tcv_agg's valid binary_logloss: 0.572627 + 0.00948366\n",
      "[600]\tcv_agg's valid binary_logloss: 0.570993 + 0.00935072\n"
     ]
    },
    {
     "name": "stderr",
     "output_type": "stream",
     "text": [
      "\n",
      "\u001b[A\n",
      "\u001b[A[I 2023-12-13 17:26:56,068] Trial 56 finished with value: 0.570070199269068 and parameters: {'lambda_l1': 0.021136140289864977, 'lambda_l2': 8.475973866378736}. Best is trial 56 with value: 0.570070199269068.\n",
      "\n",
      "\u001b[A"
     ]
    },
    {
     "name": "stdout",
     "output_type": "stream",
     "text": [
      "[700]\tcv_agg's valid binary_logloss: 0.57007 + 0.00935285\n",
      "Early stopping, best iteration is:\n",
      "[700]\tcv_agg's valid binary_logloss: 0.57007 + 0.00935285\n",
      "Training until validation scores don't improve for 10 rounds\n"
     ]
    },
    {
     "name": "stderr",
     "output_type": "stream",
     "text": [
      "c:\\Users\\masak\\anaconda3\\envs\\test\\lib\\site-packages\\lightgbm\\engine.py:685: UserWarning: Found 'num_iterations' in params. Will use it instead of 'num_boost_round' argument\n",
      "  _log_warning(f\"Found '{alias}' in params. Will use it instead of 'num_boost_round' argument\")\n"
     ]
    },
    {
     "name": "stdout",
     "output_type": "stream",
     "text": [
      "[100]\tcv_agg's valid binary_logloss: 0.614037 + 0.0063925\n",
      "[200]\tcv_agg's valid binary_logloss: 0.590272 + 0.00916386\n",
      "[300]\tcv_agg's valid binary_logloss: 0.580509 + 0.00995547\n",
      "[400]\tcv_agg's valid binary_logloss: 0.575321 + 0.0100124\n",
      "[500]\tcv_agg's valid binary_logloss: 0.572714 + 0.00964573\n",
      "[600]\tcv_agg's valid binary_logloss: 0.571003 + 0.00937809\n"
     ]
    },
    {
     "name": "stderr",
     "output_type": "stream",
     "text": [
      "\n",
      "\u001b[A\n",
      "\u001b[A[I 2023-12-13 17:27:00,647] Trial 57 finished with value: 0.570073773500087 and parameters: {'lambda_l1': 0.029262507752343653, 'lambda_l2': 9.923738240544422}. Best is trial 56 with value: 0.570070199269068.\n",
      "\n",
      "\u001b[A"
     ]
    },
    {
     "name": "stdout",
     "output_type": "stream",
     "text": [
      "[700]\tcv_agg's valid binary_logloss: 0.570075 + 0.00936417\n",
      "Early stopping, best iteration is:\n",
      "[702]\tcv_agg's valid binary_logloss: 0.570074 + 0.00934404\n"
     ]
    },
    {
     "name": "stderr",
     "output_type": "stream",
     "text": [
      "c:\\Users\\masak\\anaconda3\\envs\\test\\lib\\site-packages\\lightgbm\\engine.py:685: UserWarning: Found 'num_iterations' in params. Will use it instead of 'num_boost_round' argument\n",
      "  _log_warning(f\"Found '{alias}' in params. Will use it instead of 'num_boost_round' argument\")\n"
     ]
    },
    {
     "name": "stdout",
     "output_type": "stream",
     "text": [
      "Training until validation scores don't improve for 10 rounds\n",
      "[100]\tcv_agg's valid binary_logloss: 0.613893 + 0.00640125\n",
      "[200]\tcv_agg's valid binary_logloss: 0.590133 + 0.00911849\n",
      "[300]\tcv_agg's valid binary_logloss: 0.580391 + 0.0099381\n",
      "[400]\tcv_agg's valid binary_logloss: 0.575226 + 0.00996096\n",
      "[500]\tcv_agg's valid binary_logloss: 0.572712 + 0.00961956\n",
      "[600]\tcv_agg's valid binary_logloss: 0.571093 + 0.00942394\n"
     ]
    },
    {
     "name": "stderr",
     "output_type": "stream",
     "text": [
      "\n",
      "\u001b[A\n",
      "\u001b[A[I 2023-12-13 17:27:04,820] Trial 58 finished with value: 0.570137283800397 and parameters: {'lambda_l1': 0.0261523591314976, 'lambda_l2': 8.837230729161382}. Best is trial 56 with value: 0.570070199269068.\n",
      "\n",
      "\u001b[A"
     ]
    },
    {
     "name": "stdout",
     "output_type": "stream",
     "text": [
      "[700]\tcv_agg's valid binary_logloss: 0.570137 + 0.00945145\n",
      "Early stopping, best iteration is:\n",
      "[700]\tcv_agg's valid binary_logloss: 0.570137 + 0.00945145\n"
     ]
    },
    {
     "name": "stderr",
     "output_type": "stream",
     "text": [
      "c:\\Users\\masak\\anaconda3\\envs\\test\\lib\\site-packages\\lightgbm\\engine.py:685: UserWarning: Found 'num_iterations' in params. Will use it instead of 'num_boost_round' argument\n",
      "  _log_warning(f\"Found '{alias}' in params. Will use it instead of 'num_boost_round' argument\")\n"
     ]
    },
    {
     "name": "stdout",
     "output_type": "stream",
     "text": [
      "Training until validation scores don't improve for 10 rounds\n",
      "[100]\tcv_agg's valid binary_logloss: 0.613794 + 0.00643136\n",
      "[200]\tcv_agg's valid binary_logloss: 0.590024 + 0.00918068\n",
      "[300]\tcv_agg's valid binary_logloss: 0.58032 + 0.0098445\n",
      "[400]\tcv_agg's valid binary_logloss: 0.575172 + 0.00995658\n",
      "[500]\tcv_agg's valid binary_logloss: 0.572754 + 0.00965195\n",
      "[600]\tcv_agg's valid binary_logloss: 0.571116 + 0.00948847\n"
     ]
    },
    {
     "name": "stderr",
     "output_type": "stream",
     "text": [
      "\n",
      "\u001b[A\n",
      "\u001b[A[I 2023-12-13 17:27:09,014] Trial 59 finished with value: 0.5701633263369745 and parameters: {'lambda_l1': 0.01773846048226933, 'lambda_l2': 8.07018776421567}. Best is trial 56 with value: 0.570070199269068.\n",
      "regularization_factors, val_score: 0.570070: 100%|##########| 20/20 [02:43<00:00,  8.19s/it]\n"
     ]
    },
    {
     "name": "stdout",
     "output_type": "stream",
     "text": [
      "[700]\tcv_agg's valid binary_logloss: 0.570165 + 0.00944903\n",
      "Early stopping, best iteration is:\n",
      "[699]\tcv_agg's valid binary_logloss: 0.570163 + 0.00945376\n"
     ]
    },
    {
     "name": "stderr",
     "output_type": "stream",
     "text": [
      "\n",
      "\u001b[A\n",
      "\u001b[Ac:\\Users\\masak\\anaconda3\\envs\\test\\lib\\site-packages\\lightgbm\\engine.py:685: UserWarning: Found 'num_iterations' in params. Will use it instead of 'num_boost_round' argument\n",
      "  _log_warning(f\"Found '{alias}' in params. Will use it instead of 'num_boost_round' argument\")\n"
     ]
    },
    {
     "name": "stdout",
     "output_type": "stream",
     "text": [
      "Training until validation scores don't improve for 10 rounds\n",
      "[100]\tcv_agg's valid binary_logloss: 0.61386 + 0.00647026\n",
      "[200]\tcv_agg's valid binary_logloss: 0.590102 + 0.0091758\n",
      "[300]\tcv_agg's valid binary_logloss: 0.58035 + 0.00990976\n",
      "[400]\tcv_agg's valid binary_logloss: 0.575204 + 0.0099581\n",
      "[500]\tcv_agg's valid binary_logloss: 0.572568 + 0.00962881\n",
      "[600]\tcv_agg's valid binary_logloss: 0.57099 + 0.00953649\n"
     ]
    },
    {
     "name": "stderr",
     "output_type": "stream",
     "text": [
      "\n",
      "\u001b[A\n",
      "\u001b[A[I 2023-12-13 17:27:13,014] Trial 60 finished with value: 0.5700451175718357 and parameters: {'min_child_samples': 100}. Best is trial 60 with value: 0.5700451175718357.\n",
      "\n",
      "\u001b[A"
     ]
    },
    {
     "name": "stdout",
     "output_type": "stream",
     "text": [
      "[700]\tcv_agg's valid binary_logloss: 0.570052 + 0.00954868\n",
      "Early stopping, best iteration is:\n",
      "[696]\tcv_agg's valid binary_logloss: 0.570045 + 0.00955724\n",
      "Training until validation scores don't improve for 10 rounds\n"
     ]
    },
    {
     "name": "stderr",
     "output_type": "stream",
     "text": [
      "c:\\Users\\masak\\anaconda3\\envs\\test\\lib\\site-packages\\lightgbm\\engine.py:685: UserWarning: Found 'num_iterations' in params. Will use it instead of 'num_boost_round' argument\n",
      "  _log_warning(f\"Found '{alias}' in params. Will use it instead of 'num_boost_round' argument\")\n"
     ]
    },
    {
     "name": "stdout",
     "output_type": "stream",
     "text": [
      "[100]\tcv_agg's valid binary_logloss: 0.6138 + 0.00644863\n",
      "[200]\tcv_agg's valid binary_logloss: 0.590105 + 0.0092372\n",
      "[300]\tcv_agg's valid binary_logloss: 0.580296 + 0.00995135\n",
      "[400]\tcv_agg's valid binary_logloss: 0.575153 + 0.00993562\n",
      "[500]\tcv_agg's valid binary_logloss: 0.572562 + 0.00962775\n",
      "[600]\tcv_agg's valid binary_logloss: 0.570916 + 0.00940925\n"
     ]
    },
    {
     "name": "stderr",
     "output_type": "stream",
     "text": [
      "\n",
      "\u001b[A\n",
      "\u001b[A[I 2023-12-13 17:27:17,098] Trial 61 finished with value: 0.5700396699508133 and parameters: {'min_child_samples': 50}. Best is trial 61 with value: 0.5700396699508133.\n",
      "\n",
      "\u001b[A"
     ]
    },
    {
     "name": "stdout",
     "output_type": "stream",
     "text": [
      "[700]\tcv_agg's valid binary_logloss: 0.570046 + 0.00939318\n",
      "Early stopping, best iteration is:\n",
      "[699]\tcv_agg's valid binary_logloss: 0.57004 + 0.0093935\n",
      "Training until validation scores don't improve for 10 rounds\n"
     ]
    },
    {
     "name": "stderr",
     "output_type": "stream",
     "text": [
      "c:\\Users\\masak\\anaconda3\\envs\\test\\lib\\site-packages\\lightgbm\\engine.py:685: UserWarning: Found 'num_iterations' in params. Will use it instead of 'num_boost_round' argument\n",
      "  _log_warning(f\"Found '{alias}' in params. Will use it instead of 'num_boost_round' argument\")\n"
     ]
    },
    {
     "name": "stdout",
     "output_type": "stream",
     "text": [
      "[100]\tcv_agg's valid binary_logloss: 0.613835 + 0.00642797\n",
      "[200]\tcv_agg's valid binary_logloss: 0.59006 + 0.00910012\n",
      "[300]\tcv_agg's valid binary_logloss: 0.580362 + 0.00985992\n",
      "[400]\tcv_agg's valid binary_logloss: 0.575161 + 0.00984882\n",
      "[500]\tcv_agg's valid binary_logloss: 0.572673 + 0.00951534\n",
      "[600]\tcv_agg's valid binary_logloss: 0.571021 + 0.00936482\n"
     ]
    },
    {
     "name": "stderr",
     "output_type": "stream",
     "text": [
      "\n",
      "\u001b[A\n",
      "\u001b[A[I 2023-12-13 17:27:21,393] Trial 62 finished with value: 0.5701917196671329 and parameters: {'min_child_samples': 10}. Best is trial 61 with value: 0.5700396699508133.\n",
      "\n",
      "\u001b[A"
     ]
    },
    {
     "name": "stdout",
     "output_type": "stream",
     "text": [
      "[700]\tcv_agg's valid binary_logloss: 0.570192 + 0.00941309\n",
      "Early stopping, best iteration is:\n",
      "[700]\tcv_agg's valid binary_logloss: 0.570192 + 0.00941309\n"
     ]
    },
    {
     "name": "stderr",
     "output_type": "stream",
     "text": [
      "c:\\Users\\masak\\anaconda3\\envs\\test\\lib\\site-packages\\lightgbm\\engine.py:685: UserWarning: Found 'num_iterations' in params. Will use it instead of 'num_boost_round' argument\n",
      "  _log_warning(f\"Found '{alias}' in params. Will use it instead of 'num_boost_round' argument\")\n"
     ]
    },
    {
     "name": "stdout",
     "output_type": "stream",
     "text": [
      "Training until validation scores don't improve for 10 rounds\n",
      "[100]\tcv_agg's valid binary_logloss: 0.613834 + 0.0064285\n",
      "[200]\tcv_agg's valid binary_logloss: 0.590075 + 0.00909477\n",
      "[300]\tcv_agg's valid binary_logloss: 0.580419 + 0.00983549\n",
      "[400]\tcv_agg's valid binary_logloss: 0.575229 + 0.00983436\n",
      "[500]\tcv_agg's valid binary_logloss: 0.572701 + 0.00949122\n",
      "[600]\tcv_agg's valid binary_logloss: 0.571022 + 0.00934606\n"
     ]
    },
    {
     "name": "stderr",
     "output_type": "stream",
     "text": [
      "\n",
      "\u001b[A\n",
      "\u001b[A[I 2023-12-13 17:27:25,683] Trial 63 finished with value: 0.5701450888259891 and parameters: {'min_child_samples': 25}. Best is trial 61 with value: 0.5700396699508133.\n",
      "\n",
      "\u001b[A"
     ]
    },
    {
     "name": "stdout",
     "output_type": "stream",
     "text": [
      "[700]\tcv_agg's valid binary_logloss: 0.570147 + 0.00931204\n",
      "Early stopping, best iteration is:\n",
      "[699]\tcv_agg's valid binary_logloss: 0.570145 + 0.0093163\n",
      "Training until validation scores don't improve for 10 rounds\n"
     ]
    },
    {
     "name": "stderr",
     "output_type": "stream",
     "text": [
      "c:\\Users\\masak\\anaconda3\\envs\\test\\lib\\site-packages\\lightgbm\\engine.py:685: UserWarning: Found 'num_iterations' in params. Will use it instead of 'num_boost_round' argument\n",
      "  _log_warning(f\"Found '{alias}' in params. Will use it instead of 'num_boost_round' argument\")\n"
     ]
    },
    {
     "name": "stdout",
     "output_type": "stream",
     "text": [
      "[100]\tcv_agg's valid binary_logloss: 0.613835 + 0.00642797\n",
      "[200]\tcv_agg's valid binary_logloss: 0.59006 + 0.00910012\n",
      "[300]\tcv_agg's valid binary_logloss: 0.580362 + 0.00985992\n",
      "[400]\tcv_agg's valid binary_logloss: 0.575161 + 0.00984882\n",
      "[500]\tcv_agg's valid binary_logloss: 0.572675 + 0.00951617\n",
      "[600]\tcv_agg's valid binary_logloss: 0.571009 + 0.00935132\n"
     ]
    },
    {
     "name": "stderr",
     "output_type": "stream",
     "text": [
      "\n",
      "\u001b[A\n",
      "\u001b[A[I 2023-12-13 17:27:29,830] Trial 64 finished with value: 0.5701526900970528 and parameters: {'min_child_samples': 5}. Best is trial 61 with value: 0.5700396699508133.\n",
      "min_child_samples, val_score: 0.570040: 100%|##########| 5/5 [00:20<00:00,  4.16s/it]"
     ]
    },
    {
     "name": "stdout",
     "output_type": "stream",
     "text": [
      "[700]\tcv_agg's valid binary_logloss: 0.570153 + 0.00939303\n",
      "Early stopping, best iteration is:\n",
      "[700]\tcv_agg's valid binary_logloss: 0.570153 + 0.00939303\n"
     ]
    },
    {
     "name": "stderr",
     "output_type": "stream",
     "text": [
      "\n"
     ]
    }
   ],
   "source": [
    "folds = StratifiedKFold(n_splits=5, shuffle=True, random_state=100)\n",
    "lgb_params = {\n",
    "    'objective':'binary',\n",
    "    'metric': 'binary_logloss',\n",
    "    'learning_rate':0.01,\n",
    "    'verbosity':-1,\n",
    "    'random_state':100,\n",
    "    'num_iterations':1000,\n",
    "    'random_state':100,\n",
    "    'early_stopping_rounds': 10,\n",
    "}\n",
    "tuner_cv = lgb.LightGBMTunerCV(\n",
    "    lgb_params, lgb_train,\n",
    "    num_boost_round=10,\n",
    "    callbacks=[lgb.early_stopping(stopping_rounds=10, verbose=True),\n",
    "                lgb.log_evaluation(100)],\n",
    "    return_cvbooster=True,\n",
    "    folds=folds\n",
    ")\n",
    "\n",
    "tuner_cv.run()"
   ]
  },
  {
   "cell_type": "code",
   "execution_count": null,
   "metadata": {},
   "outputs": [
    {
     "ename": "TypeError",
     "evalue": "booster must be Booster or LGBMModel.",
     "output_type": "error",
     "traceback": [
      "\u001b[1;31m---------------------------------------------------------------------------\u001b[0m",
      "\u001b[1;31mTypeError\u001b[0m                                 Traceback (most recent call last)",
      "\u001b[1;32mc:\\Users\\masak\\workspace\\lab\\thesis_data2\\learning_process\\notebook\\lgb_tune.ipynb Cell 7\u001b[0m line \u001b[0;36m2\n\u001b[0;32m      <a href='vscode-notebook-cell:/c%3A/Users/masak/workspace/lab/thesis_data2/learning_process/notebook/lgb_tune.ipynb#X16sZmlsZQ%3D%3D?line=0'>1</a>\u001b[0m model \u001b[39m=\u001b[39m tuner_cv\u001b[39m.\u001b[39mget_best_booster()\n\u001b[1;32m----> <a href='vscode-notebook-cell:/c%3A/Users/masak/workspace/lab/thesis_data2/learning_process/notebook/lgb_tune.ipynb#X16sZmlsZQ%3D%3D?line=1'>2</a>\u001b[0m lgb\u001b[39m.\u001b[39;49mplot_importance(model, figsize\u001b[39m=\u001b[39;49m(\u001b[39m8\u001b[39;49m,\u001b[39m4\u001b[39;49m), max_num_features\u001b[39m=\u001b[39;49m\u001b[39m5\u001b[39;49m, importance_type\u001b[39m=\u001b[39;49m\u001b[39m'\u001b[39;49m\u001b[39mgain\u001b[39;49m\u001b[39m'\u001b[39;49m)\n",
      "File \u001b[1;32mc:\\Users\\masak\\anaconda3\\envs\\test\\lib\\site-packages\\lightgbm\\plotting.py:117\u001b[0m, in \u001b[0;36mplot_importance\u001b[1;34m(booster, ax, height, xlim, ylim, title, xlabel, ylabel, importance_type, max_num_features, ignore_zero, figsize, dpi, grid, precision, **kwargs)\u001b[0m\n\u001b[0;32m    115\u001b[0m         importance_type \u001b[39m=\u001b[39m \u001b[39m\"\u001b[39m\u001b[39msplit\u001b[39m\u001b[39m\"\u001b[39m\n\u001b[0;32m    116\u001b[0m \u001b[39melse\u001b[39;00m:\n\u001b[1;32m--> 117\u001b[0m     \u001b[39mraise\u001b[39;00m \u001b[39mTypeError\u001b[39;00m(\u001b[39m'\u001b[39m\u001b[39mbooster must be Booster or LGBMModel.\u001b[39m\u001b[39m'\u001b[39m)\n\u001b[0;32m    119\u001b[0m importance \u001b[39m=\u001b[39m booster\u001b[39m.\u001b[39mfeature_importance(importance_type\u001b[39m=\u001b[39mimportance_type)\n\u001b[0;32m    120\u001b[0m feature_name \u001b[39m=\u001b[39m booster\u001b[39m.\u001b[39mfeature_name()\n",
      "\u001b[1;31mTypeError\u001b[0m: booster must be Booster or LGBMModel."
     ]
    }
   ],
   "source": [
    "model = tuner_cv.get_best_booster()\n",
    "lgb.plot_importance(model, figsize=(8,4), max_num_features=5, importance_type='gain')"
   ]
  },
  {
   "cell_type": "code",
   "execution_count": 31,
   "metadata": {},
   "outputs": [
    {
     "name": "stdout",
     "output_type": "stream",
     "text": [
      "Best score: 0.7555130790936826\n",
      "Best params:\n",
      "{'objective': 'binary', 'metric': ['auc'], 'verbosity': -1, 'random_state': 100, 'feature_pre_filter': False, 'lambda_l1': 2.4643542718334723e-06, 'lambda_l2': 7.623398844172616e-06, 'num_leaves': 255, 'feature_fraction': 0.7200000000000001, 'bagging_fraction': 0.4134518225292541, 'bagging_freq': 5, 'min_child_samples': 20}\n",
      "[0.08399906 0.67614358 0.07154953 ... 0.31959399 0.0325035  0.10412647]\n",
      "0.760050897861146\n",
      "0.4239548979769149\n"
     ]
    }
   ],
   "source": [
    "#openstack auc不均衡対策\n",
    "print(f'Best score: {tuner_cv.best_score}')\n",
    "print('Best params:')\n",
    "print(tuner_cv.best_params)\n",
    "model = tuner_cv.get_best_booster()\n",
    "pred = model.predict(np.array(te_dataset[4]), num_iteration=model.best_iteration)\n",
    "mean_pred = np.mean(pred, axis=0)\n",
    "print(mean_pred)\n",
    "print(roc_auc_score(te_dataset[5], mean_pred))\n",
    "print(log_loss(te_dataset[5], mean_pred))"
   ]
  },
  {
   "cell_type": "code",
   "execution_count": null,
   "metadata": {},
   "outputs": [
    {
     "name": "stdout",
     "output_type": "stream",
     "text": [
      "Best score: 0.7549880606662881\n",
      "Best params:\n",
      "{'objective': 'binary', 'metric': ['auc'], 'verbosity': -1, 'feature_pre_filter': False, 'lambda_l1': 1.0688819400040869e-08, 'lambda_l2': 2.009134552925365e-08, 'num_leaves': 193, 'feature_fraction': 0.5, 'bagging_fraction': 0.41206537271797367, 'bagging_freq': 7, 'min_child_samples': 5}\n",
      "[0.11027334 0.47188375 0.03508401 ... 0.23337967 0.02312295 0.07815113]\n",
      "0.7594111003088185\n",
      "0.38258440278110223\n"
     ]
    }
   ],
   "source": [
    "#openstack auc 不均衡対策\n",
    "print(f'Best score: {tuner_cv.best_score}')\n",
    "print('Best params:')\n",
    "print(tuner_cv.best_params)\n",
    "model = tuner_cv.get_best_booster()\n",
    "pred = model.predict(np.array(te_dataset[4]), num_iteration=model.best_iteration)\n",
    "mean_pred = np.mean(pred, axis=0)\n",
    "print(mean_pred)\n",
    "print(roc_auc_score(te_dataset[5], mean_pred))\n",
    "print(log_loss(te_dataset[5], mean_pred))"
   ]
  },
  {
   "cell_type": "code",
   "execution_count": null,
   "metadata": {},
   "outputs": [
    {
     "name": "stdout",
     "output_type": "stream",
     "text": [
      "Best score: 0.5550660105511195\n",
      "Best params:\n",
      "{'objective': 'binary', 'metric': 'binary_logloss', 'verbosity': -1, 'feature_pre_filter': False, 'lambda_l1': 0.07243602575611423, 'lambda_l2': 0.4875629519730083, 'num_leaves': 3, 'feature_fraction': 0.48000000000000004, 'bagging_fraction': 0.9786784380027866, 'bagging_freq': 1, 'min_child_samples': 20}\n",
      "[0.27600257 0.78501971 0.22246682 ... 0.49865557 0.12164959 0.21928198]\n",
      "0.7777614949102138\n",
      "0.6059180333382632\n"
     ]
    }
   ],
   "source": [
    "#openstack logloss 不均衡対策\n",
    "print(f'Best score: {tuner_cv.best_score}')\n",
    "print('Best params:')\n",
    "print(tuner_cv.best_params)\n",
    "model = tuner_cv.get_best_booster()\n",
    "pred = model.predict(np.array(te_dataset[4]), num_iteration=model.best_iteration)\n",
    "mean_pred = np.mean(pred, axis=0)\n",
    "print(mean_pred)\n",
    "print(roc_auc_score(te_dataset[5], mean_pred))\n",
    "print(log_loss(te_dataset[5], mean_pred))"
   ]
  },
  {
   "cell_type": "code",
   "execution_count": 12,
   "metadata": {},
   "outputs": [
    {
     "name": "stdout",
     "output_type": "stream",
     "text": [
      "Best score: 0.5559249645730105\n",
      "Best params:\n",
      "{'objective': 'binary', 'metric': 'binary_logloss', 'learning_rate': 0.01, 'verbosity': -1, 'random_state': 100, 'num_iterations': 1000, 'feature_pre_filter': False, 'lambda_l1': 0.01112318716707485, 'lambda_l2': 0.00057654652280787, 'num_leaves': 4, 'feature_fraction': 0.48000000000000004, 'bagging_fraction': 0.6804137902144315, 'bagging_freq': 3, 'min_child_samples': 50}\n",
      "[0.29749684 0.80003265 0.19935716 ... 0.48415729 0.1206449  0.20656131]\n",
      "0.7844525620496396\n",
      "0.6043870412320301\n"
     ]
    }
   ],
   "source": [
    "#openstack logloss 不均衡対策 lr=0.01\n",
    "print(f'Best score: {tuner_cv.best_score}')\n",
    "print('Best params:')\n",
    "print(tuner_cv.best_params)\n",
    "model = tuner_cv.get_best_booster()\n",
    "pred = model.predict(np.array(te_dataset[4]), num_iteration=model.best_iteration)\n",
    "mean_pred = np.mean(pred, axis=0)\n",
    "print(mean_pred)\n",
    "print(roc_auc_score(te_dataset[5], mean_pred))\n",
    "print(log_loss(te_dataset[5], mean_pred))"
   ]
  },
  {
   "cell_type": "code",
   "execution_count": null,
   "metadata": {},
   "outputs": [
    {
     "name": "stdout",
     "output_type": "stream",
     "text": [
      "Best score: 0.7432944713563515\n",
      "Best params:\n",
      "{'objective': 'binary', 'metric': ['auc'], 'verbosity': -1, 'feature_pre_filter': False, 'lambda_l1': 0.0, 'lambda_l2': 0.0, 'num_leaves': 210, 'feature_fraction': 1.0, 'bagging_fraction': 1.0, 'bagging_freq': 0, 'min_child_samples': 20}\n",
      "[0.11186594 0.22893775 0.13879073 ... 0.34276997 0.23048491 0.09704059]\n",
      "0.7819473366170058\n",
      "0.3588729264815595\n"
     ]
    }
   ],
   "source": [
    "#qt auc 不均衡対策\n",
    "print(f'Best score: {tuner_cv.best_score}')\n",
    "print('Best params:')\n",
    "print(tuner_cv.best_params)\n",
    "model = tuner_cv.get_best_booster()\n",
    "pred = model.predict(np.array(te_dataset[4]), num_iteration=model.best_iteration)\n",
    "mean_pred = np.mean(pred, axis=0)\n",
    "print(mean_pred)\n",
    "print(roc_auc_score(te_dataset[5], mean_pred))\n",
    "print(log_loss(te_dataset[5], mean_pred))"
   ]
  },
  {
   "cell_type": "code",
   "execution_count": null,
   "metadata": {},
   "outputs": [
    {
     "name": "stdout",
     "output_type": "stream",
     "text": [
      "Best score: 0.5713605404603211\n",
      "Best params:\n",
      "{'objective': 'binary', 'metric': 'binary_logloss', 'verbosity': -1, 'feature_pre_filter': False, 'lambda_l1': 2.0021621637130066e-06, 'lambda_l2': 5.073792184543535, 'num_leaves': 4, 'feature_fraction': 0.4, 'bagging_fraction': 0.9896768286555222, 'bagging_freq': 1, 'min_child_samples': 20}\n",
      "[0.23983889 0.46429592 0.14802875 ... 0.60926749 0.42322414 0.07856838]\n",
      "0.7981671716798463\n",
      "0.506151936116559\n"
     ]
    }
   ],
   "source": [
    "#qt logloss 不均衡対策\n",
    "print(f'Best score: {tuner_cv.best_score}')\n",
    "print('Best params:')\n",
    "print(tuner_cv.best_params)\n",
    "model = tuner_cv.get_best_booster()\n",
    "pred = model.predict(np.array(te_dataset[4]), num_iteration=model.best_iteration)\n",
    "mean_pred = np.mean(pred, axis=0)\n",
    "print(mean_pred)\n",
    "print(roc_auc_score(te_dataset[5], mean_pred))\n",
    "print(log_loss(te_dataset[5], mean_pred))"
   ]
  },
  {
   "cell_type": "code",
   "execution_count": 23,
   "metadata": {},
   "outputs": [
    {
     "name": "stdout",
     "output_type": "stream",
     "text": [
      "Best score: 0.5700396699508133\n",
      "Best params:\n",
      "{'objective': 'binary', 'metric': 'binary_logloss', 'learning_rate': 0.01, 'verbosity': -1, 'random_state': 100, 'num_iterations': 1000, 'early_stopping_rounds': 10, 'feature_pre_filter': False, 'lambda_l1': 0.021136140289864977, 'lambda_l2': 8.475973866378736, 'num_leaves': 9, 'feature_fraction': 0.4, 'bagging_fraction': 0.8183971988012102, 'bagging_freq': 1, 'min_child_samples': 50}\n",
      "[0.21031522 0.46104844 0.13506934 ... 0.6317994  0.42794545 0.10489925]\n",
      "0.7935937955109618\n",
      "0.5014598072892006\n"
     ]
    }
   ],
   "source": [
    "#qt logloss 不均衡対策 lr=0.01\n",
    "print(f'Best score: {tuner_cv.best_score}')\n",
    "print('Best params:')\n",
    "print(tuner_cv.best_params)\n",
    "model = tuner_cv.get_best_booster()\n",
    "pred = model.predict(np.array(te_dataset[4]), num_iteration=model.best_iteration)\n",
    "mean_pred = np.mean(pred, axis=0)\n",
    "print(mean_pred)\n",
    "print(roc_auc_score(te_dataset[5], mean_pred))\n",
    "print(log_loss(te_dataset[5], mean_pred))"
   ]
  }
 ],
 "metadata": {
  "kernelspec": {
   "display_name": "test",
   "language": "python",
   "name": "python3"
  },
  "language_info": {
   "codemirror_mode": {
    "name": "ipython",
    "version": 3
   },
   "file_extension": ".py",
   "mimetype": "text/x-python",
   "name": "python",
   "nbconvert_exporter": "python",
   "pygments_lexer": "ipython3",
   "version": "3.9.16"
  }
 },
 "nbformat": 4,
 "nbformat_minor": 2
}
