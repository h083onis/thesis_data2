{
 "cells": [
  {
   "cell_type": "code",
   "execution_count": 25,
   "metadata": {},
   "outputs": [],
   "source": [
    "import pickle\n",
    "project = 'qt'\n",
    "with open('../resource/'+project+'_train.pkl', 'rb') as f_train, open('../resource/'+project+'_test.pkl', 'rb') as f_test:\n",
    "        tr_data = pickle.load(f_train)\n",
    "        te_data = pickle.load(f_test)\n",
    "pred_list = []\n",
    "kinds = ['train', 'test']\n",
    "models = ['lgb', 'code_cnn', 'msg_tf']\n",
    "for kind in kinds:\n",
    "    for model in models:\n",
    "        with open('../pred/'+project+'-'+model+'-'+'random'+'-'+kind+'.pkl', 'rb') as f:\n",
    "            pred_list.append(pickle.load(f))\n",
    "tr_pred = [[pred_list[0][j], pred_list[1][j], pred_list[2][j]] for j in range(len(pred_list[0]))]\n",
    "te_pred = [[pred_list[3][j], pred_list[4][j], pred_list[5][j]] for j in range(len(pred_list[3]))]                \n",
    "tr_data = [tr_pred, tr_data[5]]\n",
    "te_data = [te_pred, te_data[5]]"
   ]
  },
  {
   "cell_type": "code",
   "execution_count": 26,
   "metadata": {},
   "outputs": [
    {
     "data": {
      "text/plain": [
       "array([0.07693368, 0.35020531, 0.03905198, ..., 0.18881377, 0.05588778,\n",
       "       0.09425423])"
      ]
     },
     "execution_count": 26,
     "metadata": {},
     "output_type": "execute_result"
    }
   ],
   "source": [
    "pred_list[0]"
   ]
  },
  {
   "cell_type": "code",
   "execution_count": 27,
   "metadata": {},
   "outputs": [
    {
     "name": "stdout",
     "output_type": "stream",
     "text": [
      "[0.33333333 0.33333333 0.33333333]\n",
      "0.8090161034770271\n",
      "[1.33333333 0.33333333 0.33333333]\n",
      "0.794492585918906\n",
      "[0.33333333 1.33333333 0.33333333]\n",
      "0.8080925592604589\n",
      "[0.33333333 0.33333333 1.33333333]\n",
      "0.7756239484111135\n",
      "[0. 1. 0.]\n",
      "0.7913915404406081\n",
      "[0.29587585 0.70412415 0.        ]\n",
      "0.8049319597045813\n",
      "[0.52678185 0.18018875 0.2930294 ]\n",
      "0.7992494797764154\n",
      "[0.26116455 0.26116455 0.26116455]\n",
      "0.8090161307017483\n",
      "[0.16279074 0.37830678 0.45890248]\n",
      "0.8024551090211237\n",
      "[0.33239371 0.42218775 0.24541855]\n",
      "0.8115987766517089\n",
      "[0.4115904  0.43834254 0.15006706]\n",
      "0.8105970430359134\n",
      "[0.25106809 0.51625569 0.23267621]\n",
      "0.811139087234595\n",
      "[0.36251343 0.44532211 0.29505577]\n",
      "0.8113360308676066\n",
      "[0.31895379 0.38627379 0.29477243]\n",
      "0.8108019362875096\n",
      "[0.31208931 0.44572202 0.24218867]\n",
      "0.8116553768470408\n",
      "[0.32210059 0.45305648 0.23269549]\n",
      "0.8116951521646839\n",
      "[0.32411905 0.46961248 0.20626847]\n",
      "0.8116426356775288\n",
      "[0.33562789 0.47368563 0.25187915]\n",
      "0.8116814853546519\n",
      "[0.33497134 0.44424339 0.23179336]\n",
      "0.8116945804455393\n",
      "[0.32579568 0.45800905 0.23747603]\n",
      "0.8116925113667294\n",
      "[0.32397295 0.45665153 0.22601679]\n",
      "0.8117028295360563\n",
      "[0.32476204 0.45906299 0.21862778]\n",
      "0.8116854329392228\n",
      "[0.32073348 0.45881896 0.2262753 ]\n",
      "0.811696840097397\n",
      "[0.32990932 0.45429471 0.22151789]\n",
      "0.8116986913784372\n",
      "[0.32170727 0.45906979 0.22394858]\n",
      "0.8116960233557615\n",
      "[0.32327669 0.45513333 0.22500437]\n",
      "0.8117055520081743\n",
      "[0.32601698 0.45295645 0.22326921]\n",
      "0.8117054431092896\n",
      "[0.3226545  0.45357988 0.22601153]\n",
      "0.8116986369289948\n",
      "[0.3227488  0.45586728 0.22327308]\n",
      "0.8116990452998124\n",
      "[0.32416554 0.45481132 0.22475955]\n",
      "0.8117080294578017\n",
      "[0.32457606 0.45399757 0.22511021]\n",
      "0.8117072127161663\n",
      "[0.32397147 0.45455504 0.22439202]\n",
      "0.8117080566825229\n",
      "[0.3246506  0.45489415 0.22377765]\n",
      "0.8117042179968366\n",
      "[0.32405568 0.45413893 0.22463323]\n",
      "0.8117065865475792\n",
      "[0.32353705 0.45476364 0.2244707 ]\n",
      "0.8117090639972064\n",
      "[0.32333461 0.45516715 0.22428464]\n",
      "0.8117066409970214\n",
      "[0.32342877 0.45461387 0.22463023]\n",
      "0.8117089278736007\n",
      "[0.32349148 0.45469817 0.2243783 ]\n",
      "0.8117097173905148\n",
      "[0.32359316 0.45451601 0.22425148]\n",
      "0.8117080022330806\n",
      "[0.32340374 0.45473487 0.22434739]\n",
      "0.8117083561544559\n",
      "[0.3235153  0.45472763 0.22434567]\n",
      "0.8117092001208125\n",
      "[0.32352278 0.45460458 0.22439446]\n",
      "0.8117081383566864\n",
      "Optimal Weights: [0.32352278 0.45460458 0.22439446]\n"
     ]
    }
   ],
   "source": [
    "import numpy as np\n",
    "from scipy.optimize import minimize\n",
    "from sklearn.metrics import roc_auc_score\n",
    "\n",
    "# 仮想的なモデルの出力と真の値（目標値）の設定\n",
    "probs_model1 = pred_list[0]\n",
    "probs_model2= pred_list[1]\n",
    "probs_model3 = pred_list[2]\n",
    "true_labels = tr_data[1]\n",
    "\n",
    "# 目的関数の定義（auc）\n",
    "def objective(weights):\n",
    "    print(weights)\n",
    "    weighted_probs = weights[0] * probs_model1 + weights[1] * probs_model2 + weights[2] * probs_model3\n",
    "    auc = roc_auc_score(true_labels, weighted_probs)\n",
    "    print(auc)\n",
    "    return -auc \n",
    "\n",
    "# 初期の重みの設定\n",
    "initial_weights = np.ones(3) / 3  # 3つのモデルのために均等な重みで初期化\n",
    "\n",
    "# 制約条件\n",
    "constraints = ({'type': 'ineq', 'fun': lambda x: x},{'type': 'ineq', 'fun': lambda w: np.sum(w) - 1})  # 重みの合計は1になるように制約\n",
    "\n",
    "# 最適化の実行\n",
    "result = minimize(objective, initial_weights, constraints=constraints, method='COBYLA')\n",
    "\n",
    "# 結果の表示\n",
    "optimal_weights = result.x\n",
    "print(\"Optimal Weights:\", optimal_weights)\n"
   ]
  },
  {
   "cell_type": "code",
   "execution_count": 29,
   "metadata": {},
   "outputs": [
    {
     "data": {
      "text/plain": [
       "0.7703617401435483"
      ]
     },
     "execution_count": 29,
     "metadata": {},
     "output_type": "execute_result"
    }
   ],
   "source": [
    "weighted_average2 = optimal_weights[0] * pred_list[3] + optimal_weights[1] * pred_list[4] + optimal_weights[2] * pred_list[5]\n",
    "roc_auc_score(te_data[1] ,weighted_average2)"
   ]
  },
  {
   "cell_type": "code",
   "execution_count": 1,
   "metadata": {},
   "outputs": [
    {
     "name": "stdout",
     "output_type": "stream",
     "text": [
      "Optimal Weights: [0.00000000e+00 1.00000000e+00 1.66533454e-16]\n"
     ]
    }
   ],
   "source": [
    "import numpy as np\n",
    "from scipy.optimize import minimize\n",
    "\n",
    "# 仮想的なモデルの出力と真の値（目標値）の設定\n",
    "model1_output = np.array([1.0, 2.0, 3.0])\n",
    "model2_output = np.array([1.5, 2.5, 3.5])\n",
    "model3_output = np.array([0.5, 1.5, 2.5])\n",
    "true_values = np.array([2.0, 3.0, 4.0])\n",
    "\n",
    "# 目的関数の定義（平均二乗誤差）\n",
    "def objective(weights):\n",
    "    weighted_average = weights[0] * model1_output + weights[1] * model2_output + weights[2] * model3_output\n",
    "    mse = np.mean((weighted_average - true_values)**2)\n",
    "    return mse\n",
    "\n",
    "# 初期の重みの設定\n",
    "initial_weights = np.array([0.33, 0.33, 0.33])  # 初期の重みの総和は1.0になるように設定\n",
    "\n",
    "# 最適化の実行\n",
    "result = minimize(objective, initial_weights, method='SLSQP', bounds=[(0, 1)] * 3, constraints={'type': 'eq', 'fun': lambda w: 1.0 - np.sum(w)})\n",
    "\n",
    "# 結果の表示\n",
    "optimal_weights = result.x\n",
    "print(\"Optimal Weights:\", optimal_weights)\n"
   ]
  },
  {
   "cell_type": "code",
   "execution_count": 11,
   "metadata": {},
   "outputs": [
    {
     "ename": "TypeError",
     "evalue": "objective() takes 3 positional arguments but 5 were given",
     "output_type": "error",
     "traceback": [
      "\u001b[1;31m---------------------------------------------------------------------------\u001b[0m",
      "\u001b[1;31mTypeError\u001b[0m                                 Traceback (most recent call last)",
      "\u001b[1;32mc:\\Users\\masak\\workspace\\lab\\thesis_data2\\learning_process\\notebook\\optimize.ipynb Cell 5\u001b[0m line \u001b[0;36m2\n\u001b[0;32m     <a href='vscode-notebook-cell:/c%3A/Users/masak/workspace/lab/thesis_data2/learning_process/notebook/optimize.ipynb#W4sZmlsZQ%3D%3D?line=22'>23</a>\u001b[0m constraints \u001b[39m=\u001b[39m ({\u001b[39m'\u001b[39m\u001b[39mtype\u001b[39m\u001b[39m'\u001b[39m: \u001b[39m'\u001b[39m\u001b[39meq\u001b[39m\u001b[39m'\u001b[39m, \u001b[39m'\u001b[39m\u001b[39mfun\u001b[39m\u001b[39m'\u001b[39m: \u001b[39mlambda\u001b[39;00m w: np\u001b[39m.\u001b[39msum(w) \u001b[39m-\u001b[39m \u001b[39m1\u001b[39m})  \u001b[39m# 重みの合計は1になるように制約\u001b[39;00m\n\u001b[0;32m     <a href='vscode-notebook-cell:/c%3A/Users/masak/workspace/lab/thesis_data2/learning_process/notebook/optimize.ipynb#W4sZmlsZQ%3D%3D?line=24'>25</a>\u001b[0m \u001b[39m# 最適化の実行\u001b[39;00m\n\u001b[1;32m---> <a href='vscode-notebook-cell:/c%3A/Users/masak/workspace/lab/thesis_data2/learning_process/notebook/optimize.ipynb#W4sZmlsZQ%3D%3D?line=25'>26</a>\u001b[0m result \u001b[39m=\u001b[39m minimize(objective, initial_weights, args\u001b[39m=\u001b[39;49m(probs_model1, probs_model2, probs_model3, true_labels),\n\u001b[0;32m     <a href='vscode-notebook-cell:/c%3A/Users/masak/workspace/lab/thesis_data2/learning_process/notebook/optimize.ipynb#W4sZmlsZQ%3D%3D?line=26'>27</a>\u001b[0m                   constraints\u001b[39m=\u001b[39;49mconstraints)\n\u001b[0;32m     <a href='vscode-notebook-cell:/c%3A/Users/masak/workspace/lab/thesis_data2/learning_process/notebook/optimize.ipynb#W4sZmlsZQ%3D%3D?line=28'>29</a>\u001b[0m \u001b[39m# 最適な重み\u001b[39;00m\n\u001b[0;32m     <a href='vscode-notebook-cell:/c%3A/Users/masak/workspace/lab/thesis_data2/learning_process/notebook/optimize.ipynb#W4sZmlsZQ%3D%3D?line=29'>30</a>\u001b[0m optimal_weights \u001b[39m=\u001b[39m result\u001b[39m.\u001b[39mx\n",
      "File \u001b[1;32mc:\\Users\\masak\\anaconda3\\envs\\test\\lib\\site-packages\\scipy\\optimize\\_minimize.py:719\u001b[0m, in \u001b[0;36mminimize\u001b[1;34m(fun, x0, args, method, jac, hess, hessp, bounds, constraints, tol, callback, options)\u001b[0m\n\u001b[0;32m    716\u001b[0m     res \u001b[39m=\u001b[39m _minimize_cobyla(fun, x0, args, constraints, callback\u001b[39m=\u001b[39mcallback,\n\u001b[0;32m    717\u001b[0m                            bounds\u001b[39m=\u001b[39mbounds, \u001b[39m*\u001b[39m\u001b[39m*\u001b[39moptions)\n\u001b[0;32m    718\u001b[0m \u001b[39melif\u001b[39;00m meth \u001b[39m==\u001b[39m \u001b[39m'\u001b[39m\u001b[39mslsqp\u001b[39m\u001b[39m'\u001b[39m:\n\u001b[1;32m--> 719\u001b[0m     res \u001b[39m=\u001b[39m _minimize_slsqp(fun, x0, args, jac, bounds,\n\u001b[0;32m    720\u001b[0m                           constraints, callback\u001b[39m=\u001b[39mcallback, \u001b[39m*\u001b[39m\u001b[39m*\u001b[39moptions)\n\u001b[0;32m    721\u001b[0m \u001b[39melif\u001b[39;00m meth \u001b[39m==\u001b[39m \u001b[39m'\u001b[39m\u001b[39mtrust-constr\u001b[39m\u001b[39m'\u001b[39m:\n\u001b[0;32m    722\u001b[0m     res \u001b[39m=\u001b[39m _minimize_trustregion_constr(fun, x0, args, jac, hess, hessp,\n\u001b[0;32m    723\u001b[0m                                        bounds, constraints,\n\u001b[0;32m    724\u001b[0m                                        callback\u001b[39m=\u001b[39mcallback, \u001b[39m*\u001b[39m\u001b[39m*\u001b[39moptions)\n",
      "File \u001b[1;32mc:\\Users\\masak\\anaconda3\\envs\\test\\lib\\site-packages\\scipy\\optimize\\_slsqp_py.py:374\u001b[0m, in \u001b[0;36m_minimize_slsqp\u001b[1;34m(func, x0, args, jac, bounds, constraints, maxiter, ftol, iprint, disp, eps, callback, finite_diff_rel_step, **unknown_options)\u001b[0m\n\u001b[0;32m    371\u001b[0m     xu[infbnd[:, \u001b[39m1\u001b[39m]] \u001b[39m=\u001b[39m np\u001b[39m.\u001b[39mnan\n\u001b[0;32m    373\u001b[0m \u001b[39m# ScalarFunction provides function and gradient evaluation\u001b[39;00m\n\u001b[1;32m--> 374\u001b[0m sf \u001b[39m=\u001b[39m _prepare_scalar_function(func, x, jac\u001b[39m=\u001b[39;49mjac, args\u001b[39m=\u001b[39;49margs, epsilon\u001b[39m=\u001b[39;49meps,\n\u001b[0;32m    375\u001b[0m                               finite_diff_rel_step\u001b[39m=\u001b[39;49mfinite_diff_rel_step,\n\u001b[0;32m    376\u001b[0m                               bounds\u001b[39m=\u001b[39;49mnew_bounds)\n\u001b[0;32m    377\u001b[0m \u001b[39m# gh11403 SLSQP sometimes exceeds bounds by 1 or 2 ULP, make sure this\u001b[39;00m\n\u001b[0;32m    378\u001b[0m \u001b[39m# doesn't get sent to the func/grad evaluator.\u001b[39;00m\n\u001b[0;32m    379\u001b[0m wrapped_fun \u001b[39m=\u001b[39m _clip_x_for_func(sf\u001b[39m.\u001b[39mfun, new_bounds)\n",
      "File \u001b[1;32mc:\\Users\\masak\\anaconda3\\envs\\test\\lib\\site-packages\\scipy\\optimize\\_optimize.py:383\u001b[0m, in \u001b[0;36m_prepare_scalar_function\u001b[1;34m(fun, x0, jac, args, bounds, epsilon, finite_diff_rel_step, hess)\u001b[0m\n\u001b[0;32m    379\u001b[0m     bounds \u001b[39m=\u001b[39m (\u001b[39m-\u001b[39mnp\u001b[39m.\u001b[39minf, np\u001b[39m.\u001b[39minf)\n\u001b[0;32m    381\u001b[0m \u001b[39m# ScalarFunction caches. Reuse of fun(x) during grad\u001b[39;00m\n\u001b[0;32m    382\u001b[0m \u001b[39m# calculation reduces overall function evaluations.\u001b[39;00m\n\u001b[1;32m--> 383\u001b[0m sf \u001b[39m=\u001b[39m ScalarFunction(fun, x0, args, grad, hess,\n\u001b[0;32m    384\u001b[0m                     finite_diff_rel_step, bounds, epsilon\u001b[39m=\u001b[39;49mepsilon)\n\u001b[0;32m    386\u001b[0m \u001b[39mreturn\u001b[39;00m sf\n",
      "File \u001b[1;32mc:\\Users\\masak\\anaconda3\\envs\\test\\lib\\site-packages\\scipy\\optimize\\_differentiable_functions.py:158\u001b[0m, in \u001b[0;36mScalarFunction.__init__\u001b[1;34m(self, fun, x0, args, grad, hess, finite_diff_rel_step, finite_diff_bounds, epsilon)\u001b[0m\n\u001b[0;32m    155\u001b[0m     \u001b[39mself\u001b[39m\u001b[39m.\u001b[39mf \u001b[39m=\u001b[39m fun_wrapped(\u001b[39mself\u001b[39m\u001b[39m.\u001b[39mx)\n\u001b[0;32m    157\u001b[0m \u001b[39mself\u001b[39m\u001b[39m.\u001b[39m_update_fun_impl \u001b[39m=\u001b[39m update_fun\n\u001b[1;32m--> 158\u001b[0m \u001b[39mself\u001b[39;49m\u001b[39m.\u001b[39;49m_update_fun()\n\u001b[0;32m    160\u001b[0m \u001b[39m# Gradient evaluation\u001b[39;00m\n\u001b[0;32m    161\u001b[0m \u001b[39mif\u001b[39;00m \u001b[39mcallable\u001b[39m(grad):\n",
      "File \u001b[1;32mc:\\Users\\masak\\anaconda3\\envs\\test\\lib\\site-packages\\scipy\\optimize\\_differentiable_functions.py:251\u001b[0m, in \u001b[0;36mScalarFunction._update_fun\u001b[1;34m(self)\u001b[0m\n\u001b[0;32m    249\u001b[0m \u001b[39mdef\u001b[39;00m \u001b[39m_update_fun\u001b[39m(\u001b[39mself\u001b[39m):\n\u001b[0;32m    250\u001b[0m     \u001b[39mif\u001b[39;00m \u001b[39mnot\u001b[39;00m \u001b[39mself\u001b[39m\u001b[39m.\u001b[39mf_updated:\n\u001b[1;32m--> 251\u001b[0m         \u001b[39mself\u001b[39;49m\u001b[39m.\u001b[39;49m_update_fun_impl()\n\u001b[0;32m    252\u001b[0m         \u001b[39mself\u001b[39m\u001b[39m.\u001b[39mf_updated \u001b[39m=\u001b[39m \u001b[39mTrue\u001b[39;00m\n",
      "File \u001b[1;32mc:\\Users\\masak\\anaconda3\\envs\\test\\lib\\site-packages\\scipy\\optimize\\_differentiable_functions.py:155\u001b[0m, in \u001b[0;36mScalarFunction.__init__.<locals>.update_fun\u001b[1;34m()\u001b[0m\n\u001b[0;32m    154\u001b[0m \u001b[39mdef\u001b[39;00m \u001b[39mupdate_fun\u001b[39m():\n\u001b[1;32m--> 155\u001b[0m     \u001b[39mself\u001b[39m\u001b[39m.\u001b[39mf \u001b[39m=\u001b[39m fun_wrapped(\u001b[39mself\u001b[39;49m\u001b[39m.\u001b[39;49mx)\n",
      "File \u001b[1;32mc:\\Users\\masak\\anaconda3\\envs\\test\\lib\\site-packages\\scipy\\optimize\\_differentiable_functions.py:137\u001b[0m, in \u001b[0;36mScalarFunction.__init__.<locals>.fun_wrapped\u001b[1;34m(x)\u001b[0m\n\u001b[0;32m    133\u001b[0m \u001b[39mself\u001b[39m\u001b[39m.\u001b[39mnfev \u001b[39m+\u001b[39m\u001b[39m=\u001b[39m \u001b[39m1\u001b[39m\n\u001b[0;32m    134\u001b[0m \u001b[39m# Send a copy because the user may overwrite it.\u001b[39;00m\n\u001b[0;32m    135\u001b[0m \u001b[39m# Overwriting results in undefined behaviour because\u001b[39;00m\n\u001b[0;32m    136\u001b[0m \u001b[39m# fun(self.x) will change self.x, with the two no longer linked.\u001b[39;00m\n\u001b[1;32m--> 137\u001b[0m fx \u001b[39m=\u001b[39m fun(np\u001b[39m.\u001b[39;49mcopy(x), \u001b[39m*\u001b[39;49margs)\n\u001b[0;32m    138\u001b[0m \u001b[39m# Make sure the function returns a true scalar\u001b[39;00m\n\u001b[0;32m    139\u001b[0m \u001b[39mif\u001b[39;00m \u001b[39mnot\u001b[39;00m np\u001b[39m.\u001b[39misscalar(fx):\n",
      "\u001b[1;31mTypeError\u001b[0m: objective() takes 3 positional arguments but 5 were given"
     ]
    }
   ],
   "source": [
    "import numpy as np\n",
    "from scipy.optimize import minimize\n",
    "from sklearn.metrics import roc_auc_score\n",
    "\n",
    "# 3つのモデルの確率値\n",
    "probs_model1 = np.array([0.2, 0.4, 0.6, 0.8])\n",
    "probs_model2 = np.array([0.3, 0.5, 0.7, 0.9])\n",
    "probs_model3 = np.array([0.1, 0.3, 0.5, 0.7])\n",
    "\n",
    "# 真のラベル\n",
    "true_labels = np.array([0, 1, 0, 1])\n",
    "\n",
    "# 目的関数の定義\n",
    "def objective(weights, probs_list, true_labels):\n",
    "    weighted_probs = np.dot(weights, probs_list)\n",
    "    auc = roc_auc_score(true_labels, weighted_probs)\n",
    "    return -auc  # 最大化するためにマイナスをかける\n",
    "\n",
    "# 初期の重みの設定\n",
    "initial_weights = np.ones(3) / 3  # 3つのモデルのために均等な重みで初期化\n",
    "\n",
    "# 制約条件\n",
    "constraints = ({'type': 'eq', 'fun': lambda w: np.sum(w) - 1})  # 重みの合計は1になるように制約\n",
    "\n",
    "# 最適化の実行\n",
    "result = minimize(objective, initial_weights, args=(probs_model1, probs_model2, probs_model3, true_labels),\n",
    "                  constraints=constraints)\n",
    "\n",
    "# 最適な重み\n",
    "optimal_weights = result.x\n",
    "print(\"Optimal Weights:\", optimal_weights)\n",
    "\n",
    "# 最適な重みで計算された確率値\n",
    "optimal_weighted_probs = np.dot(optimal_weights, [probs_model1, probs_model2, probs_model3])\n",
    "\n",
    "# 最適な重みで計算されたAUC\n",
    "optimal_auc = roc_auc_score(true_labels, optimal_weighted_probs)\n",
    "print(\"Optimal AUC:\", optimal_auc)\n"
   ]
  }
 ],
 "metadata": {
  "kernelspec": {
   "display_name": "test",
   "language": "python",
   "name": "python3"
  },
  "language_info": {
   "codemirror_mode": {
    "name": "ipython",
    "version": 3
   },
   "file_extension": ".py",
   "mimetype": "text/x-python",
   "name": "python",
   "nbconvert_exporter": "python",
   "pygments_lexer": "ipython3",
   "version": "3.9.16"
  }
 },
 "nbformat": 4,
 "nbformat_minor": 2
}
