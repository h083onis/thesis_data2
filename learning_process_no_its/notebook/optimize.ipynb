{
 "cells": [
  {
   "cell_type": "code",
   "execution_count": 1,
   "metadata": {},
   "outputs": [],
   "source": [
    "import pickle\n",
    "project = 'qt'\n",
    "with open('../resource/'+project+'_train.pkl', 'rb') as f_train, open('../resource/'+project+'_test.pkl', 'rb') as f_test:\n",
    "        tr_data = pickle.load(f_train)\n",
    "        te_data = pickle.load(f_test)\n",
    "pred_list = []\n",
    "kinds = ['train', 'test']\n",
    "models = ['lgb', 'code_cnn', 'msg_tf']\n",
    "for kind in kinds:\n",
    "    for model in models:\n",
    "        with open('../pred/'+project+'-'+model+'-'+'random'+'-'+kind+'.pkl', 'rb') as f:\n",
    "            pred_list.append(pickle.load(f))\n",
    "tr_pred = [[pred_list[0][j], pred_list[1][j], pred_list[2][j]] for j in range(len(pred_list[0]))]\n",
    "te_pred = [[pred_list[3][j], pred_list[4][j], pred_list[5][j]] for j in range(len(pred_list[3]))]                \n",
    "tr_data = [tr_pred, tr_data[5]]\n",
    "te_data = [te_pred, te_data[5]]"
   ]
  },
  {
   "cell_type": "code",
   "execution_count": 26,
   "metadata": {},
   "outputs": [
    {
     "data": {
      "text/plain": [
       "array([0.07693368, 0.35020531, 0.03905198, ..., 0.18881377, 0.05588778,\n",
       "       0.09425423])"
      ]
     },
     "execution_count": 26,
     "metadata": {},
     "output_type": "execute_result"
    }
   ],
   "source": [
    "pred_list[0]"
   ]
  },
  {
   "cell_type": "code",
   "execution_count": 2,
   "metadata": {},
   "outputs": [
    {
     "name": "stdout",
     "output_type": "stream",
     "text": [
      "[0.33333333 0.33333333 0.33333333]\n",
      "0.8119628528480407\n",
      "[1.33333333 0.33333333 0.33333333]\n",
      "0.7965049284096011\n",
      "[0.33333333 1.33333333 0.33333333]\n",
      "0.8093564669412117\n",
      "[0.33333333 0.33333333 1.33333333]\n",
      "0.7769672161541041\n",
      "[0. 1. 0.]\n",
      "0.7913915404406081\n",
      "[0.29587585 0.70412415 0.        ]\n",
      "0.8049319597045813\n",
      "[0.51407637 0.16080973 0.3251139 ]\n",
      "0.800372989570046\n",
      "[0.26116455 0.26116455 0.26116455]\n",
      "0.8119628528480407\n",
      "[0.13875095 0.3772085  0.48404055]\n",
      "0.803747330411903\n",
      "[0.33509254 0.42082895 0.24407851]\n",
      "0.8137328953202393\n",
      "[0.42807764 0.41077577 0.16114659]\n",
      "0.8118944915731593\n",
      "[0.24914199 0.51146843 0.23938958]\n",
      "0.8131576914111613\n",
      "[0.29211726 0.46614869 0.24173405]\n",
      "0.8137027031044513\n",
      "[0.35313474 0.43887114 0.26212071]\n",
      "0.8137342837810193\n",
      "[0.32687805 0.4142856  0.31323223]\n",
      "0.8134226151729578\n",
      "[0.36905509 0.44852668 0.23702339]\n",
      "0.8136005287258651\n",
      "[0.36316741 0.4270299  0.26392928]\n",
      "0.8136600419663632\n",
      "[0.32780326 0.45023483 0.27646453]\n",
      "0.8137789323237534\n",
      "[0.31989335 0.47536854 0.25966298]\n",
      "0.8137684508060994\n",
      "[0.30633259 0.45050492 0.29916916]\n",
      "0.8136209472667496\n",
      "[0.31706792 0.45036987 0.28781684]\n",
      "0.8137308534661507\n",
      "[0.33233197 0.45499585 0.28069047]\n",
      "0.8137761009527509\n",
      "[0.32434136 0.46159415 0.26630964]\n",
      "0.8137899583358312\n",
      "[0.3294383  0.46040024 0.26051042]\n",
      "0.813781001402563\n",
      "[0.32177861 0.45923393 0.26454315]\n",
      "0.8137900672347159\n",
      "[0.31589122 0.46404582 0.26633742]\n",
      "0.8137781155821181\n",
      "[0.32241371 0.45647955 0.26723922]\n",
      "0.8137925174596221\n",
      "[0.32525676 0.453964   0.26631841]\n",
      "0.813787807582858\n",
      "[0.31993319 0.45682461 0.27023701]\n",
      "0.813785520706279\n",
      "[0.32386935 0.45537327 0.26655222]\n",
      "0.8137889237964264\n",
      "[0.32176417 0.45589849 0.26679861]\n",
      "0.8137912106730055\n",
      "[0.32200555 0.45736477 0.2689317 ]\n",
      "0.8137871269648286\n",
      "[0.32241346 0.45719293 0.26657232]\n",
      "0.8137908567516301\n",
      "[0.32283491 0.45623678 0.26719368]\n",
      "0.8137927080326703\n",
      "[0.3227925  0.45612342 0.2674057 ]\n",
      "0.8137902850324853\n",
      "[0.32296509 0.45649783 0.26680211]\n",
      "0.8137920818640832\n",
      "[0.32294451 0.45639972 0.26733875]\n",
      "0.8137924357854583\n",
      "[0.3227051  0.45577558 0.26728781]\n",
      "0.813790530054976\n",
      "[0.32294414 0.45637234 0.26736485]\n",
      "0.8137921090888043\n",
      "[0.322746   0.45628202 0.26720065]\n",
      "0.8137931164034881\n",
      "[0.32264632 0.45627534 0.26719646]\n",
      "0.8137925446843433\n",
      "[0.32274738 0.45629226 0.26715173]\n",
      "0.8137935792237481\n",
      "[0.3227704  0.45638595 0.26712544]\n",
      "0.8137933342012575\n",
      "[0.32269233 0.45626407 0.26707315]\n",
      "0.8137932253023727\n",
      "Optimal Weights: [0.32269233 0.45626407 0.26707315]\n"
     ]
    }
   ],
   "source": [
    "import numpy as np\n",
    "from scipy.optimize import minimize\n",
    "from sklearn.metrics import roc_auc_score\n",
    "\n",
    "# 仮想的なモデルの出力と真の値（目標値）の設定\n",
    "probs_model1 = pred_list[0]\n",
    "probs_model2= pred_list[1]\n",
    "probs_model3 = pred_list[2]\n",
    "true_labels = tr_data[1]\n",
    "\n",
    "# 目的関数の定義（auc）\n",
    "def objective(weights):\n",
    "    print(weights)\n",
    "    weighted_probs = weights[0] * probs_model1 + weights[1] * probs_model2 + weights[2] * probs_model3\n",
    "    auc = roc_auc_score(true_labels, weighted_probs)\n",
    "    print(auc)\n",
    "    return -auc \n",
    "\n",
    "# 初期の重みの設定\n",
    "initial_weights = np.ones(3) / 3  # 3つのモデルのために均等な重みで初期化\n",
    "\n",
    "# 制約条件\n",
    "constraints = ({'type': 'ineq', 'fun': lambda x: x},{'type': 'ineq', 'fun': lambda w: np.sum(w) - 1})  # 重みの合計は1になるように制約\n",
    "\n",
    "# 最適化の実行\n",
    "result = minimize(objective, initial_weights, constraints=constraints, method='COBYLA')\n",
    "\n",
    "# 結果の表示\n",
    "optimal_weights = result.x\n",
    "print(\"Optimal Weights:\", optimal_weights)\n"
   ]
  },
  {
   "cell_type": "code",
   "execution_count": 3,
   "metadata": {},
   "outputs": [
    {
     "data": {
      "text/plain": [
       "0.772596260438992"
      ]
     },
     "execution_count": 3,
     "metadata": {},
     "output_type": "execute_result"
    }
   ],
   "source": [
    "weighted_average2 = optimal_weights[0] * pred_list[3] + optimal_weights[1] * pred_list[4] + optimal_weights[2] * pred_list[5]\n",
    "roc_auc_score(te_data[1] ,weighted_average2)"
   ]
  },
  {
   "cell_type": "code",
   "execution_count": 1,
   "metadata": {},
   "outputs": [
    {
     "name": "stdout",
     "output_type": "stream",
     "text": [
      "Optimal Weights: [0.00000000e+00 1.00000000e+00 1.66533454e-16]\n"
     ]
    }
   ],
   "source": [
    "import numpy as np\n",
    "from scipy.optimize import minimize\n",
    "\n",
    "# 仮想的なモデルの出力と真の値（目標値）の設定\n",
    "model1_output = np.array([1.0, 2.0, 3.0])\n",
    "model2_output = np.array([1.5, 2.5, 3.5])\n",
    "model3_output = np.array([0.5, 1.5, 2.5])\n",
    "true_values = np.array([2.0, 3.0, 4.0])\n",
    "\n",
    "# 目的関数の定義（平均二乗誤差）\n",
    "def objective(weights):\n",
    "    weighted_average = weights[0] * model1_output + weights[1] * model2_output + weights[2] * model3_output\n",
    "    mse = np.mean((weighted_average - true_values)**2)\n",
    "    return mse\n",
    "\n",
    "# 初期の重みの設定\n",
    "initial_weights = np.array([0.33, 0.33, 0.33])  # 初期の重みの総和は1.0になるように設定\n",
    "\n",
    "# 最適化の実行\n",
    "result = minimize(objective, initial_weights, method='SLSQP', bounds=[(0, 1)] * 3, constraints={'type': 'eq', 'fun': lambda w: 1.0 - np.sum(w)})\n",
    "\n",
    "# 結果の表示\n",
    "optimal_weights = result.x\n",
    "print(\"Optimal Weights:\", optimal_weights)\n"
   ]
  },
  {
   "cell_type": "code",
   "execution_count": 11,
   "metadata": {},
   "outputs": [
    {
     "ename": "TypeError",
     "evalue": "objective() takes 3 positional arguments but 5 were given",
     "output_type": "error",
     "traceback": [
      "\u001b[1;31m---------------------------------------------------------------------------\u001b[0m",
      "\u001b[1;31mTypeError\u001b[0m                                 Traceback (most recent call last)",
      "\u001b[1;32mc:\\Users\\masak\\workspace\\lab\\thesis_data2\\learning_process\\notebook\\optimize.ipynb Cell 5\u001b[0m line \u001b[0;36m2\n\u001b[0;32m     <a href='vscode-notebook-cell:/c%3A/Users/masak/workspace/lab/thesis_data2/learning_process/notebook/optimize.ipynb#W4sZmlsZQ%3D%3D?line=22'>23</a>\u001b[0m constraints \u001b[39m=\u001b[39m ({\u001b[39m'\u001b[39m\u001b[39mtype\u001b[39m\u001b[39m'\u001b[39m: \u001b[39m'\u001b[39m\u001b[39meq\u001b[39m\u001b[39m'\u001b[39m, \u001b[39m'\u001b[39m\u001b[39mfun\u001b[39m\u001b[39m'\u001b[39m: \u001b[39mlambda\u001b[39;00m w: np\u001b[39m.\u001b[39msum(w) \u001b[39m-\u001b[39m \u001b[39m1\u001b[39m})  \u001b[39m# 重みの合計は1になるように制約\u001b[39;00m\n\u001b[0;32m     <a href='vscode-notebook-cell:/c%3A/Users/masak/workspace/lab/thesis_data2/learning_process/notebook/optimize.ipynb#W4sZmlsZQ%3D%3D?line=24'>25</a>\u001b[0m \u001b[39m# 最適化の実行\u001b[39;00m\n\u001b[1;32m---> <a href='vscode-notebook-cell:/c%3A/Users/masak/workspace/lab/thesis_data2/learning_process/notebook/optimize.ipynb#W4sZmlsZQ%3D%3D?line=25'>26</a>\u001b[0m result \u001b[39m=\u001b[39m minimize(objective, initial_weights, args\u001b[39m=\u001b[39;49m(probs_model1, probs_model2, probs_model3, true_labels),\n\u001b[0;32m     <a href='vscode-notebook-cell:/c%3A/Users/masak/workspace/lab/thesis_data2/learning_process/notebook/optimize.ipynb#W4sZmlsZQ%3D%3D?line=26'>27</a>\u001b[0m                   constraints\u001b[39m=\u001b[39;49mconstraints)\n\u001b[0;32m     <a href='vscode-notebook-cell:/c%3A/Users/masak/workspace/lab/thesis_data2/learning_process/notebook/optimize.ipynb#W4sZmlsZQ%3D%3D?line=28'>29</a>\u001b[0m \u001b[39m# 最適な重み\u001b[39;00m\n\u001b[0;32m     <a href='vscode-notebook-cell:/c%3A/Users/masak/workspace/lab/thesis_data2/learning_process/notebook/optimize.ipynb#W4sZmlsZQ%3D%3D?line=29'>30</a>\u001b[0m optimal_weights \u001b[39m=\u001b[39m result\u001b[39m.\u001b[39mx\n",
      "File \u001b[1;32mc:\\Users\\masak\\anaconda3\\envs\\test\\lib\\site-packages\\scipy\\optimize\\_minimize.py:719\u001b[0m, in \u001b[0;36mminimize\u001b[1;34m(fun, x0, args, method, jac, hess, hessp, bounds, constraints, tol, callback, options)\u001b[0m\n\u001b[0;32m    716\u001b[0m     res \u001b[39m=\u001b[39m _minimize_cobyla(fun, x0, args, constraints, callback\u001b[39m=\u001b[39mcallback,\n\u001b[0;32m    717\u001b[0m                            bounds\u001b[39m=\u001b[39mbounds, \u001b[39m*\u001b[39m\u001b[39m*\u001b[39moptions)\n\u001b[0;32m    718\u001b[0m \u001b[39melif\u001b[39;00m meth \u001b[39m==\u001b[39m \u001b[39m'\u001b[39m\u001b[39mslsqp\u001b[39m\u001b[39m'\u001b[39m:\n\u001b[1;32m--> 719\u001b[0m     res \u001b[39m=\u001b[39m _minimize_slsqp(fun, x0, args, jac, bounds,\n\u001b[0;32m    720\u001b[0m                           constraints, callback\u001b[39m=\u001b[39mcallback, \u001b[39m*\u001b[39m\u001b[39m*\u001b[39moptions)\n\u001b[0;32m    721\u001b[0m \u001b[39melif\u001b[39;00m meth \u001b[39m==\u001b[39m \u001b[39m'\u001b[39m\u001b[39mtrust-constr\u001b[39m\u001b[39m'\u001b[39m:\n\u001b[0;32m    722\u001b[0m     res \u001b[39m=\u001b[39m _minimize_trustregion_constr(fun, x0, args, jac, hess, hessp,\n\u001b[0;32m    723\u001b[0m                                        bounds, constraints,\n\u001b[0;32m    724\u001b[0m                                        callback\u001b[39m=\u001b[39mcallback, \u001b[39m*\u001b[39m\u001b[39m*\u001b[39moptions)\n",
      "File \u001b[1;32mc:\\Users\\masak\\anaconda3\\envs\\test\\lib\\site-packages\\scipy\\optimize\\_slsqp_py.py:374\u001b[0m, in \u001b[0;36m_minimize_slsqp\u001b[1;34m(func, x0, args, jac, bounds, constraints, maxiter, ftol, iprint, disp, eps, callback, finite_diff_rel_step, **unknown_options)\u001b[0m\n\u001b[0;32m    371\u001b[0m     xu[infbnd[:, \u001b[39m1\u001b[39m]] \u001b[39m=\u001b[39m np\u001b[39m.\u001b[39mnan\n\u001b[0;32m    373\u001b[0m \u001b[39m# ScalarFunction provides function and gradient evaluation\u001b[39;00m\n\u001b[1;32m--> 374\u001b[0m sf \u001b[39m=\u001b[39m _prepare_scalar_function(func, x, jac\u001b[39m=\u001b[39;49mjac, args\u001b[39m=\u001b[39;49margs, epsilon\u001b[39m=\u001b[39;49meps,\n\u001b[0;32m    375\u001b[0m                               finite_diff_rel_step\u001b[39m=\u001b[39;49mfinite_diff_rel_step,\n\u001b[0;32m    376\u001b[0m                               bounds\u001b[39m=\u001b[39;49mnew_bounds)\n\u001b[0;32m    377\u001b[0m \u001b[39m# gh11403 SLSQP sometimes exceeds bounds by 1 or 2 ULP, make sure this\u001b[39;00m\n\u001b[0;32m    378\u001b[0m \u001b[39m# doesn't get sent to the func/grad evaluator.\u001b[39;00m\n\u001b[0;32m    379\u001b[0m wrapped_fun \u001b[39m=\u001b[39m _clip_x_for_func(sf\u001b[39m.\u001b[39mfun, new_bounds)\n",
      "File \u001b[1;32mc:\\Users\\masak\\anaconda3\\envs\\test\\lib\\site-packages\\scipy\\optimize\\_optimize.py:383\u001b[0m, in \u001b[0;36m_prepare_scalar_function\u001b[1;34m(fun, x0, jac, args, bounds, epsilon, finite_diff_rel_step, hess)\u001b[0m\n\u001b[0;32m    379\u001b[0m     bounds \u001b[39m=\u001b[39m (\u001b[39m-\u001b[39mnp\u001b[39m.\u001b[39minf, np\u001b[39m.\u001b[39minf)\n\u001b[0;32m    381\u001b[0m \u001b[39m# ScalarFunction caches. Reuse of fun(x) during grad\u001b[39;00m\n\u001b[0;32m    382\u001b[0m \u001b[39m# calculation reduces overall function evaluations.\u001b[39;00m\n\u001b[1;32m--> 383\u001b[0m sf \u001b[39m=\u001b[39m ScalarFunction(fun, x0, args, grad, hess,\n\u001b[0;32m    384\u001b[0m                     finite_diff_rel_step, bounds, epsilon\u001b[39m=\u001b[39;49mepsilon)\n\u001b[0;32m    386\u001b[0m \u001b[39mreturn\u001b[39;00m sf\n",
      "File \u001b[1;32mc:\\Users\\masak\\anaconda3\\envs\\test\\lib\\site-packages\\scipy\\optimize\\_differentiable_functions.py:158\u001b[0m, in \u001b[0;36mScalarFunction.__init__\u001b[1;34m(self, fun, x0, args, grad, hess, finite_diff_rel_step, finite_diff_bounds, epsilon)\u001b[0m\n\u001b[0;32m    155\u001b[0m     \u001b[39mself\u001b[39m\u001b[39m.\u001b[39mf \u001b[39m=\u001b[39m fun_wrapped(\u001b[39mself\u001b[39m\u001b[39m.\u001b[39mx)\n\u001b[0;32m    157\u001b[0m \u001b[39mself\u001b[39m\u001b[39m.\u001b[39m_update_fun_impl \u001b[39m=\u001b[39m update_fun\n\u001b[1;32m--> 158\u001b[0m \u001b[39mself\u001b[39;49m\u001b[39m.\u001b[39;49m_update_fun()\n\u001b[0;32m    160\u001b[0m \u001b[39m# Gradient evaluation\u001b[39;00m\n\u001b[0;32m    161\u001b[0m \u001b[39mif\u001b[39;00m \u001b[39mcallable\u001b[39m(grad):\n",
      "File \u001b[1;32mc:\\Users\\masak\\anaconda3\\envs\\test\\lib\\site-packages\\scipy\\optimize\\_differentiable_functions.py:251\u001b[0m, in \u001b[0;36mScalarFunction._update_fun\u001b[1;34m(self)\u001b[0m\n\u001b[0;32m    249\u001b[0m \u001b[39mdef\u001b[39;00m \u001b[39m_update_fun\u001b[39m(\u001b[39mself\u001b[39m):\n\u001b[0;32m    250\u001b[0m     \u001b[39mif\u001b[39;00m \u001b[39mnot\u001b[39;00m \u001b[39mself\u001b[39m\u001b[39m.\u001b[39mf_updated:\n\u001b[1;32m--> 251\u001b[0m         \u001b[39mself\u001b[39;49m\u001b[39m.\u001b[39;49m_update_fun_impl()\n\u001b[0;32m    252\u001b[0m         \u001b[39mself\u001b[39m\u001b[39m.\u001b[39mf_updated \u001b[39m=\u001b[39m \u001b[39mTrue\u001b[39;00m\n",
      "File \u001b[1;32mc:\\Users\\masak\\anaconda3\\envs\\test\\lib\\site-packages\\scipy\\optimize\\_differentiable_functions.py:155\u001b[0m, in \u001b[0;36mScalarFunction.__init__.<locals>.update_fun\u001b[1;34m()\u001b[0m\n\u001b[0;32m    154\u001b[0m \u001b[39mdef\u001b[39;00m \u001b[39mupdate_fun\u001b[39m():\n\u001b[1;32m--> 155\u001b[0m     \u001b[39mself\u001b[39m\u001b[39m.\u001b[39mf \u001b[39m=\u001b[39m fun_wrapped(\u001b[39mself\u001b[39;49m\u001b[39m.\u001b[39;49mx)\n",
      "File \u001b[1;32mc:\\Users\\masak\\anaconda3\\envs\\test\\lib\\site-packages\\scipy\\optimize\\_differentiable_functions.py:137\u001b[0m, in \u001b[0;36mScalarFunction.__init__.<locals>.fun_wrapped\u001b[1;34m(x)\u001b[0m\n\u001b[0;32m    133\u001b[0m \u001b[39mself\u001b[39m\u001b[39m.\u001b[39mnfev \u001b[39m+\u001b[39m\u001b[39m=\u001b[39m \u001b[39m1\u001b[39m\n\u001b[0;32m    134\u001b[0m \u001b[39m# Send a copy because the user may overwrite it.\u001b[39;00m\n\u001b[0;32m    135\u001b[0m \u001b[39m# Overwriting results in undefined behaviour because\u001b[39;00m\n\u001b[0;32m    136\u001b[0m \u001b[39m# fun(self.x) will change self.x, with the two no longer linked.\u001b[39;00m\n\u001b[1;32m--> 137\u001b[0m fx \u001b[39m=\u001b[39m fun(np\u001b[39m.\u001b[39;49mcopy(x), \u001b[39m*\u001b[39;49margs)\n\u001b[0;32m    138\u001b[0m \u001b[39m# Make sure the function returns a true scalar\u001b[39;00m\n\u001b[0;32m    139\u001b[0m \u001b[39mif\u001b[39;00m \u001b[39mnot\u001b[39;00m np\u001b[39m.\u001b[39misscalar(fx):\n",
      "\u001b[1;31mTypeError\u001b[0m: objective() takes 3 positional arguments but 5 were given"
     ]
    }
   ],
   "source": [
    "import numpy as np\n",
    "from scipy.optimize import minimize\n",
    "from sklearn.metrics import roc_auc_score\n",
    "\n",
    "# 3つのモデルの確率値\n",
    "probs_model1 = np.array([0.2, 0.4, 0.6, 0.8])\n",
    "probs_model2 = np.array([0.3, 0.5, 0.7, 0.9])\n",
    "probs_model3 = np.array([0.1, 0.3, 0.5, 0.7])\n",
    "\n",
    "# 真のラベル\n",
    "true_labels = np.array([0, 1, 0, 1])\n",
    "\n",
    "# 目的関数の定義\n",
    "def objective(weights, probs_list, true_labels):\n",
    "    weighted_probs = np.dot(weights, probs_list)\n",
    "    auc = roc_auc_score(true_labels, weighted_probs)\n",
    "    return -auc  # 最大化するためにマイナスをかける\n",
    "\n",
    "# 初期の重みの設定\n",
    "initial_weights = np.ones(3) / 3  # 3つのモデルのために均等な重みで初期化\n",
    "\n",
    "# 制約条件\n",
    "constraints = ({'type': 'eq', 'fun': lambda w: np.sum(w) - 1})  # 重みの合計は1になるように制約\n",
    "\n",
    "# 最適化の実行\n",
    "result = minimize(objective, initial_weights, args=(probs_model1, probs_model2, probs_model3, true_labels),\n",
    "                  constraints=constraints)\n",
    "\n",
    "# 最適な重み\n",
    "optimal_weights = result.x\n",
    "print(\"Optimal Weights:\", optimal_weights)\n",
    "\n",
    "# 最適な重みで計算された確率値\n",
    "optimal_weighted_probs = np.dot(optimal_weights, [probs_model1, probs_model2, probs_model3])\n",
    "\n",
    "# 最適な重みで計算されたAUC\n",
    "optimal_auc = roc_auc_score(true_labels, optimal_weighted_probs)\n",
    "print(\"Optimal AUC:\", optimal_auc)\n"
   ]
  }
 ],
 "metadata": {
  "kernelspec": {
   "display_name": "test",
   "language": "python",
   "name": "python3"
  },
  "language_info": {
   "codemirror_mode": {
    "name": "ipython",
    "version": 3
   },
   "file_extension": ".py",
   "mimetype": "text/x-python",
   "name": "python",
   "nbconvert_exporter": "python",
   "pygments_lexer": "ipython3",
   "version": "3.9.16"
  }
 },
 "nbformat": 4,
 "nbformat_minor": 2
}
