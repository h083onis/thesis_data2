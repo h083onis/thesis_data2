{
 "cells": [
  {
   "cell_type": "code",
   "execution_count": 1,
   "metadata": {},
   "outputs": [],
   "source": [
    "import ast\n",
    "import astor\n",
    "from exclude_comment import exclude_comment\n"
   ]
  },
  {
   "cell_type": "code",
   "execution_count": 2,
   "metadata": {},
   "outputs": [],
   "source": [
    "with open('test.java', 'r', encoding='utf-8') as f:\n",
    "    text = f.read()"
   ]
  },
  {
   "cell_type": "code",
   "execution_count": 3,
   "metadata": {},
   "outputs": [
    {
     "name": "stdout",
     "output_type": "stream",
     "text": [
      "\n",
      "package org.apache.camel;\n",
      "\n",
      "\n",
      "public enum Category {\n",
      "    AI(\"ai\"),\n",
      "    API(\"api\"),\n",
      "    BIGDATA(\"bigdata\"),\n",
      "    BLOCKCHAIN(\"blockchain\"),\n",
      "    CACHE(\"cache\"),\n",
      "    CHAT(\"chat\"),\n",
      "    CLOUD(\"cloud\"),\n",
      "    CLUSTERING(\"clustering\"),\n",
      "    CMS(\"cms\"),\n",
      "    CONTAINER(\"container\"),\n",
      "    CORE(\"core\"),\n",
      "    DATABASE(\"database\"),\n",
      "    DOCUMENT(\"document\"),\n",
      "    FILE(\"file\"),\n",
      "    HEALTH(\"HEALTH\"),\n",
      "    HTTP(\"http\"),\n",
      "    IOT(\"iot\"),\n",
      "    MAIL(\"mail\"),\n",
      "    MANAGEMENT(\"management\"),\n",
      "    MESSAGING(\"messaging\"),\n",
      "    MOBILE(\"mobile\"),\n",
      "    MONITORING(\"monitoring\"),\n",
      "    NETWORKING(\"networking\"),\n",
      "    REST(\"rest\"),\n",
      "    RPC(\"rpc\"),\n",
      "    SAAS(\"saas\"),\n",
      "    SCHEDULING(\"scheduling\"),\n",
      "    SCRIPT(\"script\"),\n",
      "    SEARCH(\"search\"),\n",
      "    SECURITY(\"security\"),\n",
      "    SERVERLESS(\"serverless\"),\n",
      "    SOCIAL(\"social\"),\n",
      "    TESTING(\"testing\"),\n",
      "    TRANSFORMATION(\"transformation\"),\n",
      "    VALIDATION(\"validation\"),\n",
      "    WEBSERVICE(\"webservice\"),\n",
      "    WORKFLOW(\"workflow\");\n",
      "\n",
      "    private final String value;\n",
      "\n",
      "    Category(final String value) {\n",
      "        this.value = value;\n",
      "    }\n",
      "\n",
      "    \n",
      "    public String getValue() {\n",
      "        return this.value;\n",
      "    }\n",
      "    \n",
      "}\n"
     ]
    }
   ],
   "source": [
    "print(exclude_comment(text,'java'))"
   ]
  },
  {
   "cell_type": "code",
   "execution_count": 4,
   "metadata": {},
   "outputs": [],
   "source": [
    "with open('test.py', 'r', encoding='utf-8') as f:\n",
    "    text = f.read()"
   ]
  },
  {
   "cell_type": "code",
   "execution_count": 5,
   "metadata": {},
   "outputs": [],
   "source": [
    "# parsed_code = ast.parse(text)\n",
    "# # astor.to_source(parsed_code).splitlines()\n",
    "# rebuilt_source_code = \"\\n\".join(astor.to_source(parsed_code).splitlines())\n",
    "# print(rebuilt_source_code)"
   ]
  },
  {
   "cell_type": "code",
   "execution_count": 6,
   "metadata": {},
   "outputs": [
    {
     "name": "stdout",
     "output_type": "stream",
     "text": [
      "\n",
      "\n",
      "\n",
      "\n",
      "a = 1\n",
      "\n",
      "print(a)\n",
      "a = '1'\n",
      "a = '1'\n",
      "a = '1'\n",
      "a = '1'\n",
      "print('1')\n",
      "print('1')\n",
      "print('2')\n",
      "print('1')\n",
      "\n",
      "\n",
      "def test():\n",
      "   \n",
      "\n",
      "\n",
      "    print('ok')\n"
     ]
    }
   ],
   "source": [
    "print(exclude_comment(text, 'py'))"
   ]
  }
 ],
 "metadata": {
  "kernelspec": {
   "display_name": "test",
   "language": "python",
   "name": "python3"
  },
  "language_info": {
   "codemirror_mode": {
    "name": "ipython",
    "version": 3
   },
   "file_extension": ".py",
   "mimetype": "text/x-python",
   "name": "python",
   "nbconvert_exporter": "python",
   "pygments_lexer": "ipython3",
   "version": "3.9.16"
  }
 },
 "nbformat": 4,
 "nbformat_minor": 2
}
