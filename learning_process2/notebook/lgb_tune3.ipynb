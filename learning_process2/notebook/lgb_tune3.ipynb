{
 "cells": [
  {
   "cell_type": "code",
   "execution_count": 27,
   "metadata": {},
   "outputs": [],
   "source": [
    "import pickle\n",
    "project = 'openstack'\n",
    "with open('../resource/'+project+'_train.pkl', 'rb') as f_train, open('../resource/'+project+'_test.pkl', 'rb') as f_test:\n",
    "        tr_data = pickle.load(f_train)\n",
    "        te_data = pickle.load(f_test)\n",
    "pred_list = []\n",
    "kinds = ['train', 'test']\n",
    "models = ['lgb', 'msg_tf']\n",
    "for kind in kinds:\n",
    "    for model in models:\n",
    "        with open('../pred/'+project+'-'+model+'-'+'random'+'-'+kind+'.pkl', 'rb') as f:\n",
    "            pred_list.append(pickle.load(f))\n",
    "tr_pred = [[pred_list[0][j], pred_list[1][j]] for j in range(len(pred_list[0]))]\n",
    "te_pred = [[pred_list[2][j], pred_list[3][j]] for j in range(len(pred_list[3]))]                \n",
    "tr_data = [tr_pred, tr_data[5]]\n",
    "te_data = [te_pred, te_data[5]]"
   ]
  },
  {
   "cell_type": "code",
   "execution_count": 28,
   "metadata": {},
   "outputs": [],
   "source": [
    "from optuna.integration import lightgbm as lgb\n",
    "from sklearn.model_selection import StratifiedKFold\n",
    "import numpy as np\n",
    "from sklearn.metrics import log_loss, roc_auc_score\n",
    "from sklearn.utils.class_weight import compute_class_weight\n",
    "from sklearn.utils.class_weight import compute_sample_weight"
   ]
  },
  {
   "cell_type": "code",
   "execution_count": 29,
   "metadata": {},
   "outputs": [],
   "source": [
    "sample_weights = compute_sample_weight(class_weight='balanced', y=tr_data[1])"
   ]
  },
  {
   "cell_type": "code",
   "execution_count": 30,
   "metadata": {},
   "outputs": [],
   "source": [
    "lgb_train = lgb.Dataset(np.array(tr_data[0]), np.array(tr_data[1]), weight=sample_weights)"
   ]
  },
  {
   "cell_type": "code",
   "execution_count": 31,
   "metadata": {},
   "outputs": [
    {
     "name": "stderr",
     "output_type": "stream",
     "text": [
      "[I 2023-12-02 16:56:27,256] A new study created in memory with name: no-name-8073e865-38dc-4b9a-b818-000e5ef9c336\n",
      "feature_fraction, val_score: -inf:   0%|          | 0/7 [00:00<?, ?it/s]"
     ]
    },
    {
     "name": "stdout",
     "output_type": "stream",
     "text": [
      "Training until validation scores don't improve for 10 rounds\n"
     ]
    },
    {
     "name": "stderr",
     "output_type": "stream",
     "text": [
      "feature_fraction, val_score: 0.787308:  14%|#4        | 1/7 [00:00<00:01,  4.13it/s][I 2023-12-02 16:56:27,504] Trial 0 finished with value: 0.7873079842473165 and parameters: {'feature_fraction': 0.8999999999999999}. Best is trial 0 with value: 0.7873079842473165.\n",
      "feature_fraction, val_score: 0.790393:  14%|#4        | 1/7 [00:00<00:01,  4.13it/s][I 2023-12-02 16:56:27,589] Trial 1 finished with value: 0.7903929185177142 and parameters: {'feature_fraction': 0.7}. Best is trial 1 with value: 0.7903929185177142.\n",
      "feature_fraction, val_score: 0.790393:  43%|####2     | 3/7 [00:00<00:00,  8.18it/s][I 2023-12-02 16:56:27,666] Trial 2 finished with value: 0.7903929185177142 and parameters: {'feature_fraction': 0.5}. Best is trial 1 with value: 0.7903929185177142.\n",
      "feature_fraction, val_score: 0.790393:  43%|####2     | 3/7 [00:00<00:00,  8.18it/s]"
     ]
    },
    {
     "name": "stdout",
     "output_type": "stream",
     "text": [
      "Early stopping, best iteration is:\n",
      "[28]\tcv_agg's valid auc: 0.787308 + 0.00902287\n",
      "Training until validation scores don't improve for 10 rounds\n",
      "Early stopping, best iteration is:\n",
      "[5]\tcv_agg's valid auc: 0.790393 + 0.010693\n",
      "Training until validation scores don't improve for 10 rounds\n",
      "Early stopping, best iteration is:\n",
      "[5]\tcv_agg's valid auc: 0.790393 + 0.010693\n",
      "Training until validation scores don't improve for 10 rounds\n"
     ]
    },
    {
     "name": "stderr",
     "output_type": "stream",
     "text": [
      "feature_fraction, val_score: 0.790393:  43%|####2     | 3/7 [00:00<00:00,  8.18it/s][I 2023-12-02 16:56:27,753] Trial 3 finished with value: 0.7903929185177142 and parameters: {'feature_fraction': 0.4}. Best is trial 1 with value: 0.7903929185177142.\n",
      "feature_fraction, val_score: 0.790393:  71%|#######1  | 5/7 [00:00<00:00,  8.51it/s][I 2023-12-02 16:56:27,892] Trial 4 finished with value: 0.7873079842473165 and parameters: {'feature_fraction': 0.8}. Best is trial 1 with value: 0.7903929185177142.\n",
      "feature_fraction, val_score: 0.790393:  71%|#######1  | 5/7 [00:00<00:00,  8.51it/s]"
     ]
    },
    {
     "name": "stdout",
     "output_type": "stream",
     "text": [
      "Early stopping, best iteration is:\n",
      "[5]\tcv_agg's valid auc: 0.790393 + 0.010693\n",
      "Training until validation scores don't improve for 10 rounds\n",
      "Early stopping, best iteration is:\n",
      "[28]\tcv_agg's valid auc: 0.787308 + 0.00902287\n",
      "Training until validation scores don't improve for 10 rounds\n"
     ]
    },
    {
     "name": "stderr",
     "output_type": "stream",
     "text": [
      "feature_fraction, val_score: 0.790393:  71%|#######1  | 5/7 [00:00<00:00,  8.51it/s][I 2023-12-02 16:56:27,966] Trial 5 finished with value: 0.7903929185177142 and parameters: {'feature_fraction': 0.6}. Best is trial 1 with value: 0.7903929185177142.\n",
      "feature_fraction, val_score: 0.790393:  86%|########5 | 6/7 [00:00<00:00,  8.51it/s]"
     ]
    },
    {
     "name": "stdout",
     "output_type": "stream",
     "text": [
      "Early stopping, best iteration is:\n",
      "[5]\tcv_agg's valid auc: 0.790393 + 0.010693\n",
      "Training until validation scores don't improve for 10 rounds\n",
      "Early stopping, best iteration is:\n",
      "[28]\tcv_agg's valid auc: 0.787308 + 0.00902287\n"
     ]
    },
    {
     "name": "stderr",
     "output_type": "stream",
     "text": [
      "feature_fraction, val_score: 0.790393: 100%|##########| 7/7 [00:00<00:00,  8.14it/s][I 2023-12-02 16:56:28,153] Trial 6 finished with value: 0.7873079842473165 and parameters: {'feature_fraction': 1.0}. Best is trial 1 with value: 0.7903929185177142.\n",
      "feature_fraction, val_score: 0.790393: 100%|##########| 7/7 [00:00<00:00,  7.85it/s]\n",
      "num_leaves, val_score: 0.790393:   5%|5         | 1/20 [00:00<00:03,  5.02it/s][I 2023-12-02 16:56:28,356] Trial 7 finished with value: 0.7742490869642289 and parameters: {'num_leaves': 199}. Best is trial 7 with value: 0.7742490869642289.\n",
      "num_leaves, val_score: 0.790393:   5%|5         | 1/20 [00:00<00:03,  5.02it/s]"
     ]
    },
    {
     "name": "stdout",
     "output_type": "stream",
     "text": [
      "Training until validation scores don't improve for 10 rounds\n",
      "Early stopping, best iteration is:\n",
      "[3]\tcv_agg's valid auc: 0.774249 + 0.00853411\n",
      "Training until validation scores don't improve for 10 rounds\n"
     ]
    },
    {
     "name": "stderr",
     "output_type": "stream",
     "text": [
      "num_leaves, val_score: 0.790393:  10%|#         | 2/20 [00:00<00:03,  5.27it/s][I 2023-12-02 16:56:28,540] Trial 8 finished with value: 0.7741803222675557 and parameters: {'num_leaves': 192}. Best is trial 7 with value: 0.7742490869642289.\n",
      "num_leaves, val_score: 0.790393:  10%|#         | 2/20 [00:00<00:03,  5.27it/s][I 2023-12-02 16:56:28,636] Trial 9 finished with value: 0.7818062514876717 and parameters: {'num_leaves': 71}. Best is trial 9 with value: 0.7818062514876717.\n",
      "num_leaves, val_score: 0.795895:  20%|##        | 4/20 [00:00<00:01,  8.07it/s][I 2023-12-02 16:56:28,708] Trial 10 finished with value: 0.7958947068324437 and parameters: {'num_leaves': 2}. Best is trial 10 with value: 0.7958947068324437.\n",
      "num_leaves, val_score: 0.795895:  20%|##        | 4/20 [00:00<00:01,  8.07it/s]"
     ]
    },
    {
     "name": "stdout",
     "output_type": "stream",
     "text": [
      "Early stopping, best iteration is:\n",
      "[3]\tcv_agg's valid auc: 0.77418 + 0.00851005\n",
      "Training until validation scores don't improve for 10 rounds\n",
      "Early stopping, best iteration is:\n",
      "[3]\tcv_agg's valid auc: 0.781806 + 0.00852398\n",
      "Training until validation scores don't improve for 10 rounds\n",
      "Early stopping, best iteration is:\n",
      "[54]\tcv_agg's valid auc: 0.795895 + 0.00851324\n",
      "Training until validation scores don't improve for 10 rounds\n",
      "Early stopping, best iteration is:\n",
      "[3]\tcv_agg's valid auc: 0.794942 + 0.00917471\n"
     ]
    },
    {
     "name": "stderr",
     "output_type": "stream",
     "text": [
      "[I 2023-12-02 16:56:28,745] Trial 11 finished with value: 0.7949422211929416 and parameters: {'num_leaves': 7}. Best is trial 10 with value: 0.7958947068324437.\n",
      "num_leaves, val_score: 0.795895:  30%|###       | 6/20 [00:00<00:01, 10.39it/s][I 2023-12-02 16:56:28,839] Trial 12 finished with value: 0.7958947068324437 and parameters: {'num_leaves': 2}. Best is trial 10 with value: 0.7958947068324437.\n",
      "num_leaves, val_score: 0.795895:  30%|###       | 6/20 [00:00<00:01, 10.39it/s][I 2023-12-02 16:56:28,894] Trial 13 finished with value: 0.7928049645073637 and parameters: {'num_leaves': 15}. Best is trial 10 with value: 0.7958947068324437.\n",
      "num_leaves, val_score: 0.795895:  35%|###5      | 7/20 [00:00<00:01, 10.39it/s]"
     ]
    },
    {
     "name": "stdout",
     "output_type": "stream",
     "text": [
      "Training until validation scores don't improve for 10 rounds\n",
      "Early stopping, best iteration is:\n",
      "[54]\tcv_agg's valid auc: 0.795895 + 0.00851324\n",
      "Training until validation scores don't improve for 10 rounds\n",
      "Early stopping, best iteration is:\n",
      "[5]\tcv_agg's valid auc: 0.792805 + 0.0101165\n",
      "Training until validation scores don't improve for 10 rounds\n"
     ]
    },
    {
     "name": "stderr",
     "output_type": "stream",
     "text": [
      "num_leaves, val_score: 0.795895:  40%|####      | 8/20 [00:00<00:01, 10.40it/s][I 2023-12-02 16:56:29,033] Trial 14 finished with value: 0.779668356212946 and parameters: {'num_leaves': 85}. Best is trial 10 with value: 0.7958947068324437.\n",
      "num_leaves, val_score: 0.795895:  40%|####      | 8/20 [00:00<00:01, 10.40it/s][I 2023-12-02 16:56:29,089] Trial 15 finished with value: 0.7953391788514892 and parameters: {'num_leaves': 6}. Best is trial 10 with value: 0.7958947068324437.\n",
      "num_leaves, val_score: 0.795895:  45%|####5     | 9/20 [00:01<00:01, 10.40it/s]"
     ]
    },
    {
     "name": "stdout",
     "output_type": "stream",
     "text": [
      "Early stopping, best iteration is:\n",
      "[3]\tcv_agg's valid auc: 0.779668 + 0.00841241\n",
      "Training until validation scores don't improve for 10 rounds\n",
      "Early stopping, best iteration is:\n",
      "[15]\tcv_agg's valid auc: 0.795339 + 0.00992009\n",
      "Training until validation scores don't improve for 10 rounds\n",
      "Early stopping, best iteration is:\n",
      "[3]\tcv_agg's valid auc: 0.780844 + 0.00863295\n"
     ]
    },
    {
     "name": "stderr",
     "output_type": "stream",
     "text": [
      "num_leaves, val_score: 0.795895:  50%|#####     | 10/20 [00:01<00:00, 10.44it/s][I 2023-12-02 16:56:29,222] Trial 16 finished with value: 0.7808441042725633 and parameters: {'num_leaves': 75}. Best is trial 10 with value: 0.7958947068324437.\n",
      "num_leaves, val_score: 0.795895:  50%|#####     | 10/20 [00:01<00:00, 10.44it/s][I 2023-12-02 16:56:29,371] Trial 17 finished with value: 0.7772370217145824 and parameters: {'num_leaves': 115}. Best is trial 10 with value: 0.7958947068324437.\n",
      "num_leaves, val_score: 0.795895:  55%|#####5    | 11/20 [00:01<00:00, 10.44it/s]"
     ]
    },
    {
     "name": "stdout",
     "output_type": "stream",
     "text": [
      "Training until validation scores don't improve for 10 rounds\n",
      "Early stopping, best iteration is:\n",
      "[3]\tcv_agg's valid auc: 0.777237 + 0.00804802\n",
      "Training until validation scores don't improve for 10 rounds\n",
      "Early stopping, best iteration is:\n",
      "[3]\tcv_agg's valid auc: 0.786978 + 0.00913896\n"
     ]
    },
    {
     "name": "stderr",
     "output_type": "stream",
     "text": [
      "num_leaves, val_score: 0.795895:  60%|######    | 12/20 [00:01<00:00,  9.66it/s][I 2023-12-02 16:56:29,460] Trial 18 finished with value: 0.7869779894322767 and parameters: {'num_leaves': 50}. Best is trial 10 with value: 0.7958947068324437.\n",
      "num_leaves, val_score: 0.795895:  60%|######    | 12/20 [00:01<00:00,  9.66it/s]"
     ]
    },
    {
     "name": "stdout",
     "output_type": "stream",
     "text": [
      "Training until validation scores don't improve for 10 rounds\n"
     ]
    },
    {
     "name": "stderr",
     "output_type": "stream",
     "text": [
      "num_leaves, val_score: 0.795895:  65%|######5   | 13/20 [00:01<00:00,  7.40it/s][I 2023-12-02 16:56:29,724] Trial 19 finished with value: 0.7742043186629252 and parameters: {'num_leaves': 244}. Best is trial 10 with value: 0.7958947068324437.\n",
      "num_leaves, val_score: 0.795895:  65%|######5   | 13/20 [00:01<00:00,  7.40it/s][I 2023-12-02 16:56:29,808] Trial 20 finished with value: 0.7896283698081482 and parameters: {'num_leaves': 40}. Best is trial 10 with value: 0.7958947068324437.\n",
      "num_leaves, val_score: 0.795895:  75%|#######5  | 15/20 [00:01<00:00,  8.67it/s][I 2023-12-02 16:56:29,883] Trial 21 finished with value: 0.7958947068324437 and parameters: {'num_leaves': 2}. Best is trial 10 with value: 0.7958947068324437.\n",
      "num_leaves, val_score: 0.795895:  75%|#######5  | 15/20 [00:01<00:00,  8.67it/s]"
     ]
    },
    {
     "name": "stdout",
     "output_type": "stream",
     "text": [
      "Early stopping, best iteration is:\n",
      "[3]\tcv_agg's valid auc: 0.774204 + 0.00875069\n",
      "Training until validation scores don't improve for 10 rounds\n",
      "Early stopping, best iteration is:\n",
      "[3]\tcv_agg's valid auc: 0.789628 + 0.0100942\n",
      "Training until validation scores don't improve for 10 rounds\n",
      "Early stopping, best iteration is:\n",
      "[54]\tcv_agg's valid auc: 0.795895 + 0.00851324\n",
      "Training until validation scores don't improve for 10 rounds\n"
     ]
    },
    {
     "name": "stderr",
     "output_type": "stream",
     "text": [
      "num_leaves, val_score: 0.795895:  75%|#######5  | 15/20 [00:01<00:00,  8.67it/s][I 2023-12-02 16:56:29,980] Trial 22 finished with value: 0.7896408124075392 and parameters: {'num_leaves': 39}. Best is trial 10 with value: 0.7958947068324437.\n",
      "num_leaves, val_score: 0.796472:  85%|########5 | 17/20 [00:01<00:00,  9.43it/s][I 2023-12-02 16:56:30,058] Trial 23 finished with value: 0.7964715072499411 and parameters: {'num_leaves': 3}. Best is trial 23 with value: 0.7964715072499411.\n",
      "num_leaves, val_score: 0.796472:  85%|########5 | 17/20 [00:01<00:00,  9.43it/s][I 2023-12-02 16:56:30,138] Trial 24 finished with value: 0.7896954795263402 and parameters: {'num_leaves': 38}. Best is trial 23 with value: 0.7964715072499411.\n",
      "num_leaves, val_score: 0.796472:  90%|######### | 18/20 [00:01<00:00,  9.43it/s]"
     ]
    },
    {
     "name": "stdout",
     "output_type": "stream",
     "text": [
      "Early stopping, best iteration is:\n",
      "[5]\tcv_agg's valid auc: 0.789641 + 0.0104765\n",
      "Training until validation scores don't improve for 10 rounds\n",
      "Early stopping, best iteration is:\n",
      "[43]\tcv_agg's valid auc: 0.796472 + 0.00810764\n",
      "Training until validation scores don't improve for 10 rounds\n",
      "Early stopping, best iteration is:\n",
      "[5]\tcv_agg's valid auc: 0.789695 + 0.0103703\n",
      "Training until validation scores don't improve for 10 rounds\n"
     ]
    },
    {
     "name": "stderr",
     "output_type": "stream",
     "text": [
      "num_leaves, val_score: 0.796472:  95%|#########5| 19/20 [00:02<00:00,  9.25it/s][I 2023-12-02 16:56:30,285] Trial 25 finished with value: 0.7772370217145824 and parameters: {'num_leaves': 115}. Best is trial 23 with value: 0.7964715072499411.\n",
      "num_leaves, val_score: 0.796472: 100%|##########| 20/20 [00:02<00:00,  8.52it/s][I 2023-12-02 16:56:30,442] Trial 26 finished with value: 0.7751601130701916 and parameters: {'num_leaves': 155}. Best is trial 23 with value: 0.7964715072499411.\n",
      "num_leaves, val_score: 0.796472: 100%|##########| 20/20 [00:02<00:00,  8.75it/s]\n"
     ]
    },
    {
     "name": "stdout",
     "output_type": "stream",
     "text": [
      "Early stopping, best iteration is:\n",
      "[3]\tcv_agg's valid auc: 0.777237 + 0.00804802\n",
      "Training until validation scores don't improve for 10 rounds\n",
      "Early stopping, best iteration is:\n",
      "[3]\tcv_agg's valid auc: 0.77516 + 0.00881308\n"
     ]
    },
    {
     "name": "stderr",
     "output_type": "stream",
     "text": [
      "bagging, val_score: 0.796472:   0%|          | 0/10 [00:00<?, ?it/s]"
     ]
    },
    {
     "name": "stdout",
     "output_type": "stream",
     "text": [
      "Training until validation scores don't improve for 10 rounds\n"
     ]
    },
    {
     "name": "stderr",
     "output_type": "stream",
     "text": [
      "bagging, val_score: 0.796483:   0%|          | 0/10 [00:00<?, ?it/s][I 2023-12-02 16:56:30,545] Trial 27 finished with value: 0.7964831848285701 and parameters: {'bagging_fraction': 0.994608239386797, 'bagging_freq': 7}. Best is trial 27 with value: 0.7964831848285701.\n",
      "bagging, val_score: 0.796483:  20%|##        | 2/10 [00:00<00:00, 11.17it/s][I 2023-12-02 16:56:30,627] Trial 28 finished with value: 0.7964796098477234 and parameters: {'bagging_fraction': 0.9881956211027999, 'bagging_freq': 7}. Best is trial 27 with value: 0.7964831848285701.\n",
      "bagging, val_score: 0.796483:  20%|##        | 2/10 [00:00<00:00, 11.17it/s]"
     ]
    },
    {
     "name": "stdout",
     "output_type": "stream",
     "text": [
      "Early stopping, best iteration is:\n",
      "[39]\tcv_agg's valid auc: 0.796483 + 0.00835596\n",
      "Training until validation scores don't improve for 10 rounds\n",
      "Early stopping, best iteration is:\n",
      "[39]\tcv_agg's valid auc: 0.79648 + 0.00829116\n",
      "Training until validation scores don't improve for 10 rounds\n"
     ]
    },
    {
     "name": "stderr",
     "output_type": "stream",
     "text": [
      "bagging, val_score: 0.796807:  20%|##        | 2/10 [00:00<00:00, 11.17it/s][I 2023-12-02 16:56:30,709] Trial 29 finished with value: 0.796806581368257 and parameters: {'bagging_fraction': 0.9809666607713396, 'bagging_freq': 7}. Best is trial 29 with value: 0.796806581368257.\n",
      "bagging, val_score: 0.796807:  30%|###       | 3/10 [00:00<00:00, 11.17it/s]"
     ]
    },
    {
     "name": "stdout",
     "output_type": "stream",
     "text": [
      "Early stopping, best iteration is:\n",
      "[43]\tcv_agg's valid auc: 0.796807 + 0.00877266\n",
      "Training until validation scores don't improve for 10 rounds\n"
     ]
    },
    {
     "name": "stderr",
     "output_type": "stream",
     "text": [
      "bagging, val_score: 0.796807:  40%|####      | 4/10 [00:00<00:00, 12.08it/s][I 2023-12-02 16:56:30,783] Trial 30 finished with value: 0.7964637437697801 and parameters: {'bagging_fraction': 0.9699659592332659, 'bagging_freq': 7}. Best is trial 29 with value: 0.796806581368257.\n",
      "bagging, val_score: 0.796807:  40%|####      | 4/10 [00:00<00:00, 12.08it/s][I 2023-12-02 16:56:30,856] Trial 31 finished with value: 0.7967283379471065 and parameters: {'bagging_fraction': 0.997665383091765, 'bagging_freq': 7}. Best is trial 29 with value: 0.796806581368257.\n",
      "bagging, val_score: 0.796807:  50%|#####     | 5/10 [00:00<00:00, 12.08it/s]"
     ]
    },
    {
     "name": "stdout",
     "output_type": "stream",
     "text": [
      "Early stopping, best iteration is:\n",
      "[35]\tcv_agg's valid auc: 0.796464 + 0.00900871\n",
      "Training until validation scores don't improve for 10 rounds\n",
      "Early stopping, best iteration is:\n",
      "[39]\tcv_agg's valid auc: 0.796728 + 0.0084939\n",
      "Training until validation scores don't improve for 10 rounds\n"
     ]
    },
    {
     "name": "stderr",
     "output_type": "stream",
     "text": [
      "bagging, val_score: 0.796807:  60%|######    | 6/10 [00:00<00:00, 12.15it/s][I 2023-12-02 16:56:30,946] Trial 32 finished with value: 0.7964201926682103 and parameters: {'bagging_fraction': 0.9961233676476577, 'bagging_freq': 7}. Best is trial 29 with value: 0.796806581368257.\n",
      "bagging, val_score: 0.796807:  60%|######    | 6/10 [00:00<00:00, 12.15it/s]"
     ]
    },
    {
     "name": "stdout",
     "output_type": "stream",
     "text": [
      "Early stopping, best iteration is:\n",
      "[49]\tcv_agg's valid auc: 0.79642 + 0.00805436\n",
      "Training until validation scores don't improve for 10 rounds\n"
     ]
    },
    {
     "name": "stderr",
     "output_type": "stream",
     "text": [
      "bagging, val_score: 0.796807:  60%|######    | 6/10 [00:00<00:00, 12.15it/s][I 2023-12-02 16:56:31,031] Trial 33 finished with value: 0.7965604541747435 and parameters: {'bagging_fraction': 0.9877462644403576, 'bagging_freq': 7}. Best is trial 29 with value: 0.796806581368257.\n",
      "bagging, val_score: 0.796807:  80%|########  | 8/10 [00:00<00:00, 12.31it/s][I 2023-12-02 16:56:31,105] Trial 34 finished with value: 0.7967698137455749 and parameters: {'bagging_fraction': 0.99730723157002, 'bagging_freq': 7}. Best is trial 29 with value: 0.796806581368257.\n",
      "bagging, val_score: 0.796807:  80%|########  | 8/10 [00:00<00:00, 12.31it/s]"
     ]
    },
    {
     "name": "stdout",
     "output_type": "stream",
     "text": [
      "Early stopping, best iteration is:\n",
      "[41]\tcv_agg's valid auc: 0.79656 + 0.00838204\n",
      "Training until validation scores don't improve for 10 rounds\n",
      "Early stopping, best iteration is:\n",
      "[39]\tcv_agg's valid auc: 0.79677 + 0.00830666\n",
      "Training until validation scores don't improve for 10 rounds\n"
     ]
    },
    {
     "name": "stderr",
     "output_type": "stream",
     "text": [
      "bagging, val_score: 0.796807:  80%|########  | 8/10 [00:00<00:00, 12.31it/s][I 2023-12-02 16:56:31,198] Trial 35 finished with value: 0.7966695306650335 and parameters: {'bagging_fraction': 0.5638695116652219, 'bagging_freq': 4}. Best is trial 29 with value: 0.796806581368257.\n",
      "bagging, val_score: 0.796807:  90%|######### | 9/10 [00:00<00:00, 12.31it/s]"
     ]
    },
    {
     "name": "stdout",
     "output_type": "stream",
     "text": [
      "Early stopping, best iteration is:\n",
      "[49]\tcv_agg's valid auc: 0.79667 + 0.00819766\n",
      "Training until validation scores don't improve for 10 rounds\n"
     ]
    },
    {
     "name": "stderr",
     "output_type": "stream",
     "text": [
      "bagging, val_score: 0.797318: 100%|##########| 10/10 [00:00<00:00, 11.99it/s][I 2023-12-02 16:56:31,279] Trial 36 finished with value: 0.7973181283649338 and parameters: {'bagging_fraction': 0.5093593353901102, 'bagging_freq': 4}. Best is trial 36 with value: 0.7973181283649338.\n",
      "bagging, val_score: 0.797318: 100%|##########| 10/10 [00:00<00:00, 11.99it/s]\n"
     ]
    },
    {
     "name": "stdout",
     "output_type": "stream",
     "text": [
      "Early stopping, best iteration is:\n",
      "[41]\tcv_agg's valid auc: 0.797318 + 0.00805453\n"
     ]
    },
    {
     "name": "stderr",
     "output_type": "stream",
     "text": [
      "feature_fraction_stage2, val_score: 0.797318:   0%|          | 0/6 [00:00<?, ?it/s][I 2023-12-02 16:56:31,365] Trial 37 finished with value: 0.7973181283649338 and parameters: {'feature_fraction': 0.652}. Best is trial 37 with value: 0.7973181283649338.\n",
      "feature_fraction_stage2, val_score: 0.797318:  17%|#6        | 1/6 [00:00<00:00, 12.27it/s]"
     ]
    },
    {
     "name": "stdout",
     "output_type": "stream",
     "text": [
      "Training until validation scores don't improve for 10 rounds\n",
      "Early stopping, best iteration is:\n",
      "[41]\tcv_agg's valid auc: 0.797318 + 0.00805453\n",
      "Training until validation scores don't improve for 10 rounds\n"
     ]
    },
    {
     "name": "stderr",
     "output_type": "stream",
     "text": [
      "feature_fraction_stage2, val_score: 0.797318:  33%|###3      | 2/6 [00:00<00:00, 13.03it/s][I 2023-12-02 16:56:31,439] Trial 38 finished with value: 0.7973181283649338 and parameters: {'feature_fraction': 0.62}. Best is trial 37 with value: 0.7973181283649338.\n",
      "feature_fraction_stage2, val_score: 0.797318:  33%|###3      | 2/6 [00:00<00:00, 13.03it/s]"
     ]
    },
    {
     "name": "stdout",
     "output_type": "stream",
     "text": [
      "Early stopping, best iteration is:\n",
      "[41]\tcv_agg's valid auc: 0.797318 + 0.00805453\n",
      "Training until validation scores don't improve for 10 rounds\n"
     ]
    },
    {
     "name": "stderr",
     "output_type": "stream",
     "text": [
      "feature_fraction_stage2, val_score: 0.797318:  33%|###3      | 2/6 [00:00<00:00, 13.03it/s][I 2023-12-02 16:56:31,517] Trial 39 finished with value: 0.7973181283649338 and parameters: {'feature_fraction': 0.716}. Best is trial 37 with value: 0.7973181283649338.\n",
      "feature_fraction_stage2, val_score: 0.797318:  67%|######6   | 4/6 [00:00<00:00, 12.17it/s][I 2023-12-02 16:56:31,612] Trial 40 finished with value: 0.7973181283649338 and parameters: {'feature_fraction': 0.6839999999999999}. Best is trial 37 with value: 0.7973181283649338.\n",
      "feature_fraction_stage2, val_score: 0.797318:  67%|######6   | 4/6 [00:00<00:00, 12.17it/s]"
     ]
    },
    {
     "name": "stdout",
     "output_type": "stream",
     "text": [
      "Early stopping, best iteration is:\n",
      "[41]\tcv_agg's valid auc: 0.797318 + 0.00805453\n",
      "Training until validation scores don't improve for 10 rounds\n",
      "Early stopping, best iteration is:\n",
      "[41]\tcv_agg's valid auc: 0.797318 + 0.00805453\n",
      "Training until validation scores don't improve for 10 rounds\n"
     ]
    },
    {
     "name": "stderr",
     "output_type": "stream",
     "text": [
      "feature_fraction_stage2, val_score: 0.797318:  67%|######6   | 4/6 [00:00<00:00, 12.17it/s]"
     ]
    },
    {
     "name": "stdout",
     "output_type": "stream",
     "text": [
      "Early stopping, best iteration is:\n",
      "[64]\tcv_agg's valid auc: 0.796514 + 0.0079344\n"
     ]
    },
    {
     "name": "stderr",
     "output_type": "stream",
     "text": [
      "[I 2023-12-02 16:56:31,720] Trial 41 finished with value: 0.7965143453093455 and parameters: {'feature_fraction': 0.7799999999999999}. Best is trial 37 with value: 0.7973181283649338.\n",
      "feature_fraction_stage2, val_score: 0.797318: 100%|##########| 6/6 [00:00<00:00, 11.53it/s][I 2023-12-02 16:56:31,796] Trial 42 finished with value: 0.7973181283649338 and parameters: {'feature_fraction': 0.748}. Best is trial 37 with value: 0.7973181283649338.\n",
      "feature_fraction_stage2, val_score: 0.797318: 100%|##########| 6/6 [00:00<00:00, 11.70it/s]\n"
     ]
    },
    {
     "name": "stdout",
     "output_type": "stream",
     "text": [
      "Training until validation scores don't improve for 10 rounds\n",
      "Early stopping, best iteration is:\n",
      "[41]\tcv_agg's valid auc: 0.797318 + 0.00805453\n"
     ]
    },
    {
     "name": "stderr",
     "output_type": "stream",
     "text": [
      "regularization_factors, val_score: 0.797318:   0%|          | 0/20 [00:00<?, ?it/s][I 2023-12-02 16:56:31,880] Trial 43 finished with value: 0.7973181283649338 and parameters: {'lambda_l1': 0.00010546363387606632, 'lambda_l2': 3.8026854903117e-06}. Best is trial 43 with value: 0.7973181283649338.\n",
      "regularization_factors, val_score: 0.797318:   5%|5         | 1/20 [00:00<00:01, 12.12it/s]"
     ]
    },
    {
     "name": "stdout",
     "output_type": "stream",
     "text": [
      "Training until validation scores don't improve for 10 rounds\n",
      "Early stopping, best iteration is:\n",
      "[41]\tcv_agg's valid auc: 0.797318 + 0.00805453\n",
      "Training until validation scores don't improve for 10 rounds\n"
     ]
    },
    {
     "name": "stderr",
     "output_type": "stream",
     "text": [
      "regularization_factors, val_score: 0.797337:  10%|#         | 2/20 [00:00<00:01, 10.26it/s][I 2023-12-02 16:56:31,993] Trial 44 finished with value: 0.797336518520682 and parameters: {'lambda_l1': 7.53846672882078, 'lambda_l2': 3.267988883570842}. Best is trial 44 with value: 0.797336518520682.\n",
      "regularization_factors, val_score: 0.797337:  10%|#         | 2/20 [00:00<00:01, 10.26it/s]"
     ]
    },
    {
     "name": "stdout",
     "output_type": "stream",
     "text": [
      "Early stopping, best iteration is:\n",
      "[65]\tcv_agg's valid auc: 0.797337 + 0.00821919\n"
     ]
    },
    {
     "name": "stderr",
     "output_type": "stream",
     "text": [
      "regularization_factors, val_score: 0.797657:  10%|#         | 2/20 [00:00<00:01, 10.26it/s][I 2023-12-02 16:56:32,101] Trial 45 finished with value: 0.7976570420102993 and parameters: {'lambda_l1': 3.5216812826255532, 'lambda_l2': 8.997679793976062}. Best is trial 45 with value: 0.7976570420102993.\n",
      "regularization_factors, val_score: 0.797657:  15%|#5        | 3/20 [00:00<00:01, 10.26it/s]"
     ]
    },
    {
     "name": "stdout",
     "output_type": "stream",
     "text": [
      "Training until validation scores don't improve for 10 rounds\n",
      "Early stopping, best iteration is:\n",
      "[64]\tcv_agg's valid auc: 0.797657 + 0.00857704\n",
      "Training until validation scores don't improve for 10 rounds\n",
      "Early stopping, best iteration is:\n",
      "[55]\tcv_agg's valid auc: 0.797745 + 0.00843742\n"
     ]
    },
    {
     "name": "stderr",
     "output_type": "stream",
     "text": [
      "regularization_factors, val_score: 0.797745:  20%|##        | 4/20 [00:00<00:01,  9.46it/s][I 2023-12-02 16:56:32,217] Trial 46 finished with value: 0.7977453943238465 and parameters: {'lambda_l1': 9.537061934452815, 'lambda_l2': 2.6737948581139275}. Best is trial 46 with value: 0.7977453943238465.\n",
      "regularization_factors, val_score: 0.797745:  25%|##5       | 5/20 [00:00<00:01,  9.52it/s][I 2023-12-02 16:56:32,321] Trial 47 finished with value: 0.7976460695614672 and parameters: {'lambda_l1': 6.216953132186669, 'lambda_l2': 7.720680011667525}. Best is trial 46 with value: 0.7977453943238465.\n",
      "regularization_factors, val_score: 0.797745:  25%|##5       | 5/20 [00:00<00:01,  9.52it/s]"
     ]
    },
    {
     "name": "stdout",
     "output_type": "stream",
     "text": [
      "Training until validation scores don't improve for 10 rounds\n",
      "Early stopping, best iteration is:\n",
      "[57]\tcv_agg's valid auc: 0.797646 + 0.00820163\n",
      "Training until validation scores don't improve for 10 rounds\n"
     ]
    },
    {
     "name": "stderr",
     "output_type": "stream",
     "text": [
      "regularization_factors, val_score: 0.797745:  25%|##5       | 5/20 [00:00<00:01,  9.52it/s]"
     ]
    },
    {
     "name": "stdout",
     "output_type": "stream",
     "text": [
      "Early stopping, best iteration is:\n",
      "[59]\tcv_agg's valid auc: 0.797507 + 0.00824459\n"
     ]
    },
    {
     "name": "stderr",
     "output_type": "stream",
     "text": [
      "regularization_factors, val_score: 0.797745:  30%|###       | 6/20 [00:00<00:01,  9.61it/s][I 2023-12-02 16:56:32,423] Trial 48 finished with value: 0.7975069331036748 and parameters: {'lambda_l1': 9.206738201710623, 'lambda_l2': 7.461591759762584}. Best is trial 46 with value: 0.7977453943238465.\n",
      "regularization_factors, val_score: 0.797745:  35%|###5      | 7/20 [00:00<00:01,  9.17it/s][I 2023-12-02 16:56:32,545] Trial 49 finished with value: 0.7976326239957088 and parameters: {'lambda_l1': 9.782323945727887, 'lambda_l2': 9.626756167614372}. Best is trial 46 with value: 0.7977453943238465.\n",
      "regularization_factors, val_score: 0.797745:  35%|###5      | 7/20 [00:00<00:01,  9.17it/s]"
     ]
    },
    {
     "name": "stdout",
     "output_type": "stream",
     "text": [
      "Training until validation scores don't improve for 10 rounds\n",
      "Early stopping, best iteration is:\n",
      "[65]\tcv_agg's valid auc: 0.797633 + 0.00873048\n",
      "Training until validation scores don't improve for 10 rounds\n",
      "Early stopping, best iteration is:\n",
      "[55]\tcv_agg's valid auc: 0.797686 + 0.00821857\n"
     ]
    },
    {
     "name": "stderr",
     "output_type": "stream",
     "text": [
      "[I 2023-12-02 16:56:32,637] Trial 50 finished with value: 0.7976859814197143 and parameters: {'lambda_l1': 6.163233893096582, 'lambda_l2': 8.780127468122478}. Best is trial 46 with value: 0.7977453943238465.\n",
      "regularization_factors, val_score: 0.797745:  45%|####5     | 9/20 [00:00<00:01,  9.72it/s][I 2023-12-02 16:56:32,735] Trial 51 finished with value: 0.7976843088130348 and parameters: {'lambda_l1': 7.3736932243315305, 'lambda_l2': 7.591481780471713}. Best is trial 46 with value: 0.7977453943238465.\n",
      "regularization_factors, val_score: 0.797745:  45%|####5     | 9/20 [00:01<00:01,  9.72it/s][I 2023-12-02 16:56:32,831] Trial 52 finished with value: 0.7976171359892702 and parameters: {'lambda_l1': 9.902826640849513, 'lambda_l2': 9.156490798259316}. Best is trial 46 with value: 0.7977453943238465.\n",
      "regularization_factors, val_score: 0.797745:  50%|#####     | 10/20 [00:01<00:01,  9.72it/s]"
     ]
    },
    {
     "name": "stdout",
     "output_type": "stream",
     "text": [
      "Training until validation scores don't improve for 10 rounds\n",
      "Early stopping, best iteration is:\n",
      "[55]\tcv_agg's valid auc: 0.797684 + 0.00828339\n",
      "Training until validation scores don't improve for 10 rounds\n",
      "Early stopping, best iteration is:\n",
      "[57]\tcv_agg's valid auc: 0.797617 + 0.00827107\n"
     ]
    },
    {
     "name": "stderr",
     "output_type": "stream",
     "text": [
      "regularization_factors, val_score: 0.797897:  55%|#####5    | 11/20 [00:01<00:01,  8.97it/s][I 2023-12-02 16:56:32,983] Trial 53 finished with value: 0.7978972620555398 and parameters: {'lambda_l1': 6.506774671876974, 'lambda_l2': 9.291937784648258}. Best is trial 53 with value: 0.7978972620555398.\n",
      "regularization_factors, val_score: 0.797897:  55%|#####5    | 11/20 [00:01<00:01,  8.97it/s]"
     ]
    },
    {
     "name": "stdout",
     "output_type": "stream",
     "text": [
      "Training until validation scores don't improve for 10 rounds\n",
      "Early stopping, best iteration is:\n",
      "[64]\tcv_agg's valid auc: 0.797897 + 0.00860506\n",
      "Training until validation scores don't improve for 10 rounds\n"
     ]
    },
    {
     "name": "stderr",
     "output_type": "stream",
     "text": [
      "regularization_factors, val_score: 0.797897:  60%|######    | 12/20 [00:01<00:00,  8.39it/s][I 2023-12-02 16:56:33,132] Trial 54 finished with value: 0.7975767677353114 and parameters: {'lambda_l1': 5.016521005767515, 'lambda_l2': 7.49071748765248}. Best is trial 53 with value: 0.7978972620555398.\n",
      "regularization_factors, val_score: 0.797897:  65%|######5   | 13/20 [00:01<00:00,  8.54it/s][I 2023-12-02 16:56:33,241] Trial 55 finished with value: 0.7975223377110489 and parameters: {'lambda_l1': 0.6008080375885905, 'lambda_l2': 7.60337897997639}. Best is trial 53 with value: 0.7978972620555398.\n",
      "regularization_factors, val_score: 0.797897:  65%|######5   | 13/20 [00:01<00:00,  8.54it/s]"
     ]
    },
    {
     "name": "stdout",
     "output_type": "stream",
     "text": [
      "Early stopping, best iteration is:\n",
      "[59]\tcv_agg's valid auc: 0.797577 + 0.00834417\n",
      "Training until validation scores don't improve for 10 rounds\n",
      "Early stopping, best iteration is:\n",
      "[49]\tcv_agg's valid auc: 0.797522 + 0.00821484\n",
      "Training until validation scores don't improve for 10 rounds\n"
     ]
    },
    {
     "name": "stderr",
     "output_type": "stream",
     "text": [
      "regularization_factors, val_score: 0.797897:  70%|#######   | 14/20 [00:01<00:00,  8.59it/s][I 2023-12-02 16:56:33,355] Trial 56 finished with value: 0.797407079709869 and parameters: {'lambda_l1': 0.0797867571654143, 'lambda_l2': 0.1998381669065629}. Best is trial 53 with value: 0.7978972620555398.\n",
      "regularization_factors, val_score: 0.797897:  70%|#######   | 14/20 [00:01<00:00,  8.59it/s][I 2023-12-02 16:56:33,451] Trial 57 finished with value: 0.7974509864641954 and parameters: {'lambda_l1': 0.17761462412774243, 'lambda_l2': 0.18768966867134718}. Best is trial 53 with value: 0.7978972620555398.\n",
      "regularization_factors, val_score: 0.797897:  75%|#######5  | 15/20 [00:01<00:00,  8.59it/s]"
     ]
    },
    {
     "name": "stdout",
     "output_type": "stream",
     "text": [
      "Early stopping, best iteration is:\n",
      "[47]\tcv_agg's valid auc: 0.797407 + 0.00803626\n",
      "Training until validation scores don't improve for 10 rounds\n",
      "Early stopping, best iteration is:\n",
      "[46]\tcv_agg's valid auc: 0.797451 + 0.00804887\n",
      "Training until validation scores don't improve for 10 rounds\n",
      "Early stopping, best iteration is:\n",
      "[47]\tcv_agg's valid auc: 0.797438 + 0.00802963\n"
     ]
    },
    {
     "name": "stderr",
     "output_type": "stream",
     "text": [
      "regularization_factors, val_score: 0.797897:  80%|########  | 16/20 [00:01<00:00,  9.27it/s][I 2023-12-02 16:56:33,548] Trial 58 finished with value: 0.7974379476635042 and parameters: {'lambda_l1': 7.575037512496732e-07, 'lambda_l2': 0.3004684658641962}. Best is trial 53 with value: 0.7978972620555398.\n",
      "regularization_factors, val_score: 0.797897:  80%|########  | 16/20 [00:01<00:00,  9.27it/s][I 2023-12-02 16:56:33,632] Trial 59 finished with value: 0.7974484539354705 and parameters: {'lambda_l1': 0.540532428627234, 'lambda_l2': 0.4803624458214181}. Best is trial 53 with value: 0.7978972620555398.\n",
      "regularization_factors, val_score: 0.797897:  90%|######### | 18/20 [00:01<00:00, 10.06it/s][I 2023-12-02 16:56:33,718] Trial 60 finished with value: 0.7972420798669894 and parameters: {'lambda_l1': 0.896833088185212, 'lambda_l2': 0.5471989504298538}. Best is trial 53 with value: 0.7978972620555398.\n",
      "regularization_factors, val_score: 0.797897:  90%|######### | 18/20 [00:01<00:00, 10.06it/s]"
     ]
    },
    {
     "name": "stdout",
     "output_type": "stream",
     "text": [
      "Training until validation scores don't improve for 10 rounds\n",
      "Early stopping, best iteration is:\n",
      "[46]\tcv_agg's valid auc: 0.797448 + 0.00816531\n",
      "Training until validation scores don't improve for 10 rounds\n",
      "Early stopping, best iteration is:\n",
      "[45]\tcv_agg's valid auc: 0.797242 + 0.00819452\n",
      "Training until validation scores don't improve for 10 rounds\n"
     ]
    },
    {
     "name": "stderr",
     "output_type": "stream",
     "text": [
      "regularization_factors, val_score: 0.797897:  95%|#########5| 19/20 [00:02<00:00,  9.69it/s][I 2023-12-02 16:56:33,836] Trial 61 finished with value: 0.7975022720353937 and parameters: {'lambda_l1': 8.818558842297167, 'lambda_l2': 9.698602234599408}. Best is trial 53 with value: 0.7978972620555398.\n",
      "regularization_factors, val_score: 0.797897: 100%|##########| 20/20 [00:02<00:00,  9.68it/s][I 2023-12-02 16:56:33,939] Trial 62 finished with value: 0.7974290712651935 and parameters: {'lambda_l1': 8.542395193473657, 'lambda_l2': 9.933178820675671}. Best is trial 53 with value: 0.7978972620555398.\n",
      "regularization_factors, val_score: 0.797897: 100%|##########| 20/20 [00:02<00:00,  9.33it/s]\n"
     ]
    },
    {
     "name": "stdout",
     "output_type": "stream",
     "text": [
      "Early stopping, best iteration is:\n",
      "[57]\tcv_agg's valid auc: 0.797502 + 0.0082437\n",
      "Training until validation scores don't improve for 10 rounds\n",
      "Early stopping, best iteration is:\n",
      "[59]\tcv_agg's valid auc: 0.797429 + 0.00820748\n"
     ]
    },
    {
     "name": "stderr",
     "output_type": "stream",
     "text": [
      "min_child_samples, val_score: 0.797897:   0%|          | 0/5 [00:00<?, ?it/s]"
     ]
    },
    {
     "name": "stdout",
     "output_type": "stream",
     "text": [
      "Training until validation scores don't improve for 10 rounds\n"
     ]
    },
    {
     "name": "stderr",
     "output_type": "stream",
     "text": [
      "min_child_samples, val_score: 0.797897:  20%|##        | 1/5 [00:00<00:00,  9.48it/s][I 2023-12-02 16:56:34,052] Trial 63 finished with value: 0.7978972620555398 and parameters: {'min_child_samples': 10}. Best is trial 63 with value: 0.7978972620555398.\n",
      "min_child_samples, val_score: 0.797897:  20%|##        | 1/5 [00:00<00:00,  9.48it/s]"
     ]
    },
    {
     "name": "stdout",
     "output_type": "stream",
     "text": [
      "Early stopping, best iteration is:\n",
      "[64]\tcv_agg's valid auc: 0.797897 + 0.00860506\n",
      "Training until validation scores don't improve for 10 rounds\n"
     ]
    },
    {
     "name": "stderr",
     "output_type": "stream",
     "text": [
      "min_child_samples, val_score: 0.797897:  40%|####      | 2/5 [00:00<00:00,  8.41it/s][I 2023-12-02 16:56:34,179] Trial 64 finished with value: 0.797855570506034 and parameters: {'min_child_samples': 50}. Best is trial 63 with value: 0.7978972620555398.\n",
      "min_child_samples, val_score: 0.797897:  40%|####      | 2/5 [00:00<00:00,  8.41it/s]"
     ]
    },
    {
     "name": "stdout",
     "output_type": "stream",
     "text": [
      "Early stopping, best iteration is:\n",
      "[64]\tcv_agg's valid auc: 0.797856 + 0.00862555\n",
      "Training until validation scores don't improve for 10 rounds\n"
     ]
    },
    {
     "name": "stderr",
     "output_type": "stream",
     "text": [
      "min_child_samples, val_score: 0.797897:  60%|######    | 3/5 [00:00<00:00,  7.74it/s][I 2023-12-02 16:56:34,322] Trial 65 finished with value: 0.7978972620555398 and parameters: {'min_child_samples': 25}. Best is trial 63 with value: 0.7978972620555398.\n",
      "min_child_samples, val_score: 0.797897:  60%|######    | 3/5 [00:00<00:00,  7.74it/s]"
     ]
    },
    {
     "name": "stdout",
     "output_type": "stream",
     "text": [
      "Early stopping, best iteration is:\n",
      "[64]\tcv_agg's valid auc: 0.797897 + 0.00860506\n",
      "Training until validation scores don't improve for 10 rounds\n"
     ]
    },
    {
     "name": "stderr",
     "output_type": "stream",
     "text": [
      "min_child_samples, val_score: 0.797897:  80%|########  | 4/5 [00:00<00:00,  7.47it/s][I 2023-12-02 16:56:34,463] Trial 66 finished with value: 0.7978972620555398 and parameters: {'min_child_samples': 5}. Best is trial 63 with value: 0.7978972620555398.\n",
      "min_child_samples, val_score: 0.797897:  80%|########  | 4/5 [00:00<00:00,  7.47it/s]"
     ]
    },
    {
     "name": "stdout",
     "output_type": "stream",
     "text": [
      "Early stopping, best iteration is:\n",
      "[64]\tcv_agg's valid auc: 0.797897 + 0.00860506\n",
      "Training until validation scores don't improve for 10 rounds\n"
     ]
    },
    {
     "name": "stderr",
     "output_type": "stream",
     "text": [
      "min_child_samples, val_score: 0.797897: 100%|##########| 5/5 [00:00<00:00,  8.20it/s][I 2023-12-02 16:56:34,564] Trial 67 finished with value: 0.7977779928450991 and parameters: {'min_child_samples': 100}. Best is trial 63 with value: 0.7978972620555398.\n",
      "min_child_samples, val_score: 0.797897: 100%|##########| 5/5 [00:00<00:00,  8.06it/s]"
     ]
    },
    {
     "name": "stdout",
     "output_type": "stream",
     "text": [
      "Early stopping, best iteration is:\n",
      "[59]\tcv_agg's valid auc: 0.797778 + 0.00825703\n"
     ]
    },
    {
     "name": "stderr",
     "output_type": "stream",
     "text": [
      "\n"
     ]
    }
   ],
   "source": [
    "folds = StratifiedKFold(n_splits=5, shuffle=True, random_state=100)\n",
    "lgb_params = {\n",
    "    'objective':'binary',\n",
    "    'metric': 'auc',\n",
    "    'verbosity':-1,\n",
    "}\n",
    "tuner_cv = lgb.LightGBMTunerCV(\n",
    "    lgb_params, lgb_train,\n",
    "    num_boost_round=1000,\n",
    "    callbacks=[lgb.early_stopping(stopping_rounds=10, verbose=True),\n",
    "                lgb.log_evaluation(100)],\n",
    "    return_cvbooster=True,\n",
    "    folds=folds\n",
    ")\n",
    "\n",
    "tuner_cv.run()"
   ]
  },
  {
   "cell_type": "code",
   "execution_count": 32,
   "metadata": {},
   "outputs": [
    {
     "name": "stdout",
     "output_type": "stream",
     "text": [
      "Best score: 0.7978972620555398\n",
      "Best params:\n",
      "{'objective': 'binary', 'metric': 'auc', 'verbosity': -1, 'feature_pre_filter': False, 'lambda_l1': 6.506774671876974, 'lambda_l2': 9.291937784648258, 'num_leaves': 3, 'feature_fraction': 0.7, 'bagging_fraction': 0.5093593353901102, 'bagging_freq': 4, 'min_child_samples': 20}\n",
      "[0.37814062 0.83823646 0.1998359  ... 0.55345093 0.19292615 0.22183884]\n",
      "0.7857714743223149\n",
      "0.6442199188061082\n"
     ]
    }
   ],
   "source": [
    "#qt logloss 不均衡対策\n",
    "print(f'Best score: {tuner_cv.best_score}')\n",
    "print('Best params:')\n",
    "print(tuner_cv.best_params)\n",
    "model = tuner_cv.get_best_booster()\n",
    "pred = model.predict(np.array(te_data[0]), num_iteration=model.best_iteration)\n",
    "mean_pred = np.mean(pred, axis=0)\n",
    "print(mean_pred)\n",
    "print(roc_auc_score(te_data[1], mean_pred))\n",
    "print(log_loss(te_data[1], mean_pred))"
   ]
  }
 ],
 "metadata": {
  "kernelspec": {
   "display_name": "test",
   "language": "python",
   "name": "python3"
  },
  "language_info": {
   "codemirror_mode": {
    "name": "ipython",
    "version": 3
   },
   "file_extension": ".py",
   "mimetype": "text/x-python",
   "name": "python",
   "nbconvert_exporter": "python",
   "pygments_lexer": "ipython3",
   "version": "3.9.16"
  }
 },
 "nbformat": 4,
 "nbformat_minor": 2
}
