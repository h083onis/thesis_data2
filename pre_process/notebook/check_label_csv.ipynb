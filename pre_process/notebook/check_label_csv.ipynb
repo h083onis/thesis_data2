{
 "cells": [
  {
   "cell_type": "code",
   "execution_count": 4,
   "metadata": {},
   "outputs": [],
   "source": [
    "import pandas as pd"
   ]
  },
  {
   "cell_type": "code",
   "execution_count": 15,
   "metadata": {},
   "outputs": [],
   "source": [
    "df = pd.read_csv('../resource/deepjit_data/openstack.csv', header=0, index_col=0)"
   ]
  },
  {
   "cell_type": "code",
   "execution_count": 16,
   "metadata": {},
   "outputs": [
    {
     "data": {
      "text/html": [
       "<div>\n",
       "<style scoped>\n",
       "    .dataframe tbody tr th:only-of-type {\n",
       "        vertical-align: middle;\n",
       "    }\n",
       "\n",
       "    .dataframe tbody tr th {\n",
       "        vertical-align: top;\n",
       "    }\n",
       "\n",
       "    .dataframe thead th {\n",
       "        text-align: right;\n",
       "    }\n",
       "</style>\n",
       "<table border=\"1\" class=\"dataframe\">\n",
       "  <thead>\n",
       "    <tr style=\"text-align: right;\">\n",
       "      <th></th>\n",
       "      <th>commit_id</th>\n",
       "      <th>author_date</th>\n",
       "      <th>bugcount</th>\n",
       "      <th>fixcount</th>\n",
       "      <th>la</th>\n",
       "      <th>ld</th>\n",
       "      <th>nf</th>\n",
       "      <th>nd</th>\n",
       "      <th>ns</th>\n",
       "      <th>ent</th>\n",
       "      <th>...</th>\n",
       "      <th>rsexp</th>\n",
       "      <th>osexp</th>\n",
       "      <th>asawr</th>\n",
       "      <th>rsawr</th>\n",
       "      <th>osawr</th>\n",
       "      <th>churn</th>\n",
       "      <th>buggy</th>\n",
       "      <th>fix</th>\n",
       "      <th>bugdens</th>\n",
       "      <th>strata</th>\n",
       "    </tr>\n",
       "  </thead>\n",
       "  <tbody>\n",
       "    <tr>\n",
       "      <th>18339</th>\n",
       "      <td>adf912b98c527f5f92686543963c1665dee8c119</td>\n",
       "      <td>1322599384</td>\n",
       "      <td>0</td>\n",
       "      <td>0</td>\n",
       "      <td>9</td>\n",
       "      <td>9</td>\n",
       "      <td>3</td>\n",
       "      <td>1</td>\n",
       "      <td>1</td>\n",
       "      <td>0.905713</td>\n",
       "      <td>...</td>\n",
       "      <td>72.0</td>\n",
       "      <td>76.0</td>\n",
       "      <td>0.027778</td>\n",
       "      <td>0.253472</td>\n",
       "      <td>0.267361</td>\n",
       "      <td>18</td>\n",
       "      <td>False</td>\n",
       "      <td>False</td>\n",
       "      <td>0.0</td>\n",
       "      <td>0</td>\n",
       "    </tr>\n",
       "    <tr>\n",
       "      <th>1337</th>\n",
       "      <td>0d54770ee109bc7d598539b9238affdd1880997b</td>\n",
       "      <td>1322601845</td>\n",
       "      <td>0</td>\n",
       "      <td>0</td>\n",
       "      <td>275</td>\n",
       "      <td>242</td>\n",
       "      <td>8</td>\n",
       "      <td>5</td>\n",
       "      <td>1</td>\n",
       "      <td>0.583216</td>\n",
       "      <td>...</td>\n",
       "      <td>196.0</td>\n",
       "      <td>201.0</td>\n",
       "      <td>0.114187</td>\n",
       "      <td>0.681661</td>\n",
       "      <td>0.698962</td>\n",
       "      <td>517</td>\n",
       "      <td>False</td>\n",
       "      <td>False</td>\n",
       "      <td>0.0</td>\n",
       "      <td>0</td>\n",
       "    </tr>\n",
       "    <tr>\n",
       "      <th>170</th>\n",
       "      <td>01afc61e6201ea22926f27e82280f0b3c6f2362f</td>\n",
       "      <td>1322641653</td>\n",
       "      <td>0</td>\n",
       "      <td>0</td>\n",
       "      <td>2</td>\n",
       "      <td>4</td>\n",
       "      <td>1</td>\n",
       "      <td>1</td>\n",
       "      <td>1</td>\n",
       "      <td>0.000000</td>\n",
       "      <td>...</td>\n",
       "      <td>101.0</td>\n",
       "      <td>146.0</td>\n",
       "      <td>0.224138</td>\n",
       "      <td>0.351724</td>\n",
       "      <td>0.506897</td>\n",
       "      <td>6</td>\n",
       "      <td>False</td>\n",
       "      <td>False</td>\n",
       "      <td>0.0</td>\n",
       "      <td>0</td>\n",
       "    </tr>\n",
       "    <tr>\n",
       "      <th>19221</th>\n",
       "      <td>b69e89f60c635f1e0fb5e25696e3b5ad26416b56</td>\n",
       "      <td>1322646323</td>\n",
       "      <td>0</td>\n",
       "      <td>0</td>\n",
       "      <td>25</td>\n",
       "      <td>0</td>\n",
       "      <td>2</td>\n",
       "      <td>2</td>\n",
       "      <td>1</td>\n",
       "      <td>0.402179</td>\n",
       "      <td>...</td>\n",
       "      <td>130.0</td>\n",
       "      <td>130.0</td>\n",
       "      <td>0.230241</td>\n",
       "      <td>0.450172</td>\n",
       "      <td>0.450172</td>\n",
       "      <td>25</td>\n",
       "      <td>False</td>\n",
       "      <td>False</td>\n",
       "      <td>0.0</td>\n",
       "      <td>0</td>\n",
       "    </tr>\n",
       "    <tr>\n",
       "      <th>13134</th>\n",
       "      <td>7c11490677bc49086271ee377e6a8076eebe15f6</td>\n",
       "      <td>1322652300</td>\n",
       "      <td>0</td>\n",
       "      <td>0</td>\n",
       "      <td>19</td>\n",
       "      <td>1</td>\n",
       "      <td>2</td>\n",
       "      <td>2</td>\n",
       "      <td>1</td>\n",
       "      <td>0.609840</td>\n",
       "      <td>...</td>\n",
       "      <td>150.0</td>\n",
       "      <td>151.0</td>\n",
       "      <td>0.232877</td>\n",
       "      <td>0.517123</td>\n",
       "      <td>0.520548</td>\n",
       "      <td>20</td>\n",
       "      <td>False</td>\n",
       "      <td>False</td>\n",
       "      <td>0.0</td>\n",
       "      <td>0</td>\n",
       "    </tr>\n",
       "    <tr>\n",
       "      <th>...</th>\n",
       "      <td>...</td>\n",
       "      <td>...</td>\n",
       "      <td>...</td>\n",
       "      <td>...</td>\n",
       "      <td>...</td>\n",
       "      <td>...</td>\n",
       "      <td>...</td>\n",
       "      <td>...</td>\n",
       "      <td>...</td>\n",
       "      <td>...</td>\n",
       "      <td>...</td>\n",
       "      <td>...</td>\n",
       "      <td>...</td>\n",
       "      <td>...</td>\n",
       "      <td>...</td>\n",
       "      <td>...</td>\n",
       "      <td>...</td>\n",
       "      <td>...</td>\n",
       "      <td>...</td>\n",
       "      <td>...</td>\n",
       "      <td>...</td>\n",
       "    </tr>\n",
       "    <tr>\n",
       "      <th>25569</th>\n",
       "      <td>f3aafeb2f948936d2f5bad8008d829412289d309</td>\n",
       "      <td>1393579237</td>\n",
       "      <td>0</td>\n",
       "      <td>0</td>\n",
       "      <td>1777</td>\n",
       "      <td>356</td>\n",
       "      <td>20</td>\n",
       "      <td>7</td>\n",
       "      <td>1</td>\n",
       "      <td>0.748194</td>\n",
       "      <td>...</td>\n",
       "      <td>1030.0</td>\n",
       "      <td>1033.0</td>\n",
       "      <td>0.004040</td>\n",
       "      <td>0.694276</td>\n",
       "      <td>0.696296</td>\n",
       "      <td>2133</td>\n",
       "      <td>False</td>\n",
       "      <td>False</td>\n",
       "      <td>0.0</td>\n",
       "      <td>4</td>\n",
       "    </tr>\n",
       "    <tr>\n",
       "      <th>3357</th>\n",
       "      <td>209c09a76f5e90aaa2899804686e6a513703d887</td>\n",
       "      <td>1393582789</td>\n",
       "      <td>0</td>\n",
       "      <td>0</td>\n",
       "      <td>2</td>\n",
       "      <td>0</td>\n",
       "      <td>1</td>\n",
       "      <td>1</td>\n",
       "      <td>1</td>\n",
       "      <td>0.000000</td>\n",
       "      <td>...</td>\n",
       "      <td>0.0</td>\n",
       "      <td>0.0</td>\n",
       "      <td>0.000000</td>\n",
       "      <td>0.000000</td>\n",
       "      <td>0.000000</td>\n",
       "      <td>2</td>\n",
       "      <td>False</td>\n",
       "      <td>False</td>\n",
       "      <td>0.0</td>\n",
       "      <td>4</td>\n",
       "    </tr>\n",
       "    <tr>\n",
       "      <th>3269</th>\n",
       "      <td>1fdc4afa157887d45e2f326d7373a5b1e8ee7aeb</td>\n",
       "      <td>1393586852</td>\n",
       "      <td>0</td>\n",
       "      <td>0</td>\n",
       "      <td>180</td>\n",
       "      <td>333</td>\n",
       "      <td>90</td>\n",
       "      <td>39</td>\n",
       "      <td>1</td>\n",
       "      <td>0.846758</td>\n",
       "      <td>...</td>\n",
       "      <td>703.0</td>\n",
       "      <td>703.0</td>\n",
       "      <td>0.000268</td>\n",
       "      <td>0.094218</td>\n",
       "      <td>0.094218</td>\n",
       "      <td>513</td>\n",
       "      <td>False</td>\n",
       "      <td>False</td>\n",
       "      <td>0.0</td>\n",
       "      <td>4</td>\n",
       "    </tr>\n",
       "    <tr>\n",
       "      <th>18048</th>\n",
       "      <td>aaf5762be5d37cac022dc321b6400b9743a25303</td>\n",
       "      <td>1393589300</td>\n",
       "      <td>0</td>\n",
       "      <td>1</td>\n",
       "      <td>4</td>\n",
       "      <td>8</td>\n",
       "      <td>2</td>\n",
       "      <td>2</td>\n",
       "      <td>1</td>\n",
       "      <td>0.413817</td>\n",
       "      <td>...</td>\n",
       "      <td>2630.0</td>\n",
       "      <td>2634.0</td>\n",
       "      <td>0.004550</td>\n",
       "      <td>0.352067</td>\n",
       "      <td>0.352603</td>\n",
       "      <td>12</td>\n",
       "      <td>False</td>\n",
       "      <td>True</td>\n",
       "      <td>0.0</td>\n",
       "      <td>4</td>\n",
       "    </tr>\n",
       "    <tr>\n",
       "      <th>5866</th>\n",
       "      <td>3824051b1e5618388a17c88867a3037397bc96b7</td>\n",
       "      <td>1393590699</td>\n",
       "      <td>0</td>\n",
       "      <td>1</td>\n",
       "      <td>31</td>\n",
       "      <td>8</td>\n",
       "      <td>2</td>\n",
       "      <td>2</td>\n",
       "      <td>1</td>\n",
       "      <td>0.858231</td>\n",
       "      <td>...</td>\n",
       "      <td>705.0</td>\n",
       "      <td>727.0</td>\n",
       "      <td>0.011105</td>\n",
       "      <td>0.094461</td>\n",
       "      <td>0.097404</td>\n",
       "      <td>39</td>\n",
       "      <td>False</td>\n",
       "      <td>True</td>\n",
       "      <td>0.0</td>\n",
       "      <td>4</td>\n",
       "    </tr>\n",
       "  </tbody>\n",
       "</table>\n",
       "<p>12374 rows × 36 columns</p>\n",
       "</div>"
      ],
      "text/plain": [
       "                                      commit_id  author_date  bugcount  \\\n",
       "18339  adf912b98c527f5f92686543963c1665dee8c119   1322599384         0   \n",
       "1337   0d54770ee109bc7d598539b9238affdd1880997b   1322601845         0   \n",
       "170    01afc61e6201ea22926f27e82280f0b3c6f2362f   1322641653         0   \n",
       "19221  b69e89f60c635f1e0fb5e25696e3b5ad26416b56   1322646323         0   \n",
       "13134  7c11490677bc49086271ee377e6a8076eebe15f6   1322652300         0   \n",
       "...                                         ...          ...       ...   \n",
       "25569  f3aafeb2f948936d2f5bad8008d829412289d309   1393579237         0   \n",
       "3357   209c09a76f5e90aaa2899804686e6a513703d887   1393582789         0   \n",
       "3269   1fdc4afa157887d45e2f326d7373a5b1e8ee7aeb   1393586852         0   \n",
       "18048  aaf5762be5d37cac022dc321b6400b9743a25303   1393589300         0   \n",
       "5866   3824051b1e5618388a17c88867a3037397bc96b7   1393590699         0   \n",
       "\n",
       "       fixcount    la   ld  nf  nd  ns       ent  ...   rsexp   osexp  \\\n",
       "18339         0     9    9   3   1   1  0.905713  ...    72.0    76.0   \n",
       "1337          0   275  242   8   5   1  0.583216  ...   196.0   201.0   \n",
       "170           0     2    4   1   1   1  0.000000  ...   101.0   146.0   \n",
       "19221         0    25    0   2   2   1  0.402179  ...   130.0   130.0   \n",
       "13134         0    19    1   2   2   1  0.609840  ...   150.0   151.0   \n",
       "...         ...   ...  ...  ..  ..  ..       ...  ...     ...     ...   \n",
       "25569         0  1777  356  20   7   1  0.748194  ...  1030.0  1033.0   \n",
       "3357          0     2    0   1   1   1  0.000000  ...     0.0     0.0   \n",
       "3269          0   180  333  90  39   1  0.846758  ...   703.0   703.0   \n",
       "18048         1     4    8   2   2   1  0.413817  ...  2630.0  2634.0   \n",
       "5866          1    31    8   2   2   1  0.858231  ...   705.0   727.0   \n",
       "\n",
       "          asawr     rsawr     osawr  churn  buggy    fix  bugdens  strata  \n",
       "18339  0.027778  0.253472  0.267361     18  False  False      0.0       0  \n",
       "1337   0.114187  0.681661  0.698962    517  False  False      0.0       0  \n",
       "170    0.224138  0.351724  0.506897      6  False  False      0.0       0  \n",
       "19221  0.230241  0.450172  0.450172     25  False  False      0.0       0  \n",
       "13134  0.232877  0.517123  0.520548     20  False  False      0.0       0  \n",
       "...         ...       ...       ...    ...    ...    ...      ...     ...  \n",
       "25569  0.004040  0.694276  0.696296   2133  False  False      0.0       4  \n",
       "3357   0.000000  0.000000  0.000000      2  False  False      0.0       4  \n",
       "3269   0.000268  0.094218  0.094218    513  False  False      0.0       4  \n",
       "18048  0.004550  0.352067  0.352603     12  False   True      0.0       4  \n",
       "5866   0.011105  0.094461  0.097404     39  False   True      0.0       4  \n",
       "\n",
       "[12374 rows x 36 columns]"
      ]
     },
     "execution_count": 16,
     "metadata": {},
     "output_type": "execute_result"
    }
   ],
   "source": [
    "df_s = df.sort_values('author_date')\n",
    "df_s"
   ]
  },
  {
   "cell_type": "code",
   "execution_count": 17,
   "metadata": {},
   "outputs": [
    {
     "data": {
      "text/plain": [
       "strata\n",
       "3    3781\n",
       "2    2864\n",
       "1    2560\n",
       "0    1669\n",
       "4    1500\n",
       "Name: count, dtype: int64"
      ]
     },
     "execution_count": 17,
     "metadata": {},
     "output_type": "execute_result"
    }
   ],
   "source": [
    "df_s['strata'].value_counts()"
   ]
  },
  {
   "cell_type": "code",
   "execution_count": 18,
   "metadata": {},
   "outputs": [],
   "source": [
    "df_latest = df_s[df_s['strata'] == 4]"
   ]
  },
  {
   "cell_type": "code",
   "execution_count": 1,
   "metadata": {},
   "outputs": [],
   "source": [
    "import pickle\n",
    "with open('../resource/pre_process_data/qt_test.pkl', 'rb') as f:\n",
    "    load = pickle.load(f)"
   ]
  },
  {
   "cell_type": "code",
   "execution_count": 14,
   "metadata": {},
   "outputs": [
    {
     "data": {
      "text/plain": [
       "2052"
      ]
     },
     "execution_count": 14,
     "metadata": {},
     "output_type": "execute_result"
    }
   ],
   "source": [
    "len(load[5])"
   ]
  },
  {
   "cell_type": "code",
   "execution_count": 3,
   "metadata": {},
   "outputs": [
    {
     "ename": "NameError",
     "evalue": "name 'df_s' is not defined",
     "output_type": "error",
     "traceback": [
      "\u001b[1;31m---------------------------------------------------------------------------\u001b[0m",
      "\u001b[1;31mNameError\u001b[0m                                 Traceback (most recent call last)",
      "\u001b[1;32mc:\\Users\\masak\\workspace\\lab\\thesis_data2\\pre_process\\notebook\\check_label_csv.ipynb Cell 8\u001b[0m line \u001b[0;36m1\n\u001b[1;32m----> <a href='vscode-notebook-cell:/c%3A/Users/masak/workspace/lab/thesis_data2/pre_process/notebook/check_label_csv.ipynb#X10sZmlsZQ%3D%3D?line=0'>1</a>\u001b[0m train_df \u001b[39m=\u001b[39m df_s[df_s[\u001b[39m'\u001b[39m\u001b[39mcommit_id\u001b[39m\u001b[39m'\u001b[39m]\u001b[39m.\u001b[39misin(load[\u001b[39m0\u001b[39m])]\n\u001b[0;32m      <a href='vscode-notebook-cell:/c%3A/Users/masak/workspace/lab/thesis_data2/pre_process/notebook/check_label_csv.ipynb#X10sZmlsZQ%3D%3D?line=1'>2</a>\u001b[0m train_df[\u001b[39m'\u001b[39m\u001b[39mbuggy\u001b[39m\u001b[39m'\u001b[39m]\u001b[39m.\u001b[39mvalue_counts()\n",
      "\u001b[1;31mNameError\u001b[0m: name 'df_s' is not defined"
     ]
    }
   ],
   "source": [
    "train_df = df_s[df_s['commit_id'].isin(load[0])]\n",
    "train_df['buggy'].value_counts()"
   ]
  },
  {
   "cell_type": "code",
   "execution_count": 11,
   "metadata": {},
   "outputs": [
    {
     "data": {
      "text/plain": [
       "buggy\n",
       "False    1933\n",
       "True      119\n",
       "Name: count, dtype: int64"
      ]
     },
     "execution_count": 11,
     "metadata": {},
     "output_type": "execute_result"
    }
   ],
   "source": [
    "df_4_commit = df_latest[df_latest['commit_id'].isin(load[0])]\n",
    "df_4_commit['buggy'].value_counts()"
   ]
  },
  {
   "cell_type": "code",
   "execution_count": 3,
   "metadata": {},
   "outputs": [],
   "source": [
    "tmp = tuple([0,1,1])"
   ]
  },
  {
   "cell_type": "code",
   "execution_count": 4,
   "metadata": {},
   "outputs": [
    {
     "data": {
      "text/plain": [
       "(0, 1)"
      ]
     },
     "execution_count": 4,
     "metadata": {},
     "output_type": "execute_result"
    }
   ],
   "source": [
    "tmp[:-1]"
   ]
  },
  {
   "cell_type": "code",
   "execution_count": 5,
   "metadata": {},
   "outputs": [],
   "source": [
    "tmp = tuple([0,1])"
   ]
  },
  {
   "cell_type": "code",
   "execution_count": 6,
   "metadata": {},
   "outputs": [
    {
     "data": {
      "text/plain": [
       "(0,)"
      ]
     },
     "execution_count": 6,
     "metadata": {},
     "output_type": "execute_result"
    }
   ],
   "source": [
    "tmp[:-1]"
   ]
  }
 ],
 "metadata": {
  "kernelspec": {
   "display_name": "test",
   "language": "python",
   "name": "python3"
  },
  "language_info": {
   "codemirror_mode": {
    "name": "ipython",
    "version": 3
   },
   "file_extension": ".py",
   "mimetype": "text/x-python",
   "name": "python",
   "nbconvert_exporter": "python",
   "pygments_lexer": "ipython3",
   "version": "3.9.16"
  }
 },
 "nbformat": 4,
 "nbformat_minor": 2
}
